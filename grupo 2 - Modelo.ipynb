{
 "cells": [
  {
   "cell_type": "code",
   "execution_count": 9,
   "metadata": {},
   "outputs": [
    {
     "name": "stdout",
     "output_type": "stream",
     "text": [
      "/app\n"
     ]
    },
    {
     "name": "stderr",
     "output_type": "stream",
     "text": [
      "/usr/local/lib/python3.12/site-packages/IPython/core/magics/osm.py:417: UserWarning:\n",
      "\n",
      "This is now an optional IPython functionality, setting dhist requires you to install the `pickleshare` library.\n",
      "\n"
     ]
    }
   ],
   "source": [
    "%cd /app"
   ]
  },
  {
   "cell_type": "code",
   "execution_count": 10,
   "metadata": {},
   "outputs": [],
   "source": [
    "import numpy as np \n",
    "import pandas as pd \n",
    "import lightgbm as lgb\n",
    "import optuna\n",
    "from optuna.artifacts import FileSystemArtifactStore, upload_artifact\n",
    "from sklearn.model_selection import train_test_split, StratifiedKFold\n",
    "from sklearn.metrics import cohen_kappa_score, accuracy_score, balanced_accuracy_score\n",
    "from sklearn.utils import shuffle\n",
    "from plotly import express as px\n",
    "from joblib import load, dump\n",
    "import os\n",
    "\n",
    "from utils import plot_confusion_matrix  # Asegúrate de que utils.py esté en tu directorio de trabajo y correctamente importado\n"
   ]
  },
  {
   "cell_type": "code",
   "execution_count": 11,
   "metadata": {},
   "outputs": [],
   "source": [
    "# Paths\n",
    "BASE_DIR = './'\n",
    "PATH_TO_TRAIN = os.path.join(BASE_DIR, \"input/petfinder-adoption-prediction/train/train.csv\")\n",
    "PATH_TO_MODELS = os.path.join(BASE_DIR, \"UA_MDM_LDI_II/work/models\")\n",
    "PATH_TO_TEMP_FILES = os.path.join(BASE_DIR, \"UA_MDM_LDI_II/work/optuna_temp_artifacts\")\n",
    "PATH_TO_OPTUNA_ARTIFACTS = os.path.join(BASE_DIR, \"UA_MDM_LDI_II/work/optuna_artifacts\")\n",
    "\n",
    "# Datos\n",
    "dataset = pd.read_csv(PATH_TO_TRAIN)\n",
    "\n",
    "# Dividir datos en train y test\n",
    "train, test = train_test_split(dataset, test_size=0.2, random_state=42, stratify=dataset.AdoptionSpeed)\n",
    "\n",
    "# Definir características y etiquetas\n",
    "features = ['Type', 'Age', 'Breed1', 'Breed2', 'Gender', 'Color1', 'Color2', 'Color3', 'MaturitySize', 'FurLength', 'Vaccinated', 'Dewormed', 'Sterilized', 'Health', 'Quantity', 'Fee', 'State', 'VideoAmt', 'PhotoAmt']\n",
    "label = 'AdoptionSpeed'\n",
    "\n",
    "X_train = train[features]\n",
    "y_train = train[label]\n",
    "X_test = test[features]\n",
    "y_test = test[label]"
   ]
  },
  {
   "cell_type": "code",
   "execution_count": 12,
   "metadata": {},
   "outputs": [],
   "source": [
    "# Definición de la métrica personalizada\n",
    "def lgb_custom_metric_kappa(dy_pred, dy_true):\n",
    "    metric_name = 'kappa'\n",
    "    value = cohen_kappa_score(dy_true.get_label(), dy_pred.argmax(axis=1), weights='quadratic')\n",
    "    is_higher_better = True\n",
    "    return(metric_name, value, is_higher_better)\n",
    "\n",
    "# Definición de la función de objetivo para Optuna\n",
    "def refined_cv_es_lgb_objective(trial):\n",
    "    lgb_params = {      \n",
    "        'objective': 'multiclass',\n",
    "        'verbosity': -1,\n",
    "        'num_class': len(y_train.unique()),\n",
    "        'lambda_l1': trial.suggest_float('lambda_l1', 1e-7, 1e-5, log=True),\n",
    "        'lambda_l2': trial.suggest_float('lambda_l2', 1e-7, 1e-5, log=True),\n",
    "        'num_leaves': trial.suggest_int('num_leaves', 70, 90),\n",
    "        'feature_fraction': trial.suggest_float('feature_fraction', 0.5, 0.6),\n",
    "        'bagging_fraction': trial.suggest_float('bagging_fraction', 0.7, 0.8),\n",
    "        'bagging_freq': trial.suggest_int('bagging_freq', 1, 3),\n",
    "        'min_child_samples': trial.suggest_int('min_child_samples', 70, 90),\n",
    "    }\n",
    "\n",
    "    scores_ensemble = np.zeros((len(y_test), len(y_train.unique())))\n",
    "    score_folds = 0\n",
    "    n_splits = 5\n",
    "\n",
    "    skf = StratifiedKFold(n_splits=n_splits)\n",
    "\n",
    "    for i, (if_index, oof_index) in enumerate(skf.split(X_train, y_train)):\n",
    "        lgb_if_dataset = lgb.Dataset(data=X_train.iloc[if_index], label=y_train.iloc[if_index], free_raw_data=False)\n",
    "        lgb_oof_dataset = lgb.Dataset(data=X_train.iloc[oof_index], label=y_train.iloc[oof_index], free_raw_data=False)\n",
    "\n",
    "        lgb_model = lgb.train(lgb_params, lgb_if_dataset, valid_sets=lgb_oof_dataset, callbacks=[lgb.early_stopping(10, verbose=False)], feval=lgb_custom_metric_kappa)\n",
    "\n",
    "        scores_ensemble = scores_ensemble + lgb_model.predict(X_test)\n",
    "        score_folds = score_folds + cohen_kappa_score(y_train.iloc[oof_index], lgb_model.predict(X_train.iloc[oof_index]).argmax(axis=1), weights='quadratic') / n_splits\n",
    "\n",
    "    predicted_filename = os.path.join(PATH_TO_TEMP_FILES, f'test_{trial.study.study_name}_{trial.number}.joblib')\n",
    "    predicted_df = test.copy()\n",
    "    predicted_df['pred'] = [scores_ensemble[p,:] for p in range(scores_ensemble.shape[0])]\n",
    "    dump(predicted_df, predicted_filename)\n",
    "    upload_artifact(trial, predicted_filename, artifact_store)    \n",
    "\n",
    "    cm_filename = os.path.join(PATH_TO_TEMP_FILES, f'cm_{trial.study.study_name}_{trial.number}.jpg')\n",
    "    plot_confusion_matrix(y_test, scores_ensemble.argmax(axis=1)).write_image(cm_filename)\n",
    "    upload_artifact(trial, cm_filename, artifact_store)\n",
    "\n",
    "    test_score = cohen_kappa_score(y_test, scores_ensemble.argmax(axis=1), weights='quadratic')\n",
    "    trial.set_user_attr(\"test_score\", test_score)\n",
    "\n",
    "    return(score_folds)\n"
   ]
  },
  {
   "cell_type": "code",
   "execution_count": 13,
   "metadata": {},
   "outputs": [
    {
     "name": "stderr",
     "output_type": "stream",
     "text": [
      "/tmp/ipykernel_475102/3818450939.py:1: ExperimentalWarning:\n",
      "\n",
      "FileSystemArtifactStore is experimental (supported from v3.3.0). The interface can change in the future.\n",
      "\n",
      "[I 2024-06-19 19:22:56,947] A new study created in RDB with name: 04 - LGB Multiclass CV mejora\n",
      "/tmp/ipykernel_475102/4139251453.py:42: ExperimentalWarning:\n",
      "\n",
      "upload_artifact is experimental (supported from v3.3.0). The interface can change in the future.\n",
      "\n",
      "/tmp/ipykernel_475102/4139251453.py:46: ExperimentalWarning:\n",
      "\n",
      "upload_artifact is experimental (supported from v3.3.0). The interface can change in the future.\n",
      "\n",
      "[I 2024-06-19 19:23:04,522] Trial 0 finished with value: 0.35821711634973474 and parameters: {'lambda_l1': 3.415509915900981e-06, 'lambda_l2': 9.851500759639637e-07, 'num_leaves': 71, 'feature_fraction': 0.5797037400440351, 'bagging_fraction': 0.7390187686786416, 'bagging_freq': 1, 'min_child_samples': 90}. Best is trial 0 with value: 0.35821711634973474.\n",
      "/tmp/ipykernel_475102/4139251453.py:42: ExperimentalWarning:\n",
      "\n",
      "upload_artifact is experimental (supported from v3.3.0). The interface can change in the future.\n",
      "\n",
      "/tmp/ipykernel_475102/4139251453.py:46: ExperimentalWarning:\n",
      "\n",
      "upload_artifact is experimental (supported from v3.3.0). The interface can change in the future.\n",
      "\n",
      "[I 2024-06-19 19:23:11,153] Trial 1 finished with value: 0.34822888544382824 and parameters: {'lambda_l1': 1.7270578950092103e-07, 'lambda_l2': 2.842844441179967e-06, 'num_leaves': 83, 'feature_fraction': 0.5818893655867664, 'bagging_fraction': 0.740873528053059, 'bagging_freq': 3, 'min_child_samples': 90}. Best is trial 0 with value: 0.35821711634973474.\n",
      "/tmp/ipykernel_475102/4139251453.py:42: ExperimentalWarning:\n",
      "\n",
      "upload_artifact is experimental (supported from v3.3.0). The interface can change in the future.\n",
      "\n",
      "/tmp/ipykernel_475102/4139251453.py:46: ExperimentalWarning:\n",
      "\n",
      "upload_artifact is experimental (supported from v3.3.0). The interface can change in the future.\n",
      "\n",
      "[I 2024-06-19 19:23:21,108] Trial 2 finished with value: 0.35121113962294026 and parameters: {'lambda_l1': 1.085854638985252e-06, 'lambda_l2': 6.518954418512814e-07, 'num_leaves': 88, 'feature_fraction': 0.5171305931230545, 'bagging_fraction': 0.760109281740667, 'bagging_freq': 3, 'min_child_samples': 79}. Best is trial 0 with value: 0.35821711634973474.\n",
      "/tmp/ipykernel_475102/4139251453.py:42: ExperimentalWarning:\n",
      "\n",
      "upload_artifact is experimental (supported from v3.3.0). The interface can change in the future.\n",
      "\n",
      "/tmp/ipykernel_475102/4139251453.py:46: ExperimentalWarning:\n",
      "\n",
      "upload_artifact is experimental (supported from v3.3.0). The interface can change in the future.\n",
      "\n",
      "[I 2024-06-19 19:23:31,116] Trial 3 finished with value: 0.3548634128676762 and parameters: {'lambda_l1': 9.228142877764878e-07, 'lambda_l2': 2.0132404213845704e-06, 'num_leaves': 82, 'feature_fraction': 0.506241797258894, 'bagging_fraction': 0.7772595809913068, 'bagging_freq': 1, 'min_child_samples': 75}. Best is trial 0 with value: 0.35821711634973474.\n",
      "/tmp/ipykernel_475102/4139251453.py:42: ExperimentalWarning:\n",
      "\n",
      "upload_artifact is experimental (supported from v3.3.0). The interface can change in the future.\n",
      "\n",
      "/tmp/ipykernel_475102/4139251453.py:46: ExperimentalWarning:\n",
      "\n",
      "upload_artifact is experimental (supported from v3.3.0). The interface can change in the future.\n",
      "\n",
      "[I 2024-06-19 19:23:39,361] Trial 4 finished with value: 0.35163493329830414 and parameters: {'lambda_l1': 1.1631760811593209e-06, 'lambda_l2': 8.690515994153204e-06, 'num_leaves': 76, 'feature_fraction': 0.5775715464731789, 'bagging_fraction': 0.7268836099702322, 'bagging_freq': 1, 'min_child_samples': 75}. Best is trial 0 with value: 0.35821711634973474.\n",
      "/tmp/ipykernel_475102/4139251453.py:42: ExperimentalWarning:\n",
      "\n",
      "upload_artifact is experimental (supported from v3.3.0). The interface can change in the future.\n",
      "\n",
      "/tmp/ipykernel_475102/4139251453.py:46: ExperimentalWarning:\n",
      "\n",
      "upload_artifact is experimental (supported from v3.3.0). The interface can change in the future.\n",
      "\n",
      "[I 2024-06-19 19:23:48,643] Trial 5 finished with value: 0.35958382078164697 and parameters: {'lambda_l1': 3.330612889176005e-07, 'lambda_l2': 2.6293596934446304e-06, 'num_leaves': 87, 'feature_fraction': 0.5291978882922075, 'bagging_fraction': 0.705369301787826, 'bagging_freq': 2, 'min_child_samples': 83}. Best is trial 5 with value: 0.35958382078164697.\n",
      "/tmp/ipykernel_475102/4139251453.py:42: ExperimentalWarning:\n",
      "\n",
      "upload_artifact is experimental (supported from v3.3.0). The interface can change in the future.\n",
      "\n",
      "/tmp/ipykernel_475102/4139251453.py:46: ExperimentalWarning:\n",
      "\n",
      "upload_artifact is experimental (supported from v3.3.0). The interface can change in the future.\n",
      "\n",
      "[I 2024-06-19 19:23:57,953] Trial 6 finished with value: 0.34666263952344245 and parameters: {'lambda_l1': 3.3836014723592634e-06, 'lambda_l2': 3.8697450852608315e-06, 'num_leaves': 90, 'feature_fraction': 0.5962026165729212, 'bagging_fraction': 0.7938308434399386, 'bagging_freq': 1, 'min_child_samples': 75}. Best is trial 5 with value: 0.35958382078164697.\n",
      "/tmp/ipykernel_475102/4139251453.py:42: ExperimentalWarning:\n",
      "\n",
      "upload_artifact is experimental (supported from v3.3.0). The interface can change in the future.\n",
      "\n",
      "/tmp/ipykernel_475102/4139251453.py:46: ExperimentalWarning:\n",
      "\n",
      "upload_artifact is experimental (supported from v3.3.0). The interface can change in the future.\n",
      "\n",
      "[I 2024-06-19 19:24:06,689] Trial 7 finished with value: 0.35360083191785724 and parameters: {'lambda_l1': 3.107748496925068e-06, 'lambda_l2': 2.6521553356462103e-07, 'num_leaves': 78, 'feature_fraction': 0.5583061687889105, 'bagging_fraction': 0.7794967476225103, 'bagging_freq': 2, 'min_child_samples': 76}. Best is trial 5 with value: 0.35958382078164697.\n",
      "/tmp/ipykernel_475102/4139251453.py:42: ExperimentalWarning:\n",
      "\n",
      "upload_artifact is experimental (supported from v3.3.0). The interface can change in the future.\n",
      "\n",
      "/tmp/ipykernel_475102/4139251453.py:46: ExperimentalWarning:\n",
      "\n",
      "upload_artifact is experimental (supported from v3.3.0). The interface can change in the future.\n",
      "\n",
      "[I 2024-06-19 19:24:14,934] Trial 8 finished with value: 0.354975484767466 and parameters: {'lambda_l1': 9.959379039734926e-06, 'lambda_l2': 4.7138521355231317e-07, 'num_leaves': 83, 'feature_fraction': 0.5556721577260282, 'bagging_fraction': 0.757642511935561, 'bagging_freq': 3, 'min_child_samples': 76}. Best is trial 5 with value: 0.35958382078164697.\n",
      "/tmp/ipykernel_475102/4139251453.py:42: ExperimentalWarning:\n",
      "\n",
      "upload_artifact is experimental (supported from v3.3.0). The interface can change in the future.\n",
      "\n",
      "/tmp/ipykernel_475102/4139251453.py:46: ExperimentalWarning:\n",
      "\n",
      "upload_artifact is experimental (supported from v3.3.0). The interface can change in the future.\n",
      "\n",
      "[I 2024-06-19 19:24:24,755] Trial 9 finished with value: 0.36034388942502016 and parameters: {'lambda_l1': 9.702931926380855e-07, 'lambda_l2': 1.4819590676936285e-07, 'num_leaves': 84, 'feature_fraction': 0.5456325669354618, 'bagging_fraction': 0.7738559215047445, 'bagging_freq': 1, 'min_child_samples': 76}. Best is trial 9 with value: 0.36034388942502016.\n",
      "/tmp/ipykernel_475102/4139251453.py:42: ExperimentalWarning:\n",
      "\n",
      "upload_artifact is experimental (supported from v3.3.0). The interface can change in the future.\n",
      "\n",
      "/tmp/ipykernel_475102/4139251453.py:46: ExperimentalWarning:\n",
      "\n",
      "upload_artifact is experimental (supported from v3.3.0). The interface can change in the future.\n",
      "\n",
      "[I 2024-06-19 19:24:35,495] Trial 10 finished with value: 0.3562194030762487 and parameters: {'lambda_l1': 3.9221267358120743e-07, 'lambda_l2': 1.0315822342841761e-07, 'num_leaves': 74, 'feature_fraction': 0.5387523965710864, 'bagging_fraction': 0.7977550627648329, 'bagging_freq': 2, 'min_child_samples': 70}. Best is trial 9 with value: 0.36034388942502016.\n",
      "/tmp/ipykernel_475102/4139251453.py:42: ExperimentalWarning:\n",
      "\n",
      "upload_artifact is experimental (supported from v3.3.0). The interface can change in the future.\n",
      "\n",
      "/tmp/ipykernel_475102/4139251453.py:46: ExperimentalWarning:\n",
      "\n",
      "upload_artifact is experimental (supported from v3.3.0). The interface can change in the future.\n",
      "\n",
      "[I 2024-06-19 19:24:44,010] Trial 11 finished with value: 0.3620839740451287 and parameters: {'lambda_l1': 1.349965801677323e-07, 'lambda_l2': 1.1302792497561442e-07, 'num_leaves': 86, 'feature_fraction': 0.5327586123960477, 'bagging_fraction': 0.7007343649273515, 'bagging_freq': 2, 'min_child_samples': 84}. Best is trial 11 with value: 0.3620839740451287.\n",
      "/tmp/ipykernel_475102/4139251453.py:42: ExperimentalWarning:\n",
      "\n",
      "upload_artifact is experimental (supported from v3.3.0). The interface can change in the future.\n",
      "\n",
      "/tmp/ipykernel_475102/4139251453.py:46: ExperimentalWarning:\n",
      "\n",
      "upload_artifact is experimental (supported from v3.3.0). The interface can change in the future.\n",
      "\n",
      "[I 2024-06-19 19:24:52,194] Trial 12 finished with value: 0.3568038484665573 and parameters: {'lambda_l1': 1.0292674360543146e-07, 'lambda_l2': 1.0084774561212491e-07, 'num_leaves': 86, 'feature_fraction': 0.5397927381990443, 'bagging_fraction': 0.7006216657394313, 'bagging_freq': 2, 'min_child_samples': 85}. Best is trial 11 with value: 0.3620839740451287.\n",
      "/tmp/ipykernel_475102/4139251453.py:42: ExperimentalWarning:\n",
      "\n",
      "upload_artifact is experimental (supported from v3.3.0). The interface can change in the future.\n",
      "\n",
      "/tmp/ipykernel_475102/4139251453.py:46: ExperimentalWarning:\n",
      "\n",
      "upload_artifact is experimental (supported from v3.3.0). The interface can change in the future.\n",
      "\n",
      "[I 2024-06-19 19:25:00,579] Trial 13 finished with value: 0.35250305304209717 and parameters: {'lambda_l1': 4.5188397590087885e-07, 'lambda_l2': 1.9990284483795768e-07, 'num_leaves': 80, 'feature_fraction': 0.5239269651419518, 'bagging_fraction': 0.7178860504195473, 'bagging_freq': 1, 'min_child_samples': 85}. Best is trial 11 with value: 0.3620839740451287.\n",
      "/tmp/ipykernel_475102/4139251453.py:42: ExperimentalWarning:\n",
      "\n",
      "upload_artifact is experimental (supported from v3.3.0). The interface can change in the future.\n",
      "\n",
      "/tmp/ipykernel_475102/4139251453.py:46: ExperimentalWarning:\n",
      "\n",
      "upload_artifact is experimental (supported from v3.3.0). The interface can change in the future.\n",
      "\n",
      "[I 2024-06-19 19:25:10,263] Trial 14 finished with value: 0.3605738971889285 and parameters: {'lambda_l1': 1.8438832915357432e-07, 'lambda_l2': 2.2709886439371727e-07, 'num_leaves': 85, 'feature_fraction': 0.5485410352779582, 'bagging_fraction': 0.7751854065418262, 'bagging_freq': 2, 'min_child_samples': 80}. Best is trial 11 with value: 0.3620839740451287.\n",
      "/tmp/ipykernel_475102/4139251453.py:42: ExperimentalWarning:\n",
      "\n",
      "upload_artifact is experimental (supported from v3.3.0). The interface can change in the future.\n",
      "\n",
      "/tmp/ipykernel_475102/4139251453.py:46: ExperimentalWarning:\n",
      "\n",
      "upload_artifact is experimental (supported from v3.3.0). The interface can change in the future.\n",
      "\n",
      "[I 2024-06-19 19:25:19,146] Trial 15 finished with value: 0.35804123782458785 and parameters: {'lambda_l1': 1.0076549747565467e-07, 'lambda_l2': 3.125210282440199e-07, 'num_leaves': 90, 'feature_fraction': 0.5669551817693929, 'bagging_fraction': 0.7639808297465976, 'bagging_freq': 2, 'min_child_samples': 81}. Best is trial 11 with value: 0.3620839740451287.\n",
      "/tmp/ipykernel_475102/4139251453.py:42: ExperimentalWarning:\n",
      "\n",
      "upload_artifact is experimental (supported from v3.3.0). The interface can change in the future.\n",
      "\n",
      "/tmp/ipykernel_475102/4139251453.py:46: ExperimentalWarning:\n",
      "\n",
      "upload_artifact is experimental (supported from v3.3.0). The interface can change in the future.\n",
      "\n",
      "[I 2024-06-19 19:25:27,938] Trial 16 finished with value: 0.35882313246955916 and parameters: {'lambda_l1': 2.1255370084246806e-07, 'lambda_l2': 3.5084629588809817e-07, 'num_leaves': 85, 'feature_fraction': 0.5013721125773328, 'bagging_fraction': 0.7429317128731787, 'bagging_freq': 2, 'min_child_samples': 87}. Best is trial 11 with value: 0.3620839740451287.\n",
      "/tmp/ipykernel_475102/4139251453.py:42: ExperimentalWarning:\n",
      "\n",
      "upload_artifact is experimental (supported from v3.3.0). The interface can change in the future.\n",
      "\n",
      "/tmp/ipykernel_475102/4139251453.py:46: ExperimentalWarning:\n",
      "\n",
      "upload_artifact is experimental (supported from v3.3.0). The interface can change in the future.\n",
      "\n",
      "[I 2024-06-19 19:25:35,813] Trial 17 finished with value: 0.35427761288133364 and parameters: {'lambda_l1': 2.1479395171318567e-07, 'lambda_l2': 1.9398478348473033e-07, 'num_leaves': 80, 'feature_fraction': 0.5315912427551706, 'bagging_fraction': 0.7229615587125836, 'bagging_freq': 3, 'min_child_samples': 80}. Best is trial 11 with value: 0.3620839740451287.\n",
      "/tmp/ipykernel_475102/4139251453.py:42: ExperimentalWarning:\n",
      "\n",
      "upload_artifact is experimental (supported from v3.3.0). The interface can change in the future.\n",
      "\n",
      "/tmp/ipykernel_475102/4139251453.py:46: ExperimentalWarning:\n",
      "\n",
      "upload_artifact is experimental (supported from v3.3.0). The interface can change in the future.\n",
      "\n",
      "[I 2024-06-19 19:25:44,535] Trial 18 finished with value: 0.36268169352880175 and parameters: {'lambda_l1': 6.185045424924037e-07, 'lambda_l2': 7.082088977336489e-07, 'num_leaves': 88, 'feature_fraction': 0.5149377550705707, 'bagging_fraction': 0.7859947211932221, 'bagging_freq': 2, 'min_child_samples': 82}. Best is trial 18 with value: 0.36268169352880175.\n",
      "/tmp/ipykernel_475102/4139251453.py:42: ExperimentalWarning:\n",
      "\n",
      "upload_artifact is experimental (supported from v3.3.0). The interface can change in the future.\n",
      "\n",
      "/tmp/ipykernel_475102/4139251453.py:46: ExperimentalWarning:\n",
      "\n",
      "upload_artifact is experimental (supported from v3.3.0). The interface can change in the future.\n",
      "\n",
      "[I 2024-06-19 19:25:53,943] Trial 19 finished with value: 0.36096658628203426 and parameters: {'lambda_l1': 6.079272481534194e-07, 'lambda_l2': 1.2070159439915158e-06, 'num_leaves': 89, 'feature_fraction': 0.5127756627480695, 'bagging_fraction': 0.7863072663270231, 'bagging_freq': 2, 'min_child_samples': 87}. Best is trial 18 with value: 0.36268169352880175.\n",
      "/tmp/ipykernel_475102/4139251453.py:42: ExperimentalWarning:\n",
      "\n",
      "upload_artifact is experimental (supported from v3.3.0). The interface can change in the future.\n",
      "\n",
      "/tmp/ipykernel_475102/4139251453.py:46: ExperimentalWarning:\n",
      "\n",
      "upload_artifact is experimental (supported from v3.3.0). The interface can change in the future.\n",
      "\n",
      "[I 2024-06-19 19:26:02,281] Trial 20 finished with value: 0.35393241287196875 and parameters: {'lambda_l1': 2.1720707950794203e-06, 'lambda_l2': 6.961511203073669e-07, 'num_leaves': 87, 'feature_fraction': 0.5196959175303025, 'bagging_fraction': 0.7149492176661345, 'bagging_freq': 3, 'min_child_samples': 82}. Best is trial 18 with value: 0.36268169352880175.\n",
      "/tmp/ipykernel_475102/4139251453.py:42: ExperimentalWarning:\n",
      "\n",
      "upload_artifact is experimental (supported from v3.3.0). The interface can change in the future.\n",
      "\n",
      "/tmp/ipykernel_475102/4139251453.py:46: ExperimentalWarning:\n",
      "\n",
      "upload_artifact is experimental (supported from v3.3.0). The interface can change in the future.\n",
      "\n",
      "[I 2024-06-19 19:26:10,955] Trial 21 finished with value: 0.35435020878812895 and parameters: {'lambda_l1': 6.728915247121524e-07, 'lambda_l2': 1.4495693475703223e-06, 'num_leaves': 89, 'feature_fraction': 0.511196869726027, 'bagging_fraction': 0.7888594488129089, 'bagging_freq': 2, 'min_child_samples': 87}. Best is trial 18 with value: 0.36268169352880175.\n",
      "/tmp/ipykernel_475102/4139251453.py:42: ExperimentalWarning:\n",
      "\n",
      "upload_artifact is experimental (supported from v3.3.0). The interface can change in the future.\n",
      "\n",
      "/tmp/ipykernel_475102/4139251453.py:46: ExperimentalWarning:\n",
      "\n",
      "upload_artifact is experimental (supported from v3.3.0). The interface can change in the future.\n",
      "\n",
      "[I 2024-06-19 19:26:19,691] Trial 22 finished with value: 0.3580035496407087 and parameters: {'lambda_l1': 6.000029728784262e-07, 'lambda_l2': 1.2376517791754346e-06, 'num_leaves': 88, 'feature_fraction': 0.5147316692574736, 'bagging_fraction': 0.7850739632137649, 'bagging_freq': 2, 'min_child_samples': 84}. Best is trial 18 with value: 0.36268169352880175.\n",
      "/tmp/ipykernel_475102/4139251453.py:42: ExperimentalWarning:\n",
      "\n",
      "upload_artifact is experimental (supported from v3.3.0). The interface can change in the future.\n",
      "\n",
      "/tmp/ipykernel_475102/4139251453.py:46: ExperimentalWarning:\n",
      "\n",
      "upload_artifact is experimental (supported from v3.3.0). The interface can change in the future.\n",
      "\n",
      "[I 2024-06-19 19:26:28,813] Trial 23 finished with value: 0.3542996532473699 and parameters: {'lambda_l1': 1.664481630408657e-06, 'lambda_l2': 5.008254317912409e-06, 'num_leaves': 90, 'feature_fraction': 0.5001436776003584, 'bagging_fraction': 0.7676525847617655, 'bagging_freq': 2, 'min_child_samples': 87}. Best is trial 18 with value: 0.36268169352880175.\n",
      "/tmp/ipykernel_475102/4139251453.py:42: ExperimentalWarning:\n",
      "\n",
      "upload_artifact is experimental (supported from v3.3.0). The interface can change in the future.\n",
      "\n",
      "/tmp/ipykernel_475102/4139251453.py:46: ExperimentalWarning:\n",
      "\n",
      "upload_artifact is experimental (supported from v3.3.0). The interface can change in the future.\n",
      "\n",
      "[I 2024-06-19 19:26:36,667] Trial 24 finished with value: 0.3556110372725957 and parameters: {'lambda_l1': 2.9685508858545276e-07, 'lambda_l2': 7.91865962831492e-07, 'num_leaves': 86, 'feature_fraction': 0.5274206034544723, 'bagging_fraction': 0.7530097831062941, 'bagging_freq': 2, 'min_child_samples': 88}. Best is trial 18 with value: 0.36268169352880175.\n",
      "/tmp/ipykernel_475102/4139251453.py:42: ExperimentalWarning:\n",
      "\n",
      "upload_artifact is experimental (supported from v3.3.0). The interface can change in the future.\n",
      "\n",
      "/tmp/ipykernel_475102/4139251453.py:46: ExperimentalWarning:\n",
      "\n",
      "upload_artifact is experimental (supported from v3.3.0). The interface can change in the future.\n",
      "\n",
      "[I 2024-06-19 19:26:47,179] Trial 25 finished with value: 0.3580223256939557 and parameters: {'lambda_l1': 5.465454951712354e-07, 'lambda_l2': 1.566117694417681e-06, 'num_leaves': 88, 'feature_fraction': 0.5102130778047088, 'bagging_fraction': 0.7998137379080237, 'bagging_freq': 2, 'min_child_samples': 78}. Best is trial 18 with value: 0.36268169352880175.\n",
      "/tmp/ipykernel_475102/4139251453.py:42: ExperimentalWarning:\n",
      "\n",
      "upload_artifact is experimental (supported from v3.3.0). The interface can change in the future.\n",
      "\n",
      "/tmp/ipykernel_475102/4139251453.py:46: ExperimentalWarning:\n",
      "\n",
      "upload_artifact is experimental (supported from v3.3.0). The interface can change in the future.\n",
      "\n",
      "[I 2024-06-19 19:26:58,568] Trial 26 finished with value: 0.3642202571463245 and parameters: {'lambda_l1': 8.221350677865604e-06, 'lambda_l2': 4.674775425736278e-07, 'num_leaves': 82, 'feature_fraction': 0.5345748642876539, 'bagging_fraction': 0.7857309632035326, 'bagging_freq': 3, 'min_child_samples': 85}. Best is trial 26 with value: 0.3642202571463245.\n",
      "/tmp/ipykernel_475102/4139251453.py:42: ExperimentalWarning:\n",
      "\n",
      "upload_artifact is experimental (supported from v3.3.0). The interface can change in the future.\n",
      "\n",
      "/tmp/ipykernel_475102/4139251453.py:46: ExperimentalWarning:\n",
      "\n",
      "upload_artifact is experimental (supported from v3.3.0). The interface can change in the future.\n",
      "\n",
      "[I 2024-06-19 19:27:06,619] Trial 27 finished with value: 0.3566160478248683 and parameters: {'lambda_l1': 7.74664769200282e-06, 'lambda_l2': 4.722234702039201e-07, 'num_leaves': 81, 'feature_fraction': 0.5335054856999473, 'bagging_fraction': 0.769504368399849, 'bagging_freq': 3, 'min_child_samples': 83}. Best is trial 26 with value: 0.3642202571463245.\n",
      "/tmp/ipykernel_475102/4139251453.py:42: ExperimentalWarning:\n",
      "\n",
      "upload_artifact is experimental (supported from v3.3.0). The interface can change in the future.\n",
      "\n",
      "/tmp/ipykernel_475102/4139251453.py:46: ExperimentalWarning:\n",
      "\n",
      "upload_artifact is experimental (supported from v3.3.0). The interface can change in the future.\n",
      "\n",
      "[I 2024-06-19 19:27:15,017] Trial 28 finished with value: 0.35428296596983144 and parameters: {'lambda_l1': 5.902873468573715e-06, 'lambda_l2': 5.030789976120212e-07, 'num_leaves': 79, 'feature_fraction': 0.5396103083582181, 'bagging_fraction': 0.7338459923334625, 'bagging_freq': 3, 'min_child_samples': 85}. Best is trial 26 with value: 0.3642202571463245.\n",
      "/tmp/ipykernel_475102/4139251453.py:42: ExperimentalWarning:\n",
      "\n",
      "upload_artifact is experimental (supported from v3.3.0). The interface can change in the future.\n",
      "\n",
      "/tmp/ipykernel_475102/4139251453.py:46: ExperimentalWarning:\n",
      "\n",
      "upload_artifact is experimental (supported from v3.3.0). The interface can change in the future.\n",
      "\n",
      "[I 2024-06-19 19:27:22,333] Trial 29 finished with value: 0.3540221418051521 and parameters: {'lambda_l1': 4.5974960877651896e-06, 'lambda_l2': 9.409489758562566e-07, 'num_leaves': 71, 'feature_fraction': 0.5574024183162467, 'bagging_fraction': 0.7461238793746454, 'bagging_freq': 3, 'min_child_samples': 90}. Best is trial 26 with value: 0.3642202571463245.\n",
      "/tmp/ipykernel_475102/4139251453.py:42: ExperimentalWarning:\n",
      "\n",
      "upload_artifact is experimental (supported from v3.3.0). The interface can change in the future.\n",
      "\n",
      "/tmp/ipykernel_475102/4139251453.py:46: ExperimentalWarning:\n",
      "\n",
      "upload_artifact is experimental (supported from v3.3.0). The interface can change in the future.\n",
      "\n",
      "[I 2024-06-19 19:27:30,715] Trial 30 finished with value: 0.35352816273923604 and parameters: {'lambda_l1': 2.005786078519797e-06, 'lambda_l2': 1.4547168353296134e-07, 'num_leaves': 84, 'feature_fraction': 0.523502245600215, 'bagging_fraction': 0.7494656704205623, 'bagging_freq': 3, 'min_child_samples': 83}. Best is trial 26 with value: 0.3642202571463245.\n",
      "/tmp/ipykernel_475102/4139251453.py:42: ExperimentalWarning:\n",
      "\n",
      "upload_artifact is experimental (supported from v3.3.0). The interface can change in the future.\n",
      "\n",
      "/tmp/ipykernel_475102/4139251453.py:46: ExperimentalWarning:\n",
      "\n",
      "upload_artifact is experimental (supported from v3.3.0). The interface can change in the future.\n",
      "\n",
      "[I 2024-06-19 19:27:40,112] Trial 31 finished with value: 0.3643085704175172 and parameters: {'lambda_l1': 1.4605506874970506e-06, 'lambda_l2': 1.0615940167502309e-06, 'num_leaves': 86, 'feature_fraction': 0.5172968029164139, 'bagging_fraction': 0.7862726483275425, 'bagging_freq': 2, 'min_child_samples': 88}. Best is trial 31 with value: 0.3643085704175172.\n",
      "/tmp/ipykernel_475102/4139251453.py:42: ExperimentalWarning:\n",
      "\n",
      "upload_artifact is experimental (supported from v3.3.0). The interface can change in the future.\n",
      "\n",
      "/tmp/ipykernel_475102/4139251453.py:46: ExperimentalWarning:\n",
      "\n",
      "upload_artifact is experimental (supported from v3.3.0). The interface can change in the future.\n",
      "\n",
      "[I 2024-06-19 19:27:48,212] Trial 32 finished with value: 0.3617246736104105 and parameters: {'lambda_l1': 1.5089692789677902e-06, 'lambda_l2': 9.367702878453121e-07, 'num_leaves': 82, 'feature_fraction': 0.5217411485076726, 'bagging_fraction': 0.7914884487439062, 'bagging_freq': 2, 'min_child_samples': 88}. Best is trial 31 with value: 0.3643085704175172.\n",
      "/tmp/ipykernel_475102/4139251453.py:42: ExperimentalWarning:\n",
      "\n",
      "upload_artifact is experimental (supported from v3.3.0). The interface can change in the future.\n",
      "\n",
      "/tmp/ipykernel_475102/4139251453.py:46: ExperimentalWarning:\n",
      "\n",
      "upload_artifact is experimental (supported from v3.3.0). The interface can change in the future.\n",
      "\n",
      "[I 2024-06-19 19:27:57,427] Trial 33 finished with value: 0.35810705751169547 and parameters: {'lambda_l1': 1.3033515438874764e-07, 'lambda_l2': 3.758550657195493e-07, 'num_leaves': 86, 'feature_fraction': 0.5358071105439681, 'bagging_fraction': 0.7804859248862842, 'bagging_freq': 2, 'min_child_samples': 89}. Best is trial 31 with value: 0.3643085704175172.\n",
      "/tmp/ipykernel_475102/4139251453.py:42: ExperimentalWarning:\n",
      "\n",
      "upload_artifact is experimental (supported from v3.3.0). The interface can change in the future.\n",
      "\n",
      "/tmp/ipykernel_475102/4139251453.py:46: ExperimentalWarning:\n",
      "\n",
      "upload_artifact is experimental (supported from v3.3.0). The interface can change in the future.\n",
      "\n",
      "[I 2024-06-19 19:28:06,672] Trial 34 finished with value: 0.36053210182559475 and parameters: {'lambda_l1': 2.6058962833637067e-06, 'lambda_l2': 2.0022376836637567e-06, 'num_leaves': 84, 'feature_fraction': 0.5173525674669478, 'bagging_fraction': 0.7352432016569134, 'bagging_freq': 2, 'min_child_samples': 85}. Best is trial 31 with value: 0.3643085704175172.\n",
      "/tmp/ipykernel_475102/4139251453.py:42: ExperimentalWarning:\n",
      "\n",
      "upload_artifact is experimental (supported from v3.3.0). The interface can change in the future.\n",
      "\n",
      "/tmp/ipykernel_475102/4139251453.py:46: ExperimentalWarning:\n",
      "\n",
      "upload_artifact is experimental (supported from v3.3.0). The interface can change in the future.\n",
      "\n",
      "[I 2024-06-19 19:28:15,981] Trial 35 finished with value: 0.36094299000643354 and parameters: {'lambda_l1': 5.462643876294848e-06, 'lambda_l2': 5.726161083083248e-07, 'num_leaves': 82, 'feature_fraction': 0.5053272753416593, 'bagging_fraction': 0.7821883072755802, 'bagging_freq': 1, 'min_child_samples': 86}. Best is trial 31 with value: 0.3643085704175172.\n",
      "/tmp/ipykernel_475102/4139251453.py:42: ExperimentalWarning:\n",
      "\n",
      "upload_artifact is experimental (supported from v3.3.0). The interface can change in the future.\n",
      "\n",
      "/tmp/ipykernel_475102/4139251453.py:46: ExperimentalWarning:\n",
      "\n",
      "upload_artifact is experimental (supported from v3.3.0). The interface can change in the future.\n",
      "\n",
      "[I 2024-06-19 19:28:24,471] Trial 36 finished with value: 0.35297276733095606 and parameters: {'lambda_l1': 2.767169204056134e-07, 'lambda_l2': 8.099032804766711e-07, 'num_leaves': 77, 'feature_fraction': 0.5301399254998622, 'bagging_fraction': 0.772182484909406, 'bagging_freq': 2, 'min_child_samples': 82}. Best is trial 31 with value: 0.3643085704175172.\n",
      "/tmp/ipykernel_475102/4139251453.py:42: ExperimentalWarning:\n",
      "\n",
      "upload_artifact is experimental (supported from v3.3.0). The interface can change in the future.\n",
      "\n",
      "/tmp/ipykernel_475102/4139251453.py:46: ExperimentalWarning:\n",
      "\n",
      "upload_artifact is experimental (supported from v3.3.0). The interface can change in the future.\n",
      "\n",
      "[I 2024-06-19 19:28:33,814] Trial 37 finished with value: 0.35673661327372796 and parameters: {'lambda_l1': 4.111812230246526e-06, 'lambda_l2': 1.9883430422214468e-06, 'num_leaves': 87, 'feature_fraction': 0.5432422033061493, 'bagging_fraction': 0.7938600207849222, 'bagging_freq': 2, 'min_child_samples': 90}. Best is trial 31 with value: 0.3643085704175172.\n",
      "/tmp/ipykernel_475102/4139251453.py:42: ExperimentalWarning:\n",
      "\n",
      "upload_artifact is experimental (supported from v3.3.0). The interface can change in the future.\n",
      "\n",
      "/tmp/ipykernel_475102/4139251453.py:46: ExperimentalWarning:\n",
      "\n",
      "upload_artifact is experimental (supported from v3.3.0). The interface can change in the future.\n",
      "\n",
      "[I 2024-06-19 19:28:43,345] Trial 38 finished with value: 0.35548558107066974 and parameters: {'lambda_l1': 1.3294834504874995e-06, 'lambda_l2': 2.824713867221322e-06, 'num_leaves': 83, 'feature_fraction': 0.5259933166987123, 'bagging_fraction': 0.7611594678203152, 'bagging_freq': 1, 'min_child_samples': 78}. Best is trial 31 with value: 0.3643085704175172.\n",
      "/tmp/ipykernel_475102/4139251453.py:42: ExperimentalWarning:\n",
      "\n",
      "upload_artifact is experimental (supported from v3.3.0). The interface can change in the future.\n",
      "\n",
      "/tmp/ipykernel_475102/4139251453.py:46: ExperimentalWarning:\n",
      "\n",
      "upload_artifact is experimental (supported from v3.3.0). The interface can change in the future.\n",
      "\n",
      "[I 2024-06-19 19:28:52,512] Trial 39 finished with value: 0.35326554676970356 and parameters: {'lambda_l1': 8.253022845536207e-07, 'lambda_l2': 4.415760987905694e-06, 'num_leaves': 85, 'feature_fraction': 0.5530902977560985, 'bagging_fraction': 0.7116878618305622, 'bagging_freq': 3, 'min_child_samples': 82}. Best is trial 31 with value: 0.3643085704175172.\n",
      "/tmp/ipykernel_475102/4139251453.py:42: ExperimentalWarning:\n",
      "\n",
      "upload_artifact is experimental (supported from v3.3.0). The interface can change in the future.\n",
      "\n",
      "/tmp/ipykernel_475102/4139251453.py:46: ExperimentalWarning:\n",
      "\n",
      "upload_artifact is experimental (supported from v3.3.0). The interface can change in the future.\n",
      "\n",
      "[I 2024-06-19 19:29:02,120] Trial 40 finished with value: 0.36027328157955707 and parameters: {'lambda_l1': 1.384733812999592e-07, 'lambda_l2': 6.220867974478819e-07, 'num_leaves': 88, 'feature_fraction': 0.5077678263889162, 'bagging_fraction': 0.7281689108578702, 'bagging_freq': 2, 'min_child_samples': 84}. Best is trial 31 with value: 0.3643085704175172.\n",
      "/tmp/ipykernel_475102/4139251453.py:42: ExperimentalWarning:\n",
      "\n",
      "upload_artifact is experimental (supported from v3.3.0). The interface can change in the future.\n",
      "\n",
      "/tmp/ipykernel_475102/4139251453.py:46: ExperimentalWarning:\n",
      "\n",
      "upload_artifact is experimental (supported from v3.3.0). The interface can change in the future.\n",
      "\n",
      "[I 2024-06-19 19:29:10,441] Trial 41 finished with value: 0.3575190626471644 and parameters: {'lambda_l1': 1.4717393062140174e-06, 'lambda_l2': 8.972821726448734e-07, 'num_leaves': 82, 'feature_fraction': 0.5220296131427632, 'bagging_fraction': 0.791142144159484, 'bagging_freq': 2, 'min_child_samples': 89}. Best is trial 31 with value: 0.3643085704175172.\n",
      "/tmp/ipykernel_475102/4139251453.py:42: ExperimentalWarning:\n",
      "\n",
      "upload_artifact is experimental (supported from v3.3.0). The interface can change in the future.\n",
      "\n",
      "/tmp/ipykernel_475102/4139251453.py:46: ExperimentalWarning:\n",
      "\n",
      "upload_artifact is experimental (supported from v3.3.0). The interface can change in the future.\n",
      "\n",
      "[I 2024-06-19 19:29:19,182] Trial 42 finished with value: 0.36077514060583554 and parameters: {'lambda_l1': 8.225089960290936e-07, 'lambda_l2': 1.3397305579080323e-06, 'num_leaves': 83, 'feature_fraction': 0.5152918175203091, 'bagging_fraction': 0.7917980602423133, 'bagging_freq': 2, 'min_child_samples': 88}. Best is trial 31 with value: 0.3643085704175172.\n",
      "/tmp/ipykernel_475102/4139251453.py:42: ExperimentalWarning:\n",
      "\n",
      "upload_artifact is experimental (supported from v3.3.0). The interface can change in the future.\n",
      "\n",
      "/tmp/ipykernel_475102/4139251453.py:46: ExperimentalWarning:\n",
      "\n",
      "upload_artifact is experimental (supported from v3.3.0). The interface can change in the future.\n",
      "\n",
      "[I 2024-06-19 19:29:27,059] Trial 43 finished with value: 0.36266226405237967 and parameters: {'lambda_l1': 1.120337873543257e-06, 'lambda_l2': 1.0747590224773836e-06, 'num_leaves': 81, 'feature_fraction': 0.5194322134946427, 'bagging_fraction': 0.7840464361378359, 'bagging_freq': 2, 'min_child_samples': 86}. Best is trial 31 with value: 0.3643085704175172.\n",
      "/tmp/ipykernel_475102/4139251453.py:42: ExperimentalWarning:\n",
      "\n",
      "upload_artifact is experimental (supported from v3.3.0). The interface can change in the future.\n",
      "\n",
      "/tmp/ipykernel_475102/4139251453.py:46: ExperimentalWarning:\n",
      "\n",
      "upload_artifact is experimental (supported from v3.3.0). The interface can change in the future.\n",
      "\n",
      "[I 2024-06-19 19:29:36,130] Trial 44 finished with value: 0.3613356168888287 and parameters: {'lambda_l1': 1.2158082962817014e-06, 'lambda_l2': 1.138445650911924e-06, 'num_leaves': 75, 'feature_fraction': 0.5341532727414571, 'bagging_fraction': 0.7772860540798259, 'bagging_freq': 2, 'min_child_samples': 86}. Best is trial 31 with value: 0.3643085704175172.\n",
      "/tmp/ipykernel_475102/4139251453.py:42: ExperimentalWarning:\n",
      "\n",
      "upload_artifact is experimental (supported from v3.3.0). The interface can change in the future.\n",
      "\n",
      "/tmp/ipykernel_475102/4139251453.py:46: ExperimentalWarning:\n",
      "\n",
      "upload_artifact is experimental (supported from v3.3.0). The interface can change in the future.\n",
      "\n",
      "[I 2024-06-19 19:29:44,754] Trial 45 finished with value: 0.35800100141743685 and parameters: {'lambda_l1': 4.09614434693587e-07, 'lambda_l2': 1.6513812933680256e-06, 'num_leaves': 81, 'feature_fraction': 0.5629285383187275, 'bagging_fraction': 0.7832383506906856, 'bagging_freq': 2, 'min_child_samples': 84}. Best is trial 31 with value: 0.3643085704175172.\n",
      "/tmp/ipykernel_475102/4139251453.py:42: ExperimentalWarning:\n",
      "\n",
      "upload_artifact is experimental (supported from v3.3.0). The interface can change in the future.\n",
      "\n",
      "/tmp/ipykernel_475102/4139251453.py:46: ExperimentalWarning:\n",
      "\n",
      "upload_artifact is experimental (supported from v3.3.0). The interface can change in the future.\n",
      "\n",
      "[I 2024-06-19 19:29:54,199] Trial 46 finished with value: 0.35560712129935584 and parameters: {'lambda_l1': 2.5079524134829956e-06, 'lambda_l2': 3.8544155246427025e-07, 'num_leaves': 79, 'feature_fraction': 0.59831382488, 'bagging_fraction': 0.7967820821484648, 'bagging_freq': 1, 'min_child_samples': 86}. Best is trial 31 with value: 0.3643085704175172.\n",
      "/tmp/ipykernel_475102/4139251453.py:42: ExperimentalWarning:\n",
      "\n",
      "upload_artifact is experimental (supported from v3.3.0). The interface can change in the future.\n",
      "\n",
      "/tmp/ipykernel_475102/4139251453.py:46: ExperimentalWarning:\n",
      "\n",
      "upload_artifact is experimental (supported from v3.3.0). The interface can change in the future.\n",
      "\n",
      "[I 2024-06-19 19:30:03,099] Trial 47 finished with value: 0.3608223995906398 and parameters: {'lambda_l1': 8.694549181617058e-06, 'lambda_l2': 8.216747200653646e-06, 'num_leaves': 86, 'feature_fraction': 0.5188831729703376, 'bagging_fraction': 0.7873794776990708, 'bagging_freq': 2, 'min_child_samples': 81}. Best is trial 31 with value: 0.3643085704175172.\n",
      "/tmp/ipykernel_475102/4139251453.py:42: ExperimentalWarning:\n",
      "\n",
      "upload_artifact is experimental (supported from v3.3.0). The interface can change in the future.\n",
      "\n",
      "/tmp/ipykernel_475102/4139251453.py:46: ExperimentalWarning:\n",
      "\n",
      "upload_artifact is experimental (supported from v3.3.0). The interface can change in the future.\n",
      "\n",
      "[I 2024-06-19 19:30:11,486] Trial 48 finished with value: 0.3545029227434269 and parameters: {'lambda_l1': 1.0179593614209647e-06, 'lambda_l2': 2.7570750516654174e-07, 'num_leaves': 87, 'feature_fraction': 0.5844513838482392, 'bagging_fraction': 0.7664314577558453, 'bagging_freq': 3, 'min_child_samples': 84}. Best is trial 31 with value: 0.3643085704175172.\n",
      "/tmp/ipykernel_475102/4139251453.py:42: ExperimentalWarning:\n",
      "\n",
      "upload_artifact is experimental (supported from v3.3.0). The interface can change in the future.\n",
      "\n",
      "/tmp/ipykernel_475102/4139251453.py:46: ExperimentalWarning:\n",
      "\n",
      "upload_artifact is experimental (supported from v3.3.0). The interface can change in the future.\n",
      "\n",
      "[I 2024-06-19 19:30:20,600] Trial 49 finished with value: 0.3629107893182435 and parameters: {'lambda_l1': 1.877651441822476e-06, 'lambda_l2': 1.3575095252676078e-07, 'num_leaves': 78, 'feature_fraction': 0.5441339707316913, 'bagging_fraction': 0.7563771451584068, 'bagging_freq': 2, 'min_child_samples': 83}. Best is trial 31 with value: 0.3643085704175172.\n",
      "/tmp/ipykernel_475102/4139251453.py:42: ExperimentalWarning:\n",
      "\n",
      "upload_artifact is experimental (supported from v3.3.0). The interface can change in the future.\n",
      "\n",
      "/tmp/ipykernel_475102/4139251453.py:46: ExperimentalWarning:\n",
      "\n",
      "upload_artifact is experimental (supported from v3.3.0). The interface can change in the future.\n",
      "\n",
      "[I 2024-06-19 19:30:30,093] Trial 50 finished with value: 0.3609375738781503 and parameters: {'lambda_l1': 1.8600019983052063e-06, 'lambda_l2': 1.4535287495409766e-07, 'num_leaves': 77, 'feature_fraction': 0.5472857847428789, 'bagging_fraction': 0.7581688822501325, 'bagging_freq': 1, 'min_child_samples': 80}. Best is trial 31 with value: 0.3643085704175172.\n",
      "/tmp/ipykernel_475102/4139251453.py:42: ExperimentalWarning:\n",
      "\n",
      "upload_artifact is experimental (supported from v3.3.0). The interface can change in the future.\n",
      "\n",
      "/tmp/ipykernel_475102/4139251453.py:46: ExperimentalWarning:\n",
      "\n",
      "upload_artifact is experimental (supported from v3.3.0). The interface can change in the future.\n",
      "\n",
      "[I 2024-06-19 19:30:38,962] Trial 51 finished with value: 0.35574117652732873 and parameters: {'lambda_l1': 3.1333840933685078e-06, 'lambda_l2': 1.1541329316928133e-07, 'num_leaves': 78, 'feature_fraction': 0.5424580640770676, 'bagging_fraction': 0.7758770855319502, 'bagging_freq': 2, 'min_child_samples': 83}. Best is trial 31 with value: 0.3643085704175172.\n",
      "/tmp/ipykernel_475102/4139251453.py:42: ExperimentalWarning:\n",
      "\n",
      "upload_artifact is experimental (supported from v3.3.0). The interface can change in the future.\n",
      "\n",
      "/tmp/ipykernel_475102/4139251453.py:46: ExperimentalWarning:\n",
      "\n",
      "upload_artifact is experimental (supported from v3.3.0). The interface can change in the future.\n",
      "\n",
      "[I 2024-06-19 19:30:49,805] Trial 52 finished with value: 0.35627239508176023 and parameters: {'lambda_l1': 7.877891156477045e-07, 'lambda_l2': 1.8516327132969096e-07, 'num_leaves': 80, 'feature_fraction': 0.5283424632074029, 'bagging_fraction': 0.7786518089406357, 'bagging_freq': 2, 'min_child_samples': 71}. Best is trial 31 with value: 0.3643085704175172.\n",
      "/tmp/ipykernel_475102/4139251453.py:42: ExperimentalWarning:\n",
      "\n",
      "upload_artifact is experimental (supported from v3.3.0). The interface can change in the future.\n",
      "\n",
      "/tmp/ipykernel_475102/4139251453.py:46: ExperimentalWarning:\n",
      "\n",
      "upload_artifact is experimental (supported from v3.3.0). The interface can change in the future.\n",
      "\n",
      "[I 2024-06-19 19:30:57,951] Trial 53 finished with value: 0.3563965784940405 and parameters: {'lambda_l1': 1.1436319296307207e-06, 'lambda_l2': 1.1917107103880793e-07, 'num_leaves': 89, 'feature_fraction': 0.5524327052430131, 'bagging_fraction': 0.7718941706575468, 'bagging_freq': 2, 'min_child_samples': 86}. Best is trial 31 with value: 0.3643085704175172.\n",
      "/tmp/ipykernel_475102/4139251453.py:42: ExperimentalWarning:\n",
      "\n",
      "upload_artifact is experimental (supported from v3.3.0). The interface can change in the future.\n",
      "\n",
      "/tmp/ipykernel_475102/4139251453.py:46: ExperimentalWarning:\n",
      "\n",
      "upload_artifact is experimental (supported from v3.3.0). The interface can change in the future.\n",
      "\n",
      "[I 2024-06-19 19:31:07,001] Trial 54 finished with value: 0.3576431034336868 and parameters: {'lambda_l1': 3.694332411873508e-06, 'lambda_l2': 2.446982914580564e-07, 'num_leaves': 74, 'feature_fraction': 0.5356686285233039, 'bagging_fraction': 0.753379190665875, 'bagging_freq': 2, 'min_child_samples': 81}. Best is trial 31 with value: 0.3643085704175172.\n",
      "/tmp/ipykernel_475102/4139251453.py:42: ExperimentalWarning:\n",
      "\n",
      "upload_artifact is experimental (supported from v3.3.0). The interface can change in the future.\n",
      "\n",
      "/tmp/ipykernel_475102/4139251453.py:46: ExperimentalWarning:\n",
      "\n",
      "upload_artifact is experimental (supported from v3.3.0). The interface can change in the future.\n",
      "\n",
      "[I 2024-06-19 19:31:15,907] Trial 55 finished with value: 0.3544969249456677 and parameters: {'lambda_l1': 2.508530236537385e-06, 'lambda_l2': 1.0606747225874771e-06, 'num_leaves': 81, 'feature_fraction': 0.5247374316669069, 'bagging_fraction': 0.700619573228216, 'bagging_freq': 2, 'min_child_samples': 85}. Best is trial 31 with value: 0.3643085704175172.\n",
      "/tmp/ipykernel_475102/4139251453.py:42: ExperimentalWarning:\n",
      "\n",
      "upload_artifact is experimental (supported from v3.3.0). The interface can change in the future.\n",
      "\n",
      "/tmp/ipykernel_475102/4139251453.py:46: ExperimentalWarning:\n",
      "\n",
      "upload_artifact is experimental (supported from v3.3.0). The interface can change in the future.\n",
      "\n",
      "[I 2024-06-19 19:31:24,674] Trial 56 finished with value: 0.3615031937969221 and parameters: {'lambda_l1': 2.392440446282076e-07, 'lambda_l2': 7.025346835121337e-07, 'num_leaves': 79, 'feature_fraction': 0.504594074416596, 'bagging_fraction': 0.7087824219922894, 'bagging_freq': 2, 'min_child_samples': 83}. Best is trial 31 with value: 0.3643085704175172.\n",
      "/tmp/ipykernel_475102/4139251453.py:42: ExperimentalWarning:\n",
      "\n",
      "upload_artifact is experimental (supported from v3.3.0). The interface can change in the future.\n",
      "\n",
      "/tmp/ipykernel_475102/4139251453.py:46: ExperimentalWarning:\n",
      "\n",
      "upload_artifact is experimental (supported from v3.3.0). The interface can change in the future.\n",
      "\n",
      "[I 2024-06-19 19:31:32,685] Trial 57 finished with value: 0.3587747990179005 and parameters: {'lambda_l1': 5.233909214415355e-07, 'lambda_l2': 5.16520840520859e-07, 'num_leaves': 84, 'feature_fraction': 0.5303003920513988, 'bagging_fraction': 0.7961310088393002, 'bagging_freq': 2, 'min_child_samples': 82}. Best is trial 31 with value: 0.3643085704175172.\n",
      "/tmp/ipykernel_475102/4139251453.py:42: ExperimentalWarning:\n",
      "\n",
      "upload_artifact is experimental (supported from v3.3.0). The interface can change in the future.\n",
      "\n",
      "/tmp/ipykernel_475102/4139251453.py:46: ExperimentalWarning:\n",
      "\n",
      "upload_artifact is experimental (supported from v3.3.0). The interface can change in the future.\n",
      "\n",
      "[I 2024-06-19 19:31:41,534] Trial 58 finished with value: 0.3587262663132458 and parameters: {'lambda_l1': 3.3550072930389404e-07, 'lambda_l2': 2.3871681331611083e-06, 'num_leaves': 85, 'feature_fraction': 0.5142643304741993, 'bagging_fraction': 0.7855675854547226, 'bagging_freq': 2, 'min_child_samples': 79}. Best is trial 31 with value: 0.3643085704175172.\n",
      "/tmp/ipykernel_475102/4139251453.py:42: ExperimentalWarning:\n",
      "\n",
      "upload_artifact is experimental (supported from v3.3.0). The interface can change in the future.\n",
      "\n",
      "/tmp/ipykernel_475102/4139251453.py:46: ExperimentalWarning:\n",
      "\n",
      "upload_artifact is experimental (supported from v3.3.0). The interface can change in the future.\n",
      "\n",
      "[I 2024-06-19 19:31:49,016] Trial 59 finished with value: 0.3599492166734396 and parameters: {'lambda_l1': 1.0022737419215876e-06, 'lambda_l2': 1.6734597295488152e-07, 'num_leaves': 78, 'feature_fraction': 0.5386157745259785, 'bagging_fraction': 0.7221494857838884, 'bagging_freq': 2, 'min_child_samples': 89}. Best is trial 31 with value: 0.3643085704175172.\n",
      "/tmp/ipykernel_475102/4139251453.py:42: ExperimentalWarning:\n",
      "\n",
      "upload_artifact is experimental (supported from v3.3.0). The interface can change in the future.\n",
      "\n",
      "/tmp/ipykernel_475102/4139251453.py:46: ExperimentalWarning:\n",
      "\n",
      "upload_artifact is experimental (supported from v3.3.0). The interface can change in the future.\n",
      "\n",
      "[I 2024-06-19 19:31:58,694] Trial 60 finished with value: 0.3535200901911496 and parameters: {'lambda_l1': 6.98977930093229e-07, 'lambda_l2': 1.2257400836481407e-07, 'num_leaves': 89, 'feature_fraction': 0.5097751143521257, 'bagging_fraction': 0.7881036479837213, 'bagging_freq': 2, 'min_child_samples': 84}. Best is trial 31 with value: 0.3643085704175172.\n",
      "/tmp/ipykernel_475102/4139251453.py:42: ExperimentalWarning:\n",
      "\n",
      "upload_artifact is experimental (supported from v3.3.0). The interface can change in the future.\n",
      "\n",
      "/tmp/ipykernel_475102/4139251453.py:46: ExperimentalWarning:\n",
      "\n",
      "upload_artifact is experimental (supported from v3.3.0). The interface can change in the future.\n",
      "\n",
      "[I 2024-06-19 19:32:08,136] Trial 61 finished with value: 0.3580007926562597 and parameters: {'lambda_l1': 1.5144220201412536e-06, 'lambda_l2': 9.901688237899552e-07, 'num_leaves': 82, 'feature_fraction': 0.5196774993580076, 'bagging_fraction': 0.7930772697901431, 'bagging_freq': 2, 'min_child_samples': 88}. Best is trial 31 with value: 0.3643085704175172.\n",
      "/tmp/ipykernel_475102/4139251453.py:42: ExperimentalWarning:\n",
      "\n",
      "upload_artifact is experimental (supported from v3.3.0). The interface can change in the future.\n",
      "\n",
      "/tmp/ipykernel_475102/4139251453.py:46: ExperimentalWarning:\n",
      "\n",
      "upload_artifact is experimental (supported from v3.3.0). The interface can change in the future.\n",
      "\n",
      "[I 2024-06-19 19:32:16,676] Trial 62 finished with value: 0.3529642885782615 and parameters: {'lambda_l1': 1.70733685013363e-06, 'lambda_l2': 8.111626268196374e-07, 'num_leaves': 81, 'feature_fraction': 0.523796239022397, 'bagging_fraction': 0.7811427615364741, 'bagging_freq': 2, 'min_child_samples': 87}. Best is trial 31 with value: 0.3643085704175172.\n",
      "/tmp/ipykernel_475102/4139251453.py:42: ExperimentalWarning:\n",
      "\n",
      "upload_artifact is experimental (supported from v3.3.0). The interface can change in the future.\n",
      "\n",
      "/tmp/ipykernel_475102/4139251453.py:46: ExperimentalWarning:\n",
      "\n",
      "upload_artifact is experimental (supported from v3.3.0). The interface can change in the future.\n",
      "\n",
      "[I 2024-06-19 19:32:26,598] Trial 63 finished with value: 0.356781850685299 and parameters: {'lambda_l1': 1.3329990716142896e-06, 'lambda_l2': 6.940017127145576e-07, 'num_leaves': 80, 'feature_fraction': 0.5208407987309724, 'bagging_fraction': 0.7993606965616203, 'bagging_freq': 2, 'min_child_samples': 88}. Best is trial 31 with value: 0.3643085704175172.\n",
      "/tmp/ipykernel_475102/4139251453.py:42: ExperimentalWarning:\n",
      "\n",
      "upload_artifact is experimental (supported from v3.3.0). The interface can change in the future.\n",
      "\n",
      "/tmp/ipykernel_475102/4139251453.py:46: ExperimentalWarning:\n",
      "\n",
      "upload_artifact is experimental (supported from v3.3.0). The interface can change in the future.\n",
      "\n",
      "[I 2024-06-19 19:32:36,110] Trial 64 finished with value: 0.36182862573987623 and parameters: {'lambda_l1': 1.971439933603044e-06, 'lambda_l2': 4.116859396679194e-07, 'num_leaves': 83, 'feature_fraction': 0.5439814398287298, 'bagging_fraction': 0.7890177097883131, 'bagging_freq': 2, 'min_child_samples': 86}. Best is trial 31 with value: 0.3643085704175172.\n",
      "/tmp/ipykernel_475102/4139251453.py:42: ExperimentalWarning:\n",
      "\n",
      "upload_artifact is experimental (supported from v3.3.0). The interface can change in the future.\n",
      "\n",
      "/tmp/ipykernel_475102/4139251453.py:46: ExperimentalWarning:\n",
      "\n",
      "upload_artifact is experimental (supported from v3.3.0). The interface can change in the future.\n",
      "\n",
      "[I 2024-06-19 19:32:45,130] Trial 65 finished with value: 0.36313191052173294 and parameters: {'lambda_l1': 2.067156700360719e-06, 'lambda_l2': 2.1164950137860243e-07, 'num_leaves': 84, 'feature_fraction': 0.5441752907465683, 'bagging_fraction': 0.7838812431310959, 'bagging_freq': 2, 'min_child_samples': 85}. Best is trial 31 with value: 0.3643085704175172.\n",
      "/tmp/ipykernel_475102/4139251453.py:42: ExperimentalWarning:\n",
      "\n",
      "upload_artifact is experimental (supported from v3.3.0). The interface can change in the future.\n",
      "\n",
      "/tmp/ipykernel_475102/4139251453.py:46: ExperimentalWarning:\n",
      "\n",
      "upload_artifact is experimental (supported from v3.3.0). The interface can change in the future.\n",
      "\n",
      "[I 2024-06-19 19:32:54,269] Trial 66 finished with value: 0.3574504714626947 and parameters: {'lambda_l1': 6.054502719443434e-06, 'lambda_l2': 3.048564817590333e-07, 'num_leaves': 85, 'feature_fraction': 0.5482355695004995, 'bagging_fraction': 0.7842163694931962, 'bagging_freq': 2, 'min_child_samples': 85}. Best is trial 31 with value: 0.3643085704175172.\n",
      "/tmp/ipykernel_475102/4139251453.py:42: ExperimentalWarning:\n",
      "\n",
      "upload_artifact is experimental (supported from v3.3.0). The interface can change in the future.\n",
      "\n",
      "/tmp/ipykernel_475102/4139251453.py:46: ExperimentalWarning:\n",
      "\n",
      "upload_artifact is experimental (supported from v3.3.0). The interface can change in the future.\n",
      "\n",
      "[I 2024-06-19 19:33:03,495] Trial 67 finished with value: 0.3594211924175246 and parameters: {'lambda_l1': 2.4050477112799743e-06, 'lambda_l2': 1.5113646025312525e-07, 'num_leaves': 86, 'feature_fraction': 0.5372037960540895, 'bagging_fraction': 0.7640177694714536, 'bagging_freq': 3, 'min_child_samples': 85}. Best is trial 31 with value: 0.3643085704175172.\n",
      "/tmp/ipykernel_475102/4139251453.py:42: ExperimentalWarning:\n",
      "\n",
      "upload_artifact is experimental (supported from v3.3.0). The interface can change in the future.\n",
      "\n",
      "/tmp/ipykernel_475102/4139251453.py:46: ExperimentalWarning:\n",
      "\n",
      "upload_artifact is experimental (supported from v3.3.0). The interface can change in the future.\n",
      "\n",
      "[I 2024-06-19 19:33:11,751] Trial 68 finished with value: 0.36184489713105106 and parameters: {'lambda_l1': 9.095996210590623e-07, 'lambda_l2': 2.1536131538168826e-07, 'num_leaves': 84, 'feature_fraction': 0.5412768321121213, 'bagging_fraction': 0.7390285854834175, 'bagging_freq': 2, 'min_child_samples': 83}. Best is trial 31 with value: 0.3643085704175172.\n",
      "/tmp/ipykernel_475102/4139251453.py:42: ExperimentalWarning:\n",
      "\n",
      "upload_artifact is experimental (supported from v3.3.0). The interface can change in the future.\n",
      "\n",
      "/tmp/ipykernel_475102/4139251453.py:46: ExperimentalWarning:\n",
      "\n",
      "upload_artifact is experimental (supported from v3.3.0). The interface can change in the future.\n",
      "\n",
      "[I 2024-06-19 19:33:21,542] Trial 69 finished with value: 0.35409322518272696 and parameters: {'lambda_l1': 2.1393949451583045e-06, 'lambda_l2': 1.7912766439197295e-07, 'num_leaves': 87, 'feature_fraction': 0.5325166853275095, 'bagging_fraction': 0.7795624610620286, 'bagging_freq': 2, 'min_child_samples': 84}. Best is trial 31 with value: 0.3643085704175172.\n",
      "/tmp/ipykernel_475102/4139251453.py:42: ExperimentalWarning:\n",
      "\n",
      "upload_artifact is experimental (supported from v3.3.0). The interface can change in the future.\n",
      "\n",
      "/tmp/ipykernel_475102/4139251453.py:46: ExperimentalWarning:\n",
      "\n",
      "upload_artifact is experimental (supported from v3.3.0). The interface can change in the future.\n",
      "\n",
      "[I 2024-06-19 19:33:28,709] Trial 70 finished with value: 0.3505399709836156 and parameters: {'lambda_l1': 1.5290284782939648e-07, 'lambda_l2': 3.1545380056558794e-07, 'num_leaves': 86, 'feature_fraction': 0.5621459434650395, 'bagging_fraction': 0.7740067156686659, 'bagging_freq': 2, 'min_child_samples': 82}. Best is trial 31 with value: 0.3643085704175172.\n",
      "/tmp/ipykernel_475102/4139251453.py:42: ExperimentalWarning:\n",
      "\n",
      "upload_artifact is experimental (supported from v3.3.0). The interface can change in the future.\n",
      "\n",
      "/tmp/ipykernel_475102/4139251453.py:46: ExperimentalWarning:\n",
      "\n",
      "upload_artifact is experimental (supported from v3.3.0). The interface can change in the future.\n",
      "\n",
      "[I 2024-06-19 19:33:35,454] Trial 71 finished with value: 0.3608155143455437 and parameters: {'lambda_l1': 4.788745769848377e-07, 'lambda_l2': 2.1652419704009e-07, 'num_leaves': 84, 'feature_fraction': 0.540383323989988, 'bagging_fraction': 0.7287466747654556, 'bagging_freq': 2, 'min_child_samples': 84}. Best is trial 31 with value: 0.3643085704175172.\n",
      "/tmp/ipykernel_475102/4139251453.py:42: ExperimentalWarning:\n",
      "\n",
      "upload_artifact is experimental (supported from v3.3.0). The interface can change in the future.\n",
      "\n",
      "/tmp/ipykernel_475102/4139251453.py:46: ExperimentalWarning:\n",
      "\n",
      "upload_artifact is experimental (supported from v3.3.0). The interface can change in the future.\n",
      "\n",
      "[I 2024-06-19 19:33:43,654] Trial 72 finished with value: 0.3598366041830686 and parameters: {'lambda_l1': 9.017565863191117e-07, 'lambda_l2': 1.0935109007676347e-07, 'num_leaves': 88, 'feature_fraction': 0.5455732539290018, 'bagging_fraction': 0.7404013083159556, 'bagging_freq': 2, 'min_child_samples': 81}. Best is trial 31 with value: 0.3643085704175172.\n",
      "/tmp/ipykernel_475102/4139251453.py:42: ExperimentalWarning:\n",
      "\n",
      "upload_artifact is experimental (supported from v3.3.0). The interface can change in the future.\n",
      "\n",
      "/tmp/ipykernel_475102/4139251453.py:46: ExperimentalWarning:\n",
      "\n",
      "upload_artifact is experimental (supported from v3.3.0). The interface can change in the future.\n",
      "\n",
      "[I 2024-06-19 19:33:52,133] Trial 73 finished with value: 0.35643469313597553 and parameters: {'lambda_l1': 1.1769116326593645e-06, 'lambda_l2': 2.1665059892594447e-07, 'num_leaves': 85, 'feature_fraction': 0.5529883347543895, 'bagging_fraction': 0.7331679774158969, 'bagging_freq': 2, 'min_child_samples': 83}. Best is trial 31 with value: 0.3643085704175172.\n",
      "/tmp/ipykernel_475102/4139251453.py:42: ExperimentalWarning:\n",
      "\n",
      "upload_artifact is experimental (supported from v3.3.0). The interface can change in the future.\n",
      "\n",
      "/tmp/ipykernel_475102/4139251453.py:46: ExperimentalWarning:\n",
      "\n",
      "upload_artifact is experimental (supported from v3.3.0). The interface can change in the future.\n",
      "\n",
      "[I 2024-06-19 19:34:01,317] Trial 74 finished with value: 0.3660344428918496 and parameters: {'lambda_l1': 2.94174118754558e-06, 'lambda_l2': 1.4014165816880145e-07, 'num_leaves': 84, 'feature_fraction': 0.5503768948899911, 'bagging_fraction': 0.7442540784041128, 'bagging_freq': 2, 'min_child_samples': 83}. Best is trial 74 with value: 0.3660344428918496.\n",
      "/tmp/ipykernel_475102/4139251453.py:42: ExperimentalWarning:\n",
      "\n",
      "upload_artifact is experimental (supported from v3.3.0). The interface can change in the future.\n",
      "\n",
      "/tmp/ipykernel_475102/4139251453.py:46: ExperimentalWarning:\n",
      "\n",
      "upload_artifact is experimental (supported from v3.3.0). The interface can change in the future.\n",
      "\n",
      "[I 2024-06-19 19:34:10,064] Trial 75 finished with value: 0.36186725145721826 and parameters: {'lambda_l1': 5.039369176577892e-06, 'lambda_l2': 1.3767130176555123e-07, 'num_leaves': 83, 'feature_fraction': 0.5495200831481812, 'bagging_fraction': 0.7055299476242802, 'bagging_freq': 2, 'min_child_samples': 85}. Best is trial 74 with value: 0.3660344428918496.\n",
      "/tmp/ipykernel_475102/4139251453.py:42: ExperimentalWarning:\n",
      "\n",
      "upload_artifact is experimental (supported from v3.3.0). The interface can change in the future.\n",
      "\n",
      "/tmp/ipykernel_475102/4139251453.py:46: ExperimentalWarning:\n",
      "\n",
      "upload_artifact is experimental (supported from v3.3.0). The interface can change in the future.\n",
      "\n",
      "[I 2024-06-19 19:34:17,272] Trial 76 finished with value: 0.35566488391635903 and parameters: {'lambda_l1': 2.919855452905247e-06, 'lambda_l2': 1.2809630461455647e-07, 'num_leaves': 87, 'feature_fraction': 0.5580161090756528, 'bagging_fraction': 0.7167265944948995, 'bagging_freq': 2, 'min_child_samples': 87}. Best is trial 74 with value: 0.3660344428918496.\n",
      "/tmp/ipykernel_475102/4139251453.py:42: ExperimentalWarning:\n",
      "\n",
      "upload_artifact is experimental (supported from v3.3.0). The interface can change in the future.\n",
      "\n",
      "/tmp/ipykernel_475102/4139251453.py:46: ExperimentalWarning:\n",
      "\n",
      "upload_artifact is experimental (supported from v3.3.0). The interface can change in the future.\n",
      "\n",
      "[I 2024-06-19 19:34:24,928] Trial 77 finished with value: 0.3566687161510646 and parameters: {'lambda_l1': 6.824119418328148e-06, 'lambda_l2': 1.6384455512684692e-06, 'num_leaves': 83, 'feature_fraction': 0.5708700218550001, 'bagging_fraction': 0.7468948131290187, 'bagging_freq': 2, 'min_child_samples': 86}. Best is trial 74 with value: 0.3660344428918496.\n",
      "/tmp/ipykernel_475102/4139251453.py:42: ExperimentalWarning:\n",
      "\n",
      "upload_artifact is experimental (supported from v3.3.0). The interface can change in the future.\n",
      "\n",
      "/tmp/ipykernel_475102/4139251453.py:46: ExperimentalWarning:\n",
      "\n",
      "upload_artifact is experimental (supported from v3.3.0). The interface can change in the future.\n",
      "\n",
      "[I 2024-06-19 19:34:33,820] Trial 78 finished with value: 0.35598712283992184 and parameters: {'lambda_l1': 1.7202899905588471e-06, 'lambda_l2': 1.0293166515422411e-07, 'num_leaves': 82, 'feature_fraction': 0.5120665704472401, 'bagging_fraction': 0.7690113509238996, 'bagging_freq': 2, 'min_child_samples': 82}. Best is trial 74 with value: 0.3660344428918496.\n",
      "/tmp/ipykernel_475102/4139251453.py:42: ExperimentalWarning:\n",
      "\n",
      "upload_artifact is experimental (supported from v3.3.0). The interface can change in the future.\n",
      "\n",
      "/tmp/ipykernel_475102/4139251453.py:46: ExperimentalWarning:\n",
      "\n",
      "upload_artifact is experimental (supported from v3.3.0). The interface can change in the future.\n",
      "\n",
      "[I 2024-06-19 19:34:43,717] Trial 79 finished with value: 0.3578958448255037 and parameters: {'lambda_l1': 3.7763679537192996e-06, 'lambda_l2': 1.72109150571479e-07, 'num_leaves': 85, 'feature_fraction': 0.515859084065759, 'bagging_fraction': 0.7829655908849493, 'bagging_freq': 2, 'min_child_samples': 85}. Best is trial 74 with value: 0.3660344428918496.\n",
      "/tmp/ipykernel_475102/4139251453.py:42: ExperimentalWarning:\n",
      "\n",
      "upload_artifact is experimental (supported from v3.3.0). The interface can change in the future.\n",
      "\n",
      "/tmp/ipykernel_475102/4139251453.py:46: ExperimentalWarning:\n",
      "\n",
      "upload_artifact is experimental (supported from v3.3.0). The interface can change in the future.\n",
      "\n",
      "[I 2024-06-19 19:34:53,448] Trial 80 finished with value: 0.35786436343712524 and parameters: {'lambda_l1': 4.3246641325262296e-06, 'lambda_l2': 1.5582202924832674e-07, 'num_leaves': 70, 'feature_fraction': 0.5026710001445805, 'bagging_fraction': 0.7946240161918988, 'bagging_freq': 3, 'min_child_samples': 87}. Best is trial 74 with value: 0.3660344428918496.\n",
      "/tmp/ipykernel_475102/4139251453.py:42: ExperimentalWarning:\n",
      "\n",
      "upload_artifact is experimental (supported from v3.3.0). The interface can change in the future.\n",
      "\n",
      "/tmp/ipykernel_475102/4139251453.py:46: ExperimentalWarning:\n",
      "\n",
      "upload_artifact is experimental (supported from v3.3.0). The interface can change in the future.\n",
      "\n",
      "[I 2024-06-19 19:35:01,836] Trial 81 finished with value: 0.35758227666003406 and parameters: {'lambda_l1': 4.9845830715225895e-06, 'lambda_l2': 2.5246202255153677e-07, 'num_leaves': 84, 'feature_fraction': 0.5457677530354718, 'bagging_fraction': 0.7039616252928506, 'bagging_freq': 2, 'min_child_samples': 85}. Best is trial 74 with value: 0.3660344428918496.\n",
      "/tmp/ipykernel_475102/4139251453.py:42: ExperimentalWarning:\n",
      "\n",
      "upload_artifact is experimental (supported from v3.3.0). The interface can change in the future.\n",
      "\n",
      "/tmp/ipykernel_475102/4139251453.py:46: ExperimentalWarning:\n",
      "\n",
      "upload_artifact is experimental (supported from v3.3.0). The interface can change in the future.\n",
      "\n",
      "[I 2024-06-19 19:35:10,493] Trial 82 finished with value: 0.36107538082665486 and parameters: {'lambda_l1': 9.464590058724113e-06, 'lambda_l2': 1.3587592600912264e-07, 'num_leaves': 83, 'feature_fraction': 0.5504089176412915, 'bagging_fraction': 0.7094536495955207, 'bagging_freq': 2, 'min_child_samples': 84}. Best is trial 74 with value: 0.3660344428918496.\n",
      "/tmp/ipykernel_475102/4139251453.py:42: ExperimentalWarning:\n",
      "\n",
      "upload_artifact is experimental (supported from v3.3.0). The interface can change in the future.\n",
      "\n",
      "/tmp/ipykernel_475102/4139251453.py:46: ExperimentalWarning:\n",
      "\n",
      "upload_artifact is experimental (supported from v3.3.0). The interface can change in the future.\n",
      "\n",
      "[I 2024-06-19 19:35:17,966] Trial 83 finished with value: 0.36231439142296207 and parameters: {'lambda_l1': 6.483362999143428e-06, 'lambda_l2': 1.3331400146285899e-07, 'num_leaves': 83, 'feature_fraction': 0.5503622600686408, 'bagging_fraction': 0.704246269828785, 'bagging_freq': 2, 'min_child_samples': 83}. Best is trial 74 with value: 0.3660344428918496.\n",
      "/tmp/ipykernel_475102/4139251453.py:42: ExperimentalWarning:\n",
      "\n",
      "upload_artifact is experimental (supported from v3.3.0). The interface can change in the future.\n",
      "\n",
      "/tmp/ipykernel_475102/4139251453.py:46: ExperimentalWarning:\n",
      "\n",
      "upload_artifact is experimental (supported from v3.3.0). The interface can change in the future.\n",
      "\n",
      "[I 2024-06-19 19:35:26,403] Trial 84 finished with value: 0.3591500051145178 and parameters: {'lambda_l1': 7.285868090079287e-06, 'lambda_l2': 1.0099558035391063e-07, 'num_leaves': 86, 'feature_fraction': 0.5550705111028363, 'bagging_fraction': 0.7042571228074117, 'bagging_freq': 2, 'min_child_samples': 83}. Best is trial 74 with value: 0.3660344428918496.\n",
      "/tmp/ipykernel_475102/4139251453.py:42: ExperimentalWarning:\n",
      "\n",
      "upload_artifact is experimental (supported from v3.3.0). The interface can change in the future.\n",
      "\n",
      "/tmp/ipykernel_475102/4139251453.py:46: ExperimentalWarning:\n",
      "\n",
      "upload_artifact is experimental (supported from v3.3.0). The interface can change in the future.\n",
      "\n",
      "[I 2024-06-19 19:35:34,774] Trial 85 finished with value: 0.3604855776637237 and parameters: {'lambda_l1': 1.3670093964300088e-06, 'lambda_l2': 5.921426810275345e-07, 'num_leaves': 81, 'feature_fraction': 0.5264928765405648, 'bagging_fraction': 0.7550047182565134, 'bagging_freq': 2, 'min_child_samples': 80}. Best is trial 74 with value: 0.3660344428918496.\n",
      "/tmp/ipykernel_475102/4139251453.py:42: ExperimentalWarning:\n",
      "\n",
      "upload_artifact is experimental (supported from v3.3.0). The interface can change in the future.\n",
      "\n",
      "/tmp/ipykernel_475102/4139251453.py:46: ExperimentalWarning:\n",
      "\n",
      "upload_artifact is experimental (supported from v3.3.0). The interface can change in the future.\n",
      "\n",
      "[I 2024-06-19 19:35:42,669] Trial 86 finished with value: 0.3592698265720289 and parameters: {'lambda_l1': 2.984313223607699e-06, 'lambda_l2': 1.5868066871247488e-07, 'num_leaves': 82, 'feature_fraction': 0.5601024096089088, 'bagging_fraction': 0.7222028711497084, 'bagging_freq': 2, 'min_child_samples': 82}. Best is trial 74 with value: 0.3660344428918496.\n",
      "/tmp/ipykernel_475102/4139251453.py:42: ExperimentalWarning:\n",
      "\n",
      "upload_artifact is experimental (supported from v3.3.0). The interface can change in the future.\n",
      "\n",
      "/tmp/ipykernel_475102/4139251453.py:46: ExperimentalWarning:\n",
      "\n",
      "upload_artifact is experimental (supported from v3.3.0). The interface can change in the future.\n",
      "\n",
      "[I 2024-06-19 19:35:52,107] Trial 87 finished with value: 0.364001692522851 and parameters: {'lambda_l1': 6.406761645474986e-06, 'lambda_l2': 1.3418336538089124e-06, 'num_leaves': 77, 'feature_fraction': 0.537152760992593, 'bagging_fraction': 0.7895487309177228, 'bagging_freq': 2, 'min_child_samples': 81}. Best is trial 74 with value: 0.3660344428918496.\n",
      "/tmp/ipykernel_475102/4139251453.py:42: ExperimentalWarning:\n",
      "\n",
      "upload_artifact is experimental (supported from v3.3.0). The interface can change in the future.\n",
      "\n",
      "/tmp/ipykernel_475102/4139251453.py:46: ExperimentalWarning:\n",
      "\n",
      "upload_artifact is experimental (supported from v3.3.0). The interface can change in the future.\n",
      "\n",
      "[I 2024-06-19 19:36:01,585] Trial 88 finished with value: 0.36293303023633405 and parameters: {'lambda_l1': 6.3578430624187e-06, 'lambda_l2': 1.3880987565023776e-06, 'num_leaves': 75, 'feature_fraction': 0.5506550864181101, 'bagging_fraction': 0.7906686767376446, 'bagging_freq': 2, 'min_child_samples': 79}. Best is trial 74 with value: 0.3660344428918496.\n",
      "/tmp/ipykernel_475102/4139251453.py:42: ExperimentalWarning:\n",
      "\n",
      "upload_artifact is experimental (supported from v3.3.0). The interface can change in the future.\n",
      "\n",
      "/tmp/ipykernel_475102/4139251453.py:46: ExperimentalWarning:\n",
      "\n",
      "upload_artifact is experimental (supported from v3.3.0). The interface can change in the future.\n",
      "\n",
      "[I 2024-06-19 19:36:10,592] Trial 89 finished with value: 0.3585140596114128 and parameters: {'lambda_l1': 8.139038810869787e-06, 'lambda_l2': 1.380941627046459e-06, 'num_leaves': 76, 'feature_fraction': 0.5452212499580407, 'bagging_fraction': 0.789118930052564, 'bagging_freq': 2, 'min_child_samples': 79}. Best is trial 74 with value: 0.3660344428918496.\n",
      "/tmp/ipykernel_475102/4139251453.py:42: ExperimentalWarning:\n",
      "\n",
      "upload_artifact is experimental (supported from v3.3.0). The interface can change in the future.\n",
      "\n",
      "/tmp/ipykernel_475102/4139251453.py:46: ExperimentalWarning:\n",
      "\n",
      "upload_artifact is experimental (supported from v3.3.0). The interface can change in the future.\n",
      "\n",
      "[I 2024-06-19 19:36:19,003] Trial 90 finished with value: 0.35805965733611256 and parameters: {'lambda_l1': 8.823502081226719e-06, 'lambda_l2': 1.089488454077178e-06, 'num_leaves': 73, 'feature_fraction': 0.5356511600233599, 'bagging_fraction': 0.7434258480730134, 'bagging_freq': 2, 'min_child_samples': 77}. Best is trial 74 with value: 0.3660344428918496.\n",
      "/tmp/ipykernel_475102/4139251453.py:42: ExperimentalWarning:\n",
      "\n",
      "upload_artifact is experimental (supported from v3.3.0). The interface can change in the future.\n",
      "\n",
      "/tmp/ipykernel_475102/4139251453.py:46: ExperimentalWarning:\n",
      "\n",
      "upload_artifact is experimental (supported from v3.3.0). The interface can change in the future.\n",
      "\n",
      "[I 2024-06-19 19:36:27,707] Trial 91 finished with value: 0.35726753201474465 and parameters: {'lambda_l1': 6.645870501959739e-06, 'lambda_l2': 1.2451781110646573e-06, 'num_leaves': 76, 'feature_fraction': 0.5516857650841824, 'bagging_fraction': 0.7914056853752238, 'bagging_freq': 2, 'min_child_samples': 80}. Best is trial 74 with value: 0.3660344428918496.\n",
      "/tmp/ipykernel_475102/4139251453.py:42: ExperimentalWarning:\n",
      "\n",
      "upload_artifact is experimental (supported from v3.3.0). The interface can change in the future.\n",
      "\n",
      "/tmp/ipykernel_475102/4139251453.py:46: ExperimentalWarning:\n",
      "\n",
      "upload_artifact is experimental (supported from v3.3.0). The interface can change in the future.\n",
      "\n",
      "[I 2024-06-19 19:36:35,565] Trial 92 finished with value: 0.35836987779756163 and parameters: {'lambda_l1': 5.917190107375493e-06, 'lambda_l2': 1.544907867946348e-06, 'num_leaves': 77, 'feature_fraction': 0.5555558239201338, 'bagging_fraction': 0.7860850060765354, 'bagging_freq': 2, 'min_child_samples': 78}. Best is trial 74 with value: 0.3660344428918496.\n",
      "/tmp/ipykernel_475102/4139251453.py:42: ExperimentalWarning:\n",
      "\n",
      "upload_artifact is experimental (supported from v3.3.0). The interface can change in the future.\n",
      "\n",
      "/tmp/ipykernel_475102/4139251453.py:46: ExperimentalWarning:\n",
      "\n",
      "upload_artifact is experimental (supported from v3.3.0). The interface can change in the future.\n",
      "\n",
      "[I 2024-06-19 19:36:45,665] Trial 93 finished with value: 0.36314889250612215 and parameters: {'lambda_l1': 9.963324810105566e-06, 'lambda_l2': 8.369299911963536e-07, 'num_leaves': 74, 'feature_fraction': 0.5474940158510102, 'bagging_fraction': 0.789506259122815, 'bagging_freq': 2, 'min_child_samples': 81}. Best is trial 74 with value: 0.3660344428918496.\n",
      "/tmp/ipykernel_475102/4139251453.py:42: ExperimentalWarning:\n",
      "\n",
      "upload_artifact is experimental (supported from v3.3.0). The interface can change in the future.\n",
      "\n",
      "/tmp/ipykernel_475102/4139251453.py:46: ExperimentalWarning:\n",
      "\n",
      "upload_artifact is experimental (supported from v3.3.0). The interface can change in the future.\n",
      "\n",
      "[I 2024-06-19 19:36:55,935] Trial 94 finished with value: 0.3615375319007552 and parameters: {'lambda_l1': 7.611981852870481e-06, 'lambda_l2': 1.7859431783775432e-06, 'num_leaves': 73, 'feature_fraction': 0.5389703670181202, 'bagging_fraction': 0.7893479032610128, 'bagging_freq': 2, 'min_child_samples': 81}. Best is trial 74 with value: 0.3660344428918496.\n",
      "/tmp/ipykernel_475102/4139251453.py:42: ExperimentalWarning:\n",
      "\n",
      "upload_artifact is experimental (supported from v3.3.0). The interface can change in the future.\n",
      "\n",
      "/tmp/ipykernel_475102/4139251453.py:46: ExperimentalWarning:\n",
      "\n",
      "upload_artifact is experimental (supported from v3.3.0). The interface can change in the future.\n",
      "\n",
      "[I 2024-06-19 19:37:05,355] Trial 95 finished with value: 0.3581683716752793 and parameters: {'lambda_l1': 2.238310726965057e-06, 'lambda_l2': 8.535309493882595e-07, 'num_leaves': 75, 'feature_fraction': 0.5428191230615141, 'bagging_fraction': 0.7778381940147145, 'bagging_freq': 2, 'min_child_samples': 79}. Best is trial 74 with value: 0.3660344428918496.\n",
      "/tmp/ipykernel_475102/4139251453.py:42: ExperimentalWarning:\n",
      "\n",
      "upload_artifact is experimental (supported from v3.3.0). The interface can change in the future.\n",
      "\n",
      "/tmp/ipykernel_475102/4139251453.py:46: ExperimentalWarning:\n",
      "\n",
      "upload_artifact is experimental (supported from v3.3.0). The interface can change in the future.\n",
      "\n",
      "[I 2024-06-19 19:37:13,870] Trial 96 finished with value: 0.35836816215410827 and parameters: {'lambda_l1': 9.04514594656698e-06, 'lambda_l2': 7.375351433250058e-07, 'num_leaves': 74, 'feature_fraction': 0.5473892212367711, 'bagging_fraction': 0.795492131376671, 'bagging_freq': 2, 'min_child_samples': 81}. Best is trial 74 with value: 0.3660344428918496.\n",
      "/tmp/ipykernel_475102/4139251453.py:42: ExperimentalWarning:\n",
      "\n",
      "upload_artifact is experimental (supported from v3.3.0). The interface can change in the future.\n",
      "\n",
      "/tmp/ipykernel_475102/4139251453.py:46: ExperimentalWarning:\n",
      "\n",
      "upload_artifact is experimental (supported from v3.3.0). The interface can change in the future.\n",
      "\n",
      "[I 2024-06-19 19:37:23,878] Trial 97 finished with value: 0.3612724214269957 and parameters: {'lambda_l1': 9.58883661128215e-06, 'lambda_l2': 2.328506103419278e-06, 'num_leaves': 77, 'feature_fraction': 0.5172227293308991, 'bagging_fraction': 0.7820388645138462, 'bagging_freq': 2, 'min_child_samples': 74}. Best is trial 74 with value: 0.3660344428918496.\n",
      "/tmp/ipykernel_475102/4139251453.py:42: ExperimentalWarning:\n",
      "\n",
      "upload_artifact is experimental (supported from v3.3.0). The interface can change in the future.\n",
      "\n",
      "/tmp/ipykernel_475102/4139251453.py:46: ExperimentalWarning:\n",
      "\n",
      "upload_artifact is experimental (supported from v3.3.0). The interface can change in the future.\n",
      "\n",
      "[I 2024-06-19 19:37:33,624] Trial 98 finished with value: 0.3610268731446444 and parameters: {'lambda_l1': 9.926783733541628e-06, 'lambda_l2': 1.0213061115354982e-06, 'num_leaves': 75, 'feature_fraction': 0.5085896005372675, 'bagging_fraction': 0.7845258915509873, 'bagging_freq': 2, 'min_child_samples': 80}. Best is trial 74 with value: 0.3660344428918496.\n",
      "/tmp/ipykernel_475102/4139251453.py:42: ExperimentalWarning:\n",
      "\n",
      "upload_artifact is experimental (supported from v3.3.0). The interface can change in the future.\n",
      "\n",
      "/tmp/ipykernel_475102/4139251453.py:46: ExperimentalWarning:\n",
      "\n",
      "upload_artifact is experimental (supported from v3.3.0). The interface can change in the future.\n",
      "\n",
      "[I 2024-06-19 19:37:42,456] Trial 99 finished with value: 0.35180918792959437 and parameters: {'lambda_l1': 5.332468331414362e-06, 'lambda_l2': 3.3894245112778477e-06, 'num_leaves': 78, 'feature_fraction': 0.589501654186433, 'bagging_fraction': 0.79070426280473, 'bagging_freq': 2, 'min_child_samples': 77}. Best is trial 74 with value: 0.3660344428918496.\n"
     ]
    }
   ],
   "source": [
    "artifact_store = FileSystemArtifactStore(base_path=PATH_TO_OPTUNA_ARTIFACTS)\n",
    "\n",
    "study = optuna.create_study(direction='maximize', storage=\"sqlite:///db.sqlite3\", study_name=\"04 - LGB Multiclass CV mejora\", load_if_exists=True)\n",
    "study.optimize(refined_cv_es_lgb_objective, n_trials=100)  # Aumenta los ensayos si es necesario\n"
   ]
  },
  {
   "cell_type": "code",
   "execution_count": 14,
   "metadata": {},
   "outputs": [],
   "source": [
    "# Obtener los mejores hiperparámetros\n",
    "best_params = study.best_params\n",
    "\n",
    "# Entrenar el modelo final con los mejores hiperparámetros\n",
    "lgb_params = {      \n",
    "    'objective': 'multiclass',\n",
    "    'verbosity': -1,\n",
    "    'num_class': len(y_train.unique())\n",
    "}\n",
    "lgb_params.update(best_params)"
   ]
  },
  {
   "cell_type": "code",
   "execution_count": 15,
   "metadata": {},
   "outputs": [
    {
     "name": "stdout",
     "output_type": "stream",
     "text": [
      "Kappa: 0.3231769099909053\n",
      "Accuracy: 0.3847949316438813\n",
      "Balanced Accuracy: 0.3188386862400628\n"
     ]
    },
    {
     "data": {
      "application/vnd.plotly.v1+json": {
       "config": {
        "plotlyServerURL": "https://plot.ly"
       },
       "data": [
        {
         "type": "heatmap",
         "x": [
          0,
          1,
          2,
          3,
          4
         ],
         "y": [
          0,
          1,
          2,
          3,
          4
         ],
         "z": [
          [
           7.317073170731707,
           40.243902439024396,
           21.951219512195124,
           10.975609756097562,
           19.51219512195122
          ],
          [
           0.9708737864077669,
           33.17152103559871,
           34.95145631067961,
           10.517799352750808,
           20.388349514563107
          ],
          [
           0.37174721189591076,
           23.915737298636927,
           35.19206939281288,
           15.861214374225527,
           24.65923172242875
          ],
          [
           0.6134969325153374,
           17.94478527607362,
           30.214723926380366,
           23.619631901840492,
           27.607361963190186
          ],
          [
           0,
           11.666666666666666,
           18.571428571428573,
           9.642857142857144,
           60.11904761904761
          ]
         ]
        }
       ],
       "layout": {
        "annotations": [
         {
          "font": {
           "color": "white"
          },
          "showarrow": false,
          "text": "7.3 - 6",
          "x": 0,
          "xref": "x",
          "y": 0,
          "yref": "y"
         },
         {
          "font": {
           "color": "white"
          },
          "showarrow": false,
          "text": "40.2 - 33",
          "x": 1,
          "xref": "x",
          "y": 0,
          "yref": "y"
         },
         {
          "font": {
           "color": "white"
          },
          "showarrow": false,
          "text": "22.0 - 18",
          "x": 2,
          "xref": "x",
          "y": 0,
          "yref": "y"
         },
         {
          "font": {
           "color": "white"
          },
          "showarrow": false,
          "text": "11.0 - 9",
          "x": 3,
          "xref": "x",
          "y": 0,
          "yref": "y"
         },
         {
          "font": {
           "color": "white"
          },
          "showarrow": false,
          "text": "19.5 - 16",
          "x": 4,
          "xref": "x",
          "y": 0,
          "yref": "y"
         },
         {
          "font": {
           "color": "white"
          },
          "showarrow": false,
          "text": "1.0 - 6",
          "x": 0,
          "xref": "x",
          "y": 1,
          "yref": "y"
         },
         {
          "font": {
           "color": "white"
          },
          "showarrow": false,
          "text": "33.2 - 205",
          "x": 1,
          "xref": "x",
          "y": 1,
          "yref": "y"
         },
         {
          "font": {
           "color": "white"
          },
          "showarrow": false,
          "text": "35.0 - 216",
          "x": 2,
          "xref": "x",
          "y": 1,
          "yref": "y"
         },
         {
          "font": {
           "color": "white"
          },
          "showarrow": false,
          "text": "10.5 - 65",
          "x": 3,
          "xref": "x",
          "y": 1,
          "yref": "y"
         },
         {
          "font": {
           "color": "white"
          },
          "showarrow": false,
          "text": "20.4 - 126",
          "x": 4,
          "xref": "x",
          "y": 1,
          "yref": "y"
         },
         {
          "font": {
           "color": "white"
          },
          "showarrow": false,
          "text": "0.4 - 3",
          "x": 0,
          "xref": "x",
          "y": 2,
          "yref": "y"
         },
         {
          "font": {
           "color": "white"
          },
          "showarrow": false,
          "text": "23.9 - 193",
          "x": 1,
          "xref": "x",
          "y": 2,
          "yref": "y"
         },
         {
          "font": {
           "color": "white"
          },
          "showarrow": false,
          "text": "35.2 - 284",
          "x": 2,
          "xref": "x",
          "y": 2,
          "yref": "y"
         },
         {
          "font": {
           "color": "white"
          },
          "showarrow": false,
          "text": "15.9 - 128",
          "x": 3,
          "xref": "x",
          "y": 2,
          "yref": "y"
         },
         {
          "font": {
           "color": "white"
          },
          "showarrow": false,
          "text": "24.7 - 199",
          "x": 4,
          "xref": "x",
          "y": 2,
          "yref": "y"
         },
         {
          "font": {
           "color": "white"
          },
          "showarrow": false,
          "text": "0.6 - 4",
          "x": 0,
          "xref": "x",
          "y": 3,
          "yref": "y"
         },
         {
          "font": {
           "color": "white"
          },
          "showarrow": false,
          "text": "17.9 - 117",
          "x": 1,
          "xref": "x",
          "y": 3,
          "yref": "y"
         },
         {
          "font": {
           "color": "white"
          },
          "showarrow": false,
          "text": "30.2 - 197",
          "x": 2,
          "xref": "x",
          "y": 3,
          "yref": "y"
         },
         {
          "font": {
           "color": "white"
          },
          "showarrow": false,
          "text": "23.6 - 154",
          "x": 3,
          "xref": "x",
          "y": 3,
          "yref": "y"
         },
         {
          "font": {
           "color": "white"
          },
          "showarrow": false,
          "text": "27.6 - 180",
          "x": 4,
          "xref": "x",
          "y": 3,
          "yref": "y"
         },
         {
          "font": {
           "color": "white"
          },
          "showarrow": false,
          "text": "0.0 - 0",
          "x": 0,
          "xref": "x",
          "y": 4,
          "yref": "y"
         },
         {
          "font": {
           "color": "white"
          },
          "showarrow": false,
          "text": "11.7 - 98",
          "x": 1,
          "xref": "x",
          "y": 4,
          "yref": "y"
         },
         {
          "font": {
           "color": "white"
          },
          "showarrow": false,
          "text": "18.6 - 156",
          "x": 2,
          "xref": "x",
          "y": 4,
          "yref": "y"
         },
         {
          "font": {
           "color": "white"
          },
          "showarrow": false,
          "text": "9.6 - 81",
          "x": 3,
          "xref": "x",
          "y": 4,
          "yref": "y"
         },
         {
          "font": {
           "color": "white"
          },
          "showarrow": false,
          "text": "60.1 - 505",
          "x": 4,
          "xref": "x",
          "y": 4,
          "yref": "y"
         }
        ],
        "height": 800,
        "template": {
         "data": {
          "bar": [
           {
            "error_x": {
             "color": "#2a3f5f"
            },
            "error_y": {
             "color": "#2a3f5f"
            },
            "marker": {
             "line": {
              "color": "#E5ECF6",
              "width": 0.5
             },
             "pattern": {
              "fillmode": "overlay",
              "size": 10,
              "solidity": 0.2
             }
            },
            "type": "bar"
           }
          ],
          "barpolar": [
           {
            "marker": {
             "line": {
              "color": "#E5ECF6",
              "width": 0.5
             },
             "pattern": {
              "fillmode": "overlay",
              "size": 10,
              "solidity": 0.2
             }
            },
            "type": "barpolar"
           }
          ],
          "carpet": [
           {
            "aaxis": {
             "endlinecolor": "#2a3f5f",
             "gridcolor": "white",
             "linecolor": "white",
             "minorgridcolor": "white",
             "startlinecolor": "#2a3f5f"
            },
            "baxis": {
             "endlinecolor": "#2a3f5f",
             "gridcolor": "white",
             "linecolor": "white",
             "minorgridcolor": "white",
             "startlinecolor": "#2a3f5f"
            },
            "type": "carpet"
           }
          ],
          "choropleth": [
           {
            "colorbar": {
             "outlinewidth": 0,
             "ticks": ""
            },
            "type": "choropleth"
           }
          ],
          "contour": [
           {
            "colorbar": {
             "outlinewidth": 0,
             "ticks": ""
            },
            "colorscale": [
             [
              0,
              "#0d0887"
             ],
             [
              0.1111111111111111,
              "#46039f"
             ],
             [
              0.2222222222222222,
              "#7201a8"
             ],
             [
              0.3333333333333333,
              "#9c179e"
             ],
             [
              0.4444444444444444,
              "#bd3786"
             ],
             [
              0.5555555555555556,
              "#d8576b"
             ],
             [
              0.6666666666666666,
              "#ed7953"
             ],
             [
              0.7777777777777778,
              "#fb9f3a"
             ],
             [
              0.8888888888888888,
              "#fdca26"
             ],
             [
              1,
              "#f0f921"
             ]
            ],
            "type": "contour"
           }
          ],
          "contourcarpet": [
           {
            "colorbar": {
             "outlinewidth": 0,
             "ticks": ""
            },
            "type": "contourcarpet"
           }
          ],
          "heatmap": [
           {
            "colorbar": {
             "outlinewidth": 0,
             "ticks": ""
            },
            "colorscale": [
             [
              0,
              "#0d0887"
             ],
             [
              0.1111111111111111,
              "#46039f"
             ],
             [
              0.2222222222222222,
              "#7201a8"
             ],
             [
              0.3333333333333333,
              "#9c179e"
             ],
             [
              0.4444444444444444,
              "#bd3786"
             ],
             [
              0.5555555555555556,
              "#d8576b"
             ],
             [
              0.6666666666666666,
              "#ed7953"
             ],
             [
              0.7777777777777778,
              "#fb9f3a"
             ],
             [
              0.8888888888888888,
              "#fdca26"
             ],
             [
              1,
              "#f0f921"
             ]
            ],
            "type": "heatmap"
           }
          ],
          "heatmapgl": [
           {
            "colorbar": {
             "outlinewidth": 0,
             "ticks": ""
            },
            "colorscale": [
             [
              0,
              "#0d0887"
             ],
             [
              0.1111111111111111,
              "#46039f"
             ],
             [
              0.2222222222222222,
              "#7201a8"
             ],
             [
              0.3333333333333333,
              "#9c179e"
             ],
             [
              0.4444444444444444,
              "#bd3786"
             ],
             [
              0.5555555555555556,
              "#d8576b"
             ],
             [
              0.6666666666666666,
              "#ed7953"
             ],
             [
              0.7777777777777778,
              "#fb9f3a"
             ],
             [
              0.8888888888888888,
              "#fdca26"
             ],
             [
              1,
              "#f0f921"
             ]
            ],
            "type": "heatmapgl"
           }
          ],
          "histogram": [
           {
            "marker": {
             "pattern": {
              "fillmode": "overlay",
              "size": 10,
              "solidity": 0.2
             }
            },
            "type": "histogram"
           }
          ],
          "histogram2d": [
           {
            "colorbar": {
             "outlinewidth": 0,
             "ticks": ""
            },
            "colorscale": [
             [
              0,
              "#0d0887"
             ],
             [
              0.1111111111111111,
              "#46039f"
             ],
             [
              0.2222222222222222,
              "#7201a8"
             ],
             [
              0.3333333333333333,
              "#9c179e"
             ],
             [
              0.4444444444444444,
              "#bd3786"
             ],
             [
              0.5555555555555556,
              "#d8576b"
             ],
             [
              0.6666666666666666,
              "#ed7953"
             ],
             [
              0.7777777777777778,
              "#fb9f3a"
             ],
             [
              0.8888888888888888,
              "#fdca26"
             ],
             [
              1,
              "#f0f921"
             ]
            ],
            "type": "histogram2d"
           }
          ],
          "histogram2dcontour": [
           {
            "colorbar": {
             "outlinewidth": 0,
             "ticks": ""
            },
            "colorscale": [
             [
              0,
              "#0d0887"
             ],
             [
              0.1111111111111111,
              "#46039f"
             ],
             [
              0.2222222222222222,
              "#7201a8"
             ],
             [
              0.3333333333333333,
              "#9c179e"
             ],
             [
              0.4444444444444444,
              "#bd3786"
             ],
             [
              0.5555555555555556,
              "#d8576b"
             ],
             [
              0.6666666666666666,
              "#ed7953"
             ],
             [
              0.7777777777777778,
              "#fb9f3a"
             ],
             [
              0.8888888888888888,
              "#fdca26"
             ],
             [
              1,
              "#f0f921"
             ]
            ],
            "type": "histogram2dcontour"
           }
          ],
          "mesh3d": [
           {
            "colorbar": {
             "outlinewidth": 0,
             "ticks": ""
            },
            "type": "mesh3d"
           }
          ],
          "parcoords": [
           {
            "line": {
             "colorbar": {
              "outlinewidth": 0,
              "ticks": ""
             }
            },
            "type": "parcoords"
           }
          ],
          "pie": [
           {
            "automargin": true,
            "type": "pie"
           }
          ],
          "scatter": [
           {
            "fillpattern": {
             "fillmode": "overlay",
             "size": 10,
             "solidity": 0.2
            },
            "type": "scatter"
           }
          ],
          "scatter3d": [
           {
            "line": {
             "colorbar": {
              "outlinewidth": 0,
              "ticks": ""
             }
            },
            "marker": {
             "colorbar": {
              "outlinewidth": 0,
              "ticks": ""
             }
            },
            "type": "scatter3d"
           }
          ],
          "scattercarpet": [
           {
            "marker": {
             "colorbar": {
              "outlinewidth": 0,
              "ticks": ""
             }
            },
            "type": "scattercarpet"
           }
          ],
          "scattergeo": [
           {
            "marker": {
             "colorbar": {
              "outlinewidth": 0,
              "ticks": ""
             }
            },
            "type": "scattergeo"
           }
          ],
          "scattergl": [
           {
            "marker": {
             "colorbar": {
              "outlinewidth": 0,
              "ticks": ""
             }
            },
            "type": "scattergl"
           }
          ],
          "scattermapbox": [
           {
            "marker": {
             "colorbar": {
              "outlinewidth": 0,
              "ticks": ""
             }
            },
            "type": "scattermapbox"
           }
          ],
          "scatterpolar": [
           {
            "marker": {
             "colorbar": {
              "outlinewidth": 0,
              "ticks": ""
             }
            },
            "type": "scatterpolar"
           }
          ],
          "scatterpolargl": [
           {
            "marker": {
             "colorbar": {
              "outlinewidth": 0,
              "ticks": ""
             }
            },
            "type": "scatterpolargl"
           }
          ],
          "scatterternary": [
           {
            "marker": {
             "colorbar": {
              "outlinewidth": 0,
              "ticks": ""
             }
            },
            "type": "scatterternary"
           }
          ],
          "surface": [
           {
            "colorbar": {
             "outlinewidth": 0,
             "ticks": ""
            },
            "colorscale": [
             [
              0,
              "#0d0887"
             ],
             [
              0.1111111111111111,
              "#46039f"
             ],
             [
              0.2222222222222222,
              "#7201a8"
             ],
             [
              0.3333333333333333,
              "#9c179e"
             ],
             [
              0.4444444444444444,
              "#bd3786"
             ],
             [
              0.5555555555555556,
              "#d8576b"
             ],
             [
              0.6666666666666666,
              "#ed7953"
             ],
             [
              0.7777777777777778,
              "#fb9f3a"
             ],
             [
              0.8888888888888888,
              "#fdca26"
             ],
             [
              1,
              "#f0f921"
             ]
            ],
            "type": "surface"
           }
          ],
          "table": [
           {
            "cells": {
             "fill": {
              "color": "#EBF0F8"
             },
             "line": {
              "color": "white"
             }
            },
            "header": {
             "fill": {
              "color": "#C8D4E3"
             },
             "line": {
              "color": "white"
             }
            },
            "type": "table"
           }
          ]
         },
         "layout": {
          "annotationdefaults": {
           "arrowcolor": "#2a3f5f",
           "arrowhead": 0,
           "arrowwidth": 1
          },
          "autotypenumbers": "strict",
          "coloraxis": {
           "colorbar": {
            "outlinewidth": 0,
            "ticks": ""
           }
          },
          "colorscale": {
           "diverging": [
            [
             0,
             "#8e0152"
            ],
            [
             0.1,
             "#c51b7d"
            ],
            [
             0.2,
             "#de77ae"
            ],
            [
             0.3,
             "#f1b6da"
            ],
            [
             0.4,
             "#fde0ef"
            ],
            [
             0.5,
             "#f7f7f7"
            ],
            [
             0.6,
             "#e6f5d0"
            ],
            [
             0.7,
             "#b8e186"
            ],
            [
             0.8,
             "#7fbc41"
            ],
            [
             0.9,
             "#4d9221"
            ],
            [
             1,
             "#276419"
            ]
           ],
           "sequential": [
            [
             0,
             "#0d0887"
            ],
            [
             0.1111111111111111,
             "#46039f"
            ],
            [
             0.2222222222222222,
             "#7201a8"
            ],
            [
             0.3333333333333333,
             "#9c179e"
            ],
            [
             0.4444444444444444,
             "#bd3786"
            ],
            [
             0.5555555555555556,
             "#d8576b"
            ],
            [
             0.6666666666666666,
             "#ed7953"
            ],
            [
             0.7777777777777778,
             "#fb9f3a"
            ],
            [
             0.8888888888888888,
             "#fdca26"
            ],
            [
             1,
             "#f0f921"
            ]
           ],
           "sequentialminus": [
            [
             0,
             "#0d0887"
            ],
            [
             0.1111111111111111,
             "#46039f"
            ],
            [
             0.2222222222222222,
             "#7201a8"
            ],
            [
             0.3333333333333333,
             "#9c179e"
            ],
            [
             0.4444444444444444,
             "#bd3786"
            ],
            [
             0.5555555555555556,
             "#d8576b"
            ],
            [
             0.6666666666666666,
             "#ed7953"
            ],
            [
             0.7777777777777778,
             "#fb9f3a"
            ],
            [
             0.8888888888888888,
             "#fdca26"
            ],
            [
             1,
             "#f0f921"
            ]
           ]
          },
          "colorway": [
           "#636efa",
           "#EF553B",
           "#00cc96",
           "#ab63fa",
           "#FFA15A",
           "#19d3f3",
           "#FF6692",
           "#B6E880",
           "#FF97FF",
           "#FECB52"
          ],
          "font": {
           "color": "#2a3f5f"
          },
          "geo": {
           "bgcolor": "white",
           "lakecolor": "white",
           "landcolor": "#E5ECF6",
           "showlakes": true,
           "showland": true,
           "subunitcolor": "white"
          },
          "hoverlabel": {
           "align": "left"
          },
          "hovermode": "closest",
          "mapbox": {
           "style": "light"
          },
          "paper_bgcolor": "white",
          "plot_bgcolor": "#E5ECF6",
          "polar": {
           "angularaxis": {
            "gridcolor": "white",
            "linecolor": "white",
            "ticks": ""
           },
           "bgcolor": "#E5ECF6",
           "radialaxis": {
            "gridcolor": "white",
            "linecolor": "white",
            "ticks": ""
           }
          },
          "scene": {
           "xaxis": {
            "backgroundcolor": "#E5ECF6",
            "gridcolor": "white",
            "gridwidth": 2,
            "linecolor": "white",
            "showbackground": true,
            "ticks": "",
            "zerolinecolor": "white"
           },
           "yaxis": {
            "backgroundcolor": "#E5ECF6",
            "gridcolor": "white",
            "gridwidth": 2,
            "linecolor": "white",
            "showbackground": true,
            "ticks": "",
            "zerolinecolor": "white"
           },
           "zaxis": {
            "backgroundcolor": "#E5ECF6",
            "gridcolor": "white",
            "gridwidth": 2,
            "linecolor": "white",
            "showbackground": true,
            "ticks": "",
            "zerolinecolor": "white"
           }
          },
          "shapedefaults": {
           "line": {
            "color": "#2a3f5f"
           }
          },
          "ternary": {
           "aaxis": {
            "gridcolor": "white",
            "linecolor": "white",
            "ticks": ""
           },
           "baxis": {
            "gridcolor": "white",
            "linecolor": "white",
            "ticks": ""
           },
           "bgcolor": "#E5ECF6",
           "caxis": {
            "gridcolor": "white",
            "linecolor": "white",
            "ticks": ""
           }
          },
          "title": {
           "x": 0.05
          },
          "xaxis": {
           "automargin": true,
           "gridcolor": "white",
           "linecolor": "white",
           "ticks": "",
           "title": {
            "standoff": 15
           },
           "zerolinecolor": "white",
           "zerolinewidth": 2
          },
          "yaxis": {
           "automargin": true,
           "gridcolor": "white",
           "linecolor": "white",
           "ticks": "",
           "title": {
            "standoff": 15
           },
           "zerolinecolor": "white",
           "zerolinewidth": 2
          }
         }
        },
        "title": {
         "text": "Conf Matrix"
        },
        "width": 800,
        "xaxis": {
         "title": {
          "text": "Predicted value"
         }
        },
        "yaxis": {
         "title": {
          "text": "Real value"
         }
        }
       }
      },
      "text/html": [
       "<div>                            <div id=\"8d97de4b-138d-4e93-af15-3c5259d9a650\" class=\"plotly-graph-div\" style=\"height:800px; width:800px;\"></div>            <script type=\"text/javascript\">                require([\"plotly\"], function(Plotly) {                    window.PLOTLYENV=window.PLOTLYENV || {};                                    if (document.getElementById(\"8d97de4b-138d-4e93-af15-3c5259d9a650\")) {                    Plotly.newPlot(                        \"8d97de4b-138d-4e93-af15-3c5259d9a650\",                        [{\"x\":[0,1,2,3,4],\"y\":[0,1,2,3,4],\"z\":[[7.317073170731707,40.243902439024396,21.951219512195124,10.975609756097562,19.51219512195122],[0.9708737864077669,33.17152103559871,34.95145631067961,10.517799352750808,20.388349514563107],[0.37174721189591076,23.915737298636927,35.19206939281288,15.861214374225527,24.65923172242875],[0.6134969325153374,17.94478527607362,30.214723926380366,23.619631901840492,27.607361963190186],[0.0,11.666666666666666,18.571428571428573,9.642857142857144,60.11904761904761]],\"type\":\"heatmap\"}],                        {\"annotations\":[{\"font\":{\"color\":\"white\"},\"showarrow\":false,\"text\":\"7.3 - 6\",\"x\":0,\"xref\":\"x\",\"y\":0,\"yref\":\"y\"},{\"font\":{\"color\":\"white\"},\"showarrow\":false,\"text\":\"40.2 - 33\",\"x\":1,\"xref\":\"x\",\"y\":0,\"yref\":\"y\"},{\"font\":{\"color\":\"white\"},\"showarrow\":false,\"text\":\"22.0 - 18\",\"x\":2,\"xref\":\"x\",\"y\":0,\"yref\":\"y\"},{\"font\":{\"color\":\"white\"},\"showarrow\":false,\"text\":\"11.0 - 9\",\"x\":3,\"xref\":\"x\",\"y\":0,\"yref\":\"y\"},{\"font\":{\"color\":\"white\"},\"showarrow\":false,\"text\":\"19.5 - 16\",\"x\":4,\"xref\":\"x\",\"y\":0,\"yref\":\"y\"},{\"font\":{\"color\":\"white\"},\"showarrow\":false,\"text\":\"1.0 - 6\",\"x\":0,\"xref\":\"x\",\"y\":1,\"yref\":\"y\"},{\"font\":{\"color\":\"white\"},\"showarrow\":false,\"text\":\"33.2 - 205\",\"x\":1,\"xref\":\"x\",\"y\":1,\"yref\":\"y\"},{\"font\":{\"color\":\"white\"},\"showarrow\":false,\"text\":\"35.0 - 216\",\"x\":2,\"xref\":\"x\",\"y\":1,\"yref\":\"y\"},{\"font\":{\"color\":\"white\"},\"showarrow\":false,\"text\":\"10.5 - 65\",\"x\":3,\"xref\":\"x\",\"y\":1,\"yref\":\"y\"},{\"font\":{\"color\":\"white\"},\"showarrow\":false,\"text\":\"20.4 - 126\",\"x\":4,\"xref\":\"x\",\"y\":1,\"yref\":\"y\"},{\"font\":{\"color\":\"white\"},\"showarrow\":false,\"text\":\"0.4 - 3\",\"x\":0,\"xref\":\"x\",\"y\":2,\"yref\":\"y\"},{\"font\":{\"color\":\"white\"},\"showarrow\":false,\"text\":\"23.9 - 193\",\"x\":1,\"xref\":\"x\",\"y\":2,\"yref\":\"y\"},{\"font\":{\"color\":\"white\"},\"showarrow\":false,\"text\":\"35.2 - 284\",\"x\":2,\"xref\":\"x\",\"y\":2,\"yref\":\"y\"},{\"font\":{\"color\":\"white\"},\"showarrow\":false,\"text\":\"15.9 - 128\",\"x\":3,\"xref\":\"x\",\"y\":2,\"yref\":\"y\"},{\"font\":{\"color\":\"white\"},\"showarrow\":false,\"text\":\"24.7 - 199\",\"x\":4,\"xref\":\"x\",\"y\":2,\"yref\":\"y\"},{\"font\":{\"color\":\"white\"},\"showarrow\":false,\"text\":\"0.6 - 4\",\"x\":0,\"xref\":\"x\",\"y\":3,\"yref\":\"y\"},{\"font\":{\"color\":\"white\"},\"showarrow\":false,\"text\":\"17.9 - 117\",\"x\":1,\"xref\":\"x\",\"y\":3,\"yref\":\"y\"},{\"font\":{\"color\":\"white\"},\"showarrow\":false,\"text\":\"30.2 - 197\",\"x\":2,\"xref\":\"x\",\"y\":3,\"yref\":\"y\"},{\"font\":{\"color\":\"white\"},\"showarrow\":false,\"text\":\"23.6 - 154\",\"x\":3,\"xref\":\"x\",\"y\":3,\"yref\":\"y\"},{\"font\":{\"color\":\"white\"},\"showarrow\":false,\"text\":\"27.6 - 180\",\"x\":4,\"xref\":\"x\",\"y\":3,\"yref\":\"y\"},{\"font\":{\"color\":\"white\"},\"showarrow\":false,\"text\":\"0.0 - 0\",\"x\":0,\"xref\":\"x\",\"y\":4,\"yref\":\"y\"},{\"font\":{\"color\":\"white\"},\"showarrow\":false,\"text\":\"11.7 - 98\",\"x\":1,\"xref\":\"x\",\"y\":4,\"yref\":\"y\"},{\"font\":{\"color\":\"white\"},\"showarrow\":false,\"text\":\"18.6 - 156\",\"x\":2,\"xref\":\"x\",\"y\":4,\"yref\":\"y\"},{\"font\":{\"color\":\"white\"},\"showarrow\":false,\"text\":\"9.6 - 81\",\"x\":3,\"xref\":\"x\",\"y\":4,\"yref\":\"y\"},{\"font\":{\"color\":\"white\"},\"showarrow\":false,\"text\":\"60.1 - 505\",\"x\":4,\"xref\":\"x\",\"y\":4,\"yref\":\"y\"}],\"height\":800,\"title\":{\"text\":\"Conf Matrix\"},\"width\":800,\"xaxis\":{\"title\":{\"text\":\"Predicted value\"}},\"yaxis\":{\"title\":{\"text\":\"Real value\"}},\"template\":{\"data\":{\"histogram2dcontour\":[{\"type\":\"histogram2dcontour\",\"colorbar\":{\"outlinewidth\":0,\"ticks\":\"\"},\"colorscale\":[[0.0,\"#0d0887\"],[0.1111111111111111,\"#46039f\"],[0.2222222222222222,\"#7201a8\"],[0.3333333333333333,\"#9c179e\"],[0.4444444444444444,\"#bd3786\"],[0.5555555555555556,\"#d8576b\"],[0.6666666666666666,\"#ed7953\"],[0.7777777777777778,\"#fb9f3a\"],[0.8888888888888888,\"#fdca26\"],[1.0,\"#f0f921\"]]}],\"choropleth\":[{\"type\":\"choropleth\",\"colorbar\":{\"outlinewidth\":0,\"ticks\":\"\"}}],\"histogram2d\":[{\"type\":\"histogram2d\",\"colorbar\":{\"outlinewidth\":0,\"ticks\":\"\"},\"colorscale\":[[0.0,\"#0d0887\"],[0.1111111111111111,\"#46039f\"],[0.2222222222222222,\"#7201a8\"],[0.3333333333333333,\"#9c179e\"],[0.4444444444444444,\"#bd3786\"],[0.5555555555555556,\"#d8576b\"],[0.6666666666666666,\"#ed7953\"],[0.7777777777777778,\"#fb9f3a\"],[0.8888888888888888,\"#fdca26\"],[1.0,\"#f0f921\"]]}],\"heatmap\":[{\"type\":\"heatmap\",\"colorbar\":{\"outlinewidth\":0,\"ticks\":\"\"},\"colorscale\":[[0.0,\"#0d0887\"],[0.1111111111111111,\"#46039f\"],[0.2222222222222222,\"#7201a8\"],[0.3333333333333333,\"#9c179e\"],[0.4444444444444444,\"#bd3786\"],[0.5555555555555556,\"#d8576b\"],[0.6666666666666666,\"#ed7953\"],[0.7777777777777778,\"#fb9f3a\"],[0.8888888888888888,\"#fdca26\"],[1.0,\"#f0f921\"]]}],\"heatmapgl\":[{\"type\":\"heatmapgl\",\"colorbar\":{\"outlinewidth\":0,\"ticks\":\"\"},\"colorscale\":[[0.0,\"#0d0887\"],[0.1111111111111111,\"#46039f\"],[0.2222222222222222,\"#7201a8\"],[0.3333333333333333,\"#9c179e\"],[0.4444444444444444,\"#bd3786\"],[0.5555555555555556,\"#d8576b\"],[0.6666666666666666,\"#ed7953\"],[0.7777777777777778,\"#fb9f3a\"],[0.8888888888888888,\"#fdca26\"],[1.0,\"#f0f921\"]]}],\"contourcarpet\":[{\"type\":\"contourcarpet\",\"colorbar\":{\"outlinewidth\":0,\"ticks\":\"\"}}],\"contour\":[{\"type\":\"contour\",\"colorbar\":{\"outlinewidth\":0,\"ticks\":\"\"},\"colorscale\":[[0.0,\"#0d0887\"],[0.1111111111111111,\"#46039f\"],[0.2222222222222222,\"#7201a8\"],[0.3333333333333333,\"#9c179e\"],[0.4444444444444444,\"#bd3786\"],[0.5555555555555556,\"#d8576b\"],[0.6666666666666666,\"#ed7953\"],[0.7777777777777778,\"#fb9f3a\"],[0.8888888888888888,\"#fdca26\"],[1.0,\"#f0f921\"]]}],\"surface\":[{\"type\":\"surface\",\"colorbar\":{\"outlinewidth\":0,\"ticks\":\"\"},\"colorscale\":[[0.0,\"#0d0887\"],[0.1111111111111111,\"#46039f\"],[0.2222222222222222,\"#7201a8\"],[0.3333333333333333,\"#9c179e\"],[0.4444444444444444,\"#bd3786\"],[0.5555555555555556,\"#d8576b\"],[0.6666666666666666,\"#ed7953\"],[0.7777777777777778,\"#fb9f3a\"],[0.8888888888888888,\"#fdca26\"],[1.0,\"#f0f921\"]]}],\"mesh3d\":[{\"type\":\"mesh3d\",\"colorbar\":{\"outlinewidth\":0,\"ticks\":\"\"}}],\"scatter\":[{\"fillpattern\":{\"fillmode\":\"overlay\",\"size\":10,\"solidity\":0.2},\"type\":\"scatter\"}],\"parcoords\":[{\"type\":\"parcoords\",\"line\":{\"colorbar\":{\"outlinewidth\":0,\"ticks\":\"\"}}}],\"scatterpolargl\":[{\"type\":\"scatterpolargl\",\"marker\":{\"colorbar\":{\"outlinewidth\":0,\"ticks\":\"\"}}}],\"bar\":[{\"error_x\":{\"color\":\"#2a3f5f\"},\"error_y\":{\"color\":\"#2a3f5f\"},\"marker\":{\"line\":{\"color\":\"#E5ECF6\",\"width\":0.5},\"pattern\":{\"fillmode\":\"overlay\",\"size\":10,\"solidity\":0.2}},\"type\":\"bar\"}],\"scattergeo\":[{\"type\":\"scattergeo\",\"marker\":{\"colorbar\":{\"outlinewidth\":0,\"ticks\":\"\"}}}],\"scatterpolar\":[{\"type\":\"scatterpolar\",\"marker\":{\"colorbar\":{\"outlinewidth\":0,\"ticks\":\"\"}}}],\"histogram\":[{\"marker\":{\"pattern\":{\"fillmode\":\"overlay\",\"size\":10,\"solidity\":0.2}},\"type\":\"histogram\"}],\"scattergl\":[{\"type\":\"scattergl\",\"marker\":{\"colorbar\":{\"outlinewidth\":0,\"ticks\":\"\"}}}],\"scatter3d\":[{\"type\":\"scatter3d\",\"line\":{\"colorbar\":{\"outlinewidth\":0,\"ticks\":\"\"}},\"marker\":{\"colorbar\":{\"outlinewidth\":0,\"ticks\":\"\"}}}],\"scattermapbox\":[{\"type\":\"scattermapbox\",\"marker\":{\"colorbar\":{\"outlinewidth\":0,\"ticks\":\"\"}}}],\"scatterternary\":[{\"type\":\"scatterternary\",\"marker\":{\"colorbar\":{\"outlinewidth\":0,\"ticks\":\"\"}}}],\"scattercarpet\":[{\"type\":\"scattercarpet\",\"marker\":{\"colorbar\":{\"outlinewidth\":0,\"ticks\":\"\"}}}],\"carpet\":[{\"aaxis\":{\"endlinecolor\":\"#2a3f5f\",\"gridcolor\":\"white\",\"linecolor\":\"white\",\"minorgridcolor\":\"white\",\"startlinecolor\":\"#2a3f5f\"},\"baxis\":{\"endlinecolor\":\"#2a3f5f\",\"gridcolor\":\"white\",\"linecolor\":\"white\",\"minorgridcolor\":\"white\",\"startlinecolor\":\"#2a3f5f\"},\"type\":\"carpet\"}],\"table\":[{\"cells\":{\"fill\":{\"color\":\"#EBF0F8\"},\"line\":{\"color\":\"white\"}},\"header\":{\"fill\":{\"color\":\"#C8D4E3\"},\"line\":{\"color\":\"white\"}},\"type\":\"table\"}],\"barpolar\":[{\"marker\":{\"line\":{\"color\":\"#E5ECF6\",\"width\":0.5},\"pattern\":{\"fillmode\":\"overlay\",\"size\":10,\"solidity\":0.2}},\"type\":\"barpolar\"}],\"pie\":[{\"automargin\":true,\"type\":\"pie\"}]},\"layout\":{\"autotypenumbers\":\"strict\",\"colorway\":[\"#636efa\",\"#EF553B\",\"#00cc96\",\"#ab63fa\",\"#FFA15A\",\"#19d3f3\",\"#FF6692\",\"#B6E880\",\"#FF97FF\",\"#FECB52\"],\"font\":{\"color\":\"#2a3f5f\"},\"hovermode\":\"closest\",\"hoverlabel\":{\"align\":\"left\"},\"paper_bgcolor\":\"white\",\"plot_bgcolor\":\"#E5ECF6\",\"polar\":{\"bgcolor\":\"#E5ECF6\",\"angularaxis\":{\"gridcolor\":\"white\",\"linecolor\":\"white\",\"ticks\":\"\"},\"radialaxis\":{\"gridcolor\":\"white\",\"linecolor\":\"white\",\"ticks\":\"\"}},\"ternary\":{\"bgcolor\":\"#E5ECF6\",\"aaxis\":{\"gridcolor\":\"white\",\"linecolor\":\"white\",\"ticks\":\"\"},\"baxis\":{\"gridcolor\":\"white\",\"linecolor\":\"white\",\"ticks\":\"\"},\"caxis\":{\"gridcolor\":\"white\",\"linecolor\":\"white\",\"ticks\":\"\"}},\"coloraxis\":{\"colorbar\":{\"outlinewidth\":0,\"ticks\":\"\"}},\"colorscale\":{\"sequential\":[[0.0,\"#0d0887\"],[0.1111111111111111,\"#46039f\"],[0.2222222222222222,\"#7201a8\"],[0.3333333333333333,\"#9c179e\"],[0.4444444444444444,\"#bd3786\"],[0.5555555555555556,\"#d8576b\"],[0.6666666666666666,\"#ed7953\"],[0.7777777777777778,\"#fb9f3a\"],[0.8888888888888888,\"#fdca26\"],[1.0,\"#f0f921\"]],\"sequentialminus\":[[0.0,\"#0d0887\"],[0.1111111111111111,\"#46039f\"],[0.2222222222222222,\"#7201a8\"],[0.3333333333333333,\"#9c179e\"],[0.4444444444444444,\"#bd3786\"],[0.5555555555555556,\"#d8576b\"],[0.6666666666666666,\"#ed7953\"],[0.7777777777777778,\"#fb9f3a\"],[0.8888888888888888,\"#fdca26\"],[1.0,\"#f0f921\"]],\"diverging\":[[0,\"#8e0152\"],[0.1,\"#c51b7d\"],[0.2,\"#de77ae\"],[0.3,\"#f1b6da\"],[0.4,\"#fde0ef\"],[0.5,\"#f7f7f7\"],[0.6,\"#e6f5d0\"],[0.7,\"#b8e186\"],[0.8,\"#7fbc41\"],[0.9,\"#4d9221\"],[1,\"#276419\"]]},\"xaxis\":{\"gridcolor\":\"white\",\"linecolor\":\"white\",\"ticks\":\"\",\"title\":{\"standoff\":15},\"zerolinecolor\":\"white\",\"automargin\":true,\"zerolinewidth\":2},\"yaxis\":{\"gridcolor\":\"white\",\"linecolor\":\"white\",\"ticks\":\"\",\"title\":{\"standoff\":15},\"zerolinecolor\":\"white\",\"automargin\":true,\"zerolinewidth\":2},\"scene\":{\"xaxis\":{\"backgroundcolor\":\"#E5ECF6\",\"gridcolor\":\"white\",\"linecolor\":\"white\",\"showbackground\":true,\"ticks\":\"\",\"zerolinecolor\":\"white\",\"gridwidth\":2},\"yaxis\":{\"backgroundcolor\":\"#E5ECF6\",\"gridcolor\":\"white\",\"linecolor\":\"white\",\"showbackground\":true,\"ticks\":\"\",\"zerolinecolor\":\"white\",\"gridwidth\":2},\"zaxis\":{\"backgroundcolor\":\"#E5ECF6\",\"gridcolor\":\"white\",\"linecolor\":\"white\",\"showbackground\":true,\"ticks\":\"\",\"zerolinecolor\":\"white\",\"gridwidth\":2}},\"shapedefaults\":{\"line\":{\"color\":\"#2a3f5f\"}},\"annotationdefaults\":{\"arrowcolor\":\"#2a3f5f\",\"arrowhead\":0,\"arrowwidth\":1},\"geo\":{\"bgcolor\":\"white\",\"landcolor\":\"#E5ECF6\",\"subunitcolor\":\"white\",\"showland\":true,\"showlakes\":true,\"lakecolor\":\"white\"},\"title\":{\"x\":0.05},\"mapbox\":{\"style\":\"light\"}}}},                        {\"responsive\": true}                    ).then(function(){\n",
       "                            \n",
       "var gd = document.getElementById('8d97de4b-138d-4e93-af15-3c5259d9a650');\n",
       "var x = new MutationObserver(function (mutations, observer) {{\n",
       "        var display = window.getComputedStyle(gd).display;\n",
       "        if (!display || display === 'none') {{\n",
       "            console.log([gd, 'removed!']);\n",
       "            Plotly.purge(gd);\n",
       "            observer.disconnect();\n",
       "        }}\n",
       "}});\n",
       "\n",
       "// Listen for the removal of the full notebook cells\n",
       "var notebookContainer = gd.closest('#notebook-container');\n",
       "if (notebookContainer) {{\n",
       "    x.observe(notebookContainer, {childList: true});\n",
       "}}\n",
       "\n",
       "// Listen for the clearing of the current output cell\n",
       "var outputEl = gd.closest('.output');\n",
       "if (outputEl) {{\n",
       "    x.observe(outputEl, {childList: true});\n",
       "}}\n",
       "\n",
       "                        })                };                });            </script>        </div>"
      ]
     },
     "metadata": {},
     "output_type": "display_data"
    }
   ],
   "source": [
    "lgb_train_dataset = lgb.Dataset(data=X_train, label=y_train)\n",
    "lgb_model = lgb.train(lgb_params, lgb_train_dataset)\n",
    "\n",
    "# Evaluar el modelo final\n",
    "y_pred = lgb_model.predict(X_test).argmax(axis=1)\n",
    "\n",
    "print(f'Kappa: {cohen_kappa_score(y_test, y_pred, weights=\"quadratic\")}')\n",
    "print(f'Accuracy: {accuracy_score(y_test, y_pred)}')\n",
    "print(f'Balanced Accuracy: {balanced_accuracy_score(y_test, y_pred)}')\n",
    "\n",
    "display(plot_confusion_matrix(y_test, y_pred))\n"
   ]
  }
 ],
 "metadata": {
  "kernelspec": {
   "display_name": "Python 3",
   "language": "python",
   "name": "python3"
  },
  "language_info": {
   "codemirror_mode": {
    "name": "ipython",
    "version": 3
   },
   "file_extension": ".py",
   "mimetype": "text/x-python",
   "name": "python",
   "nbconvert_exporter": "python",
   "pygments_lexer": "ipython3",
   "version": "3.12.3"
  }
 },
 "nbformat": 4,
 "nbformat_minor": 2
}
