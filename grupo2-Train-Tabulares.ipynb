{
 "cells": [
  {
   "cell_type": "markdown",
   "metadata": {},
   "source": [
    "# Entrenamiento del modelo \n",
    "\n",
    "# Grupo 2"
   ]
  },
  {
   "cell_type": "markdown",
   "metadata": {},
   "source": [
    "# usamos el dataset resultante del proceso de FE"
   ]
  },
  {
   "cell_type": "code",
   "execution_count": 28,
   "metadata": {},
   "outputs": [
    {
     "name": "stdout",
     "output_type": "stream",
     "text": [
      "/app\n"
     ]
    },
    {
     "name": "stderr",
     "output_type": "stream",
     "text": [
      "/usr/local/lib/python3.12/site-packages/IPython/core/magics/osm.py:417: UserWarning:\n",
      "\n",
      "This is now an optional IPython functionality, setting dhist requires you to install the `pickleshare` library.\n",
      "\n"
     ]
    }
   ],
   "source": [
    "%cd /app"
   ]
  },
  {
   "cell_type": "code",
   "execution_count": 29,
   "metadata": {},
   "outputs": [],
   "source": [
    "import os\n",
    "import numpy as np\n",
    "import pandas as pd\n",
    "import lightgbm as lgb\n",
    "import optuna\n",
    "from optuna.artifacts import FileSystemArtifactStore, upload_artifact\n",
    "from sklearn.model_selection import train_test_split, StratifiedKFold\n",
    "from sklearn.metrics import cohen_kappa_score, accuracy_score, balanced_accuracy_score, classification_report\n",
    "from sklearn.utils import shuffle\n",
    "from joblib import dump\n",
    "import matplotlib.pyplot as plt\n",
    "from UA_MDM_LDI_II.tutoriales.utils import plot_confusion_matrix\n",
    "from sklearn.preprocessing import LabelEncoder\n",
    "\n"
   ]
  },
  {
   "cell_type": "code",
   "execution_count": 30,
   "metadata": {},
   "outputs": [],
   "source": [
    "# Paths\n",
    "BASE_DIR = './'\n",
    "PATH_TO_TRAIN_FE_TEXT_LLM = os.path.join(BASE_DIR, \"input/petfinder-adoption-prediction/train/train_fe_text_llm.csv\")\n",
    "PATH_TO_MODELS = os.path.join(BASE_DIR, \"UA_MDM_LDI_II/work/models\")\n",
    "PATH_TO_TEMP_FILES = os.path.join(BASE_DIR, \"UA_MDM_LDI_II/work/optuna_temp_artifacts\")\n",
    "PATH_TO_OPTUNA_ARTIFACTS = os.path.join(BASE_DIR, \"UA_MDM_LDI_II/work/optuna_artifacts\")\n",
    "\n",
    "SEED = 42\n",
    "TEST_SIZE = 0.2\n",
    "\n"
   ]
  },
  {
   "cell_type": "code",
   "execution_count": 31,
   "metadata": {},
   "outputs": [
    {
     "name": "stderr",
     "output_type": "stream",
     "text": [
      "/tmp/ipykernel_2765521/1909255214.py:2: DtypeWarning:\n",
      "\n",
      "Columns (61) have mixed types. Specify dtype option on import or set low_memory=False.\n",
      "\n"
     ]
    }
   ],
   "source": [
    "# Datos Tabulares\n",
    "dataset = pd.read_csv(PATH_TO_TRAIN_FE_TEXT_LLM)\n",
    "\n",
    "#Type,Name,Age,Breed1,Breed2,Gender,Color1,Color2,Color3,MaturitySize,FurLength,Vaccinated,Dewormed,Sterilized,Health,Quantity,Fee,State,RescuerID,VideoAmt,Description,PetID,PhotoAmt,AdoptionSpeed,IsPureBreed,AgeInYears,Healthy,Overall_Health,IsFree,Breed1_Rarity,ColorQuantity,TotalMedia,StatePopulation,IsPeninsular,SentimentScore,SentimentMagnitude,SentimentLanguage,contains_dog,contains_friendly,contains_spayed,contains_good,contains_loving,contains_forever,contains_need,contains_home,contains_year,contains_life,contains_kitten,contains_email,contains_adoption,contains_litter,contains_sibling,contains_long,contains_new,contains_adopted,contains_week,contains_thank,coherence,requires_running_space,friendly_with_children,friendly_with_other_pets,is_calm,is_energetic,inconsistencies\n",
    "\n",
    "# Convertir columnas de objetos a categóricas o numéricas\n",
    "label_encoders = {}\n",
    "categorical_columns = ['SentimentLanguage', 'Overall_Health', 'coherence', 'friendly_with_children', 'friendly_with_other_pets', 'is_calm']\n",
    "\n",
    "for col in categorical_columns:\n",
    "    le = LabelEncoder()\n",
    "    dataset[col] = le.fit_transform(dataset[col].astype(str))\n",
    "    label_encoders[col] = le\n",
    "\n",
    "# Split del dataset\n",
    "train, test = train_test_split(dataset, test_size=TEST_SIZE, random_state=SEED, stratify=dataset.AdoptionSpeed)\n",
    "\n",
    "# Seleccionar características y etiqueta\n",
    "features = ['Type', 'Age', 'Breed1', 'Breed2', 'Gender', 'Color1', 'Color2', 'Color3', 'MaturitySize', \n",
    "            'FurLength', 'Vaccinated', 'Dewormed', 'Sterilized', 'Health', 'Quantity', 'Fee', 'State', \n",
    "            'VideoAmt', 'PhotoAmt', 'IsPureBreed', 'AgeInYears', 'Healthy', 'Overall_Health',  'IsFree', 'Breed1_Rarity', 'ColorQuantity', 'TotalMedia',\n",
    "            'StatePopulation', 'IsPeninsular', 'SentimentScore', 'SentimentMagnitude', 'SentimentLanguage'] + \\\n",
    "           [col for col in dataset.columns if col.startswith('contains_')] + \\\n",
    "           ['coherence', 'requires_running_space', 'friendly_with_children', 'friendly_with_other_pets', \n",
    "            'is_calm', 'is_energetic']\n",
    "\n",
    "label = 'AdoptionSpeed'\n",
    "\n",
    "X_train = train[features]\n",
    "y_train = train[label]\n",
    "\n",
    "X_test = test[features]\n",
    "y_test = test[label]\n"
   ]
  },
  {
   "cell_type": "code",
   "execution_count": 32,
   "metadata": {},
   "outputs": [
    {
     "name": "stdout",
     "output_type": "stream",
     "text": [
      "[LightGBM] [Info] Total Bins 881\n",
      "[LightGBM] [Info] Number of data points in the train set: 11994, number of used features: 58\n",
      "[LightGBM] [Info] Start training from score -3.599148\n",
      "[LightGBM] [Info] Start training from score -1.579379\n",
      "[LightGBM] [Info] Start training from score -1.311924\n",
      "[LightGBM] [Info] Start training from score -1.526206\n",
      "[LightGBM] [Info] Start training from score -1.273359\n",
      "Cohen Kappa Score Inicial: 0.3350371671316231\n"
     ]
    },
    {
     "data": {
      "application/vnd.plotly.v1+json": {
       "config": {
        "plotlyServerURL": "https://plot.ly"
       },
       "data": [
        {
         "type": "heatmap",
         "x": [
          0,
          1,
          2,
          3,
          4
         ],
         "y": [
          0,
          1,
          2,
          3,
          4
         ],
         "z": [
          [
           9.75609756097561,
           34.146341463414636,
           32.926829268292686,
           6.097560975609756,
           17.073170731707318
          ],
          [
           0.48543689320388345,
           30.582524271844658,
           38.83495145631068,
           10.194174757281553,
           19.902912621359224
          ],
          [
           0.12391573729863693,
           20.19826517967782,
           41.759603469640645,
           13.011152416356877,
           24.907063197026023
          ],
          [
           0.15337423312883436,
           17.177914110429448,
           32.82208588957055,
           22.23926380368098,
           27.607361963190186
          ],
          [
           0.2380952380952381,
           10.476190476190476,
           19.28571428571429,
           7.738095238095238,
           62.26190476190476
          ]
         ]
        }
       ],
       "layout": {
        "annotations": [
         {
          "font": {
           "color": "white"
          },
          "showarrow": false,
          "text": "9.8 - 8",
          "x": 0,
          "xref": "x",
          "y": 0,
          "yref": "y"
         },
         {
          "font": {
           "color": "white"
          },
          "showarrow": false,
          "text": "34.1 - 28",
          "x": 1,
          "xref": "x",
          "y": 0,
          "yref": "y"
         },
         {
          "font": {
           "color": "white"
          },
          "showarrow": false,
          "text": "32.9 - 27",
          "x": 2,
          "xref": "x",
          "y": 0,
          "yref": "y"
         },
         {
          "font": {
           "color": "white"
          },
          "showarrow": false,
          "text": "6.1 - 5",
          "x": 3,
          "xref": "x",
          "y": 0,
          "yref": "y"
         },
         {
          "font": {
           "color": "white"
          },
          "showarrow": false,
          "text": "17.1 - 14",
          "x": 4,
          "xref": "x",
          "y": 0,
          "yref": "y"
         },
         {
          "font": {
           "color": "white"
          },
          "showarrow": false,
          "text": "0.5 - 3",
          "x": 0,
          "xref": "x",
          "y": 1,
          "yref": "y"
         },
         {
          "font": {
           "color": "white"
          },
          "showarrow": false,
          "text": "30.6 - 189",
          "x": 1,
          "xref": "x",
          "y": 1,
          "yref": "y"
         },
         {
          "font": {
           "color": "white"
          },
          "showarrow": false,
          "text": "38.8 - 240",
          "x": 2,
          "xref": "x",
          "y": 1,
          "yref": "y"
         },
         {
          "font": {
           "color": "white"
          },
          "showarrow": false,
          "text": "10.2 - 63",
          "x": 3,
          "xref": "x",
          "y": 1,
          "yref": "y"
         },
         {
          "font": {
           "color": "white"
          },
          "showarrow": false,
          "text": "19.9 - 123",
          "x": 4,
          "xref": "x",
          "y": 1,
          "yref": "y"
         },
         {
          "font": {
           "color": "white"
          },
          "showarrow": false,
          "text": "0.1 - 1",
          "x": 0,
          "xref": "x",
          "y": 2,
          "yref": "y"
         },
         {
          "font": {
           "color": "white"
          },
          "showarrow": false,
          "text": "20.2 - 163",
          "x": 1,
          "xref": "x",
          "y": 2,
          "yref": "y"
         },
         {
          "font": {
           "color": "white"
          },
          "showarrow": false,
          "text": "41.8 - 337",
          "x": 2,
          "xref": "x",
          "y": 2,
          "yref": "y"
         },
         {
          "font": {
           "color": "white"
          },
          "showarrow": false,
          "text": "13.0 - 105",
          "x": 3,
          "xref": "x",
          "y": 2,
          "yref": "y"
         },
         {
          "font": {
           "color": "white"
          },
          "showarrow": false,
          "text": "24.9 - 201",
          "x": 4,
          "xref": "x",
          "y": 2,
          "yref": "y"
         },
         {
          "font": {
           "color": "white"
          },
          "showarrow": false,
          "text": "0.2 - 1",
          "x": 0,
          "xref": "x",
          "y": 3,
          "yref": "y"
         },
         {
          "font": {
           "color": "white"
          },
          "showarrow": false,
          "text": "17.2 - 112",
          "x": 1,
          "xref": "x",
          "y": 3,
          "yref": "y"
         },
         {
          "font": {
           "color": "white"
          },
          "showarrow": false,
          "text": "32.8 - 214",
          "x": 2,
          "xref": "x",
          "y": 3,
          "yref": "y"
         },
         {
          "font": {
           "color": "white"
          },
          "showarrow": false,
          "text": "22.2 - 145",
          "x": 3,
          "xref": "x",
          "y": 3,
          "yref": "y"
         },
         {
          "font": {
           "color": "white"
          },
          "showarrow": false,
          "text": "27.6 - 180",
          "x": 4,
          "xref": "x",
          "y": 3,
          "yref": "y"
         },
         {
          "font": {
           "color": "white"
          },
          "showarrow": false,
          "text": "0.2 - 2",
          "x": 0,
          "xref": "x",
          "y": 4,
          "yref": "y"
         },
         {
          "font": {
           "color": "white"
          },
          "showarrow": false,
          "text": "10.5 - 88",
          "x": 1,
          "xref": "x",
          "y": 4,
          "yref": "y"
         },
         {
          "font": {
           "color": "white"
          },
          "showarrow": false,
          "text": "19.3 - 162",
          "x": 2,
          "xref": "x",
          "y": 4,
          "yref": "y"
         },
         {
          "font": {
           "color": "white"
          },
          "showarrow": false,
          "text": "7.7 - 65",
          "x": 3,
          "xref": "x",
          "y": 4,
          "yref": "y"
         },
         {
          "font": {
           "color": "white"
          },
          "showarrow": false,
          "text": "62.3 - 523",
          "x": 4,
          "xref": "x",
          "y": 4,
          "yref": "y"
         }
        ],
        "height": 800,
        "template": {
         "data": {
          "bar": [
           {
            "error_x": {
             "color": "#2a3f5f"
            },
            "error_y": {
             "color": "#2a3f5f"
            },
            "marker": {
             "line": {
              "color": "#E5ECF6",
              "width": 0.5
             },
             "pattern": {
              "fillmode": "overlay",
              "size": 10,
              "solidity": 0.2
             }
            },
            "type": "bar"
           }
          ],
          "barpolar": [
           {
            "marker": {
             "line": {
              "color": "#E5ECF6",
              "width": 0.5
             },
             "pattern": {
              "fillmode": "overlay",
              "size": 10,
              "solidity": 0.2
             }
            },
            "type": "barpolar"
           }
          ],
          "carpet": [
           {
            "aaxis": {
             "endlinecolor": "#2a3f5f",
             "gridcolor": "white",
             "linecolor": "white",
             "minorgridcolor": "white",
             "startlinecolor": "#2a3f5f"
            },
            "baxis": {
             "endlinecolor": "#2a3f5f",
             "gridcolor": "white",
             "linecolor": "white",
             "minorgridcolor": "white",
             "startlinecolor": "#2a3f5f"
            },
            "type": "carpet"
           }
          ],
          "choropleth": [
           {
            "colorbar": {
             "outlinewidth": 0,
             "ticks": ""
            },
            "type": "choropleth"
           }
          ],
          "contour": [
           {
            "colorbar": {
             "outlinewidth": 0,
             "ticks": ""
            },
            "colorscale": [
             [
              0,
              "#0d0887"
             ],
             [
              0.1111111111111111,
              "#46039f"
             ],
             [
              0.2222222222222222,
              "#7201a8"
             ],
             [
              0.3333333333333333,
              "#9c179e"
             ],
             [
              0.4444444444444444,
              "#bd3786"
             ],
             [
              0.5555555555555556,
              "#d8576b"
             ],
             [
              0.6666666666666666,
              "#ed7953"
             ],
             [
              0.7777777777777778,
              "#fb9f3a"
             ],
             [
              0.8888888888888888,
              "#fdca26"
             ],
             [
              1,
              "#f0f921"
             ]
            ],
            "type": "contour"
           }
          ],
          "contourcarpet": [
           {
            "colorbar": {
             "outlinewidth": 0,
             "ticks": ""
            },
            "type": "contourcarpet"
           }
          ],
          "heatmap": [
           {
            "colorbar": {
             "outlinewidth": 0,
             "ticks": ""
            },
            "colorscale": [
             [
              0,
              "#0d0887"
             ],
             [
              0.1111111111111111,
              "#46039f"
             ],
             [
              0.2222222222222222,
              "#7201a8"
             ],
             [
              0.3333333333333333,
              "#9c179e"
             ],
             [
              0.4444444444444444,
              "#bd3786"
             ],
             [
              0.5555555555555556,
              "#d8576b"
             ],
             [
              0.6666666666666666,
              "#ed7953"
             ],
             [
              0.7777777777777778,
              "#fb9f3a"
             ],
             [
              0.8888888888888888,
              "#fdca26"
             ],
             [
              1,
              "#f0f921"
             ]
            ],
            "type": "heatmap"
           }
          ],
          "heatmapgl": [
           {
            "colorbar": {
             "outlinewidth": 0,
             "ticks": ""
            },
            "colorscale": [
             [
              0,
              "#0d0887"
             ],
             [
              0.1111111111111111,
              "#46039f"
             ],
             [
              0.2222222222222222,
              "#7201a8"
             ],
             [
              0.3333333333333333,
              "#9c179e"
             ],
             [
              0.4444444444444444,
              "#bd3786"
             ],
             [
              0.5555555555555556,
              "#d8576b"
             ],
             [
              0.6666666666666666,
              "#ed7953"
             ],
             [
              0.7777777777777778,
              "#fb9f3a"
             ],
             [
              0.8888888888888888,
              "#fdca26"
             ],
             [
              1,
              "#f0f921"
             ]
            ],
            "type": "heatmapgl"
           }
          ],
          "histogram": [
           {
            "marker": {
             "pattern": {
              "fillmode": "overlay",
              "size": 10,
              "solidity": 0.2
             }
            },
            "type": "histogram"
           }
          ],
          "histogram2d": [
           {
            "colorbar": {
             "outlinewidth": 0,
             "ticks": ""
            },
            "colorscale": [
             [
              0,
              "#0d0887"
             ],
             [
              0.1111111111111111,
              "#46039f"
             ],
             [
              0.2222222222222222,
              "#7201a8"
             ],
             [
              0.3333333333333333,
              "#9c179e"
             ],
             [
              0.4444444444444444,
              "#bd3786"
             ],
             [
              0.5555555555555556,
              "#d8576b"
             ],
             [
              0.6666666666666666,
              "#ed7953"
             ],
             [
              0.7777777777777778,
              "#fb9f3a"
             ],
             [
              0.8888888888888888,
              "#fdca26"
             ],
             [
              1,
              "#f0f921"
             ]
            ],
            "type": "histogram2d"
           }
          ],
          "histogram2dcontour": [
           {
            "colorbar": {
             "outlinewidth": 0,
             "ticks": ""
            },
            "colorscale": [
             [
              0,
              "#0d0887"
             ],
             [
              0.1111111111111111,
              "#46039f"
             ],
             [
              0.2222222222222222,
              "#7201a8"
             ],
             [
              0.3333333333333333,
              "#9c179e"
             ],
             [
              0.4444444444444444,
              "#bd3786"
             ],
             [
              0.5555555555555556,
              "#d8576b"
             ],
             [
              0.6666666666666666,
              "#ed7953"
             ],
             [
              0.7777777777777778,
              "#fb9f3a"
             ],
             [
              0.8888888888888888,
              "#fdca26"
             ],
             [
              1,
              "#f0f921"
             ]
            ],
            "type": "histogram2dcontour"
           }
          ],
          "mesh3d": [
           {
            "colorbar": {
             "outlinewidth": 0,
             "ticks": ""
            },
            "type": "mesh3d"
           }
          ],
          "parcoords": [
           {
            "line": {
             "colorbar": {
              "outlinewidth": 0,
              "ticks": ""
             }
            },
            "type": "parcoords"
           }
          ],
          "pie": [
           {
            "automargin": true,
            "type": "pie"
           }
          ],
          "scatter": [
           {
            "fillpattern": {
             "fillmode": "overlay",
             "size": 10,
             "solidity": 0.2
            },
            "type": "scatter"
           }
          ],
          "scatter3d": [
           {
            "line": {
             "colorbar": {
              "outlinewidth": 0,
              "ticks": ""
             }
            },
            "marker": {
             "colorbar": {
              "outlinewidth": 0,
              "ticks": ""
             }
            },
            "type": "scatter3d"
           }
          ],
          "scattercarpet": [
           {
            "marker": {
             "colorbar": {
              "outlinewidth": 0,
              "ticks": ""
             }
            },
            "type": "scattercarpet"
           }
          ],
          "scattergeo": [
           {
            "marker": {
             "colorbar": {
              "outlinewidth": 0,
              "ticks": ""
             }
            },
            "type": "scattergeo"
           }
          ],
          "scattergl": [
           {
            "marker": {
             "colorbar": {
              "outlinewidth": 0,
              "ticks": ""
             }
            },
            "type": "scattergl"
           }
          ],
          "scattermapbox": [
           {
            "marker": {
             "colorbar": {
              "outlinewidth": 0,
              "ticks": ""
             }
            },
            "type": "scattermapbox"
           }
          ],
          "scatterpolar": [
           {
            "marker": {
             "colorbar": {
              "outlinewidth": 0,
              "ticks": ""
             }
            },
            "type": "scatterpolar"
           }
          ],
          "scatterpolargl": [
           {
            "marker": {
             "colorbar": {
              "outlinewidth": 0,
              "ticks": ""
             }
            },
            "type": "scatterpolargl"
           }
          ],
          "scatterternary": [
           {
            "marker": {
             "colorbar": {
              "outlinewidth": 0,
              "ticks": ""
             }
            },
            "type": "scatterternary"
           }
          ],
          "surface": [
           {
            "colorbar": {
             "outlinewidth": 0,
             "ticks": ""
            },
            "colorscale": [
             [
              0,
              "#0d0887"
             ],
             [
              0.1111111111111111,
              "#46039f"
             ],
             [
              0.2222222222222222,
              "#7201a8"
             ],
             [
              0.3333333333333333,
              "#9c179e"
             ],
             [
              0.4444444444444444,
              "#bd3786"
             ],
             [
              0.5555555555555556,
              "#d8576b"
             ],
             [
              0.6666666666666666,
              "#ed7953"
             ],
             [
              0.7777777777777778,
              "#fb9f3a"
             ],
             [
              0.8888888888888888,
              "#fdca26"
             ],
             [
              1,
              "#f0f921"
             ]
            ],
            "type": "surface"
           }
          ],
          "table": [
           {
            "cells": {
             "fill": {
              "color": "#EBF0F8"
             },
             "line": {
              "color": "white"
             }
            },
            "header": {
             "fill": {
              "color": "#C8D4E3"
             },
             "line": {
              "color": "white"
             }
            },
            "type": "table"
           }
          ]
         },
         "layout": {
          "annotationdefaults": {
           "arrowcolor": "#2a3f5f",
           "arrowhead": 0,
           "arrowwidth": 1
          },
          "autotypenumbers": "strict",
          "coloraxis": {
           "colorbar": {
            "outlinewidth": 0,
            "ticks": ""
           }
          },
          "colorscale": {
           "diverging": [
            [
             0,
             "#8e0152"
            ],
            [
             0.1,
             "#c51b7d"
            ],
            [
             0.2,
             "#de77ae"
            ],
            [
             0.3,
             "#f1b6da"
            ],
            [
             0.4,
             "#fde0ef"
            ],
            [
             0.5,
             "#f7f7f7"
            ],
            [
             0.6,
             "#e6f5d0"
            ],
            [
             0.7,
             "#b8e186"
            ],
            [
             0.8,
             "#7fbc41"
            ],
            [
             0.9,
             "#4d9221"
            ],
            [
             1,
             "#276419"
            ]
           ],
           "sequential": [
            [
             0,
             "#0d0887"
            ],
            [
             0.1111111111111111,
             "#46039f"
            ],
            [
             0.2222222222222222,
             "#7201a8"
            ],
            [
             0.3333333333333333,
             "#9c179e"
            ],
            [
             0.4444444444444444,
             "#bd3786"
            ],
            [
             0.5555555555555556,
             "#d8576b"
            ],
            [
             0.6666666666666666,
             "#ed7953"
            ],
            [
             0.7777777777777778,
             "#fb9f3a"
            ],
            [
             0.8888888888888888,
             "#fdca26"
            ],
            [
             1,
             "#f0f921"
            ]
           ],
           "sequentialminus": [
            [
             0,
             "#0d0887"
            ],
            [
             0.1111111111111111,
             "#46039f"
            ],
            [
             0.2222222222222222,
             "#7201a8"
            ],
            [
             0.3333333333333333,
             "#9c179e"
            ],
            [
             0.4444444444444444,
             "#bd3786"
            ],
            [
             0.5555555555555556,
             "#d8576b"
            ],
            [
             0.6666666666666666,
             "#ed7953"
            ],
            [
             0.7777777777777778,
             "#fb9f3a"
            ],
            [
             0.8888888888888888,
             "#fdca26"
            ],
            [
             1,
             "#f0f921"
            ]
           ]
          },
          "colorway": [
           "#636efa",
           "#EF553B",
           "#00cc96",
           "#ab63fa",
           "#FFA15A",
           "#19d3f3",
           "#FF6692",
           "#B6E880",
           "#FF97FF",
           "#FECB52"
          ],
          "font": {
           "color": "#2a3f5f"
          },
          "geo": {
           "bgcolor": "white",
           "lakecolor": "white",
           "landcolor": "#E5ECF6",
           "showlakes": true,
           "showland": true,
           "subunitcolor": "white"
          },
          "hoverlabel": {
           "align": "left"
          },
          "hovermode": "closest",
          "mapbox": {
           "style": "light"
          },
          "paper_bgcolor": "white",
          "plot_bgcolor": "#E5ECF6",
          "polar": {
           "angularaxis": {
            "gridcolor": "white",
            "linecolor": "white",
            "ticks": ""
           },
           "bgcolor": "#E5ECF6",
           "radialaxis": {
            "gridcolor": "white",
            "linecolor": "white",
            "ticks": ""
           }
          },
          "scene": {
           "xaxis": {
            "backgroundcolor": "#E5ECF6",
            "gridcolor": "white",
            "gridwidth": 2,
            "linecolor": "white",
            "showbackground": true,
            "ticks": "",
            "zerolinecolor": "white"
           },
           "yaxis": {
            "backgroundcolor": "#E5ECF6",
            "gridcolor": "white",
            "gridwidth": 2,
            "linecolor": "white",
            "showbackground": true,
            "ticks": "",
            "zerolinecolor": "white"
           },
           "zaxis": {
            "backgroundcolor": "#E5ECF6",
            "gridcolor": "white",
            "gridwidth": 2,
            "linecolor": "white",
            "showbackground": true,
            "ticks": "",
            "zerolinecolor": "white"
           }
          },
          "shapedefaults": {
           "line": {
            "color": "#2a3f5f"
           }
          },
          "ternary": {
           "aaxis": {
            "gridcolor": "white",
            "linecolor": "white",
            "ticks": ""
           },
           "baxis": {
            "gridcolor": "white",
            "linecolor": "white",
            "ticks": ""
           },
           "bgcolor": "#E5ECF6",
           "caxis": {
            "gridcolor": "white",
            "linecolor": "white",
            "ticks": ""
           }
          },
          "title": {
           "x": 0.05
          },
          "xaxis": {
           "automargin": true,
           "gridcolor": "white",
           "linecolor": "white",
           "ticks": "",
           "title": {
            "standoff": 15
           },
           "zerolinecolor": "white",
           "zerolinewidth": 2
          },
          "yaxis": {
           "automargin": true,
           "gridcolor": "white",
           "linecolor": "white",
           "ticks": "",
           "title": {
            "standoff": 15
           },
           "zerolinecolor": "white",
           "zerolinewidth": 2
          }
         }
        },
        "title": {
         "text": "Conf Matrix"
        },
        "width": 800,
        "xaxis": {
         "title": {
          "text": "Predicted value"
         }
        },
        "yaxis": {
         "title": {
          "text": "Real value"
         }
        }
       }
      },
      "text/html": [
       "<div>                            <div id=\"97a3886d-54dc-4ff0-a797-ddc633193164\" class=\"plotly-graph-div\" style=\"height:800px; width:800px;\"></div>            <script type=\"text/javascript\">                require([\"plotly\"], function(Plotly) {                    window.PLOTLYENV=window.PLOTLYENV || {};                                    if (document.getElementById(\"97a3886d-54dc-4ff0-a797-ddc633193164\")) {                    Plotly.newPlot(                        \"97a3886d-54dc-4ff0-a797-ddc633193164\",                        [{\"x\":[0,1,2,3,4],\"y\":[0,1,2,3,4],\"z\":[[9.75609756097561,34.146341463414636,32.926829268292686,6.097560975609756,17.073170731707318],[0.48543689320388345,30.582524271844658,38.83495145631068,10.194174757281553,19.902912621359224],[0.12391573729863693,20.19826517967782,41.759603469640645,13.011152416356877,24.907063197026023],[0.15337423312883436,17.177914110429448,32.82208588957055,22.23926380368098,27.607361963190186],[0.2380952380952381,10.476190476190476,19.28571428571429,7.738095238095238,62.26190476190476]],\"type\":\"heatmap\"}],                        {\"annotations\":[{\"font\":{\"color\":\"white\"},\"showarrow\":false,\"text\":\"9.8 - 8\",\"x\":0,\"xref\":\"x\",\"y\":0,\"yref\":\"y\"},{\"font\":{\"color\":\"white\"},\"showarrow\":false,\"text\":\"34.1 - 28\",\"x\":1,\"xref\":\"x\",\"y\":0,\"yref\":\"y\"},{\"font\":{\"color\":\"white\"},\"showarrow\":false,\"text\":\"32.9 - 27\",\"x\":2,\"xref\":\"x\",\"y\":0,\"yref\":\"y\"},{\"font\":{\"color\":\"white\"},\"showarrow\":false,\"text\":\"6.1 - 5\",\"x\":3,\"xref\":\"x\",\"y\":0,\"yref\":\"y\"},{\"font\":{\"color\":\"white\"},\"showarrow\":false,\"text\":\"17.1 - 14\",\"x\":4,\"xref\":\"x\",\"y\":0,\"yref\":\"y\"},{\"font\":{\"color\":\"white\"},\"showarrow\":false,\"text\":\"0.5 - 3\",\"x\":0,\"xref\":\"x\",\"y\":1,\"yref\":\"y\"},{\"font\":{\"color\":\"white\"},\"showarrow\":false,\"text\":\"30.6 - 189\",\"x\":1,\"xref\":\"x\",\"y\":1,\"yref\":\"y\"},{\"font\":{\"color\":\"white\"},\"showarrow\":false,\"text\":\"38.8 - 240\",\"x\":2,\"xref\":\"x\",\"y\":1,\"yref\":\"y\"},{\"font\":{\"color\":\"white\"},\"showarrow\":false,\"text\":\"10.2 - 63\",\"x\":3,\"xref\":\"x\",\"y\":1,\"yref\":\"y\"},{\"font\":{\"color\":\"white\"},\"showarrow\":false,\"text\":\"19.9 - 123\",\"x\":4,\"xref\":\"x\",\"y\":1,\"yref\":\"y\"},{\"font\":{\"color\":\"white\"},\"showarrow\":false,\"text\":\"0.1 - 1\",\"x\":0,\"xref\":\"x\",\"y\":2,\"yref\":\"y\"},{\"font\":{\"color\":\"white\"},\"showarrow\":false,\"text\":\"20.2 - 163\",\"x\":1,\"xref\":\"x\",\"y\":2,\"yref\":\"y\"},{\"font\":{\"color\":\"white\"},\"showarrow\":false,\"text\":\"41.8 - 337\",\"x\":2,\"xref\":\"x\",\"y\":2,\"yref\":\"y\"},{\"font\":{\"color\":\"white\"},\"showarrow\":false,\"text\":\"13.0 - 105\",\"x\":3,\"xref\":\"x\",\"y\":2,\"yref\":\"y\"},{\"font\":{\"color\":\"white\"},\"showarrow\":false,\"text\":\"24.9 - 201\",\"x\":4,\"xref\":\"x\",\"y\":2,\"yref\":\"y\"},{\"font\":{\"color\":\"white\"},\"showarrow\":false,\"text\":\"0.2 - 1\",\"x\":0,\"xref\":\"x\",\"y\":3,\"yref\":\"y\"},{\"font\":{\"color\":\"white\"},\"showarrow\":false,\"text\":\"17.2 - 112\",\"x\":1,\"xref\":\"x\",\"y\":3,\"yref\":\"y\"},{\"font\":{\"color\":\"white\"},\"showarrow\":false,\"text\":\"32.8 - 214\",\"x\":2,\"xref\":\"x\",\"y\":3,\"yref\":\"y\"},{\"font\":{\"color\":\"white\"},\"showarrow\":false,\"text\":\"22.2 - 145\",\"x\":3,\"xref\":\"x\",\"y\":3,\"yref\":\"y\"},{\"font\":{\"color\":\"white\"},\"showarrow\":false,\"text\":\"27.6 - 180\",\"x\":4,\"xref\":\"x\",\"y\":3,\"yref\":\"y\"},{\"font\":{\"color\":\"white\"},\"showarrow\":false,\"text\":\"0.2 - 2\",\"x\":0,\"xref\":\"x\",\"y\":4,\"yref\":\"y\"},{\"font\":{\"color\":\"white\"},\"showarrow\":false,\"text\":\"10.5 - 88\",\"x\":1,\"xref\":\"x\",\"y\":4,\"yref\":\"y\"},{\"font\":{\"color\":\"white\"},\"showarrow\":false,\"text\":\"19.3 - 162\",\"x\":2,\"xref\":\"x\",\"y\":4,\"yref\":\"y\"},{\"font\":{\"color\":\"white\"},\"showarrow\":false,\"text\":\"7.7 - 65\",\"x\":3,\"xref\":\"x\",\"y\":4,\"yref\":\"y\"},{\"font\":{\"color\":\"white\"},\"showarrow\":false,\"text\":\"62.3 - 523\",\"x\":4,\"xref\":\"x\",\"y\":4,\"yref\":\"y\"}],\"height\":800,\"title\":{\"text\":\"Conf Matrix\"},\"width\":800,\"xaxis\":{\"title\":{\"text\":\"Predicted value\"}},\"yaxis\":{\"title\":{\"text\":\"Real value\"}},\"template\":{\"data\":{\"histogram2dcontour\":[{\"type\":\"histogram2dcontour\",\"colorbar\":{\"outlinewidth\":0,\"ticks\":\"\"},\"colorscale\":[[0.0,\"#0d0887\"],[0.1111111111111111,\"#46039f\"],[0.2222222222222222,\"#7201a8\"],[0.3333333333333333,\"#9c179e\"],[0.4444444444444444,\"#bd3786\"],[0.5555555555555556,\"#d8576b\"],[0.6666666666666666,\"#ed7953\"],[0.7777777777777778,\"#fb9f3a\"],[0.8888888888888888,\"#fdca26\"],[1.0,\"#f0f921\"]]}],\"choropleth\":[{\"type\":\"choropleth\",\"colorbar\":{\"outlinewidth\":0,\"ticks\":\"\"}}],\"histogram2d\":[{\"type\":\"histogram2d\",\"colorbar\":{\"outlinewidth\":0,\"ticks\":\"\"},\"colorscale\":[[0.0,\"#0d0887\"],[0.1111111111111111,\"#46039f\"],[0.2222222222222222,\"#7201a8\"],[0.3333333333333333,\"#9c179e\"],[0.4444444444444444,\"#bd3786\"],[0.5555555555555556,\"#d8576b\"],[0.6666666666666666,\"#ed7953\"],[0.7777777777777778,\"#fb9f3a\"],[0.8888888888888888,\"#fdca26\"],[1.0,\"#f0f921\"]]}],\"heatmap\":[{\"type\":\"heatmap\",\"colorbar\":{\"outlinewidth\":0,\"ticks\":\"\"},\"colorscale\":[[0.0,\"#0d0887\"],[0.1111111111111111,\"#46039f\"],[0.2222222222222222,\"#7201a8\"],[0.3333333333333333,\"#9c179e\"],[0.4444444444444444,\"#bd3786\"],[0.5555555555555556,\"#d8576b\"],[0.6666666666666666,\"#ed7953\"],[0.7777777777777778,\"#fb9f3a\"],[0.8888888888888888,\"#fdca26\"],[1.0,\"#f0f921\"]]}],\"heatmapgl\":[{\"type\":\"heatmapgl\",\"colorbar\":{\"outlinewidth\":0,\"ticks\":\"\"},\"colorscale\":[[0.0,\"#0d0887\"],[0.1111111111111111,\"#46039f\"],[0.2222222222222222,\"#7201a8\"],[0.3333333333333333,\"#9c179e\"],[0.4444444444444444,\"#bd3786\"],[0.5555555555555556,\"#d8576b\"],[0.6666666666666666,\"#ed7953\"],[0.7777777777777778,\"#fb9f3a\"],[0.8888888888888888,\"#fdca26\"],[1.0,\"#f0f921\"]]}],\"contourcarpet\":[{\"type\":\"contourcarpet\",\"colorbar\":{\"outlinewidth\":0,\"ticks\":\"\"}}],\"contour\":[{\"type\":\"contour\",\"colorbar\":{\"outlinewidth\":0,\"ticks\":\"\"},\"colorscale\":[[0.0,\"#0d0887\"],[0.1111111111111111,\"#46039f\"],[0.2222222222222222,\"#7201a8\"],[0.3333333333333333,\"#9c179e\"],[0.4444444444444444,\"#bd3786\"],[0.5555555555555556,\"#d8576b\"],[0.6666666666666666,\"#ed7953\"],[0.7777777777777778,\"#fb9f3a\"],[0.8888888888888888,\"#fdca26\"],[1.0,\"#f0f921\"]]}],\"surface\":[{\"type\":\"surface\",\"colorbar\":{\"outlinewidth\":0,\"ticks\":\"\"},\"colorscale\":[[0.0,\"#0d0887\"],[0.1111111111111111,\"#46039f\"],[0.2222222222222222,\"#7201a8\"],[0.3333333333333333,\"#9c179e\"],[0.4444444444444444,\"#bd3786\"],[0.5555555555555556,\"#d8576b\"],[0.6666666666666666,\"#ed7953\"],[0.7777777777777778,\"#fb9f3a\"],[0.8888888888888888,\"#fdca26\"],[1.0,\"#f0f921\"]]}],\"mesh3d\":[{\"type\":\"mesh3d\",\"colorbar\":{\"outlinewidth\":0,\"ticks\":\"\"}}],\"scatter\":[{\"fillpattern\":{\"fillmode\":\"overlay\",\"size\":10,\"solidity\":0.2},\"type\":\"scatter\"}],\"parcoords\":[{\"type\":\"parcoords\",\"line\":{\"colorbar\":{\"outlinewidth\":0,\"ticks\":\"\"}}}],\"scatterpolargl\":[{\"type\":\"scatterpolargl\",\"marker\":{\"colorbar\":{\"outlinewidth\":0,\"ticks\":\"\"}}}],\"bar\":[{\"error_x\":{\"color\":\"#2a3f5f\"},\"error_y\":{\"color\":\"#2a3f5f\"},\"marker\":{\"line\":{\"color\":\"#E5ECF6\",\"width\":0.5},\"pattern\":{\"fillmode\":\"overlay\",\"size\":10,\"solidity\":0.2}},\"type\":\"bar\"}],\"scattergeo\":[{\"type\":\"scattergeo\",\"marker\":{\"colorbar\":{\"outlinewidth\":0,\"ticks\":\"\"}}}],\"scatterpolar\":[{\"type\":\"scatterpolar\",\"marker\":{\"colorbar\":{\"outlinewidth\":0,\"ticks\":\"\"}}}],\"histogram\":[{\"marker\":{\"pattern\":{\"fillmode\":\"overlay\",\"size\":10,\"solidity\":0.2}},\"type\":\"histogram\"}],\"scattergl\":[{\"type\":\"scattergl\",\"marker\":{\"colorbar\":{\"outlinewidth\":0,\"ticks\":\"\"}}}],\"scatter3d\":[{\"type\":\"scatter3d\",\"line\":{\"colorbar\":{\"outlinewidth\":0,\"ticks\":\"\"}},\"marker\":{\"colorbar\":{\"outlinewidth\":0,\"ticks\":\"\"}}}],\"scattermapbox\":[{\"type\":\"scattermapbox\",\"marker\":{\"colorbar\":{\"outlinewidth\":0,\"ticks\":\"\"}}}],\"scatterternary\":[{\"type\":\"scatterternary\",\"marker\":{\"colorbar\":{\"outlinewidth\":0,\"ticks\":\"\"}}}],\"scattercarpet\":[{\"type\":\"scattercarpet\",\"marker\":{\"colorbar\":{\"outlinewidth\":0,\"ticks\":\"\"}}}],\"carpet\":[{\"aaxis\":{\"endlinecolor\":\"#2a3f5f\",\"gridcolor\":\"white\",\"linecolor\":\"white\",\"minorgridcolor\":\"white\",\"startlinecolor\":\"#2a3f5f\"},\"baxis\":{\"endlinecolor\":\"#2a3f5f\",\"gridcolor\":\"white\",\"linecolor\":\"white\",\"minorgridcolor\":\"white\",\"startlinecolor\":\"#2a3f5f\"},\"type\":\"carpet\"}],\"table\":[{\"cells\":{\"fill\":{\"color\":\"#EBF0F8\"},\"line\":{\"color\":\"white\"}},\"header\":{\"fill\":{\"color\":\"#C8D4E3\"},\"line\":{\"color\":\"white\"}},\"type\":\"table\"}],\"barpolar\":[{\"marker\":{\"line\":{\"color\":\"#E5ECF6\",\"width\":0.5},\"pattern\":{\"fillmode\":\"overlay\",\"size\":10,\"solidity\":0.2}},\"type\":\"barpolar\"}],\"pie\":[{\"automargin\":true,\"type\":\"pie\"}]},\"layout\":{\"autotypenumbers\":\"strict\",\"colorway\":[\"#636efa\",\"#EF553B\",\"#00cc96\",\"#ab63fa\",\"#FFA15A\",\"#19d3f3\",\"#FF6692\",\"#B6E880\",\"#FF97FF\",\"#FECB52\"],\"font\":{\"color\":\"#2a3f5f\"},\"hovermode\":\"closest\",\"hoverlabel\":{\"align\":\"left\"},\"paper_bgcolor\":\"white\",\"plot_bgcolor\":\"#E5ECF6\",\"polar\":{\"bgcolor\":\"#E5ECF6\",\"angularaxis\":{\"gridcolor\":\"white\",\"linecolor\":\"white\",\"ticks\":\"\"},\"radialaxis\":{\"gridcolor\":\"white\",\"linecolor\":\"white\",\"ticks\":\"\"}},\"ternary\":{\"bgcolor\":\"#E5ECF6\",\"aaxis\":{\"gridcolor\":\"white\",\"linecolor\":\"white\",\"ticks\":\"\"},\"baxis\":{\"gridcolor\":\"white\",\"linecolor\":\"white\",\"ticks\":\"\"},\"caxis\":{\"gridcolor\":\"white\",\"linecolor\":\"white\",\"ticks\":\"\"}},\"coloraxis\":{\"colorbar\":{\"outlinewidth\":0,\"ticks\":\"\"}},\"colorscale\":{\"sequential\":[[0.0,\"#0d0887\"],[0.1111111111111111,\"#46039f\"],[0.2222222222222222,\"#7201a8\"],[0.3333333333333333,\"#9c179e\"],[0.4444444444444444,\"#bd3786\"],[0.5555555555555556,\"#d8576b\"],[0.6666666666666666,\"#ed7953\"],[0.7777777777777778,\"#fb9f3a\"],[0.8888888888888888,\"#fdca26\"],[1.0,\"#f0f921\"]],\"sequentialminus\":[[0.0,\"#0d0887\"],[0.1111111111111111,\"#46039f\"],[0.2222222222222222,\"#7201a8\"],[0.3333333333333333,\"#9c179e\"],[0.4444444444444444,\"#bd3786\"],[0.5555555555555556,\"#d8576b\"],[0.6666666666666666,\"#ed7953\"],[0.7777777777777778,\"#fb9f3a\"],[0.8888888888888888,\"#fdca26\"],[1.0,\"#f0f921\"]],\"diverging\":[[0,\"#8e0152\"],[0.1,\"#c51b7d\"],[0.2,\"#de77ae\"],[0.3,\"#f1b6da\"],[0.4,\"#fde0ef\"],[0.5,\"#f7f7f7\"],[0.6,\"#e6f5d0\"],[0.7,\"#b8e186\"],[0.8,\"#7fbc41\"],[0.9,\"#4d9221\"],[1,\"#276419\"]]},\"xaxis\":{\"gridcolor\":\"white\",\"linecolor\":\"white\",\"ticks\":\"\",\"title\":{\"standoff\":15},\"zerolinecolor\":\"white\",\"automargin\":true,\"zerolinewidth\":2},\"yaxis\":{\"gridcolor\":\"white\",\"linecolor\":\"white\",\"ticks\":\"\",\"title\":{\"standoff\":15},\"zerolinecolor\":\"white\",\"automargin\":true,\"zerolinewidth\":2},\"scene\":{\"xaxis\":{\"backgroundcolor\":\"#E5ECF6\",\"gridcolor\":\"white\",\"linecolor\":\"white\",\"showbackground\":true,\"ticks\":\"\",\"zerolinecolor\":\"white\",\"gridwidth\":2},\"yaxis\":{\"backgroundcolor\":\"#E5ECF6\",\"gridcolor\":\"white\",\"linecolor\":\"white\",\"showbackground\":true,\"ticks\":\"\",\"zerolinecolor\":\"white\",\"gridwidth\":2},\"zaxis\":{\"backgroundcolor\":\"#E5ECF6\",\"gridcolor\":\"white\",\"linecolor\":\"white\",\"showbackground\":true,\"ticks\":\"\",\"zerolinecolor\":\"white\",\"gridwidth\":2}},\"shapedefaults\":{\"line\":{\"color\":\"#2a3f5f\"}},\"annotationdefaults\":{\"arrowcolor\":\"#2a3f5f\",\"arrowhead\":0,\"arrowwidth\":1},\"geo\":{\"bgcolor\":\"white\",\"landcolor\":\"#E5ECF6\",\"subunitcolor\":\"white\",\"showland\":true,\"showlakes\":true,\"lakecolor\":\"white\"},\"title\":{\"x\":0.05},\"mapbox\":{\"style\":\"light\"}}}},                        {\"responsive\": true}                    ).then(function(){\n",
       "                            \n",
       "var gd = document.getElementById('97a3886d-54dc-4ff0-a797-ddc633193164');\n",
       "var x = new MutationObserver(function (mutations, observer) {{\n",
       "        var display = window.getComputedStyle(gd).display;\n",
       "        if (!display || display === 'none') {{\n",
       "            console.log([gd, 'removed!']);\n",
       "            Plotly.purge(gd);\n",
       "            observer.disconnect();\n",
       "        }}\n",
       "}});\n",
       "\n",
       "// Listen for the removal of the full notebook cells\n",
       "var notebookContainer = gd.closest('#notebook-container');\n",
       "if (notebookContainer) {{\n",
       "    x.observe(notebookContainer, {childList: true});\n",
       "}}\n",
       "\n",
       "// Listen for the clearing of the current output cell\n",
       "var outputEl = gd.closest('.output');\n",
       "if (outputEl) {{\n",
       "    x.observe(outputEl, {childList: true});\n",
       "}}\n",
       "\n",
       "                        })                };                });            </script>        </div>"
      ]
     },
     "metadata": {},
     "output_type": "display_data"
    }
   ],
   "source": [
    "# Entrenamiento inicial\n",
    "lgb_params = {\n",
    "#    'device' : 'gpu', \n",
    "    'force_row_wise': True,\n",
    "    'objective': 'multiclass',\n",
    "    'num_class': len(y_train.unique())\n",
    "}\n",
    "\n",
    "lgb_train_dataset = lgb.Dataset(data=X_train, label=y_train)\n",
    "\n",
    "lgb_model = lgb.train(lgb_params, lgb_train_dataset)\n",
    "\n",
    "y_pred = lgb_model.predict(X_test).argmax(axis=1)\n",
    "\n",
    "print(\"Cohen Kappa Score Inicial:\", cohen_kappa_score(y_test, y_pred, weights='quadratic'))\n",
    "display(plot_confusion_matrix(y_test, y_pred))\n",
    "\n"
   ]
  },
  {
   "cell_type": "code",
   "execution_count": 33,
   "metadata": {},
   "outputs": [],
   "source": [
    "#lgb.plot_importance(lgb_model, height=0.5, figsize=(10, 12))\n",
    "#plt.show()"
   ]
  },
  {
   "cell_type": "code",
   "execution_count": 34,
   "metadata": {},
   "outputs": [],
   "source": [
    "# Optimización de Hiperparámetros con Optuna\n",
    "#def lgb_objective(trial):\n",
    "#    lgb_params = {\n",
    "#        'force_row_wise': True, #aceptando sugerencia de lightgbm\n",
    "#        'objective': 'multiclass',\n",
    "#        'verbosity': -1,\n",
    "#        'num_class': len(y_train.unique()),\n",
    "#        'lambda_l1': trial.suggest_float('lambda_l1', 1e-8, 10.0, log=True),\n",
    "#        'lambda_l2': trial.suggest_float('lambda_l2', 1e-8, 10.0, log=True),\n",
    "#        'num_leaves': trial.suggest_int('num_leaves', 10, 300),  # Ampliado\n",
    "#        'feature_fraction': trial.suggest_float('feature_fraction', 0.3, 1.0),  # Ampliado\n",
    "#        'bagging_fraction': trial.suggest_float('bagging_fraction', 0.3, 1.0),  # Ampliado\n",
    "#        'bagging_freq': trial.suggest_int('bagging_freq', 1, 10),  # Ampliado\n",
    "#        'min_child_samples': trial.suggest_int('min_child_samples', 5, 100),  # Ampliado\n",
    "#    }\n",
    "#    \n",
    "#    lgb_train_dataset = lgb.Dataset(data=X_train, label=y_train)\n",
    "#    lgb_model = lgb.train(lgb_params, lgb_train_dataset)\n",
    "#    \n",
    "#    return cohen_kappa_score(y_test, lgb_model.predict(X_test).argmax(axis=1), weights='quadratic')\n",
    "\n",
    "# Función para Cross-Validation y Early Stopping\n",
    "def lgb_custom_metric_kappa(dy_pred, dy_true):\n",
    "    metric_name = 'kappa'\n",
    "    value = cohen_kappa_score(dy_true.get_label(), dy_pred.argmax(axis=1), weights='quadratic')\n",
    "    is_higher_better = True\n",
    "    return metric_name, value, is_higher_better\n",
    "\n",
    "#def cv_es_lgb_objective(trial):\n",
    "#    lgb_params = {\n",
    "#        'objective': 'multiclass',\n",
    "#        'verbosity': -1,\n",
    "#        'num_class': len(y_train.unique()),\n",
    "#        'lambda_l1': trial.suggest_float('lambda_l1', 1e-8, 10.0, log=True),\n",
    "#        'lambda_l2': trial.suggest_float('lambda_l2', 1e-8, 10.0, log=True),\n",
    "#        'num_leaves': trial.suggest_int('num_leaves', 10, 300),  # Ampliado\n",
    "#        'feature_fraction': trial.suggest_float('feature_fraction', 0.3, 1.0),  # Ampliado\n",
    "#        'bagging_fraction': trial.suggest_float('bagging_fraction', 0.3, 1.0),  # Ampliado\n",
    "#        'bagging_freq': trial.suggest_int('bagging_freq', 1, 10),  # Ampliado\n",
    "#        'min_child_samples': trial.suggest_int('min_child_samples', 5, 100),  # Ampliado\n",
    "#    }\n",
    "\n",
    "def cv_es_lgb_objective(trial):\n",
    "    lgb_params = {\n",
    "        'objective': 'multiclass',\n",
    "        'verbosity': -1,\n",
    "        'num_class': len(y_train.unique()),\n",
    "        'lambda_l1': trial.suggest_float('lambda_l1', 1e-6, 1e0, log=True),  # Rango más amplio\n",
    "        'lambda_l2': trial.suggest_float('lambda_l2', 1e-6, 1e0, log=True),  # Rango más amplio\n",
    "        'num_leaves': trial.suggest_int('num_leaves', 20, 100),  # Rango más reducido\n",
    "        'feature_fraction': trial.suggest_float('feature_fraction', 0.3, 0.8),  # Ajustado\n",
    "        'bagging_fraction': trial.suggest_float('bagging_fraction', 0.4, 0.9),  # Ajustado\n",
    "        'bagging_freq': trial.suggest_int('bagging_freq', 1, 7),  # Ajustado ligeramente\n",
    "        'min_child_samples': trial.suggest_int('min_child_samples', 20, 100),  # Rango más elevado\n",
    "        'min_split_gain': trial.suggest_float('min_split_gain', 0.0, 0.5),  # Nuevo hiperparámetro\n",
    "        'max_depth': trial.suggest_int('max_depth', -1, 20)  # Nuevo hiperparámetro\n",
    "    }\n",
    "\n",
    "    scores_ensemble = np.zeros((len(y_test), len(y_train.unique())))\n",
    "    score_folds = 0\n",
    "    n_splits = 5\n",
    "\n",
    "    skf = StratifiedKFold(n_splits=n_splits)\n",
    "\n",
    "    for i, (if_index, oof_index) in enumerate(skf.split(X_train, y_train)):\n",
    "        lgb_if_dataset = lgb.Dataset(data=X_train.iloc[if_index], label=y_train.iloc[if_index], free_raw_data=False)\n",
    "        lgb_oof_dataset = lgb.Dataset(data=X_train.iloc[oof_index], label=y_train.iloc[oof_index], free_raw_data=False)\n",
    "\n",
    "        lgb_model = lgb.train(\n",
    "            lgb_params,\n",
    "            lgb_if_dataset,\n",
    "            valid_sets=lgb_oof_dataset,\n",
    "            callbacks=[lgb.early_stopping(10, verbose=False)],\n",
    "            feval=lgb_custom_metric_kappa\n",
    "        )\n",
    "\n",
    "        scores_ensemble += lgb_model.predict(X_test)\n",
    "        score_folds += cohen_kappa_score(y_train.iloc[oof_index], lgb_model.predict(X_train.iloc[oof_index]).argmax(axis=1), weights='quadratic') / n_splits\n",
    "\n",
    "    predicted_filename = os.path.join(PATH_TO_TEMP_FILES, f'test_{trial.study.study_name}_{trial.number}.joblib')\n",
    "    predicted_df = test.copy()\n",
    "    predicted_df['pred'] = [scores_ensemble[p, :] for p in range(scores_ensemble.shape[0])]\n",
    "    dump(predicted_df, predicted_filename)\n",
    "    upload_artifact(trial, predicted_filename, artifact_store)\n",
    "\n",
    "    cm_filename = os.path.join(PATH_TO_TEMP_FILES, f'cm_{trial.study.study_name}_{trial.number}.jpg')\n",
    "    plot_confusion_matrix(y_test, scores_ensemble.argmax(axis=1)).write_image(cm_filename)\n",
    "    upload_artifact(trial, cm_filename, artifact_store)\n",
    "\n",
    "    test_score = cohen_kappa_score(y_test, scores_ensemble.argmax(axis=1), weights='quadratic')\n",
    "    trial.set_user_attr(\"test_score\", test_score)\n",
    "\n",
    "    return score_folds\n",
    "\n"
   ]
  },
  {
   "cell_type": "code",
   "execution_count": 35,
   "metadata": {},
   "outputs": [
    {
     "name": "stderr",
     "output_type": "stream",
     "text": [
      "/tmp/ipykernel_2765521/1555603172.py:3: ExperimentalWarning:\n",
      "\n",
      "FileSystemArtifactStore is experimental (supported from v3.3.0). The interface can change in the future.\n",
      "\n"
     ]
    }
   ],
   "source": [
    "# Crear estudio de Optuna\n",
    "study_name = \"05 - LGB Multiclass CV 06\"  # Nuevo nombre de estudio\n",
    "artifact_store = FileSystemArtifactStore(base_path=PATH_TO_OPTUNA_ARTIFACTS)\n",
    "\n"
   ]
  },
  {
   "cell_type": "code",
   "execution_count": 36,
   "metadata": {},
   "outputs": [
    {
     "name": "stderr",
     "output_type": "stream",
     "text": [
      "[I 2024-07-03 02:32:56,363] A new study created in RDB with name: 05 - LGB Multiclass CV 06\n"
     ]
    }
   ],
   "source": [
    "study = optuna.create_study(direction='maximize', storage=\"sqlite:///db.sqlite3\", study_name=study_name, load_if_exists=True)\n"
   ]
  },
  {
   "cell_type": "code",
   "execution_count": 37,
   "metadata": {},
   "outputs": [
    {
     "name": "stderr",
     "output_type": "stream",
     "text": [
      "/tmp/ipykernel_2765521/1358195452.py:84: ExperimentalWarning:\n",
      "\n",
      "upload_artifact is experimental (supported from v3.3.0). The interface can change in the future.\n",
      "\n",
      "/tmp/ipykernel_2765521/1358195452.py:88: ExperimentalWarning:\n",
      "\n",
      "upload_artifact is experimental (supported from v3.3.0). The interface can change in the future.\n",
      "\n",
      "[I 2024-07-03 02:33:04,161] Trial 0 finished with value: 0.2195881877710005 and parameters: {'lambda_l1': 0.0004727764944651123, 'lambda_l2': 0.8955287245341094, 'num_leaves': 47, 'feature_fraction': 0.5589684909332189, 'bagging_fraction': 0.8699414105468073, 'bagging_freq': 3, 'min_child_samples': 29, 'min_split_gain': 0.4968990238267089, 'max_depth': 1}. Best is trial 0 with value: 0.2195881877710005.\n",
      "/tmp/ipykernel_2765521/1358195452.py:84: ExperimentalWarning:\n",
      "\n",
      "upload_artifact is experimental (supported from v3.3.0). The interface can change in the future.\n",
      "\n",
      "/tmp/ipykernel_2765521/1358195452.py:88: ExperimentalWarning:\n",
      "\n",
      "upload_artifact is experimental (supported from v3.3.0). The interface can change in the future.\n",
      "\n",
      "[I 2024-07-03 02:33:07,385] Trial 1 finished with value: 0.3533861112670613 and parameters: {'lambda_l1': 0.0013838340011030972, 'lambda_l2': 9.249637390267662e-06, 'num_leaves': 85, 'feature_fraction': 0.7242520348149879, 'bagging_fraction': 0.7103833219283691, 'bagging_freq': 7, 'min_child_samples': 42, 'min_split_gain': 0.29789400807436356, 'max_depth': 4}. Best is trial 1 with value: 0.3533861112670613.\n",
      "/tmp/ipykernel_2765521/1358195452.py:84: ExperimentalWarning:\n",
      "\n",
      "upload_artifact is experimental (supported from v3.3.0). The interface can change in the future.\n",
      "\n",
      "/tmp/ipykernel_2765521/1358195452.py:88: ExperimentalWarning:\n",
      "\n",
      "upload_artifact is experimental (supported from v3.3.0). The interface can change in the future.\n",
      "\n",
      "[I 2024-07-03 02:33:10,691] Trial 2 finished with value: 0.23927453403741708 and parameters: {'lambda_l1': 0.0006304675803833389, 'lambda_l2': 0.520957469682875, 'num_leaves': 65, 'feature_fraction': 0.4121523109549375, 'bagging_fraction': 0.5664822288556663, 'bagging_freq': 3, 'min_child_samples': 56, 'min_split_gain': 0.10857274855106547, 'max_depth': 1}. Best is trial 1 with value: 0.3533861112670613.\n",
      "/tmp/ipykernel_2765521/1358195452.py:84: ExperimentalWarning:\n",
      "\n",
      "upload_artifact is experimental (supported from v3.3.0). The interface can change in the future.\n",
      "\n",
      "/tmp/ipykernel_2765521/1358195452.py:88: ExperimentalWarning:\n",
      "\n",
      "upload_artifact is experimental (supported from v3.3.0). The interface can change in the future.\n",
      "\n",
      "[I 2024-07-03 02:33:17,073] Trial 3 finished with value: 0.3622879114183604 and parameters: {'lambda_l1': 1.456145690758534e-06, 'lambda_l2': 0.34350543845343473, 'num_leaves': 82, 'feature_fraction': 0.30355829440176796, 'bagging_fraction': 0.8533626076490217, 'bagging_freq': 1, 'min_child_samples': 28, 'min_split_gain': 0.24534467335071453, 'max_depth': -1}. Best is trial 3 with value: 0.3622879114183604.\n",
      "/tmp/ipykernel_2765521/1358195452.py:84: ExperimentalWarning:\n",
      "\n",
      "upload_artifact is experimental (supported from v3.3.0). The interface can change in the future.\n",
      "\n",
      "/tmp/ipykernel_2765521/1358195452.py:88: ExperimentalWarning:\n",
      "\n",
      "upload_artifact is experimental (supported from v3.3.0). The interface can change in the future.\n",
      "\n",
      "[I 2024-07-03 02:33:23,488] Trial 4 finished with value: 0.36167074392914256 and parameters: {'lambda_l1': 0.10106206008958664, 'lambda_l2': 3.3529443210705454e-06, 'num_leaves': 96, 'feature_fraction': 0.7648767953608875, 'bagging_fraction': 0.5915150434568646, 'bagging_freq': 7, 'min_child_samples': 36, 'min_split_gain': 0.32501410914112233, 'max_depth': 0}. Best is trial 3 with value: 0.3622879114183604.\n",
      "/tmp/ipykernel_2765521/1358195452.py:84: ExperimentalWarning:\n",
      "\n",
      "upload_artifact is experimental (supported from v3.3.0). The interface can change in the future.\n",
      "\n",
      "/tmp/ipykernel_2765521/1358195452.py:88: ExperimentalWarning:\n",
      "\n",
      "upload_artifact is experimental (supported from v3.3.0). The interface can change in the future.\n",
      "\n",
      "[I 2024-07-03 02:33:27,969] Trial 5 finished with value: 0.2628113560902124 and parameters: {'lambda_l1': 0.5857317185608456, 'lambda_l2': 1.043164764821169e-06, 'num_leaves': 46, 'feature_fraction': 0.5432491921316013, 'bagging_fraction': 0.4621163068861145, 'bagging_freq': 2, 'min_child_samples': 44, 'min_split_gain': 0.4377618593542304, 'max_depth': 1}. Best is trial 3 with value: 0.3622879114183604.\n",
      "/tmp/ipykernel_2765521/1358195452.py:84: ExperimentalWarning:\n",
      "\n",
      "upload_artifact is experimental (supported from v3.3.0). The interface can change in the future.\n",
      "\n",
      "/tmp/ipykernel_2765521/1358195452.py:88: ExperimentalWarning:\n",
      "\n",
      "upload_artifact is experimental (supported from v3.3.0). The interface can change in the future.\n",
      "\n",
      "[I 2024-07-03 02:33:34,263] Trial 6 finished with value: 0.357225542046914 and parameters: {'lambda_l1': 2.4255245781494284e-06, 'lambda_l2': 0.00010677475594422842, 'num_leaves': 20, 'feature_fraction': 0.36740121303906276, 'bagging_fraction': 0.48641185930739883, 'bagging_freq': 3, 'min_child_samples': 83, 'min_split_gain': 0.46445282086600176, 'max_depth': 7}. Best is trial 3 with value: 0.3622879114183604.\n",
      "/tmp/ipykernel_2765521/1358195452.py:84: ExperimentalWarning:\n",
      "\n",
      "upload_artifact is experimental (supported from v3.3.0). The interface can change in the future.\n",
      "\n",
      "/tmp/ipykernel_2765521/1358195452.py:88: ExperimentalWarning:\n",
      "\n",
      "upload_artifact is experimental (supported from v3.3.0). The interface can change in the future.\n",
      "\n",
      "[I 2024-07-03 02:33:39,031] Trial 7 finished with value: 0.3392106655258345 and parameters: {'lambda_l1': 0.0700916260768428, 'lambda_l2': 0.05328997785039133, 'num_leaves': 49, 'feature_fraction': 0.3450364093118495, 'bagging_fraction': 0.6102704873329252, 'bagging_freq': 5, 'min_child_samples': 37, 'min_split_gain': 0.3026134274648363, 'max_depth': 2}. Best is trial 3 with value: 0.3622879114183604.\n",
      "/tmp/ipykernel_2765521/1358195452.py:84: ExperimentalWarning:\n",
      "\n",
      "upload_artifact is experimental (supported from v3.3.0). The interface can change in the future.\n",
      "\n",
      "/tmp/ipykernel_2765521/1358195452.py:88: ExperimentalWarning:\n",
      "\n",
      "upload_artifact is experimental (supported from v3.3.0). The interface can change in the future.\n",
      "\n",
      "[I 2024-07-03 02:33:45,896] Trial 8 finished with value: 0.36757828524622904 and parameters: {'lambda_l1': 4.042830555254875e-05, 'lambda_l2': 0.004734736282388577, 'num_leaves': 85, 'feature_fraction': 0.6521042635183105, 'bagging_fraction': 0.8945665755155506, 'bagging_freq': 2, 'min_child_samples': 29, 'min_split_gain': 0.39629617922417143, 'max_depth': 17}. Best is trial 8 with value: 0.36757828524622904.\n",
      "/tmp/ipykernel_2765521/1358195452.py:84: ExperimentalWarning:\n",
      "\n",
      "upload_artifact is experimental (supported from v3.3.0). The interface can change in the future.\n",
      "\n",
      "/tmp/ipykernel_2765521/1358195452.py:88: ExperimentalWarning:\n",
      "\n",
      "upload_artifact is experimental (supported from v3.3.0). The interface can change in the future.\n",
      "\n",
      "[I 2024-07-03 02:33:51,161] Trial 9 finished with value: 0.3608927599563786 and parameters: {'lambda_l1': 0.0003816931482111079, 'lambda_l2': 7.195182340252481e-06, 'num_leaves': 44, 'feature_fraction': 0.3989469789552096, 'bagging_fraction': 0.668588842553697, 'bagging_freq': 4, 'min_child_samples': 33, 'min_split_gain': 0.38719317773112855, 'max_depth': 11}. Best is trial 8 with value: 0.36757828524622904.\n",
      "/tmp/ipykernel_2765521/1358195452.py:84: ExperimentalWarning:\n",
      "\n",
      "upload_artifact is experimental (supported from v3.3.0). The interface can change in the future.\n",
      "\n",
      "/tmp/ipykernel_2765521/1358195452.py:88: ExperimentalWarning:\n",
      "\n",
      "upload_artifact is experimental (supported from v3.3.0). The interface can change in the future.\n",
      "\n",
      "[I 2024-07-03 02:33:57,951] Trial 10 finished with value: 0.36640173986658225 and parameters: {'lambda_l1': 2.7559577114517462e-05, 'lambda_l2': 0.004341458910341797, 'num_leaves': 66, 'feature_fraction': 0.6576061786326941, 'bagging_fraction': 0.7696679831644041, 'bagging_freq': 1, 'min_child_samples': 82, 'min_split_gain': 0.12651149319608251, 'max_depth': 18}. Best is trial 8 with value: 0.36757828524622904.\n",
      "/tmp/ipykernel_2765521/1358195452.py:84: ExperimentalWarning:\n",
      "\n",
      "upload_artifact is experimental (supported from v3.3.0). The interface can change in the future.\n",
      "\n",
      "/tmp/ipykernel_2765521/1358195452.py:88: ExperimentalWarning:\n",
      "\n",
      "upload_artifact is experimental (supported from v3.3.0). The interface can change in the future.\n",
      "\n",
      "[I 2024-07-03 02:34:03,635] Trial 11 finished with value: 0.3594311173604418 and parameters: {'lambda_l1': 2.0384170982829972e-05, 'lambda_l2': 0.004283415654520865, 'num_leaves': 70, 'feature_fraction': 0.6547525364514535, 'bagging_fraction': 0.7973440112415388, 'bagging_freq': 1, 'min_child_samples': 95, 'min_split_gain': 0.08757473024834683, 'max_depth': 19}. Best is trial 8 with value: 0.36757828524622904.\n",
      "/tmp/ipykernel_2765521/1358195452.py:84: ExperimentalWarning:\n",
      "\n",
      "upload_artifact is experimental (supported from v3.3.0). The interface can change in the future.\n",
      "\n",
      "/tmp/ipykernel_2765521/1358195452.py:88: ExperimentalWarning:\n",
      "\n",
      "upload_artifact is experimental (supported from v3.3.0). The interface can change in the future.\n",
      "\n",
      "[I 2024-07-03 02:34:07,669] Trial 12 finished with value: 0.3648095044283465 and parameters: {'lambda_l1': 3.2247162648598994e-05, 'lambda_l2': 0.0034219759645412484, 'num_leaves': 79, 'feature_fraction': 0.61621373017429, 'bagging_fraction': 0.7667172665406753, 'bagging_freq': 1, 'min_child_samples': 73, 'min_split_gain': 0.17685493636400768, 'max_depth': 19}. Best is trial 8 with value: 0.36757828524622904.\n",
      "/tmp/ipykernel_2765521/1358195452.py:84: ExperimentalWarning:\n",
      "\n",
      "upload_artifact is experimental (supported from v3.3.0). The interface can change in the future.\n",
      "\n",
      "/tmp/ipykernel_2765521/1358195452.py:88: ExperimentalWarning:\n",
      "\n",
      "upload_artifact is experimental (supported from v3.3.0). The interface can change in the future.\n",
      "\n",
      "[I 2024-07-03 02:34:13,486] Trial 13 finished with value: 0.36575631409127557 and parameters: {'lambda_l1': 3.8352810249031675e-05, 'lambda_l2': 0.0003727917029762233, 'num_leaves': 97, 'feature_fraction': 0.6694280278419593, 'bagging_fraction': 0.7874499803556989, 'bagging_freq': 2, 'min_child_samples': 65, 'min_split_gain': 0.1759488596099945, 'max_depth': 15}. Best is trial 8 with value: 0.36757828524622904.\n",
      "/tmp/ipykernel_2765521/1358195452.py:84: ExperimentalWarning:\n",
      "\n",
      "upload_artifact is experimental (supported from v3.3.0). The interface can change in the future.\n",
      "\n",
      "/tmp/ipykernel_2765521/1358195452.py:88: ExperimentalWarning:\n",
      "\n",
      "upload_artifact is experimental (supported from v3.3.0). The interface can change in the future.\n",
      "\n",
      "[I 2024-07-03 02:34:18,185] Trial 14 finished with value: 0.36236458358091733 and parameters: {'lambda_l1': 0.004603785476167212, 'lambda_l2': 0.02104389406081321, 'num_leaves': 59, 'feature_fraction': 0.500820535278851, 'bagging_fraction': 0.8986121870519979, 'bagging_freq': 2, 'min_child_samples': 98, 'min_split_gain': 0.02951511796150641, 'max_depth': 15}. Best is trial 8 with value: 0.36757828524622904.\n",
      "/tmp/ipykernel_2765521/1358195452.py:84: ExperimentalWarning:\n",
      "\n",
      "upload_artifact is experimental (supported from v3.3.0). The interface can change in the future.\n",
      "\n",
      "/tmp/ipykernel_2765521/1358195452.py:88: ExperimentalWarning:\n",
      "\n",
      "upload_artifact is experimental (supported from v3.3.0). The interface can change in the future.\n",
      "\n",
      "[I 2024-07-03 02:34:23,145] Trial 15 finished with value: 0.36285103833089477 and parameters: {'lambda_l1': 1.0012767921308565e-05, 'lambda_l2': 0.00018040368196826245, 'num_leaves': 73, 'feature_fraction': 0.7076134154903395, 'bagging_fraction': 0.7337750085842815, 'bagging_freq': 5, 'min_child_samples': 82, 'min_split_gain': 0.19758282499845367, 'max_depth': 14}. Best is trial 8 with value: 0.36757828524622904.\n",
      "/tmp/ipykernel_2765521/1358195452.py:84: ExperimentalWarning:\n",
      "\n",
      "upload_artifact is experimental (supported from v3.3.0). The interface can change in the future.\n",
      "\n",
      "/tmp/ipykernel_2765521/1358195452.py:88: ExperimentalWarning:\n",
      "\n",
      "upload_artifact is experimental (supported from v3.3.0). The interface can change in the future.\n",
      "\n",
      "[I 2024-07-03 02:34:27,497] Trial 16 finished with value: 0.36272797656405276 and parameters: {'lambda_l1': 8.152407122700392e-05, 'lambda_l2': 0.0016647131651549457, 'num_leaves': 90, 'feature_fraction': 0.7888923586103787, 'bagging_fraction': 0.8204437420216563, 'bagging_freq': 2, 'min_child_samples': 20, 'min_split_gain': 0.40283737029708117, 'max_depth': 20}. Best is trial 8 with value: 0.36757828524622904.\n",
      "/tmp/ipykernel_2765521/1358195452.py:84: ExperimentalWarning:\n",
      "\n",
      "upload_artifact is experimental (supported from v3.3.0). The interface can change in the future.\n",
      "\n",
      "/tmp/ipykernel_2765521/1358195452.py:88: ExperimentalWarning:\n",
      "\n",
      "upload_artifact is experimental (supported from v3.3.0). The interface can change in the future.\n",
      "\n",
      "[I 2024-07-03 02:34:31,730] Trial 17 finished with value: 0.35200137720201097 and parameters: {'lambda_l1': 5.2374106568749085e-06, 'lambda_l2': 0.030104087971595042, 'num_leaves': 59, 'feature_fraction': 0.6100618314173886, 'bagging_fraction': 0.4039853633173752, 'bagging_freq': 1, 'min_child_samples': 55, 'min_split_gain': 0.009287651138825626, 'max_depth': 12}. Best is trial 8 with value: 0.36757828524622904.\n",
      "/tmp/ipykernel_2765521/1358195452.py:84: ExperimentalWarning:\n",
      "\n",
      "upload_artifact is experimental (supported from v3.3.0). The interface can change in the future.\n",
      "\n",
      "/tmp/ipykernel_2765521/1358195452.py:88: ExperimentalWarning:\n",
      "\n",
      "upload_artifact is experimental (supported from v3.3.0). The interface can change in the future.\n",
      "\n",
      "[I 2024-07-03 02:34:34,977] Trial 18 finished with value: 0.35722095159411893 and parameters: {'lambda_l1': 0.00015806092833550137, 'lambda_l2': 3.542596131865935e-05, 'num_leaves': 33, 'feature_fraction': 0.4868604000373775, 'bagging_fraction': 0.6919857718301087, 'bagging_freq': 4, 'min_child_samples': 67, 'min_split_gain': 0.3523331792176032, 'max_depth': 17}. Best is trial 8 with value: 0.36757828524622904.\n",
      "/tmp/ipykernel_2765521/1358195452.py:84: ExperimentalWarning:\n",
      "\n",
      "upload_artifact is experimental (supported from v3.3.0). The interface can change in the future.\n",
      "\n",
      "/tmp/ipykernel_2765521/1358195452.py:88: ExperimentalWarning:\n",
      "\n",
      "upload_artifact is experimental (supported from v3.3.0). The interface can change in the future.\n",
      "\n",
      "[I 2024-07-03 02:34:39,067] Trial 19 finished with value: 0.3638070574861947 and parameters: {'lambda_l1': 0.004472056465766589, 'lambda_l2': 0.010602311595122914, 'num_leaves': 74, 'feature_fraction': 0.5975569968027116, 'bagging_fraction': 0.8374024337492847, 'bagging_freq': 5, 'min_child_samples': 79, 'min_split_gain': 0.10980851486562068, 'max_depth': 7}. Best is trial 8 with value: 0.36757828524622904.\n",
      "/tmp/ipykernel_2765521/1358195452.py:84: ExperimentalWarning:\n",
      "\n",
      "upload_artifact is experimental (supported from v3.3.0). The interface can change in the future.\n",
      "\n",
      "/tmp/ipykernel_2765521/1358195452.py:88: ExperimentalWarning:\n",
      "\n",
      "upload_artifact is experimental (supported from v3.3.0). The interface can change in the future.\n",
      "\n",
      "[I 2024-07-03 02:34:43,681] Trial 20 finished with value: 0.3566875614786289 and parameters: {'lambda_l1': 0.00010479883789297383, 'lambda_l2': 0.00044136874077526527, 'num_leaves': 65, 'feature_fraction': 0.7032036739031633, 'bagging_fraction': 0.7613015147874678, 'bagging_freq': 3, 'min_child_samples': 90, 'min_split_gain': 0.2530275376594999, 'max_depth': 17}. Best is trial 8 with value: 0.36757828524622904.\n",
      "/tmp/ipykernel_2765521/1358195452.py:84: ExperimentalWarning:\n",
      "\n",
      "upload_artifact is experimental (supported from v3.3.0). The interface can change in the future.\n",
      "\n",
      "/tmp/ipykernel_2765521/1358195452.py:88: ExperimentalWarning:\n",
      "\n",
      "upload_artifact is experimental (supported from v3.3.0). The interface can change in the future.\n",
      "\n",
      "[I 2024-07-03 02:34:48,347] Trial 21 finished with value: 0.3633050871230137 and parameters: {'lambda_l1': 1.8504681583012683e-05, 'lambda_l2': 0.0007313252913716719, 'num_leaves': 97, 'feature_fraction': 0.6714617358892149, 'bagging_fraction': 0.796758377636231, 'bagging_freq': 2, 'min_child_samples': 64, 'min_split_gain': 0.18428955202441938, 'max_depth': 15}. Best is trial 8 with value: 0.36757828524622904.\n",
      "/tmp/ipykernel_2765521/1358195452.py:84: ExperimentalWarning:\n",
      "\n",
      "upload_artifact is experimental (supported from v3.3.0). The interface can change in the future.\n",
      "\n",
      "/tmp/ipykernel_2765521/1358195452.py:88: ExperimentalWarning:\n",
      "\n",
      "upload_artifact is experimental (supported from v3.3.0). The interface can change in the future.\n",
      "\n",
      "[I 2024-07-03 02:34:53,268] Trial 22 finished with value: 0.3687067335204691 and parameters: {'lambda_l1': 5.132446494827717e-05, 'lambda_l2': 0.0813713536820455, 'num_leaves': 100, 'feature_fraction': 0.6560700551599458, 'bagging_fraction': 0.8947649169231813, 'bagging_freq': 2, 'min_child_samples': 48, 'min_split_gain': 0.12972403488732667, 'max_depth': 17}. Best is trial 22 with value: 0.3687067335204691.\n",
      "/tmp/ipykernel_2765521/1358195452.py:84: ExperimentalWarning:\n",
      "\n",
      "upload_artifact is experimental (supported from v3.3.0). The interface can change in the future.\n",
      "\n",
      "/tmp/ipykernel_2765521/1358195452.py:88: ExperimentalWarning:\n",
      "\n",
      "upload_artifact is experimental (supported from v3.3.0). The interface can change in the future.\n",
      "\n",
      "[I 2024-07-03 02:34:58,614] Trial 23 finished with value: 0.3657372126422802 and parameters: {'lambda_l1': 6.6375455730436785e-06, 'lambda_l2': 0.07312762768182855, 'num_leaves': 88, 'feature_fraction': 0.7420262113987657, 'bagging_fraction': 0.8968171169830806, 'bagging_freq': 1, 'min_child_samples': 50, 'min_split_gain': 0.05302917237816736, 'max_depth': 17}. Best is trial 22 with value: 0.3687067335204691.\n",
      "/tmp/ipykernel_2765521/1358195452.py:84: ExperimentalWarning:\n",
      "\n",
      "upload_artifact is experimental (supported from v3.3.0). The interface can change in the future.\n",
      "\n",
      "/tmp/ipykernel_2765521/1358195452.py:88: ExperimentalWarning:\n",
      "\n",
      "upload_artifact is experimental (supported from v3.3.0). The interface can change in the future.\n",
      "\n",
      "[I 2024-07-03 02:35:04,149] Trial 24 finished with value: 0.37337860910463605 and parameters: {'lambda_l1': 0.00014882963272528675, 'lambda_l2': 0.18311465415139264, 'num_leaves': 100, 'feature_fraction': 0.6456661680361345, 'bagging_fraction': 0.8946830082472428, 'bagging_freq': 2, 'min_child_samples': 22, 'min_split_gain': 0.1278650371265225, 'max_depth': 13}. Best is trial 24 with value: 0.37337860910463605.\n",
      "/tmp/ipykernel_2765521/1358195452.py:84: ExperimentalWarning:\n",
      "\n",
      "upload_artifact is experimental (supported from v3.3.0). The interface can change in the future.\n",
      "\n",
      "/tmp/ipykernel_2765521/1358195452.py:88: ExperimentalWarning:\n",
      "\n",
      "upload_artifact is experimental (supported from v3.3.0). The interface can change in the future.\n",
      "\n",
      "[I 2024-07-03 02:35:09,341] Trial 25 finished with value: 0.37267734624091836 and parameters: {'lambda_l1': 0.0023320563939618374, 'lambda_l2': 0.12224416061096269, 'num_leaves': 100, 'feature_fraction': 0.5693699144415514, 'bagging_fraction': 0.8515129362440576, 'bagging_freq': 3, 'min_child_samples': 24, 'min_split_gain': 0.23709389819816754, 'max_depth': 12}. Best is trial 24 with value: 0.37337860910463605.\n",
      "/tmp/ipykernel_2765521/1358195452.py:84: ExperimentalWarning:\n",
      "\n",
      "upload_artifact is experimental (supported from v3.3.0). The interface can change in the future.\n",
      "\n",
      "/tmp/ipykernel_2765521/1358195452.py:88: ExperimentalWarning:\n",
      "\n",
      "upload_artifact is experimental (supported from v3.3.0). The interface can change in the future.\n",
      "\n",
      "[I 2024-07-03 02:35:14,447] Trial 26 finished with value: 0.3752748562055055 and parameters: {'lambda_l1': 0.0018857737700535143, 'lambda_l2': 0.16912272764344446, 'num_leaves': 100, 'feature_fraction': 0.5572004922760394, 'bagging_fraction': 0.8410327925474669, 'bagging_freq': 3, 'min_child_samples': 20, 'min_split_gain': 0.23598201247626546, 'max_depth': 9}. Best is trial 26 with value: 0.3752748562055055.\n",
      "/tmp/ipykernel_2765521/1358195452.py:84: ExperimentalWarning:\n",
      "\n",
      "upload_artifact is experimental (supported from v3.3.0). The interface can change in the future.\n",
      "\n",
      "/tmp/ipykernel_2765521/1358195452.py:88: ExperimentalWarning:\n",
      "\n",
      "upload_artifact is experimental (supported from v3.3.0). The interface can change in the future.\n",
      "\n",
      "[I 2024-07-03 02:35:19,273] Trial 27 finished with value: 0.36418225638954227 and parameters: {'lambda_l1': 0.002691502792915086, 'lambda_l2': 0.14603706623647061, 'num_leaves': 92, 'feature_fraction': 0.5005323948920157, 'bagging_fraction': 0.832919785576023, 'bagging_freq': 4, 'min_child_samples': 21, 'min_split_gain': 0.23951972983845005, 'max_depth': 9}. Best is trial 26 with value: 0.3752748562055055.\n",
      "/tmp/ipykernel_2765521/1358195452.py:84: ExperimentalWarning:\n",
      "\n",
      "upload_artifact is experimental (supported from v3.3.0). The interface can change in the future.\n",
      "\n",
      "/tmp/ipykernel_2765521/1358195452.py:88: ExperimentalWarning:\n",
      "\n",
      "upload_artifact is experimental (supported from v3.3.0). The interface can change in the future.\n",
      "\n",
      "[I 2024-07-03 02:35:24,953] Trial 28 finished with value: 0.3681981337355491 and parameters: {'lambda_l1': 0.012054682849726397, 'lambda_l2': 0.19679280787903516, 'num_leaves': 94, 'feature_fraction': 0.5541011298778888, 'bagging_fraction': 0.7335472977156371, 'bagging_freq': 3, 'min_child_samples': 24, 'min_split_gain': 0.2714681947541321, 'max_depth': 12}. Best is trial 26 with value: 0.3752748562055055.\n",
      "/tmp/ipykernel_2765521/1358195452.py:84: ExperimentalWarning:\n",
      "\n",
      "upload_artifact is experimental (supported from v3.3.0). The interface can change in the future.\n",
      "\n",
      "/tmp/ipykernel_2765521/1358195452.py:88: ExperimentalWarning:\n",
      "\n",
      "upload_artifact is experimental (supported from v3.3.0). The interface can change in the future.\n",
      "\n",
      "[I 2024-07-03 02:35:29,538] Trial 29 finished with value: 0.36931751133300916 and parameters: {'lambda_l1': 0.015482302905069571, 'lambda_l2': 0.8057343629642431, 'num_leaves': 100, 'feature_fraction': 0.4579394858948216, 'bagging_fraction': 0.8482398132433492, 'bagging_freq': 3, 'min_child_samples': 26, 'min_split_gain': 0.20936704124097763, 'max_depth': 9}. Best is trial 26 with value: 0.3752748562055055.\n",
      "/tmp/ipykernel_2765521/1358195452.py:84: ExperimentalWarning:\n",
      "\n",
      "upload_artifact is experimental (supported from v3.3.0). The interface can change in the future.\n",
      "\n",
      "/tmp/ipykernel_2765521/1358195452.py:88: ExperimentalWarning:\n",
      "\n",
      "upload_artifact is experimental (supported from v3.3.0). The interface can change in the future.\n",
      "\n",
      "[I 2024-07-03 02:35:34,442] Trial 30 finished with value: 0.3636423900952804 and parameters: {'lambda_l1': 0.00035539866922272166, 'lambda_l2': 0.017558030173179372, 'num_leaves': 77, 'feature_fraction': 0.584713084748326, 'bagging_fraction': 0.86077388817476, 'bagging_freq': 6, 'min_child_samples': 33, 'min_split_gain': 0.07048059817518926, 'max_depth': 7}. Best is trial 26 with value: 0.3752748562055055.\n",
      "/tmp/ipykernel_2765521/1358195452.py:84: ExperimentalWarning:\n",
      "\n",
      "upload_artifact is experimental (supported from v3.3.0). The interface can change in the future.\n",
      "\n",
      "/tmp/ipykernel_2765521/1358195452.py:88: ExperimentalWarning:\n",
      "\n",
      "upload_artifact is experimental (supported from v3.3.0). The interface can change in the future.\n",
      "\n",
      "[I 2024-07-03 02:35:41,110] Trial 31 finished with value: 0.3803323220828325 and parameters: {'lambda_l1': 0.02322359146499032, 'lambda_l2': 0.9210215685048083, 'num_leaves': 100, 'feature_fraction': 0.4625907047117019, 'bagging_fraction': 0.8603047319495472, 'bagging_freq': 3, 'min_child_samples': 26, 'min_split_gain': 0.20428208015049149, 'max_depth': 9}. Best is trial 31 with value: 0.3803323220828325.\n",
      "/tmp/ipykernel_2765521/1358195452.py:84: ExperimentalWarning:\n",
      "\n",
      "upload_artifact is experimental (supported from v3.3.0). The interface can change in the future.\n",
      "\n",
      "/tmp/ipykernel_2765521/1358195452.py:88: ExperimentalWarning:\n",
      "\n",
      "upload_artifact is experimental (supported from v3.3.0). The interface can change in the future.\n",
      "\n",
      "[I 2024-07-03 02:35:45,418] Trial 32 finished with value: 0.3586386059032941 and parameters: {'lambda_l1': 0.001375697215236609, 'lambda_l2': 0.9662459533055888, 'num_leaves': 89, 'feature_fraction': 0.5306990995286399, 'bagging_fraction': 0.8133795533242871, 'bagging_freq': 3, 'min_child_samples': 40, 'min_split_gain': 0.1431380437928395, 'max_depth': 10}. Best is trial 31 with value: 0.3803323220828325.\n",
      "/tmp/ipykernel_2765521/1358195452.py:84: ExperimentalWarning:\n",
      "\n",
      "upload_artifact is experimental (supported from v3.3.0). The interface can change in the future.\n",
      "\n",
      "/tmp/ipykernel_2765521/1358195452.py:88: ExperimentalWarning:\n",
      "\n",
      "upload_artifact is experimental (supported from v3.3.0). The interface can change in the future.\n",
      "\n",
      "[I 2024-07-03 02:35:50,862] Trial 33 finished with value: 0.3710552497838878 and parameters: {'lambda_l1': 0.019524391279630307, 'lambda_l2': 0.2997880373942154, 'num_leaves': 100, 'feature_fraction': 0.432476697508925, 'bagging_fraction': 0.8748947033247121, 'bagging_freq': 4, 'min_child_samples': 20, 'min_split_gain': 0.15305771695935189, 'max_depth': 13}. Best is trial 31 with value: 0.3803323220828325.\n",
      "/tmp/ipykernel_2765521/1358195452.py:84: ExperimentalWarning:\n",
      "\n",
      "upload_artifact is experimental (supported from v3.3.0). The interface can change in the future.\n",
      "\n",
      "/tmp/ipykernel_2765521/1358195452.py:88: ExperimentalWarning:\n",
      "\n",
      "upload_artifact is experimental (supported from v3.3.0). The interface can change in the future.\n",
      "\n",
      "[I 2024-07-03 02:35:54,149] Trial 34 finished with value: 0.35547222780828674 and parameters: {'lambda_l1': 0.051604782539628316, 'lambda_l2': 0.14320058154775933, 'num_leaves': 84, 'feature_fraction': 0.5724203172797644, 'bagging_fraction': 0.8636133614549782, 'bagging_freq': 4, 'min_child_samples': 29, 'min_split_gain': 0.21876854880093036, 'max_depth': 5}. Best is trial 31 with value: 0.3803323220828325.\n",
      "/tmp/ipykernel_2765521/1358195452.py:84: ExperimentalWarning:\n",
      "\n",
      "upload_artifact is experimental (supported from v3.3.0). The interface can change in the future.\n",
      "\n",
      "/tmp/ipykernel_2765521/1358195452.py:88: ExperimentalWarning:\n",
      "\n",
      "upload_artifact is experimental (supported from v3.3.0). The interface can change in the future.\n",
      "\n",
      "[I 2024-07-03 02:36:00,779] Trial 35 finished with value: 0.3638145973171233 and parameters: {'lambda_l1': 0.0010642935922639293, 'lambda_l2': 0.45266457183513453, 'num_leaves': 95, 'feature_fraction': 0.51824230057815, 'bagging_fraction': 0.8330729140604843, 'bagging_freq': 3, 'min_child_samples': 31, 'min_split_gain': 0.27935014388968427, 'max_depth': 10}. Best is trial 31 with value: 0.3803323220828325.\n",
      "/tmp/ipykernel_2765521/1358195452.py:84: ExperimentalWarning:\n",
      "\n",
      "upload_artifact is experimental (supported from v3.3.0). The interface can change in the future.\n",
      "\n",
      "/tmp/ipykernel_2765521/1358195452.py:88: ExperimentalWarning:\n",
      "\n",
      "upload_artifact is experimental (supported from v3.3.0). The interface can change in the future.\n",
      "\n",
      "[I 2024-07-03 02:36:05,601] Trial 36 finished with value: 0.3644135873313815 and parameters: {'lambda_l1': 0.8247839446570665, 'lambda_l2': 0.3441821052100675, 'num_leaves': 92, 'feature_fraction': 0.46354698065295386, 'bagging_fraction': 0.7340800722489159, 'bagging_freq': 3, 'min_child_samples': 25, 'min_split_gain': 0.22640584712297968, 'max_depth': 8}. Best is trial 31 with value: 0.3803323220828325.\n",
      "/tmp/ipykernel_2765521/1358195452.py:84: ExperimentalWarning:\n",
      "\n",
      "upload_artifact is experimental (supported from v3.3.0). The interface can change in the future.\n",
      "\n",
      "/tmp/ipykernel_2765521/1358195452.py:88: ExperimentalWarning:\n",
      "\n",
      "upload_artifact is experimental (supported from v3.3.0). The interface can change in the future.\n",
      "\n",
      "[I 2024-07-03 02:36:09,819] Trial 37 finished with value: 0.35409255977162346 and parameters: {'lambda_l1': 0.14181872740979587, 'lambda_l2': 0.05219419501004709, 'num_leaves': 81, 'feature_fraction': 0.6233415440531792, 'bagging_fraction': 0.527972059950254, 'bagging_freq': 2, 'min_child_samples': 37, 'min_split_gain': 0.3375094197260987, 'max_depth': 5}. Best is trial 31 with value: 0.3803323220828325.\n",
      "/tmp/ipykernel_2765521/1358195452.py:84: ExperimentalWarning:\n",
      "\n",
      "upload_artifact is experimental (supported from v3.3.0). The interface can change in the future.\n",
      "\n",
      "/tmp/ipykernel_2765521/1358195452.py:88: ExperimentalWarning:\n",
      "\n",
      "upload_artifact is experimental (supported from v3.3.0). The interface can change in the future.\n",
      "\n",
      "[I 2024-07-03 02:36:13,639] Trial 38 finished with value: 0.3621073288908452 and parameters: {'lambda_l1': 0.0028319172272095816, 'lambda_l2': 0.9571566077344444, 'num_leaves': 87, 'feature_fraction': 0.5557042798227896, 'bagging_fraction': 0.6403105858801531, 'bagging_freq': 3, 'min_child_samples': 24, 'min_split_gain': 0.31414678480483016, 'max_depth': 11}. Best is trial 31 with value: 0.3803323220828325.\n",
      "/tmp/ipykernel_2765521/1358195452.py:84: ExperimentalWarning:\n",
      "\n",
      "upload_artifact is experimental (supported from v3.3.0). The interface can change in the future.\n",
      "\n",
      "/tmp/ipykernel_2765521/1358195452.py:88: ExperimentalWarning:\n",
      "\n",
      "upload_artifact is experimental (supported from v3.3.0). The interface can change in the future.\n",
      "\n",
      "[I 2024-07-03 02:36:20,159] Trial 39 finished with value: 0.36789835540974025 and parameters: {'lambda_l1': 0.0006279562483636322, 'lambda_l2': 0.16904033941445135, 'num_leaves': 96, 'feature_fraction': 0.4735838859945006, 'bagging_fraction': 0.8651161596399859, 'bagging_freq': 5, 'min_child_samples': 46, 'min_split_gain': 0.2684271144409039, 'max_depth': 13}. Best is trial 31 with value: 0.3803323220828325.\n",
      "/tmp/ipykernel_2765521/1358195452.py:84: ExperimentalWarning:\n",
      "\n",
      "upload_artifact is experimental (supported from v3.3.0). The interface can change in the future.\n",
      "\n",
      "/tmp/ipykernel_2765521/1358195452.py:88: ExperimentalWarning:\n",
      "\n",
      "upload_artifact is experimental (supported from v3.3.0). The interface can change in the future.\n",
      "\n",
      "[I 2024-07-03 02:36:23,962] Trial 40 finished with value: 0.3462707598003933 and parameters: {'lambda_l1': 0.00022118334287237861, 'lambda_l2': 0.01018587160296314, 'num_leaves': 84, 'feature_fraction': 0.44000381189033166, 'bagging_fraction': 0.8133643542312212, 'bagging_freq': 3, 'min_child_samples': 40, 'min_split_gain': 0.1645190515274617, 'max_depth': 3}. Best is trial 31 with value: 0.3803323220828325.\n",
      "/tmp/ipykernel_2765521/1358195452.py:84: ExperimentalWarning:\n",
      "\n",
      "upload_artifact is experimental (supported from v3.3.0). The interface can change in the future.\n",
      "\n",
      "/tmp/ipykernel_2765521/1358195452.py:88: ExperimentalWarning:\n",
      "\n",
      "upload_artifact is experimental (supported from v3.3.0). The interface can change in the future.\n",
      "\n",
      "[I 2024-07-03 02:36:29,652] Trial 41 finished with value: 0.37441585662687177 and parameters: {'lambda_l1': 0.016896769797017406, 'lambda_l2': 0.3016068527103607, 'num_leaves': 100, 'feature_fraction': 0.4210387542134585, 'bagging_fraction': 0.8743195918102283, 'bagging_freq': 4, 'min_child_samples': 20, 'min_split_gain': 0.0949753097474991, 'max_depth': 13}. Best is trial 31 with value: 0.3803323220828325.\n",
      "/tmp/ipykernel_2765521/1358195452.py:84: ExperimentalWarning:\n",
      "\n",
      "upload_artifact is experimental (supported from v3.3.0). The interface can change in the future.\n",
      "\n",
      "/tmp/ipykernel_2765521/1358195452.py:88: ExperimentalWarning:\n",
      "\n",
      "upload_artifact is experimental (supported from v3.3.0). The interface can change in the future.\n",
      "\n",
      "[I 2024-07-03 02:36:35,556] Trial 42 finished with value: 0.3745791765592379 and parameters: {'lambda_l1': 0.028444135298148834, 'lambda_l2': 0.45431140258027786, 'num_leaves': 100, 'feature_fraction': 0.38734280385083375, 'bagging_fraction': 0.8707096419978952, 'bagging_freq': 4, 'min_child_samples': 27, 'min_split_gain': 0.1033644883179367, 'max_depth': 11}. Best is trial 31 with value: 0.3803323220828325.\n",
      "/tmp/ipykernel_2765521/1358195452.py:84: ExperimentalWarning:\n",
      "\n",
      "upload_artifact is experimental (supported from v3.3.0). The interface can change in the future.\n",
      "\n",
      "/tmp/ipykernel_2765521/1358195452.py:88: ExperimentalWarning:\n",
      "\n",
      "upload_artifact is experimental (supported from v3.3.0). The interface can change in the future.\n",
      "\n",
      "[I 2024-07-03 02:36:40,947] Trial 43 finished with value: 0.3603798927044667 and parameters: {'lambda_l1': 0.2332077021451038, 'lambda_l2': 0.34813455466918386, 'num_leaves': 92, 'feature_fraction': 0.37753743617409585, 'bagging_fraction': 0.8755854354929118, 'bagging_freq': 4, 'min_child_samples': 32, 'min_split_gain': 0.10360466147833076, 'max_depth': 8}. Best is trial 31 with value: 0.3803323220828325.\n",
      "/tmp/ipykernel_2765521/1358195452.py:84: ExperimentalWarning:\n",
      "\n",
      "upload_artifact is experimental (supported from v3.3.0). The interface can change in the future.\n",
      "\n",
      "/tmp/ipykernel_2765521/1358195452.py:88: ExperimentalWarning:\n",
      "\n",
      "upload_artifact is experimental (supported from v3.3.0). The interface can change in the future.\n",
      "\n",
      "[I 2024-07-03 02:36:46,833] Trial 44 finished with value: 0.3687575836813881 and parameters: {'lambda_l1': 0.03228707387722033, 'lambda_l2': 0.5655538727265083, 'num_leaves': 95, 'feature_fraction': 0.3114784706019775, 'bagging_fraction': 0.8785337814064431, 'bagging_freq': 4, 'min_child_samples': 28, 'min_split_gain': 0.07002828584736404, 'max_depth': 11}. Best is trial 31 with value: 0.3803323220828325.\n",
      "/tmp/ipykernel_2765521/1358195452.py:84: ExperimentalWarning:\n",
      "\n",
      "upload_artifact is experimental (supported from v3.3.0). The interface can change in the future.\n",
      "\n",
      "/tmp/ipykernel_2765521/1358195452.py:88: ExperimentalWarning:\n",
      "\n",
      "upload_artifact is experimental (supported from v3.3.0). The interface can change in the future.\n",
      "\n",
      "[I 2024-07-03 02:36:52,634] Trial 45 finished with value: 0.367833624088141 and parameters: {'lambda_l1': 0.008524500389192675, 'lambda_l2': 0.21345919300124705, 'num_leaves': 54, 'feature_fraction': 0.4050230490624177, 'bagging_fraction': 0.7985426795321992, 'bagging_freq': 6, 'min_child_samples': 35, 'min_split_gain': 0.11578709689981036, 'max_depth': 14}. Best is trial 31 with value: 0.3803323220828325.\n",
      "/tmp/ipykernel_2765521/1358195452.py:84: ExperimentalWarning:\n",
      "\n",
      "upload_artifact is experimental (supported from v3.3.0). The interface can change in the future.\n",
      "\n",
      "/tmp/ipykernel_2765521/1358195452.py:88: ExperimentalWarning:\n",
      "\n",
      "upload_artifact is experimental (supported from v3.3.0). The interface can change in the future.\n",
      "\n",
      "[I 2024-07-03 02:36:57,052] Trial 46 finished with value: 0.36717686280704953 and parameters: {'lambda_l1': 0.36576408022600165, 'lambda_l2': 0.038796419902147224, 'num_leaves': 37, 'feature_fraction': 0.348832184947327, 'bagging_fraction': 0.8441338937027724, 'bagging_freq': 5, 'min_child_samples': 20, 'min_split_gain': 0.035409325579990825, 'max_depth': 8}. Best is trial 31 with value: 0.3803323220828325.\n",
      "/tmp/ipykernel_2765521/1358195452.py:84: ExperimentalWarning:\n",
      "\n",
      "upload_artifact is experimental (supported from v3.3.0). The interface can change in the future.\n",
      "\n",
      "/tmp/ipykernel_2765521/1358195452.py:88: ExperimentalWarning:\n",
      "\n",
      "upload_artifact is experimental (supported from v3.3.0). The interface can change in the future.\n",
      "\n",
      "[I 2024-07-03 02:37:02,146] Trial 47 finished with value: 0.3617462918600316 and parameters: {'lambda_l1': 0.03452819819180203, 'lambda_l2': 0.5525360612813941, 'num_leaves': 97, 'feature_fraction': 0.42792973143941637, 'bagging_fraction': 0.7779113348772596, 'bagging_freq': 4, 'min_child_samples': 28, 'min_split_gain': 0.08296267504924378, 'max_depth': 6}. Best is trial 31 with value: 0.3803323220828325.\n",
      "/tmp/ipykernel_2765521/1358195452.py:84: ExperimentalWarning:\n",
      "\n",
      "upload_artifact is experimental (supported from v3.3.0). The interface can change in the future.\n",
      "\n",
      "/tmp/ipykernel_2765521/1358195452.py:88: ExperimentalWarning:\n",
      "\n",
      "upload_artifact is experimental (supported from v3.3.0). The interface can change in the future.\n",
      "\n",
      "[I 2024-07-03 02:37:06,309] Trial 48 finished with value: 0.35750963023506166 and parameters: {'lambda_l1': 0.09813135371162789, 'lambda_l2': 0.0868843133874292, 'num_leaves': 21, 'feature_fraction': 0.37413209629544325, 'bagging_fraction': 0.8987669275157787, 'bagging_freq': 4, 'min_child_samples': 42, 'min_split_gain': 0.15088109100486466, 'max_depth': 10}. Best is trial 31 with value: 0.3803323220828325.\n",
      "/tmp/ipykernel_2765521/1358195452.py:84: ExperimentalWarning:\n",
      "\n",
      "upload_artifact is experimental (supported from v3.3.0). The interface can change in the future.\n",
      "\n",
      "/tmp/ipykernel_2765521/1358195452.py:88: ExperimentalWarning:\n",
      "\n",
      "upload_artifact is experimental (supported from v3.3.0). The interface can change in the future.\n",
      "\n",
      "[I 2024-07-03 02:37:12,755] Trial 49 finished with value: 0.36556241097256903 and parameters: {'lambda_l1': 0.007261882307491022, 'lambda_l2': 0.24031507732416799, 'num_leaves': 90, 'feature_fraction': 0.3272085164942938, 'bagging_fraction': 0.5639368491920186, 'bagging_freq': 2, 'min_child_samples': 24, 'min_split_gain': 0.19481472531968455, 'max_depth': 13}. Best is trial 31 with value: 0.3803323220828325.\n",
      "/tmp/ipykernel_2765521/1358195452.py:84: ExperimentalWarning:\n",
      "\n",
      "upload_artifact is experimental (supported from v3.3.0). The interface can change in the future.\n",
      "\n",
      "/tmp/ipykernel_2765521/1358195452.py:88: ExperimentalWarning:\n",
      "\n",
      "upload_artifact is experimental (supported from v3.3.0). The interface can change in the future.\n",
      "\n",
      "[I 2024-07-03 02:37:18,820] Trial 50 finished with value: 0.36767712210282794 and parameters: {'lambda_l1': 0.025437624106818286, 'lambda_l2': 0.5698460283137075, 'num_leaves': 87, 'feature_fraction': 0.3804975979192198, 'bagging_fraction': 0.8175067446947997, 'bagging_freq': 5, 'min_child_samples': 31, 'min_split_gain': 0.09608115289745695, 'max_depth': 11}. Best is trial 31 with value: 0.3803323220828325.\n",
      "/tmp/ipykernel_2765521/1358195452.py:84: ExperimentalWarning:\n",
      "\n",
      "upload_artifact is experimental (supported from v3.3.0). The interface can change in the future.\n",
      "\n",
      "/tmp/ipykernel_2765521/1358195452.py:88: ExperimentalWarning:\n",
      "\n",
      "upload_artifact is experimental (supported from v3.3.0). The interface can change in the future.\n",
      "\n",
      "[I 2024-07-03 02:37:25,489] Trial 51 finished with value: 0.37125560545383895 and parameters: {'lambda_l1': 0.002154486773259504, 'lambda_l2': 0.10587182597616798, 'num_leaves': 100, 'feature_fraction': 0.5283165165797952, 'bagging_fraction': 0.850711016803551, 'bagging_freq': 3, 'min_child_samples': 23, 'min_split_gain': 0.2892410221281394, 'max_depth': 12}. Best is trial 31 with value: 0.3803323220828325.\n",
      "/tmp/ipykernel_2765521/1358195452.py:84: ExperimentalWarning:\n",
      "\n",
      "upload_artifact is experimental (supported from v3.3.0). The interface can change in the future.\n",
      "\n",
      "/tmp/ipykernel_2765521/1358195452.py:88: ExperimentalWarning:\n",
      "\n",
      "upload_artifact is experimental (supported from v3.3.0). The interface can change in the future.\n",
      "\n",
      "[I 2024-07-03 02:37:37,229] Trial 52 finished with value: 0.36638591364135764 and parameters: {'lambda_l1': 0.007349950547922839, 'lambda_l2': 0.030252415965116495, 'num_leaves': 98, 'feature_fraction': 0.6336005438985544, 'bagging_fraction': 0.878887547848098, 'bagging_freq': 3, 'min_child_samples': 27, 'min_split_gain': 0.24035469624910924, 'max_depth': 14}. Best is trial 31 with value: 0.3803323220828325.\n",
      "/tmp/ipykernel_2765521/1358195452.py:84: ExperimentalWarning:\n",
      "\n",
      "upload_artifact is experimental (supported from v3.3.0). The interface can change in the future.\n",
      "\n",
      "/tmp/ipykernel_2765521/1358195452.py:88: ExperimentalWarning:\n",
      "\n",
      "upload_artifact is experimental (supported from v3.3.0). The interface can change in the future.\n",
      "\n",
      "[I 2024-07-03 02:37:56,583] Trial 53 finished with value: 0.3757876140305849 and parameters: {'lambda_l1': 0.05112411782506044, 'lambda_l2': 0.05801014815368281, 'num_leaves': 93, 'feature_fraction': 0.4016299836712016, 'bagging_fraction': 0.8345706286579416, 'bagging_freq': 4, 'min_child_samples': 22, 'min_split_gain': 0.13574168800262154, 'max_depth': 12}. Best is trial 31 with value: 0.3803323220828325.\n",
      "/tmp/ipykernel_2765521/1358195452.py:84: ExperimentalWarning:\n",
      "\n",
      "upload_artifact is experimental (supported from v3.3.0). The interface can change in the future.\n",
      "\n",
      "/tmp/ipykernel_2765521/1358195452.py:88: ExperimentalWarning:\n",
      "\n",
      "upload_artifact is experimental (supported from v3.3.0). The interface can change in the future.\n",
      "\n",
      "[I 2024-07-03 02:38:07,720] Trial 54 finished with value: 0.361752056719787 and parameters: {'lambda_l1': 0.19758756362603194, 'lambda_l2': 0.052722534760197705, 'num_leaves': 93, 'feature_fraction': 0.41371968878073073, 'bagging_fraction': 0.7537988923931558, 'bagging_freq': 4, 'min_child_samples': 36, 'min_split_gain': 0.13683609572848054, 'max_depth': 9}. Best is trial 31 with value: 0.3803323220828325.\n",
      "/tmp/ipykernel_2765521/1358195452.py:84: ExperimentalWarning:\n",
      "\n",
      "upload_artifact is experimental (supported from v3.3.0). The interface can change in the future.\n",
      "\n",
      "/tmp/ipykernel_2765521/1358195452.py:88: ExperimentalWarning:\n",
      "\n",
      "upload_artifact is experimental (supported from v3.3.0). The interface can change in the future.\n",
      "\n",
      "[I 2024-07-03 02:38:22,635] Trial 55 finished with value: 0.3716688495456732 and parameters: {'lambda_l1': 0.05342199091370647, 'lambda_l2': 0.25645869763418455, 'num_leaves': 94, 'feature_fraction': 0.3898698885313032, 'bagging_fraction': 0.819333059841399, 'bagging_freq': 6, 'min_child_samples': 22, 'min_split_gain': 0.1714434648394228, 'max_depth': 15}. Best is trial 31 with value: 0.3803323220828325.\n",
      "/tmp/ipykernel_2765521/1358195452.py:84: ExperimentalWarning:\n",
      "\n",
      "upload_artifact is experimental (supported from v3.3.0). The interface can change in the future.\n",
      "\n",
      "/tmp/ipykernel_2765521/1358195452.py:88: ExperimentalWarning:\n",
      "\n",
      "upload_artifact is experimental (supported from v3.3.0). The interface can change in the future.\n",
      "\n",
      "[I 2024-07-03 02:38:35,233] Trial 56 finished with value: 0.370281721819888 and parameters: {'lambda_l1': 0.07430911020240244, 'lambda_l2': 1.137675677144177e-06, 'num_leaves': 91, 'feature_fraction': 0.3524224505273874, 'bagging_fraction': 0.874809051755504, 'bagging_freq': 4, 'min_child_samples': 20, 'min_split_gain': 0.11609656757626922, 'max_depth': 11}. Best is trial 31 with value: 0.3803323220828325.\n",
      "/tmp/ipykernel_2765521/1358195452.py:84: ExperimentalWarning:\n",
      "\n",
      "upload_artifact is experimental (supported from v3.3.0). The interface can change in the future.\n",
      "\n",
      "/tmp/ipykernel_2765521/1358195452.py:88: ExperimentalWarning:\n",
      "\n",
      "upload_artifact is experimental (supported from v3.3.0). The interface can change in the future.\n",
      "\n",
      "[I 2024-07-03 02:38:43,180] Trial 57 finished with value: 0.361593928488921 and parameters: {'lambda_l1': 0.01037668161571486, 'lambda_l2': 0.014584315794519527, 'num_leaves': 97, 'feature_fraction': 0.42046489641838136, 'bagging_fraction': 0.8333181378321736, 'bagging_freq': 5, 'min_child_samples': 30, 'min_split_gain': 0.037916222033900285, 'max_depth': 16}. Best is trial 31 with value: 0.3803323220828325.\n",
      "/tmp/ipykernel_2765521/1358195452.py:84: ExperimentalWarning:\n",
      "\n",
      "upload_artifact is experimental (supported from v3.3.0). The interface can change in the future.\n",
      "\n",
      "/tmp/ipykernel_2765521/1358195452.py:88: ExperimentalWarning:\n",
      "\n",
      "upload_artifact is experimental (supported from v3.3.0). The interface can change in the future.\n",
      "\n",
      "[I 2024-07-03 02:38:51,635] Trial 58 finished with value: 0.36698305400508424 and parameters: {'lambda_l1': 0.004618267900158362, 'lambda_l2': 0.5026787140858496, 'num_leaves': 86, 'feature_fraction': 0.43970332974799853, 'bagging_fraction': 0.7001559232966321, 'bagging_freq': 2, 'min_child_samples': 27, 'min_split_gain': 0.012119662433134504, 'max_depth': -1}. Best is trial 31 with value: 0.3803323220828325.\n",
      "/tmp/ipykernel_2765521/1358195452.py:84: ExperimentalWarning:\n",
      "\n",
      "upload_artifact is experimental (supported from v3.3.0). The interface can change in the future.\n",
      "\n",
      "/tmp/ipykernel_2765521/1358195452.py:88: ExperimentalWarning:\n",
      "\n",
      "upload_artifact is experimental (supported from v3.3.0). The interface can change in the future.\n",
      "\n",
      "[I 2024-07-03 02:38:56,970] Trial 59 finished with value: 0.36302622051438754 and parameters: {'lambda_l1': 0.03740754051392208, 'lambda_l2': 0.006932324242312476, 'num_leaves': 81, 'feature_fraction': 0.45571224826995654, 'bagging_fraction': 0.7952940589076272, 'bagging_freq': 4, 'min_child_samples': 34, 'min_split_gain': 0.05978222581515616, 'max_depth': 13}. Best is trial 31 with value: 0.3803323220828325.\n",
      "/tmp/ipykernel_2765521/1358195452.py:84: ExperimentalWarning:\n",
      "\n",
      "upload_artifact is experimental (supported from v3.3.0). The interface can change in the future.\n",
      "\n",
      "/tmp/ipykernel_2765521/1358195452.py:88: ExperimentalWarning:\n",
      "\n",
      "upload_artifact is experimental (supported from v3.3.0). The interface can change in the future.\n",
      "\n",
      "[I 2024-07-03 02:39:05,270] Trial 60 finished with value: 0.38023478081099144 and parameters: {'lambda_l1': 0.01682493632064782, 'lambda_l2': 0.07680272087354756, 'num_leaves': 98, 'feature_fraction': 0.49008226312987974, 'bagging_fraction': 0.885670464619942, 'bagging_freq': 5, 'min_child_samples': 26, 'min_split_gain': 0.20760491563724467, 'max_depth': 10}. Best is trial 31 with value: 0.3803323220828325.\n",
      "/tmp/ipykernel_2765521/1358195452.py:84: ExperimentalWarning:\n",
      "\n",
      "upload_artifact is experimental (supported from v3.3.0). The interface can change in the future.\n",
      "\n",
      "/tmp/ipykernel_2765521/1358195452.py:88: ExperimentalWarning:\n",
      "\n",
      "upload_artifact is experimental (supported from v3.3.0). The interface can change in the future.\n",
      "\n",
      "[I 2024-07-03 02:39:12,875] Trial 61 finished with value: 0.366978988848337 and parameters: {'lambda_l1': 0.019528540936281542, 'lambda_l2': 0.07400288900470248, 'num_leaves': 98, 'feature_fraction': 0.4921712976510827, 'bagging_fraction': 0.8813565582163617, 'bagging_freq': 5, 'min_child_samples': 26, 'min_split_gain': 0.18891047801929145, 'max_depth': 10}. Best is trial 31 with value: 0.3803323220828325.\n",
      "/tmp/ipykernel_2765521/1358195452.py:84: ExperimentalWarning:\n",
      "\n",
      "upload_artifact is experimental (supported from v3.3.0). The interface can change in the future.\n",
      "\n",
      "/tmp/ipykernel_2765521/1358195452.py:88: ExperimentalWarning:\n",
      "\n",
      "upload_artifact is experimental (supported from v3.3.0). The interface can change in the future.\n",
      "\n",
      "[I 2024-07-03 02:39:22,223] Trial 62 finished with value: 0.3686149178232895 and parameters: {'lambda_l1': 0.004581638852812993, 'lambda_l2': 4.2665277536895435e-05, 'num_leaves': 95, 'feature_fraction': 0.4838503160265899, 'bagging_fraction': 0.8549316867993527, 'bagging_freq': 4, 'min_child_samples': 22, 'min_split_gain': 0.20924727734048298, 'max_depth': 12}. Best is trial 31 with value: 0.3803323220828325.\n",
      "/tmp/ipykernel_2765521/1358195452.py:84: ExperimentalWarning:\n",
      "\n",
      "upload_artifact is experimental (supported from v3.3.0). The interface can change in the future.\n",
      "\n",
      "/tmp/ipykernel_2765521/1358195452.py:88: ExperimentalWarning:\n",
      "\n",
      "upload_artifact is experimental (supported from v3.3.0). The interface can change in the future.\n",
      "\n",
      "[I 2024-07-03 02:39:29,950] Trial 63 finished with value: 0.37016298110318935 and parameters: {'lambda_l1': 0.060717758963388595, 'lambda_l2': 0.15118081442848935, 'num_leaves': 100, 'feature_fraction': 0.5144297759427202, 'bagging_fraction': 0.8909820276090453, 'bagging_freq': 7, 'min_child_samples': 23, 'min_split_gain': 0.1248853559690616, 'max_depth': 9}. Best is trial 31 with value: 0.3803323220828325.\n",
      "/tmp/ipykernel_2765521/1358195452.py:84: ExperimentalWarning:\n",
      "\n",
      "upload_artifact is experimental (supported from v3.3.0). The interface can change in the future.\n",
      "\n",
      "/tmp/ipykernel_2765521/1358195452.py:88: ExperimentalWarning:\n",
      "\n",
      "upload_artifact is experimental (supported from v3.3.0). The interface can change in the future.\n",
      "\n",
      "[I 2024-07-03 02:39:36,989] Trial 64 finished with value: 0.361574004094091 and parameters: {'lambda_l1': 0.013891593192087591, 'lambda_l2': 0.39383793757569274, 'num_leaves': 89, 'feature_fraction': 0.3959792412053277, 'bagging_fraction': 0.8327476731064247, 'bagging_freq': 5, 'min_child_samples': 56, 'min_split_gain': 0.4924425607107334, 'max_depth': 14}. Best is trial 31 with value: 0.3803323220828325.\n",
      "/tmp/ipykernel_2765521/1358195452.py:84: ExperimentalWarning:\n",
      "\n",
      "upload_artifact is experimental (supported from v3.3.0). The interface can change in the future.\n",
      "\n",
      "/tmp/ipykernel_2765521/1358195452.py:88: ExperimentalWarning:\n",
      "\n",
      "upload_artifact is experimental (supported from v3.3.0). The interface can change in the future.\n",
      "\n",
      "[I 2024-07-03 02:39:42,114] Trial 65 finished with value: 0.36914079625548535 and parameters: {'lambda_l1': 0.13664031023798331, 'lambda_l2': 0.031169698610406815, 'num_leaves': 97, 'feature_fraction': 0.6898253700514748, 'bagging_fraction': 0.8611074679653434, 'bagging_freq': 6, 'min_child_samples': 38, 'min_split_gain': 0.15692505236562732, 'max_depth': 8}. Best is trial 31 with value: 0.3803323220828325.\n",
      "/tmp/ipykernel_2765521/1358195452.py:84: ExperimentalWarning:\n",
      "\n",
      "upload_artifact is experimental (supported from v3.3.0). The interface can change in the future.\n",
      "\n",
      "/tmp/ipykernel_2765521/1358195452.py:88: ExperimentalWarning:\n",
      "\n",
      "upload_artifact is experimental (supported from v3.3.0). The interface can change in the future.\n",
      "\n",
      "[I 2024-07-03 02:39:47,852] Trial 66 finished with value: 0.3647548846725208 and parameters: {'lambda_l1': 0.021801063001192365, 'lambda_l2': 0.002949221428653489, 'num_leaves': 94, 'feature_fraction': 0.740803108638399, 'bagging_fraction': 0.8066437978927287, 'bagging_freq': 4, 'min_child_samples': 30, 'min_split_gain': 0.2541158956595125, 'max_depth': 10}. Best is trial 31 with value: 0.3803323220828325.\n",
      "/tmp/ipykernel_2765521/1358195452.py:84: ExperimentalWarning:\n",
      "\n",
      "upload_artifact is experimental (supported from v3.3.0). The interface can change in the future.\n",
      "\n",
      "/tmp/ipykernel_2765521/1358195452.py:88: ExperimentalWarning:\n",
      "\n",
      "upload_artifact is experimental (supported from v3.3.0). The interface can change in the future.\n",
      "\n",
      "[I 2024-07-03 02:39:55,503] Trial 67 finished with value: 0.3714130270290015 and parameters: {'lambda_l1': 0.0006239168781766233, 'lambda_l2': 0.7455102969694152, 'num_leaves': 62, 'feature_fraction': 0.44713239261081233, 'bagging_fraction': 0.8870091345359137, 'bagging_freq': 3, 'min_child_samples': 25, 'min_split_gain': 0.135425098809425, 'max_depth': 12}. Best is trial 31 with value: 0.3803323220828325.\n",
      "/tmp/ipykernel_2765521/1358195452.py:84: ExperimentalWarning:\n",
      "\n",
      "upload_artifact is experimental (supported from v3.3.0). The interface can change in the future.\n",
      "\n",
      "/tmp/ipykernel_2765521/1358195452.py:88: ExperimentalWarning:\n",
      "\n",
      "upload_artifact is experimental (supported from v3.3.0). The interface can change in the future.\n",
      "\n",
      "[I 2024-07-03 02:39:59,568] Trial 68 finished with value: 0.3632501283873343 and parameters: {'lambda_l1': 0.3928005347102068, 'lambda_l2': 0.108497591303993, 'num_leaves': 98, 'feature_fraction': 0.47137929303047527, 'bagging_fraction': 0.7772374608568812, 'bagging_freq': 1, 'min_child_samples': 20, 'min_split_gain': 0.08124595894136527, 'max_depth': 7}. Best is trial 31 with value: 0.3803323220828325.\n",
      "/tmp/ipykernel_2765521/1358195452.py:84: ExperimentalWarning:\n",
      "\n",
      "upload_artifact is experimental (supported from v3.3.0). The interface can change in the future.\n",
      "\n",
      "/tmp/ipykernel_2765521/1358195452.py:88: ExperimentalWarning:\n",
      "\n",
      "upload_artifact is experimental (supported from v3.3.0). The interface can change in the future.\n",
      "\n",
      "[I 2024-07-03 02:40:06,479] Trial 69 finished with value: 0.3648151041647035 and parameters: {'lambda_l1': 6.945005040707689e-05, 'lambda_l2': 0.23755028625233002, 'num_leaves': 68, 'feature_fraction': 0.3620265827436493, 'bagging_fraction': 0.8416574075502071, 'bagging_freq': 2, 'min_child_samples': 27, 'min_split_gain': 0.20543258445682555, 'max_depth': 11}. Best is trial 31 with value: 0.3803323220828325.\n",
      "/tmp/ipykernel_2765521/1358195452.py:84: ExperimentalWarning:\n",
      "\n",
      "upload_artifact is experimental (supported from v3.3.0). The interface can change in the future.\n",
      "\n",
      "/tmp/ipykernel_2765521/1358195452.py:88: ExperimentalWarning:\n",
      "\n",
      "upload_artifact is experimental (supported from v3.3.0). The interface can change in the future.\n",
      "\n",
      "[I 2024-07-03 02:40:11,012] Trial 70 finished with value: 0.36375320043476567 and parameters: {'lambda_l1': 0.0002311374630656442, 'lambda_l2': 0.04556148631655681, 'num_leaves': 91, 'feature_fraction': 0.5381458821399062, 'bagging_fraction': 0.8618646580873086, 'bagging_freq': 4, 'min_child_samples': 74, 'min_split_gain': 0.17529797649620565, 'max_depth': 9}. Best is trial 31 with value: 0.3803323220828325.\n",
      "/tmp/ipykernel_2765521/1358195452.py:84: ExperimentalWarning:\n",
      "\n",
      "upload_artifact is experimental (supported from v3.3.0). The interface can change in the future.\n",
      "\n",
      "/tmp/ipykernel_2765521/1358195452.py:88: ExperimentalWarning:\n",
      "\n",
      "upload_artifact is experimental (supported from v3.3.0). The interface can change in the future.\n",
      "\n",
      "[I 2024-07-03 02:40:17,750] Trial 71 finished with value: 0.3717856554192979 and parameters: {'lambda_l1': 0.0018996129093689696, 'lambda_l2': 0.1165849854526896, 'num_leaves': 99, 'feature_fraction': 0.5051513803311989, 'bagging_fraction': 0.8511436225104373, 'bagging_freq': 3, 'min_child_samples': 23, 'min_split_gain': 0.22853198652737047, 'max_depth': 12}. Best is trial 31 with value: 0.3803323220828325.\n",
      "/tmp/ipykernel_2765521/1358195452.py:84: ExperimentalWarning:\n",
      "\n",
      "upload_artifact is experimental (supported from v3.3.0). The interface can change in the future.\n",
      "\n",
      "/tmp/ipykernel_2765521/1358195452.py:88: ExperimentalWarning:\n",
      "\n",
      "upload_artifact is experimental (supported from v3.3.0). The interface can change in the future.\n",
      "\n",
      "[I 2024-07-03 02:40:22,705] Trial 72 finished with value: 0.36861385794456225 and parameters: {'lambda_l1': 0.005874682614248743, 'lambda_l2': 0.021127890285356343, 'num_leaves': 100, 'feature_fraction': 0.5864906087513032, 'bagging_fraction': 0.8270708995581566, 'bagging_freq': 3, 'min_child_samples': 33, 'min_split_gain': 0.25877699621731853, 'max_depth': 13}. Best is trial 31 with value: 0.3803323220828325.\n",
      "/tmp/ipykernel_2765521/1358195452.py:84: ExperimentalWarning:\n",
      "\n",
      "upload_artifact is experimental (supported from v3.3.0). The interface can change in the future.\n",
      "\n",
      "/tmp/ipykernel_2765521/1358195452.py:88: ExperimentalWarning:\n",
      "\n",
      "upload_artifact is experimental (supported from v3.3.0). The interface can change in the future.\n",
      "\n",
      "[I 2024-07-03 02:40:27,612] Trial 73 finished with value: 0.3534000914664415 and parameters: {'lambda_l1': 0.013524506828119162, 'lambda_l2': 0.06358079735016668, 'num_leaves': 95, 'feature_fraction': 0.5710577921507765, 'bagging_fraction': 0.4184655784751142, 'bagging_freq': 2, 'min_child_samples': 29, 'min_split_gain': 0.22338782707206223, 'max_depth': 16}. Best is trial 31 with value: 0.3803323220828325.\n",
      "/tmp/ipykernel_2765521/1358195452.py:84: ExperimentalWarning:\n",
      "\n",
      "upload_artifact is experimental (supported from v3.3.0). The interface can change in the future.\n",
      "\n",
      "/tmp/ipykernel_2765521/1358195452.py:88: ExperimentalWarning:\n",
      "\n",
      "upload_artifact is experimental (supported from v3.3.0). The interface can change in the future.\n",
      "\n",
      "[I 2024-07-03 02:40:33,243] Trial 74 finished with value: 0.3741792202694603 and parameters: {'lambda_l1': 0.0011766809394700905, 'lambda_l2': 0.32963123772464337, 'num_leaves': 93, 'feature_fraction': 0.4109905599445739, 'bagging_fraction': 0.8996751182873334, 'bagging_freq': 3, 'min_child_samples': 25, 'min_split_gain': 0.23857056822474196, 'max_depth': 12}. Best is trial 31 with value: 0.3803323220828325.\n",
      "/tmp/ipykernel_2765521/1358195452.py:84: ExperimentalWarning:\n",
      "\n",
      "upload_artifact is experimental (supported from v3.3.0). The interface can change in the future.\n",
      "\n",
      "/tmp/ipykernel_2765521/1358195452.py:88: ExperimentalWarning:\n",
      "\n",
      "upload_artifact is experimental (supported from v3.3.0). The interface can change in the future.\n",
      "\n",
      "[I 2024-07-03 02:40:39,308] Trial 75 finished with value: 0.36833528534722804 and parameters: {'lambda_l1': 0.0010081180623353857, 'lambda_l2': 0.694216138508614, 'num_leaves': 93, 'feature_fraction': 0.33438550673754863, 'bagging_fraction': 0.8990784843978489, 'bagging_freq': 3, 'min_child_samples': 26, 'min_split_gain': 0.09277868471356816, 'max_depth': 11}. Best is trial 31 with value: 0.3803323220828325.\n",
      "/tmp/ipykernel_2765521/1358195452.py:84: ExperimentalWarning:\n",
      "\n",
      "upload_artifact is experimental (supported from v3.3.0). The interface can change in the future.\n",
      "\n",
      "/tmp/ipykernel_2765521/1358195452.py:88: ExperimentalWarning:\n",
      "\n",
      "upload_artifact is experimental (supported from v3.3.0). The interface can change in the future.\n",
      "\n",
      "[I 2024-07-03 02:40:44,723] Trial 76 finished with value: 0.37312942991431614 and parameters: {'lambda_l1': 0.0004612909767179065, 'lambda_l2': 0.34951778197045236, 'num_leaves': 89, 'feature_fraction': 0.4135711425103118, 'bagging_fraction': 0.8670566957394544, 'bagging_freq': 4, 'min_child_samples': 22, 'min_split_gain': 0.3049653701585941, 'max_depth': 10}. Best is trial 31 with value: 0.3803323220828325.\n",
      "/tmp/ipykernel_2765521/1358195452.py:84: ExperimentalWarning:\n",
      "\n",
      "upload_artifact is experimental (supported from v3.3.0). The interface can change in the future.\n",
      "\n",
      "/tmp/ipykernel_2765521/1358195452.py:88: ExperimentalWarning:\n",
      "\n",
      "upload_artifact is experimental (supported from v3.3.0). The interface can change in the future.\n",
      "\n",
      "[I 2024-07-03 02:40:50,878] Trial 77 finished with value: 0.36174856548858014 and parameters: {'lambda_l1': 0.0015627348124757257, 'lambda_l2': 0.18500158424037774, 'num_leaves': 96, 'feature_fraction': 0.39045759749834263, 'bagging_fraction': 0.8852855565128774, 'bagging_freq': 5, 'min_child_samples': 88, 'min_split_gain': 0.19116262750360324, 'max_depth': 13}. Best is trial 31 with value: 0.3803323220828325.\n",
      "/tmp/ipykernel_2765521/1358195452.py:84: ExperimentalWarning:\n",
      "\n",
      "upload_artifact is experimental (supported from v3.3.0). The interface can change in the future.\n",
      "\n",
      "/tmp/ipykernel_2765521/1358195452.py:88: ExperimentalWarning:\n",
      "\n",
      "upload_artifact is experimental (supported from v3.3.0). The interface can change in the future.\n",
      "\n",
      "[I 2024-07-03 02:40:55,904] Trial 78 finished with value: 0.35450760568235895 and parameters: {'lambda_l1': 0.0001254557115811141, 'lambda_l2': 0.41061228326075455, 'num_leaves': 85, 'feature_fraction': 0.4480229602342377, 'bagging_fraction': 0.6589784834828951, 'bagging_freq': 3, 'min_child_samples': 32, 'min_split_gain': 0.1661595714938745, 'max_depth': 14}. Best is trial 31 with value: 0.3803323220828325.\n",
      "/tmp/ipykernel_2765521/1358195452.py:84: ExperimentalWarning:\n",
      "\n",
      "upload_artifact is experimental (supported from v3.3.0). The interface can change in the future.\n",
      "\n",
      "/tmp/ipykernel_2765521/1358195452.py:88: ExperimentalWarning:\n",
      "\n",
      "upload_artifact is experimental (supported from v3.3.0). The interface can change in the future.\n",
      "\n",
      "[I 2024-07-03 02:41:02,112] Trial 79 finished with value: 0.3691940601166783 and parameters: {'lambda_l1': 0.04056588803650437, 'lambda_l2': 0.2801073786763504, 'num_leaves': 92, 'feature_fraction': 0.4242289259181652, 'bagging_fraction': 0.8447724655818583, 'bagging_freq': 2, 'min_child_samples': 25, 'min_split_gain': 0.10305950570170647, 'max_depth': 11}. Best is trial 31 with value: 0.3803323220828325.\n",
      "/tmp/ipykernel_2765521/1358195452.py:84: ExperimentalWarning:\n",
      "\n",
      "upload_artifact is experimental (supported from v3.3.0). The interface can change in the future.\n",
      "\n",
      "/tmp/ipykernel_2765521/1358195452.py:88: ExperimentalWarning:\n",
      "\n",
      "upload_artifact is experimental (supported from v3.3.0). The interface can change in the future.\n",
      "\n",
      "[I 2024-07-03 02:41:09,397] Trial 80 finished with value: 0.3628475018221953 and parameters: {'lambda_l1': 1.5859612705132713e-06, 'lambda_l2': 0.9469170484709911, 'num_leaves': 75, 'feature_fraction': 0.40049841780087725, 'bagging_fraction': 0.8700643492160263, 'bagging_freq': 4, 'min_child_samples': 29, 'min_split_gain': 0.14185062940313847, 'max_depth': 7}. Best is trial 31 with value: 0.3803323220828325.\n",
      "/tmp/ipykernel_2765521/1358195452.py:84: ExperimentalWarning:\n",
      "\n",
      "upload_artifact is experimental (supported from v3.3.0). The interface can change in the future.\n",
      "\n",
      "/tmp/ipykernel_2765521/1358195452.py:88: ExperimentalWarning:\n",
      "\n",
      "upload_artifact is experimental (supported from v3.3.0). The interface can change in the future.\n",
      "\n",
      "[I 2024-07-03 02:41:14,340] Trial 81 finished with value: 0.36968159654729493 and parameters: {'lambda_l1': 0.0003492341169700663, 'lambda_l2': 0.32805483407112146, 'num_leaves': 89, 'feature_fraction': 0.4094122317337965, 'bagging_fraction': 0.867658483462613, 'bagging_freq': 4, 'min_child_samples': 22, 'min_split_gain': 0.3050526913416704, 'max_depth': 10}. Best is trial 31 with value: 0.3803323220828325.\n",
      "/tmp/ipykernel_2765521/1358195452.py:84: ExperimentalWarning:\n",
      "\n",
      "upload_artifact is experimental (supported from v3.3.0). The interface can change in the future.\n",
      "\n",
      "/tmp/ipykernel_2765521/1358195452.py:88: ExperimentalWarning:\n",
      "\n",
      "upload_artifact is experimental (supported from v3.3.0). The interface can change in the future.\n",
      "\n",
      "[I 2024-07-03 02:41:20,074] Trial 82 finished with value: 0.3719045528461577 and parameters: {'lambda_l1': 0.0004901783229451209, 'lambda_l2': 0.16215632924806953, 'num_leaves': 97, 'feature_fraction': 0.47449812618878395, 'bagging_fraction': 0.8890600452924633, 'bagging_freq': 4, 'min_child_samples': 20, 'min_split_gain': 0.33481509984696434, 'max_depth': 10}. Best is trial 31 with value: 0.3803323220828325.\n",
      "/tmp/ipykernel_2765521/1358195452.py:84: ExperimentalWarning:\n",
      "\n",
      "upload_artifact is experimental (supported from v3.3.0). The interface can change in the future.\n",
      "\n",
      "/tmp/ipykernel_2765521/1358195452.py:88: ExperimentalWarning:\n",
      "\n",
      "upload_artifact is experimental (supported from v3.3.0). The interface can change in the future.\n",
      "\n",
      "[I 2024-07-03 02:41:25,371] Trial 83 finished with value: 0.37217856359299045 and parameters: {'lambda_l1': 0.0033103235133248223, 'lambda_l2': 0.633526363087846, 'num_leaves': 94, 'feature_fraction': 0.4329810720620262, 'bagging_fraction': 0.8689678279675508, 'bagging_freq': 4, 'min_child_samples': 22, 'min_split_gain': 0.24942601628761804, 'max_depth': 8}. Best is trial 31 with value: 0.3803323220828325.\n",
      "/tmp/ipykernel_2765521/1358195452.py:84: ExperimentalWarning:\n",
      "\n",
      "upload_artifact is experimental (supported from v3.3.0). The interface can change in the future.\n",
      "\n",
      "/tmp/ipykernel_2765521/1358195452.py:88: ExperimentalWarning:\n",
      "\n",
      "upload_artifact is experimental (supported from v3.3.0). The interface can change in the future.\n",
      "\n",
      "[I 2024-07-03 02:41:30,907] Trial 84 finished with value: 0.36555847524569623 and parameters: {'lambda_l1': 0.0008116769011533699, 'lambda_l2': 0.09145108287882761, 'num_leaves': 98, 'feature_fraction': 0.3671262765272976, 'bagging_fraction': 0.8996318678087567, 'bagging_freq': 3, 'min_child_samples': 25, 'min_split_gain': 0.2761083469463426, 'max_depth': 9}. Best is trial 31 with value: 0.3803323220828325.\n",
      "/tmp/ipykernel_2765521/1358195452.py:84: ExperimentalWarning:\n",
      "\n",
      "upload_artifact is experimental (supported from v3.3.0). The interface can change in the future.\n",
      "\n",
      "/tmp/ipykernel_2765521/1358195452.py:88: ExperimentalWarning:\n",
      "\n",
      "upload_artifact is experimental (supported from v3.3.0). The interface can change in the future.\n",
      "\n",
      "[I 2024-07-03 02:41:36,410] Trial 85 finished with value: 0.3765494472757588 and parameters: {'lambda_l1': 0.00022706214768800306, 'lambda_l2': 0.43367190506768105, 'num_leaves': 100, 'feature_fraction': 0.4148448482550521, 'bagging_fraction': 0.8559600785211384, 'bagging_freq': 5, 'min_child_samples': 22, 'min_split_gain': 0.23605473660117465, 'max_depth': 12}. Best is trial 31 with value: 0.3803323220828325.\n",
      "/tmp/ipykernel_2765521/1358195452.py:84: ExperimentalWarning:\n",
      "\n",
      "upload_artifact is experimental (supported from v3.3.0). The interface can change in the future.\n",
      "\n",
      "/tmp/ipykernel_2765521/1358195452.py:88: ExperimentalWarning:\n",
      "\n",
      "upload_artifact is experimental (supported from v3.3.0). The interface can change in the future.\n",
      "\n",
      "[I 2024-07-03 02:41:43,298] Trial 86 finished with value: 0.3661848161993355 and parameters: {'lambda_l1': 2.046901015017854e-05, 'lambda_l2': 0.224923839554686, 'num_leaves': 100, 'feature_fraction': 0.3822740323775994, 'bagging_fraction': 0.8235795017731036, 'bagging_freq': 5, 'min_child_samples': 28, 'min_split_gain': 0.2033268977734357, 'max_depth': 12}. Best is trial 31 with value: 0.3803323220828325.\n",
      "/tmp/ipykernel_2765521/1358195452.py:84: ExperimentalWarning:\n",
      "\n",
      "upload_artifact is experimental (supported from v3.3.0). The interface can change in the future.\n",
      "\n",
      "/tmp/ipykernel_2765521/1358195452.py:88: ExperimentalWarning:\n",
      "\n",
      "upload_artifact is experimental (supported from v3.3.0). The interface can change in the future.\n",
      "\n",
      "[I 2024-07-03 02:41:49,385] Trial 87 finished with value: 0.3599484031034102 and parameters: {'lambda_l1': 0.000232335731504999, 'lambda_l2': 0.46173957110118913, 'num_leaves': 95, 'feature_fraction': 0.4568850735871638, 'bagging_fraction': 0.611148296828049, 'bagging_freq': 5, 'min_child_samples': 24, 'min_split_gain': 0.23746688304945104, 'max_depth': 12}. Best is trial 31 with value: 0.3803323220828325.\n",
      "/tmp/ipykernel_2765521/1358195452.py:84: ExperimentalWarning:\n",
      "\n",
      "upload_artifact is experimental (supported from v3.3.0). The interface can change in the future.\n",
      "\n",
      "/tmp/ipykernel_2765521/1358195452.py:88: ExperimentalWarning:\n",
      "\n",
      "upload_artifact is experimental (supported from v3.3.0). The interface can change in the future.\n",
      "\n",
      "[I 2024-07-03 02:41:55,240] Trial 88 finished with value: 0.3667621810838734 and parameters: {'lambda_l1': 0.026518393991936985, 'lambda_l2': 0.15013388672968184, 'num_leaves': 98, 'feature_fraction': 0.6071901631421686, 'bagging_fraction': 0.8832457601439067, 'bagging_freq': 5, 'min_child_samples': 50, 'min_split_gain': 0.2874492483566618, 'max_depth': 13}. Best is trial 31 with value: 0.3803323220828325.\n",
      "/tmp/ipykernel_2765521/1358195452.py:84: ExperimentalWarning:\n",
      "\n",
      "upload_artifact is experimental (supported from v3.3.0). The interface can change in the future.\n",
      "\n",
      "/tmp/ipykernel_2765521/1358195452.py:88: ExperimentalWarning:\n",
      "\n",
      "upload_artifact is experimental (supported from v3.3.0). The interface can change in the future.\n",
      "\n",
      "[I 2024-07-03 02:42:00,747] Trial 89 finished with value: 0.36978717961429375 and parameters: {'lambda_l1': 0.016716456086792623, 'lambda_l2': 0.7100525157149591, 'num_leaves': 91, 'feature_fraction': 0.7929081154442511, 'bagging_fraction': 0.8545107286076324, 'bagging_freq': 6, 'min_child_samples': 31, 'min_split_gain': 0.26413339404642583, 'max_depth': 11}. Best is trial 31 with value: 0.3803323220828325.\n",
      "/tmp/ipykernel_2765521/1358195452.py:84: ExperimentalWarning:\n",
      "\n",
      "upload_artifact is experimental (supported from v3.3.0). The interface can change in the future.\n",
      "\n",
      "/tmp/ipykernel_2765521/1358195452.py:88: ExperimentalWarning:\n",
      "\n",
      "upload_artifact is experimental (supported from v3.3.0). The interface can change in the future.\n",
      "\n",
      "[I 2024-07-03 02:42:07,474] Trial 90 finished with value: 0.37207439936256914 and parameters: {'lambda_l1': 0.00014806245156163942, 'lambda_l2': 0.06699163640109394, 'num_leaves': 96, 'feature_fraction': 0.42278768150093493, 'bagging_fraction': 0.8062113390473772, 'bagging_freq': 5, 'min_child_samples': 20, 'min_split_gain': 0.1817460756365712, 'max_depth': 15}. Best is trial 31 with value: 0.3803323220828325.\n",
      "/tmp/ipykernel_2765521/1358195452.py:84: ExperimentalWarning:\n",
      "\n",
      "upload_artifact is experimental (supported from v3.3.0). The interface can change in the future.\n",
      "\n",
      "/tmp/ipykernel_2765521/1358195452.py:88: ExperimentalWarning:\n",
      "\n",
      "upload_artifact is experimental (supported from v3.3.0). The interface can change in the future.\n",
      "\n",
      "[I 2024-07-03 02:42:12,383] Trial 91 finished with value: 0.3617678049063973 and parameters: {'lambda_l1': 0.00032319764850881604, 'lambda_l2': 0.3232942376993614, 'num_leaves': 100, 'feature_fraction': 0.41740528438663477, 'bagging_fraction': 0.8446048840061451, 'bagging_freq': 4, 'min_child_samples': 23, 'min_split_gain': 0.218864556289908, 'max_depth': 10}. Best is trial 31 with value: 0.3803323220828325.\n",
      "/tmp/ipykernel_2765521/1358195452.py:84: ExperimentalWarning:\n",
      "\n",
      "upload_artifact is experimental (supported from v3.3.0). The interface can change in the future.\n",
      "\n",
      "/tmp/ipykernel_2765521/1358195452.py:88: ExperimentalWarning:\n",
      "\n",
      "upload_artifact is experimental (supported from v3.3.0). The interface can change in the future.\n",
      "\n",
      "[I 2024-07-03 02:42:18,579] Trial 92 finished with value: 0.37739894729472934 and parameters: {'lambda_l1': 0.0005398567956821083, 'lambda_l2': 0.9966930426447016, 'num_leaves': 93, 'feature_fraction': 0.40490737173379043, 'bagging_fraction': 0.8749842010326931, 'bagging_freq': 4, 'min_child_samples': 22, 'min_split_gain': 0.1254391917885817, 'max_depth': 9}. Best is trial 31 with value: 0.3803323220828325.\n",
      "/tmp/ipykernel_2765521/1358195452.py:84: ExperimentalWarning:\n",
      "\n",
      "upload_artifact is experimental (supported from v3.3.0). The interface can change in the future.\n",
      "\n",
      "/tmp/ipykernel_2765521/1358195452.py:88: ExperimentalWarning:\n",
      "\n",
      "upload_artifact is experimental (supported from v3.3.0). The interface can change in the future.\n",
      "\n",
      "[I 2024-07-03 02:42:24,736] Trial 93 finished with value: 0.3642549818506897 and parameters: {'lambda_l1': 8.97217055378808e-05, 'lambda_l2': 0.8999458374209849, 'num_leaves': 93, 'feature_fraction': 0.4045279953583577, 'bagging_fraction': 0.8761903810634704, 'bagging_freq': 4, 'min_child_samples': 59, 'min_split_gain': 0.12462242557660215, 'max_depth': 9}. Best is trial 31 with value: 0.3803323220828325.\n",
      "/tmp/ipykernel_2765521/1358195452.py:84: ExperimentalWarning:\n",
      "\n",
      "upload_artifact is experimental (supported from v3.3.0). The interface can change in the future.\n",
      "\n",
      "/tmp/ipykernel_2765521/1358195452.py:88: ExperimentalWarning:\n",
      "\n",
      "upload_artifact is experimental (supported from v3.3.0). The interface can change in the future.\n",
      "\n",
      "[I 2024-07-03 02:42:28,058] Trial 94 finished with value: 0.3631024647899251 and parameters: {'lambda_l1': 0.0840233020981645, 'lambda_l2': 0.5194508944101542, 'num_leaves': 43, 'feature_fraction': 0.6386586741000267, 'bagging_fraction': 0.8559212981129706, 'bagging_freq': 3, 'min_child_samples': 26, 'min_split_gain': 0.15233800713050533, 'max_depth': 11}. Best is trial 31 with value: 0.3803323220828325.\n",
      "/tmp/ipykernel_2765521/1358195452.py:84: ExperimentalWarning:\n",
      "\n",
      "upload_artifact is experimental (supported from v3.3.0). The interface can change in the future.\n",
      "\n",
      "/tmp/ipykernel_2765521/1358195452.py:88: ExperimentalWarning:\n",
      "\n",
      "upload_artifact is experimental (supported from v3.3.0). The interface can change in the future.\n",
      "\n",
      "[I 2024-07-03 02:42:32,787] Trial 95 finished with value: 0.3676795295757256 and parameters: {'lambda_l1': 4.664924792255839e-05, 'lambda_l2': 0.21375963038448176, 'num_leaves': 96, 'feature_fraction': 0.35612227512600664, 'bagging_fraction': 0.8848264271439631, 'bagging_freq': 4, 'min_child_samples': 21, 'min_split_gain': 0.10632068920685624, 'max_depth': 6}. Best is trial 31 with value: 0.3803323220828325.\n",
      "/tmp/ipykernel_2765521/1358195452.py:84: ExperimentalWarning:\n",
      "\n",
      "upload_artifact is experimental (supported from v3.3.0). The interface can change in the future.\n",
      "\n",
      "/tmp/ipykernel_2765521/1358195452.py:88: ExperimentalWarning:\n",
      "\n",
      "upload_artifact is experimental (supported from v3.3.0). The interface can change in the future.\n",
      "\n",
      "[I 2024-07-03 02:42:39,034] Trial 96 finished with value: 0.3718688740495597 and parameters: {'lambda_l1': 0.009509744430633743, 'lambda_l2': 0.428207866239365, 'num_leaves': 87, 'feature_fraction': 0.4394814276645953, 'bagging_fraction': 0.8334676343696983, 'bagging_freq': 4, 'min_child_samples': 27, 'min_split_gain': 0.08016046270672181, 'max_depth': 8}. Best is trial 31 with value: 0.3803323220828325.\n",
      "/tmp/ipykernel_2765521/1358195452.py:84: ExperimentalWarning:\n",
      "\n",
      "upload_artifact is experimental (supported from v3.3.0). The interface can change in the future.\n",
      "\n",
      "/tmp/ipykernel_2765521/1358195452.py:88: ExperimentalWarning:\n",
      "\n",
      "upload_artifact is experimental (supported from v3.3.0). The interface can change in the future.\n",
      "\n",
      "[I 2024-07-03 02:42:44,941] Trial 97 finished with value: 0.36928473179593574 and parameters: {'lambda_l1': 0.0015123737356829935, 'lambda_l2': 0.12275314595233332, 'num_leaves': 83, 'feature_fraction': 0.3919882560855461, 'bagging_fraction': 0.8910246865922055, 'bagging_freq': 5, 'min_child_samples': 24, 'min_split_gain': 0.0655538102008087, 'max_depth': 14}. Best is trial 31 with value: 0.3803323220828325.\n",
      "/tmp/ipykernel_2765521/1358195452.py:84: ExperimentalWarning:\n",
      "\n",
      "upload_artifact is experimental (supported from v3.3.0). The interface can change in the future.\n",
      "\n",
      "/tmp/ipykernel_2765521/1358195452.py:88: ExperimentalWarning:\n",
      "\n",
      "upload_artifact is experimental (supported from v3.3.0). The interface can change in the future.\n",
      "\n",
      "[I 2024-07-03 02:42:50,375] Trial 98 finished with value: 0.3706193196487738 and parameters: {'lambda_l1': 0.04769183963130936, 'lambda_l2': 0.00094642600991787, 'num_leaves': 99, 'feature_fraction': 0.7720092157377371, 'bagging_fraction': 0.8745251781513281, 'bagging_freq': 1, 'min_child_samples': 29, 'min_split_gain': 0.1173968324739459, 'max_depth': 13}. Best is trial 31 with value: 0.3803323220828325.\n",
      "/tmp/ipykernel_2765521/1358195452.py:84: ExperimentalWarning:\n",
      "\n",
      "upload_artifact is experimental (supported from v3.3.0). The interface can change in the future.\n",
      "\n",
      "/tmp/ipykernel_2765521/1358195452.py:88: ExperimentalWarning:\n",
      "\n",
      "upload_artifact is experimental (supported from v3.3.0). The interface can change in the future.\n",
      "\n",
      "[I 2024-07-03 02:42:55,753] Trial 99 finished with value: 0.35921335498886015 and parameters: {'lambda_l1': 0.0001920098030067649, 'lambda_l2': 0.9692762288678887, 'num_leaves': 55, 'feature_fraction': 0.34160761126995, 'bagging_fraction': 0.5106487436822456, 'bagging_freq': 3, 'min_child_samples': 34, 'min_split_gain': 0.09372123650035924, 'max_depth': 11}. Best is trial 31 with value: 0.3803323220828325.\n",
      "/tmp/ipykernel_2765521/1358195452.py:84: ExperimentalWarning:\n",
      "\n",
      "upload_artifact is experimental (supported from v3.3.0). The interface can change in the future.\n",
      "\n",
      "/tmp/ipykernel_2765521/1358195452.py:88: ExperimentalWarning:\n",
      "\n",
      "upload_artifact is experimental (supported from v3.3.0). The interface can change in the future.\n",
      "\n",
      "[I 2024-07-03 02:43:01,811] Trial 100 finished with value: 0.3640165059979008 and parameters: {'lambda_l1': 0.029452601971031823, 'lambda_l2': 0.5818918020230784, 'num_leaves': 93, 'feature_fraction': 0.3729285559504064, 'bagging_fraction': 0.8410702927878537, 'bagging_freq': 2, 'min_child_samples': 22, 'min_split_gain': 0.21236468572848766, 'max_depth': 12}. Best is trial 31 with value: 0.3803323220828325.\n",
      "/tmp/ipykernel_2765521/1358195452.py:84: ExperimentalWarning:\n",
      "\n",
      "upload_artifact is experimental (supported from v3.3.0). The interface can change in the future.\n",
      "\n",
      "/tmp/ipykernel_2765521/1358195452.py:88: ExperimentalWarning:\n",
      "\n",
      "upload_artifact is experimental (supported from v3.3.0). The interface can change in the future.\n",
      "\n",
      "[I 2024-07-03 02:43:08,586] Trial 101 finished with value: 0.3734654657861413 and parameters: {'lambda_l1': 0.0005166164696590061, 'lambda_l2': 0.32704977815787784, 'num_leaves': 90, 'feature_fraction': 0.40921454660557915, 'bagging_fraction': 0.8626125078151223, 'bagging_freq': 4, 'min_child_samples': 22, 'min_split_gain': 0.231388414072543, 'max_depth': 10}. Best is trial 31 with value: 0.3803323220828325.\n",
      "/tmp/ipykernel_2765521/1358195452.py:84: ExperimentalWarning:\n",
      "\n",
      "upload_artifact is experimental (supported from v3.3.0). The interface can change in the future.\n",
      "\n",
      "/tmp/ipykernel_2765521/1358195452.py:88: ExperimentalWarning:\n",
      "\n",
      "upload_artifact is experimental (supported from v3.3.0). The interface can change in the future.\n",
      "\n",
      "[I 2024-07-03 02:43:12,918] Trial 102 finished with value: 0.36579673359965625 and parameters: {'lambda_l1': 0.0007906234112921293, 'lambda_l2': 0.29734911132116815, 'num_leaves': 98, 'feature_fraction': 0.38409994659456814, 'bagging_fraction': 0.8579680885191356, 'bagging_freq': 4, 'min_child_samples': 25, 'min_split_gain': 0.2350186648481928, 'max_depth': 9}. Best is trial 31 with value: 0.3803323220828325.\n",
      "/tmp/ipykernel_2765521/1358195452.py:84: ExperimentalWarning:\n",
      "\n",
      "upload_artifact is experimental (supported from v3.3.0). The interface can change in the future.\n",
      "\n",
      "/tmp/ipykernel_2765521/1358195452.py:88: ExperimentalWarning:\n",
      "\n",
      "upload_artifact is experimental (supported from v3.3.0). The interface can change in the future.\n",
      "\n",
      "[I 2024-07-03 02:43:17,943] Trial 103 finished with value: 0.3632941064908881 and parameters: {'lambda_l1': 0.0011681914208562939, 'lambda_l2': 0.20855546153595847, 'num_leaves': 91, 'feature_fraction': 0.4664168399825616, 'bagging_fraction': 0.8236410408049484, 'bagging_freq': 4, 'min_child_samples': 21, 'min_split_gain': 0.04911965797402117, 'max_depth': 10}. Best is trial 31 with value: 0.3803323220828325.\n",
      "/tmp/ipykernel_2765521/1358195452.py:84: ExperimentalWarning:\n",
      "\n",
      "upload_artifact is experimental (supported from v3.3.0). The interface can change in the future.\n",
      "\n",
      "/tmp/ipykernel_2765521/1358195452.py:88: ExperimentalWarning:\n",
      "\n",
      "upload_artifact is experimental (supported from v3.3.0). The interface can change in the future.\n",
      "\n",
      "[I 2024-07-03 02:43:24,310] Trial 104 finished with value: 0.3704116967881632 and parameters: {'lambda_l1': 6.142718088260554e-05, 'lambda_l2': 0.6816267823321885, 'num_leaves': 96, 'feature_fraction': 0.4830287433384877, 'bagging_fraction': 0.8690359453972691, 'bagging_freq': 4, 'min_child_samples': 27, 'min_split_gain': 0.248686732371719, 'max_depth': 12}. Best is trial 31 with value: 0.3803323220828325.\n",
      "/tmp/ipykernel_2765521/1358195452.py:84: ExperimentalWarning:\n",
      "\n",
      "upload_artifact is experimental (supported from v3.3.0). The interface can change in the future.\n",
      "\n",
      "/tmp/ipykernel_2765521/1358195452.py:88: ExperimentalWarning:\n",
      "\n",
      "upload_artifact is experimental (supported from v3.3.0). The interface can change in the future.\n",
      "\n",
      "[I 2024-07-03 02:43:30,400] Trial 105 finished with value: 0.365216141466171 and parameters: {'lambda_l1': 0.00028051578769015226, 'lambda_l2': 0.41978080147944474, 'num_leaves': 94, 'feature_fraction': 0.4296806681550915, 'bagging_fraction': 0.8878716453036557, 'bagging_freq': 5, 'min_child_samples': 23, 'min_split_gain': 0.1976333878758359, 'max_depth': 8}. Best is trial 31 with value: 0.3803323220828325.\n",
      "/tmp/ipykernel_2765521/1358195452.py:84: ExperimentalWarning:\n",
      "\n",
      "upload_artifact is experimental (supported from v3.3.0). The interface can change in the future.\n",
      "\n",
      "/tmp/ipykernel_2765521/1358195452.py:88: ExperimentalWarning:\n",
      "\n",
      "upload_artifact is experimental (supported from v3.3.0). The interface can change in the future.\n",
      "\n",
      "[I 2024-07-03 02:43:36,700] Trial 106 finished with value: 0.3653128941662586 and parameters: {'lambda_l1': 0.0006027306354953773, 'lambda_l2': 0.08471817130114066, 'num_leaves': 99, 'feature_fraction': 0.4476380632927805, 'bagging_fraction': 0.8600245287879927, 'bagging_freq': 3, 'min_child_samples': 20, 'min_split_gain': 0.2317186338589882, 'max_depth': 9}. Best is trial 31 with value: 0.3803323220828325.\n",
      "/tmp/ipykernel_2765521/1358195452.py:84: ExperimentalWarning:\n",
      "\n",
      "upload_artifact is experimental (supported from v3.3.0). The interface can change in the future.\n",
      "\n",
      "/tmp/ipykernel_2765521/1358195452.py:88: ExperimentalWarning:\n",
      "\n",
      "upload_artifact is experimental (supported from v3.3.0). The interface can change in the future.\n",
      "\n",
      "[I 2024-07-03 02:43:44,968] Trial 107 finished with value: 0.3699648293815855 and parameters: {'lambda_l1': 0.0001674414016437574, 'lambda_l2': 0.26632976230882704, 'num_leaves': 97, 'feature_fraction': 0.39943428126228503, 'bagging_fraction': 0.899007628153141, 'bagging_freq': 4, 'min_child_samples': 26, 'min_split_gain': 0.21648461587413959, 'max_depth': 13}. Best is trial 31 with value: 0.3803323220828325.\n",
      "/tmp/ipykernel_2765521/1358195452.py:84: ExperimentalWarning:\n",
      "\n",
      "upload_artifact is experimental (supported from v3.3.0). The interface can change in the future.\n",
      "\n",
      "/tmp/ipykernel_2765521/1358195452.py:88: ExperimentalWarning:\n",
      "\n",
      "upload_artifact is experimental (supported from v3.3.0). The interface can change in the future.\n",
      "\n",
      "[I 2024-07-03 02:43:51,560] Trial 108 finished with value: 0.370651223506321 and parameters: {'lambda_l1': 0.00043337303790388573, 'lambda_l2': 0.0002121793846626133, 'num_leaves': 79, 'feature_fraction': 0.4108492067435042, 'bagging_fraction': 0.8477352673991414, 'bagging_freq': 3, 'min_child_samples': 23, 'min_split_gain': 0.15749971463688586, 'max_depth': 12}. Best is trial 31 with value: 0.3803323220828325.\n",
      "/tmp/ipykernel_2765521/1358195452.py:84: ExperimentalWarning:\n",
      "\n",
      "upload_artifact is experimental (supported from v3.3.0). The interface can change in the future.\n",
      "\n",
      "/tmp/ipykernel_2765521/1358195452.py:88: ExperimentalWarning:\n",
      "\n",
      "upload_artifact is experimental (supported from v3.3.0). The interface can change in the future.\n",
      "\n",
      "[I 2024-07-03 02:43:57,673] Trial 109 finished with value: 0.3660944477062979 and parameters: {'lambda_l1': 0.14946365279457, 'lambda_l2': 0.1306400935487875, 'num_leaves': 90, 'feature_fraction': 0.5449387117814065, 'bagging_fraction': 0.8371509898269287, 'bagging_freq': 4, 'min_child_samples': 30, 'min_split_gain': 0.24447018852310817, 'max_depth': 11}. Best is trial 31 with value: 0.3803323220828325.\n",
      "/tmp/ipykernel_2765521/1358195452.py:84: ExperimentalWarning:\n",
      "\n",
      "upload_artifact is experimental (supported from v3.3.0). The interface can change in the future.\n",
      "\n",
      "/tmp/ipykernel_2765521/1358195452.py:88: ExperimentalWarning:\n",
      "\n",
      "upload_artifact is experimental (supported from v3.3.0). The interface can change in the future.\n",
      "\n",
      "[I 2024-07-03 02:44:04,889] Trial 110 finished with value: 0.3664143312753483 and parameters: {'lambda_l1': 0.00012522158356370283, 'lambda_l2': 0.0407489811461009, 'num_leaves': 95, 'feature_fraction': 0.43580501116803294, 'bagging_fraction': 0.8109688632295444, 'bagging_freq': 5, 'min_child_samples': 28, 'min_split_gain': 0.1411551096644011, 'max_depth': 14}. Best is trial 31 with value: 0.3803323220828325.\n",
      "/tmp/ipykernel_2765521/1358195452.py:84: ExperimentalWarning:\n",
      "\n",
      "upload_artifact is experimental (supported from v3.3.0). The interface can change in the future.\n",
      "\n",
      "/tmp/ipykernel_2765521/1358195452.py:88: ExperimentalWarning:\n",
      "\n",
      "upload_artifact is experimental (supported from v3.3.0). The interface can change in the future.\n",
      "\n",
      "[I 2024-07-03 02:44:12,048] Trial 111 finished with value: 0.3687203846614786 and parameters: {'lambda_l1': 0.0005406218315208315, 'lambda_l2': 0.3702561506688584, 'num_leaves': 88, 'feature_fraction': 0.41516999467305216, 'bagging_fraction': 0.8644739382865141, 'bagging_freq': 4, 'min_child_samples': 21, 'min_split_gain': 0.28660103312801666, 'max_depth': 10}. Best is trial 31 with value: 0.3803323220828325.\n",
      "/tmp/ipykernel_2765521/1358195452.py:84: ExperimentalWarning:\n",
      "\n",
      "upload_artifact is experimental (supported from v3.3.0). The interface can change in the future.\n",
      "\n",
      "/tmp/ipykernel_2765521/1358195452.py:88: ExperimentalWarning:\n",
      "\n",
      "upload_artifact is experimental (supported from v3.3.0). The interface can change in the future.\n",
      "\n",
      "[I 2024-07-03 02:44:18,682] Trial 112 finished with value: 0.3712171267823621 and parameters: {'lambda_l1': 0.0008070236360174122, 'lambda_l2': 0.1693079718131924, 'num_leaves': 98, 'feature_fraction': 0.40729950016484673, 'bagging_fraction': 0.8744091413541839, 'bagging_freq': 4, 'min_child_samples': 22, 'min_split_gain': 0.36235066867817634, 'max_depth': 10}. Best is trial 31 with value: 0.3803323220828325.\n",
      "/tmp/ipykernel_2765521/1358195452.py:84: ExperimentalWarning:\n",
      "\n",
      "upload_artifact is experimental (supported from v3.3.0). The interface can change in the future.\n",
      "\n",
      "/tmp/ipykernel_2765521/1358195452.py:88: ExperimentalWarning:\n",
      "\n",
      "upload_artifact is experimental (supported from v3.3.0). The interface can change in the future.\n",
      "\n",
      "[I 2024-07-03 02:44:25,288] Trial 113 finished with value: 0.3649153273405242 and parameters: {'lambda_l1': 0.003666458811382783, 'lambda_l2': 0.5007663786440272, 'num_leaves': 92, 'feature_fraction': 0.38682976631545374, 'bagging_fraction': 0.8816038393846473, 'bagging_freq': 4, 'min_child_samples': 24, 'min_split_gain': 0.41316784623097735, 'max_depth': 10}. Best is trial 31 with value: 0.3803323220828325.\n",
      "/tmp/ipykernel_2765521/1358195452.py:84: ExperimentalWarning:\n",
      "\n",
      "upload_artifact is experimental (supported from v3.3.0). The interface can change in the future.\n",
      "\n",
      "/tmp/ipykernel_2765521/1358195452.py:88: ExperimentalWarning:\n",
      "\n",
      "upload_artifact is experimental (supported from v3.3.0). The interface can change in the future.\n",
      "\n",
      "[I 2024-07-03 02:44:29,083] Trial 114 finished with value: 0.3612416529497529 and parameters: {'lambda_l1': 0.019847598066660786, 'lambda_l2': 0.3086641755905432, 'num_leaves': 25, 'feature_fraction': 0.42293391461627755, 'bagging_fraction': 0.8517441774694529, 'bagging_freq': 4, 'min_child_samples': 25, 'min_split_gain': 0.26007393320924727, 'max_depth': 9}. Best is trial 31 with value: 0.3803323220828325.\n",
      "/tmp/ipykernel_2765521/1358195452.py:84: ExperimentalWarning:\n",
      "\n",
      "upload_artifact is experimental (supported from v3.3.0). The interface can change in the future.\n",
      "\n",
      "/tmp/ipykernel_2765521/1358195452.py:88: ExperimentalWarning:\n",
      "\n",
      "upload_artifact is experimental (supported from v3.3.0). The interface can change in the future.\n",
      "\n",
      "[I 2024-07-03 02:44:35,671] Trial 115 finished with value: 0.37072672385267197 and parameters: {'lambda_l1': 0.00043103439573858844, 'lambda_l2': 0.7254206595606448, 'num_leaves': 89, 'feature_fraction': 0.6728047165937973, 'bagging_fraction': 0.8690691466857491, 'bagging_freq': 3, 'min_child_samples': 69, 'min_split_gain': 0.30046582775580744, 'max_depth': 12}. Best is trial 31 with value: 0.3803323220828325.\n",
      "/tmp/ipykernel_2765521/1358195452.py:84: ExperimentalWarning:\n",
      "\n",
      "upload_artifact is experimental (supported from v3.3.0). The interface can change in the future.\n",
      "\n",
      "/tmp/ipykernel_2765521/1358195452.py:88: ExperimentalWarning:\n",
      "\n",
      "upload_artifact is experimental (supported from v3.3.0). The interface can change in the future.\n",
      "\n",
      "[I 2024-07-03 02:44:41,862] Trial 116 finished with value: 0.36569572975267167 and parameters: {'lambda_l1': 0.00032736830199104765, 'lambda_l2': 0.10210152903770042, 'num_leaves': 100, 'feature_fraction': 0.3737140458676241, 'bagging_fraction': 0.8914803216074705, 'bagging_freq': 4, 'min_child_samples': 22, 'min_split_gain': 0.13242459740631346, 'max_depth': 11}. Best is trial 31 with value: 0.3803323220828325.\n",
      "/tmp/ipykernel_2765521/1358195452.py:84: ExperimentalWarning:\n",
      "\n",
      "upload_artifact is experimental (supported from v3.3.0). The interface can change in the future.\n",
      "\n",
      "/tmp/ipykernel_2765521/1358195452.py:88: ExperimentalWarning:\n",
      "\n",
      "upload_artifact is experimental (supported from v3.3.0). The interface can change in the future.\n",
      "\n",
      "[I 2024-07-03 02:44:47,257] Trial 117 finished with value: 0.3686777103919353 and parameters: {'lambda_l1': 0.005860357842514333, 'lambda_l2': 0.17838736710509626, 'num_leaves': 94, 'feature_fraction': 0.4975207974067126, 'bagging_fraction': 0.8797341740322566, 'bagging_freq': 3, 'min_child_samples': 20, 'min_split_gain': 0.18338944226425472, 'max_depth': 8}. Best is trial 31 with value: 0.3803323220828325.\n",
      "/tmp/ipykernel_2765521/1358195452.py:84: ExperimentalWarning:\n",
      "\n",
      "upload_artifact is experimental (supported from v3.3.0). The interface can change in the future.\n",
      "\n",
      "/tmp/ipykernel_2765521/1358195452.py:88: ExperimentalWarning:\n",
      "\n",
      "upload_artifact is experimental (supported from v3.3.0). The interface can change in the future.\n",
      "\n",
      "[I 2024-07-03 02:44:53,922] Trial 118 finished with value: 0.3640294042044061 and parameters: {'lambda_l1': 0.0018316811612692644, 'lambda_l2': 0.4110178301716361, 'num_leaves': 96, 'feature_fraction': 0.45134105361079074, 'bagging_fraction': 0.8280722954530254, 'bagging_freq': 5, 'min_child_samples': 32, 'min_split_gain': 0.3152339034338743, 'max_depth': 0}. Best is trial 31 with value: 0.3803323220828325.\n",
      "/tmp/ipykernel_2765521/1358195452.py:84: ExperimentalWarning:\n",
      "\n",
      "upload_artifact is experimental (supported from v3.3.0). The interface can change in the future.\n",
      "\n",
      "/tmp/ipykernel_2765521/1358195452.py:88: ExperimentalWarning:\n",
      "\n",
      "upload_artifact is experimental (supported from v3.3.0). The interface can change in the future.\n",
      "\n",
      "[I 2024-07-03 02:44:58,132] Trial 119 finished with value: 0.360235590252556 and parameters: {'lambda_l1': 0.060601832552991224, 'lambda_l2': 0.24600895799498423, 'num_leaves': 98, 'feature_fraction': 0.39435210433597334, 'bagging_fraction': 0.7853204931691384, 'bagging_freq': 4, 'min_child_samples': 26, 'min_split_gain': 0.27399800443134403, 'max_depth': 7}. Best is trial 31 with value: 0.3803323220828325.\n",
      "/tmp/ipykernel_2765521/1358195452.py:84: ExperimentalWarning:\n",
      "\n",
      "upload_artifact is experimental (supported from v3.3.0). The interface can change in the future.\n",
      "\n",
      "/tmp/ipykernel_2765521/1358195452.py:88: ExperimentalWarning:\n",
      "\n",
      "upload_artifact is experimental (supported from v3.3.0). The interface can change in the future.\n",
      "\n",
      "[I 2024-07-03 02:45:05,049] Trial 120 finished with value: 0.362552386395754 and parameters: {'lambda_l1': 0.0008891861431965658, 'lambda_l2': 0.5590431703253215, 'num_leaves': 86, 'feature_fraction': 0.5113180098156292, 'bagging_fraction': 0.7207545279925146, 'bagging_freq': 4, 'min_child_samples': 28, 'min_split_gain': 0.22444058111954246, 'max_depth': 13}. Best is trial 31 with value: 0.3803323220828325.\n",
      "/tmp/ipykernel_2765521/1358195452.py:84: ExperimentalWarning:\n",
      "\n",
      "upload_artifact is experimental (supported from v3.3.0). The interface can change in the future.\n",
      "\n",
      "/tmp/ipykernel_2765521/1358195452.py:88: ExperimentalWarning:\n",
      "\n",
      "upload_artifact is experimental (supported from v3.3.0). The interface can change in the future.\n",
      "\n",
      "[I 2024-07-03 02:45:12,243] Trial 121 finished with value: 0.3733289286714719 and parameters: {'lambda_l1': 0.0012847431935132548, 'lambda_l2': 0.06481573428960422, 'num_leaves': 100, 'feature_fraction': 0.5787737475922284, 'bagging_fraction': 0.8628503250534453, 'bagging_freq': 3, 'min_child_samples': 24, 'min_split_gain': 0.11659495598799267, 'max_depth': 11}. Best is trial 31 with value: 0.3803323220828325.\n",
      "/tmp/ipykernel_2765521/1358195452.py:84: ExperimentalWarning:\n",
      "\n",
      "upload_artifact is experimental (supported from v3.3.0). The interface can change in the future.\n",
      "\n",
      "/tmp/ipykernel_2765521/1358195452.py:88: ExperimentalWarning:\n",
      "\n",
      "upload_artifact is experimental (supported from v3.3.0). The interface can change in the future.\n",
      "\n",
      "[I 2024-07-03 02:45:18,916] Trial 122 finished with value: 0.3706564388682447 and parameters: {'lambda_l1': 0.0011849324189466054, 'lambda_l2': 0.07234951904528156, 'num_leaves': 100, 'feature_fraction': 0.5845949572015282, 'bagging_fraction': 0.8658822660865773, 'bagging_freq': 2, 'min_child_samples': 24, 'min_split_gain': 0.11805669585623815, 'max_depth': 11}. Best is trial 31 with value: 0.3803323220828325.\n",
      "/tmp/ipykernel_2765521/1358195452.py:84: ExperimentalWarning:\n",
      "\n",
      "upload_artifact is experimental (supported from v3.3.0). The interface can change in the future.\n",
      "\n",
      "/tmp/ipykernel_2765521/1358195452.py:88: ExperimentalWarning:\n",
      "\n",
      "upload_artifact is experimental (supported from v3.3.0). The interface can change in the future.\n",
      "\n",
      "[I 2024-07-03 02:45:24,853] Trial 123 finished with value: 0.3716584873329467 and parameters: {'lambda_l1': 0.002587262617029274, 'lambda_l2': 0.025260007961277732, 'num_leaves': 96, 'feature_fraction': 0.5344458345688302, 'bagging_fraction': 0.8390556637590127, 'bagging_freq': 3, 'min_child_samples': 22, 'min_split_gain': 0.07737257177432544, 'max_depth': 10}. Best is trial 31 with value: 0.3803323220828325.\n",
      "/tmp/ipykernel_2765521/1358195452.py:84: ExperimentalWarning:\n",
      "\n",
      "upload_artifact is experimental (supported from v3.3.0). The interface can change in the future.\n",
      "\n",
      "/tmp/ipykernel_2765521/1358195452.py:88: ExperimentalWarning:\n",
      "\n",
      "upload_artifact is experimental (supported from v3.3.0). The interface can change in the future.\n",
      "\n",
      "[I 2024-07-03 02:45:30,992] Trial 124 finished with value: 0.3735495186892632 and parameters: {'lambda_l1': 0.0007124002576320706, 'lambda_l2': 0.3366373166544792, 'num_leaves': 99, 'feature_fraction': 0.5637353092075631, 'bagging_fraction': 0.8548971311182405, 'bagging_freq': 3, 'min_child_samples': 20, 'min_split_gain': 0.08985954851110559, 'max_depth': 9}. Best is trial 31 with value: 0.3803323220828325.\n",
      "/tmp/ipykernel_2765521/1358195452.py:84: ExperimentalWarning:\n",
      "\n",
      "upload_artifact is experimental (supported from v3.3.0). The interface can change in the future.\n",
      "\n",
      "/tmp/ipykernel_2765521/1358195452.py:88: ExperimentalWarning:\n",
      "\n",
      "upload_artifact is experimental (supported from v3.3.0). The interface can change in the future.\n",
      "\n",
      "[I 2024-07-03 02:45:36,467] Trial 125 finished with value: 0.36628502139506863 and parameters: {'lambda_l1': 0.04203962871819458, 'lambda_l2': 0.9860910623551282, 'num_leaves': 99, 'feature_fraction': 0.5630911725164336, 'bagging_fraction': 0.8545782188584137, 'bagging_freq': 3, 'min_child_samples': 20, 'min_split_gain': 0.10811336139525912, 'max_depth': 9}. Best is trial 31 with value: 0.3803323220828325.\n",
      "/tmp/ipykernel_2765521/1358195452.py:84: ExperimentalWarning:\n",
      "\n",
      "upload_artifact is experimental (supported from v3.3.0). The interface can change in the future.\n",
      "\n",
      "/tmp/ipykernel_2765521/1358195452.py:88: ExperimentalWarning:\n",
      "\n",
      "upload_artifact is experimental (supported from v3.3.0). The interface can change in the future.\n",
      "\n",
      "[I 2024-07-03 02:45:42,048] Trial 126 finished with value: 0.36885434088750757 and parameters: {'lambda_l1': 0.011662264653381467, 'lambda_l2': 0.050097344320813315, 'num_leaves': 98, 'feature_fraction': 0.5967436054122878, 'bagging_fraction': 0.8916107630979202, 'bagging_freq': 3, 'min_child_samples': 24, 'min_split_gain': 0.12504178535538812, 'max_depth': 11}. Best is trial 31 with value: 0.3803323220828325.\n",
      "/tmp/ipykernel_2765521/1358195452.py:84: ExperimentalWarning:\n",
      "\n",
      "upload_artifact is experimental (supported from v3.3.0). The interface can change in the future.\n",
      "\n",
      "/tmp/ipykernel_2765521/1358195452.py:88: ExperimentalWarning:\n",
      "\n",
      "upload_artifact is experimental (supported from v3.3.0). The interface can change in the future.\n",
      "\n",
      "[I 2024-07-03 02:45:49,225] Trial 127 finished with value: 0.3690448297386205 and parameters: {'lambda_l1': 0.0002472486440489175, 'lambda_l2': 0.13848747078580106, 'num_leaves': 93, 'feature_fraction': 0.5485720880716891, 'bagging_fraction': 0.8453948235187121, 'bagging_freq': 3, 'min_child_samples': 26, 'min_split_gain': 0.09940316181868217, 'max_depth': 12}. Best is trial 31 with value: 0.3803323220828325.\n",
      "/tmp/ipykernel_2765521/1358195452.py:84: ExperimentalWarning:\n",
      "\n",
      "upload_artifact is experimental (supported from v3.3.0). The interface can change in the future.\n",
      "\n",
      "/tmp/ipykernel_2765521/1358195452.py:88: ExperimentalWarning:\n",
      "\n",
      "upload_artifact is experimental (supported from v3.3.0). The interface can change in the future.\n",
      "\n",
      "[I 2024-07-03 02:45:54,815] Trial 128 finished with value: 0.3791120706774047 and parameters: {'lambda_l1': 0.0006798979674056168, 'lambda_l2': 1.598206399976615e-05, 'num_leaves': 100, 'feature_fraction': 0.5820233914300356, 'bagging_fraction': 0.8812800745519815, 'bagging_freq': 2, 'min_child_samples': 30, 'min_split_gain': 0.05408536851107504, 'max_depth': 9}. Best is trial 31 with value: 0.3803323220828325.\n",
      "/tmp/ipykernel_2765521/1358195452.py:84: ExperimentalWarning:\n",
      "\n",
      "upload_artifact is experimental (supported from v3.3.0). The interface can change in the future.\n",
      "\n",
      "/tmp/ipykernel_2765521/1358195452.py:88: ExperimentalWarning:\n",
      "\n",
      "upload_artifact is experimental (supported from v3.3.0). The interface can change in the future.\n",
      "\n",
      "[I 2024-07-03 02:46:00,005] Trial 129 finished with value: 0.3699088122187365 and parameters: {'lambda_l1': 0.0006033024693576591, 'lambda_l2': 6.664982140177101e-06, 'num_leaves': 97, 'feature_fraction': 0.5553705008941278, 'bagging_fraction': 0.8804458951159332, 'bagging_freq': 2, 'min_child_samples': 30, 'min_split_gain': 0.02961439801788132, 'max_depth': 8}. Best is trial 31 with value: 0.3803323220828325.\n",
      "/tmp/ipykernel_2765521/1358195452.py:84: ExperimentalWarning:\n",
      "\n",
      "upload_artifact is experimental (supported from v3.3.0). The interface can change in the future.\n",
      "\n",
      "/tmp/ipykernel_2765521/1358195452.py:88: ExperimentalWarning:\n",
      "\n",
      "upload_artifact is experimental (supported from v3.3.0). The interface can change in the future.\n",
      "\n",
      "[I 2024-07-03 02:46:04,621] Trial 130 finished with value: 0.3641729091745348 and parameters: {'lambda_l1': 0.016037322521102088, 'lambda_l2': 0.0001130273640725666, 'num_leaves': 95, 'feature_fraction': 0.6192228155126486, 'bagging_fraction': 0.8979034130169499, 'bagging_freq': 2, 'min_child_samples': 27, 'min_split_gain': 0.09037371563010828, 'max_depth': 9}. Best is trial 31 with value: 0.3803323220828325.\n",
      "/tmp/ipykernel_2765521/1358195452.py:84: ExperimentalWarning:\n",
      "\n",
      "upload_artifact is experimental (supported from v3.3.0). The interface can change in the future.\n",
      "\n",
      "/tmp/ipykernel_2765521/1358195452.py:88: ExperimentalWarning:\n",
      "\n",
      "upload_artifact is experimental (supported from v3.3.0). The interface can change in the future.\n",
      "\n",
      "[I 2024-07-03 02:46:10,815] Trial 131 finished with value: 0.3700843462330117 and parameters: {'lambda_l1': 0.001368772647702949, 'lambda_l2': 0.0021251500406837655, 'num_leaves': 100, 'feature_fraction': 0.5783410882438982, 'bagging_fraction': 0.8584723436755873, 'bagging_freq': 2, 'min_child_samples': 23, 'min_split_gain': 0.05906505521436951, 'max_depth': 9}. Best is trial 31 with value: 0.3803323220828325.\n",
      "/tmp/ipykernel_2765521/1358195452.py:84: ExperimentalWarning:\n",
      "\n",
      "upload_artifact is experimental (supported from v3.3.0). The interface can change in the future.\n",
      "\n",
      "/tmp/ipykernel_2765521/1358195452.py:88: ExperimentalWarning:\n",
      "\n",
      "upload_artifact is experimental (supported from v3.3.0). The interface can change in the future.\n",
      "\n",
      "[I 2024-07-03 02:46:16,056] Trial 132 finished with value: 0.3655878196243 and parameters: {'lambda_l1': 0.0006855103431240347, 'lambda_l2': 1.50326224688321e-05, 'num_leaves': 100, 'feature_fraction': 0.6067102861665439, 'bagging_fraction': 0.8742358059573846, 'bagging_freq': 3, 'min_child_samples': 25, 'min_split_gain': 0.044834148892069964, 'max_depth': 10}. Best is trial 31 with value: 0.3803323220828325.\n",
      "/tmp/ipykernel_2765521/1358195452.py:84: ExperimentalWarning:\n",
      "\n",
      "upload_artifact is experimental (supported from v3.3.0). The interface can change in the future.\n",
      "\n",
      "/tmp/ipykernel_2765521/1358195452.py:88: ExperimentalWarning:\n",
      "\n",
      "upload_artifact is experimental (supported from v3.3.0). The interface can change in the future.\n",
      "\n",
      "[I 2024-07-03 02:46:20,796] Trial 133 finished with value: 0.3669264883655907 and parameters: {'lambda_l1': 0.0003546339562672048, 'lambda_l2': 4.616442440887565e-05, 'num_leaves': 98, 'feature_fraction': 0.6366653123678356, 'bagging_fraction': 0.8856387174506075, 'bagging_freq': 1, 'min_child_samples': 21, 'min_split_gain': 0.07566874769344736, 'max_depth': 7}. Best is trial 31 with value: 0.3803323220828325.\n",
      "/tmp/ipykernel_2765521/1358195452.py:84: ExperimentalWarning:\n",
      "\n",
      "upload_artifact is experimental (supported from v3.3.0). The interface can change in the future.\n",
      "\n",
      "/tmp/ipykernel_2765521/1358195452.py:88: ExperimentalWarning:\n",
      "\n",
      "upload_artifact is experimental (supported from v3.3.0). The interface can change in the future.\n",
      "\n",
      "[I 2024-07-03 02:46:27,483] Trial 134 finished with value: 0.38117240623677245 and parameters: {'lambda_l1': 0.001911625373101024, 'lambda_l2': 0.7282032276776574, 'num_leaves': 97, 'feature_fraction': 0.5632052993616454, 'bagging_fraction': 0.8626010645645841, 'bagging_freq': 2, 'min_child_samples': 20, 'min_split_gain': 0.015828895149000155, 'max_depth': 8}. Best is trial 134 with value: 0.38117240623677245.\n",
      "/tmp/ipykernel_2765521/1358195452.py:84: ExperimentalWarning:\n",
      "\n",
      "upload_artifact is experimental (supported from v3.3.0). The interface can change in the future.\n",
      "\n",
      "/tmp/ipykernel_2765521/1358195452.py:88: ExperimentalWarning:\n",
      "\n",
      "upload_artifact is experimental (supported from v3.3.0). The interface can change in the future.\n",
      "\n",
      "[I 2024-07-03 02:46:34,014] Trial 135 finished with value: 0.36847997004633104 and parameters: {'lambda_l1': 0.002120249002081696, 'lambda_l2': 0.0005287481156296542, 'num_leaves': 96, 'feature_fraction': 0.5228901559284623, 'bagging_fraction': 0.8484762042384123, 'bagging_freq': 2, 'min_child_samples': 20, 'min_split_gain': 0.00937019649996465, 'max_depth': 8}. Best is trial 134 with value: 0.38117240623677245.\n",
      "/tmp/ipykernel_2765521/1358195452.py:84: ExperimentalWarning:\n",
      "\n",
      "upload_artifact is experimental (supported from v3.3.0). The interface can change in the future.\n",
      "\n",
      "/tmp/ipykernel_2765521/1358195452.py:88: ExperimentalWarning:\n",
      "\n",
      "upload_artifact is experimental (supported from v3.3.0). The interface can change in the future.\n",
      "\n",
      "[I 2024-07-03 02:46:39,062] Trial 136 finished with value: 0.3712586940037996 and parameters: {'lambda_l1': 0.0235648196718852, 'lambda_l2': 0.6549880957540659, 'num_leaves': 94, 'feature_fraction': 0.5949809231266106, 'bagging_fraction': 0.6745824054130429, 'bagging_freq': 2, 'min_child_samples': 22, 'min_split_gain': 0.0856941165086637, 'max_depth': 8}. Best is trial 134 with value: 0.38117240623677245.\n",
      "/tmp/ipykernel_2765521/1358195452.py:84: ExperimentalWarning:\n",
      "\n",
      "upload_artifact is experimental (supported from v3.3.0). The interface can change in the future.\n",
      "\n",
      "/tmp/ipykernel_2765521/1358195452.py:88: ExperimentalWarning:\n",
      "\n",
      "upload_artifact is experimental (supported from v3.3.0). The interface can change in the future.\n",
      "\n",
      "[I 2024-07-03 02:46:44,344] Trial 137 finished with value: 0.36473882119530054 and parameters: {'lambda_l1': 0.0009338900437865668, 'lambda_l2': 0.7695285951635148, 'num_leaves': 97, 'feature_fraction': 0.564862253300565, 'bagging_fraction': 0.8328553932581176, 'bagging_freq': 2, 'min_child_samples': 29, 'min_split_gain': 0.024028774163092893, 'max_depth': 6}. Best is trial 134 with value: 0.38117240623677245.\n",
      "/tmp/ipykernel_2765521/1358195452.py:84: ExperimentalWarning:\n",
      "\n",
      "upload_artifact is experimental (supported from v3.3.0). The interface can change in the future.\n",
      "\n",
      "/tmp/ipykernel_2765521/1358195452.py:88: ExperimentalWarning:\n",
      "\n",
      "upload_artifact is experimental (supported from v3.3.0). The interface can change in the future.\n",
      "\n",
      "[I 2024-07-03 02:46:50,156] Trial 138 finished with value: 0.37484351399581844 and parameters: {'lambda_l1': 0.030098254352309273, 'lambda_l2': 1.338538751176182e-06, 'num_leaves': 71, 'feature_fraction': 0.5390753036519624, 'bagging_fraction': 0.8739369248470357, 'bagging_freq': 2, 'min_child_samples': 20, 'min_split_gain': 0.0640858795695371, 'max_depth': 13}. Best is trial 134 with value: 0.38117240623677245.\n",
      "/tmp/ipykernel_2765521/1358195452.py:84: ExperimentalWarning:\n",
      "\n",
      "upload_artifact is experimental (supported from v3.3.0). The interface can change in the future.\n",
      "\n",
      "/tmp/ipykernel_2765521/1358195452.py:88: ExperimentalWarning:\n",
      "\n",
      "upload_artifact is experimental (supported from v3.3.0). The interface can change in the future.\n",
      "\n",
      "[I 2024-07-03 02:46:56,307] Trial 139 finished with value: 0.366568223192835 and parameters: {'lambda_l1': 0.03807781952827998, 'lambda_l2': 4.073901133737468e-06, 'num_leaves': 72, 'feature_fraction': 0.5457119902472858, 'bagging_fraction': 0.871984841827718, 'bagging_freq': 6, 'min_child_samples': 20, 'min_split_gain': 0.06382819654787865, 'max_depth': 9}. Best is trial 134 with value: 0.38117240623677245.\n",
      "/tmp/ipykernel_2765521/1358195452.py:84: ExperimentalWarning:\n",
      "\n",
      "upload_artifact is experimental (supported from v3.3.0). The interface can change in the future.\n",
      "\n",
      "/tmp/ipykernel_2765521/1358195452.py:88: ExperimentalWarning:\n",
      "\n",
      "upload_artifact is experimental (supported from v3.3.0). The interface can change in the future.\n",
      "\n",
      "[I 2024-07-03 02:47:00,321] Trial 140 finished with value: 0.3639419697637824 and parameters: {'lambda_l1': 0.11485317953389886, 'lambda_l2': 3.541694776336627e-06, 'num_leaves': 92, 'feature_fraction': 0.5314751328179321, 'bagging_fraction': 0.8229854365093519, 'bagging_freq': 2, 'min_child_samples': 23, 'min_split_gain': 0.04266081656886514, 'max_depth': 7}. Best is trial 134 with value: 0.38117240623677245.\n",
      "/tmp/ipykernel_2765521/1358195452.py:84: ExperimentalWarning:\n",
      "\n",
      "upload_artifact is experimental (supported from v3.3.0). The interface can change in the future.\n",
      "\n",
      "/tmp/ipykernel_2765521/1358195452.py:88: ExperimentalWarning:\n",
      "\n",
      "upload_artifact is experimental (supported from v3.3.0). The interface can change in the future.\n",
      "\n",
      "[I 2024-07-03 02:47:07,541] Trial 141 finished with value: 0.36924417962147854 and parameters: {'lambda_l1': 0.030085537347742112, 'lambda_l2': 0.4934815981707863, 'num_leaves': 98, 'feature_fraction': 0.7064772946867847, 'bagging_fraction': 0.8815613953153858, 'bagging_freq': 2, 'min_child_samples': 22, 'min_split_gain': 0.02008744734324075, 'max_depth': 13}. Best is trial 134 with value: 0.38117240623677245.\n",
      "/tmp/ipykernel_2765521/1358195452.py:84: ExperimentalWarning:\n",
      "\n",
      "upload_artifact is experimental (supported from v3.3.0). The interface can change in the future.\n",
      "\n",
      "/tmp/ipykernel_2765521/1358195452.py:88: ExperimentalWarning:\n",
      "\n",
      "upload_artifact is experimental (supported from v3.3.0). The interface can change in the future.\n",
      "\n",
      "[I 2024-07-03 02:47:15,732] Trial 142 finished with value: 0.37790916639383865 and parameters: {'lambda_l1': 0.008289840959918911, 'lambda_l2': 1.0330523480754173e-06, 'num_leaves': 95, 'feature_fraction': 0.571315907380883, 'bagging_fraction': 0.8900335004681187, 'bagging_freq': 2, 'min_child_samples': 25, 'min_split_gain': 0.05489487965295928, 'max_depth': 14}. Best is trial 134 with value: 0.38117240623677245.\n",
      "/tmp/ipykernel_2765521/1358195452.py:84: ExperimentalWarning:\n",
      "\n",
      "upload_artifact is experimental (supported from v3.3.0). The interface can change in the future.\n",
      "\n",
      "/tmp/ipykernel_2765521/1358195452.py:88: ExperimentalWarning:\n",
      "\n",
      "upload_artifact is experimental (supported from v3.3.0). The interface can change in the future.\n",
      "\n",
      "[I 2024-07-03 02:47:21,553] Trial 143 finished with value: 0.37281596905627745 and parameters: {'lambda_l1': 0.006998342894027487, 'lambda_l2': 2.717306940922932e-06, 'num_leaves': 65, 'feature_fraction': 0.5641428758958409, 'bagging_fraction': 0.85936150363785, 'bagging_freq': 2, 'min_child_samples': 25, 'min_split_gain': 0.07072606995450316, 'max_depth': 14}. Best is trial 134 with value: 0.38117240623677245.\n",
      "/tmp/ipykernel_2765521/1358195452.py:84: ExperimentalWarning:\n",
      "\n",
      "upload_artifact is experimental (supported from v3.3.0). The interface can change in the future.\n",
      "\n",
      "/tmp/ipykernel_2765521/1358195452.py:88: ExperimentalWarning:\n",
      "\n",
      "upload_artifact is experimental (supported from v3.3.0). The interface can change in the future.\n",
      "\n",
      "[I 2024-07-03 02:47:27,952] Trial 144 finished with value: 0.3694895041680937 and parameters: {'lambda_l1': 0.020952735655290797, 'lambda_l2': 1.2548111115238355e-06, 'num_leaves': 91, 'feature_fraction': 0.5712549713795312, 'bagging_fraction': 0.8898897424144941, 'bagging_freq': 1, 'min_child_samples': 20, 'min_split_gain': 0.05888047751761109, 'max_depth': 15}. Best is trial 134 with value: 0.38117240623677245.\n",
      "/tmp/ipykernel_2765521/1358195452.py:84: ExperimentalWarning:\n",
      "\n",
      "upload_artifact is experimental (supported from v3.3.0). The interface can change in the future.\n",
      "\n",
      "/tmp/ipykernel_2765521/1358195452.py:88: ExperimentalWarning:\n",
      "\n",
      "upload_artifact is experimental (supported from v3.3.0). The interface can change in the future.\n",
      "\n",
      "[I 2024-07-03 02:47:34,091] Trial 145 finished with value: 0.36881094314233737 and parameters: {'lambda_l1': 0.011940884673895213, 'lambda_l2': 1.288920570903807e-06, 'num_leaves': 95, 'feature_fraction': 0.5529661793415247, 'bagging_fraction': 0.8998974112957855, 'bagging_freq': 2, 'min_child_samples': 28, 'min_split_gain': 0.05283608069054854, 'max_depth': 13}. Best is trial 134 with value: 0.38117240623677245.\n",
      "/tmp/ipykernel_2765521/1358195452.py:84: ExperimentalWarning:\n",
      "\n",
      "upload_artifact is experimental (supported from v3.3.0). The interface can change in the future.\n",
      "\n",
      "/tmp/ipykernel_2765521/1358195452.py:88: ExperimentalWarning:\n",
      "\n",
      "upload_artifact is experimental (supported from v3.3.0). The interface can change in the future.\n",
      "\n",
      "[I 2024-07-03 02:47:39,913] Trial 146 finished with value: 0.370398603513421 and parameters: {'lambda_l1': 0.0036753421335226108, 'lambda_l2': 2.5058856820339064e-05, 'num_leaves': 51, 'feature_fraction': 0.5813276188306321, 'bagging_fraction': 0.8737656900235404, 'bagging_freq': 2, 'min_child_samples': 26, 'min_split_gain': 0.24301995066661206, 'max_depth': 10}. Best is trial 134 with value: 0.38117240623677245.\n",
      "/tmp/ipykernel_2765521/1358195452.py:84: ExperimentalWarning:\n",
      "\n",
      "upload_artifact is experimental (supported from v3.3.0). The interface can change in the future.\n",
      "\n",
      "/tmp/ipykernel_2765521/1358195452.py:88: ExperimentalWarning:\n",
      "\n",
      "upload_artifact is experimental (supported from v3.3.0). The interface can change in the future.\n",
      "\n",
      "[I 2024-07-03 02:47:47,478] Trial 147 finished with value: 0.37239936977338906 and parameters: {'lambda_l1': 0.015538723994927119, 'lambda_l2': 1.959272657717225e-06, 'num_leaves': 94, 'feature_fraction': 0.4036032686908474, 'bagging_fraction': 0.850390532289622, 'bagging_freq': 2, 'min_child_samples': 24, 'min_split_gain': 0.03993863673656366, 'max_depth': 14}. Best is trial 134 with value: 0.38117240623677245.\n",
      "/tmp/ipykernel_2765521/1358195452.py:84: ExperimentalWarning:\n",
      "\n",
      "upload_artifact is experimental (supported from v3.3.0). The interface can change in the future.\n",
      "\n",
      "/tmp/ipykernel_2765521/1358195452.py:88: ExperimentalWarning:\n",
      "\n",
      "upload_artifact is experimental (supported from v3.3.0). The interface can change in the future.\n",
      "\n",
      "[I 2024-07-03 02:47:52,247] Trial 148 finished with value: 0.35984335368713927 and parameters: {'lambda_l1': 0.00828785909159935, 'lambda_l2': 1.5682686121377362e-06, 'num_leaves': 97, 'feature_fraction': 0.4234288050634699, 'bagging_fraction': 0.8641198709824759, 'bagging_freq': 2, 'min_child_samples': 21, 'min_split_gain': 0.20712266503354235, 'max_depth': 9}. Best is trial 134 with value: 0.38117240623677245.\n",
      "/tmp/ipykernel_2765521/1358195452.py:84: ExperimentalWarning:\n",
      "\n",
      "upload_artifact is experimental (supported from v3.3.0). The interface can change in the future.\n",
      "\n",
      "/tmp/ipykernel_2765521/1358195452.py:88: ExperimentalWarning:\n",
      "\n",
      "upload_artifact is experimental (supported from v3.3.0). The interface can change in the future.\n",
      "\n",
      "[I 2024-07-03 02:47:58,732] Trial 149 finished with value: 0.3756503234045553 and parameters: {'lambda_l1': 0.07220421855529903, 'lambda_l2': 4.777087954299535e-06, 'num_leaves': 93, 'feature_fraction': 0.5078105410101641, 'bagging_fraction': 0.8388402053578616, 'bagging_freq': 5, 'min_child_samples': 27, 'min_split_gain': 0.08684475336536712, 'max_depth': 12}. Best is trial 134 with value: 0.38117240623677245.\n",
      "/tmp/ipykernel_2765521/1358195452.py:84: ExperimentalWarning:\n",
      "\n",
      "upload_artifact is experimental (supported from v3.3.0). The interface can change in the future.\n",
      "\n",
      "/tmp/ipykernel_2765521/1358195452.py:88: ExperimentalWarning:\n",
      "\n",
      "upload_artifact is experimental (supported from v3.3.0). The interface can change in the future.\n",
      "\n",
      "[I 2024-07-03 02:48:04,401] Trial 150 finished with value: 0.3705589528519029 and parameters: {'lambda_l1': 0.08634919073375297, 'lambda_l2': 8.883780214747221e-06, 'num_leaves': 93, 'feature_fraction': 0.520838832868857, 'bagging_fraction': 0.8384002435047091, 'bagging_freq': 5, 'min_child_samples': 27, 'min_split_gain': 0.0010315006763492174, 'max_depth': 12}. Best is trial 134 with value: 0.38117240623677245.\n",
      "/tmp/ipykernel_2765521/1358195452.py:84: ExperimentalWarning:\n",
      "\n",
      "upload_artifact is experimental (supported from v3.3.0). The interface can change in the future.\n",
      "\n",
      "/tmp/ipykernel_2765521/1358195452.py:88: ExperimentalWarning:\n",
      "\n",
      "upload_artifact is experimental (supported from v3.3.0). The interface can change in the future.\n",
      "\n",
      "[I 2024-07-03 02:48:11,237] Trial 151 finished with value: 0.3699125950040637 and parameters: {'lambda_l1': 0.05896023242332912, 'lambda_l2': 1.9854294815956414e-06, 'num_leaves': 99, 'feature_fraction': 0.3629745150201304, 'bagging_fraction': 0.8821100046183717, 'bagging_freq': 5, 'min_child_samples': 23, 'min_split_gain': 0.0998858909559579, 'max_depth': 12}. Best is trial 134 with value: 0.38117240623677245.\n",
      "/tmp/ipykernel_2765521/1358195452.py:84: ExperimentalWarning:\n",
      "\n",
      "upload_artifact is experimental (supported from v3.3.0). The interface can change in the future.\n",
      "\n",
      "/tmp/ipykernel_2765521/1358195452.py:88: ExperimentalWarning:\n",
      "\n",
      "upload_artifact is experimental (supported from v3.3.0). The interface can change in the future.\n",
      "\n",
      "[I 2024-07-03 02:48:15,891] Trial 152 finished with value: 0.3666062509741327 and parameters: {'lambda_l1': 0.02938147198949056, 'lambda_l2': 2.587248832360788e-06, 'num_leaves': 62, 'feature_fraction': 0.5347865265093218, 'bagging_fraction': 0.8567263778087869, 'bagging_freq': 7, 'min_child_samples': 25, 'min_split_gain': 0.07121111862984292, 'max_depth': 13}. Best is trial 134 with value: 0.38117240623677245.\n",
      "/tmp/ipykernel_2765521/1358195452.py:84: ExperimentalWarning:\n",
      "\n",
      "upload_artifact is experimental (supported from v3.3.0). The interface can change in the future.\n",
      "\n",
      "/tmp/ipykernel_2765521/1358195452.py:88: ExperimentalWarning:\n",
      "\n",
      "upload_artifact is experimental (supported from v3.3.0). The interface can change in the future.\n",
      "\n",
      "[I 2024-07-03 02:48:21,688] Trial 153 finished with value: 0.3600569429756274 and parameters: {'lambda_l1': 0.03874842608651976, 'lambda_l2': 6.416455311203651e-06, 'num_leaves': 90, 'feature_fraction': 0.4829241466595133, 'bagging_fraction': 0.8443139868002029, 'bagging_freq': 5, 'min_child_samples': 31, 'min_split_gain': 0.08747465421873946, 'max_depth': 11}. Best is trial 134 with value: 0.38117240623677245.\n",
      "/tmp/ipykernel_2765521/1358195452.py:84: ExperimentalWarning:\n",
      "\n",
      "upload_artifact is experimental (supported from v3.3.0). The interface can change in the future.\n",
      "\n",
      "/tmp/ipykernel_2765521/1358195452.py:88: ExperimentalWarning:\n",
      "\n",
      "upload_artifact is experimental (supported from v3.3.0). The interface can change in the future.\n",
      "\n",
      "[I 2024-07-03 02:48:26,825] Trial 154 finished with value: 0.3722424850446393 and parameters: {'lambda_l1': 0.0016854432605831297, 'lambda_l2': 4.702263942897703e-06, 'num_leaves': 69, 'feature_fraction': 0.4917178666108273, 'bagging_fraction': 0.8716848986865606, 'bagging_freq': 5, 'min_child_samples': 22, 'min_split_gain': 0.03428127562750111, 'max_depth': 12}. Best is trial 134 with value: 0.38117240623677245.\n",
      "/tmp/ipykernel_2765521/1358195452.py:84: ExperimentalWarning:\n",
      "\n",
      "upload_artifact is experimental (supported from v3.3.0). The interface can change in the future.\n",
      "\n",
      "/tmp/ipykernel_2765521/1358195452.py:88: ExperimentalWarning:\n",
      "\n",
      "upload_artifact is experimental (supported from v3.3.0). The interface can change in the future.\n",
      "\n",
      "[I 2024-07-03 02:48:32,332] Trial 155 finished with value: 0.36469778937849784 and parameters: {'lambda_l1': 0.0005221782085246457, 'lambda_l2': 0.3454403550514825, 'num_leaves': 96, 'feature_fraction': 0.5062310089086756, 'bagging_fraction': 0.8881156363797624, 'bagging_freq': 4, 'min_child_samples': 52, 'min_split_gain': 0.10993831466587739, 'max_depth': 8}. Best is trial 134 with value: 0.38117240623677245.\n",
      "/tmp/ipykernel_2765521/1358195452.py:84: ExperimentalWarning:\n",
      "\n",
      "upload_artifact is experimental (supported from v3.3.0). The interface can change in the future.\n",
      "\n",
      "/tmp/ipykernel_2765521/1358195452.py:88: ExperimentalWarning:\n",
      "\n",
      "upload_artifact is experimental (supported from v3.3.0). The interface can change in the future.\n",
      "\n",
      "[I 2024-07-03 02:48:40,117] Trial 156 finished with value: 0.3708660327489308 and parameters: {'lambda_l1': 0.0718546518084251, 'lambda_l2': 2.1824841856433444e-06, 'num_leaves': 98, 'feature_fraction': 0.5417431464207025, 'bagging_fraction': 0.8154996990547622, 'bagging_freq': 3, 'min_child_samples': 20, 'min_split_gain': 0.22355281428735674, 'max_depth': 10}. Best is trial 134 with value: 0.38117240623677245.\n",
      "/tmp/ipykernel_2765521/1358195452.py:84: ExperimentalWarning:\n",
      "\n",
      "upload_artifact is experimental (supported from v3.3.0). The interface can change in the future.\n",
      "\n",
      "/tmp/ipykernel_2765521/1358195452.py:88: ExperimentalWarning:\n",
      "\n",
      "upload_artifact is experimental (supported from v3.3.0). The interface can change in the future.\n",
      "\n",
      "[I 2024-07-03 02:48:44,034] Trial 157 finished with value: 0.36227843557909234 and parameters: {'lambda_l1': 0.023232410643808668, 'lambda_l2': 1.5279710591607622e-06, 'num_leaves': 92, 'feature_fraction': 0.5934123690215521, 'bagging_fraction': 0.6283643901780045, 'bagging_freq': 4, 'min_child_samples': 26, 'min_split_gain': 0.050956893863683815, 'max_depth': 9}. Best is trial 134 with value: 0.38117240623677245.\n",
      "/tmp/ipykernel_2765521/1358195452.py:84: ExperimentalWarning:\n",
      "\n",
      "upload_artifact is experimental (supported from v3.3.0). The interface can change in the future.\n",
      "\n",
      "/tmp/ipykernel_2765521/1358195452.py:88: ExperimentalWarning:\n",
      "\n",
      "upload_artifact is experimental (supported from v3.3.0). The interface can change in the future.\n",
      "\n",
      "[I 2024-07-03 02:48:50,953] Trial 158 finished with value: 0.36821709979928424 and parameters: {'lambda_l1': 0.0052811037973361325, 'lambda_l2': 0.2512931895977194, 'num_leaves': 95, 'feature_fraction': 0.5623045273572231, 'bagging_fraction': 0.8648648879525527, 'bagging_freq': 5, 'min_child_samples': 23, 'min_split_gain': 0.09492676933904479, 'max_depth': 13}. Best is trial 134 with value: 0.38117240623677245.\n",
      "/tmp/ipykernel_2765521/1358195452.py:84: ExperimentalWarning:\n",
      "\n",
      "upload_artifact is experimental (supported from v3.3.0). The interface can change in the future.\n",
      "\n",
      "/tmp/ipykernel_2765521/1358195452.py:88: ExperimentalWarning:\n",
      "\n",
      "upload_artifact is experimental (supported from v3.3.0). The interface can change in the future.\n",
      "\n",
      "[I 2024-07-03 02:48:57,311] Trial 159 finished with value: 0.3651723189645486 and parameters: {'lambda_l1': 0.049912631820074695, 'lambda_l2': 1.4330431059676592e-05, 'num_leaves': 99, 'feature_fraction': 0.39712285678417153, 'bagging_fraction': 0.8326105775572904, 'bagging_freq': 4, 'min_child_samples': 28, 'min_split_gain': 0.23253816238839853, 'max_depth': 20}. Best is trial 134 with value: 0.38117240623677245.\n",
      "/tmp/ipykernel_2765521/1358195452.py:84: ExperimentalWarning:\n",
      "\n",
      "upload_artifact is experimental (supported from v3.3.0). The interface can change in the future.\n",
      "\n",
      "/tmp/ipykernel_2765521/1358195452.py:88: ExperimentalWarning:\n",
      "\n",
      "upload_artifact is experimental (supported from v3.3.0). The interface can change in the future.\n",
      "\n",
      "[I 2024-07-03 02:49:03,784] Trial 160 finished with value: 0.34684234611658893 and parameters: {'lambda_l1': 0.0009461922995168875, 'lambda_l2': 0.8031163605865455, 'num_leaves': 97, 'feature_fraction': 0.5149925541261706, 'bagging_fraction': 0.45032332483084, 'bagging_freq': 6, 'min_child_samples': 24, 'min_split_gain': 0.19893722237964695, 'max_depth': 16}. Best is trial 134 with value: 0.38117240623677245.\n",
      "/tmp/ipykernel_2765521/1358195452.py:84: ExperimentalWarning:\n",
      "\n",
      "upload_artifact is experimental (supported from v3.3.0). The interface can change in the future.\n",
      "\n",
      "/tmp/ipykernel_2765521/1358195452.py:88: ExperimentalWarning:\n",
      "\n",
      "upload_artifact is experimental (supported from v3.3.0). The interface can change in the future.\n",
      "\n",
      "[I 2024-07-03 02:49:11,811] Trial 161 finished with value: 0.37380823199575 and parameters: {'lambda_l1': 0.00019693377234462559, 'lambda_l2': 0.43203637351480556, 'num_leaves': 100, 'feature_fraction': 0.4660288194072312, 'bagging_fraction': 0.8784037179494498, 'bagging_freq': 2, 'min_child_samples': 22, 'min_split_gain': 0.13363816769312228, 'max_depth': 14}. Best is trial 134 with value: 0.38117240623677245.\n",
      "/tmp/ipykernel_2765521/1358195452.py:84: ExperimentalWarning:\n",
      "\n",
      "upload_artifact is experimental (supported from v3.3.0). The interface can change in the future.\n",
      "\n",
      "/tmp/ipykernel_2765521/1358195452.py:88: ExperimentalWarning:\n",
      "\n",
      "upload_artifact is experimental (supported from v3.3.0). The interface can change in the future.\n",
      "\n",
      "[I 2024-07-03 02:49:18,881] Trial 162 finished with value: 0.3694046047675068 and parameters: {'lambda_l1': 0.00018008519301803623, 'lambda_l2': 0.4822569072460619, 'num_leaves': 100, 'feature_fraction': 0.4751891981557178, 'bagging_fraction': 0.8535806214372829, 'bagging_freq': 2, 'min_child_samples': 22, 'min_split_gain': 0.1451638272948036, 'max_depth': 14}. Best is trial 134 with value: 0.38117240623677245.\n",
      "/tmp/ipykernel_2765521/1358195452.py:84: ExperimentalWarning:\n",
      "\n",
      "upload_artifact is experimental (supported from v3.3.0). The interface can change in the future.\n",
      "\n",
      "/tmp/ipykernel_2765521/1358195452.py:88: ExperimentalWarning:\n",
      "\n",
      "upload_artifact is experimental (supported from v3.3.0). The interface can change in the future.\n",
      "\n",
      "[I 2024-07-03 02:49:27,368] Trial 163 finished with value: 0.3744758908268171 and parameters: {'lambda_l1': 0.00042237799409659496, 'lambda_l2': 0.5802189795525903, 'num_leaves': 96, 'feature_fraction': 0.46155128674581103, 'bagging_fraction': 0.8766085743769914, 'bagging_freq': 2, 'min_child_samples': 21, 'min_split_gain': 0.10686822187707065, 'max_depth': 14}. Best is trial 134 with value: 0.38117240623677245.\n",
      "/tmp/ipykernel_2765521/1358195452.py:84: ExperimentalWarning:\n",
      "\n",
      "upload_artifact is experimental (supported from v3.3.0). The interface can change in the future.\n",
      "\n",
      "/tmp/ipykernel_2765521/1358195452.py:88: ExperimentalWarning:\n",
      "\n",
      "upload_artifact is experimental (supported from v3.3.0). The interface can change in the future.\n",
      "\n",
      "[I 2024-07-03 02:49:34,051] Trial 164 finished with value: 0.3617578044037948 and parameters: {'lambda_l1': 0.0002896075626631293, 'lambda_l2': 0.5778836407235259, 'num_leaves': 96, 'feature_fraction': 0.45480824326658614, 'bagging_fraction': 0.8756139267280204, 'bagging_freq': 2, 'min_child_samples': 97, 'min_split_gain': 0.10494102289974293, 'max_depth': 14}. Best is trial 134 with value: 0.38117240623677245.\n",
      "/tmp/ipykernel_2765521/1358195452.py:84: ExperimentalWarning:\n",
      "\n",
      "upload_artifact is experimental (supported from v3.3.0). The interface can change in the future.\n",
      "\n",
      "/tmp/ipykernel_2765521/1358195452.py:88: ExperimentalWarning:\n",
      "\n",
      "upload_artifact is experimental (supported from v3.3.0). The interface can change in the future.\n",
      "\n",
      "[I 2024-07-03 02:49:40,827] Trial 165 finished with value: 0.3710640213209474 and parameters: {'lambda_l1': 0.0007293346806526887, 'lambda_l2': 1.0306642180936288e-06, 'num_leaves': 98, 'feature_fraction': 0.4961062377159794, 'bagging_fraction': 0.8908157371496045, 'bagging_freq': 2, 'min_child_samples': 21, 'min_split_gain': 0.1319896792083513, 'max_depth': 14}. Best is trial 134 with value: 0.38117240623677245.\n",
      "/tmp/ipykernel_2765521/1358195452.py:84: ExperimentalWarning:\n",
      "\n",
      "upload_artifact is experimental (supported from v3.3.0). The interface can change in the future.\n",
      "\n",
      "/tmp/ipykernel_2765521/1358195452.py:88: ExperimentalWarning:\n",
      "\n",
      "upload_artifact is experimental (supported from v3.3.0). The interface can change in the future.\n",
      "\n",
      "[I 2024-07-03 02:49:47,889] Trial 166 finished with value: 0.37102075522088906 and parameters: {'lambda_l1': 0.00010077803095161312, 'lambda_l2': 0.6362233652838842, 'num_leaves': 100, 'feature_fraction': 0.4615016292314034, 'bagging_fraction': 0.8772212505699801, 'bagging_freq': 2, 'min_child_samples': 44, 'min_split_gain': 0.07330100911487511, 'max_depth': 13}. Best is trial 134 with value: 0.38117240623677245.\n",
      "/tmp/ipykernel_2765521/1358195452.py:84: ExperimentalWarning:\n",
      "\n",
      "upload_artifact is experimental (supported from v3.3.0). The interface can change in the future.\n",
      "\n",
      "/tmp/ipykernel_2765521/1358195452.py:88: ExperimentalWarning:\n",
      "\n",
      "upload_artifact is experimental (supported from v3.3.0). The interface can change in the future.\n",
      "\n",
      "[I 2024-07-03 02:49:53,208] Trial 167 finished with value: 0.35949961346006687 and parameters: {'lambda_l1': 0.010989824627511998, 'lambda_l2': 0.9995826485448343, 'num_leaves': 94, 'feature_fraction': 0.4443527243617501, 'bagging_fraction': 0.5622066293897731, 'bagging_freq': 2, 'min_child_samples': 25, 'min_split_gain': 0.08446261511841516, 'max_depth': 15}. Best is trial 134 with value: 0.38117240623677245.\n",
      "/tmp/ipykernel_2765521/1358195452.py:84: ExperimentalWarning:\n",
      "\n",
      "upload_artifact is experimental (supported from v3.3.0). The interface can change in the future.\n",
      "\n",
      "/tmp/ipykernel_2765521/1358195452.py:88: ExperimentalWarning:\n",
      "\n",
      "upload_artifact is experimental (supported from v3.3.0). The interface can change in the future.\n",
      "\n",
      "[I 2024-07-03 02:49:59,349] Trial 168 finished with value: 0.37403414848351346 and parameters: {'lambda_l1': 0.016906170081488498, 'lambda_l2': 0.3982722776185048, 'num_leaves': 98, 'feature_fraction': 0.4769182743629151, 'bagging_fraction': 0.8824461615034317, 'bagging_freq': 1, 'min_child_samples': 20, 'min_split_gain': 0.1151475641960961, 'max_depth': 13}. Best is trial 134 with value: 0.38117240623677245.\n",
      "/tmp/ipykernel_2765521/1358195452.py:84: ExperimentalWarning:\n",
      "\n",
      "upload_artifact is experimental (supported from v3.3.0). The interface can change in the future.\n",
      "\n",
      "/tmp/ipykernel_2765521/1358195452.py:88: ExperimentalWarning:\n",
      "\n",
      "upload_artifact is experimental (supported from v3.3.0). The interface can change in the future.\n",
      "\n",
      "[I 2024-07-03 02:50:06,519] Trial 169 finished with value: 0.3654876639313186 and parameters: {'lambda_l1': 0.027958778763049787, 'lambda_l2': 0.41066020278064364, 'num_leaves': 97, 'feature_fraction': 0.4666356927198656, 'bagging_fraction': 0.8998788819660761, 'bagging_freq': 2, 'min_child_samples': 24, 'min_split_gain': 0.12504043865161368, 'max_depth': 13}. Best is trial 134 with value: 0.38117240623677245.\n",
      "/tmp/ipykernel_2765521/1358195452.py:84: ExperimentalWarning:\n",
      "\n",
      "upload_artifact is experimental (supported from v3.3.0). The interface can change in the future.\n",
      "\n",
      "/tmp/ipykernel_2765521/1358195452.py:88: ExperimentalWarning:\n",
      "\n",
      "upload_artifact is experimental (supported from v3.3.0). The interface can change in the future.\n",
      "\n",
      "[I 2024-07-03 02:50:14,490] Trial 170 finished with value: 0.3679355775242222 and parameters: {'lambda_l1': 0.01890097051406929, 'lambda_l2': 0.775636244809278, 'num_leaves': 95, 'feature_fraction': 0.47865624038061355, 'bagging_fraction': 0.8827189633162639, 'bagging_freq': 1, 'min_child_samples': 27, 'min_split_gain': 0.11002786005666607, 'max_depth': 15}. Best is trial 134 with value: 0.38117240623677245.\n",
      "/tmp/ipykernel_2765521/1358195452.py:84: ExperimentalWarning:\n",
      "\n",
      "upload_artifact is experimental (supported from v3.3.0). The interface can change in the future.\n",
      "\n",
      "/tmp/ipykernel_2765521/1358195452.py:88: ExperimentalWarning:\n",
      "\n",
      "upload_artifact is experimental (supported from v3.3.0). The interface can change in the future.\n",
      "\n",
      "[I 2024-07-03 02:50:20,137] Trial 171 finished with value: 0.3667052987907395 and parameters: {'lambda_l1': 0.017645479212874706, 'lambda_l2': 0.31494081279020286, 'num_leaves': 99, 'feature_fraction': 0.4348723111003466, 'bagging_fraction': 0.8714825287333864, 'bagging_freq': 1, 'min_child_samples': 20, 'min_split_gain': 0.09155935041151815, 'max_depth': 12}. Best is trial 134 with value: 0.38117240623677245.\n",
      "/tmp/ipykernel_2765521/1358195452.py:84: ExperimentalWarning:\n",
      "\n",
      "upload_artifact is experimental (supported from v3.3.0). The interface can change in the future.\n",
      "\n",
      "/tmp/ipykernel_2765521/1358195452.py:88: ExperimentalWarning:\n",
      "\n",
      "upload_artifact is experimental (supported from v3.3.0). The interface can change in the future.\n",
      "\n",
      "[I 2024-07-03 02:50:28,519] Trial 172 finished with value: 0.3784097674067146 and parameters: {'lambda_l1': 0.0361927168031722, 'lambda_l2': 0.4472902865170666, 'num_leaves': 100, 'feature_fraction': 0.4671470552534994, 'bagging_fraction': 0.888430484768974, 'bagging_freq': 1, 'min_child_samples': 20, 'min_split_gain': 0.16246147233592242, 'max_depth': 13}. Best is trial 134 with value: 0.38117240623677245.\n",
      "/tmp/ipykernel_2765521/1358195452.py:84: ExperimentalWarning:\n",
      "\n",
      "upload_artifact is experimental (supported from v3.3.0). The interface can change in the future.\n",
      "\n",
      "/tmp/ipykernel_2765521/1358195452.py:88: ExperimentalWarning:\n",
      "\n",
      "upload_artifact is experimental (supported from v3.3.0). The interface can change in the future.\n",
      "\n",
      "[I 2024-07-03 02:50:35,006] Trial 173 finished with value: 0.3716663208607313 and parameters: {'lambda_l1': 0.035292344167710106, 'lambda_l2': 0.4674961683800457, 'num_leaves': 100, 'feature_fraction': 0.4880383146578178, 'bagging_fraction': 0.8887348859639475, 'bagging_freq': 1, 'min_child_samples': 22, 'min_split_gain': 0.1596171050929164, 'max_depth': 14}. Best is trial 134 with value: 0.38117240623677245.\n",
      "/tmp/ipykernel_2765521/1358195452.py:84: ExperimentalWarning:\n",
      "\n",
      "upload_artifact is experimental (supported from v3.3.0). The interface can change in the future.\n",
      "\n",
      "/tmp/ipykernel_2765521/1358195452.py:88: ExperimentalWarning:\n",
      "\n",
      "upload_artifact is experimental (supported from v3.3.0). The interface can change in the future.\n",
      "\n",
      "[I 2024-07-03 02:50:41,333] Trial 174 finished with value: 0.3765236492218274 and parameters: {'lambda_l1': 0.05435879255776036, 'lambda_l2': 0.2276915999119436, 'num_leaves': 97, 'feature_fraction': 0.47162949656596137, 'bagging_fraction': 0.8814320816507393, 'bagging_freq': 2, 'min_child_samples': 23, 'min_split_gain': 0.13699824228525365, 'max_depth': 13}. Best is trial 134 with value: 0.38117240623677245.\n",
      "/tmp/ipykernel_2765521/1358195452.py:84: ExperimentalWarning:\n",
      "\n",
      "upload_artifact is experimental (supported from v3.3.0). The interface can change in the future.\n",
      "\n",
      "/tmp/ipykernel_2765521/1358195452.py:88: ExperimentalWarning:\n",
      "\n",
      "upload_artifact is experimental (supported from v3.3.0). The interface can change in the future.\n",
      "\n",
      "[I 2024-07-03 02:50:47,614] Trial 175 finished with value: 0.37535256458076427 and parameters: {'lambda_l1': 0.05285427495122172, 'lambda_l2': 0.21599447927405535, 'num_leaves': 93, 'feature_fraction': 0.5046889980287167, 'bagging_fraction': 0.8915822055109281, 'bagging_freq': 1, 'min_child_samples': 24, 'min_split_gain': 0.1736141069770494, 'max_depth': 13}. Best is trial 134 with value: 0.38117240623677245.\n",
      "/tmp/ipykernel_2765521/1358195452.py:84: ExperimentalWarning:\n",
      "\n",
      "upload_artifact is experimental (supported from v3.3.0). The interface can change in the future.\n",
      "\n",
      "/tmp/ipykernel_2765521/1358195452.py:88: ExperimentalWarning:\n",
      "\n",
      "upload_artifact is experimental (supported from v3.3.0). The interface can change in the future.\n",
      "\n",
      "[I 2024-07-03 02:50:55,746] Trial 176 finished with value: 0.3745171579556053 and parameters: {'lambda_l1': 0.11013455473710676, 'lambda_l2': 0.19725766116060295, 'num_leaves': 93, 'feature_fraction': 0.503173370377302, 'bagging_fraction': 0.8996299783510657, 'bagging_freq': 1, 'min_child_samples': 29, 'min_split_gain': 0.16589626134380664, 'max_depth': 12}. Best is trial 134 with value: 0.38117240623677245.\n",
      "/tmp/ipykernel_2765521/1358195452.py:84: ExperimentalWarning:\n",
      "\n",
      "upload_artifact is experimental (supported from v3.3.0). The interface can change in the future.\n",
      "\n",
      "/tmp/ipykernel_2765521/1358195452.py:88: ExperimentalWarning:\n",
      "\n",
      "upload_artifact is experimental (supported from v3.3.0). The interface can change in the future.\n",
      "\n",
      "[I 2024-07-03 02:51:01,113] Trial 177 finished with value: 0.37009767906387486 and parameters: {'lambda_l1': 0.0966095136176302, 'lambda_l2': 0.22668980257860788, 'num_leaves': 39, 'feature_fraction': 0.5009908271745078, 'bagging_fraction': 0.8900546800791788, 'bagging_freq': 1, 'min_child_samples': 30, 'min_split_gain': 0.17304362952241792, 'max_depth': 13}. Best is trial 134 with value: 0.38117240623677245.\n",
      "/tmp/ipykernel_2765521/1358195452.py:84: ExperimentalWarning:\n",
      "\n",
      "upload_artifact is experimental (supported from v3.3.0). The interface can change in the future.\n",
      "\n",
      "/tmp/ipykernel_2765521/1358195452.py:88: ExperimentalWarning:\n",
      "\n",
      "upload_artifact is experimental (supported from v3.3.0). The interface can change in the future.\n",
      "\n",
      "[I 2024-07-03 02:51:07,332] Trial 178 finished with value: 0.3742310775417793 and parameters: {'lambda_l1': 0.17701847256091235, 'lambda_l2': 0.16985881210623827, 'num_leaves': 93, 'feature_fraction': 0.5071596492847894, 'bagging_fraction': 0.862387997081675, 'bagging_freq': 1, 'min_child_samples': 26, 'min_split_gain': 0.14948615812022395, 'max_depth': 12}. Best is trial 134 with value: 0.38117240623677245.\n",
      "/tmp/ipykernel_2765521/1358195452.py:84: ExperimentalWarning:\n",
      "\n",
      "upload_artifact is experimental (supported from v3.3.0). The interface can change in the future.\n",
      "\n",
      "/tmp/ipykernel_2765521/1358195452.py:88: ExperimentalWarning:\n",
      "\n",
      "upload_artifact is experimental (supported from v3.3.0). The interface can change in the future.\n",
      "\n",
      "[I 2024-07-03 02:51:13,919] Trial 179 finished with value: 0.36985975003117216 and parameters: {'lambda_l1': 0.07793741463945766, 'lambda_l2': 0.19402314214635882, 'num_leaves': 96, 'feature_fraction': 0.5243309814855495, 'bagging_fraction': 0.8694882282622695, 'bagging_freq': 1, 'min_child_samples': 29, 'min_split_gain': 0.16536310408327765, 'max_depth': 13}. Best is trial 134 with value: 0.38117240623677245.\n",
      "/tmp/ipykernel_2765521/1358195452.py:84: ExperimentalWarning:\n",
      "\n",
      "upload_artifact is experimental (supported from v3.3.0). The interface can change in the future.\n",
      "\n",
      "/tmp/ipykernel_2765521/1358195452.py:88: ExperimentalWarning:\n",
      "\n",
      "upload_artifact is experimental (supported from v3.3.0). The interface can change in the future.\n",
      "\n",
      "[I 2024-07-03 02:51:19,413] Trial 180 finished with value: 0.3719867254634768 and parameters: {'lambda_l1': 0.261307421575742, 'lambda_l2': 0.11593817990357777, 'num_leaves': 91, 'feature_fraction': 0.4898530006669918, 'bagging_fraction': 0.8921170577750183, 'bagging_freq': 1, 'min_child_samples': 24, 'min_split_gain': 0.1833638627282685, 'max_depth': 12}. Best is trial 134 with value: 0.38117240623677245.\n",
      "/tmp/ipykernel_2765521/1358195452.py:84: ExperimentalWarning:\n",
      "\n",
      "upload_artifact is experimental (supported from v3.3.0). The interface can change in the future.\n",
      "\n",
      "/tmp/ipykernel_2765521/1358195452.py:88: ExperimentalWarning:\n",
      "\n",
      "upload_artifact is experimental (supported from v3.3.0). The interface can change in the future.\n",
      "\n",
      "[I 2024-07-03 02:51:25,831] Trial 181 finished with value: 0.3778873540721528 and parameters: {'lambda_l1': 0.10906688775331183, 'lambda_l2': 0.150009865401714, 'num_leaves': 92, 'feature_fraction': 0.5123968717067066, 'bagging_fraction': 0.8643285321914779, 'bagging_freq': 1, 'min_child_samples': 27, 'min_split_gain': 0.1475769606638014, 'max_depth': 12}. Best is trial 134 with value: 0.38117240623677245.\n",
      "/tmp/ipykernel_2765521/1358195452.py:84: ExperimentalWarning:\n",
      "\n",
      "upload_artifact is experimental (supported from v3.3.0). The interface can change in the future.\n",
      "\n",
      "/tmp/ipykernel_2765521/1358195452.py:88: ExperimentalWarning:\n",
      "\n",
      "upload_artifact is experimental (supported from v3.3.0). The interface can change in the future.\n",
      "\n",
      "[I 2024-07-03 02:51:31,464] Trial 182 finished with value: 0.36802318134897805 and parameters: {'lambda_l1': 0.1281467015265559, 'lambda_l2': 0.2405483344302999, 'num_leaves': 88, 'feature_fraction': 0.5133322409574476, 'bagging_fraction': 0.8677991060651552, 'bagging_freq': 1, 'min_child_samples': 33, 'min_split_gain': 0.16292282379454892, 'max_depth': 12}. Best is trial 134 with value: 0.38117240623677245.\n",
      "/tmp/ipykernel_2765521/1358195452.py:84: ExperimentalWarning:\n",
      "\n",
      "upload_artifact is experimental (supported from v3.3.0). The interface can change in the future.\n",
      "\n",
      "/tmp/ipykernel_2765521/1358195452.py:88: ExperimentalWarning:\n",
      "\n",
      "upload_artifact is experimental (supported from v3.3.0). The interface can change in the future.\n",
      "\n",
      "[I 2024-07-03 02:51:36,973] Trial 183 finished with value: 0.37086247515641774 and parameters: {'lambda_l1': 0.05027689974906442, 'lambda_l2': 0.14203359932526494, 'num_leaves': 95, 'feature_fraction': 0.49791286629525244, 'bagging_fraction': 0.8481801243155546, 'bagging_freq': 1, 'min_child_samples': 28, 'min_split_gain': 0.14518373069112353, 'max_depth': 11}. Best is trial 134 with value: 0.38117240623677245.\n",
      "/tmp/ipykernel_2765521/1358195452.py:84: ExperimentalWarning:\n",
      "\n",
      "upload_artifact is experimental (supported from v3.3.0). The interface can change in the future.\n",
      "\n",
      "/tmp/ipykernel_2765521/1358195452.py:88: ExperimentalWarning:\n",
      "\n",
      "upload_artifact is experimental (supported from v3.3.0). The interface can change in the future.\n",
      "\n",
      "[I 2024-07-03 02:51:44,205] Trial 184 finished with value: 0.3743252144653057 and parameters: {'lambda_l1': 0.07341999344635994, 'lambda_l2': 0.63574609098358, 'num_leaves': 93, 'feature_fraction': 0.5250690351867561, 'bagging_fraction': 0.8815112716654004, 'bagging_freq': 1, 'min_child_samples': 23, 'min_split_gain': 0.17003722236275876, 'max_depth': 13}. Best is trial 134 with value: 0.38117240623677245.\n",
      "/tmp/ipykernel_2765521/1358195452.py:84: ExperimentalWarning:\n",
      "\n",
      "upload_artifact is experimental (supported from v3.3.0). The interface can change in the future.\n",
      "\n",
      "/tmp/ipykernel_2765521/1358195452.py:88: ExperimentalWarning:\n",
      "\n",
      "upload_artifact is experimental (supported from v3.3.0). The interface can change in the future.\n",
      "\n",
      "[I 2024-07-03 02:51:50,005] Trial 185 finished with value: 0.36985028591070673 and parameters: {'lambda_l1': 0.1062915353604454, 'lambda_l2': 0.09442004199524463, 'num_leaves': 97, 'feature_fraction': 0.5039799231505131, 'bagging_fraction': 0.8990713546223162, 'bagging_freq': 1, 'min_child_samples': 80, 'min_split_gain': 0.17675776317726266, 'max_depth': 12}. Best is trial 134 with value: 0.38117240623677245.\n",
      "/tmp/ipykernel_2765521/1358195452.py:84: ExperimentalWarning:\n",
      "\n",
      "upload_artifact is experimental (supported from v3.3.0). The interface can change in the future.\n",
      "\n",
      "/tmp/ipykernel_2765521/1358195452.py:88: ExperimentalWarning:\n",
      "\n",
      "upload_artifact is experimental (supported from v3.3.0). The interface can change in the future.\n",
      "\n",
      "[I 2024-07-03 02:51:55,549] Trial 186 finished with value: 0.361884116010908 and parameters: {'lambda_l1': 0.05691491591923738, 'lambda_l2': 1.0068668828767426e-06, 'num_leaves': 95, 'feature_fraction': 0.48395133775597027, 'bagging_fraction': 0.8586239126565827, 'bagging_freq': 1, 'min_child_samples': 62, 'min_split_gain': 0.15258984426678948, 'max_depth': 13}. Best is trial 134 with value: 0.38117240623677245.\n",
      "/tmp/ipykernel_2765521/1358195452.py:84: ExperimentalWarning:\n",
      "\n",
      "upload_artifact is experimental (supported from v3.3.0). The interface can change in the future.\n",
      "\n",
      "/tmp/ipykernel_2765521/1358195452.py:88: ExperimentalWarning:\n",
      "\n",
      "upload_artifact is experimental (supported from v3.3.0). The interface can change in the future.\n",
      "\n",
      "[I 2024-07-03 02:52:01,361] Trial 187 finished with value: 0.36574922652726893 and parameters: {'lambda_l1': 0.04848958425058377, 'lambda_l2': 0.19248191325702435, 'num_leaves': 92, 'feature_fraction': 0.4614090779264858, 'bagging_fraction': 0.8736049030326678, 'bagging_freq': 1, 'min_child_samples': 26, 'min_split_gain': 0.19157712611838457, 'max_depth': 13}. Best is trial 134 with value: 0.38117240623677245.\n",
      "/tmp/ipykernel_2765521/1358195452.py:84: ExperimentalWarning:\n",
      "\n",
      "upload_artifact is experimental (supported from v3.3.0). The interface can change in the future.\n",
      "\n",
      "/tmp/ipykernel_2765521/1358195452.py:88: ExperimentalWarning:\n",
      "\n",
      "upload_artifact is experimental (supported from v3.3.0). The interface can change in the future.\n",
      "\n",
      "[I 2024-07-03 02:52:07,028] Trial 188 finished with value: 0.37754315750971057 and parameters: {'lambda_l1': 0.033625701667224825, 'lambda_l2': 1.4638855534700868e-05, 'num_leaves': 97, 'feature_fraction': 0.5388431204063305, 'bagging_fraction': 0.8855699812219743, 'bagging_freq': 1, 'min_child_samples': 24, 'min_split_gain': 0.13794774215935263, 'max_depth': 14}. Best is trial 134 with value: 0.38117240623677245.\n",
      "/tmp/ipykernel_2765521/1358195452.py:84: ExperimentalWarning:\n",
      "\n",
      "upload_artifact is experimental (supported from v3.3.0). The interface can change in the future.\n",
      "\n",
      "/tmp/ipykernel_2765521/1358195452.py:88: ExperimentalWarning:\n",
      "\n",
      "upload_artifact is experimental (supported from v3.3.0). The interface can change in the future.\n",
      "\n",
      "[I 2024-07-03 02:52:13,298] Trial 189 finished with value: 0.3674134635427282 and parameters: {'lambda_l1': 0.0678197782933601, 'lambda_l2': 5.573750317847259e-06, 'num_leaves': 94, 'feature_fraction': 0.5407099110959607, 'bagging_fraction': 0.8862044393484073, 'bagging_freq': 1, 'min_child_samples': 29, 'min_split_gain': 0.1397965177978462, 'max_depth': 14}. Best is trial 134 with value: 0.38117240623677245.\n",
      "/tmp/ipykernel_2765521/1358195452.py:84: ExperimentalWarning:\n",
      "\n",
      "upload_artifact is experimental (supported from v3.3.0). The interface can change in the future.\n",
      "\n",
      "/tmp/ipykernel_2765521/1358195452.py:88: ExperimentalWarning:\n",
      "\n",
      "upload_artifact is experimental (supported from v3.3.0). The interface can change in the future.\n",
      "\n",
      "[I 2024-07-03 02:52:18,607] Trial 190 finished with value: 0.3760533951701321 and parameters: {'lambda_l1': 0.03693746154886133, 'lambda_l2': 1.2234119084672806e-05, 'num_leaves': 97, 'feature_fraction': 0.5328939814510806, 'bagging_fraction': 0.8920860440587272, 'bagging_freq': 1, 'min_child_samples': 27, 'min_split_gain': 0.1372017411053642, 'max_depth': 14}. Best is trial 134 with value: 0.38117240623677245.\n",
      "/tmp/ipykernel_2765521/1358195452.py:84: ExperimentalWarning:\n",
      "\n",
      "upload_artifact is experimental (supported from v3.3.0). The interface can change in the future.\n",
      "\n",
      "/tmp/ipykernel_2765521/1358195452.py:88: ExperimentalWarning:\n",
      "\n",
      "upload_artifact is experimental (supported from v3.3.0). The interface can change in the future.\n",
      "\n",
      "[I 2024-07-03 02:52:24,815] Trial 191 finished with value: 0.37432685891386785 and parameters: {'lambda_l1': 0.03891057384347465, 'lambda_l2': 1.7773681526066658e-05, 'num_leaves': 97, 'feature_fraction': 0.5554871454448004, 'bagging_fraction': 0.8996908794426252, 'bagging_freq': 1, 'min_child_samples': 27, 'min_split_gain': 0.13545518682221283, 'max_depth': 15}. Best is trial 134 with value: 0.38117240623677245.\n",
      "/tmp/ipykernel_2765521/1358195452.py:84: ExperimentalWarning:\n",
      "\n",
      "upload_artifact is experimental (supported from v3.3.0). The interface can change in the future.\n",
      "\n",
      "/tmp/ipykernel_2765521/1358195452.py:88: ExperimentalWarning:\n",
      "\n",
      "upload_artifact is experimental (supported from v3.3.0). The interface can change in the future.\n",
      "\n",
      "[I 2024-07-03 02:52:29,884] Trial 192 finished with value: 0.36081507985018774 and parameters: {'lambda_l1': 0.03019320260526224, 'lambda_l2': 1.0217783663485733e-05, 'num_leaves': 98, 'feature_fraction': 0.5279662618475144, 'bagging_fraction': 0.8892753182721508, 'bagging_freq': 1, 'min_child_samples': 31, 'min_split_gain': 0.1561770667020009, 'max_depth': 14}. Best is trial 134 with value: 0.38117240623677245.\n",
      "/tmp/ipykernel_2765521/1358195452.py:84: ExperimentalWarning:\n",
      "\n",
      "upload_artifact is experimental (supported from v3.3.0). The interface can change in the future.\n",
      "\n",
      "/tmp/ipykernel_2765521/1358195452.py:88: ExperimentalWarning:\n",
      "\n",
      "upload_artifact is experimental (supported from v3.3.0). The interface can change in the future.\n",
      "\n",
      "[I 2024-07-03 02:52:35,952] Trial 193 finished with value: 0.3679617372064919 and parameters: {'lambda_l1': 0.04404191179336074, 'lambda_l2': 2.6720620354449188e-05, 'num_leaves': 96, 'feature_fraction': 0.5144213998202951, 'bagging_fraction': 0.8757599016761525, 'bagging_freq': 1, 'min_child_samples': 25, 'min_split_gain': 0.12363999021671399, 'max_depth': 15}. Best is trial 134 with value: 0.38117240623677245.\n",
      "/tmp/ipykernel_2765521/1358195452.py:84: ExperimentalWarning:\n",
      "\n",
      "upload_artifact is experimental (supported from v3.3.0). The interface can change in the future.\n",
      "\n",
      "/tmp/ipykernel_2765521/1358195452.py:88: ExperimentalWarning:\n",
      "\n",
      "upload_artifact is experimental (supported from v3.3.0). The interface can change in the future.\n",
      "\n",
      "[I 2024-07-03 02:52:42,395] Trial 194 finished with value: 0.3672857392300898 and parameters: {'lambda_l1': 0.0254401893752647, 'lambda_l2': 9.470298290334662e-06, 'num_leaves': 77, 'feature_fraction': 0.5386048832079888, 'bagging_fraction': 0.8655620020143119, 'bagging_freq': 1, 'min_child_samples': 24, 'min_split_gain': 0.14524253795705783, 'max_depth': 14}. Best is trial 134 with value: 0.38117240623677245.\n",
      "/tmp/ipykernel_2765521/1358195452.py:84: ExperimentalWarning:\n",
      "\n",
      "upload_artifact is experimental (supported from v3.3.0). The interface can change in the future.\n",
      "\n",
      "/tmp/ipykernel_2765521/1358195452.py:88: ExperimentalWarning:\n",
      "\n",
      "upload_artifact is experimental (supported from v3.3.0). The interface can change in the future.\n",
      "\n",
      "[I 2024-07-03 02:52:47,183] Trial 195 finished with value: 0.3646884938001327 and parameters: {'lambda_l1': 0.0944880986621931, 'lambda_l2': 1.2623336431327024e-05, 'num_leaves': 92, 'feature_fraction': 0.5485465959284896, 'bagging_fraction': 0.8785493722216915, 'bagging_freq': 1, 'min_child_samples': 26, 'min_split_gain': 0.1343152458275259, 'max_depth': 12}. Best is trial 134 with value: 0.38117240623677245.\n",
      "/tmp/ipykernel_2765521/1358195452.py:84: ExperimentalWarning:\n",
      "\n",
      "upload_artifact is experimental (supported from v3.3.0). The interface can change in the future.\n",
      "\n",
      "/tmp/ipykernel_2765521/1358195452.py:88: ExperimentalWarning:\n",
      "\n",
      "upload_artifact is experimental (supported from v3.3.0). The interface can change in the future.\n",
      "\n",
      "[I 2024-07-03 02:52:52,639] Trial 196 finished with value: 0.3742893449297724 and parameters: {'lambda_l1': 0.15004092348364903, 'lambda_l2': 2.5739961957796018e-05, 'num_leaves': 94, 'feature_fraction': 0.5736183328665148, 'bagging_fraction': 0.8897108436985349, 'bagging_freq': 1, 'min_child_samples': 23, 'min_split_gain': 0.16174849953824427, 'max_depth': 11}. Best is trial 134 with value: 0.38117240623677245.\n",
      "/tmp/ipykernel_2765521/1358195452.py:84: ExperimentalWarning:\n",
      "\n",
      "upload_artifact is experimental (supported from v3.3.0). The interface can change in the future.\n",
      "\n",
      "/tmp/ipykernel_2765521/1358195452.py:88: ExperimentalWarning:\n",
      "\n",
      "upload_artifact is experimental (supported from v3.3.0). The interface can change in the future.\n",
      "\n",
      "[I 2024-07-03 02:52:57,598] Trial 197 finished with value: 0.36822163422814597 and parameters: {'lambda_l1': 0.05695904713865335, 'lambda_l2': 1.9417317733471878e-05, 'num_leaves': 98, 'feature_fraction': 0.530537620326406, 'bagging_fraction': 0.8490591530606679, 'bagging_freq': 1, 'min_child_samples': 28, 'min_split_gain': 0.12338027626845907, 'max_depth': 13}. Best is trial 134 with value: 0.38117240623677245.\n",
      "/tmp/ipykernel_2765521/1358195452.py:84: ExperimentalWarning:\n",
      "\n",
      "upload_artifact is experimental (supported from v3.3.0). The interface can change in the future.\n",
      "\n",
      "/tmp/ipykernel_2765521/1358195452.py:88: ExperimentalWarning:\n",
      "\n",
      "upload_artifact is experimental (supported from v3.3.0). The interface can change in the future.\n",
      "\n",
      "[I 2024-07-03 02:53:00,915] Trial 198 finished with value: 0.33648820848128186 and parameters: {'lambda_l1': 0.03395570285954004, 'lambda_l2': 0.005183110433768213, 'num_leaves': 90, 'feature_fraction': 0.4930041094139404, 'bagging_fraction': 0.8629851143872629, 'bagging_freq': 2, 'min_child_samples': 27, 'min_split_gain': 0.14699846089246543, 'max_depth': 2}. Best is trial 134 with value: 0.38117240623677245.\n",
      "/tmp/ipykernel_2765521/1358195452.py:84: ExperimentalWarning:\n",
      "\n",
      "upload_artifact is experimental (supported from v3.3.0). The interface can change in the future.\n",
      "\n",
      "/tmp/ipykernel_2765521/1358195452.py:88: ExperimentalWarning:\n",
      "\n",
      "upload_artifact is experimental (supported from v3.3.0). The interface can change in the future.\n",
      "\n",
      "[I 2024-07-03 02:53:08,947] Trial 199 finished with value: 0.37301232157723924 and parameters: {'lambda_l1': 0.2374536078870634, 'lambda_l2': 2.840774274729638e-06, 'num_leaves': 96, 'feature_fraction': 0.5196888096935635, 'bagging_fraction': 0.881301366085606, 'bagging_freq': 2, 'min_child_samples': 22, 'min_split_gain': 0.17242044578699922, 'max_depth': 15}. Best is trial 134 with value: 0.38117240623677245.\n",
      "/tmp/ipykernel_2765521/1358195452.py:84: ExperimentalWarning:\n",
      "\n",
      "upload_artifact is experimental (supported from v3.3.0). The interface can change in the future.\n",
      "\n",
      "/tmp/ipykernel_2765521/1358195452.py:88: ExperimentalWarning:\n",
      "\n",
      "upload_artifact is experimental (supported from v3.3.0). The interface can change in the future.\n",
      "\n",
      "[I 2024-07-03 02:53:15,616] Trial 200 finished with value: 0.36519544462558823 and parameters: {'lambda_l1': 0.06818098610124788, 'lambda_l2': 0.00022875652768995682, 'num_leaves': 99, 'feature_fraction': 0.5081846683862394, 'bagging_fraction': 0.8913932307503695, 'bagging_freq': 1, 'min_child_samples': 30, 'min_split_gain': 0.1548832395459233, 'max_depth': 12}. Best is trial 134 with value: 0.38117240623677245.\n",
      "/tmp/ipykernel_2765521/1358195452.py:84: ExperimentalWarning:\n",
      "\n",
      "upload_artifact is experimental (supported from v3.3.0). The interface can change in the future.\n",
      "\n",
      "/tmp/ipykernel_2765521/1358195452.py:88: ExperimentalWarning:\n",
      "\n",
      "upload_artifact is experimental (supported from v3.3.0). The interface can change in the future.\n",
      "\n",
      "[I 2024-07-03 02:53:22,727] Trial 201 finished with value: 0.3743390172533082 and parameters: {'lambda_l1': 0.022456456061035794, 'lambda_l2': 1.560079841083438e-06, 'num_leaves': 100, 'feature_fraction': 0.4720313627611491, 'bagging_fraction': 0.8679727565681382, 'bagging_freq': 2, 'min_child_samples': 21, 'min_split_gain': 0.11429872032753563, 'max_depth': 14}. Best is trial 134 with value: 0.38117240623677245.\n",
      "/tmp/ipykernel_2765521/1358195452.py:84: ExperimentalWarning:\n",
      "\n",
      "upload_artifact is experimental (supported from v3.3.0). The interface can change in the future.\n",
      "\n",
      "/tmp/ipykernel_2765521/1358195452.py:88: ExperimentalWarning:\n",
      "\n",
      "upload_artifact is experimental (supported from v3.3.0). The interface can change in the future.\n",
      "\n",
      "[I 2024-07-03 02:53:29,152] Trial 202 finished with value: 0.3659907587018164 and parameters: {'lambda_l1': 0.03833807584243282, 'lambda_l2': 0.7963827756771437, 'num_leaves': 97, 'feature_fraction': 0.5502050265315753, 'bagging_fraction': 0.8774081709963083, 'bagging_freq': 2, 'min_child_samples': 21, 'min_split_gain': 0.12763320030340877, 'max_depth': 13}. Best is trial 134 with value: 0.38117240623677245.\n",
      "/tmp/ipykernel_2765521/1358195452.py:84: ExperimentalWarning:\n",
      "\n",
      "upload_artifact is experimental (supported from v3.3.0). The interface can change in the future.\n",
      "\n",
      "/tmp/ipykernel_2765521/1358195452.py:88: ExperimentalWarning:\n",
      "\n",
      "upload_artifact is experimental (supported from v3.3.0). The interface can change in the future.\n",
      "\n",
      "[I 2024-07-03 02:53:35,195] Trial 203 finished with value: 0.36488914708568254 and parameters: {'lambda_l1': 0.02733108999757617, 'lambda_l2': 0.22481028924696111, 'num_leaves': 98, 'feature_fraction': 0.3847139726301294, 'bagging_fraction': 0.8568497851007275, 'bagging_freq': 1, 'min_child_samples': 24, 'min_split_gain': 0.1014575826414551, 'max_depth': 13}. Best is trial 134 with value: 0.38117240623677245.\n",
      "/tmp/ipykernel_2765521/1358195452.py:84: ExperimentalWarning:\n",
      "\n",
      "upload_artifact is experimental (supported from v3.3.0). The interface can change in the future.\n",
      "\n",
      "/tmp/ipykernel_2765521/1358195452.py:88: ExperimentalWarning:\n",
      "\n",
      "upload_artifact is experimental (supported from v3.3.0). The interface can change in the future.\n",
      "\n",
      "[I 2024-07-03 02:53:41,629] Trial 204 finished with value: 0.3641105742661235 and parameters: {'lambda_l1': 0.05018723010001263, 'lambda_l2': 4.71195726583869e-05, 'num_leaves': 100, 'feature_fraction': 0.559139418223739, 'bagging_fraction': 0.8408636997448146, 'bagging_freq': 5, 'min_child_samples': 23, 'min_split_gain': 0.14102351372381633, 'max_depth': 12}. Best is trial 134 with value: 0.38117240623677245.\n",
      "/tmp/ipykernel_2765521/1358195452.py:84: ExperimentalWarning:\n",
      "\n",
      "upload_artifact is experimental (supported from v3.3.0). The interface can change in the future.\n",
      "\n",
      "/tmp/ipykernel_2765521/1358195452.py:88: ExperimentalWarning:\n",
      "\n",
      "upload_artifact is experimental (supported from v3.3.0). The interface can change in the future.\n",
      "\n",
      "[I 2024-07-03 02:53:49,181] Trial 205 finished with value: 0.3749748202512926 and parameters: {'lambda_l1': 0.10667601240450808, 'lambda_l2': 0.5366894579845696, 'num_leaves': 95, 'feature_fraction': 0.5365051919982813, 'bagging_fraction': 0.8997009165597358, 'bagging_freq': 1, 'min_child_samples': 20, 'min_split_gain': 0.18753037275269294, 'max_depth': 14}. Best is trial 134 with value: 0.38117240623677245.\n",
      "/tmp/ipykernel_2765521/1358195452.py:84: ExperimentalWarning:\n",
      "\n",
      "upload_artifact is experimental (supported from v3.3.0). The interface can change in the future.\n",
      "\n",
      "/tmp/ipykernel_2765521/1358195452.py:88: ExperimentalWarning:\n",
      "\n",
      "upload_artifact is experimental (supported from v3.3.0). The interface can change in the future.\n",
      "\n",
      "[I 2024-07-03 02:53:55,396] Trial 206 finished with value: 0.3755805929171552 and parameters: {'lambda_l1': 0.0949169361171446, 'lambda_l2': 0.5860927681336326, 'num_leaves': 95, 'feature_fraction': 0.5367323877043645, 'bagging_fraction': 0.8999829741046935, 'bagging_freq': 1, 'min_child_samples': 25, 'min_split_gain': 0.18858559940204284, 'max_depth': 14}. Best is trial 134 with value: 0.38117240623677245.\n",
      "/tmp/ipykernel_2765521/1358195452.py:84: ExperimentalWarning:\n",
      "\n",
      "upload_artifact is experimental (supported from v3.3.0). The interface can change in the future.\n",
      "\n",
      "/tmp/ipykernel_2765521/1358195452.py:88: ExperimentalWarning:\n",
      "\n",
      "upload_artifact is experimental (supported from v3.3.0). The interface can change in the future.\n",
      "\n",
      "[I 2024-07-03 02:54:01,503] Trial 207 finished with value: 0.38015719153107125 and parameters: {'lambda_l1': 0.18930497983188557, 'lambda_l2': 0.5644196341660817, 'num_leaves': 94, 'feature_fraction': 0.5360227672722241, 'bagging_fraction': 0.8974315363140987, 'bagging_freq': 1, 'min_child_samples': 25, 'min_split_gain': 0.1859600067815071, 'max_depth': 16}. Best is trial 134 with value: 0.38117240623677245.\n",
      "/tmp/ipykernel_2765521/1358195452.py:84: ExperimentalWarning:\n",
      "\n",
      "upload_artifact is experimental (supported from v3.3.0). The interface can change in the future.\n",
      "\n",
      "/tmp/ipykernel_2765521/1358195452.py:88: ExperimentalWarning:\n",
      "\n",
      "upload_artifact is experimental (supported from v3.3.0). The interface can change in the future.\n",
      "\n",
      "[I 2024-07-03 02:54:08,112] Trial 208 finished with value: 0.3762991608676999 and parameters: {'lambda_l1': 0.36664973391783623, 'lambda_l2': 0.70648096700333, 'num_leaves': 94, 'feature_fraction': 0.5349126510890071, 'bagging_fraction': 0.8922012537811571, 'bagging_freq': 1, 'min_child_samples': 25, 'min_split_gain': 0.19194062529373576, 'max_depth': 16}. Best is trial 134 with value: 0.38117240623677245.\n",
      "/tmp/ipykernel_2765521/1358195452.py:84: ExperimentalWarning:\n",
      "\n",
      "upload_artifact is experimental (supported from v3.3.0). The interface can change in the future.\n",
      "\n",
      "/tmp/ipykernel_2765521/1358195452.py:88: ExperimentalWarning:\n",
      "\n",
      "upload_artifact is experimental (supported from v3.3.0). The interface can change in the future.\n",
      "\n",
      "[I 2024-07-03 02:54:15,229] Trial 209 finished with value: 0.37833304019372876 and parameters: {'lambda_l1': 0.5364081052575189, 'lambda_l2': 0.8964963415390073, 'num_leaves': 94, 'feature_fraction': 0.5395726122685587, 'bagging_fraction': 0.8920821552346045, 'bagging_freq': 1, 'min_child_samples': 24, 'min_split_gain': 0.18998918390923877, 'max_depth': 18}. Best is trial 134 with value: 0.38117240623677245.\n",
      "/tmp/ipykernel_2765521/1358195452.py:84: ExperimentalWarning:\n",
      "\n",
      "upload_artifact is experimental (supported from v3.3.0). The interface can change in the future.\n",
      "\n",
      "/tmp/ipykernel_2765521/1358195452.py:88: ExperimentalWarning:\n",
      "\n",
      "upload_artifact is experimental (supported from v3.3.0). The interface can change in the future.\n",
      "\n",
      "[I 2024-07-03 02:54:21,092] Trial 210 finished with value: 0.3732053425384585 and parameters: {'lambda_l1': 0.6826456742119256, 'lambda_l2': 0.910985053159595, 'num_leaves': 94, 'feature_fraction': 0.5372155195855337, 'bagging_fraction': 0.8906748919300193, 'bagging_freq': 1, 'min_child_samples': 25, 'min_split_gain': 0.19052685864280527, 'max_depth': 17}. Best is trial 134 with value: 0.38117240623677245.\n",
      "/tmp/ipykernel_2765521/1358195452.py:84: ExperimentalWarning:\n",
      "\n",
      "upload_artifact is experimental (supported from v3.3.0). The interface can change in the future.\n",
      "\n",
      "/tmp/ipykernel_2765521/1358195452.py:88: ExperimentalWarning:\n",
      "\n",
      "upload_artifact is experimental (supported from v3.3.0). The interface can change in the future.\n",
      "\n",
      "[I 2024-07-03 02:54:27,522] Trial 211 finished with value: 0.37859908860533453 and parameters: {'lambda_l1': 0.5309282831145885, 'lambda_l2': 0.9930251168511115, 'num_leaves': 91, 'feature_fraction': 0.5414237216779659, 'bagging_fraction': 0.8894736887554653, 'bagging_freq': 1, 'min_child_samples': 24, 'min_split_gain': 0.20249068495937145, 'max_depth': 18}. Best is trial 134 with value: 0.38117240623677245.\n",
      "/tmp/ipykernel_2765521/1358195452.py:84: ExperimentalWarning:\n",
      "\n",
      "upload_artifact is experimental (supported from v3.3.0). The interface can change in the future.\n",
      "\n",
      "/tmp/ipykernel_2765521/1358195452.py:88: ExperimentalWarning:\n",
      "\n",
      "upload_artifact is experimental (supported from v3.3.0). The interface can change in the future.\n",
      "\n",
      "[I 2024-07-03 02:54:33,394] Trial 212 finished with value: 0.37104231898464196 and parameters: {'lambda_l1': 0.46499166116486107, 'lambda_l2': 0.8318963400113286, 'num_leaves': 92, 'feature_fraction': 0.5292083650530442, 'bagging_fraction': 0.8995662306910741, 'bagging_freq': 1, 'min_child_samples': 25, 'min_split_gain': 0.2035380157956911, 'max_depth': 18}. Best is trial 134 with value: 0.38117240623677245.\n",
      "/tmp/ipykernel_2765521/1358195452.py:84: ExperimentalWarning:\n",
      "\n",
      "upload_artifact is experimental (supported from v3.3.0). The interface can change in the future.\n",
      "\n",
      "/tmp/ipykernel_2765521/1358195452.py:88: ExperimentalWarning:\n",
      "\n",
      "upload_artifact is experimental (supported from v3.3.0). The interface can change in the future.\n",
      "\n",
      "[I 2024-07-03 02:54:38,641] Trial 213 finished with value: 0.36822402169671925 and parameters: {'lambda_l1': 0.5748128969045178, 'lambda_l2': 0.6503495551444037, 'num_leaves': 90, 'feature_fraction': 0.5496590305698963, 'bagging_fraction': 0.887940664913065, 'bagging_freq': 1, 'min_child_samples': 26, 'min_split_gain': 0.21213186272338677, 'max_depth': 19}. Best is trial 134 with value: 0.38117240623677245.\n",
      "/tmp/ipykernel_2765521/1358195452.py:84: ExperimentalWarning:\n",
      "\n",
      "upload_artifact is experimental (supported from v3.3.0). The interface can change in the future.\n",
      "\n",
      "/tmp/ipykernel_2765521/1358195452.py:88: ExperimentalWarning:\n",
      "\n",
      "upload_artifact is experimental (supported from v3.3.0). The interface can change in the future.\n",
      "\n",
      "[I 2024-07-03 02:54:45,375] Trial 214 finished with value: 0.3788229204431435 and parameters: {'lambda_l1': 0.8581501139899328, 'lambda_l2': 0.9934078758362004, 'num_leaves': 95, 'feature_fraction': 0.5191933753692994, 'bagging_fraction': 0.8998624552616812, 'bagging_freq': 1, 'min_child_samples': 24, 'min_split_gain': 0.18391473140496273, 'max_depth': 18}. Best is trial 134 with value: 0.38117240623677245.\n",
      "/tmp/ipykernel_2765521/1358195452.py:84: ExperimentalWarning:\n",
      "\n",
      "upload_artifact is experimental (supported from v3.3.0). The interface can change in the future.\n",
      "\n",
      "/tmp/ipykernel_2765521/1358195452.py:88: ExperimentalWarning:\n",
      "\n",
      "upload_artifact is experimental (supported from v3.3.0). The interface can change in the future.\n",
      "\n",
      "[I 2024-07-03 02:54:52,213] Trial 215 finished with value: 0.37129466764134267 and parameters: {'lambda_l1': 0.8321918515853255, 'lambda_l2': 0.7649850484504643, 'num_leaves': 91, 'feature_fraction': 0.5210768442002787, 'bagging_fraction': 0.8864500095736767, 'bagging_freq': 1, 'min_child_samples': 24, 'min_split_gain': 0.18096023845351605, 'max_depth': 18}. Best is trial 134 with value: 0.38117240623677245.\n",
      "/tmp/ipykernel_2765521/1358195452.py:84: ExperimentalWarning:\n",
      "\n",
      "upload_artifact is experimental (supported from v3.3.0). The interface can change in the future.\n",
      "\n",
      "/tmp/ipykernel_2765521/1358195452.py:88: ExperimentalWarning:\n",
      "\n",
      "upload_artifact is experimental (supported from v3.3.0). The interface can change in the future.\n",
      "\n",
      "[I 2024-07-03 02:54:59,768] Trial 216 finished with value: 0.37193820335553984 and parameters: {'lambda_l1': 0.41527183851432703, 'lambda_l2': 0.757675589691864, 'num_leaves': 94, 'feature_fraction': 0.5466613017823119, 'bagging_fraction': 0.8910965064624037, 'bagging_freq': 1, 'min_child_samples': 27, 'min_split_gain': 0.20082672817293054, 'max_depth': 19}. Best is trial 134 with value: 0.38117240623677245.\n",
      "/tmp/ipykernel_2765521/1358195452.py:84: ExperimentalWarning:\n",
      "\n",
      "upload_artifact is experimental (supported from v3.3.0). The interface can change in the future.\n",
      "\n",
      "/tmp/ipykernel_2765521/1358195452.py:88: ExperimentalWarning:\n",
      "\n",
      "upload_artifact is experimental (supported from v3.3.0). The interface can change in the future.\n",
      "\n",
      "[I 2024-07-03 02:55:05,963] Trial 217 finished with value: 0.37718481601788767 and parameters: {'lambda_l1': 0.6020561390933806, 'lambda_l2': 0.5891281835956738, 'num_leaves': 93, 'feature_fraction': 0.5178216534456695, 'bagging_fraction': 0.883584415384146, 'bagging_freq': 1, 'min_child_samples': 23, 'min_split_gain': 0.19627495304535914, 'max_depth': 16}. Best is trial 134 with value: 0.38117240623677245.\n",
      "/tmp/ipykernel_2765521/1358195452.py:84: ExperimentalWarning:\n",
      "\n",
      "upload_artifact is experimental (supported from v3.3.0). The interface can change in the future.\n",
      "\n",
      "/tmp/ipykernel_2765521/1358195452.py:88: ExperimentalWarning:\n",
      "\n",
      "upload_artifact is experimental (supported from v3.3.0). The interface can change in the future.\n",
      "\n",
      "[I 2024-07-03 02:55:12,507] Trial 218 finished with value: 0.3689925278824207 and parameters: {'lambda_l1': 0.346341181224989, 'lambda_l2': 0.532390093861944, 'num_leaves': 93, 'feature_fraction': 0.5174977391442672, 'bagging_fraction': 0.8831742203939249, 'bagging_freq': 1, 'min_child_samples': 25, 'min_split_gain': 0.19305484964557923, 'max_depth': 16}. Best is trial 134 with value: 0.38117240623677245.\n",
      "/tmp/ipykernel_2765521/1358195452.py:84: ExperimentalWarning:\n",
      "\n",
      "upload_artifact is experimental (supported from v3.3.0). The interface can change in the future.\n",
      "\n",
      "/tmp/ipykernel_2765521/1358195452.py:88: ExperimentalWarning:\n",
      "\n",
      "upload_artifact is experimental (supported from v3.3.0). The interface can change in the future.\n",
      "\n",
      "[I 2024-07-03 02:55:20,697] Trial 219 finished with value: 0.3774963878630049 and parameters: {'lambda_l1': 0.5608955201403373, 'lambda_l2': 0.9279813814984466, 'num_leaves': 89, 'feature_fraction': 0.5287094486049995, 'bagging_fraction': 0.8922296333083527, 'bagging_freq': 1, 'min_child_samples': 23, 'min_split_gain': 0.18113029567636268, 'max_depth': 18}. Best is trial 134 with value: 0.38117240623677245.\n",
      "/tmp/ipykernel_2765521/1358195452.py:84: ExperimentalWarning:\n",
      "\n",
      "upload_artifact is experimental (supported from v3.3.0). The interface can change in the future.\n",
      "\n",
      "/tmp/ipykernel_2765521/1358195452.py:88: ExperimentalWarning:\n",
      "\n",
      "upload_artifact is experimental (supported from v3.3.0). The interface can change in the future.\n",
      "\n",
      "[I 2024-07-03 02:55:27,837] Trial 220 finished with value: 0.37378251199294693 and parameters: {'lambda_l1': 0.6209454598295117, 'lambda_l2': 0.9997028634342882, 'num_leaves': 89, 'feature_fraction': 0.5296315279488355, 'bagging_fraction': 0.8822082918194065, 'bagging_freq': 1, 'min_child_samples': 26, 'min_split_gain': 0.19788829949909487, 'max_depth': 18}. Best is trial 134 with value: 0.38117240623677245.\n",
      "/tmp/ipykernel_2765521/1358195452.py:84: ExperimentalWarning:\n",
      "\n",
      "upload_artifact is experimental (supported from v3.3.0). The interface can change in the future.\n",
      "\n",
      "/tmp/ipykernel_2765521/1358195452.py:88: ExperimentalWarning:\n",
      "\n",
      "upload_artifact is experimental (supported from v3.3.0). The interface can change in the future.\n",
      "\n",
      "[I 2024-07-03 02:55:34,393] Trial 221 finished with value: 0.37370285649462176 and parameters: {'lambda_l1': 0.9622858215324369, 'lambda_l2': 0.6578334171894452, 'num_leaves': 91, 'feature_fraction': 0.5136096251257461, 'bagging_fraction': 0.8922741750946772, 'bagging_freq': 1, 'min_child_samples': 23, 'min_split_gain': 0.18017336931162037, 'max_depth': 17}. Best is trial 134 with value: 0.38117240623677245.\n",
      "/tmp/ipykernel_2765521/1358195452.py:84: ExperimentalWarning:\n",
      "\n",
      "upload_artifact is experimental (supported from v3.3.0). The interface can change in the future.\n",
      "\n",
      "/tmp/ipykernel_2765521/1358195452.py:88: ExperimentalWarning:\n",
      "\n",
      "upload_artifact is experimental (supported from v3.3.0). The interface can change in the future.\n",
      "\n",
      "[I 2024-07-03 02:55:40,508] Trial 222 finished with value: 0.37443928083301553 and parameters: {'lambda_l1': 0.5007612531983087, 'lambda_l2': 6.54504715896216e-05, 'num_leaves': 92, 'feature_fraction': 0.5264084068028362, 'bagging_fraction': 0.8997320650480791, 'bagging_freq': 1, 'min_child_samples': 24, 'min_split_gain': 0.21367693180585173, 'max_depth': 17}. Best is trial 134 with value: 0.38117240623677245.\n",
      "/tmp/ipykernel_2765521/1358195452.py:84: ExperimentalWarning:\n",
      "\n",
      "upload_artifact is experimental (supported from v3.3.0). The interface can change in the future.\n",
      "\n",
      "/tmp/ipykernel_2765521/1358195452.py:88: ExperimentalWarning:\n",
      "\n",
      "upload_artifact is experimental (supported from v3.3.0). The interface can change in the future.\n",
      "\n",
      "[I 2024-07-03 02:55:46,734] Trial 223 finished with value: 0.3762885890189607 and parameters: {'lambda_l1': 0.3563040331612779, 'lambda_l2': 0.965640137916284, 'num_leaves': 95, 'feature_fraction': 0.5399938605149512, 'bagging_fraction': 0.8834595018647697, 'bagging_freq': 1, 'min_child_samples': 23, 'min_split_gain': 0.1823953363013333, 'max_depth': 18}. Best is trial 134 with value: 0.38117240623677245.\n",
      "/tmp/ipykernel_2765521/1358195452.py:84: ExperimentalWarning:\n",
      "\n",
      "upload_artifact is experimental (supported from v3.3.0). The interface can change in the future.\n",
      "\n",
      "/tmp/ipykernel_2765521/1358195452.py:88: ExperimentalWarning:\n",
      "\n",
      "upload_artifact is experimental (supported from v3.3.0). The interface can change in the future.\n",
      "\n",
      "[I 2024-07-03 02:55:53,476] Trial 224 finished with value: 0.3784730214542863 and parameters: {'lambda_l1': 0.30602123565174405, 'lambda_l2': 0.968959437676434, 'num_leaves': 95, 'feature_fraction': 0.5418031495147212, 'bagging_fraction': 0.8816795134188289, 'bagging_freq': 1, 'min_child_samples': 23, 'min_split_gain': 0.18861425754242714, 'max_depth': 18}. Best is trial 134 with value: 0.38117240623677245.\n",
      "/tmp/ipykernel_2765521/1358195452.py:84: ExperimentalWarning:\n",
      "\n",
      "upload_artifact is experimental (supported from v3.3.0). The interface can change in the future.\n",
      "\n",
      "/tmp/ipykernel_2765521/1358195452.py:88: ExperimentalWarning:\n",
      "\n",
      "upload_artifact is experimental (supported from v3.3.0). The interface can change in the future.\n",
      "\n",
      "[I 2024-07-03 02:55:59,291] Trial 225 finished with value: 0.37476851227996544 and parameters: {'lambda_l1': 0.2824844217142474, 'lambda_l2': 0.9659661576650302, 'num_leaves': 95, 'feature_fraction': 0.555702782909429, 'bagging_fraction': 0.878219994516935, 'bagging_freq': 1, 'min_child_samples': 22, 'min_split_gain': 0.2027650882883933, 'max_depth': 18}. Best is trial 134 with value: 0.38117240623677245.\n",
      "/tmp/ipykernel_2765521/1358195452.py:84: ExperimentalWarning:\n",
      "\n",
      "upload_artifact is experimental (supported from v3.3.0). The interface can change in the future.\n",
      "\n",
      "/tmp/ipykernel_2765521/1358195452.py:88: ExperimentalWarning:\n",
      "\n",
      "upload_artifact is experimental (supported from v3.3.0). The interface can change in the future.\n",
      "\n",
      "[I 2024-07-03 02:56:04,923] Trial 226 finished with value: 0.36199829076307377 and parameters: {'lambda_l1': 0.314538790656499, 'lambda_l2': 0.9861314871953394, 'num_leaves': 88, 'feature_fraction': 0.5459504026333719, 'bagging_fraction': 0.7543677583511036, 'bagging_freq': 1, 'min_child_samples': 23, 'min_split_gain': 0.18449415933206978, 'max_depth': 18}. Best is trial 134 with value: 0.38117240623677245.\n",
      "/tmp/ipykernel_2765521/1358195452.py:84: ExperimentalWarning:\n",
      "\n",
      "upload_artifact is experimental (supported from v3.3.0). The interface can change in the future.\n",
      "\n",
      "/tmp/ipykernel_2765521/1358195452.py:88: ExperimentalWarning:\n",
      "\n",
      "upload_artifact is experimental (supported from v3.3.0). The interface can change in the future.\n",
      "\n",
      "[I 2024-07-03 02:56:12,097] Trial 227 finished with value: 0.37349659821160974 and parameters: {'lambda_l1': 0.7575214692801336, 'lambda_l2': 0.7540363772790457, 'num_leaves': 96, 'feature_fraction': 0.5713411294913049, 'bagging_fraction': 0.8699570406461828, 'bagging_freq': 1, 'min_child_samples': 27, 'min_split_gain': 0.19576143479834326, 'max_depth': 19}. Best is trial 134 with value: 0.38117240623677245.\n",
      "/tmp/ipykernel_2765521/1358195452.py:84: ExperimentalWarning:\n",
      "\n",
      "upload_artifact is experimental (supported from v3.3.0). The interface can change in the future.\n",
      "\n",
      "/tmp/ipykernel_2765521/1358195452.py:88: ExperimentalWarning:\n",
      "\n",
      "upload_artifact is experimental (supported from v3.3.0). The interface can change in the future.\n",
      "\n",
      "[I 2024-07-03 02:56:18,127] Trial 228 finished with value: 0.37941255691903997 and parameters: {'lambda_l1': 0.4374013438110512, 'lambda_l2': 0.9668758735660467, 'num_leaves': 94, 'feature_fraction': 0.5430563930697749, 'bagging_fraction': 0.8844933023798065, 'bagging_freq': 1, 'min_child_samples': 23, 'min_split_gain': 0.21574064458523903, 'max_depth': 18}. Best is trial 134 with value: 0.38117240623677245.\n",
      "/tmp/ipykernel_2765521/1358195452.py:84: ExperimentalWarning:\n",
      "\n",
      "upload_artifact is experimental (supported from v3.3.0). The interface can change in the future.\n",
      "\n",
      "/tmp/ipykernel_2765521/1358195452.py:88: ExperimentalWarning:\n",
      "\n",
      "upload_artifact is experimental (supported from v3.3.0). The interface can change in the future.\n",
      "\n",
      "[I 2024-07-03 02:56:25,342] Trial 229 finished with value: 0.37803725327571597 and parameters: {'lambda_l1': 0.41602587611740144, 'lambda_l2': 0.9854891105362178, 'num_leaves': 95, 'feature_fraction': 0.5443298618050172, 'bagging_fraction': 0.8833907474640327, 'bagging_freq': 1, 'min_child_samples': 22, 'min_split_gain': 0.21773261670353256, 'max_depth': 18}. Best is trial 134 with value: 0.38117240623677245.\n",
      "/tmp/ipykernel_2765521/1358195452.py:84: ExperimentalWarning:\n",
      "\n",
      "upload_artifact is experimental (supported from v3.3.0). The interface can change in the future.\n",
      "\n",
      "/tmp/ipykernel_2765521/1358195452.py:88: ExperimentalWarning:\n",
      "\n",
      "upload_artifact is experimental (supported from v3.3.0). The interface can change in the future.\n",
      "\n",
      "[I 2024-07-03 02:56:31,964] Trial 230 finished with value: 0.37454599029401103 and parameters: {'lambda_l1': 0.5297223413286745, 'lambda_l2': 0.9590696331586149, 'num_leaves': 97, 'feature_fraction': 0.5419097637394794, 'bagging_fraction': 0.8825665759089638, 'bagging_freq': 1, 'min_child_samples': 23, 'min_split_gain': 0.213011194933336, 'max_depth': 17}. Best is trial 134 with value: 0.38117240623677245.\n",
      "/tmp/ipykernel_2765521/1358195452.py:84: ExperimentalWarning:\n",
      "\n",
      "upload_artifact is experimental (supported from v3.3.0). The interface can change in the future.\n",
      "\n",
      "/tmp/ipykernel_2765521/1358195452.py:88: ExperimentalWarning:\n",
      "\n",
      "upload_artifact is experimental (supported from v3.3.0). The interface can change in the future.\n",
      "\n",
      "[I 2024-07-03 02:56:36,422] Trial 231 finished with value: 0.36870935920246295 and parameters: {'lambda_l1': 0.3566746211370801, 'lambda_l2': 0.728731622071597, 'num_leaves': 94, 'feature_fraction': 0.5586613943140384, 'bagging_fraction': 0.883673208588139, 'bagging_freq': 1, 'min_child_samples': 22, 'min_split_gain': 0.21596732806125937, 'max_depth': 18}. Best is trial 134 with value: 0.38117240623677245.\n",
      "/tmp/ipykernel_2765521/1358195452.py:84: ExperimentalWarning:\n",
      "\n",
      "upload_artifact is experimental (supported from v3.3.0). The interface can change in the future.\n",
      "\n",
      "/tmp/ipykernel_2765521/1358195452.py:88: ExperimentalWarning:\n",
      "\n",
      "upload_artifact is experimental (supported from v3.3.0). The interface can change in the future.\n",
      "\n",
      "[I 2024-07-03 02:56:43,269] Trial 232 finished with value: 0.3716804621348241 and parameters: {'lambda_l1': 0.19358794763461337, 'lambda_l2': 0.9764530177139434, 'num_leaves': 96, 'feature_fraction': 0.5324966727153848, 'bagging_fraction': 0.8729509231825613, 'bagging_freq': 1, 'min_child_samples': 23, 'min_split_gain': 0.20672667775407727, 'max_depth': 19}. Best is trial 134 with value: 0.38117240623677245.\n",
      "/tmp/ipykernel_2765521/1358195452.py:84: ExperimentalWarning:\n",
      "\n",
      "upload_artifact is experimental (supported from v3.3.0). The interface can change in the future.\n",
      "\n",
      "/tmp/ipykernel_2765521/1358195452.py:88: ExperimentalWarning:\n",
      "\n",
      "upload_artifact is experimental (supported from v3.3.0). The interface can change in the future.\n",
      "\n",
      "[I 2024-07-03 02:56:51,010] Trial 233 finished with value: 0.37379890848944025 and parameters: {'lambda_l1': 0.537891822889622, 'lambda_l2': 0.6603506814146434, 'num_leaves': 91, 'feature_fraction': 0.5448162331610651, 'bagging_fraction': 0.8875170906461264, 'bagging_freq': 1, 'min_child_samples': 22, 'min_split_gain': 0.22443629487990346, 'max_depth': 18}. Best is trial 134 with value: 0.38117240623677245.\n",
      "/tmp/ipykernel_2765521/1358195452.py:84: ExperimentalWarning:\n",
      "\n",
      "upload_artifact is experimental (supported from v3.3.0). The interface can change in the future.\n",
      "\n",
      "/tmp/ipykernel_2765521/1358195452.py:88: ExperimentalWarning:\n",
      "\n",
      "upload_artifact is experimental (supported from v3.3.0). The interface can change in the future.\n",
      "\n",
      "[I 2024-07-03 02:56:57,431] Trial 234 finished with value: 0.3705859015907763 and parameters: {'lambda_l1': 0.3896140949797717, 'lambda_l2': 0.9889517035496586, 'num_leaves': 94, 'feature_fraction': 0.5673766419645757, 'bagging_fraction': 0.8813685694616494, 'bagging_freq': 1, 'min_child_samples': 25, 'min_split_gain': 0.1965169331888777, 'max_depth': 16}. Best is trial 134 with value: 0.38117240623677245.\n",
      "/tmp/ipykernel_2765521/1358195452.py:84: ExperimentalWarning:\n",
      "\n",
      "upload_artifact is experimental (supported from v3.3.0). The interface can change in the future.\n",
      "\n",
      "/tmp/ipykernel_2765521/1358195452.py:88: ExperimentalWarning:\n",
      "\n",
      "upload_artifact is experimental (supported from v3.3.0). The interface can change in the future.\n",
      "\n",
      "[I 2024-07-03 02:57:04,096] Trial 235 finished with value: 0.380056574432724 and parameters: {'lambda_l1': 0.6663730802015385, 'lambda_l2': 0.517804268008058, 'num_leaves': 95, 'feature_fraction': 0.5242215454793027, 'bagging_fraction': 0.8687419613236715, 'bagging_freq': 1, 'min_child_samples': 24, 'min_split_gain': 0.18317567954478198, 'max_depth': 17}. Best is trial 134 with value: 0.38117240623677245.\n",
      "/tmp/ipykernel_2765521/1358195452.py:84: ExperimentalWarning:\n",
      "\n",
      "upload_artifact is experimental (supported from v3.3.0). The interface can change in the future.\n",
      "\n",
      "/tmp/ipykernel_2765521/1358195452.py:88: ExperimentalWarning:\n",
      "\n",
      "upload_artifact is experimental (supported from v3.3.0). The interface can change in the future.\n",
      "\n",
      "[I 2024-07-03 02:57:10,300] Trial 236 finished with value: 0.3626692137329145 and parameters: {'lambda_l1': 0.6675995599655095, 'lambda_l2': 0.480043983182434, 'num_leaves': 97, 'feature_fraction': 0.5200988637948075, 'bagging_fraction': 0.8914143448550446, 'bagging_freq': 1, 'min_child_samples': 87, 'min_split_gain': 0.18096382070636463, 'max_depth': 19}. Best is trial 134 with value: 0.38117240623677245.\n",
      "/tmp/ipykernel_2765521/1358195452.py:84: ExperimentalWarning:\n",
      "\n",
      "upload_artifact is experimental (supported from v3.3.0). The interface can change in the future.\n",
      "\n",
      "/tmp/ipykernel_2765521/1358195452.py:88: ExperimentalWarning:\n",
      "\n",
      "upload_artifact is experimental (supported from v3.3.0). The interface can change in the future.\n",
      "\n",
      "[I 2024-07-03 02:57:17,085] Trial 237 finished with value: 0.3684486085207519 and parameters: {'lambda_l1': 0.9900793199423225, 'lambda_l2': 0.62396222852318, 'num_leaves': 95, 'feature_fraction': 0.5291859788170772, 'bagging_fraction': 0.8682469967758008, 'bagging_freq': 1, 'min_child_samples': 24, 'min_split_gain': 0.20637459836673527, 'max_depth': 17}. Best is trial 134 with value: 0.38117240623677245.\n",
      "/tmp/ipykernel_2765521/1358195452.py:84: ExperimentalWarning:\n",
      "\n",
      "upload_artifact is experimental (supported from v3.3.0). The interface can change in the future.\n",
      "\n",
      "/tmp/ipykernel_2765521/1358195452.py:88: ExperimentalWarning:\n",
      "\n",
      "upload_artifact is experimental (supported from v3.3.0). The interface can change in the future.\n",
      "\n",
      "[I 2024-07-03 02:57:22,230] Trial 238 finished with value: 0.3685263734270442 and parameters: {'lambda_l1': 0.440666193541031, 'lambda_l2': 0.7336434296692584, 'num_leaves': 98, 'feature_fraction': 0.5361556425084055, 'bagging_fraction': 0.8746346589215184, 'bagging_freq': 1, 'min_child_samples': 26, 'min_split_gain': 0.173569214189046, 'max_depth': 18}. Best is trial 134 with value: 0.38117240623677245.\n",
      "/tmp/ipykernel_2765521/1358195452.py:84: ExperimentalWarning:\n",
      "\n",
      "upload_artifact is experimental (supported from v3.3.0). The interface can change in the future.\n",
      "\n",
      "/tmp/ipykernel_2765521/1358195452.py:88: ExperimentalWarning:\n",
      "\n",
      "upload_artifact is experimental (supported from v3.3.0). The interface can change in the future.\n",
      "\n",
      "[I 2024-07-03 02:57:29,096] Trial 239 finished with value: 0.38044744383809376 and parameters: {'lambda_l1': 0.2590307257055909, 'lambda_l2': 0.5414094112531674, 'num_leaves': 96, 'feature_fraction': 0.554604679720012, 'bagging_fraction': 0.8900221136694574, 'bagging_freq': 1, 'min_child_samples': 24, 'min_split_gain': 0.18900390959966443, 'max_depth': 18}. Best is trial 134 with value: 0.38117240623677245.\n",
      "/tmp/ipykernel_2765521/1358195452.py:84: ExperimentalWarning:\n",
      "\n",
      "upload_artifact is experimental (supported from v3.3.0). The interface can change in the future.\n",
      "\n",
      "/tmp/ipykernel_2765521/1358195452.py:88: ExperimentalWarning:\n",
      "\n",
      "upload_artifact is experimental (supported from v3.3.0). The interface can change in the future.\n",
      "\n",
      "[I 2024-07-03 02:57:33,896] Trial 240 finished with value: 0.3709060408442347 and parameters: {'lambda_l1': 0.21095630313646982, 'lambda_l2': 0.48821517778748863, 'num_leaves': 95, 'feature_fraction': 0.5518985275123106, 'bagging_fraction': 0.8803213195294455, 'bagging_freq': 1, 'min_child_samples': 22, 'min_split_gain': 0.1884384316481275, 'max_depth': 16}. Best is trial 134 with value: 0.38117240623677245.\n",
      "/tmp/ipykernel_2765521/1358195452.py:84: ExperimentalWarning:\n",
      "\n",
      "upload_artifact is experimental (supported from v3.3.0). The interface can change in the future.\n",
      "\n",
      "/tmp/ipykernel_2765521/1358195452.py:88: ExperimentalWarning:\n",
      "\n",
      "upload_artifact is experimental (supported from v3.3.0). The interface can change in the future.\n",
      "\n",
      "[I 2024-07-03 02:57:39,110] Trial 241 finished with value: 0.3729219828130489 and parameters: {'lambda_l1': 0.29222600542118604, 'lambda_l2': 0.755271552647176, 'num_leaves': 96, 'feature_fraction': 0.544020828710319, 'bagging_fraction': 0.8914678929552171, 'bagging_freq': 1, 'min_child_samples': 24, 'min_split_gain': 0.19870278127059027, 'max_depth': 17}. Best is trial 134 with value: 0.38117240623677245.\n",
      "/tmp/ipykernel_2765521/1358195452.py:84: ExperimentalWarning:\n",
      "\n",
      "upload_artifact is experimental (supported from v3.3.0). The interface can change in the future.\n",
      "\n",
      "/tmp/ipykernel_2765521/1358195452.py:88: ExperimentalWarning:\n",
      "\n",
      "upload_artifact is experimental (supported from v3.3.0). The interface can change in the future.\n",
      "\n",
      "[I 2024-07-03 02:57:44,615] Trial 242 finished with value: 0.3725071251965961 and parameters: {'lambda_l1': 0.6795870427420048, 'lambda_l2': 0.9948026227876061, 'num_leaves': 93, 'feature_fraction': 0.5617444104835267, 'bagging_fraction': 0.8904115411061182, 'bagging_freq': 1, 'min_child_samples': 25, 'min_split_gain': 0.22040257977631708, 'max_depth': 18}. Best is trial 134 with value: 0.38117240623677245.\n",
      "/tmp/ipykernel_2765521/1358195452.py:84: ExperimentalWarning:\n",
      "\n",
      "upload_artifact is experimental (supported from v3.3.0). The interface can change in the future.\n",
      "\n",
      "/tmp/ipykernel_2765521/1358195452.py:88: ExperimentalWarning:\n",
      "\n",
      "upload_artifact is experimental (supported from v3.3.0). The interface can change in the future.\n",
      "\n",
      "[I 2024-07-03 02:57:51,115] Trial 243 finished with value: 0.3735167314910913 and parameters: {'lambda_l1': 0.4238323007334998, 'lambda_l2': 0.5395053094803544, 'num_leaves': 98, 'feature_fraction': 0.5279298578648248, 'bagging_fraction': 0.8816663084774362, 'bagging_freq': 1, 'min_child_samples': 23, 'min_split_gain': 0.1803963555008135, 'max_depth': 18}. Best is trial 134 with value: 0.38117240623677245.\n",
      "/tmp/ipykernel_2765521/1358195452.py:84: ExperimentalWarning:\n",
      "\n",
      "upload_artifact is experimental (supported from v3.3.0). The interface can change in the future.\n",
      "\n",
      "/tmp/ipykernel_2765521/1358195452.py:88: ExperimentalWarning:\n",
      "\n",
      "upload_artifact is experimental (supported from v3.3.0). The interface can change in the future.\n",
      "\n",
      "[I 2024-07-03 02:57:57,684] Trial 244 finished with value: 0.3655249949293238 and parameters: {'lambda_l1': 0.2934311884031108, 'lambda_l2': 0.7416977332418137, 'num_leaves': 94, 'feature_fraction': 0.5872988361425896, 'bagging_fraction': 0.870107375429972, 'bagging_freq': 1, 'min_child_samples': 26, 'min_split_gain': 0.191226825048529, 'max_depth': 19}. Best is trial 134 with value: 0.38117240623677245.\n",
      "/tmp/ipykernel_2765521/1358195452.py:84: ExperimentalWarning:\n",
      "\n",
      "upload_artifact is experimental (supported from v3.3.0). The interface can change in the future.\n",
      "\n",
      "/tmp/ipykernel_2765521/1358195452.py:88: ExperimentalWarning:\n",
      "\n",
      "upload_artifact is experimental (supported from v3.3.0). The interface can change in the future.\n",
      "\n",
      "[I 2024-07-03 02:58:04,266] Trial 245 finished with value: 0.38220348178680996 and parameters: {'lambda_l1': 0.46004145421861387, 'lambda_l2': 0.38729342353913987, 'num_leaves': 96, 'feature_fraction': 0.555001174180354, 'bagging_fraction': 0.8912656188734494, 'bagging_freq': 1, 'min_child_samples': 21, 'min_split_gain': 0.20770125584766091, 'max_depth': 17}. Best is trial 245 with value: 0.38220348178680996.\n",
      "/tmp/ipykernel_2765521/1358195452.py:84: ExperimentalWarning:\n",
      "\n",
      "upload_artifact is experimental (supported from v3.3.0). The interface can change in the future.\n",
      "\n",
      "/tmp/ipykernel_2765521/1358195452.py:88: ExperimentalWarning:\n",
      "\n",
      "upload_artifact is experimental (supported from v3.3.0). The interface can change in the future.\n",
      "\n",
      "[I 2024-07-03 02:58:11,037] Trial 246 finished with value: 0.3776965074359986 and parameters: {'lambda_l1': 0.48341960857546207, 'lambda_l2': 0.3959104369004679, 'num_leaves': 92, 'feature_fraction': 0.5527449026897222, 'bagging_fraction': 0.8821686786220814, 'bagging_freq': 1, 'min_child_samples': 21, 'min_split_gain': 0.20798641810468274, 'max_depth': 17}. Best is trial 245 with value: 0.38220348178680996.\n",
      "/tmp/ipykernel_2765521/1358195452.py:84: ExperimentalWarning:\n",
      "\n",
      "upload_artifact is experimental (supported from v3.3.0). The interface can change in the future.\n",
      "\n",
      "/tmp/ipykernel_2765521/1358195452.py:88: ExperimentalWarning:\n",
      "\n",
      "upload_artifact is experimental (supported from v3.3.0). The interface can change in the future.\n",
      "\n",
      "[I 2024-07-03 02:58:16,872] Trial 247 finished with value: 0.3710959570722938 and parameters: {'lambda_l1': 0.5559506900170832, 'lambda_l2': 0.35486691735112, 'num_leaves': 92, 'feature_fraction': 0.5771086606239427, 'bagging_fraction': 0.8659176197441913, 'bagging_freq': 1, 'min_child_samples': 21, 'min_split_gain': 0.20846463985424052, 'max_depth': 17}. Best is trial 245 with value: 0.38220348178680996.\n",
      "/tmp/ipykernel_2765521/1358195452.py:84: ExperimentalWarning:\n",
      "\n",
      "upload_artifact is experimental (supported from v3.3.0). The interface can change in the future.\n",
      "\n",
      "/tmp/ipykernel_2765521/1358195452.py:88: ExperimentalWarning:\n",
      "\n",
      "upload_artifact is experimental (supported from v3.3.0). The interface can change in the future.\n",
      "\n",
      "[I 2024-07-03 02:58:23,565] Trial 248 finished with value: 0.3761220055932667 and parameters: {'lambda_l1': 0.7979304397143638, 'lambda_l2': 0.4170929839120446, 'num_leaves': 90, 'feature_fraction': 0.5629973469427108, 'bagging_fraction': 0.875288616528192, 'bagging_freq': 1, 'min_child_samples': 21, 'min_split_gain': 0.2207973044339933, 'max_depth': 17}. Best is trial 245 with value: 0.38220348178680996.\n",
      "/tmp/ipykernel_2765521/1358195452.py:84: ExperimentalWarning:\n",
      "\n",
      "upload_artifact is experimental (supported from v3.3.0). The interface can change in the future.\n",
      "\n",
      "/tmp/ipykernel_2765521/1358195452.py:88: ExperimentalWarning:\n",
      "\n",
      "upload_artifact is experimental (supported from v3.3.0). The interface can change in the future.\n",
      "\n",
      "[I 2024-07-03 02:58:28,621] Trial 249 finished with value: 0.3731759745601364 and parameters: {'lambda_l1': 0.44870778557844393, 'lambda_l2': 0.48921222265554554, 'num_leaves': 92, 'feature_fraction': 0.555694303121665, 'bagging_fraction': 0.8932846603114664, 'bagging_freq': 1, 'min_child_samples': 21, 'min_split_gain': 0.20395909376890692, 'max_depth': 16}. Best is trial 245 with value: 0.38220348178680996.\n",
      "/tmp/ipykernel_2765521/1358195452.py:84: ExperimentalWarning:\n",
      "\n",
      "upload_artifact is experimental (supported from v3.3.0). The interface can change in the future.\n",
      "\n",
      "/tmp/ipykernel_2765521/1358195452.py:88: ExperimentalWarning:\n",
      "\n",
      "upload_artifact is experimental (supported from v3.3.0). The interface can change in the future.\n",
      "\n",
      "[I 2024-07-03 02:58:34,709] Trial 250 finished with value: 0.3811135136988665 and parameters: {'lambda_l1': 0.2516641880780125, 'lambda_l2': 0.39135463251772257, 'num_leaves': 96, 'feature_fraction': 0.5508781695671633, 'bagging_fraction': 0.8835057470168437, 'bagging_freq': 1, 'min_child_samples': 20, 'min_split_gain': 0.21129961039976441, 'max_depth': 16}. Best is trial 245 with value: 0.38220348178680996.\n",
      "/tmp/ipykernel_2765521/1358195452.py:84: ExperimentalWarning:\n",
      "\n",
      "upload_artifact is experimental (supported from v3.3.0). The interface can change in the future.\n",
      "\n",
      "/tmp/ipykernel_2765521/1358195452.py:88: ExperimentalWarning:\n",
      "\n",
      "upload_artifact is experimental (supported from v3.3.0). The interface can change in the future.\n",
      "\n",
      "[I 2024-07-03 02:58:40,636] Trial 251 finished with value: 0.37572316032604236 and parameters: {'lambda_l1': 0.18975619576892908, 'lambda_l2': 0.3653976052337349, 'num_leaves': 98, 'feature_fraction': 0.5751212164195408, 'bagging_fraction': 0.861838061102217, 'bagging_freq': 1, 'min_child_samples': 20, 'min_split_gain': 0.22852127422469437, 'max_depth': 18}. Best is trial 245 with value: 0.38220348178680996.\n",
      "/tmp/ipykernel_2765521/1358195452.py:84: ExperimentalWarning:\n",
      "\n",
      "upload_artifact is experimental (supported from v3.3.0). The interface can change in the future.\n",
      "\n",
      "/tmp/ipykernel_2765521/1358195452.py:88: ExperimentalWarning:\n",
      "\n",
      "upload_artifact is experimental (supported from v3.3.0). The interface can change in the future.\n",
      "\n",
      "[I 2024-07-03 02:58:47,084] Trial 252 finished with value: 0.37934600397070517 and parameters: {'lambda_l1': 0.655178634329619, 'lambda_l2': 0.5581840403864903, 'num_leaves': 96, 'feature_fraction': 0.5506430367360734, 'bagging_fraction': 0.8764972273525904, 'bagging_freq': 1, 'min_child_samples': 22, 'min_split_gain': 0.2161058354149688, 'max_depth': 17}. Best is trial 245 with value: 0.38220348178680996.\n",
      "/tmp/ipykernel_2765521/1358195452.py:84: ExperimentalWarning:\n",
      "\n",
      "upload_artifact is experimental (supported from v3.3.0). The interface can change in the future.\n",
      "\n",
      "/tmp/ipykernel_2765521/1358195452.py:88: ExperimentalWarning:\n",
      "\n",
      "upload_artifact is experimental (supported from v3.3.0). The interface can change in the future.\n",
      "\n",
      "[I 2024-07-03 02:58:52,248] Trial 253 finished with value: 0.36942659379406084 and parameters: {'lambda_l1': 0.5931919062822562, 'lambda_l2': 0.5558723788285062, 'num_leaves': 96, 'feature_fraction': 0.5501037612000708, 'bagging_fraction': 0.8996108246548817, 'bagging_freq': 1, 'min_child_samples': 20, 'min_split_gain': 0.2161963111881166, 'max_depth': 17}. Best is trial 245 with value: 0.38220348178680996.\n",
      "/tmp/ipykernel_2765521/1358195452.py:84: ExperimentalWarning:\n",
      "\n",
      "upload_artifact is experimental (supported from v3.3.0). The interface can change in the future.\n",
      "\n",
      "/tmp/ipykernel_2765521/1358195452.py:88: ExperimentalWarning:\n",
      "\n",
      "upload_artifact is experimental (supported from v3.3.0). The interface can change in the future.\n",
      "\n",
      "[I 2024-07-03 02:58:59,298] Trial 254 finished with value: 0.3764911567537923 and parameters: {'lambda_l1': 0.23500376547097152, 'lambda_l2': 0.5835682749770235, 'num_leaves': 93, 'feature_fraction': 0.5674696745081501, 'bagging_fraction': 0.871183507269962, 'bagging_freq': 1, 'min_child_samples': 22, 'min_split_gain': 0.20974582976887923, 'max_depth': 17}. Best is trial 245 with value: 0.38220348178680996.\n",
      "/tmp/ipykernel_2765521/1358195452.py:84: ExperimentalWarning:\n",
      "\n",
      "upload_artifact is experimental (supported from v3.3.0). The interface can change in the future.\n",
      "\n",
      "/tmp/ipykernel_2765521/1358195452.py:88: ExperimentalWarning:\n",
      "\n",
      "upload_artifact is experimental (supported from v3.3.0). The interface can change in the future.\n",
      "\n",
      "[I 2024-07-03 02:59:05,550] Trial 255 finished with value: 0.3688728366488666 and parameters: {'lambda_l1': 0.7678874627088975, 'lambda_l2': 0.4364225341446819, 'num_leaves': 99, 'feature_fraction': 0.547254413129129, 'bagging_fraction': 0.8602131419744475, 'bagging_freq': 1, 'min_child_samples': 74, 'min_split_gain': 0.01808612032231193, 'max_depth': 18}. Best is trial 245 with value: 0.38220348178680996.\n",
      "/tmp/ipykernel_2765521/1358195452.py:84: ExperimentalWarning:\n",
      "\n",
      "upload_artifact is experimental (supported from v3.3.0). The interface can change in the future.\n",
      "\n",
      "/tmp/ipykernel_2765521/1358195452.py:88: ExperimentalWarning:\n",
      "\n",
      "upload_artifact is experimental (supported from v3.3.0). The interface can change in the future.\n",
      "\n",
      "[I 2024-07-03 02:59:11,330] Trial 256 finished with value: 0.37587192015542314 and parameters: {'lambda_l1': 0.57729944026517, 'lambda_l2': 0.0013454610924936994, 'num_leaves': 96, 'feature_fraction': 0.5556674497546032, 'bagging_fraction': 0.8815892871372999, 'bagging_freq': 1, 'min_child_samples': 22, 'min_split_gain': 0.2295525556868787, 'max_depth': 17}. Best is trial 245 with value: 0.38220348178680996.\n",
      "/tmp/ipykernel_2765521/1358195452.py:84: ExperimentalWarning:\n",
      "\n",
      "upload_artifact is experimental (supported from v3.3.0). The interface can change in the future.\n",
      "\n",
      "/tmp/ipykernel_2765521/1358195452.py:88: ExperimentalWarning:\n",
      "\n",
      "upload_artifact is experimental (supported from v3.3.0). The interface can change in the future.\n",
      "\n",
      "[I 2024-07-03 02:59:17,963] Trial 257 finished with value: 0.37617748097353276 and parameters: {'lambda_l1': 0.9791237590731049, 'lambda_l2': 0.00011862033236025504, 'num_leaves': 95, 'feature_fraction': 0.5561639578967155, 'bagging_fraction': 0.872173597977625, 'bagging_freq': 1, 'min_child_samples': 20, 'min_split_gain': 0.0007026031776458247, 'max_depth': 16}. Best is trial 245 with value: 0.38220348178680996.\n",
      "/tmp/ipykernel_2765521/1358195452.py:84: ExperimentalWarning:\n",
      "\n",
      "upload_artifact is experimental (supported from v3.3.0). The interface can change in the future.\n",
      "\n",
      "/tmp/ipykernel_2765521/1358195452.py:88: ExperimentalWarning:\n",
      "\n",
      "upload_artifact is experimental (supported from v3.3.0). The interface can change in the future.\n",
      "\n",
      "[I 2024-07-03 02:59:24,745] Trial 258 finished with value: 0.37722391974002945 and parameters: {'lambda_l1': 0.46609845701064523, 'lambda_l2': 0.0003079461683020158, 'num_leaves': 90, 'feature_fraction': 0.5841797519701765, 'bagging_fraction': 0.8843225377286286, 'bagging_freq': 1, 'min_child_samples': 22, 'min_split_gain': 0.19973230979993367, 'max_depth': 18}. Best is trial 245 with value: 0.38220348178680996.\n",
      "/tmp/ipykernel_2765521/1358195452.py:84: ExperimentalWarning:\n",
      "\n",
      "upload_artifact is experimental (supported from v3.3.0). The interface can change in the future.\n",
      "\n",
      "/tmp/ipykernel_2765521/1358195452.py:88: ExperimentalWarning:\n",
      "\n",
      "upload_artifact is experimental (supported from v3.3.0). The interface can change in the future.\n",
      "\n",
      "[I 2024-07-03 02:59:30,430] Trial 259 finished with value: 0.37523561534057237 and parameters: {'lambda_l1': 0.28581583986698256, 'lambda_l2': 8.500936345160621e-05, 'num_leaves': 88, 'feature_fraction': 0.5889723650504196, 'bagging_fraction': 0.8841580140208415, 'bagging_freq': 1, 'min_child_samples': 24, 'min_split_gain': 0.19886761807375383, 'max_depth': 18}. Best is trial 245 with value: 0.38220348178680996.\n",
      "/tmp/ipykernel_2765521/1358195452.py:84: ExperimentalWarning:\n",
      "\n",
      "upload_artifact is experimental (supported from v3.3.0). The interface can change in the future.\n",
      "\n",
      "/tmp/ipykernel_2765521/1358195452.py:88: ExperimentalWarning:\n",
      "\n",
      "upload_artifact is experimental (supported from v3.3.0). The interface can change in the future.\n",
      "\n",
      "[I 2024-07-03 02:59:36,611] Trial 260 finished with value: 0.37707729750027247 and parameters: {'lambda_l1': 0.4186599883785464, 'lambda_l2': 0.7183961211240415, 'num_leaves': 90, 'feature_fraction': 0.6003195723954733, 'bagging_fraction': 0.8996250474828953, 'bagging_freq': 1, 'min_child_samples': 21, 'min_split_gain': 0.20614247464934687, 'max_depth': 19}. Best is trial 245 with value: 0.38220348178680996.\n",
      "/tmp/ipykernel_2765521/1358195452.py:84: ExperimentalWarning:\n",
      "\n",
      "upload_artifact is experimental (supported from v3.3.0). The interface can change in the future.\n",
      "\n",
      "/tmp/ipykernel_2765521/1358195452.py:88: ExperimentalWarning:\n",
      "\n",
      "upload_artifact is experimental (supported from v3.3.0). The interface can change in the future.\n",
      "\n",
      "[I 2024-07-03 02:59:42,952] Trial 261 finished with value: 0.37658623762357335 and parameters: {'lambda_l1': 0.48467413895746597, 'lambda_l2': 0.5988195151273049, 'num_leaves': 91, 'feature_fraction': 0.5748186977536686, 'bagging_fraction': 0.8880812524070627, 'bagging_freq': 1, 'min_child_samples': 22, 'min_split_gain': 0.17031421016006965, 'max_depth': 17}. Best is trial 245 with value: 0.38220348178680996.\n",
      "/tmp/ipykernel_2765521/1358195452.py:84: ExperimentalWarning:\n",
      "\n",
      "upload_artifact is experimental (supported from v3.3.0). The interface can change in the future.\n",
      "\n",
      "/tmp/ipykernel_2765521/1358195452.py:88: ExperimentalWarning:\n",
      "\n",
      "upload_artifact is experimental (supported from v3.3.0). The interface can change in the future.\n",
      "\n",
      "[I 2024-07-03 02:59:49,403] Trial 262 finished with value: 0.3719446132037679 and parameters: {'lambda_l1': 0.653754312786179, 'lambda_l2': 0.786727348940752, 'num_leaves': 92, 'feature_fraction': 0.3187507720277214, 'bagging_fraction': 0.8747242116127563, 'bagging_freq': 1, 'min_child_samples': 24, 'min_split_gain': 0.1935648512264662, 'max_depth': 18}. Best is trial 245 with value: 0.38220348178680996.\n",
      "/tmp/ipykernel_2765521/1358195452.py:84: ExperimentalWarning:\n",
      "\n",
      "upload_artifact is experimental (supported from v3.3.0). The interface can change in the future.\n",
      "\n",
      "/tmp/ipykernel_2765521/1358195452.py:88: ExperimentalWarning:\n",
      "\n",
      "upload_artifact is experimental (supported from v3.3.0). The interface can change in the future.\n",
      "\n",
      "[I 2024-07-03 02:59:55,941] Trial 263 finished with value: 0.36741009748961756 and parameters: {'lambda_l1': 0.24027548634854815, 'lambda_l2': 0.0008009619690926281, 'num_leaves': 93, 'feature_fraction': 0.5654629468225025, 'bagging_fraction': 0.8851999027482707, 'bagging_freq': 1, 'min_child_samples': 20, 'min_split_gain': 0.2097377565060635, 'max_depth': 17}. Best is trial 245 with value: 0.38220348178680996.\n",
      "/tmp/ipykernel_2765521/1358195452.py:84: ExperimentalWarning:\n",
      "\n",
      "upload_artifact is experimental (supported from v3.3.0). The interface can change in the future.\n",
      "\n",
      "/tmp/ipykernel_2765521/1358195452.py:88: ExperimentalWarning:\n",
      "\n",
      "upload_artifact is experimental (supported from v3.3.0). The interface can change in the future.\n",
      "\n",
      "[I 2024-07-03 03:00:05,065] Trial 264 finished with value: 0.37737930614793846 and parameters: {'lambda_l1': 0.35716973493368165, 'lambda_l2': 0.32630605655529243, 'num_leaves': 87, 'feature_fraction': 0.5219278138234673, 'bagging_fraction': 0.8994864194157491, 'bagging_freq': 1, 'min_child_samples': 23, 'min_split_gain': 0.21714562763855505, 'max_depth': 18}. Best is trial 245 with value: 0.38220348178680996.\n",
      "/tmp/ipykernel_2765521/1358195452.py:84: ExperimentalWarning:\n",
      "\n",
      "upload_artifact is experimental (supported from v3.3.0). The interface can change in the future.\n",
      "\n",
      "/tmp/ipykernel_2765521/1358195452.py:88: ExperimentalWarning:\n",
      "\n",
      "upload_artifact is experimental (supported from v3.3.0). The interface can change in the future.\n",
      "\n",
      "[I 2024-07-03 03:00:11,154] Trial 265 finished with value: 0.3697086001013327 and parameters: {'lambda_l1': 0.32718527993170043, 'lambda_l2': 0.4028377149859639, 'num_leaves': 87, 'feature_fraction': 0.5842079023724077, 'bagging_fraction': 0.893447583780628, 'bagging_freq': 1, 'min_child_samples': 22, 'min_split_gain': 0.22046202281285462, 'max_depth': 20}. Best is trial 245 with value: 0.38220348178680996.\n",
      "/tmp/ipykernel_2765521/1358195452.py:84: ExperimentalWarning:\n",
      "\n",
      "upload_artifact is experimental (supported from v3.3.0). The interface can change in the future.\n",
      "\n",
      "/tmp/ipykernel_2765521/1358195452.py:88: ExperimentalWarning:\n",
      "\n",
      "upload_artifact is experimental (supported from v3.3.0). The interface can change in the future.\n",
      "\n",
      "[I 2024-07-03 03:00:16,835] Trial 266 finished with value: 0.37157724194033664 and parameters: {'lambda_l1': 0.17573467845995522, 'lambda_l2': 0.34134081789538717, 'num_leaves': 85, 'feature_fraction': 0.543564705689034, 'bagging_fraction': 0.8919253047517112, 'bagging_freq': 1, 'min_child_samples': 25, 'min_split_gain': 0.21858598005757596, 'max_depth': 19}. Best is trial 245 with value: 0.38220348178680996.\n",
      "/tmp/ipykernel_2765521/1358195452.py:84: ExperimentalWarning:\n",
      "\n",
      "upload_artifact is experimental (supported from v3.3.0). The interface can change in the future.\n",
      "\n",
      "/tmp/ipykernel_2765521/1358195452.py:88: ExperimentalWarning:\n",
      "\n",
      "upload_artifact is experimental (supported from v3.3.0). The interface can change in the future.\n",
      "\n",
      "[I 2024-07-03 03:00:23,030] Trial 267 finished with value: 0.3842923612445166 and parameters: {'lambda_l1': 0.44852999188082976, 'lambda_l2': 0.012095769941200563, 'num_leaves': 90, 'feature_fraction': 0.5535619473217577, 'bagging_fraction': 0.8752422474373073, 'bagging_freq': 1, 'min_child_samples': 24, 'min_split_gain': 0.18367682277342431, 'max_depth': 18}. Best is trial 267 with value: 0.3842923612445166.\n",
      "/tmp/ipykernel_2765521/1358195452.py:84: ExperimentalWarning:\n",
      "\n",
      "upload_artifact is experimental (supported from v3.3.0). The interface can change in the future.\n",
      "\n",
      "/tmp/ipykernel_2765521/1358195452.py:88: ExperimentalWarning:\n",
      "\n",
      "upload_artifact is experimental (supported from v3.3.0). The interface can change in the future.\n",
      "\n",
      "[I 2024-07-03 03:00:29,035] Trial 268 finished with value: 0.36560447982692196 and parameters: {'lambda_l1': 0.33777529399212186, 'lambda_l2': 0.2953968276490556, 'num_leaves': 86, 'feature_fraction': 0.5531158564078061, 'bagging_fraction': 0.899432501650039, 'bagging_freq': 1, 'min_child_samples': 69, 'min_split_gain': 0.1842448025867048, 'max_depth': 18}. Best is trial 267 with value: 0.3842923612445166.\n",
      "/tmp/ipykernel_2765521/1358195452.py:84: ExperimentalWarning:\n",
      "\n",
      "upload_artifact is experimental (supported from v3.3.0). The interface can change in the future.\n",
      "\n",
      "/tmp/ipykernel_2765521/1358195452.py:88: ExperimentalWarning:\n",
      "\n",
      "upload_artifact is experimental (supported from v3.3.0). The interface can change in the future.\n",
      "\n",
      "[I 2024-07-03 03:00:36,295] Trial 269 finished with value: 0.36882973886559883 and parameters: {'lambda_l1': 0.28414175436488337, 'lambda_l2': 0.8262371052110223, 'num_leaves': 89, 'feature_fraction': 0.540556287691266, 'bagging_fraction': 0.8695183049577367, 'bagging_freq': 1, 'min_child_samples': 24, 'min_split_gain': 0.16949081896665233, 'max_depth': 19}. Best is trial 267 with value: 0.3842923612445166.\n",
      "/tmp/ipykernel_2765521/1358195452.py:84: ExperimentalWarning:\n",
      "\n",
      "upload_artifact is experimental (supported from v3.3.0). The interface can change in the future.\n",
      "\n",
      "/tmp/ipykernel_2765521/1358195452.py:88: ExperimentalWarning:\n",
      "\n",
      "upload_artifact is experimental (supported from v3.3.0). The interface can change in the future.\n",
      "\n",
      "[I 2024-07-03 03:00:43,733] Trial 270 finished with value: 0.366418388485661 and parameters: {'lambda_l1': 0.7677312516842447, 'lambda_l2': 0.4737125960392265, 'num_leaves': 95, 'feature_fraction': 0.5228873969139923, 'bagging_fraction': 0.8752832673733026, 'bagging_freq': 1, 'min_child_samples': 26, 'min_split_gain': 0.17652185494302874, 'max_depth': 17}. Best is trial 267 with value: 0.3842923612445166.\n",
      "/tmp/ipykernel_2765521/1358195452.py:84: ExperimentalWarning:\n",
      "\n",
      "upload_artifact is experimental (supported from v3.3.0). The interface can change in the future.\n",
      "\n",
      "/tmp/ipykernel_2765521/1358195452.py:88: ExperimentalWarning:\n",
      "\n",
      "upload_artifact is experimental (supported from v3.3.0). The interface can change in the future.\n",
      "\n",
      "[I 2024-07-03 03:00:50,732] Trial 271 finished with value: 0.3685865161670906 and parameters: {'lambda_l1': 0.4562486131268479, 'lambda_l2': 0.01642033498062728, 'num_leaves': 97, 'feature_fraction': 0.5626391746059664, 'bagging_fraction': 0.8611872318093894, 'bagging_freq': 1, 'min_child_samples': 24, 'min_split_gain': 0.16327696077775955, 'max_depth': 18}. Best is trial 267 with value: 0.3842923612445166.\n",
      "/tmp/ipykernel_2765521/1358195452.py:84: ExperimentalWarning:\n",
      "\n",
      "upload_artifact is experimental (supported from v3.3.0). The interface can change in the future.\n",
      "\n",
      "/tmp/ipykernel_2765521/1358195452.py:88: ExperimentalWarning:\n",
      "\n",
      "upload_artifact is experimental (supported from v3.3.0). The interface can change in the future.\n",
      "\n",
      "[I 2024-07-03 03:00:57,077] Trial 272 finished with value: 0.36952256536159594 and parameters: {'lambda_l1': 0.1530525280483719, 'lambda_l2': 0.6356906575770053, 'num_leaves': 91, 'feature_fraction': 0.5498776854597524, 'bagging_fraction': 0.5913383607702491, 'bagging_freq': 1, 'min_child_samples': 21, 'min_split_gain': 0.1889077133031479, 'max_depth': 18}. Best is trial 267 with value: 0.3842923612445166.\n",
      "/tmp/ipykernel_2765521/1358195452.py:84: ExperimentalWarning:\n",
      "\n",
      "upload_artifact is experimental (supported from v3.3.0). The interface can change in the future.\n",
      "\n",
      "/tmp/ipykernel_2765521/1358195452.py:88: ExperimentalWarning:\n",
      "\n",
      "upload_artifact is experimental (supported from v3.3.0). The interface can change in the future.\n",
      "\n",
      "[I 2024-07-03 03:01:02,806] Trial 273 finished with value: 0.37307923364115836 and parameters: {'lambda_l1': 0.24215948752310787, 'lambda_l2': 0.7684306681237799, 'num_leaves': 57, 'feature_fraction': 0.5374972838541622, 'bagging_fraction': 0.8790044214051392, 'bagging_freq': 1, 'min_child_samples': 28, 'min_split_gain': 0.21349258981964703, 'max_depth': 17}. Best is trial 267 with value: 0.3842923612445166.\n",
      "/tmp/ipykernel_2765521/1358195452.py:84: ExperimentalWarning:\n",
      "\n",
      "upload_artifact is experimental (supported from v3.3.0). The interface can change in the future.\n",
      "\n",
      "/tmp/ipykernel_2765521/1358195452.py:88: ExperimentalWarning:\n",
      "\n",
      "upload_artifact is experimental (supported from v3.3.0). The interface can change in the future.\n",
      "\n",
      "[I 2024-07-03 03:01:10,074] Trial 274 finished with value: 0.3820397544484714 and parameters: {'lambda_l1': 0.3910054366168475, 'lambda_l2': 0.49378917518744997, 'num_leaves': 94, 'feature_fraction': 0.5253562388393131, 'bagging_fraction': 0.8914012286532492, 'bagging_freq': 1, 'min_child_samples': 23, 'min_split_gain': 0.20258284688391684, 'max_depth': 18}. Best is trial 267 with value: 0.3842923612445166.\n",
      "/tmp/ipykernel_2765521/1358195452.py:84: ExperimentalWarning:\n",
      "\n",
      "upload_artifact is experimental (supported from v3.3.0). The interface can change in the future.\n",
      "\n",
      "/tmp/ipykernel_2765521/1358195452.py:88: ExperimentalWarning:\n",
      "\n",
      "upload_artifact is experimental (supported from v3.3.0). The interface can change in the future.\n",
      "\n",
      "[I 2024-07-03 03:01:16,309] Trial 275 finished with value: 0.376820427113421 and parameters: {'lambda_l1': 0.5807648245209589, 'lambda_l2': 0.012310777801066316, 'num_leaves': 94, 'feature_fraction': 0.5676205994934967, 'bagging_fraction': 0.8690351575778925, 'bagging_freq': 1, 'min_child_samples': 20, 'min_split_gain': 0.20338334316643883, 'max_depth': 18}. Best is trial 267 with value: 0.3842923612445166.\n",
      "/tmp/ipykernel_2765521/1358195452.py:84: ExperimentalWarning:\n",
      "\n",
      "upload_artifact is experimental (supported from v3.3.0). The interface can change in the future.\n",
      "\n",
      "/tmp/ipykernel_2765521/1358195452.py:88: ExperimentalWarning:\n",
      "\n",
      "upload_artifact is experimental (supported from v3.3.0). The interface can change in the future.\n",
      "\n",
      "[I 2024-07-03 03:01:25,665] Trial 276 finished with value: 0.3769355705195674 and parameters: {'lambda_l1': 0.7964264435940379, 'lambda_l2': 0.5384401963028423, 'num_leaves': 97, 'feature_fraction': 0.5489272179799547, 'bagging_fraction': 0.8879278072032462, 'bagging_freq': 1, 'min_child_samples': 25, 'min_split_gain': 0.17529730847904404, 'max_depth': 19}. Best is trial 267 with value: 0.3842923612445166.\n",
      "/tmp/ipykernel_2765521/1358195452.py:84: ExperimentalWarning:\n",
      "\n",
      "upload_artifact is experimental (supported from v3.3.0). The interface can change in the future.\n",
      "\n",
      "/tmp/ipykernel_2765521/1358195452.py:88: ExperimentalWarning:\n",
      "\n",
      "upload_artifact is experimental (supported from v3.3.0). The interface can change in the future.\n",
      "\n",
      "[I 2024-07-03 03:01:31,747] Trial 277 finished with value: 0.3690503912581543 and parameters: {'lambda_l1': 0.48138419625251516, 'lambda_l2': 0.9706195276322429, 'num_leaves': 94, 'feature_fraction': 0.5299656835953162, 'bagging_fraction': 0.8643983384430726, 'bagging_freq': 1, 'min_child_samples': 27, 'min_split_gain': 0.1925787776771641, 'max_depth': 17}. Best is trial 267 with value: 0.3842923612445166.\n",
      "/tmp/ipykernel_2765521/1358195452.py:84: ExperimentalWarning:\n",
      "\n",
      "upload_artifact is experimental (supported from v3.3.0). The interface can change in the future.\n",
      "\n",
      "/tmp/ipykernel_2765521/1358195452.py:88: ExperimentalWarning:\n",
      "\n",
      "upload_artifact is experimental (supported from v3.3.0). The interface can change in the future.\n",
      "\n",
      "[I 2024-07-03 03:01:37,459] Trial 278 finished with value: 0.3668472510956641 and parameters: {'lambda_l1': 0.9955503503312084, 'lambda_l2': 0.9843760751492154, 'num_leaves': 47, 'feature_fraction': 0.541703723107373, 'bagging_fraction': 0.8774947060335899, 'bagging_freq': 1, 'min_child_samples': 39, 'min_split_gain': 0.18590015627533638, 'max_depth': 17}. Best is trial 267 with value: 0.3842923612445166.\n",
      "/tmp/ipykernel_2765521/1358195452.py:84: ExperimentalWarning:\n",
      "\n",
      "upload_artifact is experimental (supported from v3.3.0). The interface can change in the future.\n",
      "\n",
      "/tmp/ipykernel_2765521/1358195452.py:88: ExperimentalWarning:\n",
      "\n",
      "upload_artifact is experimental (supported from v3.3.0). The interface can change in the future.\n",
      "\n",
      "[I 2024-07-03 03:01:43,913] Trial 279 finished with value: 0.3656930305883745 and parameters: {'lambda_l1': 0.3828936879004143, 'lambda_l2': 0.42987297599109736, 'num_leaves': 96, 'feature_fraction': 0.3010044995565312, 'bagging_fraction': 0.8856243335716482, 'bagging_freq': 1, 'min_child_samples': 54, 'min_split_gain': 0.20096980005540951, 'max_depth': 18}. Best is trial 267 with value: 0.3842923612445166.\n",
      "/tmp/ipykernel_2765521/1358195452.py:84: ExperimentalWarning:\n",
      "\n",
      "upload_artifact is experimental (supported from v3.3.0). The interface can change in the future.\n",
      "\n",
      "/tmp/ipykernel_2765521/1358195452.py:88: ExperimentalWarning:\n",
      "\n",
      "upload_artifact is experimental (supported from v3.3.0). The interface can change in the future.\n",
      "\n",
      "[I 2024-07-03 03:01:49,444] Trial 280 finished with value: 0.36610386370282466 and parameters: {'lambda_l1': 0.22262280520799838, 'lambda_l2': 0.0029216515241951863, 'num_leaves': 92, 'feature_fraction': 0.55950038644866, 'bagging_fraction': 0.8591586825690328, 'bagging_freq': 1, 'min_child_samples': 23, 'min_split_gain': 0.16219558014152152, 'max_depth': 19}. Best is trial 267 with value: 0.3842923612445166.\n",
      "/tmp/ipykernel_2765521/1358195452.py:84: ExperimentalWarning:\n",
      "\n",
      "upload_artifact is experimental (supported from v3.3.0). The interface can change in the future.\n",
      "\n",
      "/tmp/ipykernel_2765521/1358195452.py:88: ExperimentalWarning:\n",
      "\n",
      "upload_artifact is experimental (supported from v3.3.0). The interface can change in the future.\n",
      "\n",
      "[I 2024-07-03 03:01:56,191] Trial 281 finished with value: 0.36746719637020486 and parameters: {'lambda_l1': 0.670591844891582, 'lambda_l2': 0.007761969246379994, 'num_leaves': 98, 'feature_fraction': 0.5324997318511517, 'bagging_fraction': 0.8757580309136385, 'bagging_freq': 1, 'min_child_samples': 26, 'min_split_gain': 0.18167262762760517, 'max_depth': 16}. Best is trial 267 with value: 0.3842923612445166.\n",
      "/tmp/ipykernel_2765521/1358195452.py:84: ExperimentalWarning:\n",
      "\n",
      "upload_artifact is experimental (supported from v3.3.0). The interface can change in the future.\n",
      "\n",
      "/tmp/ipykernel_2765521/1358195452.py:88: ExperimentalWarning:\n",
      "\n",
      "upload_artifact is experimental (supported from v3.3.0). The interface can change in the future.\n",
      "\n",
      "[I 2024-07-03 03:02:01,215] Trial 282 finished with value: 0.36873091002089153 and parameters: {'lambda_l1': 0.5170938588765283, 'lambda_l2': 0.033077098542992574, 'num_leaves': 95, 'feature_fraction': 0.5143614655520359, 'bagging_fraction': 0.8931582793668825, 'bagging_freq': 1, 'min_child_samples': 24, 'min_split_gain': 0.2076944541507308, 'max_depth': 8}. Best is trial 267 with value: 0.3842923612445166.\n",
      "/tmp/ipykernel_2765521/1358195452.py:84: ExperimentalWarning:\n",
      "\n",
      "upload_artifact is experimental (supported from v3.3.0). The interface can change in the future.\n",
      "\n",
      "/tmp/ipykernel_2765521/1358195452.py:88: ExperimentalWarning:\n",
      "\n",
      "upload_artifact is experimental (supported from v3.3.0). The interface can change in the future.\n",
      "\n",
      "[I 2024-07-03 03:02:07,607] Trial 283 finished with value: 0.38075696843870416 and parameters: {'lambda_l1': 0.2739313639128003, 'lambda_l2': 0.6471547365467917, 'num_leaves': 99, 'feature_fraction': 0.5565631944964511, 'bagging_fraction': 0.8789942561688767, 'bagging_freq': 1, 'min_child_samples': 22, 'min_split_gain': 0.23590552075050708, 'max_depth': 18}. Best is trial 267 with value: 0.3842923612445166.\n",
      "/tmp/ipykernel_2765521/1358195452.py:84: ExperimentalWarning:\n",
      "\n",
      "upload_artifact is experimental (supported from v3.3.0). The interface can change in the future.\n",
      "\n",
      "/tmp/ipykernel_2765521/1358195452.py:88: ExperimentalWarning:\n",
      "\n",
      "upload_artifact is experimental (supported from v3.3.0). The interface can change in the future.\n",
      "\n",
      "[I 2024-07-03 03:02:13,540] Trial 284 finished with value: 0.37184657546361466 and parameters: {'lambda_l1': 0.2941168860381176, 'lambda_l2': 0.5827439220409082, 'num_leaves': 99, 'feature_fraction': 0.5584866489041012, 'bagging_fraction': 0.899779709467407, 'bagging_freq': 1, 'min_child_samples': 20, 'min_split_gain': 0.23812666059125817, 'max_depth': 18}. Best is trial 267 with value: 0.3842923612445166.\n",
      "/tmp/ipykernel_2765521/1358195452.py:84: ExperimentalWarning:\n",
      "\n",
      "upload_artifact is experimental (supported from v3.3.0). The interface can change in the future.\n",
      "\n",
      "/tmp/ipykernel_2765521/1358195452.py:88: ExperimentalWarning:\n",
      "\n",
      "upload_artifact is experimental (supported from v3.3.0). The interface can change in the future.\n",
      "\n",
      "[I 2024-07-03 03:02:20,572] Trial 285 finished with value: 0.3745550513125716 and parameters: {'lambda_l1': 0.21033986852876757, 'lambda_l2': 0.707410079134592, 'num_leaves': 99, 'feature_fraction': 0.5716398902630346, 'bagging_fraction': 0.8875543952459402, 'bagging_freq': 1, 'min_child_samples': 22, 'min_split_gain': 0.25155944405832115, 'max_depth': 18}. Best is trial 267 with value: 0.3842923612445166.\n",
      "/tmp/ipykernel_2765521/1358195452.py:84: ExperimentalWarning:\n",
      "\n",
      "upload_artifact is experimental (supported from v3.3.0). The interface can change in the future.\n",
      "\n",
      "/tmp/ipykernel_2765521/1358195452.py:88: ExperimentalWarning:\n",
      "\n",
      "upload_artifact is experimental (supported from v3.3.0). The interface can change in the future.\n",
      "\n",
      "[I 2024-07-03 03:02:27,151] Trial 286 finished with value: 0.366033466583117 and parameters: {'lambda_l1': 0.37005896771986135, 'lambda_l2': 0.4339230372238668, 'num_leaves': 98, 'feature_fraction': 0.5472686502465787, 'bagging_fraction': 0.6975450810495814, 'bagging_freq': 1, 'min_child_samples': 28, 'min_split_gain': 0.22359329471550343, 'max_depth': 17}. Best is trial 267 with value: 0.3842923612445166.\n",
      "/tmp/ipykernel_2765521/1358195452.py:84: ExperimentalWarning:\n",
      "\n",
      "upload_artifact is experimental (supported from v3.3.0). The interface can change in the future.\n",
      "\n",
      "/tmp/ipykernel_2765521/1358195452.py:88: ExperimentalWarning:\n",
      "\n",
      "upload_artifact is experimental (supported from v3.3.0). The interface can change in the future.\n",
      "\n",
      "[I 2024-07-03 03:02:34,295] Trial 287 finished with value: 0.3744287889171924 and parameters: {'lambda_l1': 0.15167359969488833, 'lambda_l2': 0.5914605786521304, 'num_leaves': 96, 'feature_fraction': 0.539426399686026, 'bagging_fraction': 0.8777954340067907, 'bagging_freq': 1, 'min_child_samples': 25, 'min_split_gain': 0.2281398130357756, 'max_depth': 19}. Best is trial 267 with value: 0.3842923612445166.\n",
      "/tmp/ipykernel_2765521/1358195452.py:84: ExperimentalWarning:\n",
      "\n",
      "upload_artifact is experimental (supported from v3.3.0). The interface can change in the future.\n",
      "\n",
      "/tmp/ipykernel_2765521/1358195452.py:88: ExperimentalWarning:\n",
      "\n",
      "upload_artifact is experimental (supported from v3.3.0). The interface can change in the future.\n",
      "\n",
      "[I 2024-07-03 03:02:40,711] Trial 288 finished with value: 0.3691152739467904 and parameters: {'lambda_l1': 0.2772934434307954, 'lambda_l2': 0.0005723861883499608, 'num_leaves': 100, 'feature_fraction': 0.5536710921955338, 'bagging_fraction': 0.8661252652102502, 'bagging_freq': 1, 'min_child_samples': 23, 'min_split_gain': 0.460220799105559, 'max_depth': 18}. Best is trial 267 with value: 0.3842923612445166.\n",
      "/tmp/ipykernel_2765521/1358195452.py:84: ExperimentalWarning:\n",
      "\n",
      "upload_artifact is experimental (supported from v3.3.0). The interface can change in the future.\n",
      "\n",
      "/tmp/ipykernel_2765521/1358195452.py:88: ExperimentalWarning:\n",
      "\n",
      "upload_artifact is experimental (supported from v3.3.0). The interface can change in the future.\n",
      "\n",
      "[I 2024-07-03 03:02:47,491] Trial 289 finished with value: 0.3757035041691208 and parameters: {'lambda_l1': 0.48286205585290043, 'lambda_l2': 0.7829457097237847, 'num_leaves': 97, 'feature_fraction': 0.565958770977785, 'bagging_fraction': 0.8882987607756865, 'bagging_freq': 1, 'min_child_samples': 21, 'min_split_gain': 0.2119460163972949, 'max_depth': 17}. Best is trial 267 with value: 0.3842923612445166.\n",
      "/tmp/ipykernel_2765521/1358195452.py:84: ExperimentalWarning:\n",
      "\n",
      "upload_artifact is experimental (supported from v3.3.0). The interface can change in the future.\n",
      "\n",
      "/tmp/ipykernel_2765521/1358195452.py:88: ExperimentalWarning:\n",
      "\n",
      "upload_artifact is experimental (supported from v3.3.0). The interface can change in the future.\n",
      "\n",
      "[I 2024-07-03 03:02:53,869] Trial 290 finished with value: 0.36683135671059763 and parameters: {'lambda_l1': 9.332295092424225e-06, 'lambda_l2': 0.28066305637338496, 'num_leaves': 94, 'feature_fraction': 0.5271949973370846, 'bagging_fraction': 0.8520858244432246, 'bagging_freq': 1, 'min_child_samples': 24, 'min_split_gain': 0.23494450285921858, 'max_depth': 18}. Best is trial 267 with value: 0.3842923612445166.\n",
      "/tmp/ipykernel_2765521/1358195452.py:84: ExperimentalWarning:\n",
      "\n",
      "upload_artifact is experimental (supported from v3.3.0). The interface can change in the future.\n",
      "\n",
      "/tmp/ipykernel_2765521/1358195452.py:88: ExperimentalWarning:\n",
      "\n",
      "upload_artifact is experimental (supported from v3.3.0). The interface can change in the future.\n",
      "\n",
      "[I 2024-07-03 03:03:01,508] Trial 291 finished with value: 0.37208462031919265 and parameters: {'lambda_l1': 0.4154340744200932, 'lambda_l2': 0.47126031911615646, 'num_leaves': 96, 'feature_fraction': 0.5428405096799909, 'bagging_fraction': 0.7391672852695016, 'bagging_freq': 1, 'min_child_samples': 26, 'min_split_gain': 0.19069302010111033, 'max_depth': 17}. Best is trial 267 with value: 0.3842923612445166.\n",
      "/tmp/ipykernel_2765521/1358195452.py:84: ExperimentalWarning:\n",
      "\n",
      "upload_artifact is experimental (supported from v3.3.0). The interface can change in the future.\n",
      "\n",
      "/tmp/ipykernel_2765521/1358195452.py:88: ExperimentalWarning:\n",
      "\n",
      "upload_artifact is experimental (supported from v3.3.0). The interface can change in the future.\n",
      "\n",
      "[I 2024-07-03 03:03:08,258] Trial 292 finished with value: 0.36513611117792244 and parameters: {'lambda_l1': 0.7009555896487467, 'lambda_l2': 0.7658432528226133, 'num_leaves': 98, 'feature_fraction': 0.5762020761015639, 'bagging_fraction': 0.8999477425283076, 'bagging_freq': 1, 'min_child_samples': 48, 'min_split_gain': 0.028903749234724465, 'max_depth': 19}. Best is trial 267 with value: 0.3842923612445166.\n",
      "/tmp/ipykernel_2765521/1358195452.py:84: ExperimentalWarning:\n",
      "\n",
      "upload_artifact is experimental (supported from v3.3.0). The interface can change in the future.\n",
      "\n",
      "/tmp/ipykernel_2765521/1358195452.py:88: ExperimentalWarning:\n",
      "\n",
      "upload_artifact is experimental (supported from v3.3.0). The interface can change in the future.\n",
      "\n",
      "[I 2024-07-03 03:03:15,769] Trial 293 finished with value: 0.3745622509793215 and parameters: {'lambda_l1': 0.3319897718934003, 'lambda_l2': 0.3668383922098595, 'num_leaves': 96, 'feature_fraction': 0.5578975268171817, 'bagging_fraction': 0.8779077517701214, 'bagging_freq': 1, 'min_child_samples': 22, 'min_split_gain': 0.19929125058169966, 'max_depth': 16}. Best is trial 267 with value: 0.3842923612445166.\n",
      "/tmp/ipykernel_2765521/1358195452.py:84: ExperimentalWarning:\n",
      "\n",
      "upload_artifact is experimental (supported from v3.3.0). The interface can change in the future.\n",
      "\n",
      "/tmp/ipykernel_2765521/1358195452.py:88: ExperimentalWarning:\n",
      "\n",
      "upload_artifact is experimental (supported from v3.3.0). The interface can change in the future.\n",
      "\n",
      "[I 2024-07-03 03:03:22,953] Trial 294 finished with value: 0.37636959112429935 and parameters: {'lambda_l1': 0.5741660902007238, 'lambda_l2': 0.5627180668840939, 'num_leaves': 99, 'feature_fraction': 0.5219529477029017, 'bagging_fraction': 0.8686910462158671, 'bagging_freq': 1, 'min_child_samples': 20, 'min_split_gain': 0.17586668911861034, 'max_depth': 18}. Best is trial 267 with value: 0.3842923612445166.\n",
      "/tmp/ipykernel_2765521/1358195452.py:84: ExperimentalWarning:\n",
      "\n",
      "upload_artifact is experimental (supported from v3.3.0). The interface can change in the future.\n",
      "\n",
      "/tmp/ipykernel_2765521/1358195452.py:88: ExperimentalWarning:\n",
      "\n",
      "upload_artifact is experimental (supported from v3.3.0). The interface can change in the future.\n",
      "\n",
      "[I 2024-07-03 03:03:29,422] Trial 295 finished with value: 0.3676509426056867 and parameters: {'lambda_l1': 0.22905136428269984, 'lambda_l2': 0.9973858002382863, 'num_leaves': 94, 'feature_fraction': 0.5330494127553319, 'bagging_fraction': 0.6812751196783231, 'bagging_freq': 1, 'min_child_samples': 26, 'min_split_gain': 0.2083102300981752, 'max_depth': 19}. Best is trial 267 with value: 0.3842923612445166.\n",
      "/tmp/ipykernel_2765521/1358195452.py:84: ExperimentalWarning:\n",
      "\n",
      "upload_artifact is experimental (supported from v3.3.0). The interface can change in the future.\n",
      "\n",
      "/tmp/ipykernel_2765521/1358195452.py:88: ExperimentalWarning:\n",
      "\n",
      "upload_artifact is experimental (supported from v3.3.0). The interface can change in the future.\n",
      "\n",
      "[I 2024-07-03 03:03:34,761] Trial 296 finished with value: 0.3740102413220133 and parameters: {'lambda_l1': 0.762367859035424, 'lambda_l2': 0.6449310204273772, 'num_leaves': 92, 'feature_fraction': 0.5517330440427544, 'bagging_fraction': 0.8898284144541317, 'bagging_freq': 1, 'min_child_samples': 23, 'min_split_gain': 0.22071394948543943, 'max_depth': 18}. Best is trial 267 with value: 0.3842923612445166.\n",
      "/tmp/ipykernel_2765521/1358195452.py:84: ExperimentalWarning:\n",
      "\n",
      "upload_artifact is experimental (supported from v3.3.0). The interface can change in the future.\n",
      "\n",
      "/tmp/ipykernel_2765521/1358195452.py:88: ExperimentalWarning:\n",
      "\n",
      "upload_artifact is experimental (supported from v3.3.0). The interface can change in the future.\n",
      "\n",
      "[I 2024-07-03 03:03:42,128] Trial 297 finished with value: 0.37379815844316044 and parameters: {'lambda_l1': 0.44856223998537087, 'lambda_l2': 0.28489974304389276, 'num_leaves': 97, 'feature_fraction': 0.5107695303351134, 'bagging_fraction': 0.881104460988629, 'bagging_freq': 1, 'min_child_samples': 25, 'min_split_gain': 0.191124370152543, 'max_depth': 17}. Best is trial 267 with value: 0.3842923612445166.\n",
      "/tmp/ipykernel_2765521/1358195452.py:84: ExperimentalWarning:\n",
      "\n",
      "upload_artifact is experimental (supported from v3.3.0). The interface can change in the future.\n",
      "\n",
      "/tmp/ipykernel_2765521/1358195452.py:88: ExperimentalWarning:\n",
      "\n",
      "upload_artifact is experimental (supported from v3.3.0). The interface can change in the future.\n",
      "\n",
      "[I 2024-07-03 03:03:50,713] Trial 298 finished with value: 0.36519687644858234 and parameters: {'lambda_l1': 0.30122641324081295, 'lambda_l2': 0.4835971707894832, 'num_leaves': 100, 'feature_fraction': 0.5446295137605857, 'bagging_fraction': 0.4959262471687862, 'bagging_freq': 1, 'min_child_samples': 28, 'min_split_gain': 0.2023053725402697, 'max_depth': 18}. Best is trial 267 with value: 0.3842923612445166.\n",
      "/tmp/ipykernel_2765521/1358195452.py:84: ExperimentalWarning:\n",
      "\n",
      "upload_artifact is experimental (supported from v3.3.0). The interface can change in the future.\n",
      "\n",
      "/tmp/ipykernel_2765521/1358195452.py:88: ExperimentalWarning:\n",
      "\n",
      "upload_artifact is experimental (supported from v3.3.0). The interface can change in the future.\n",
      "\n",
      "[I 2024-07-03 03:03:58,718] Trial 299 finished with value: 0.3786575363510428 and parameters: {'lambda_l1': 0.6185884428922344, 'lambda_l2': 0.75228982056873, 'num_leaves': 95, 'feature_fraction': 0.5712258177162625, 'bagging_fraction': 0.8905949846901569, 'bagging_freq': 1, 'min_child_samples': 21, 'min_split_gain': 0.22877520718597696, 'max_depth': 17}. Best is trial 267 with value: 0.3842923612445166.\n"
     ]
    }
   ],
   "source": [
    "study.optimize(cv_es_lgb_objective, n_trials=300)  # Aumentar el número de trials"
   ]
  },
  {
   "cell_type": "code",
   "execution_count": 38,
   "metadata": {},
   "outputs": [
    {
     "name": "stdout",
     "output_type": "stream",
     "text": [
      "Mejores hiperparámetros: {'lambda_l1': 0.44852999188082976, 'lambda_l2': 0.012095769941200563, 'num_leaves': 90, 'feature_fraction': 0.5535619473217577, 'bagging_fraction': 0.8752422474373073, 'bagging_freq': 1, 'min_child_samples': 24, 'min_split_gain': 0.18367682277342431, 'max_depth': 18}\n"
     ]
    }
   ],
   "source": [
    "# Obtener los mejores hiperparámetros\n",
    "best_params = study.best_params\n",
    "print(\"Mejores hiperparámetros:\", best_params)\n",
    "\n",
    "# Entrenar el modelo final con los mejores hiperparámetros\n",
    "lgb_params = {      \n",
    "    'objective': 'multiclass',\n",
    "    'verbosity': -1,\n",
    "    'num_class': len(y_train.unique())\n",
    "}\n",
    "lgb_params.update(best_params)\n",
    "lgb_train_dataset = lgb.Dataset(data=X_train, label=y_train)\n",
    "lgb_model = lgb.train(lgb_params, lgb_train_dataset)\n",
    "\n"
   ]
  },
  {
   "cell_type": "code",
   "execution_count": 39,
   "metadata": {},
   "outputs": [
    {
     "name": "stdout",
     "output_type": "stream",
     "text": [
      "Kappa: 0.3311281592324009\n",
      "Accuracy: 0.3947982660886962\n",
      "Balanced Accuracy: 0.32694233857056554\n"
     ]
    },
    {
     "data": {
      "application/vnd.plotly.v1+json": {
       "config": {
        "plotlyServerURL": "https://plot.ly"
       },
       "data": [
        {
         "type": "heatmap",
         "x": [
          0,
          1,
          2,
          3,
          4
         ],
         "y": [
          0,
          1,
          2,
          3,
          4
         ],
         "z": [
          [
           7.317073170731707,
           35.36585365853659,
           28.04878048780488,
           9.75609756097561,
           19.51219512195122
          ],
          [
           0.8090614886731391,
           32.5242718446602,
           34.627831715210355,
           11.812297734627832,
           20.22653721682848
          ],
          [
           0.12391573729863693,
           23.172242874845107,
           37.79429987608427,
           15.36555142503098,
           23.543990086741015
          ],
          [
           0.15337423312883436,
           16.257668711656443,
           30.368098159509206,
           26.07361963190184,
           27.14723926380368
          ],
          [
           0.35714285714285715,
           9.285714285714286,
           20.595238095238095,
           10,
           59.76190476190476
          ]
         ]
        }
       ],
       "layout": {
        "annotations": [
         {
          "font": {
           "color": "white"
          },
          "showarrow": false,
          "text": "7.3 - 6",
          "x": 0,
          "xref": "x",
          "y": 0,
          "yref": "y"
         },
         {
          "font": {
           "color": "white"
          },
          "showarrow": false,
          "text": "35.4 - 29",
          "x": 1,
          "xref": "x",
          "y": 0,
          "yref": "y"
         },
         {
          "font": {
           "color": "white"
          },
          "showarrow": false,
          "text": "28.0 - 23",
          "x": 2,
          "xref": "x",
          "y": 0,
          "yref": "y"
         },
         {
          "font": {
           "color": "white"
          },
          "showarrow": false,
          "text": "9.8 - 8",
          "x": 3,
          "xref": "x",
          "y": 0,
          "yref": "y"
         },
         {
          "font": {
           "color": "white"
          },
          "showarrow": false,
          "text": "19.5 - 16",
          "x": 4,
          "xref": "x",
          "y": 0,
          "yref": "y"
         },
         {
          "font": {
           "color": "white"
          },
          "showarrow": false,
          "text": "0.8 - 5",
          "x": 0,
          "xref": "x",
          "y": 1,
          "yref": "y"
         },
         {
          "font": {
           "color": "white"
          },
          "showarrow": false,
          "text": "32.5 - 201",
          "x": 1,
          "xref": "x",
          "y": 1,
          "yref": "y"
         },
         {
          "font": {
           "color": "white"
          },
          "showarrow": false,
          "text": "34.6 - 214",
          "x": 2,
          "xref": "x",
          "y": 1,
          "yref": "y"
         },
         {
          "font": {
           "color": "white"
          },
          "showarrow": false,
          "text": "11.8 - 73",
          "x": 3,
          "xref": "x",
          "y": 1,
          "yref": "y"
         },
         {
          "font": {
           "color": "white"
          },
          "showarrow": false,
          "text": "20.2 - 125",
          "x": 4,
          "xref": "x",
          "y": 1,
          "yref": "y"
         },
         {
          "font": {
           "color": "white"
          },
          "showarrow": false,
          "text": "0.1 - 1",
          "x": 0,
          "xref": "x",
          "y": 2,
          "yref": "y"
         },
         {
          "font": {
           "color": "white"
          },
          "showarrow": false,
          "text": "23.2 - 187",
          "x": 1,
          "xref": "x",
          "y": 2,
          "yref": "y"
         },
         {
          "font": {
           "color": "white"
          },
          "showarrow": false,
          "text": "37.8 - 305",
          "x": 2,
          "xref": "x",
          "y": 2,
          "yref": "y"
         },
         {
          "font": {
           "color": "white"
          },
          "showarrow": false,
          "text": "15.4 - 124",
          "x": 3,
          "xref": "x",
          "y": 2,
          "yref": "y"
         },
         {
          "font": {
           "color": "white"
          },
          "showarrow": false,
          "text": "23.5 - 190",
          "x": 4,
          "xref": "x",
          "y": 2,
          "yref": "y"
         },
         {
          "font": {
           "color": "white"
          },
          "showarrow": false,
          "text": "0.2 - 1",
          "x": 0,
          "xref": "x",
          "y": 3,
          "yref": "y"
         },
         {
          "font": {
           "color": "white"
          },
          "showarrow": false,
          "text": "16.3 - 106",
          "x": 1,
          "xref": "x",
          "y": 3,
          "yref": "y"
         },
         {
          "font": {
           "color": "white"
          },
          "showarrow": false,
          "text": "30.4 - 198",
          "x": 2,
          "xref": "x",
          "y": 3,
          "yref": "y"
         },
         {
          "font": {
           "color": "white"
          },
          "showarrow": false,
          "text": "26.1 - 170",
          "x": 3,
          "xref": "x",
          "y": 3,
          "yref": "y"
         },
         {
          "font": {
           "color": "white"
          },
          "showarrow": false,
          "text": "27.1 - 177",
          "x": 4,
          "xref": "x",
          "y": 3,
          "yref": "y"
         },
         {
          "font": {
           "color": "white"
          },
          "showarrow": false,
          "text": "0.4 - 3",
          "x": 0,
          "xref": "x",
          "y": 4,
          "yref": "y"
         },
         {
          "font": {
           "color": "white"
          },
          "showarrow": false,
          "text": "9.3 - 78",
          "x": 1,
          "xref": "x",
          "y": 4,
          "yref": "y"
         },
         {
          "font": {
           "color": "white"
          },
          "showarrow": false,
          "text": "20.6 - 173",
          "x": 2,
          "xref": "x",
          "y": 4,
          "yref": "y"
         },
         {
          "font": {
           "color": "white"
          },
          "showarrow": false,
          "text": "10.0 - 84",
          "x": 3,
          "xref": "x",
          "y": 4,
          "yref": "y"
         },
         {
          "font": {
           "color": "white"
          },
          "showarrow": false,
          "text": "59.8 - 502",
          "x": 4,
          "xref": "x",
          "y": 4,
          "yref": "y"
         }
        ],
        "height": 800,
        "template": {
         "data": {
          "bar": [
           {
            "error_x": {
             "color": "#2a3f5f"
            },
            "error_y": {
             "color": "#2a3f5f"
            },
            "marker": {
             "line": {
              "color": "#E5ECF6",
              "width": 0.5
             },
             "pattern": {
              "fillmode": "overlay",
              "size": 10,
              "solidity": 0.2
             }
            },
            "type": "bar"
           }
          ],
          "barpolar": [
           {
            "marker": {
             "line": {
              "color": "#E5ECF6",
              "width": 0.5
             },
             "pattern": {
              "fillmode": "overlay",
              "size": 10,
              "solidity": 0.2
             }
            },
            "type": "barpolar"
           }
          ],
          "carpet": [
           {
            "aaxis": {
             "endlinecolor": "#2a3f5f",
             "gridcolor": "white",
             "linecolor": "white",
             "minorgridcolor": "white",
             "startlinecolor": "#2a3f5f"
            },
            "baxis": {
             "endlinecolor": "#2a3f5f",
             "gridcolor": "white",
             "linecolor": "white",
             "minorgridcolor": "white",
             "startlinecolor": "#2a3f5f"
            },
            "type": "carpet"
           }
          ],
          "choropleth": [
           {
            "colorbar": {
             "outlinewidth": 0,
             "ticks": ""
            },
            "type": "choropleth"
           }
          ],
          "contour": [
           {
            "colorbar": {
             "outlinewidth": 0,
             "ticks": ""
            },
            "colorscale": [
             [
              0,
              "#0d0887"
             ],
             [
              0.1111111111111111,
              "#46039f"
             ],
             [
              0.2222222222222222,
              "#7201a8"
             ],
             [
              0.3333333333333333,
              "#9c179e"
             ],
             [
              0.4444444444444444,
              "#bd3786"
             ],
             [
              0.5555555555555556,
              "#d8576b"
             ],
             [
              0.6666666666666666,
              "#ed7953"
             ],
             [
              0.7777777777777778,
              "#fb9f3a"
             ],
             [
              0.8888888888888888,
              "#fdca26"
             ],
             [
              1,
              "#f0f921"
             ]
            ],
            "type": "contour"
           }
          ],
          "contourcarpet": [
           {
            "colorbar": {
             "outlinewidth": 0,
             "ticks": ""
            },
            "type": "contourcarpet"
           }
          ],
          "heatmap": [
           {
            "colorbar": {
             "outlinewidth": 0,
             "ticks": ""
            },
            "colorscale": [
             [
              0,
              "#0d0887"
             ],
             [
              0.1111111111111111,
              "#46039f"
             ],
             [
              0.2222222222222222,
              "#7201a8"
             ],
             [
              0.3333333333333333,
              "#9c179e"
             ],
             [
              0.4444444444444444,
              "#bd3786"
             ],
             [
              0.5555555555555556,
              "#d8576b"
             ],
             [
              0.6666666666666666,
              "#ed7953"
             ],
             [
              0.7777777777777778,
              "#fb9f3a"
             ],
             [
              0.8888888888888888,
              "#fdca26"
             ],
             [
              1,
              "#f0f921"
             ]
            ],
            "type": "heatmap"
           }
          ],
          "heatmapgl": [
           {
            "colorbar": {
             "outlinewidth": 0,
             "ticks": ""
            },
            "colorscale": [
             [
              0,
              "#0d0887"
             ],
             [
              0.1111111111111111,
              "#46039f"
             ],
             [
              0.2222222222222222,
              "#7201a8"
             ],
             [
              0.3333333333333333,
              "#9c179e"
             ],
             [
              0.4444444444444444,
              "#bd3786"
             ],
             [
              0.5555555555555556,
              "#d8576b"
             ],
             [
              0.6666666666666666,
              "#ed7953"
             ],
             [
              0.7777777777777778,
              "#fb9f3a"
             ],
             [
              0.8888888888888888,
              "#fdca26"
             ],
             [
              1,
              "#f0f921"
             ]
            ],
            "type": "heatmapgl"
           }
          ],
          "histogram": [
           {
            "marker": {
             "pattern": {
              "fillmode": "overlay",
              "size": 10,
              "solidity": 0.2
             }
            },
            "type": "histogram"
           }
          ],
          "histogram2d": [
           {
            "colorbar": {
             "outlinewidth": 0,
             "ticks": ""
            },
            "colorscale": [
             [
              0,
              "#0d0887"
             ],
             [
              0.1111111111111111,
              "#46039f"
             ],
             [
              0.2222222222222222,
              "#7201a8"
             ],
             [
              0.3333333333333333,
              "#9c179e"
             ],
             [
              0.4444444444444444,
              "#bd3786"
             ],
             [
              0.5555555555555556,
              "#d8576b"
             ],
             [
              0.6666666666666666,
              "#ed7953"
             ],
             [
              0.7777777777777778,
              "#fb9f3a"
             ],
             [
              0.8888888888888888,
              "#fdca26"
             ],
             [
              1,
              "#f0f921"
             ]
            ],
            "type": "histogram2d"
           }
          ],
          "histogram2dcontour": [
           {
            "colorbar": {
             "outlinewidth": 0,
             "ticks": ""
            },
            "colorscale": [
             [
              0,
              "#0d0887"
             ],
             [
              0.1111111111111111,
              "#46039f"
             ],
             [
              0.2222222222222222,
              "#7201a8"
             ],
             [
              0.3333333333333333,
              "#9c179e"
             ],
             [
              0.4444444444444444,
              "#bd3786"
             ],
             [
              0.5555555555555556,
              "#d8576b"
             ],
             [
              0.6666666666666666,
              "#ed7953"
             ],
             [
              0.7777777777777778,
              "#fb9f3a"
             ],
             [
              0.8888888888888888,
              "#fdca26"
             ],
             [
              1,
              "#f0f921"
             ]
            ],
            "type": "histogram2dcontour"
           }
          ],
          "mesh3d": [
           {
            "colorbar": {
             "outlinewidth": 0,
             "ticks": ""
            },
            "type": "mesh3d"
           }
          ],
          "parcoords": [
           {
            "line": {
             "colorbar": {
              "outlinewidth": 0,
              "ticks": ""
             }
            },
            "type": "parcoords"
           }
          ],
          "pie": [
           {
            "automargin": true,
            "type": "pie"
           }
          ],
          "scatter": [
           {
            "fillpattern": {
             "fillmode": "overlay",
             "size": 10,
             "solidity": 0.2
            },
            "type": "scatter"
           }
          ],
          "scatter3d": [
           {
            "line": {
             "colorbar": {
              "outlinewidth": 0,
              "ticks": ""
             }
            },
            "marker": {
             "colorbar": {
              "outlinewidth": 0,
              "ticks": ""
             }
            },
            "type": "scatter3d"
           }
          ],
          "scattercarpet": [
           {
            "marker": {
             "colorbar": {
              "outlinewidth": 0,
              "ticks": ""
             }
            },
            "type": "scattercarpet"
           }
          ],
          "scattergeo": [
           {
            "marker": {
             "colorbar": {
              "outlinewidth": 0,
              "ticks": ""
             }
            },
            "type": "scattergeo"
           }
          ],
          "scattergl": [
           {
            "marker": {
             "colorbar": {
              "outlinewidth": 0,
              "ticks": ""
             }
            },
            "type": "scattergl"
           }
          ],
          "scattermapbox": [
           {
            "marker": {
             "colorbar": {
              "outlinewidth": 0,
              "ticks": ""
             }
            },
            "type": "scattermapbox"
           }
          ],
          "scatterpolar": [
           {
            "marker": {
             "colorbar": {
              "outlinewidth": 0,
              "ticks": ""
             }
            },
            "type": "scatterpolar"
           }
          ],
          "scatterpolargl": [
           {
            "marker": {
             "colorbar": {
              "outlinewidth": 0,
              "ticks": ""
             }
            },
            "type": "scatterpolargl"
           }
          ],
          "scatterternary": [
           {
            "marker": {
             "colorbar": {
              "outlinewidth": 0,
              "ticks": ""
             }
            },
            "type": "scatterternary"
           }
          ],
          "surface": [
           {
            "colorbar": {
             "outlinewidth": 0,
             "ticks": ""
            },
            "colorscale": [
             [
              0,
              "#0d0887"
             ],
             [
              0.1111111111111111,
              "#46039f"
             ],
             [
              0.2222222222222222,
              "#7201a8"
             ],
             [
              0.3333333333333333,
              "#9c179e"
             ],
             [
              0.4444444444444444,
              "#bd3786"
             ],
             [
              0.5555555555555556,
              "#d8576b"
             ],
             [
              0.6666666666666666,
              "#ed7953"
             ],
             [
              0.7777777777777778,
              "#fb9f3a"
             ],
             [
              0.8888888888888888,
              "#fdca26"
             ],
             [
              1,
              "#f0f921"
             ]
            ],
            "type": "surface"
           }
          ],
          "table": [
           {
            "cells": {
             "fill": {
              "color": "#EBF0F8"
             },
             "line": {
              "color": "white"
             }
            },
            "header": {
             "fill": {
              "color": "#C8D4E3"
             },
             "line": {
              "color": "white"
             }
            },
            "type": "table"
           }
          ]
         },
         "layout": {
          "annotationdefaults": {
           "arrowcolor": "#2a3f5f",
           "arrowhead": 0,
           "arrowwidth": 1
          },
          "autotypenumbers": "strict",
          "coloraxis": {
           "colorbar": {
            "outlinewidth": 0,
            "ticks": ""
           }
          },
          "colorscale": {
           "diverging": [
            [
             0,
             "#8e0152"
            ],
            [
             0.1,
             "#c51b7d"
            ],
            [
             0.2,
             "#de77ae"
            ],
            [
             0.3,
             "#f1b6da"
            ],
            [
             0.4,
             "#fde0ef"
            ],
            [
             0.5,
             "#f7f7f7"
            ],
            [
             0.6,
             "#e6f5d0"
            ],
            [
             0.7,
             "#b8e186"
            ],
            [
             0.8,
             "#7fbc41"
            ],
            [
             0.9,
             "#4d9221"
            ],
            [
             1,
             "#276419"
            ]
           ],
           "sequential": [
            [
             0,
             "#0d0887"
            ],
            [
             0.1111111111111111,
             "#46039f"
            ],
            [
             0.2222222222222222,
             "#7201a8"
            ],
            [
             0.3333333333333333,
             "#9c179e"
            ],
            [
             0.4444444444444444,
             "#bd3786"
            ],
            [
             0.5555555555555556,
             "#d8576b"
            ],
            [
             0.6666666666666666,
             "#ed7953"
            ],
            [
             0.7777777777777778,
             "#fb9f3a"
            ],
            [
             0.8888888888888888,
             "#fdca26"
            ],
            [
             1,
             "#f0f921"
            ]
           ],
           "sequentialminus": [
            [
             0,
             "#0d0887"
            ],
            [
             0.1111111111111111,
             "#46039f"
            ],
            [
             0.2222222222222222,
             "#7201a8"
            ],
            [
             0.3333333333333333,
             "#9c179e"
            ],
            [
             0.4444444444444444,
             "#bd3786"
            ],
            [
             0.5555555555555556,
             "#d8576b"
            ],
            [
             0.6666666666666666,
             "#ed7953"
            ],
            [
             0.7777777777777778,
             "#fb9f3a"
            ],
            [
             0.8888888888888888,
             "#fdca26"
            ],
            [
             1,
             "#f0f921"
            ]
           ]
          },
          "colorway": [
           "#636efa",
           "#EF553B",
           "#00cc96",
           "#ab63fa",
           "#FFA15A",
           "#19d3f3",
           "#FF6692",
           "#B6E880",
           "#FF97FF",
           "#FECB52"
          ],
          "font": {
           "color": "#2a3f5f"
          },
          "geo": {
           "bgcolor": "white",
           "lakecolor": "white",
           "landcolor": "#E5ECF6",
           "showlakes": true,
           "showland": true,
           "subunitcolor": "white"
          },
          "hoverlabel": {
           "align": "left"
          },
          "hovermode": "closest",
          "mapbox": {
           "style": "light"
          },
          "paper_bgcolor": "white",
          "plot_bgcolor": "#E5ECF6",
          "polar": {
           "angularaxis": {
            "gridcolor": "white",
            "linecolor": "white",
            "ticks": ""
           },
           "bgcolor": "#E5ECF6",
           "radialaxis": {
            "gridcolor": "white",
            "linecolor": "white",
            "ticks": ""
           }
          },
          "scene": {
           "xaxis": {
            "backgroundcolor": "#E5ECF6",
            "gridcolor": "white",
            "gridwidth": 2,
            "linecolor": "white",
            "showbackground": true,
            "ticks": "",
            "zerolinecolor": "white"
           },
           "yaxis": {
            "backgroundcolor": "#E5ECF6",
            "gridcolor": "white",
            "gridwidth": 2,
            "linecolor": "white",
            "showbackground": true,
            "ticks": "",
            "zerolinecolor": "white"
           },
           "zaxis": {
            "backgroundcolor": "#E5ECF6",
            "gridcolor": "white",
            "gridwidth": 2,
            "linecolor": "white",
            "showbackground": true,
            "ticks": "",
            "zerolinecolor": "white"
           }
          },
          "shapedefaults": {
           "line": {
            "color": "#2a3f5f"
           }
          },
          "ternary": {
           "aaxis": {
            "gridcolor": "white",
            "linecolor": "white",
            "ticks": ""
           },
           "baxis": {
            "gridcolor": "white",
            "linecolor": "white",
            "ticks": ""
           },
           "bgcolor": "#E5ECF6",
           "caxis": {
            "gridcolor": "white",
            "linecolor": "white",
            "ticks": ""
           }
          },
          "title": {
           "x": 0.05
          },
          "xaxis": {
           "automargin": true,
           "gridcolor": "white",
           "linecolor": "white",
           "ticks": "",
           "title": {
            "standoff": 15
           },
           "zerolinecolor": "white",
           "zerolinewidth": 2
          },
          "yaxis": {
           "automargin": true,
           "gridcolor": "white",
           "linecolor": "white",
           "ticks": "",
           "title": {
            "standoff": 15
           },
           "zerolinecolor": "white",
           "zerolinewidth": 2
          }
         }
        },
        "title": {
         "text": "Conf Matrix"
        },
        "width": 800,
        "xaxis": {
         "title": {
          "text": "Predicted value"
         }
        },
        "yaxis": {
         "title": {
          "text": "Real value"
         }
        }
       }
      },
      "text/html": [
       "<div>                            <div id=\"897b180b-baad-4c93-b7eb-fa96a3ba008c\" class=\"plotly-graph-div\" style=\"height:800px; width:800px;\"></div>            <script type=\"text/javascript\">                require([\"plotly\"], function(Plotly) {                    window.PLOTLYENV=window.PLOTLYENV || {};                                    if (document.getElementById(\"897b180b-baad-4c93-b7eb-fa96a3ba008c\")) {                    Plotly.newPlot(                        \"897b180b-baad-4c93-b7eb-fa96a3ba008c\",                        [{\"x\":[0,1,2,3,4],\"y\":[0,1,2,3,4],\"z\":[[7.317073170731707,35.36585365853659,28.04878048780488,9.75609756097561,19.51219512195122],[0.8090614886731391,32.5242718446602,34.627831715210355,11.812297734627832,20.22653721682848],[0.12391573729863693,23.172242874845107,37.79429987608427,15.36555142503098,23.543990086741015],[0.15337423312883436,16.257668711656443,30.368098159509206,26.07361963190184,27.14723926380368],[0.35714285714285715,9.285714285714286,20.595238095238095,10.0,59.76190476190476]],\"type\":\"heatmap\"}],                        {\"annotations\":[{\"font\":{\"color\":\"white\"},\"showarrow\":false,\"text\":\"7.3 - 6\",\"x\":0,\"xref\":\"x\",\"y\":0,\"yref\":\"y\"},{\"font\":{\"color\":\"white\"},\"showarrow\":false,\"text\":\"35.4 - 29\",\"x\":1,\"xref\":\"x\",\"y\":0,\"yref\":\"y\"},{\"font\":{\"color\":\"white\"},\"showarrow\":false,\"text\":\"28.0 - 23\",\"x\":2,\"xref\":\"x\",\"y\":0,\"yref\":\"y\"},{\"font\":{\"color\":\"white\"},\"showarrow\":false,\"text\":\"9.8 - 8\",\"x\":3,\"xref\":\"x\",\"y\":0,\"yref\":\"y\"},{\"font\":{\"color\":\"white\"},\"showarrow\":false,\"text\":\"19.5 - 16\",\"x\":4,\"xref\":\"x\",\"y\":0,\"yref\":\"y\"},{\"font\":{\"color\":\"white\"},\"showarrow\":false,\"text\":\"0.8 - 5\",\"x\":0,\"xref\":\"x\",\"y\":1,\"yref\":\"y\"},{\"font\":{\"color\":\"white\"},\"showarrow\":false,\"text\":\"32.5 - 201\",\"x\":1,\"xref\":\"x\",\"y\":1,\"yref\":\"y\"},{\"font\":{\"color\":\"white\"},\"showarrow\":false,\"text\":\"34.6 - 214\",\"x\":2,\"xref\":\"x\",\"y\":1,\"yref\":\"y\"},{\"font\":{\"color\":\"white\"},\"showarrow\":false,\"text\":\"11.8 - 73\",\"x\":3,\"xref\":\"x\",\"y\":1,\"yref\":\"y\"},{\"font\":{\"color\":\"white\"},\"showarrow\":false,\"text\":\"20.2 - 125\",\"x\":4,\"xref\":\"x\",\"y\":1,\"yref\":\"y\"},{\"font\":{\"color\":\"white\"},\"showarrow\":false,\"text\":\"0.1 - 1\",\"x\":0,\"xref\":\"x\",\"y\":2,\"yref\":\"y\"},{\"font\":{\"color\":\"white\"},\"showarrow\":false,\"text\":\"23.2 - 187\",\"x\":1,\"xref\":\"x\",\"y\":2,\"yref\":\"y\"},{\"font\":{\"color\":\"white\"},\"showarrow\":false,\"text\":\"37.8 - 305\",\"x\":2,\"xref\":\"x\",\"y\":2,\"yref\":\"y\"},{\"font\":{\"color\":\"white\"},\"showarrow\":false,\"text\":\"15.4 - 124\",\"x\":3,\"xref\":\"x\",\"y\":2,\"yref\":\"y\"},{\"font\":{\"color\":\"white\"},\"showarrow\":false,\"text\":\"23.5 - 190\",\"x\":4,\"xref\":\"x\",\"y\":2,\"yref\":\"y\"},{\"font\":{\"color\":\"white\"},\"showarrow\":false,\"text\":\"0.2 - 1\",\"x\":0,\"xref\":\"x\",\"y\":3,\"yref\":\"y\"},{\"font\":{\"color\":\"white\"},\"showarrow\":false,\"text\":\"16.3 - 106\",\"x\":1,\"xref\":\"x\",\"y\":3,\"yref\":\"y\"},{\"font\":{\"color\":\"white\"},\"showarrow\":false,\"text\":\"30.4 - 198\",\"x\":2,\"xref\":\"x\",\"y\":3,\"yref\":\"y\"},{\"font\":{\"color\":\"white\"},\"showarrow\":false,\"text\":\"26.1 - 170\",\"x\":3,\"xref\":\"x\",\"y\":3,\"yref\":\"y\"},{\"font\":{\"color\":\"white\"},\"showarrow\":false,\"text\":\"27.1 - 177\",\"x\":4,\"xref\":\"x\",\"y\":3,\"yref\":\"y\"},{\"font\":{\"color\":\"white\"},\"showarrow\":false,\"text\":\"0.4 - 3\",\"x\":0,\"xref\":\"x\",\"y\":4,\"yref\":\"y\"},{\"font\":{\"color\":\"white\"},\"showarrow\":false,\"text\":\"9.3 - 78\",\"x\":1,\"xref\":\"x\",\"y\":4,\"yref\":\"y\"},{\"font\":{\"color\":\"white\"},\"showarrow\":false,\"text\":\"20.6 - 173\",\"x\":2,\"xref\":\"x\",\"y\":4,\"yref\":\"y\"},{\"font\":{\"color\":\"white\"},\"showarrow\":false,\"text\":\"10.0 - 84\",\"x\":3,\"xref\":\"x\",\"y\":4,\"yref\":\"y\"},{\"font\":{\"color\":\"white\"},\"showarrow\":false,\"text\":\"59.8 - 502\",\"x\":4,\"xref\":\"x\",\"y\":4,\"yref\":\"y\"}],\"height\":800,\"title\":{\"text\":\"Conf Matrix\"},\"width\":800,\"xaxis\":{\"title\":{\"text\":\"Predicted value\"}},\"yaxis\":{\"title\":{\"text\":\"Real value\"}},\"template\":{\"data\":{\"histogram2dcontour\":[{\"type\":\"histogram2dcontour\",\"colorbar\":{\"outlinewidth\":0,\"ticks\":\"\"},\"colorscale\":[[0.0,\"#0d0887\"],[0.1111111111111111,\"#46039f\"],[0.2222222222222222,\"#7201a8\"],[0.3333333333333333,\"#9c179e\"],[0.4444444444444444,\"#bd3786\"],[0.5555555555555556,\"#d8576b\"],[0.6666666666666666,\"#ed7953\"],[0.7777777777777778,\"#fb9f3a\"],[0.8888888888888888,\"#fdca26\"],[1.0,\"#f0f921\"]]}],\"choropleth\":[{\"type\":\"choropleth\",\"colorbar\":{\"outlinewidth\":0,\"ticks\":\"\"}}],\"histogram2d\":[{\"type\":\"histogram2d\",\"colorbar\":{\"outlinewidth\":0,\"ticks\":\"\"},\"colorscale\":[[0.0,\"#0d0887\"],[0.1111111111111111,\"#46039f\"],[0.2222222222222222,\"#7201a8\"],[0.3333333333333333,\"#9c179e\"],[0.4444444444444444,\"#bd3786\"],[0.5555555555555556,\"#d8576b\"],[0.6666666666666666,\"#ed7953\"],[0.7777777777777778,\"#fb9f3a\"],[0.8888888888888888,\"#fdca26\"],[1.0,\"#f0f921\"]]}],\"heatmap\":[{\"type\":\"heatmap\",\"colorbar\":{\"outlinewidth\":0,\"ticks\":\"\"},\"colorscale\":[[0.0,\"#0d0887\"],[0.1111111111111111,\"#46039f\"],[0.2222222222222222,\"#7201a8\"],[0.3333333333333333,\"#9c179e\"],[0.4444444444444444,\"#bd3786\"],[0.5555555555555556,\"#d8576b\"],[0.6666666666666666,\"#ed7953\"],[0.7777777777777778,\"#fb9f3a\"],[0.8888888888888888,\"#fdca26\"],[1.0,\"#f0f921\"]]}],\"heatmapgl\":[{\"type\":\"heatmapgl\",\"colorbar\":{\"outlinewidth\":0,\"ticks\":\"\"},\"colorscale\":[[0.0,\"#0d0887\"],[0.1111111111111111,\"#46039f\"],[0.2222222222222222,\"#7201a8\"],[0.3333333333333333,\"#9c179e\"],[0.4444444444444444,\"#bd3786\"],[0.5555555555555556,\"#d8576b\"],[0.6666666666666666,\"#ed7953\"],[0.7777777777777778,\"#fb9f3a\"],[0.8888888888888888,\"#fdca26\"],[1.0,\"#f0f921\"]]}],\"contourcarpet\":[{\"type\":\"contourcarpet\",\"colorbar\":{\"outlinewidth\":0,\"ticks\":\"\"}}],\"contour\":[{\"type\":\"contour\",\"colorbar\":{\"outlinewidth\":0,\"ticks\":\"\"},\"colorscale\":[[0.0,\"#0d0887\"],[0.1111111111111111,\"#46039f\"],[0.2222222222222222,\"#7201a8\"],[0.3333333333333333,\"#9c179e\"],[0.4444444444444444,\"#bd3786\"],[0.5555555555555556,\"#d8576b\"],[0.6666666666666666,\"#ed7953\"],[0.7777777777777778,\"#fb9f3a\"],[0.8888888888888888,\"#fdca26\"],[1.0,\"#f0f921\"]]}],\"surface\":[{\"type\":\"surface\",\"colorbar\":{\"outlinewidth\":0,\"ticks\":\"\"},\"colorscale\":[[0.0,\"#0d0887\"],[0.1111111111111111,\"#46039f\"],[0.2222222222222222,\"#7201a8\"],[0.3333333333333333,\"#9c179e\"],[0.4444444444444444,\"#bd3786\"],[0.5555555555555556,\"#d8576b\"],[0.6666666666666666,\"#ed7953\"],[0.7777777777777778,\"#fb9f3a\"],[0.8888888888888888,\"#fdca26\"],[1.0,\"#f0f921\"]]}],\"mesh3d\":[{\"type\":\"mesh3d\",\"colorbar\":{\"outlinewidth\":0,\"ticks\":\"\"}}],\"scatter\":[{\"fillpattern\":{\"fillmode\":\"overlay\",\"size\":10,\"solidity\":0.2},\"type\":\"scatter\"}],\"parcoords\":[{\"type\":\"parcoords\",\"line\":{\"colorbar\":{\"outlinewidth\":0,\"ticks\":\"\"}}}],\"scatterpolargl\":[{\"type\":\"scatterpolargl\",\"marker\":{\"colorbar\":{\"outlinewidth\":0,\"ticks\":\"\"}}}],\"bar\":[{\"error_x\":{\"color\":\"#2a3f5f\"},\"error_y\":{\"color\":\"#2a3f5f\"},\"marker\":{\"line\":{\"color\":\"#E5ECF6\",\"width\":0.5},\"pattern\":{\"fillmode\":\"overlay\",\"size\":10,\"solidity\":0.2}},\"type\":\"bar\"}],\"scattergeo\":[{\"type\":\"scattergeo\",\"marker\":{\"colorbar\":{\"outlinewidth\":0,\"ticks\":\"\"}}}],\"scatterpolar\":[{\"type\":\"scatterpolar\",\"marker\":{\"colorbar\":{\"outlinewidth\":0,\"ticks\":\"\"}}}],\"histogram\":[{\"marker\":{\"pattern\":{\"fillmode\":\"overlay\",\"size\":10,\"solidity\":0.2}},\"type\":\"histogram\"}],\"scattergl\":[{\"type\":\"scattergl\",\"marker\":{\"colorbar\":{\"outlinewidth\":0,\"ticks\":\"\"}}}],\"scatter3d\":[{\"type\":\"scatter3d\",\"line\":{\"colorbar\":{\"outlinewidth\":0,\"ticks\":\"\"}},\"marker\":{\"colorbar\":{\"outlinewidth\":0,\"ticks\":\"\"}}}],\"scattermapbox\":[{\"type\":\"scattermapbox\",\"marker\":{\"colorbar\":{\"outlinewidth\":0,\"ticks\":\"\"}}}],\"scatterternary\":[{\"type\":\"scatterternary\",\"marker\":{\"colorbar\":{\"outlinewidth\":0,\"ticks\":\"\"}}}],\"scattercarpet\":[{\"type\":\"scattercarpet\",\"marker\":{\"colorbar\":{\"outlinewidth\":0,\"ticks\":\"\"}}}],\"carpet\":[{\"aaxis\":{\"endlinecolor\":\"#2a3f5f\",\"gridcolor\":\"white\",\"linecolor\":\"white\",\"minorgridcolor\":\"white\",\"startlinecolor\":\"#2a3f5f\"},\"baxis\":{\"endlinecolor\":\"#2a3f5f\",\"gridcolor\":\"white\",\"linecolor\":\"white\",\"minorgridcolor\":\"white\",\"startlinecolor\":\"#2a3f5f\"},\"type\":\"carpet\"}],\"table\":[{\"cells\":{\"fill\":{\"color\":\"#EBF0F8\"},\"line\":{\"color\":\"white\"}},\"header\":{\"fill\":{\"color\":\"#C8D4E3\"},\"line\":{\"color\":\"white\"}},\"type\":\"table\"}],\"barpolar\":[{\"marker\":{\"line\":{\"color\":\"#E5ECF6\",\"width\":0.5},\"pattern\":{\"fillmode\":\"overlay\",\"size\":10,\"solidity\":0.2}},\"type\":\"barpolar\"}],\"pie\":[{\"automargin\":true,\"type\":\"pie\"}]},\"layout\":{\"autotypenumbers\":\"strict\",\"colorway\":[\"#636efa\",\"#EF553B\",\"#00cc96\",\"#ab63fa\",\"#FFA15A\",\"#19d3f3\",\"#FF6692\",\"#B6E880\",\"#FF97FF\",\"#FECB52\"],\"font\":{\"color\":\"#2a3f5f\"},\"hovermode\":\"closest\",\"hoverlabel\":{\"align\":\"left\"},\"paper_bgcolor\":\"white\",\"plot_bgcolor\":\"#E5ECF6\",\"polar\":{\"bgcolor\":\"#E5ECF6\",\"angularaxis\":{\"gridcolor\":\"white\",\"linecolor\":\"white\",\"ticks\":\"\"},\"radialaxis\":{\"gridcolor\":\"white\",\"linecolor\":\"white\",\"ticks\":\"\"}},\"ternary\":{\"bgcolor\":\"#E5ECF6\",\"aaxis\":{\"gridcolor\":\"white\",\"linecolor\":\"white\",\"ticks\":\"\"},\"baxis\":{\"gridcolor\":\"white\",\"linecolor\":\"white\",\"ticks\":\"\"},\"caxis\":{\"gridcolor\":\"white\",\"linecolor\":\"white\",\"ticks\":\"\"}},\"coloraxis\":{\"colorbar\":{\"outlinewidth\":0,\"ticks\":\"\"}},\"colorscale\":{\"sequential\":[[0.0,\"#0d0887\"],[0.1111111111111111,\"#46039f\"],[0.2222222222222222,\"#7201a8\"],[0.3333333333333333,\"#9c179e\"],[0.4444444444444444,\"#bd3786\"],[0.5555555555555556,\"#d8576b\"],[0.6666666666666666,\"#ed7953\"],[0.7777777777777778,\"#fb9f3a\"],[0.8888888888888888,\"#fdca26\"],[1.0,\"#f0f921\"]],\"sequentialminus\":[[0.0,\"#0d0887\"],[0.1111111111111111,\"#46039f\"],[0.2222222222222222,\"#7201a8\"],[0.3333333333333333,\"#9c179e\"],[0.4444444444444444,\"#bd3786\"],[0.5555555555555556,\"#d8576b\"],[0.6666666666666666,\"#ed7953\"],[0.7777777777777778,\"#fb9f3a\"],[0.8888888888888888,\"#fdca26\"],[1.0,\"#f0f921\"]],\"diverging\":[[0,\"#8e0152\"],[0.1,\"#c51b7d\"],[0.2,\"#de77ae\"],[0.3,\"#f1b6da\"],[0.4,\"#fde0ef\"],[0.5,\"#f7f7f7\"],[0.6,\"#e6f5d0\"],[0.7,\"#b8e186\"],[0.8,\"#7fbc41\"],[0.9,\"#4d9221\"],[1,\"#276419\"]]},\"xaxis\":{\"gridcolor\":\"white\",\"linecolor\":\"white\",\"ticks\":\"\",\"title\":{\"standoff\":15},\"zerolinecolor\":\"white\",\"automargin\":true,\"zerolinewidth\":2},\"yaxis\":{\"gridcolor\":\"white\",\"linecolor\":\"white\",\"ticks\":\"\",\"title\":{\"standoff\":15},\"zerolinecolor\":\"white\",\"automargin\":true,\"zerolinewidth\":2},\"scene\":{\"xaxis\":{\"backgroundcolor\":\"#E5ECF6\",\"gridcolor\":\"white\",\"linecolor\":\"white\",\"showbackground\":true,\"ticks\":\"\",\"zerolinecolor\":\"white\",\"gridwidth\":2},\"yaxis\":{\"backgroundcolor\":\"#E5ECF6\",\"gridcolor\":\"white\",\"linecolor\":\"white\",\"showbackground\":true,\"ticks\":\"\",\"zerolinecolor\":\"white\",\"gridwidth\":2},\"zaxis\":{\"backgroundcolor\":\"#E5ECF6\",\"gridcolor\":\"white\",\"linecolor\":\"white\",\"showbackground\":true,\"ticks\":\"\",\"zerolinecolor\":\"white\",\"gridwidth\":2}},\"shapedefaults\":{\"line\":{\"color\":\"#2a3f5f\"}},\"annotationdefaults\":{\"arrowcolor\":\"#2a3f5f\",\"arrowhead\":0,\"arrowwidth\":1},\"geo\":{\"bgcolor\":\"white\",\"landcolor\":\"#E5ECF6\",\"subunitcolor\":\"white\",\"showland\":true,\"showlakes\":true,\"lakecolor\":\"white\"},\"title\":{\"x\":0.05},\"mapbox\":{\"style\":\"light\"}}}},                        {\"responsive\": true}                    ).then(function(){\n",
       "                            \n",
       "var gd = document.getElementById('897b180b-baad-4c93-b7eb-fa96a3ba008c');\n",
       "var x = new MutationObserver(function (mutations, observer) {{\n",
       "        var display = window.getComputedStyle(gd).display;\n",
       "        if (!display || display === 'none') {{\n",
       "            console.log([gd, 'removed!']);\n",
       "            Plotly.purge(gd);\n",
       "            observer.disconnect();\n",
       "        }}\n",
       "}});\n",
       "\n",
       "// Listen for the removal of the full notebook cells\n",
       "var notebookContainer = gd.closest('#notebook-container');\n",
       "if (notebookContainer) {{\n",
       "    x.observe(notebookContainer, {childList: true});\n",
       "}}\n",
       "\n",
       "// Listen for the clearing of the current output cell\n",
       "var outputEl = gd.closest('.output');\n",
       "if (outputEl) {{\n",
       "    x.observe(outputEl, {childList: true});\n",
       "}}\n",
       "\n",
       "                        })                };                });            </script>        </div>"
      ]
     },
     "metadata": {},
     "output_type": "display_data"
    },
    {
     "name": "stdout",
     "output_type": "stream",
     "text": [
      "Reporte de clasificación:\n",
      "               precision    recall  f1-score   support\n",
      "\n",
      "           0       0.38      0.07      0.12        82\n",
      "           1       0.33      0.33      0.33       618\n",
      "           2       0.33      0.38      0.35       807\n",
      "           3       0.37      0.26      0.31       652\n",
      "           4       0.50      0.60      0.54       840\n",
      "\n",
      "    accuracy                           0.39      2999\n",
      "   macro avg       0.38      0.33      0.33      2999\n",
      "weighted avg       0.39      0.39      0.39      2999\n",
      "\n"
     ]
    },
    {
     "data": {
      "image/png": "[encoded data removed]",
      "text/plain": [
       "<Figure size 1000x1200 with 1 Axes>"
      ]
     },
     "metadata": {},
     "output_type": "display_data"
    },
    {
     "name": "stdout",
     "output_type": "stream",
     "text": [
      "Total de datos en el dataset de entrenamiento: 11994\n",
      "Datos utilizados en el entrenamiento actual: 11994\n",
      "Porcentaje de datos utilizados: 100.00%\n"
     ]
    }
   ],
   "source": [
    "# Evaluar el modelo en el conjunto de prueba\n",
    "y_pred = lgb_model.predict(X_test).argmax(axis=1)\n",
    "kappa_score = cohen_kappa_score(y_test, y_pred, weights='quadratic')\n",
    "accuracy = accuracy_score(y_test, y_pred)\n",
    "balanced_accuracy = balanced_accuracy_score(y_test, y_pred)\n",
    "\n",
    "print(f'Kappa: {kappa_score}')\n",
    "print(f'Accuracy: {accuracy}')\n",
    "print(f'Balanced Accuracy: {balanced_accuracy}')\n",
    "\n",
    "# Mostrar la matriz de confusión\n",
    "display(plot_confusion_matrix(y_test, y_pred))\n",
    "\n",
    "# Información adicional del modelo\n",
    "print(\"Reporte de clasificación:\\n\", classification_report(y_test, y_pred))\n",
    "lgb.plot_importance(lgb_model, height=0.5, figsize=(10, 12))\n",
    "plt.show()\n",
    "\n",
    "# Tamaño total del dataset de entrenamiento\n",
    "total_data = X_train.shape[0]\n",
    "train_data = X_train.shape[0]\n",
    "percentage_used = (train_data / total_data) * 100\n",
    "\n",
    "print(f\"Total de datos en el dataset de entrenamiento: {total_data}\")\n",
    "print(f\"Datos utilizados en el entrenamiento actual: {train_data}\")\n",
    "print(f\"Porcentaje de datos utilizados: {percentage_used:.2f}%\")\n"
   ]
  },
  {
   "cell_type": "code",
   "execution_count": 40,
   "metadata": {},
   "outputs": [
    {
     "data": {
      "text/plain": [
       "<Figure size 1500x800 with 0 Axes>"
      ]
     },
     "metadata": {},
     "output_type": "display_data"
    },
    {
     "data": {
      "image/png": "[encoded data removed]",
      "text/plain": [
       "<Figure size 640x480 with 1 Axes>"
      ]
     },
     "metadata": {},
     "output_type": "display_data"
    }
   ],
   "source": [
    "importance_df = pd.DataFrame({\n",
    "    'feature': lgb_model.feature_name(),\n",
    "    'importance': lgb_model.feature_importance()\n",
    "}).sort_values('importance', ascending=False)\n",
    "\n",
    "# Mostrar las 10 características más importantes\n",
    "plt.figure(figsize=(15, 8))\n",
    "lgb.plot_importance(lgb_model, max_num_features=10)\n",
    "plt.show()"
   ]
  },
  {
   "cell_type": "markdown",
   "metadata": {},
   "source": [
    "# Análisis opcional"
   ]
  },
  {
   "cell_type": "code",
   "execution_count": null,
   "metadata": {},
   "outputs": [],
   "source": [
    "# Analizar los últimos 30 resultados de la optimización"
   ]
  },
  {
   "cell_type": "code",
   "execution_count": 41,
   "metadata": {},
   "outputs": [
    {
     "data": {
      "text/html": [
       "<div>\n",
       "<style scoped>\n",
       "    .dataframe tbody tr th:only-of-type {\n",
       "        vertical-align: middle;\n",
       "    }\n",
       "\n",
       "    .dataframe tbody tr th {\n",
       "        vertical-align: top;\n",
       "    }\n",
       "\n",
       "    .dataframe thead th {\n",
       "        text-align: right;\n",
       "    }\n",
       "</style>\n",
       "<table border=\"1\" class=\"dataframe\">\n",
       "  <thead>\n",
       "    <tr style=\"text-align: right;\">\n",
       "      <th></th>\n",
       "      <th>Trial</th>\n",
       "      <th>lambda_l1</th>\n",
       "      <th>lambda_l2</th>\n",
       "      <th>num_leaves</th>\n",
       "      <th>feature_fraction</th>\n",
       "      <th>bagging_fraction</th>\n",
       "      <th>bagging_freq</th>\n",
       "      <th>min_child_samples</th>\n",
       "      <th>Kappa (Train)</th>\n",
       "      <th>Kappa (Test)</th>\n",
       "      <th>Diferencia Kappa</th>\n",
       "      <th>Accuracy</th>\n",
       "      <th>Balanced Accuracy</th>\n",
       "      <th>Tendencia Overfitting</th>\n",
       "    </tr>\n",
       "  </thead>\n",
       "  <tbody>\n",
       "    <tr>\n",
       "      <th>21</th>\n",
       "      <td>142</td>\n",
       "      <td>0.008290</td>\n",
       "      <td>0.000001</td>\n",
       "      <td>95</td>\n",
       "      <td>0.571316</td>\n",
       "      <td>0.890034</td>\n",
       "      <td>2</td>\n",
       "      <td>25</td>\n",
       "      <td>0.896978</td>\n",
       "      <td>0.325915</td>\n",
       "      <td>0.571063</td>\n",
       "      <td>0.393131</td>\n",
       "      <td>0.326290</td>\n",
       "      <td>Media</td>\n",
       "    </tr>\n",
       "    <tr>\n",
       "      <th>24</th>\n",
       "      <td>188</td>\n",
       "      <td>0.033626</td>\n",
       "      <td>0.000015</td>\n",
       "      <td>97</td>\n",
       "      <td>0.538843</td>\n",
       "      <td>0.885570</td>\n",
       "      <td>1</td>\n",
       "      <td>24</td>\n",
       "      <td>0.873078</td>\n",
       "      <td>0.335817</td>\n",
       "      <td>0.537261</td>\n",
       "      <td>0.407136</td>\n",
       "      <td>0.341567</td>\n",
       "      <td>Baja</td>\n",
       "    </tr>\n",
       "    <tr>\n",
       "      <th>18</th>\n",
       "      <td>172</td>\n",
       "      <td>0.036193</td>\n",
       "      <td>0.447290</td>\n",
       "      <td>100</td>\n",
       "      <td>0.467147</td>\n",
       "      <td>0.888430</td>\n",
       "      <td>1</td>\n",
       "      <td>20</td>\n",
       "      <td>0.848639</td>\n",
       "      <td>0.329522</td>\n",
       "      <td>0.519117</td>\n",
       "      <td>0.394465</td>\n",
       "      <td>0.331581</td>\n",
       "      <td>Baja</td>\n",
       "    </tr>\n",
       "    <tr>\n",
       "      <th>6</th>\n",
       "      <td>239</td>\n",
       "      <td>0.259031</td>\n",
       "      <td>0.541409</td>\n",
       "      <td>96</td>\n",
       "      <td>0.554605</td>\n",
       "      <td>0.890022</td>\n",
       "      <td>1</td>\n",
       "      <td>24</td>\n",
       "      <td>0.833501</td>\n",
       "      <td>0.321131</td>\n",
       "      <td>0.512370</td>\n",
       "      <td>0.396132</td>\n",
       "      <td>0.336815</td>\n",
       "      <td>Baja</td>\n",
       "    </tr>\n",
       "    <tr>\n",
       "      <th>22</th>\n",
       "      <td>181</td>\n",
       "      <td>0.109067</td>\n",
       "      <td>0.150010</td>\n",
       "      <td>92</td>\n",
       "      <td>0.512397</td>\n",
       "      <td>0.864329</td>\n",
       "      <td>1</td>\n",
       "      <td>27</td>\n",
       "      <td>0.842589</td>\n",
       "      <td>0.334387</td>\n",
       "      <td>0.508203</td>\n",
       "      <td>0.400133</td>\n",
       "      <td>0.336121</td>\n",
       "      <td>Baja</td>\n",
       "    </tr>\n",
       "    <tr>\n",
       "      <th>0</th>\n",
       "      <td>267</td>\n",
       "      <td>0.448530</td>\n",
       "      <td>0.012096</td>\n",
       "      <td>90</td>\n",
       "      <td>0.553562</td>\n",
       "      <td>0.875242</td>\n",
       "      <td>1</td>\n",
       "      <td>24</td>\n",
       "      <td>0.819594</td>\n",
       "      <td>0.331128</td>\n",
       "      <td>0.488466</td>\n",
       "      <td>0.394798</td>\n",
       "      <td>0.326942</td>\n",
       "      <td>Baja</td>\n",
       "    </tr>\n",
       "    <tr>\n",
       "      <th>4</th>\n",
       "      <td>250</td>\n",
       "      <td>0.251664</td>\n",
       "      <td>0.391355</td>\n",
       "      <td>96</td>\n",
       "      <td>0.550878</td>\n",
       "      <td>0.883506</td>\n",
       "      <td>1</td>\n",
       "      <td>20</td>\n",
       "      <td>0.820693</td>\n",
       "      <td>0.333089</td>\n",
       "      <td>0.487604</td>\n",
       "      <td>0.395799</td>\n",
       "      <td>0.327661</td>\n",
       "      <td>Baja</td>\n",
       "    </tr>\n",
       "    <tr>\n",
       "      <th>17</th>\n",
       "      <td>224</td>\n",
       "      <td>0.306021</td>\n",
       "      <td>0.968959</td>\n",
       "      <td>95</td>\n",
       "      <td>0.541803</td>\n",
       "      <td>0.881680</td>\n",
       "      <td>1</td>\n",
       "      <td>23</td>\n",
       "      <td>0.811752</td>\n",
       "      <td>0.326157</td>\n",
       "      <td>0.485596</td>\n",
       "      <td>0.397132</td>\n",
       "      <td>0.329241</td>\n",
       "      <td>Baja</td>\n",
       "    </tr>\n",
       "    <tr>\n",
       "      <th>13</th>\n",
       "      <td>128</td>\n",
       "      <td>0.000680</td>\n",
       "      <td>0.000016</td>\n",
       "      <td>100</td>\n",
       "      <td>0.582023</td>\n",
       "      <td>0.881280</td>\n",
       "      <td>2</td>\n",
       "      <td>30</td>\n",
       "      <td>0.819935</td>\n",
       "      <td>0.338015</td>\n",
       "      <td>0.481921</td>\n",
       "      <td>0.398800</td>\n",
       "      <td>0.332328</td>\n",
       "      <td>Baja</td>\n",
       "    </tr>\n",
       "    <tr>\n",
       "      <th>5</th>\n",
       "      <td>283</td>\n",
       "      <td>0.273931</td>\n",
       "      <td>0.647155</td>\n",
       "      <td>99</td>\n",
       "      <td>0.556563</td>\n",
       "      <td>0.878994</td>\n",
       "      <td>1</td>\n",
       "      <td>22</td>\n",
       "      <td>0.810294</td>\n",
       "      <td>0.330310</td>\n",
       "      <td>0.479984</td>\n",
       "      <td>0.400133</td>\n",
       "      <td>0.332646</td>\n",
       "      <td>Baja</td>\n",
       "    </tr>\n",
       "    <tr>\n",
       "      <th>28</th>\n",
       "      <td>258</td>\n",
       "      <td>0.466098</td>\n",
       "      <td>0.000308</td>\n",
       "      <td>90</td>\n",
       "      <td>0.584180</td>\n",
       "      <td>0.884323</td>\n",
       "      <td>1</td>\n",
       "      <td>22</td>\n",
       "      <td>0.815977</td>\n",
       "      <td>0.337772</td>\n",
       "      <td>0.478206</td>\n",
       "      <td>0.398133</td>\n",
       "      <td>0.332266</td>\n",
       "      <td>Baja</td>\n",
       "    </tr>\n",
       "    <tr>\n",
       "      <th>9</th>\n",
       "      <td>207</td>\n",
       "      <td>0.189305</td>\n",
       "      <td>0.564420</td>\n",
       "      <td>94</td>\n",
       "      <td>0.536023</td>\n",
       "      <td>0.897432</td>\n",
       "      <td>1</td>\n",
       "      <td>25</td>\n",
       "      <td>0.819170</td>\n",
       "      <td>0.347920</td>\n",
       "      <td>0.471249</td>\n",
       "      <td>0.400467</td>\n",
       "      <td>0.335898</td>\n",
       "      <td>Baja</td>\n",
       "    </tr>\n",
       "    <tr>\n",
       "      <th>23</th>\n",
       "      <td>246</td>\n",
       "      <td>0.483420</td>\n",
       "      <td>0.395910</td>\n",
       "      <td>92</td>\n",
       "      <td>0.552745</td>\n",
       "      <td>0.882169</td>\n",
       "      <td>1</td>\n",
       "      <td>21</td>\n",
       "      <td>0.798395</td>\n",
       "      <td>0.329779</td>\n",
       "      <td>0.468616</td>\n",
       "      <td>0.395132</td>\n",
       "      <td>0.331253</td>\n",
       "      <td>Baja</td>\n",
       "    </tr>\n",
       "    <tr>\n",
       "      <th>20</th>\n",
       "      <td>229</td>\n",
       "      <td>0.416026</td>\n",
       "      <td>0.985489</td>\n",
       "      <td>95</td>\n",
       "      <td>0.544330</td>\n",
       "      <td>0.883391</td>\n",
       "      <td>1</td>\n",
       "      <td>22</td>\n",
       "      <td>0.795641</td>\n",
       "      <td>0.332858</td>\n",
       "      <td>0.462782</td>\n",
       "      <td>0.398800</td>\n",
       "      <td>0.331323</td>\n",
       "      <td>Baja</td>\n",
       "    </tr>\n",
       "    <tr>\n",
       "      <th>1</th>\n",
       "      <td>245</td>\n",
       "      <td>0.460041</td>\n",
       "      <td>0.387293</td>\n",
       "      <td>96</td>\n",
       "      <td>0.555001</td>\n",
       "      <td>0.891266</td>\n",
       "      <td>1</td>\n",
       "      <td>21</td>\n",
       "      <td>0.803180</td>\n",
       "      <td>0.341005</td>\n",
       "      <td>0.462175</td>\n",
       "      <td>0.404135</td>\n",
       "      <td>0.336093</td>\n",
       "      <td>Baja</td>\n",
       "    </tr>\n",
       "    <tr>\n",
       "      <th>27</th>\n",
       "      <td>264</td>\n",
       "      <td>0.357170</td>\n",
       "      <td>0.326306</td>\n",
       "      <td>87</td>\n",
       "      <td>0.521928</td>\n",
       "      <td>0.899486</td>\n",
       "      <td>1</td>\n",
       "      <td>23</td>\n",
       "      <td>0.786310</td>\n",
       "      <td>0.325248</td>\n",
       "      <td>0.461062</td>\n",
       "      <td>0.400133</td>\n",
       "      <td>0.330395</td>\n",
       "      <td>Baja</td>\n",
       "    </tr>\n",
       "    <tr>\n",
       "      <th>10</th>\n",
       "      <td>235</td>\n",
       "      <td>0.666373</td>\n",
       "      <td>0.517804</td>\n",
       "      <td>95</td>\n",
       "      <td>0.524222</td>\n",
       "      <td>0.868742</td>\n",
       "      <td>1</td>\n",
       "      <td>24</td>\n",
       "      <td>0.786870</td>\n",
       "      <td>0.329872</td>\n",
       "      <td>0.456997</td>\n",
       "      <td>0.403801</td>\n",
       "      <td>0.331819</td>\n",
       "      <td>Baja</td>\n",
       "    </tr>\n",
       "    <tr>\n",
       "      <th>8</th>\n",
       "      <td>60</td>\n",
       "      <td>0.016825</td>\n",
       "      <td>0.076803</td>\n",
       "      <td>98</td>\n",
       "      <td>0.490082</td>\n",
       "      <td>0.885670</td>\n",
       "      <td>5</td>\n",
       "      <td>26</td>\n",
       "      <td>0.791864</td>\n",
       "      <td>0.336837</td>\n",
       "      <td>0.455027</td>\n",
       "      <td>0.397799</td>\n",
       "      <td>0.332914</td>\n",
       "      <td>Baja</td>\n",
       "    </tr>\n",
       "    <tr>\n",
       "      <th>2</th>\n",
       "      <td>274</td>\n",
       "      <td>0.391005</td>\n",
       "      <td>0.493789</td>\n",
       "      <td>94</td>\n",
       "      <td>0.525356</td>\n",
       "      <td>0.891401</td>\n",
       "      <td>1</td>\n",
       "      <td>23</td>\n",
       "      <td>0.800435</td>\n",
       "      <td>0.349103</td>\n",
       "      <td>0.451332</td>\n",
       "      <td>0.403801</td>\n",
       "      <td>0.334048</td>\n",
       "      <td>Baja</td>\n",
       "    </tr>\n",
       "    <tr>\n",
       "      <th>29</th>\n",
       "      <td>217</td>\n",
       "      <td>0.602056</td>\n",
       "      <td>0.589128</td>\n",
       "      <td>93</td>\n",
       "      <td>0.517822</td>\n",
       "      <td>0.883584</td>\n",
       "      <td>1</td>\n",
       "      <td>23</td>\n",
       "      <td>0.779804</td>\n",
       "      <td>0.331084</td>\n",
       "      <td>0.448720</td>\n",
       "      <td>0.399466</td>\n",
       "      <td>0.330634</td>\n",
       "      <td>Baja</td>\n",
       "    </tr>\n",
       "    <tr>\n",
       "      <th>3</th>\n",
       "      <td>134</td>\n",
       "      <td>0.001912</td>\n",
       "      <td>0.728203</td>\n",
       "      <td>97</td>\n",
       "      <td>0.563205</td>\n",
       "      <td>0.862601</td>\n",
       "      <td>2</td>\n",
       "      <td>20</td>\n",
       "      <td>0.792917</td>\n",
       "      <td>0.346286</td>\n",
       "      <td>0.446631</td>\n",
       "      <td>0.398800</td>\n",
       "      <td>0.335725</td>\n",
       "      <td>Baja</td>\n",
       "    </tr>\n",
       "    <tr>\n",
       "      <th>25</th>\n",
       "      <td>219</td>\n",
       "      <td>0.560896</td>\n",
       "      <td>0.927981</td>\n",
       "      <td>89</td>\n",
       "      <td>0.528709</td>\n",
       "      <td>0.892230</td>\n",
       "      <td>1</td>\n",
       "      <td>23</td>\n",
       "      <td>0.780949</td>\n",
       "      <td>0.335634</td>\n",
       "      <td>0.445315</td>\n",
       "      <td>0.396799</td>\n",
       "      <td>0.329182</td>\n",
       "      <td>Baja</td>\n",
       "    </tr>\n",
       "    <tr>\n",
       "      <th>19</th>\n",
       "      <td>209</td>\n",
       "      <td>0.536408</td>\n",
       "      <td>0.896496</td>\n",
       "      <td>94</td>\n",
       "      <td>0.539573</td>\n",
       "      <td>0.892082</td>\n",
       "      <td>1</td>\n",
       "      <td>24</td>\n",
       "      <td>0.788332</td>\n",
       "      <td>0.343040</td>\n",
       "      <td>0.445293</td>\n",
       "      <td>0.400800</td>\n",
       "      <td>0.333680</td>\n",
       "      <td>Baja</td>\n",
       "    </tr>\n",
       "    <tr>\n",
       "      <th>16</th>\n",
       "      <td>211</td>\n",
       "      <td>0.530928</td>\n",
       "      <td>0.993025</td>\n",
       "      <td>91</td>\n",
       "      <td>0.541424</td>\n",
       "      <td>0.889474</td>\n",
       "      <td>1</td>\n",
       "      <td>24</td>\n",
       "      <td>0.770959</td>\n",
       "      <td>0.329023</td>\n",
       "      <td>0.441936</td>\n",
       "      <td>0.394465</td>\n",
       "      <td>0.328280</td>\n",
       "      <td>Baja</td>\n",
       "    </tr>\n",
       "    <tr>\n",
       "      <th>11</th>\n",
       "      <td>228</td>\n",
       "      <td>0.437401</td>\n",
       "      <td>0.966876</td>\n",
       "      <td>94</td>\n",
       "      <td>0.543056</td>\n",
       "      <td>0.884493</td>\n",
       "      <td>1</td>\n",
       "      <td>23</td>\n",
       "      <td>0.777986</td>\n",
       "      <td>0.336522</td>\n",
       "      <td>0.441464</td>\n",
       "      <td>0.399466</td>\n",
       "      <td>0.330356</td>\n",
       "      <td>Baja</td>\n",
       "    </tr>\n",
       "    <tr>\n",
       "      <th>26</th>\n",
       "      <td>92</td>\n",
       "      <td>0.000540</td>\n",
       "      <td>0.996693</td>\n",
       "      <td>93</td>\n",
       "      <td>0.404907</td>\n",
       "      <td>0.874984</td>\n",
       "      <td>4</td>\n",
       "      <td>22</td>\n",
       "      <td>0.771132</td>\n",
       "      <td>0.334761</td>\n",
       "      <td>0.436371</td>\n",
       "      <td>0.400133</td>\n",
       "      <td>0.330747</td>\n",
       "      <td>Baja</td>\n",
       "    </tr>\n",
       "    <tr>\n",
       "      <th>15</th>\n",
       "      <td>299</td>\n",
       "      <td>0.618588</td>\n",
       "      <td>0.752290</td>\n",
       "      <td>95</td>\n",
       "      <td>0.571226</td>\n",
       "      <td>0.890595</td>\n",
       "      <td>1</td>\n",
       "      <td>21</td>\n",
       "      <td>0.772235</td>\n",
       "      <td>0.336543</td>\n",
       "      <td>0.435693</td>\n",
       "      <td>0.396465</td>\n",
       "      <td>0.331957</td>\n",
       "      <td>Baja</td>\n",
       "    </tr>\n",
       "    <tr>\n",
       "      <th>12</th>\n",
       "      <td>252</td>\n",
       "      <td>0.655179</td>\n",
       "      <td>0.558184</td>\n",
       "      <td>96</td>\n",
       "      <td>0.550643</td>\n",
       "      <td>0.876497</td>\n",
       "      <td>1</td>\n",
       "      <td>22</td>\n",
       "      <td>0.781039</td>\n",
       "      <td>0.353356</td>\n",
       "      <td>0.427683</td>\n",
       "      <td>0.404802</td>\n",
       "      <td>0.338632</td>\n",
       "      <td>Baja</td>\n",
       "    </tr>\n",
       "    <tr>\n",
       "      <th>7</th>\n",
       "      <td>31</td>\n",
       "      <td>0.023224</td>\n",
       "      <td>0.921022</td>\n",
       "      <td>100</td>\n",
       "      <td>0.462591</td>\n",
       "      <td>0.860305</td>\n",
       "      <td>3</td>\n",
       "      <td>26</td>\n",
       "      <td>0.758705</td>\n",
       "      <td>0.331626</td>\n",
       "      <td>0.427079</td>\n",
       "      <td>0.403468</td>\n",
       "      <td>0.329991</td>\n",
       "      <td>Baja</td>\n",
       "    </tr>\n",
       "    <tr>\n",
       "      <th>14</th>\n",
       "      <td>214</td>\n",
       "      <td>0.858150</td>\n",
       "      <td>0.993408</td>\n",
       "      <td>95</td>\n",
       "      <td>0.519193</td>\n",
       "      <td>0.899862</td>\n",
       "      <td>1</td>\n",
       "      <td>24</td>\n",
       "      <td>0.751558</td>\n",
       "      <td>0.333183</td>\n",
       "      <td>0.418374</td>\n",
       "      <td>0.395799</td>\n",
       "      <td>0.326843</td>\n",
       "      <td>Baja</td>\n",
       "    </tr>\n",
       "  </tbody>\n",
       "</table>\n",
       "</div>"
      ],
      "text/plain": [
       "    Trial  lambda_l1  lambda_l2  num_leaves  feature_fraction  \\\n",
       "21    142   0.008290   0.000001          95          0.571316   \n",
       "24    188   0.033626   0.000015          97          0.538843   \n",
       "18    172   0.036193   0.447290         100          0.467147   \n",
       "6     239   0.259031   0.541409          96          0.554605   \n",
       "22    181   0.109067   0.150010          92          0.512397   \n",
       "0     267   0.448530   0.012096          90          0.553562   \n",
       "4     250   0.251664   0.391355          96          0.550878   \n",
       "17    224   0.306021   0.968959          95          0.541803   \n",
       "13    128   0.000680   0.000016         100          0.582023   \n",
       "5     283   0.273931   0.647155          99          0.556563   \n",
       "28    258   0.466098   0.000308          90          0.584180   \n",
       "9     207   0.189305   0.564420          94          0.536023   \n",
       "23    246   0.483420   0.395910          92          0.552745   \n",
       "20    229   0.416026   0.985489          95          0.544330   \n",
       "1     245   0.460041   0.387293          96          0.555001   \n",
       "27    264   0.357170   0.326306          87          0.521928   \n",
       "10    235   0.666373   0.517804          95          0.524222   \n",
       "8      60   0.016825   0.076803          98          0.490082   \n",
       "2     274   0.391005   0.493789          94          0.525356   \n",
       "29    217   0.602056   0.589128          93          0.517822   \n",
       "3     134   0.001912   0.728203          97          0.563205   \n",
       "25    219   0.560896   0.927981          89          0.528709   \n",
       "19    209   0.536408   0.896496          94          0.539573   \n",
       "16    211   0.530928   0.993025          91          0.541424   \n",
       "11    228   0.437401   0.966876          94          0.543056   \n",
       "26     92   0.000540   0.996693          93          0.404907   \n",
       "15    299   0.618588   0.752290          95          0.571226   \n",
       "12    252   0.655179   0.558184          96          0.550643   \n",
       "7      31   0.023224   0.921022         100          0.462591   \n",
       "14    214   0.858150   0.993408          95          0.519193   \n",
       "\n",
       "    bagging_fraction  bagging_freq  min_child_samples  Kappa (Train)  \\\n",
       "21          0.890034             2                 25       0.896978   \n",
       "24          0.885570             1                 24       0.873078   \n",
       "18          0.888430             1                 20       0.848639   \n",
       "6           0.890022             1                 24       0.833501   \n",
       "22          0.864329             1                 27       0.842589   \n",
       "0           0.875242             1                 24       0.819594   \n",
       "4           0.883506             1                 20       0.820693   \n",
       "17          0.881680             1                 23       0.811752   \n",
       "13          0.881280             2                 30       0.819935   \n",
       "5           0.878994             1                 22       0.810294   \n",
       "28          0.884323             1                 22       0.815977   \n",
       "9           0.897432             1                 25       0.819170   \n",
       "23          0.882169             1                 21       0.798395   \n",
       "20          0.883391             1                 22       0.795641   \n",
       "1           0.891266             1                 21       0.803180   \n",
       "27          0.899486             1                 23       0.786310   \n",
       "10          0.868742             1                 24       0.786870   \n",
       "8           0.885670             5                 26       0.791864   \n",
       "2           0.891401             1                 23       0.800435   \n",
       "29          0.883584             1                 23       0.779804   \n",
       "3           0.862601             2                 20       0.792917   \n",
       "25          0.892230             1                 23       0.780949   \n",
       "19          0.892082             1                 24       0.788332   \n",
       "16          0.889474             1                 24       0.770959   \n",
       "11          0.884493             1                 23       0.777986   \n",
       "26          0.874984             4                 22       0.771132   \n",
       "15          0.890595             1                 21       0.772235   \n",
       "12          0.876497             1                 22       0.781039   \n",
       "7           0.860305             3                 26       0.758705   \n",
       "14          0.899862             1                 24       0.751558   \n",
       "\n",
       "    Kappa (Test)  Diferencia Kappa  Accuracy  Balanced Accuracy  \\\n",
       "21      0.325915          0.571063  0.393131           0.326290   \n",
       "24      0.335817          0.537261  0.407136           0.341567   \n",
       "18      0.329522          0.519117  0.394465           0.331581   \n",
       "6       0.321131          0.512370  0.396132           0.336815   \n",
       "22      0.334387          0.508203  0.400133           0.336121   \n",
       "0       0.331128          0.488466  0.394798           0.326942   \n",
       "4       0.333089          0.487604  0.395799           0.327661   \n",
       "17      0.326157          0.485596  0.397132           0.329241   \n",
       "13      0.338015          0.481921  0.398800           0.332328   \n",
       "5       0.330310          0.479984  0.400133           0.332646   \n",
       "28      0.337772          0.478206  0.398133           0.332266   \n",
       "9       0.347920          0.471249  0.400467           0.335898   \n",
       "23      0.329779          0.468616  0.395132           0.331253   \n",
       "20      0.332858          0.462782  0.398800           0.331323   \n",
       "1       0.341005          0.462175  0.404135           0.336093   \n",
       "27      0.325248          0.461062  0.400133           0.330395   \n",
       "10      0.329872          0.456997  0.403801           0.331819   \n",
       "8       0.336837          0.455027  0.397799           0.332914   \n",
       "2       0.349103          0.451332  0.403801           0.334048   \n",
       "29      0.331084          0.448720  0.399466           0.330634   \n",
       "3       0.346286          0.446631  0.398800           0.335725   \n",
       "25      0.335634          0.445315  0.396799           0.329182   \n",
       "19      0.343040          0.445293  0.400800           0.333680   \n",
       "16      0.329023          0.441936  0.394465           0.328280   \n",
       "11      0.336522          0.441464  0.399466           0.330356   \n",
       "26      0.334761          0.436371  0.400133           0.330747   \n",
       "15      0.336543          0.435693  0.396465           0.331957   \n",
       "12      0.353356          0.427683  0.404802           0.338632   \n",
       "7       0.331626          0.427079  0.403468           0.329991   \n",
       "14      0.333183          0.418374  0.395799           0.326843   \n",
       "\n",
       "   Tendencia Overfitting  \n",
       "21                 Media  \n",
       "24                  Baja  \n",
       "18                  Baja  \n",
       "6                   Baja  \n",
       "22                  Baja  \n",
       "0                   Baja  \n",
       "4                   Baja  \n",
       "17                  Baja  \n",
       "13                  Baja  \n",
       "5                   Baja  \n",
       "28                  Baja  \n",
       "9                   Baja  \n",
       "23                  Baja  \n",
       "20                  Baja  \n",
       "1                   Baja  \n",
       "27                  Baja  \n",
       "10                  Baja  \n",
       "8                   Baja  \n",
       "2                   Baja  \n",
       "29                  Baja  \n",
       "3                   Baja  \n",
       "25                  Baja  \n",
       "19                  Baja  \n",
       "16                  Baja  \n",
       "11                  Baja  \n",
       "26                  Baja  \n",
       "15                  Baja  \n",
       "12                  Baja  \n",
       "7                   Baja  \n",
       "14                  Baja  "
      ]
     },
     "metadata": {},
     "output_type": "display_data"
    }
   ],
   "source": [
    "import pandas as pd\n",
    "import numpy as np\n",
    "import lightgbm as lgb\n",
    "from sklearn.metrics import cohen_kappa_score, accuracy_score, balanced_accuracy_score\n",
    "from UA_MDM_LDI_II.tutoriales.utils import plot_confusion_matrix\n",
    "\n",
    "# Obtener todos los trials\n",
    "all_trials = study.trials\n",
    "\n",
    "# Ordenar los trials por su valor (score) en orden descendente\n",
    "sorted_trials = sorted(all_trials, key=lambda x: x.value, reverse=True)\n",
    "\n",
    "# Seleccionar los 10 mejores trials\n",
    "best_trials = sorted_trials[:30]\n",
    "\n",
    "results = []\n",
    "\n",
    "for trial in best_trials:\n",
    "    params = trial.params\n",
    "\n",
    "    # Entrenar un modelo con los hiperparámetros del trial\n",
    "    lgb_params = {\n",
    "        'objective': 'multiclass',\n",
    "        'verbosity': -1,\n",
    "        'num_class': len(y_train.unique())\n",
    "    }\n",
    "    lgb_params.update(params)\n",
    "    lgb_train_dataset = lgb.Dataset(data=X_train, label=y_train)\n",
    "    lgb_model = lgb.train(lgb_params, lgb_train_dataset)\n",
    "\n",
    "    # Evaluar el modelo en entrenamiento y test\n",
    "    y_pred_train = lgb_model.predict(X_train).argmax(axis=1)\n",
    "    y_pred_test = lgb_model.predict(X_test).argmax(axis=1)\n",
    "\n",
    "    kappa_train = cohen_kappa_score(y_train, y_pred_train, weights='quadratic')\n",
    "    kappa_test = cohen_kappa_score(y_test, y_pred_test, weights='quadratic')\n",
    "\n",
    "    # Calcular la diferencia entre Kappa de entrenamiento y test\n",
    "    kappa_diff = abs(kappa_train - kappa_test)\n",
    "\n",
    "    # Evaluar la tendencia al overfitting\n",
    "    overfitting_tendency = 'Baja'\n",
    "    if params['lambda_l1'] < 1e-5 or params['lambda_l2'] < 1e-5:\n",
    "        overfitting_tendency = 'Media'\n",
    "    if params['num_leaves'] > 100 or (params['feature_fraction'] > 0.8 and params['bagging_fraction'] > 0.8) or params['min_child_samples'] < 20:\n",
    "        overfitting_tendency = 'Alta'\n",
    "\n",
    "    # Calcular otras métricas\n",
    "    accuracy = accuracy_score(y_test, y_pred_test)\n",
    "    balanced_accuracy = balanced_accuracy_score(y_test, y_pred_test)\n",
    "\n",
    "    # Generar la matriz de confusión\n",
    "    #cm = plot_confusion_matrix(y_test, y_pred_test)\n",
    "    #display(plot_confusion_matrix(y_test, y_pred))\n",
    "\n",
    "\n",
    "    # Agregar resultados a la lista\n",
    "    results.append({\n",
    "        'Trial': trial.number,\n",
    "        'lambda_l1': params['lambda_l1'],\n",
    "        'lambda_l2': params['lambda_l2'],\n",
    "        'num_leaves': params['num_leaves'],\n",
    "        'feature_fraction': params['feature_fraction'],\n",
    "        'bagging_fraction': params['bagging_fraction'],\n",
    "        'bagging_freq': params['bagging_freq'],\n",
    "        'min_child_samples': params['min_child_samples'],\n",
    "        'Kappa (Train)': kappa_train,\n",
    "        'Kappa (Test)': kappa_test,\n",
    "        'Diferencia Kappa': kappa_diff,\n",
    "        'Accuracy': accuracy,\n",
    "        'Balanced Accuracy': balanced_accuracy,\n",
    "        'Tendencia Overfitting': overfitting_tendency,\n",
    "        #'Confusion Matrix': cm\n",
    "    })\n",
    "\n",
    "# Crear un DataFrame con los resultados\n",
    "results_df = pd.DataFrame(results)\n",
    "\n",
    "# Ordenar por Diferencia Kappa (de mayor a menor)\n",
    "results_df = results_df.sort_values('Diferencia Kappa', ascending=False)\n",
    "\n",
    "# Mostrar la tabla de resultados\n",
    "display(results_df)\n"
   ]
  },
  {
   "cell_type": "code",
   "execution_count": 22,
   "metadata": {},
   "outputs": [
    {
     "name": "stdout",
     "output_type": "stream",
     "text": [
      "Trial 203:\n",
      "  Hiperparámetros: {'lambda_l1': 0.07815811337683409, 'lambda_l2': 0.02805891856788267, 'num_leaves': 29, 'feature_fraction': 0.7359010762780872, 'bagging_fraction': 0.9778227566654565, 'bagging_freq': 4, 'min_child_samples': 12}\n",
      "  Kappa (Train): 0.6835\n",
      "  Kappa (Test): 0.3256\n",
      "  Diferencia Kappa: 0.3579\n",
      "Trial 256:\n",
      "  Hiperparámetros: {'lambda_l1': 0.0640082876770979, 'lambda_l2': 0.07140802074038538, 'num_leaves': 32, 'feature_fraction': 0.7758963219993699, 'bagging_fraction': 0.9311554596189173, 'bagging_freq': 4, 'min_child_samples': 10}\n",
      "  Kappa (Train): 0.6986\n",
      "  Kappa (Test): 0.3315\n",
      "  Diferencia Kappa: 0.3672\n",
      "Trial 228:\n",
      "  Hiperparámetros: {'lambda_l1': 0.07082892196194938, 'lambda_l2': 0.03433758834569192, 'num_leaves': 65, 'feature_fraction': 0.7857589385657269, 'bagging_fraction': 0.8868321829095706, 'bagging_freq': 3, 'min_child_samples': 11}\n",
      "  Kappa (Train): 0.8745\n",
      "  Kappa (Test): 0.3295\n",
      "  Diferencia Kappa: 0.5451\n",
      "Trial 275:\n",
      "  Hiperparámetros: {'lambda_l1': 0.0802431326507626, 'lambda_l2': 0.018526936927393958, 'num_leaves': 104, 'feature_fraction': 0.7618509325818201, 'bagging_fraction': 0.9264190070942891, 'bagging_freq': 4, 'min_child_samples': 14}\n",
      "  Kappa (Train): 0.9505\n",
      "  Kappa (Test): 0.3342\n",
      "  Diferencia Kappa: 0.6164\n",
      "Trial 148:\n",
      "  Hiperparámetros: {'lambda_l1': 0.0685310223549705, 'lambda_l2': 0.0001487781959806195, 'num_leaves': 70, 'feature_fraction': 0.5820728475662655, 'bagging_fraction': 0.8015520659254093, 'bagging_freq': 3, 'min_child_samples': 13}\n",
      "  Kappa (Train): 0.8718\n",
      "  Kappa (Test): 0.3333\n",
      "  Diferencia Kappa: 0.5385\n",
      "Trial 121:\n",
      "  Hiperparámetros: {'lambda_l1': 0.05222376305645685, 'lambda_l2': 0.004986509865138187, 'num_leaves': 45, 'feature_fraction': 0.620387767807133, 'bagging_fraction': 0.9718944222723083, 'bagging_freq': 4, 'min_child_samples': 12}\n",
      "  Kappa (Train): 0.7750\n",
      "  Kappa (Test): 0.3381\n",
      "  Diferencia Kappa: 0.4369\n",
      "Trial 38:\n",
      "  Hiperparámetros: {'lambda_l1': 1.1682734336751596e-06, 'lambda_l2': 0.002996421785260111, 'num_leaves': 39, 'feature_fraction': 0.7471776559673189, 'bagging_fraction': 0.7575246590605309, 'bagging_freq': 3, 'min_child_samples': 11}\n",
      "  Kappa (Train): 0.7518\n",
      "  Kappa (Test): 0.3198\n",
      "  Diferencia Kappa: 0.4320\n",
      "Trial 223:\n",
      "  Hiperparámetros: {'lambda_l1': 0.05630365738020684, 'lambda_l2': 0.011237208002735267, 'num_leaves': 67, 'feature_fraction': 0.7108258640134846, 'bagging_fraction': 0.9193537482162114, 'bagging_freq': 3, 'min_child_samples': 13}\n",
      "  Kappa (Train): 0.8692\n",
      "  Kappa (Test): 0.3358\n",
      "  Diferencia Kappa: 0.5334\n",
      "Trial 265:\n",
      "  Hiperparámetros: {'lambda_l1': 0.06919971318000344, 'lambda_l2': 0.021430485907630133, 'num_leaves': 106, 'feature_fraction': 0.7896484789161731, 'bagging_fraction': 0.9129466341274062, 'bagging_freq': 4, 'min_child_samples': 10}\n",
      "  Kappa (Train): 0.9592\n",
      "  Kappa (Test): 0.3358\n",
      "  Diferencia Kappa: 0.6234\n",
      "Trial 263:\n",
      "  Hiperparámetros: {'lambda_l1': 0.06313914774975737, 'lambda_l2': 0.018503713383713104, 'num_leaves': 108, 'feature_fraction': 0.7783474170659614, 'bagging_fraction': 0.9198455946419198, 'bagging_freq': 4, 'min_child_samples': 12}\n",
      "  Kappa (Train): 0.9556\n",
      "  Kappa (Test): 0.3228\n",
      "  Diferencia Kappa: 0.6328\n",
      "Trial 178:\n",
      "  Hiperparámetros: {'lambda_l1': 0.05486299222944245, 'lambda_l2': 0.02430829035018334, 'num_leaves': 80, 'feature_fraction': 0.7454599341363161, 'bagging_fraction': 0.9135834616983929, 'bagging_freq': 3, 'min_child_samples': 12}\n",
      "  Kappa (Train): 0.9151\n",
      "  Kappa (Test): 0.3325\n",
      "  Diferencia Kappa: 0.5826\n",
      "Trial 231:\n",
      "  Hiperparámetros: {'lambda_l1': 0.06589092434958319, 'lambda_l2': 0.03403898574647945, 'num_leaves': 70, 'feature_fraction': 0.7674548876593763, 'bagging_fraction': 0.878670511028014, 'bagging_freq': 3, 'min_child_samples': 14}\n",
      "  Kappa (Train): 0.8811\n",
      "  Kappa (Test): 0.3404\n",
      "  Diferencia Kappa: 0.5407\n",
      "Trial 75:\n",
      "  Hiperparámetros: {'lambda_l1': 0.04661555108054512, 'lambda_l2': 0.006637140259664835, 'num_leaves': 50, 'feature_fraction': 0.7052248465834482, 'bagging_fraction': 0.8054274480465259, 'bagging_freq': 4, 'min_child_samples': 12}\n",
      "  Kappa (Train): 0.8049\n",
      "  Kappa (Test): 0.3402\n",
      "  Diferencia Kappa: 0.4647\n",
      "Trial 250:\n",
      "  Hiperparámetros: {'lambda_l1': 0.06543603109028268, 'lambda_l2': 0.03671934265021047, 'num_leaves': 32, 'feature_fraction': 0.7636175312554173, 'bagging_fraction': 0.9288225547070165, 'bagging_freq': 4, 'min_child_samples': 10}\n",
      "  Kappa (Train): 0.7127\n",
      "  Kappa (Test): 0.3303\n",
      "  Diferencia Kappa: 0.3824\n",
      "Trial 151:\n",
      "  Hiperparámetros: {'lambda_l1': 0.06037165284901745, 'lambda_l2': 0.002524350263135243, 'num_leaves': 71, 'feature_fraction': 0.6437109314143263, 'bagging_fraction': 0.7963868710476328, 'bagging_freq': 3, 'min_child_samples': 14}\n",
      "  Kappa (Train): 0.8757\n",
      "  Kappa (Test): 0.3470\n",
      "  Diferencia Kappa: 0.5287\n",
      "Trial 182:\n",
      "  Hiperparámetros: {'lambda_l1': 0.06655683720571322, 'lambda_l2': 0.02145691030057287, 'num_leaves': 82, 'feature_fraction': 0.7112265025429474, 'bagging_fraction': 0.9267070616397406, 'bagging_freq': 3, 'min_child_samples': 14}\n",
      "  Kappa (Train): 0.9046\n",
      "  Kappa (Test): 0.3356\n",
      "  Diferencia Kappa: 0.5690\n",
      "Trial 200:\n",
      "  Hiperparámetros: {'lambda_l1': 0.08332372021099985, 'lambda_l2': 0.01746536902758081, 'num_leaves': 31, 'feature_fraction': 0.752870616650692, 'bagging_fraction': 0.9460237341987485, 'bagging_freq': 4, 'min_child_samples': 20}\n",
      "  Kappa (Train): 0.6772\n",
      "  Kappa (Test): 0.3402\n",
      "  Diferencia Kappa: 0.3370\n",
      "Trial 184:\n",
      "  Hiperparámetros: {'lambda_l1': 3.930897917208124e-06, 'lambda_l2': 0.021683754920079592, 'num_leaves': 83, 'feature_fraction': 0.7054512729949083, 'bagging_fraction': 0.9446573461656753, 'bagging_freq': 3, 'min_child_samples': 12}\n",
      "  Kappa (Train): 0.9223\n",
      "  Kappa (Test): 0.3274\n",
      "  Diferencia Kappa: 0.5950\n",
      "Trial 110:\n",
      "  Hiperparámetros: {'lambda_l1': 0.0485263425663487, 'lambda_l2': 0.0018797472609300974, 'num_leaves': 106, 'feature_fraction': 0.7677460719172988, 'bagging_fraction': 0.8621629110731039, 'bagging_freq': 4, 'min_child_samples': 17}\n",
      "  Kappa (Train): 0.9570\n",
      "  Kappa (Test): 0.3218\n",
      "  Diferencia Kappa: 0.6352\n",
      "Trial 138:\n",
      "  Hiperparámetros: {'lambda_l1': 0.02908709470304981, 'lambda_l2': 0.004610980242180865, 'num_leaves': 81, 'feature_fraction': 0.6249083210094918, 'bagging_fraction': 0.7858251115841031, 'bagging_freq': 4, 'min_child_samples': 18}\n",
      "  Kappa (Train): 0.8914\n",
      "  Kappa (Test): 0.3302\n",
      "  Diferencia Kappa: 0.5612\n",
      "Trial 233:\n",
      "  Hiperparámetros: {'lambda_l1': 1.7446342896836486e-05, 'lambda_l2': 0.023607558541481295, 'num_leaves': 69, 'feature_fraction': 0.8084035415673281, 'bagging_fraction': 0.8905058784044769, 'bagging_freq': 3, 'min_child_samples': 11}\n",
      "  Kappa (Train): 0.8861\n",
      "  Kappa (Test): 0.3284\n",
      "  Diferencia Kappa: 0.5577\n",
      "Trial 113:\n",
      "  Hiperparámetros: {'lambda_l1': 0.07325823603242466, 'lambda_l2': 0.0021474436336984307, 'num_leaves': 93, 'feature_fraction': 0.7994355335850333, 'bagging_fraction': 0.881616410566497, 'bagging_freq': 5, 'min_child_samples': 13}\n",
      "  Kappa (Train): 0.9334\n",
      "  Kappa (Test): 0.3453\n",
      "  Diferencia Kappa: 0.5881\n",
      "Trial 267:\n",
      "  Hiperparámetros: {'lambda_l1': 0.049224374961155726, 'lambda_l2': 0.019676814261239028, 'num_leaves': 111, 'feature_fraction': 0.7861674613654833, 'bagging_fraction': 0.909385237092747, 'bagging_freq': 4, 'min_child_samples': 11}\n",
      "  Kappa (Train): 0.9652\n",
      "  Kappa (Test): 0.3493\n",
      "  Diferencia Kappa: 0.6159\n",
      "Trial 175:\n",
      "  Hiperparámetros: {'lambda_l1': 0.06042653004724767, 'lambda_l2': 0.021557774187026174, 'num_leaves': 106, 'feature_fraction': 0.729600629686974, 'bagging_fraction': 0.8857697147680925, 'bagging_freq': 5, 'min_child_samples': 15}\n",
      "  Kappa (Train): 0.9475\n",
      "  Kappa (Test): 0.3329\n",
      "  Diferencia Kappa: 0.6147\n",
      "Trial 273:\n",
      "  Hiperparámetros: {'lambda_l1': 0.06404883111225287, 'lambda_l2': 0.00023563255401634443, 'num_leaves': 104, 'feature_fraction': 0.7681474686593593, 'bagging_fraction': 0.9268529211066232, 'bagging_freq': 4, 'min_child_samples': 13}\n",
      "  Kappa (Train): 0.9504\n",
      "  Kappa (Test): 0.3371\n",
      "  Diferencia Kappa: 0.6132\n",
      "Trial 252:\n",
      "  Hiperparámetros: {'lambda_l1': 0.061511798692273974, 'lambda_l2': 0.033538241648516036, 'num_leaves': 38, 'feature_fraction': 0.7675794141509341, 'bagging_fraction': 0.9436947300697611, 'bagging_freq': 4, 'min_child_samples': 10}\n",
      "  Kappa (Train): 0.7470\n",
      "  Kappa (Test): 0.3414\n",
      "  Diferencia Kappa: 0.4056\n",
      "Trial 209:\n",
      "  Hiperparámetros: {'lambda_l1': 0.04970482651097797, 'lambda_l2': 0.03272756384847697, 'num_leaves': 28, 'feature_fraction': 0.7725067688818844, 'bagging_fraction': 0.9549392824339638, 'bagging_freq': 4, 'min_child_samples': 13}\n",
      "  Kappa (Train): 0.6791\n",
      "  Kappa (Test): 0.3479\n",
      "  Diferencia Kappa: 0.3311\n",
      "Trial 282:\n",
      "  Hiperparámetros: {'lambda_l1': 0.07791302294188328, 'lambda_l2': 0.00019613929362112106, 'num_leaves': 116, 'feature_fraction': 0.8237298609038005, 'bagging_fraction': 0.9289941423243353, 'bagging_freq': 1, 'min_child_samples': 12}\n",
      "  Kappa (Train): 0.9743\n",
      "  Kappa (Test): 0.3339\n",
      "  Diferencia Kappa: 0.6404\n",
      "Trial 55:\n",
      "  Hiperparámetros: {'lambda_l1': 0.02540639824133136, 'lambda_l2': 0.005295818027747343, 'num_leaves': 91, 'feature_fraction': 0.7988209291498317, 'bagging_fraction': 0.9463590031504423, 'bagging_freq': 4, 'min_child_samples': 12}\n",
      "  Kappa (Train): 0.9346\n",
      "  Kappa (Test): 0.3418\n",
      "  Diferencia Kappa: 0.5928\n",
      "Trial 71:\n",
      "  Hiperparámetros: {'lambda_l1': 0.059412974724635866, 'lambda_l2': 0.03300394217656272, 'num_leaves': 69, 'feature_fraction': 0.6741961265119572, 'bagging_fraction': 0.8755800813289429, 'bagging_freq': 3, 'min_child_samples': 42}\n",
      "  Kappa (Train): 0.8371\n",
      "  Kappa (Test): 0.3144\n",
      "  Diferencia Kappa: 0.5227\n"
     ]
    }
   ],
   "source": [
    "# Obtener todos los trials\n",
    "all_trials = study.trials\n",
    "\n",
    "# Ordenar los trials por su valor (score) en orden descendente\n",
    "sorted_trials = sorted(all_trials, key=lambda x: x.value, reverse=True)\n",
    "\n",
    "# Seleccionar los 10 mejores trials\n",
    "best_trials = sorted_trials[:30]\n",
    "\n",
    "# Análisis de los 10 mejores trials\n",
    "for trial in best_trials:\n",
    "    # Extraer los hiperparámetros del trial\n",
    "    params = trial.params\n",
    "\n",
    "    # Entrenar un modelo con los hiperparámetros del trial\n",
    "    lgb_params = {\n",
    "        'objective': 'multiclass',\n",
    "        'verbosity': -1,\n",
    "        'num_class': len(y_train.unique())\n",
    "    }\n",
    "    lgb_params.update(params)\n",
    "    lgb_train_dataset = lgb.Dataset(data=X_train, label=y_train)\n",
    "    lgb_model = lgb.train(lgb_params, lgb_train_dataset)\n",
    "\n",
    "    # Evaluar el modelo en entrenamiento y test\n",
    "    y_pred_train = lgb_model.predict(X_train).argmax(axis=1)\n",
    "    y_pred_test = lgb_model.predict(X_test).argmax(axis=1)\n",
    "\n",
    "    kappa_train = cohen_kappa_score(y_train, y_pred_train, weights='quadratic')\n",
    "    kappa_test = cohen_kappa_score(y_test, y_pred_test, weights='quadratic')\n",
    "\n",
    "    # Calcular la diferencia entre Kappa de entrenamiento y test\n",
    "    kappa_diff = abs(kappa_train - kappa_test)\n",
    "\n",
    "    # Imprimir resultados\n",
    "    print(f\"Trial {trial.number}:\")\n",
    "    print(f\"  Hiperparámetros: {params}\")\n",
    "    print(f\"  Kappa (Train): {kappa_train:.4f}\")\n",
    "    print(f\"  Kappa (Test): {kappa_test:.4f}\")\n",
    "    print(f\"  Diferencia Kappa: {kappa_diff:.4f}\")\n"
   ]
  },
  {
   "cell_type": "markdown",
   "metadata": {},
   "source": [
    "# Temas a tener en cuenta\n",
    "## Hemos trabajado con solo 1 semilla, establecer una estrategia para el futuro donde se realice un ensemble con 5 semillas al menos"
   ]
  },
  {
   "cell_type": "markdown",
   "metadata": {},
   "source": [
    "Fijar una semilla (`random_state`) en `train_test_split` garantiza la reproducibilidad, pero puede llevar a resultados sesgados si la división aleatoria inicial es particularmente favorable o desfavorable para el modelo. \n",
    "\n",
    "Realizar un ensemble con varias semillas, permitiría **mitigar el impacto de la aleatoriedad** en la división del dataset y obtener una estimación más robusta del rendimiento del modelo.\n",
    "\n",
    "**Beneficios de usar un ensemble de semillas:**\n",
    "\n",
    "* **Reduce la varianza:**  Al promediar los resultados de varios modelos entrenados con diferentes semillas, se reduce la varianza en las métricas de evaluación, obteniendo una estimación más estable del rendimiento real.\n",
    "* **Disminuye el riesgo de overfitting a la división del dataset:**  Si una semilla específica genera una división \"fácil\" para el modelo, el ensemble ayudará a compensar este efecto al incluir resultados de otras divisiones.\n",
    "* **Aumenta la confianza en los resultados:**  Si los resultados son consistentes entre las diferentes semillas, tendrá mayor confianza en que el modelo realmente está aprendiendo patrones relevantes en los datos y no solo aprovechando una división favorable.\n",
    "\n",
    "**Implementación:**\n",
    "\n",
    "1. **Bucle sobre las semillas:**  Crear un bucle que itere sobre un conjunto de semillas (por ejemplo, 5 semillas diferentes).\n",
    "2. **División del dataset:**  Dentro del bucle, realizar la división del dataset con `train_test_split` utilizando la semilla actual.\n",
    "3. **Entrenamiento y evaluación:**  Entrenar y evaluar el modelo con la división actual del dataset.\n",
    "4. **Almacenar resultados:**  Guardar las métricas de evaluación (Kappa, precisión por clase, etc.) para cada semilla.\n",
    "5. **Promediar resultados:**  Al final del bucle, calcular el promedio de las métricas de evaluación para obtener una estimación del rendimiento del modelo con el ensemble de semillas.\n",
    "\n",
    "**Consideraciones:**\n",
    "\n",
    "* **Número de semillas:**  5 semillas es un buen punto de partida, pero es posible usar más si se necesita una estimación aún más robusta.\n",
    "* **Computacionalmente costoso:**  Entrenar varios modelos puede ser computacionalmente costoso.  Ajustar el número de semillas en función de los recursos disponibles.\n",
    "* **Análisis de la varianza:**  Es importante analizar la varianza de los resultados entre las diferentes semillas.  Si la varianza es alta, podría indicar que el modelo es sensible a la división del dataset o que se necesitan más semillas para obtener una estimación estable.\n",
    "\n",
    " \n",
    "\n"
   ]
  }
 ],
 "metadata": {
  "kernelspec": {
   "display_name": "Python 3",
   "language": "python",
   "name": "python3"
  },
  "language_info": {
   "codemirror_mode": {
    "name": "ipython",
    "version": 3
   },
   "file_extension": ".py",
   "mimetype": "text/x-python",
   "name": "python",
   "nbconvert_exporter": "python",
   "pygments_lexer": "ipython3",
   "version": "3.12.4"
  }
 },
 "nbformat": 4,
 "nbformat_minor": 2
}
