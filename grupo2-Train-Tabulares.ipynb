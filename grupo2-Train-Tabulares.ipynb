{
 "cells": [
  {
   "cell_type": "markdown",
   "metadata": {},
   "source": [
    "# Entrenamiento del modelo \n",
    "\n",
    "# Grupo 2"
   ]
  },
  {
   "cell_type": "markdown",
   "metadata": {},
   "source": [
    "# usamos el dataset resultante del proceso de FE"
   ]
  },
  {
   "cell_type": "code",
   "execution_count": 12,
   "metadata": {},
   "outputs": [
    {
     "name": "stdout",
     "output_type": "stream",
     "text": [
      "/app\n"
     ]
    },
    {
     "name": "stderr",
     "output_type": "stream",
     "text": [
      "/usr/local/lib/python3.12/site-packages/IPython/core/magics/osm.py:417: UserWarning:\n",
      "\n",
      "This is now an optional IPython functionality, setting dhist requires you to install the `pickleshare` library.\n",
      "\n"
     ]
    }
   ],
   "source": [
    "%cd /app"
   ]
  },
  {
   "cell_type": "code",
   "execution_count": 13,
   "metadata": {},
   "outputs": [],
   "source": [
    "import os\n",
    "import numpy as np\n",
    "import pandas as pd\n",
    "import lightgbm as lgb\n",
    "import optuna\n",
    "from optuna.artifacts import FileSystemArtifactStore, upload_artifact\n",
    "from sklearn.model_selection import train_test_split, StratifiedKFold\n",
    "from sklearn.metrics import cohen_kappa_score, accuracy_score, balanced_accuracy_score, classification_report\n",
    "from sklearn.utils import shuffle\n",
    "from joblib import dump\n",
    "import matplotlib.pyplot as plt\n",
    "from utils import plot_confusion_matrix\n",
    "from sklearn.preprocessing import LabelEncoder\n",
    "\n"
   ]
  },
  {
   "cell_type": "code",
   "execution_count": 14,
   "metadata": {},
   "outputs": [],
   "source": [
    "# Paths\n",
    "BASE_DIR = './'\n",
    "PATH_TO_TRAIN_FE_TEXT_LLM = os.path.join(BASE_DIR, \"input/petfinder-adoption-prediction/train/train_fe_text_llm.csv\")\n",
    "PATH_TO_MODELS = os.path.join(BASE_DIR, \"UA_MDM_LDI_II/work/models\")\n",
    "PATH_TO_TEMP_FILES = os.path.join(BASE_DIR, \"UA_MDM_LDI_II/work/optuna_temp_artifacts\")\n",
    "PATH_TO_OPTUNA_ARTIFACTS = os.path.join(BASE_DIR, \"UA_MDM_LDI_II/work/optuna_artifacts\")\n",
    "\n",
    "SEED = 42\n",
    "TEST_SIZE = 0.2\n",
    "\n"
   ]
  },
  {
   "cell_type": "code",
   "execution_count": 15,
   "metadata": {},
   "outputs": [],
   "source": [
    "# Datos Tabulares\n",
    "dataset = pd.read_csv(PATH_TO_TRAIN_FE_TEXT_LLM)\n",
    "\n",
    "# Convertir columnas de objetos a categóricas o numéricas\n",
    "label_encoders = {}\n",
    "categorical_columns = ['SentimentLanguage', 'coherence', 'friendly_with_children', 'friendly_with_other_pets', 'is_calm']\n",
    "\n",
    "for col in categorical_columns:\n",
    "    le = LabelEncoder()\n",
    "    dataset[col] = le.fit_transform(dataset[col].astype(str))\n",
    "    label_encoders[col] = le\n",
    "\n",
    "# Split del dataset\n",
    "train, test = train_test_split(dataset, test_size=TEST_SIZE, random_state=SEED, stratify=dataset.AdoptionSpeed)\n",
    "\n",
    "# Seleccionar características y etiqueta\n",
    "features = ['Type', 'Age', 'Breed1', 'Breed2', 'Gender', 'Color1', 'Color2', 'Color3', 'MaturitySize', \n",
    "            'FurLength', 'Vaccinated', 'Dewormed', 'Sterilized', 'Health', 'Quantity', 'Fee', 'State', \n",
    "            'VideoAmt', 'PhotoAmt', 'IsPureBreed', 'AgeInYears', 'Healthy', 'IsFree', 'Breed1_Rarity', \n",
    "            'StatePopulation', 'IsPeninsular', 'SentimentScore', 'SentimentMagnitude', 'SentimentLanguage'] + \\\n",
    "           [col for col in dataset.columns if col.startswith('contains_')] + \\\n",
    "           ['coherence', 'requires_running_space', 'friendly_with_children', 'friendly_with_other_pets', \n",
    "            'is_calm', 'is_energetic']\n",
    "\n",
    "label = 'AdoptionSpeed'\n",
    "\n",
    "X_train = train[features]\n",
    "y_train = train[label]\n",
    "\n",
    "X_test = test[features]\n",
    "y_test = test[label]\n",
    "\n"
   ]
  },
  {
   "cell_type": "code",
   "execution_count": 16,
   "metadata": {},
   "outputs": [
    {
     "name": "stdout",
     "output_type": "stream",
     "text": [
      "[LightGBM] [Info] Auto-choosing row-wise multi-threading, the overhead of testing was 0.110320 seconds.\n",
      "You can set `force_row_wise=true` to remove the overhead.\n",
      "And if memory is not enough, you can set `force_col_wise=true`.\n",
      "[LightGBM] [Info] Total Bins 796\n",
      "[LightGBM] [Info] Number of data points in the train set: 11994, number of used features: 55\n",
      "[LightGBM] [Info] Start training from score -3.599148\n",
      "[LightGBM] [Info] Start training from score -1.579379\n",
      "[LightGBM] [Info] Start training from score -1.311924\n",
      "[LightGBM] [Info] Start training from score -1.526206\n",
      "[LightGBM] [Info] Start training from score -1.273359\n",
      "Cohen Kappa Score Inicial: 0.3145015255100011\n"
     ]
    },
    {
     "data": {
      "application/vnd.plotly.v1+json": {
       "config": {
        "plotlyServerURL": "https://plot.ly"
       },
       "data": [
        {
         "type": "heatmap",
         "x": [
          0,
          1,
          2,
          3,
          4
         ],
         "y": [
          0,
          1,
          2,
          3,
          4
         ],
         "z": [
          [
           10.975609756097562,
           24.390243902439025,
           30.48780487804878,
           12.195121951219512,
           21.951219512195124
          ],
          [
           0.9708737864077669,
           29.61165048543689,
           38.673139158576056,
           10.841423948220065,
           19.902912621359224
          ],
          [
           0.12391573729863693,
           21.065675340768276,
           41.63568773234201,
           11.895910780669144,
           25.27881040892193
          ],
          [
           0.4601226993865031,
           16.56441717791411,
           33.43558282208589,
           21.625766871165645,
           27.914110429447852
          ],
          [
           0.5952380952380952,
           10.595238095238095,
           20,
           6.785714285714286,
           62.023809523809526
          ]
         ]
        }
       ],
       "layout": {
        "annotations": [
         {
          "font": {
           "color": "white"
          },
          "showarrow": false,
          "text": "11.0 - 9",
          "x": 0,
          "xref": "x",
          "y": 0,
          "yref": "y"
         },
         {
          "font": {
           "color": "white"
          },
          "showarrow": false,
          "text": "24.4 - 20",
          "x": 1,
          "xref": "x",
          "y": 0,
          "yref": "y"
         },
         {
          "font": {
           "color": "white"
          },
          "showarrow": false,
          "text": "30.5 - 25",
          "x": 2,
          "xref": "x",
          "y": 0,
          "yref": "y"
         },
         {
          "font": {
           "color": "white"
          },
          "showarrow": false,
          "text": "12.2 - 10",
          "x": 3,
          "xref": "x",
          "y": 0,
          "yref": "y"
         },
         {
          "font": {
           "color": "white"
          },
          "showarrow": false,
          "text": "22.0 - 18",
          "x": 4,
          "xref": "x",
          "y": 0,
          "yref": "y"
         },
         {
          "font": {
           "color": "white"
          },
          "showarrow": false,
          "text": "1.0 - 6",
          "x": 0,
          "xref": "x",
          "y": 1,
          "yref": "y"
         },
         {
          "font": {
           "color": "white"
          },
          "showarrow": false,
          "text": "29.6 - 183",
          "x": 1,
          "xref": "x",
          "y": 1,
          "yref": "y"
         },
         {
          "font": {
           "color": "white"
          },
          "showarrow": false,
          "text": "38.7 - 239",
          "x": 2,
          "xref": "x",
          "y": 1,
          "yref": "y"
         },
         {
          "font": {
           "color": "white"
          },
          "showarrow": false,
          "text": "10.8 - 67",
          "x": 3,
          "xref": "x",
          "y": 1,
          "yref": "y"
         },
         {
          "font": {
           "color": "white"
          },
          "showarrow": false,
          "text": "19.9 - 123",
          "x": 4,
          "xref": "x",
          "y": 1,
          "yref": "y"
         },
         {
          "font": {
           "color": "white"
          },
          "showarrow": false,
          "text": "0.1 - 1",
          "x": 0,
          "xref": "x",
          "y": 2,
          "yref": "y"
         },
         {
          "font": {
           "color": "white"
          },
          "showarrow": false,
          "text": "21.1 - 170",
          "x": 1,
          "xref": "x",
          "y": 2,
          "yref": "y"
         },
         {
          "font": {
           "color": "white"
          },
          "showarrow": false,
          "text": "41.6 - 336",
          "x": 2,
          "xref": "x",
          "y": 2,
          "yref": "y"
         },
         {
          "font": {
           "color": "white"
          },
          "showarrow": false,
          "text": "11.9 - 96",
          "x": 3,
          "xref": "x",
          "y": 2,
          "yref": "y"
         },
         {
          "font": {
           "color": "white"
          },
          "showarrow": false,
          "text": "25.3 - 204",
          "x": 4,
          "xref": "x",
          "y": 2,
          "yref": "y"
         },
         {
          "font": {
           "color": "white"
          },
          "showarrow": false,
          "text": "0.5 - 3",
          "x": 0,
          "xref": "x",
          "y": 3,
          "yref": "y"
         },
         {
          "font": {
           "color": "white"
          },
          "showarrow": false,
          "text": "16.6 - 108",
          "x": 1,
          "xref": "x",
          "y": 3,
          "yref": "y"
         },
         {
          "font": {
           "color": "white"
          },
          "showarrow": false,
          "text": "33.4 - 218",
          "x": 2,
          "xref": "x",
          "y": 3,
          "yref": "y"
         },
         {
          "font": {
           "color": "white"
          },
          "showarrow": false,
          "text": "21.6 - 141",
          "x": 3,
          "xref": "x",
          "y": 3,
          "yref": "y"
         },
         {
          "font": {
           "color": "white"
          },
          "showarrow": false,
          "text": "27.9 - 182",
          "x": 4,
          "xref": "x",
          "y": 3,
          "yref": "y"
         },
         {
          "font": {
           "color": "white"
          },
          "showarrow": false,
          "text": "0.6 - 5",
          "x": 0,
          "xref": "x",
          "y": 4,
          "yref": "y"
         },
         {
          "font": {
           "color": "white"
          },
          "showarrow": false,
          "text": "10.6 - 89",
          "x": 1,
          "xref": "x",
          "y": 4,
          "yref": "y"
         },
         {
          "font": {
           "color": "white"
          },
          "showarrow": false,
          "text": "20.0 - 168",
          "x": 2,
          "xref": "x",
          "y": 4,
          "yref": "y"
         },
         {
          "font": {
           "color": "white"
          },
          "showarrow": false,
          "text": "6.8 - 57",
          "x": 3,
          "xref": "x",
          "y": 4,
          "yref": "y"
         },
         {
          "font": {
           "color": "white"
          },
          "showarrow": false,
          "text": "62.0 - 521",
          "x": 4,
          "xref": "x",
          "y": 4,
          "yref": "y"
         }
        ],
        "height": 800,
        "template": {
         "data": {
          "bar": [
           {
            "error_x": {
             "color": "#2a3f5f"
            },
            "error_y": {
             "color": "#2a3f5f"
            },
            "marker": {
             "line": {
              "color": "#E5ECF6",
              "width": 0.5
             },
             "pattern": {
              "fillmode": "overlay",
              "size": 10,
              "solidity": 0.2
             }
            },
            "type": "bar"
           }
          ],
          "barpolar": [
           {
            "marker": {
             "line": {
              "color": "#E5ECF6",
              "width": 0.5
             },
             "pattern": {
              "fillmode": "overlay",
              "size": 10,
              "solidity": 0.2
             }
            },
            "type": "barpolar"
           }
          ],
          "carpet": [
           {
            "aaxis": {
             "endlinecolor": "#2a3f5f",
             "gridcolor": "white",
             "linecolor": "white",
             "minorgridcolor": "white",
             "startlinecolor": "#2a3f5f"
            },
            "baxis": {
             "endlinecolor": "#2a3f5f",
             "gridcolor": "white",
             "linecolor": "white",
             "minorgridcolor": "white",
             "startlinecolor": "#2a3f5f"
            },
            "type": "carpet"
           }
          ],
          "choropleth": [
           {
            "colorbar": {
             "outlinewidth": 0,
             "ticks": ""
            },
            "type": "choropleth"
           }
          ],
          "contour": [
           {
            "colorbar": {
             "outlinewidth": 0,
             "ticks": ""
            },
            "colorscale": [
             [
              0,
              "#0d0887"
             ],
             [
              0.1111111111111111,
              "#46039f"
             ],
             [
              0.2222222222222222,
              "#7201a8"
             ],
             [
              0.3333333333333333,
              "#9c179e"
             ],
             [
              0.4444444444444444,
              "#bd3786"
             ],
             [
              0.5555555555555556,
              "#d8576b"
             ],
             [
              0.6666666666666666,
              "#ed7953"
             ],
             [
              0.7777777777777778,
              "#fb9f3a"
             ],
             [
              0.8888888888888888,
              "#fdca26"
             ],
             [
              1,
              "#f0f921"
             ]
            ],
            "type": "contour"
           }
          ],
          "contourcarpet": [
           {
            "colorbar": {
             "outlinewidth": 0,
             "ticks": ""
            },
            "type": "contourcarpet"
           }
          ],
          "heatmap": [
           {
            "colorbar": {
             "outlinewidth": 0,
             "ticks": ""
            },
            "colorscale": [
             [
              0,
              "#0d0887"
             ],
             [
              0.1111111111111111,
              "#46039f"
             ],
             [
              0.2222222222222222,
              "#7201a8"
             ],
             [
              0.3333333333333333,
              "#9c179e"
             ],
             [
              0.4444444444444444,
              "#bd3786"
             ],
             [
              0.5555555555555556,
              "#d8576b"
             ],
             [
              0.6666666666666666,
              "#ed7953"
             ],
             [
              0.7777777777777778,
              "#fb9f3a"
             ],
             [
              0.8888888888888888,
              "#fdca26"
             ],
             [
              1,
              "#f0f921"
             ]
            ],
            "type": "heatmap"
           }
          ],
          "heatmapgl": [
           {
            "colorbar": {
             "outlinewidth": 0,
             "ticks": ""
            },
            "colorscale": [
             [
              0,
              "#0d0887"
             ],
             [
              0.1111111111111111,
              "#46039f"
             ],
             [
              0.2222222222222222,
              "#7201a8"
             ],
             [
              0.3333333333333333,
              "#9c179e"
             ],
             [
              0.4444444444444444,
              "#bd3786"
             ],
             [
              0.5555555555555556,
              "#d8576b"
             ],
             [
              0.6666666666666666,
              "#ed7953"
             ],
             [
              0.7777777777777778,
              "#fb9f3a"
             ],
             [
              0.8888888888888888,
              "#fdca26"
             ],
             [
              1,
              "#f0f921"
             ]
            ],
            "type": "heatmapgl"
           }
          ],
          "histogram": [
           {
            "marker": {
             "pattern": {
              "fillmode": "overlay",
              "size": 10,
              "solidity": 0.2
             }
            },
            "type": "histogram"
           }
          ],
          "histogram2d": [
           {
            "colorbar": {
             "outlinewidth": 0,
             "ticks": ""
            },
            "colorscale": [
             [
              0,
              "#0d0887"
             ],
             [
              0.1111111111111111,
              "#46039f"
             ],
             [
              0.2222222222222222,
              "#7201a8"
             ],
             [
              0.3333333333333333,
              "#9c179e"
             ],
             [
              0.4444444444444444,
              "#bd3786"
             ],
             [
              0.5555555555555556,
              "#d8576b"
             ],
             [
              0.6666666666666666,
              "#ed7953"
             ],
             [
              0.7777777777777778,
              "#fb9f3a"
             ],
             [
              0.8888888888888888,
              "#fdca26"
             ],
             [
              1,
              "#f0f921"
             ]
            ],
            "type": "histogram2d"
           }
          ],
          "histogram2dcontour": [
           {
            "colorbar": {
             "outlinewidth": 0,
             "ticks": ""
            },
            "colorscale": [
             [
              0,
              "#0d0887"
             ],
             [
              0.1111111111111111,
              "#46039f"
             ],
             [
              0.2222222222222222,
              "#7201a8"
             ],
             [
              0.3333333333333333,
              "#9c179e"
             ],
             [
              0.4444444444444444,
              "#bd3786"
             ],
             [
              0.5555555555555556,
              "#d8576b"
             ],
             [
              0.6666666666666666,
              "#ed7953"
             ],
             [
              0.7777777777777778,
              "#fb9f3a"
             ],
             [
              0.8888888888888888,
              "#fdca26"
             ],
             [
              1,
              "#f0f921"
             ]
            ],
            "type": "histogram2dcontour"
           }
          ],
          "mesh3d": [
           {
            "colorbar": {
             "outlinewidth": 0,
             "ticks": ""
            },
            "type": "mesh3d"
           }
          ],
          "parcoords": [
           {
            "line": {
             "colorbar": {
              "outlinewidth": 0,
              "ticks": ""
             }
            },
            "type": "parcoords"
           }
          ],
          "pie": [
           {
            "automargin": true,
            "type": "pie"
           }
          ],
          "scatter": [
           {
            "fillpattern": {
             "fillmode": "overlay",
             "size": 10,
             "solidity": 0.2
            },
            "type": "scatter"
           }
          ],
          "scatter3d": [
           {
            "line": {
             "colorbar": {
              "outlinewidth": 0,
              "ticks": ""
             }
            },
            "marker": {
             "colorbar": {
              "outlinewidth": 0,
              "ticks": ""
             }
            },
            "type": "scatter3d"
           }
          ],
          "scattercarpet": [
           {
            "marker": {
             "colorbar": {
              "outlinewidth": 0,
              "ticks": ""
             }
            },
            "type": "scattercarpet"
           }
          ],
          "scattergeo": [
           {
            "marker": {
             "colorbar": {
              "outlinewidth": 0,
              "ticks": ""
             }
            },
            "type": "scattergeo"
           }
          ],
          "scattergl": [
           {
            "marker": {
             "colorbar": {
              "outlinewidth": 0,
              "ticks": ""
             }
            },
            "type": "scattergl"
           }
          ],
          "scattermapbox": [
           {
            "marker": {
             "colorbar": {
              "outlinewidth": 0,
              "ticks": ""
             }
            },
            "type": "scattermapbox"
           }
          ],
          "scatterpolar": [
           {
            "marker": {
             "colorbar": {
              "outlinewidth": 0,
              "ticks": ""
             }
            },
            "type": "scatterpolar"
           }
          ],
          "scatterpolargl": [
           {
            "marker": {
             "colorbar": {
              "outlinewidth": 0,
              "ticks": ""
             }
            },
            "type": "scatterpolargl"
           }
          ],
          "scatterternary": [
           {
            "marker": {
             "colorbar": {
              "outlinewidth": 0,
              "ticks": ""
             }
            },
            "type": "scatterternary"
           }
          ],
          "surface": [
           {
            "colorbar": {
             "outlinewidth": 0,
             "ticks": ""
            },
            "colorscale": [
             [
              0,
              "#0d0887"
             ],
             [
              0.1111111111111111,
              "#46039f"
             ],
             [
              0.2222222222222222,
              "#7201a8"
             ],
             [
              0.3333333333333333,
              "#9c179e"
             ],
             [
              0.4444444444444444,
              "#bd3786"
             ],
             [
              0.5555555555555556,
              "#d8576b"
             ],
             [
              0.6666666666666666,
              "#ed7953"
             ],
             [
              0.7777777777777778,
              "#fb9f3a"
             ],
             [
              0.8888888888888888,
              "#fdca26"
             ],
             [
              1,
              "#f0f921"
             ]
            ],
            "type": "surface"
           }
          ],
          "table": [
           {
            "cells": {
             "fill": {
              "color": "#EBF0F8"
             },
             "line": {
              "color": "white"
             }
            },
            "header": {
             "fill": {
              "color": "#C8D4E3"
             },
             "line": {
              "color": "white"
             }
            },
            "type": "table"
           }
          ]
         },
         "layout": {
          "annotationdefaults": {
           "arrowcolor": "#2a3f5f",
           "arrowhead": 0,
           "arrowwidth": 1
          },
          "autotypenumbers": "strict",
          "coloraxis": {
           "colorbar": {
            "outlinewidth": 0,
            "ticks": ""
           }
          },
          "colorscale": {
           "diverging": [
            [
             0,
             "#8e0152"
            ],
            [
             0.1,
             "#c51b7d"
            ],
            [
             0.2,
             "#de77ae"
            ],
            [
             0.3,
             "#f1b6da"
            ],
            [
             0.4,
             "#fde0ef"
            ],
            [
             0.5,
             "#f7f7f7"
            ],
            [
             0.6,
             "#e6f5d0"
            ],
            [
             0.7,
             "#b8e186"
            ],
            [
             0.8,
             "#7fbc41"
            ],
            [
             0.9,
             "#4d9221"
            ],
            [
             1,
             "#276419"
            ]
           ],
           "sequential": [
            [
             0,
             "#0d0887"
            ],
            [
             0.1111111111111111,
             "#46039f"
            ],
            [
             0.2222222222222222,
             "#7201a8"
            ],
            [
             0.3333333333333333,
             "#9c179e"
            ],
            [
             0.4444444444444444,
             "#bd3786"
            ],
            [
             0.5555555555555556,
             "#d8576b"
            ],
            [
             0.6666666666666666,
             "#ed7953"
            ],
            [
             0.7777777777777778,
             "#fb9f3a"
            ],
            [
             0.8888888888888888,
             "#fdca26"
            ],
            [
             1,
             "#f0f921"
            ]
           ],
           "sequentialminus": [
            [
             0,
             "#0d0887"
            ],
            [
             0.1111111111111111,
             "#46039f"
            ],
            [
             0.2222222222222222,
             "#7201a8"
            ],
            [
             0.3333333333333333,
             "#9c179e"
            ],
            [
             0.4444444444444444,
             "#bd3786"
            ],
            [
             0.5555555555555556,
             "#d8576b"
            ],
            [
             0.6666666666666666,
             "#ed7953"
            ],
            [
             0.7777777777777778,
             "#fb9f3a"
            ],
            [
             0.8888888888888888,
             "#fdca26"
            ],
            [
             1,
             "#f0f921"
            ]
           ]
          },
          "colorway": [
           "#636efa",
           "#EF553B",
           "#00cc96",
           "#ab63fa",
           "#FFA15A",
           "#19d3f3",
           "#FF6692",
           "#B6E880",
           "#FF97FF",
           "#FECB52"
          ],
          "font": {
           "color": "#2a3f5f"
          },
          "geo": {
           "bgcolor": "white",
           "lakecolor": "white",
           "landcolor": "#E5ECF6",
           "showlakes": true,
           "showland": true,
           "subunitcolor": "white"
          },
          "hoverlabel": {
           "align": "left"
          },
          "hovermode": "closest",
          "mapbox": {
           "style": "light"
          },
          "paper_bgcolor": "white",
          "plot_bgcolor": "#E5ECF6",
          "polar": {
           "angularaxis": {
            "gridcolor": "white",
            "linecolor": "white",
            "ticks": ""
           },
           "bgcolor": "#E5ECF6",
           "radialaxis": {
            "gridcolor": "white",
            "linecolor": "white",
            "ticks": ""
           }
          },
          "scene": {
           "xaxis": {
            "backgroundcolor": "#E5ECF6",
            "gridcolor": "white",
            "gridwidth": 2,
            "linecolor": "white",
            "showbackground": true,
            "ticks": "",
            "zerolinecolor": "white"
           },
           "yaxis": {
            "backgroundcolor": "#E5ECF6",
            "gridcolor": "white",
            "gridwidth": 2,
            "linecolor": "white",
            "showbackground": true,
            "ticks": "",
            "zerolinecolor": "white"
           },
           "zaxis": {
            "backgroundcolor": "#E5ECF6",
            "gridcolor": "white",
            "gridwidth": 2,
            "linecolor": "white",
            "showbackground": true,
            "ticks": "",
            "zerolinecolor": "white"
           }
          },
          "shapedefaults": {
           "line": {
            "color": "#2a3f5f"
           }
          },
          "ternary": {
           "aaxis": {
            "gridcolor": "white",
            "linecolor": "white",
            "ticks": ""
           },
           "baxis": {
            "gridcolor": "white",
            "linecolor": "white",
            "ticks": ""
           },
           "bgcolor": "#E5ECF6",
           "caxis": {
            "gridcolor": "white",
            "linecolor": "white",
            "ticks": ""
           }
          },
          "title": {
           "x": 0.05
          },
          "xaxis": {
           "automargin": true,
           "gridcolor": "white",
           "linecolor": "white",
           "ticks": "",
           "title": {
            "standoff": 15
           },
           "zerolinecolor": "white",
           "zerolinewidth": 2
          },
          "yaxis": {
           "automargin": true,
           "gridcolor": "white",
           "linecolor": "white",
           "ticks": "",
           "title": {
            "standoff": 15
           },
           "zerolinecolor": "white",
           "zerolinewidth": 2
          }
         }
        },
        "title": {
         "text": "Conf Matrix"
        },
        "width": 800,
        "xaxis": {
         "title": {
          "text": "Predicted value"
         }
        },
        "yaxis": {
         "title": {
          "text": "Real value"
         }
        }
       }
      },
      "text/html": [
       "<div>                            <div id=\"bea7762d-b0df-41f7-b29a-0fcfb7f4fe24\" class=\"plotly-graph-div\" style=\"height:800px; width:800px;\"></div>            <script type=\"text/javascript\">                require([\"plotly\"], function(Plotly) {                    window.PLOTLYENV=window.PLOTLYENV || {};                                    if (document.getElementById(\"bea7762d-b0df-41f7-b29a-0fcfb7f4fe24\")) {                    Plotly.newPlot(                        \"bea7762d-b0df-41f7-b29a-0fcfb7f4fe24\",                        [{\"x\":[0,1,2,3,4],\"y\":[0,1,2,3,4],\"z\":[[10.975609756097562,24.390243902439025,30.48780487804878,12.195121951219512,21.951219512195124],[0.9708737864077669,29.61165048543689,38.673139158576056,10.841423948220065,19.902912621359224],[0.12391573729863693,21.065675340768276,41.63568773234201,11.895910780669144,25.27881040892193],[0.4601226993865031,16.56441717791411,33.43558282208589,21.625766871165645,27.914110429447852],[0.5952380952380952,10.595238095238095,20.0,6.785714285714286,62.023809523809526]],\"type\":\"heatmap\"}],                        {\"annotations\":[{\"font\":{\"color\":\"white\"},\"showarrow\":false,\"text\":\"11.0 - 9\",\"x\":0,\"xref\":\"x\",\"y\":0,\"yref\":\"y\"},{\"font\":{\"color\":\"white\"},\"showarrow\":false,\"text\":\"24.4 - 20\",\"x\":1,\"xref\":\"x\",\"y\":0,\"yref\":\"y\"},{\"font\":{\"color\":\"white\"},\"showarrow\":false,\"text\":\"30.5 - 25\",\"x\":2,\"xref\":\"x\",\"y\":0,\"yref\":\"y\"},{\"font\":{\"color\":\"white\"},\"showarrow\":false,\"text\":\"12.2 - 10\",\"x\":3,\"xref\":\"x\",\"y\":0,\"yref\":\"y\"},{\"font\":{\"color\":\"white\"},\"showarrow\":false,\"text\":\"22.0 - 18\",\"x\":4,\"xref\":\"x\",\"y\":0,\"yref\":\"y\"},{\"font\":{\"color\":\"white\"},\"showarrow\":false,\"text\":\"1.0 - 6\",\"x\":0,\"xref\":\"x\",\"y\":1,\"yref\":\"y\"},{\"font\":{\"color\":\"white\"},\"showarrow\":false,\"text\":\"29.6 - 183\",\"x\":1,\"xref\":\"x\",\"y\":1,\"yref\":\"y\"},{\"font\":{\"color\":\"white\"},\"showarrow\":false,\"text\":\"38.7 - 239\",\"x\":2,\"xref\":\"x\",\"y\":1,\"yref\":\"y\"},{\"font\":{\"color\":\"white\"},\"showarrow\":false,\"text\":\"10.8 - 67\",\"x\":3,\"xref\":\"x\",\"y\":1,\"yref\":\"y\"},{\"font\":{\"color\":\"white\"},\"showarrow\":false,\"text\":\"19.9 - 123\",\"x\":4,\"xref\":\"x\",\"y\":1,\"yref\":\"y\"},{\"font\":{\"color\":\"white\"},\"showarrow\":false,\"text\":\"0.1 - 1\",\"x\":0,\"xref\":\"x\",\"y\":2,\"yref\":\"y\"},{\"font\":{\"color\":\"white\"},\"showarrow\":false,\"text\":\"21.1 - 170\",\"x\":1,\"xref\":\"x\",\"y\":2,\"yref\":\"y\"},{\"font\":{\"color\":\"white\"},\"showarrow\":false,\"text\":\"41.6 - 336\",\"x\":2,\"xref\":\"x\",\"y\":2,\"yref\":\"y\"},{\"font\":{\"color\":\"white\"},\"showarrow\":false,\"text\":\"11.9 - 96\",\"x\":3,\"xref\":\"x\",\"y\":2,\"yref\":\"y\"},{\"font\":{\"color\":\"white\"},\"showarrow\":false,\"text\":\"25.3 - 204\",\"x\":4,\"xref\":\"x\",\"y\":2,\"yref\":\"y\"},{\"font\":{\"color\":\"white\"},\"showarrow\":false,\"text\":\"0.5 - 3\",\"x\":0,\"xref\":\"x\",\"y\":3,\"yref\":\"y\"},{\"font\":{\"color\":\"white\"},\"showarrow\":false,\"text\":\"16.6 - 108\",\"x\":1,\"xref\":\"x\",\"y\":3,\"yref\":\"y\"},{\"font\":{\"color\":\"white\"},\"showarrow\":false,\"text\":\"33.4 - 218\",\"x\":2,\"xref\":\"x\",\"y\":3,\"yref\":\"y\"},{\"font\":{\"color\":\"white\"},\"showarrow\":false,\"text\":\"21.6 - 141\",\"x\":3,\"xref\":\"x\",\"y\":3,\"yref\":\"y\"},{\"font\":{\"color\":\"white\"},\"showarrow\":false,\"text\":\"27.9 - 182\",\"x\":4,\"xref\":\"x\",\"y\":3,\"yref\":\"y\"},{\"font\":{\"color\":\"white\"},\"showarrow\":false,\"text\":\"0.6 - 5\",\"x\":0,\"xref\":\"x\",\"y\":4,\"yref\":\"y\"},{\"font\":{\"color\":\"white\"},\"showarrow\":false,\"text\":\"10.6 - 89\",\"x\":1,\"xref\":\"x\",\"y\":4,\"yref\":\"y\"},{\"font\":{\"color\":\"white\"},\"showarrow\":false,\"text\":\"20.0 - 168\",\"x\":2,\"xref\":\"x\",\"y\":4,\"yref\":\"y\"},{\"font\":{\"color\":\"white\"},\"showarrow\":false,\"text\":\"6.8 - 57\",\"x\":3,\"xref\":\"x\",\"y\":4,\"yref\":\"y\"},{\"font\":{\"color\":\"white\"},\"showarrow\":false,\"text\":\"62.0 - 521\",\"x\":4,\"xref\":\"x\",\"y\":4,\"yref\":\"y\"}],\"height\":800,\"title\":{\"text\":\"Conf Matrix\"},\"width\":800,\"xaxis\":{\"title\":{\"text\":\"Predicted value\"}},\"yaxis\":{\"title\":{\"text\":\"Real value\"}},\"template\":{\"data\":{\"histogram2dcontour\":[{\"type\":\"histogram2dcontour\",\"colorbar\":{\"outlinewidth\":0,\"ticks\":\"\"},\"colorscale\":[[0.0,\"#0d0887\"],[0.1111111111111111,\"#46039f\"],[0.2222222222222222,\"#7201a8\"],[0.3333333333333333,\"#9c179e\"],[0.4444444444444444,\"#bd3786\"],[0.5555555555555556,\"#d8576b\"],[0.6666666666666666,\"#ed7953\"],[0.7777777777777778,\"#fb9f3a\"],[0.8888888888888888,\"#fdca26\"],[1.0,\"#f0f921\"]]}],\"choropleth\":[{\"type\":\"choropleth\",\"colorbar\":{\"outlinewidth\":0,\"ticks\":\"\"}}],\"histogram2d\":[{\"type\":\"histogram2d\",\"colorbar\":{\"outlinewidth\":0,\"ticks\":\"\"},\"colorscale\":[[0.0,\"#0d0887\"],[0.1111111111111111,\"#46039f\"],[0.2222222222222222,\"#7201a8\"],[0.3333333333333333,\"#9c179e\"],[0.4444444444444444,\"#bd3786\"],[0.5555555555555556,\"#d8576b\"],[0.6666666666666666,\"#ed7953\"],[0.7777777777777778,\"#fb9f3a\"],[0.8888888888888888,\"#fdca26\"],[1.0,\"#f0f921\"]]}],\"heatmap\":[{\"type\":\"heatmap\",\"colorbar\":{\"outlinewidth\":0,\"ticks\":\"\"},\"colorscale\":[[0.0,\"#0d0887\"],[0.1111111111111111,\"#46039f\"],[0.2222222222222222,\"#7201a8\"],[0.3333333333333333,\"#9c179e\"],[0.4444444444444444,\"#bd3786\"],[0.5555555555555556,\"#d8576b\"],[0.6666666666666666,\"#ed7953\"],[0.7777777777777778,\"#fb9f3a\"],[0.8888888888888888,\"#fdca26\"],[1.0,\"#f0f921\"]]}],\"heatmapgl\":[{\"type\":\"heatmapgl\",\"colorbar\":{\"outlinewidth\":0,\"ticks\":\"\"},\"colorscale\":[[0.0,\"#0d0887\"],[0.1111111111111111,\"#46039f\"],[0.2222222222222222,\"#7201a8\"],[0.3333333333333333,\"#9c179e\"],[0.4444444444444444,\"#bd3786\"],[0.5555555555555556,\"#d8576b\"],[0.6666666666666666,\"#ed7953\"],[0.7777777777777778,\"#fb9f3a\"],[0.8888888888888888,\"#fdca26\"],[1.0,\"#f0f921\"]]}],\"contourcarpet\":[{\"type\":\"contourcarpet\",\"colorbar\":{\"outlinewidth\":0,\"ticks\":\"\"}}],\"contour\":[{\"type\":\"contour\",\"colorbar\":{\"outlinewidth\":0,\"ticks\":\"\"},\"colorscale\":[[0.0,\"#0d0887\"],[0.1111111111111111,\"#46039f\"],[0.2222222222222222,\"#7201a8\"],[0.3333333333333333,\"#9c179e\"],[0.4444444444444444,\"#bd3786\"],[0.5555555555555556,\"#d8576b\"],[0.6666666666666666,\"#ed7953\"],[0.7777777777777778,\"#fb9f3a\"],[0.8888888888888888,\"#fdca26\"],[1.0,\"#f0f921\"]]}],\"surface\":[{\"type\":\"surface\",\"colorbar\":{\"outlinewidth\":0,\"ticks\":\"\"},\"colorscale\":[[0.0,\"#0d0887\"],[0.1111111111111111,\"#46039f\"],[0.2222222222222222,\"#7201a8\"],[0.3333333333333333,\"#9c179e\"],[0.4444444444444444,\"#bd3786\"],[0.5555555555555556,\"#d8576b\"],[0.6666666666666666,\"#ed7953\"],[0.7777777777777778,\"#fb9f3a\"],[0.8888888888888888,\"#fdca26\"],[1.0,\"#f0f921\"]]}],\"mesh3d\":[{\"type\":\"mesh3d\",\"colorbar\":{\"outlinewidth\":0,\"ticks\":\"\"}}],\"scatter\":[{\"fillpattern\":{\"fillmode\":\"overlay\",\"size\":10,\"solidity\":0.2},\"type\":\"scatter\"}],\"parcoords\":[{\"type\":\"parcoords\",\"line\":{\"colorbar\":{\"outlinewidth\":0,\"ticks\":\"\"}}}],\"scatterpolargl\":[{\"type\":\"scatterpolargl\",\"marker\":{\"colorbar\":{\"outlinewidth\":0,\"ticks\":\"\"}}}],\"bar\":[{\"error_x\":{\"color\":\"#2a3f5f\"},\"error_y\":{\"color\":\"#2a3f5f\"},\"marker\":{\"line\":{\"color\":\"#E5ECF6\",\"width\":0.5},\"pattern\":{\"fillmode\":\"overlay\",\"size\":10,\"solidity\":0.2}},\"type\":\"bar\"}],\"scattergeo\":[{\"type\":\"scattergeo\",\"marker\":{\"colorbar\":{\"outlinewidth\":0,\"ticks\":\"\"}}}],\"scatterpolar\":[{\"type\":\"scatterpolar\",\"marker\":{\"colorbar\":{\"outlinewidth\":0,\"ticks\":\"\"}}}],\"histogram\":[{\"marker\":{\"pattern\":{\"fillmode\":\"overlay\",\"size\":10,\"solidity\":0.2}},\"type\":\"histogram\"}],\"scattergl\":[{\"type\":\"scattergl\",\"marker\":{\"colorbar\":{\"outlinewidth\":0,\"ticks\":\"\"}}}],\"scatter3d\":[{\"type\":\"scatter3d\",\"line\":{\"colorbar\":{\"outlinewidth\":0,\"ticks\":\"\"}},\"marker\":{\"colorbar\":{\"outlinewidth\":0,\"ticks\":\"\"}}}],\"scattermapbox\":[{\"type\":\"scattermapbox\",\"marker\":{\"colorbar\":{\"outlinewidth\":0,\"ticks\":\"\"}}}],\"scatterternary\":[{\"type\":\"scatterternary\",\"marker\":{\"colorbar\":{\"outlinewidth\":0,\"ticks\":\"\"}}}],\"scattercarpet\":[{\"type\":\"scattercarpet\",\"marker\":{\"colorbar\":{\"outlinewidth\":0,\"ticks\":\"\"}}}],\"carpet\":[{\"aaxis\":{\"endlinecolor\":\"#2a3f5f\",\"gridcolor\":\"white\",\"linecolor\":\"white\",\"minorgridcolor\":\"white\",\"startlinecolor\":\"#2a3f5f\"},\"baxis\":{\"endlinecolor\":\"#2a3f5f\",\"gridcolor\":\"white\",\"linecolor\":\"white\",\"minorgridcolor\":\"white\",\"startlinecolor\":\"#2a3f5f\"},\"type\":\"carpet\"}],\"table\":[{\"cells\":{\"fill\":{\"color\":\"#EBF0F8\"},\"line\":{\"color\":\"white\"}},\"header\":{\"fill\":{\"color\":\"#C8D4E3\"},\"line\":{\"color\":\"white\"}},\"type\":\"table\"}],\"barpolar\":[{\"marker\":{\"line\":{\"color\":\"#E5ECF6\",\"width\":0.5},\"pattern\":{\"fillmode\":\"overlay\",\"size\":10,\"solidity\":0.2}},\"type\":\"barpolar\"}],\"pie\":[{\"automargin\":true,\"type\":\"pie\"}]},\"layout\":{\"autotypenumbers\":\"strict\",\"colorway\":[\"#636efa\",\"#EF553B\",\"#00cc96\",\"#ab63fa\",\"#FFA15A\",\"#19d3f3\",\"#FF6692\",\"#B6E880\",\"#FF97FF\",\"#FECB52\"],\"font\":{\"color\":\"#2a3f5f\"},\"hovermode\":\"closest\",\"hoverlabel\":{\"align\":\"left\"},\"paper_bgcolor\":\"white\",\"plot_bgcolor\":\"#E5ECF6\",\"polar\":{\"bgcolor\":\"#E5ECF6\",\"angularaxis\":{\"gridcolor\":\"white\",\"linecolor\":\"white\",\"ticks\":\"\"},\"radialaxis\":{\"gridcolor\":\"white\",\"linecolor\":\"white\",\"ticks\":\"\"}},\"ternary\":{\"bgcolor\":\"#E5ECF6\",\"aaxis\":{\"gridcolor\":\"white\",\"linecolor\":\"white\",\"ticks\":\"\"},\"baxis\":{\"gridcolor\":\"white\",\"linecolor\":\"white\",\"ticks\":\"\"},\"caxis\":{\"gridcolor\":\"white\",\"linecolor\":\"white\",\"ticks\":\"\"}},\"coloraxis\":{\"colorbar\":{\"outlinewidth\":0,\"ticks\":\"\"}},\"colorscale\":{\"sequential\":[[0.0,\"#0d0887\"],[0.1111111111111111,\"#46039f\"],[0.2222222222222222,\"#7201a8\"],[0.3333333333333333,\"#9c179e\"],[0.4444444444444444,\"#bd3786\"],[0.5555555555555556,\"#d8576b\"],[0.6666666666666666,\"#ed7953\"],[0.7777777777777778,\"#fb9f3a\"],[0.8888888888888888,\"#fdca26\"],[1.0,\"#f0f921\"]],\"sequentialminus\":[[0.0,\"#0d0887\"],[0.1111111111111111,\"#46039f\"],[0.2222222222222222,\"#7201a8\"],[0.3333333333333333,\"#9c179e\"],[0.4444444444444444,\"#bd3786\"],[0.5555555555555556,\"#d8576b\"],[0.6666666666666666,\"#ed7953\"],[0.7777777777777778,\"#fb9f3a\"],[0.8888888888888888,\"#fdca26\"],[1.0,\"#f0f921\"]],\"diverging\":[[0,\"#8e0152\"],[0.1,\"#c51b7d\"],[0.2,\"#de77ae\"],[0.3,\"#f1b6da\"],[0.4,\"#fde0ef\"],[0.5,\"#f7f7f7\"],[0.6,\"#e6f5d0\"],[0.7,\"#b8e186\"],[0.8,\"#7fbc41\"],[0.9,\"#4d9221\"],[1,\"#276419\"]]},\"xaxis\":{\"gridcolor\":\"white\",\"linecolor\":\"white\",\"ticks\":\"\",\"title\":{\"standoff\":15},\"zerolinecolor\":\"white\",\"automargin\":true,\"zerolinewidth\":2},\"yaxis\":{\"gridcolor\":\"white\",\"linecolor\":\"white\",\"ticks\":\"\",\"title\":{\"standoff\":15},\"zerolinecolor\":\"white\",\"automargin\":true,\"zerolinewidth\":2},\"scene\":{\"xaxis\":{\"backgroundcolor\":\"#E5ECF6\",\"gridcolor\":\"white\",\"linecolor\":\"white\",\"showbackground\":true,\"ticks\":\"\",\"zerolinecolor\":\"white\",\"gridwidth\":2},\"yaxis\":{\"backgroundcolor\":\"#E5ECF6\",\"gridcolor\":\"white\",\"linecolor\":\"white\",\"showbackground\":true,\"ticks\":\"\",\"zerolinecolor\":\"white\",\"gridwidth\":2},\"zaxis\":{\"backgroundcolor\":\"#E5ECF6\",\"gridcolor\":\"white\",\"linecolor\":\"white\",\"showbackground\":true,\"ticks\":\"\",\"zerolinecolor\":\"white\",\"gridwidth\":2}},\"shapedefaults\":{\"line\":{\"color\":\"#2a3f5f\"}},\"annotationdefaults\":{\"arrowcolor\":\"#2a3f5f\",\"arrowhead\":0,\"arrowwidth\":1},\"geo\":{\"bgcolor\":\"white\",\"landcolor\":\"#E5ECF6\",\"subunitcolor\":\"white\",\"showland\":true,\"showlakes\":true,\"lakecolor\":\"white\"},\"title\":{\"x\":0.05},\"mapbox\":{\"style\":\"light\"}}}},                        {\"responsive\": true}                    ).then(function(){\n",
       "                            \n",
       "var gd = document.getElementById('bea7762d-b0df-41f7-b29a-0fcfb7f4fe24');\n",
       "var x = new MutationObserver(function (mutations, observer) {{\n",
       "        var display = window.getComputedStyle(gd).display;\n",
       "        if (!display || display === 'none') {{\n",
       "            console.log([gd, 'removed!']);\n",
       "            Plotly.purge(gd);\n",
       "            observer.disconnect();\n",
       "        }}\n",
       "}});\n",
       "\n",
       "// Listen for the removal of the full notebook cells\n",
       "var notebookContainer = gd.closest('#notebook-container');\n",
       "if (notebookContainer) {{\n",
       "    x.observe(notebookContainer, {childList: true});\n",
       "}}\n",
       "\n",
       "// Listen for the clearing of the current output cell\n",
       "var outputEl = gd.closest('.output');\n",
       "if (outputEl) {{\n",
       "    x.observe(outputEl, {childList: true});\n",
       "}}\n",
       "\n",
       "                        })                };                });            </script>        </div>"
      ]
     },
     "metadata": {},
     "output_type": "display_data"
    }
   ],
   "source": [
    "# Entrenamiento inicial\n",
    "lgb_params = {\n",
    "    'objective': 'multiclass',\n",
    "    'num_class': len(y_train.unique())\n",
    "}\n",
    "\n",
    "lgb_train_dataset = lgb.Dataset(data=X_train, label=y_train)\n",
    "\n",
    "lgb_model = lgb.train(lgb_params, lgb_train_dataset)\n",
    "\n",
    "y_pred = lgb_model.predict(X_test).argmax(axis=1)\n",
    "\n",
    "print(\"Cohen Kappa Score Inicial:\", cohen_kappa_score(y_test, y_pred, weights='quadratic'))\n",
    "display(plot_confusion_matrix(y_test, y_pred))\n",
    "\n"
   ]
  },
  {
   "cell_type": "code",
   "execution_count": 17,
   "metadata": {},
   "outputs": [
    {
     "name": "stderr",
     "output_type": "stream",
     "text": [
      "/tmp/ipykernel_1486896/3271090702.py:80: ExperimentalWarning:\n",
      "\n",
      "FileSystemArtifactStore is experimental (supported from v3.3.0). The interface can change in the future.\n",
      "\n",
      "[I 2024-07-01 00:54:23,855] A new study created in RDB with name: 05 - LGB Multiclass CV 03\n",
      "/tmp/ipykernel_1486896/3271090702.py:67: ExperimentalWarning:\n",
      "\n",
      "upload_artifact is experimental (supported from v3.3.0). The interface can change in the future.\n",
      "\n",
      "/tmp/ipykernel_1486896/3271090702.py:71: ExperimentalWarning:\n",
      "\n",
      "upload_artifact is experimental (supported from v3.3.0). The interface can change in the future.\n",
      "\n",
      "[I 2024-07-01 00:54:32,199] Trial 0 finished with value: 0.34566652825017496 and parameters: {'lambda_l1': 0.0024338212996632943, 'lambda_l2': 0.002793448632215299, 'num_leaves': 183, 'feature_fraction': 0.41478865228810297, 'bagging_fraction': 0.3124641168972802, 'bagging_freq': 1, 'min_child_samples': 61}. Best is trial 0 with value: 0.34566652825017496.\n",
      "/tmp/ipykernel_1486896/3271090702.py:67: ExperimentalWarning:\n",
      "\n",
      "upload_artifact is experimental (supported from v3.3.0). The interface can change in the future.\n",
      "\n",
      "/tmp/ipykernel_1486896/3271090702.py:71: ExperimentalWarning:\n",
      "\n",
      "upload_artifact is experimental (supported from v3.3.0). The interface can change in the future.\n",
      "\n",
      "[I 2024-07-01 00:54:45,632] Trial 1 finished with value: 0.35858730080145323 and parameters: {'lambda_l1': 5.9394461499409505, 'lambda_l2': 1.0150408815043672, 'num_leaves': 190, 'feature_fraction': 0.7921039943638231, 'bagging_fraction': 0.6588640206812413, 'bagging_freq': 4, 'min_child_samples': 35}. Best is trial 1 with value: 0.35858730080145323.\n",
      "/tmp/ipykernel_1486896/3271090702.py:67: ExperimentalWarning:\n",
      "\n",
      "upload_artifact is experimental (supported from v3.3.0). The interface can change in the future.\n",
      "\n",
      "/tmp/ipykernel_1486896/3271090702.py:71: ExperimentalWarning:\n",
      "\n",
      "upload_artifact is experimental (supported from v3.3.0). The interface can change in the future.\n",
      "\n",
      "[I 2024-07-01 00:54:56,105] Trial 2 finished with value: 0.3562051293308529 and parameters: {'lambda_l1': 1.3047289248473815e-05, 'lambda_l2': 1.55012623979062e-08, 'num_leaves': 166, 'feature_fraction': 0.34173211104366025, 'bagging_fraction': 0.5716800855448025, 'bagging_freq': 6, 'min_child_samples': 11}. Best is trial 1 with value: 0.35858730080145323.\n",
      "/tmp/ipykernel_1486896/3271090702.py:67: ExperimentalWarning:\n",
      "\n",
      "upload_artifact is experimental (supported from v3.3.0). The interface can change in the future.\n",
      "\n",
      "/tmp/ipykernel_1486896/3271090702.py:71: ExperimentalWarning:\n",
      "\n",
      "upload_artifact is experimental (supported from v3.3.0). The interface can change in the future.\n",
      "\n",
      "[I 2024-07-01 00:55:04,869] Trial 3 finished with value: 0.36928505060318856 and parameters: {'lambda_l1': 1.5792571401198225e-05, 'lambda_l2': 5.100731545257737e-05, 'num_leaves': 150, 'feature_fraction': 0.5979037907537893, 'bagging_fraction': 0.8243274744781888, 'bagging_freq': 7, 'min_child_samples': 72}. Best is trial 3 with value: 0.36928505060318856.\n",
      "/tmp/ipykernel_1486896/3271090702.py:67: ExperimentalWarning:\n",
      "\n",
      "upload_artifact is experimental (supported from v3.3.0). The interface can change in the future.\n",
      "\n",
      "/tmp/ipykernel_1486896/3271090702.py:71: ExperimentalWarning:\n",
      "\n",
      "upload_artifact is experimental (supported from v3.3.0). The interface can change in the future.\n",
      "\n",
      "[I 2024-07-01 00:55:11,921] Trial 4 finished with value: 0.3695833024270181 and parameters: {'lambda_l1': 0.003590883918848511, 'lambda_l2': 4.274040071533405, 'num_leaves': 125, 'feature_fraction': 0.6968593591230066, 'bagging_fraction': 0.6301893034575694, 'bagging_freq': 5, 'min_child_samples': 24}. Best is trial 4 with value: 0.3695833024270181.\n",
      "/tmp/ipykernel_1486896/3271090702.py:67: ExperimentalWarning:\n",
      "\n",
      "upload_artifact is experimental (supported from v3.3.0). The interface can change in the future.\n",
      "\n",
      "/tmp/ipykernel_1486896/3271090702.py:71: ExperimentalWarning:\n",
      "\n",
      "upload_artifact is experimental (supported from v3.3.0). The interface can change in the future.\n",
      "\n",
      "[I 2024-07-01 00:55:16,488] Trial 5 finished with value: 0.3429434375308048 and parameters: {'lambda_l1': 2.1522944375668956e-06, 'lambda_l2': 1.0113334480040279e-08, 'num_leaves': 81, 'feature_fraction': 0.3240550098584895, 'bagging_fraction': 0.3115995758568173, 'bagging_freq': 6, 'min_child_samples': 65}. Best is trial 4 with value: 0.3695833024270181.\n",
      "/tmp/ipykernel_1486896/3271090702.py:67: ExperimentalWarning:\n",
      "\n",
      "upload_artifact is experimental (supported from v3.3.0). The interface can change in the future.\n",
      "\n",
      "/tmp/ipykernel_1486896/3271090702.py:71: ExperimentalWarning:\n",
      "\n",
      "upload_artifact is experimental (supported from v3.3.0). The interface can change in the future.\n",
      "\n",
      "[I 2024-07-01 00:55:23,876] Trial 6 finished with value: 0.36517291769965465 and parameters: {'lambda_l1': 1.3127215967506187, 'lambda_l2': 0.03417010521059791, 'num_leaves': 70, 'feature_fraction': 0.46164576043382705, 'bagging_fraction': 0.7069509748158858, 'bagging_freq': 7, 'min_child_samples': 47}. Best is trial 4 with value: 0.3695833024270181.\n",
      "/tmp/ipykernel_1486896/3271090702.py:67: ExperimentalWarning:\n",
      "\n",
      "upload_artifact is experimental (supported from v3.3.0). The interface can change in the future.\n",
      "\n",
      "/tmp/ipykernel_1486896/3271090702.py:71: ExperimentalWarning:\n",
      "\n",
      "upload_artifact is experimental (supported from v3.3.0). The interface can change in the future.\n",
      "\n",
      "[I 2024-07-01 00:55:30,697] Trial 7 finished with value: 0.3685596847047586 and parameters: {'lambda_l1': 2.6212032508423304, 'lambda_l2': 5.303471486261843, 'num_leaves': 149, 'feature_fraction': 0.39367065936733414, 'bagging_fraction': 0.8676243100247432, 'bagging_freq': 4, 'min_child_samples': 94}. Best is trial 4 with value: 0.3695833024270181.\n",
      "/tmp/ipykernel_1486896/3271090702.py:67: ExperimentalWarning:\n",
      "\n",
      "upload_artifact is experimental (supported from v3.3.0). The interface can change in the future.\n",
      "\n",
      "/tmp/ipykernel_1486896/3271090702.py:71: ExperimentalWarning:\n",
      "\n",
      "upload_artifact is experimental (supported from v3.3.0). The interface can change in the future.\n",
      "\n",
      "[I 2024-07-01 00:55:36,567] Trial 8 finished with value: 0.34473196110095483 and parameters: {'lambda_l1': 0.030533155535839646, 'lambda_l2': 6.541935974372951e-05, 'num_leaves': 187, 'feature_fraction': 0.9056591308881525, 'bagging_fraction': 0.6890701326413882, 'bagging_freq': 7, 'min_child_samples': 36}. Best is trial 4 with value: 0.3695833024270181.\n",
      "/tmp/ipykernel_1486896/3271090702.py:67: ExperimentalWarning:\n",
      "\n",
      "upload_artifact is experimental (supported from v3.3.0). The interface can change in the future.\n",
      "\n",
      "/tmp/ipykernel_1486896/3271090702.py:71: ExperimentalWarning:\n",
      "\n",
      "upload_artifact is experimental (supported from v3.3.0). The interface can change in the future.\n",
      "\n",
      "[I 2024-07-01 00:55:43,320] Trial 9 finished with value: 0.33535095479720156 and parameters: {'lambda_l1': 0.37697355480249123, 'lambda_l2': 3.9542115903829e-05, 'num_leaves': 298, 'feature_fraction': 0.8151248399171791, 'bagging_fraction': 0.4333356461196895, 'bagging_freq': 6, 'min_child_samples': 15}. Best is trial 4 with value: 0.3695833024270181.\n",
      "/tmp/ipykernel_1486896/3271090702.py:67: ExperimentalWarning:\n",
      "\n",
      "upload_artifact is experimental (supported from v3.3.0). The interface can change in the future.\n",
      "\n",
      "/tmp/ipykernel_1486896/3271090702.py:71: ExperimentalWarning:\n",
      "\n",
      "upload_artifact is experimental (supported from v3.3.0). The interface can change in the future.\n",
      "\n",
      "[I 2024-07-01 00:55:49,321] Trial 10 finished with value: 0.3700169320713022 and parameters: {'lambda_l1': 1.0897077650523153e-08, 'lambda_l2': 0.14503504662440211, 'num_leaves': 36, 'feature_fraction': 0.6244145875575192, 'bagging_fraction': 0.983748780585773, 'bagging_freq': 10, 'min_child_samples': 23}. Best is trial 10 with value: 0.3700169320713022.\n",
      "/tmp/ipykernel_1486896/3271090702.py:67: ExperimentalWarning:\n",
      "\n",
      "upload_artifact is experimental (supported from v3.3.0). The interface can change in the future.\n",
      "\n",
      "/tmp/ipykernel_1486896/3271090702.py:71: ExperimentalWarning:\n",
      "\n",
      "upload_artifact is experimental (supported from v3.3.0). The interface can change in the future.\n",
      "\n",
      "[I 2024-07-01 00:55:54,413] Trial 11 finished with value: 0.3630716867552981 and parameters: {'lambda_l1': 1.306717501198849e-08, 'lambda_l2': 0.10606365151586297, 'num_leaves': 30, 'feature_fraction': 0.6354192015439524, 'bagging_fraction': 0.9750905649201148, 'bagging_freq': 10, 'min_child_samples': 25}. Best is trial 10 with value: 0.3700169320713022.\n",
      "/tmp/ipykernel_1486896/3271090702.py:67: ExperimentalWarning:\n",
      "\n",
      "upload_artifact is experimental (supported from v3.3.0). The interface can change in the future.\n",
      "\n",
      "/tmp/ipykernel_1486896/3271090702.py:71: ExperimentalWarning:\n",
      "\n",
      "upload_artifact is experimental (supported from v3.3.0). The interface can change in the future.\n",
      "\n",
      "[I 2024-07-01 00:55:59,225] Trial 12 finished with value: 0.35107018842547544 and parameters: {'lambda_l1': 2.7924243144065846e-08, 'lambda_l2': 0.24494439394438255, 'num_leaves': 96, 'feature_fraction': 0.5312483154409038, 'bagging_fraction': 0.5545861967026559, 'bagging_freq': 9, 'min_child_samples': 8}. Best is trial 10 with value: 0.3700169320713022.\n",
      "/tmp/ipykernel_1486896/3271090702.py:67: ExperimentalWarning:\n",
      "\n",
      "upload_artifact is experimental (supported from v3.3.0). The interface can change in the future.\n",
      "\n",
      "/tmp/ipykernel_1486896/3271090702.py:71: ExperimentalWarning:\n",
      "\n",
      "upload_artifact is experimental (supported from v3.3.0). The interface can change in the future.\n",
      "\n",
      "[I 2024-07-01 00:56:02,963] Trial 13 finished with value: 0.3590937556735281 and parameters: {'lambda_l1': 0.0006405954253890573, 'lambda_l2': 0.0061059929302518514, 'num_leaves': 20, 'feature_fraction': 0.7831660351747914, 'bagging_fraction': 0.989034262389052, 'bagging_freq': 3, 'min_child_samples': 28}. Best is trial 10 with value: 0.3700169320713022.\n",
      "/tmp/ipykernel_1486896/3271090702.py:67: ExperimentalWarning:\n",
      "\n",
      "upload_artifact is experimental (supported from v3.3.0). The interface can change in the future.\n",
      "\n",
      "/tmp/ipykernel_1486896/3271090702.py:71: ExperimentalWarning:\n",
      "\n",
      "upload_artifact is experimental (supported from v3.3.0). The interface can change in the future.\n",
      "\n",
      "[I 2024-07-01 00:56:08,537] Trial 14 finished with value: 0.3619827409990518 and parameters: {'lambda_l1': 0.02751771391210714, 'lambda_l2': 7.116873938040257, 'num_leaves': 249, 'feature_fraction': 0.7102376301989761, 'bagging_fraction': 0.7956838034152487, 'bagging_freq': 9, 'min_child_samples': 49}. Best is trial 10 with value: 0.3700169320713022.\n",
      "/tmp/ipykernel_1486896/3271090702.py:67: ExperimentalWarning:\n",
      "\n",
      "upload_artifact is experimental (supported from v3.3.0). The interface can change in the future.\n",
      "\n",
      "/tmp/ipykernel_1486896/3271090702.py:71: ExperimentalWarning:\n",
      "\n",
      "upload_artifact is experimental (supported from v3.3.0). The interface can change in the future.\n",
      "\n",
      "[I 2024-07-01 00:56:12,703] Trial 15 finished with value: 0.35558190876358964 and parameters: {'lambda_l1': 3.782629005589314e-07, 'lambda_l2': 1.0039644001457647e-06, 'num_leaves': 115, 'feature_fraction': 0.9651277694540917, 'bagging_fraction': 0.5434812528650995, 'bagging_freq': 2, 'min_child_samples': 21}. Best is trial 10 with value: 0.3700169320713022.\n",
      "/tmp/ipykernel_1486896/3271090702.py:67: ExperimentalWarning:\n",
      "\n",
      "upload_artifact is experimental (supported from v3.3.0). The interface can change in the future.\n",
      "\n",
      "/tmp/ipykernel_1486896/3271090702.py:71: ExperimentalWarning:\n",
      "\n",
      "upload_artifact is experimental (supported from v3.3.0). The interface can change in the future.\n",
      "\n",
      "[I 2024-07-01 00:56:17,444] Trial 16 finished with value: 0.36197050690234744 and parameters: {'lambda_l1': 4.2853787516095905e-05, 'lambda_l2': 0.002249046684625848, 'num_leaves': 53, 'feature_fraction': 0.696570129827249, 'bagging_fraction': 0.45571328081395834, 'bagging_freq': 4, 'min_child_samples': 39}. Best is trial 10 with value: 0.3700169320713022.\n",
      "/tmp/ipykernel_1486896/3271090702.py:67: ExperimentalWarning:\n",
      "\n",
      "upload_artifact is experimental (supported from v3.3.0). The interface can change in the future.\n",
      "\n",
      "/tmp/ipykernel_1486896/3271090702.py:71: ExperimentalWarning:\n",
      "\n",
      "upload_artifact is experimental (supported from v3.3.0). The interface can change in the future.\n",
      "\n",
      "[I 2024-07-01 00:56:24,253] Trial 17 finished with value: 0.3587044695472986 and parameters: {'lambda_l1': 0.010245299124938696, 'lambda_l2': 0.5066258361325134, 'num_leaves': 118, 'feature_fraction': 0.5323843646658598, 'bagging_fraction': 0.8987970218909571, 'bagging_freq': 8, 'min_child_samples': 27}. Best is trial 10 with value: 0.3700169320713022.\n",
      "/tmp/ipykernel_1486896/3271090702.py:67: ExperimentalWarning:\n",
      "\n",
      "upload_artifact is experimental (supported from v3.3.0). The interface can change in the future.\n",
      "\n",
      "/tmp/ipykernel_1486896/3271090702.py:71: ExperimentalWarning:\n",
      "\n",
      "upload_artifact is experimental (supported from v3.3.0). The interface can change in the future.\n",
      "\n",
      "[I 2024-07-01 00:56:34,125] Trial 18 finished with value: 0.36436040892563143 and parameters: {'lambda_l1': 0.0001397847083789787, 'lambda_l2': 0.01879571084086071, 'num_leaves': 224, 'feature_fraction': 0.5700730078315362, 'bagging_fraction': 0.7656041347954669, 'bagging_freq': 5, 'min_child_samples': 5}. Best is trial 10 with value: 0.3700169320713022.\n",
      "/tmp/ipykernel_1486896/3271090702.py:67: ExperimentalWarning:\n",
      "\n",
      "upload_artifact is experimental (supported from v3.3.0). The interface can change in the future.\n",
      "\n",
      "/tmp/ipykernel_1486896/3271090702.py:71: ExperimentalWarning:\n",
      "\n",
      "upload_artifact is experimental (supported from v3.3.0). The interface can change in the future.\n",
      "\n",
      "[I 2024-07-01 00:56:38,304] Trial 19 finished with value: 0.3511535277632899 and parameters: {'lambda_l1': 2.4850767488240915e-07, 'lambda_l2': 1.6498442352609872, 'num_leaves': 10, 'feature_fraction': 0.7154183450066349, 'bagging_fraction': 0.5898600640330254, 'bagging_freq': 10, 'min_child_samples': 74}. Best is trial 10 with value: 0.3700169320713022.\n",
      "/tmp/ipykernel_1486896/3271090702.py:67: ExperimentalWarning:\n",
      "\n",
      "upload_artifact is experimental (supported from v3.3.0). The interface can change in the future.\n",
      "\n",
      "/tmp/ipykernel_1486896/3271090702.py:71: ExperimentalWarning:\n",
      "\n",
      "upload_artifact is experimental (supported from v3.3.0). The interface can change in the future.\n",
      "\n",
      "[I 2024-07-01 00:56:43,108] Trial 20 finished with value: 0.35680597857278584 and parameters: {'lambda_l1': 0.17395542780063217, 'lambda_l2': 0.0009549361783677485, 'num_leaves': 48, 'feature_fraction': 0.8600281787041424, 'bagging_fraction': 0.4621252623342111, 'bagging_freq': 5, 'min_child_samples': 17}. Best is trial 10 with value: 0.3700169320713022.\n",
      "/tmp/ipykernel_1486896/3271090702.py:67: ExperimentalWarning:\n",
      "\n",
      "upload_artifact is experimental (supported from v3.3.0). The interface can change in the future.\n",
      "\n",
      "/tmp/ipykernel_1486896/3271090702.py:71: ExperimentalWarning:\n",
      "\n",
      "upload_artifact is experimental (supported from v3.3.0). The interface can change in the future.\n",
      "\n",
      "[I 2024-07-01 00:56:49,940] Trial 21 finished with value: 0.3695315455319614 and parameters: {'lambda_l1': 5.644075877028928e-06, 'lambda_l2': 4.2465172659171285e-06, 'num_leaves': 138, 'feature_fraction': 0.6028491426515932, 'bagging_fraction': 0.8863323271843269, 'bagging_freq': 8, 'min_child_samples': 72}. Best is trial 10 with value: 0.3700169320713022.\n",
      "/tmp/ipykernel_1486896/3271090702.py:67: ExperimentalWarning:\n",
      "\n",
      "upload_artifact is experimental (supported from v3.3.0). The interface can change in the future.\n",
      "\n",
      "/tmp/ipykernel_1486896/3271090702.py:71: ExperimentalWarning:\n",
      "\n",
      "upload_artifact is experimental (supported from v3.3.0). The interface can change in the future.\n",
      "\n",
      "[I 2024-07-01 00:56:54,813] Trial 22 finished with value: 0.36271855120673124 and parameters: {'lambda_l1': 1.3590342632351453e-07, 'lambda_l2': 1.438665754826491e-06, 'num_leaves': 121, 'feature_fraction': 0.6718539531900498, 'bagging_fraction': 0.9166517953071602, 'bagging_freq': 9, 'min_child_samples': 87}. Best is trial 10 with value: 0.3700169320713022.\n",
      "/tmp/ipykernel_1486896/3271090702.py:67: ExperimentalWarning:\n",
      "\n",
      "upload_artifact is experimental (supported from v3.3.0). The interface can change in the future.\n",
      "\n",
      "/tmp/ipykernel_1486896/3271090702.py:71: ExperimentalWarning:\n",
      "\n",
      "upload_artifact is experimental (supported from v3.3.0). The interface can change in the future.\n",
      "\n",
      "[I 2024-07-01 00:57:01,589] Trial 23 finished with value: 0.3698005421957913 and parameters: {'lambda_l1': 2.686052963225336e-06, 'lambda_l2': 9.669676886165853e-07, 'num_leaves': 222, 'feature_fraction': 0.6267233900523451, 'bagging_fraction': 0.941659152478439, 'bagging_freq': 8, 'min_child_samples': 81}. Best is trial 10 with value: 0.3700169320713022.\n",
      "/tmp/ipykernel_1486896/3271090702.py:67: ExperimentalWarning:\n",
      "\n",
      "upload_artifact is experimental (supported from v3.3.0). The interface can change in the future.\n",
      "\n",
      "/tmp/ipykernel_1486896/3271090702.py:71: ExperimentalWarning:\n",
      "\n",
      "upload_artifact is experimental (supported from v3.3.0). The interface can change in the future.\n",
      "\n",
      "[I 2024-07-01 00:57:07,504] Trial 24 finished with value: 0.36215704338898624 and parameters: {'lambda_l1': 9.166203151382062e-07, 'lambda_l2': 1.219505109099985e-07, 'num_leaves': 226, 'feature_fraction': 0.749466793155048, 'bagging_fraction': 0.7413505758033783, 'bagging_freq': 10, 'min_child_samples': 100}. Best is trial 10 with value: 0.3700169320713022.\n",
      "/tmp/ipykernel_1486896/3271090702.py:67: ExperimentalWarning:\n",
      "\n",
      "upload_artifact is experimental (supported from v3.3.0). The interface can change in the future.\n",
      "\n",
      "/tmp/ipykernel_1486896/3271090702.py:71: ExperimentalWarning:\n",
      "\n",
      "upload_artifact is experimental (supported from v3.3.0). The interface can change in the future.\n",
      "\n",
      "[I 2024-07-01 00:57:17,139] Trial 25 finished with value: 0.3714074057196568 and parameters: {'lambda_l1': 0.00034571096404117235, 'lambda_l2': 0.0003924503177843515, 'num_leaves': 277, 'feature_fraction': 0.5138299770623309, 'bagging_fraction': 0.9341317796639896, 'bagging_freq': 8, 'min_child_samples': 42}. Best is trial 25 with value: 0.3714074057196568.\n",
      "/tmp/ipykernel_1486896/3271090702.py:67: ExperimentalWarning:\n",
      "\n",
      "upload_artifact is experimental (supported from v3.3.0). The interface can change in the future.\n",
      "\n",
      "/tmp/ipykernel_1486896/3271090702.py:71: ExperimentalWarning:\n",
      "\n",
      "upload_artifact is experimental (supported from v3.3.0). The interface can change in the future.\n",
      "\n",
      "[I 2024-07-01 00:57:24,058] Trial 26 finished with value: 0.3687209796218215 and parameters: {'lambda_l1': 0.00024358680604226476, 'lambda_l2': 0.0003220103714256825, 'num_leaves': 298, 'feature_fraction': 0.48866701384768485, 'bagging_fraction': 0.9489422311031226, 'bagging_freq': 8, 'min_child_samples': 55}. Best is trial 25 with value: 0.3714074057196568.\n",
      "/tmp/ipykernel_1486896/3271090702.py:67: ExperimentalWarning:\n",
      "\n",
      "upload_artifact is experimental (supported from v3.3.0). The interface can change in the future.\n",
      "\n",
      "/tmp/ipykernel_1486896/3271090702.py:71: ExperimentalWarning:\n",
      "\n",
      "upload_artifact is experimental (supported from v3.3.0). The interface can change in the future.\n",
      "\n",
      "[I 2024-07-01 00:57:32,199] Trial 27 finished with value: 0.3704802496529639 and parameters: {'lambda_l1': 5.8818880489666776e-08, 'lambda_l2': 1.0941627330562202e-07, 'num_leaves': 267, 'feature_fraction': 0.6424459195199359, 'bagging_fraction': 0.8408256671475061, 'bagging_freq': 9, 'min_child_samples': 42}. Best is trial 25 with value: 0.3714074057196568.\n",
      "/tmp/ipykernel_1486896/3271090702.py:67: ExperimentalWarning:\n",
      "\n",
      "upload_artifact is experimental (supported from v3.3.0). The interface can change in the future.\n",
      "\n",
      "/tmp/ipykernel_1486896/3271090702.py:71: ExperimentalWarning:\n",
      "\n",
      "upload_artifact is experimental (supported from v3.3.0). The interface can change in the future.\n",
      "\n",
      "[I 2024-07-01 00:57:40,044] Trial 28 finished with value: 0.366234564007918 and parameters: {'lambda_l1': 1.0320587726966173e-07, 'lambda_l2': 6.894092366349677e-08, 'num_leaves': 271, 'feature_fraction': 0.5417606856602264, 'bagging_fraction': 0.8469082968759366, 'bagging_freq': 9, 'min_child_samples': 41}. Best is trial 25 with value: 0.3714074057196568.\n",
      "/tmp/ipykernel_1486896/3271090702.py:67: ExperimentalWarning:\n",
      "\n",
      "upload_artifact is experimental (supported from v3.3.0). The interface can change in the future.\n",
      "\n",
      "/tmp/ipykernel_1486896/3271090702.py:71: ExperimentalWarning:\n",
      "\n",
      "upload_artifact is experimental (supported from v3.3.0). The interface can change in the future.\n",
      "\n",
      "[I 2024-07-01 00:57:47,303] Trial 29 finished with value: 0.37469751901505166 and parameters: {'lambda_l1': 3.426814718967703e-08, 'lambda_l2': 2.0756330614004936e-05, 'num_leaves': 272, 'feature_fraction': 0.44157198314097157, 'bagging_fraction': 0.9891037476093295, 'bagging_freq': 10, 'min_child_samples': 60}. Best is trial 29 with value: 0.37469751901505166.\n",
      "/tmp/ipykernel_1486896/3271090702.py:67: ExperimentalWarning:\n",
      "\n",
      "upload_artifact is experimental (supported from v3.3.0). The interface can change in the future.\n",
      "\n",
      "/tmp/ipykernel_1486896/3271090702.py:71: ExperimentalWarning:\n",
      "\n",
      "upload_artifact is experimental (supported from v3.3.0). The interface can change in the future.\n",
      "\n",
      "[I 2024-07-01 00:57:53,859] Trial 30 finished with value: 0.3641100850916136 and parameters: {'lambda_l1': 7.548409837595513e-05, 'lambda_l2': 2.143570418781406e-05, 'num_leaves': 269, 'feature_fraction': 0.4193529875431875, 'bagging_fraction': 0.8116128463950357, 'bagging_freq': 9, 'min_child_samples': 58}. Best is trial 29 with value: 0.37469751901505166.\n",
      "/tmp/ipykernel_1486896/3271090702.py:67: ExperimentalWarning:\n",
      "\n",
      "upload_artifact is experimental (supported from v3.3.0). The interface can change in the future.\n",
      "\n",
      "/tmp/ipykernel_1486896/3271090702.py:71: ExperimentalWarning:\n",
      "\n",
      "upload_artifact is experimental (supported from v3.3.0). The interface can change in the future.\n",
      "\n",
      "[I 2024-07-01 00:57:59,313] Trial 31 finished with value: 0.3687150379801029 and parameters: {'lambda_l1': 3.475193373442729e-08, 'lambda_l2': 0.00017755107152839605, 'num_leaves': 273, 'feature_fraction': 0.47516106126168767, 'bagging_fraction': 0.9918560576072734, 'bagging_freq': 10, 'min_child_samples': 46}. Best is trial 29 with value: 0.37469751901505166.\n",
      "/tmp/ipykernel_1486896/3271090702.py:67: ExperimentalWarning:\n",
      "\n",
      "upload_artifact is experimental (supported from v3.3.0). The interface can change in the future.\n",
      "\n",
      "/tmp/ipykernel_1486896/3271090702.py:71: ExperimentalWarning:\n",
      "\n",
      "upload_artifact is experimental (supported from v3.3.0). The interface can change in the future.\n",
      "\n",
      "[I 2024-07-01 00:58:07,713] Trial 32 finished with value: 0.36538988291933094 and parameters: {'lambda_l1': 3.04110084100417e-08, 'lambda_l2': 9.471775750803294e-06, 'num_leaves': 255, 'feature_fraction': 0.4147000745788761, 'bagging_fraction': 0.934577339986933, 'bagging_freq': 10, 'min_child_samples': 63}. Best is trial 29 with value: 0.37469751901505166.\n",
      "/tmp/ipykernel_1486896/3271090702.py:67: ExperimentalWarning:\n",
      "\n",
      "upload_artifact is experimental (supported from v3.3.0). The interface can change in the future.\n",
      "\n",
      "/tmp/ipykernel_1486896/3271090702.py:71: ExperimentalWarning:\n",
      "\n",
      "upload_artifact is experimental (supported from v3.3.0). The interface can change in the future.\n",
      "\n",
      "[I 2024-07-01 00:58:15,369] Trial 33 finished with value: 0.3664294973156441 and parameters: {'lambda_l1': 1.3128718142906885e-08, 'lambda_l2': 2.1497150431709105e-07, 'num_leaves': 212, 'feature_fraction': 0.3735807212636942, 'bagging_fraction': 0.8833376568158806, 'bagging_freq': 9, 'min_child_samples': 32}. Best is trial 29 with value: 0.37469751901505166.\n",
      "/tmp/ipykernel_1486896/3271090702.py:67: ExperimentalWarning:\n",
      "\n",
      "upload_artifact is experimental (supported from v3.3.0). The interface can change in the future.\n",
      "\n",
      "/tmp/ipykernel_1486896/3271090702.py:71: ExperimentalWarning:\n",
      "\n",
      "upload_artifact is experimental (supported from v3.3.0). The interface can change in the future.\n",
      "\n",
      "[I 2024-07-01 00:58:23,937] Trial 34 finished with value: 0.36269168451823075 and parameters: {'lambda_l1': 0.0009928091908353639, 'lambda_l2': 0.0008399228442251028, 'num_leaves': 247, 'feature_fraction': 0.5048140735762284, 'bagging_fraction': 0.9960826350193562, 'bagging_freq': 10, 'min_child_samples': 43}. Best is trial 29 with value: 0.37469751901505166.\n",
      "/tmp/ipykernel_1486896/3271090702.py:67: ExperimentalWarning:\n",
      "\n",
      "upload_artifact is experimental (supported from v3.3.0). The interface can change in the future.\n",
      "\n",
      "/tmp/ipykernel_1486896/3271090702.py:71: ExperimentalWarning:\n",
      "\n",
      "upload_artifact is experimental (supported from v3.3.0). The interface can change in the future.\n",
      "\n",
      "[I 2024-07-01 00:58:29,871] Trial 35 finished with value: 0.36375696022233933 and parameters: {'lambda_l1': 8.427320267578915e-08, 'lambda_l2': 4.549900137314396e-06, 'num_leaves': 202, 'feature_fraction': 0.5774704964676638, 'bagging_fraction': 0.85026488506691, 'bagging_freq': 7, 'min_child_samples': 51}. Best is trial 29 with value: 0.37469751901505166.\n",
      "/tmp/ipykernel_1486896/3271090702.py:67: ExperimentalWarning:\n",
      "\n",
      "upload_artifact is experimental (supported from v3.3.0). The interface can change in the future.\n",
      "\n",
      "/tmp/ipykernel_1486896/3271090702.py:71: ExperimentalWarning:\n",
      "\n",
      "upload_artifact is experimental (supported from v3.3.0). The interface can change in the future.\n",
      "\n",
      "[I 2024-07-01 00:58:39,805] Trial 36 finished with value: 0.37424370547989644 and parameters: {'lambda_l1': 7.202867926298847e-07, 'lambda_l2': 4.3268440336781605e-08, 'num_leaves': 283, 'feature_fraction': 0.44589729248813154, 'bagging_fraction': 0.9511809561832574, 'bagging_freq': 8, 'min_child_samples': 33}. Best is trial 29 with value: 0.37469751901505166.\n",
      "/tmp/ipykernel_1486896/3271090702.py:67: ExperimentalWarning:\n",
      "\n",
      "upload_artifact is experimental (supported from v3.3.0). The interface can change in the future.\n",
      "\n",
      "/tmp/ipykernel_1486896/3271090702.py:71: ExperimentalWarning:\n",
      "\n",
      "upload_artifact is experimental (supported from v3.3.0). The interface can change in the future.\n",
      "\n",
      "[I 2024-07-01 00:58:47,968] Trial 37 finished with value: 0.36804262596835513 and parameters: {'lambda_l1': 8.207931853712749e-07, 'lambda_l2': 3.5970263630496874e-08, 'num_leaves': 285, 'feature_fraction': 0.4493702785486208, 'bagging_fraction': 0.933533564011608, 'bagging_freq': 8, 'min_child_samples': 35}. Best is trial 29 with value: 0.37469751901505166.\n",
      "/tmp/ipykernel_1486896/3271090702.py:67: ExperimentalWarning:\n",
      "\n",
      "upload_artifact is experimental (supported from v3.3.0). The interface can change in the future.\n",
      "\n",
      "/tmp/ipykernel_1486896/3271090702.py:71: ExperimentalWarning:\n",
      "\n",
      "upload_artifact is experimental (supported from v3.3.0). The interface can change in the future.\n",
      "\n",
      "[I 2024-07-01 00:58:55,350] Trial 38 finished with value: 0.3656922735761472 and parameters: {'lambda_l1': 2.399682711079864e-05, 'lambda_l2': 3.093337771755983e-07, 'num_leaves': 239, 'feature_fraction': 0.3100018471944046, 'bagging_fraction': 0.7780419085079573, 'bagging_freq': 1, 'min_child_samples': 67}. Best is trial 29 with value: 0.37469751901505166.\n",
      "/tmp/ipykernel_1486896/3271090702.py:67: ExperimentalWarning:\n",
      "\n",
      "upload_artifact is experimental (supported from v3.3.0). The interface can change in the future.\n",
      "\n",
      "/tmp/ipykernel_1486896/3271090702.py:71: ExperimentalWarning:\n",
      "\n",
      "upload_artifact is experimental (supported from v3.3.0). The interface can change in the future.\n",
      "\n",
      "[I 2024-07-01 00:59:01,808] Trial 39 finished with value: 0.3669794811908134 and parameters: {'lambda_l1': 9.369064578468901e-06, 'lambda_l2': 3.6385939987574615e-08, 'num_leaves': 175, 'feature_fraction': 0.35888174272389683, 'bagging_fraction': 0.8540301710435274, 'bagging_freq': 7, 'min_child_samples': 56}. Best is trial 29 with value: 0.37469751901505166.\n",
      "/tmp/ipykernel_1486896/3271090702.py:67: ExperimentalWarning:\n",
      "\n",
      "upload_artifact is experimental (supported from v3.3.0). The interface can change in the future.\n",
      "\n",
      "/tmp/ipykernel_1486896/3271090702.py:71: ExperimentalWarning:\n",
      "\n",
      "upload_artifact is experimental (supported from v3.3.0). The interface can change in the future.\n",
      "\n",
      "[I 2024-07-01 00:59:10,544] Trial 40 finished with value: 0.3678478912605668 and parameters: {'lambda_l1': 6.936735206866125e-07, 'lambda_l2': 1.4120679033671664e-08, 'num_leaves': 283, 'feature_fraction': 0.4383664207258981, 'bagging_fraction': 0.9064653945067019, 'bagging_freq': 6, 'min_child_samples': 33}. Best is trial 29 with value: 0.37469751901505166.\n",
      "/tmp/ipykernel_1486896/3271090702.py:67: ExperimentalWarning:\n",
      "\n",
      "upload_artifact is experimental (supported from v3.3.0). The interface can change in the future.\n",
      "\n",
      "/tmp/ipykernel_1486896/3271090702.py:71: ExperimentalWarning:\n",
      "\n",
      "upload_artifact is experimental (supported from v3.3.0). The interface can change in the future.\n",
      "\n",
      "[I 2024-07-01 00:59:17,960] Trial 41 finished with value: 0.36693321280647206 and parameters: {'lambda_l1': 6.779836644101075e-08, 'lambda_l2': 0.0158362305639132, 'num_leaves': 260, 'feature_fraction': 0.5055460018689278, 'bagging_fraction': 0.9621580651018308, 'bagging_freq': 9, 'min_child_samples': 45}. Best is trial 29 with value: 0.37469751901505166.\n",
      "/tmp/ipykernel_1486896/3271090702.py:67: ExperimentalWarning:\n",
      "\n",
      "upload_artifact is experimental (supported from v3.3.0). The interface can change in the future.\n",
      "\n",
      "/tmp/ipykernel_1486896/3271090702.py:71: ExperimentalWarning:\n",
      "\n",
      "upload_artifact is experimental (supported from v3.3.0). The interface can change in the future.\n",
      "\n",
      "[I 2024-07-01 00:59:27,891] Trial 42 finished with value: 0.3632088228446723 and parameters: {'lambda_l1': 1.508664045596798e-08, 'lambda_l2': 0.06257710248378529, 'num_leaves': 300, 'feature_fraction': 0.643252688762835, 'bagging_fraction': 0.9632781657395485, 'bagging_freq': 8, 'min_child_samples': 20}. Best is trial 29 with value: 0.37469751901505166.\n",
      "/tmp/ipykernel_1486896/3271090702.py:67: ExperimentalWarning:\n",
      "\n",
      "upload_artifact is experimental (supported from v3.3.0). The interface can change in the future.\n",
      "\n",
      "/tmp/ipykernel_1486896/3271090702.py:71: ExperimentalWarning:\n",
      "\n",
      "upload_artifact is experimental (supported from v3.3.0). The interface can change in the future.\n",
      "\n",
      "[I 2024-07-01 00:59:36,106] Trial 43 finished with value: 0.37145975955613875 and parameters: {'lambda_l1': 2.831558819498596e-07, 'lambda_l2': 4.156329493138768e-07, 'num_leaves': 238, 'feature_fraction': 0.564323102536384, 'bagging_fraction': 0.9175524495693853, 'bagging_freq': 10, 'min_child_samples': 39}. Best is trial 29 with value: 0.37469751901505166.\n",
      "/tmp/ipykernel_1486896/3271090702.py:67: ExperimentalWarning:\n",
      "\n",
      "upload_artifact is experimental (supported from v3.3.0). The interface can change in the future.\n",
      "\n",
      "/tmp/ipykernel_1486896/3271090702.py:71: ExperimentalWarning:\n",
      "\n",
      "upload_artifact is experimental (supported from v3.3.0). The interface can change in the future.\n",
      "\n",
      "[I 2024-07-01 00:59:42,698] Trial 44 finished with value: 0.3607667603779523 and parameters: {'lambda_l1': 2.7919575170118077e-06, 'lambda_l2': 3.854136013675628e-07, 'num_leaves': 284, 'feature_fraction': 0.564344973024888, 'bagging_fraction': 0.8249759220245861, 'bagging_freq': 9, 'min_child_samples': 39}. Best is trial 29 with value: 0.37469751901505166.\n",
      "/tmp/ipykernel_1486896/3271090702.py:67: ExperimentalWarning:\n",
      "\n",
      "upload_artifact is experimental (supported from v3.3.0). The interface can change in the future.\n",
      "\n",
      "/tmp/ipykernel_1486896/3271090702.py:71: ExperimentalWarning:\n",
      "\n",
      "upload_artifact is experimental (supported from v3.3.0). The interface can change in the future.\n",
      "\n",
      "[I 2024-07-01 00:59:51,851] Trial 45 finished with value: 0.3749550372370364 and parameters: {'lambda_l1': 2.5144348156309724e-07, 'lambda_l2': 3.185072605625455e-08, 'num_leaves': 241, 'feature_fraction': 0.3860363386196682, 'bagging_fraction': 0.8984846422871334, 'bagging_freq': 10, 'min_child_samples': 52}. Best is trial 45 with value: 0.3749550372370364.\n",
      "/tmp/ipykernel_1486896/3271090702.py:67: ExperimentalWarning:\n",
      "\n",
      "upload_artifact is experimental (supported from v3.3.0). The interface can change in the future.\n",
      "\n",
      "/tmp/ipykernel_1486896/3271090702.py:71: ExperimentalWarning:\n",
      "\n",
      "upload_artifact is experimental (supported from v3.3.0). The interface can change in the future.\n",
      "\n",
      "[I 2024-07-01 00:59:58,858] Trial 46 finished with value: 0.3646864274650816 and parameters: {'lambda_l1': 3.8266842400947287e-07, 'lambda_l2': 0.00011792124469772532, 'num_leaves': 237, 'feature_fraction': 0.4021524315154155, 'bagging_fraction': 0.9112951537028289, 'bagging_freq': 10, 'min_child_samples': 52}. Best is trial 45 with value: 0.3749550372370364.\n",
      "/tmp/ipykernel_1486896/3271090702.py:67: ExperimentalWarning:\n",
      "\n",
      "upload_artifact is experimental (supported from v3.3.0). The interface can change in the future.\n",
      "\n",
      "/tmp/ipykernel_1486896/3271090702.py:71: ExperimentalWarning:\n",
      "\n",
      "upload_artifact is experimental (supported from v3.3.0). The interface can change in the future.\n",
      "\n",
      "[I 2024-07-01 01:00:08,708] Trial 47 finished with value: 0.3688386853996816 and parameters: {'lambda_l1': 0.0027706059767463958, 'lambda_l2': 3.101839723718704e-08, 'num_leaves': 195, 'feature_fraction': 0.3538709300218028, 'bagging_fraction': 0.7278557878767552, 'bagging_freq': 7, 'min_child_samples': 30}. Best is trial 45 with value: 0.3749550372370364.\n",
      "/tmp/ipykernel_1486896/3271090702.py:67: ExperimentalWarning:\n",
      "\n",
      "upload_artifact is experimental (supported from v3.3.0). The interface can change in the future.\n",
      "\n",
      "/tmp/ipykernel_1486896/3271090702.py:71: ExperimentalWarning:\n",
      "\n",
      "upload_artifact is experimental (supported from v3.3.0). The interface can change in the future.\n",
      "\n",
      "[I 2024-07-01 01:00:16,494] Trial 48 finished with value: 0.37046744093635486 and parameters: {'lambda_l1': 2.1301265378737408e-07, 'lambda_l2': 2.4993079110304553e-05, 'num_leaves': 239, 'feature_fraction': 0.4569295057777048, 'bagging_fraction': 0.8729894802300027, 'bagging_freq': 10, 'min_child_samples': 59}. Best is trial 45 with value: 0.3749550372370364.\n",
      "/tmp/ipykernel_1486896/3271090702.py:67: ExperimentalWarning:\n",
      "\n",
      "upload_artifact is experimental (supported from v3.3.0). The interface can change in the future.\n",
      "\n",
      "/tmp/ipykernel_1486896/3271090702.py:71: ExperimentalWarning:\n",
      "\n",
      "upload_artifact is experimental (supported from v3.3.0). The interface can change in the future.\n",
      "\n",
      "[I 2024-07-01 01:00:23,314] Trial 49 finished with value: 0.3653007210702449 and parameters: {'lambda_l1': 1.6136256965486359e-06, 'lambda_l2': 1.0039958448496847e-08, 'num_leaves': 161, 'feature_fraction': 0.33009183292643846, 'bagging_fraction': 0.637944807972874, 'bagging_freq': 6, 'min_child_samples': 67}. Best is trial 45 with value: 0.3749550372370364.\n",
      "/tmp/ipykernel_1486896/3271090702.py:67: ExperimentalWarning:\n",
      "\n",
      "upload_artifact is experimental (supported from v3.3.0). The interface can change in the future.\n",
      "\n",
      "/tmp/ipykernel_1486896/3271090702.py:71: ExperimentalWarning:\n",
      "\n",
      "upload_artifact is experimental (supported from v3.3.0). The interface can change in the future.\n",
      "\n",
      "[I 2024-07-01 01:00:27,450] Trial 50 finished with value: 0.3423554161431367 and parameters: {'lambda_l1': 6.187774875264198e-06, 'lambda_l2': 2.1639291658822945e-06, 'num_leaves': 258, 'feature_fraction': 0.3853641751723201, 'bagging_fraction': 0.38087569936284, 'bagging_freq': 10, 'min_child_samples': 48}. Best is trial 45 with value: 0.3749550372370364.\n",
      "/tmp/ipykernel_1486896/3271090702.py:67: ExperimentalWarning:\n",
      "\n",
      "upload_artifact is experimental (supported from v3.3.0). The interface can change in the future.\n",
      "\n",
      "/tmp/ipykernel_1486896/3271090702.py:71: ExperimentalWarning:\n",
      "\n",
      "upload_artifact is experimental (supported from v3.3.0). The interface can change in the future.\n",
      "\n",
      "[I 2024-07-01 01:00:36,322] Trial 51 finished with value: 0.362077515005308 and parameters: {'lambda_l1': 5.105245248314632e-08, 'lambda_l2': 9.901002782911077e-08, 'num_leaves': 266, 'feature_fraction': 0.5124995029370191, 'bagging_fraction': 0.9290223206650654, 'bagging_freq': 9, 'min_child_samples': 37}. Best is trial 45 with value: 0.3749550372370364.\n",
      "/tmp/ipykernel_1486896/3271090702.py:67: ExperimentalWarning:\n",
      "\n",
      "upload_artifact is experimental (supported from v3.3.0). The interface can change in the future.\n",
      "\n",
      "/tmp/ipykernel_1486896/3271090702.py:71: ExperimentalWarning:\n",
      "\n",
      "upload_artifact is experimental (supported from v3.3.0). The interface can change in the future.\n",
      "\n",
      "[I 2024-07-01 01:00:44,912] Trial 52 finished with value: 0.3697121071771295 and parameters: {'lambda_l1': 2.0092207627453673e-07, 'lambda_l2': 3.681591505409027e-07, 'num_leaves': 281, 'feature_fraction': 0.6027748897949733, 'bagging_fraction': 0.9655998057546292, 'bagging_freq': 9, 'min_child_samples': 52}. Best is trial 45 with value: 0.3749550372370364.\n",
      "/tmp/ipykernel_1486896/3271090702.py:67: ExperimentalWarning:\n",
      "\n",
      "upload_artifact is experimental (supported from v3.3.0). The interface can change in the future.\n",
      "\n",
      "/tmp/ipykernel_1486896/3271090702.py:71: ExperimentalWarning:\n",
      "\n",
      "upload_artifact is experimental (supported from v3.3.0). The interface can change in the future.\n",
      "\n",
      "[I 2024-07-01 01:00:51,381] Trial 53 finished with value: 0.3674379775423905 and parameters: {'lambda_l1': 4.2666085185564415e-07, 'lambda_l2': 7.061557713850373e-08, 'num_leaves': 289, 'feature_fraction': 0.4758221808342378, 'bagging_fraction': 0.8202333138104888, 'bagging_freq': 10, 'min_child_samples': 43}. Best is trial 45 with value: 0.3749550372370364.\n",
      "/tmp/ipykernel_1486896/3271090702.py:67: ExperimentalWarning:\n",
      "\n",
      "upload_artifact is experimental (supported from v3.3.0). The interface can change in the future.\n",
      "\n",
      "/tmp/ipykernel_1486896/3271090702.py:71: ExperimentalWarning:\n",
      "\n",
      "upload_artifact is experimental (supported from v3.3.0). The interface can change in the future.\n",
      "\n",
      "[I 2024-07-01 01:00:58,293] Trial 54 finished with value: 0.37392007031872454 and parameters: {'lambda_l1': 2.8700923345368168e-05, 'lambda_l2': 2.5396702707645007e-08, 'num_leaves': 248, 'feature_fraction': 0.5499111346190656, 'bagging_fraction': 0.8966068472679789, 'bagging_freq': 8, 'min_child_samples': 48}. Best is trial 45 with value: 0.3749550372370364.\n",
      "/tmp/ipykernel_1486896/3271090702.py:67: ExperimentalWarning:\n",
      "\n",
      "upload_artifact is experimental (supported from v3.3.0). The interface can change in the future.\n",
      "\n",
      "/tmp/ipykernel_1486896/3271090702.py:71: ExperimentalWarning:\n",
      "\n",
      "upload_artifact is experimental (supported from v3.3.0). The interface can change in the future.\n",
      "\n",
      "[I 2024-07-01 01:01:05,191] Trial 55 finished with value: 0.3614603777948485 and parameters: {'lambda_l1': 0.0012668023435808832, 'lambda_l2': 2.5532473491917006e-08, 'num_leaves': 249, 'feature_fraction': 0.5456337677273254, 'bagging_fraction': 0.8858117632214653, 'bagging_freq': 8, 'min_child_samples': 62}. Best is trial 45 with value: 0.3749550372370364.\n",
      "/tmp/ipykernel_1486896/3271090702.py:67: ExperimentalWarning:\n",
      "\n",
      "upload_artifact is experimental (supported from v3.3.0). The interface can change in the future.\n",
      "\n",
      "/tmp/ipykernel_1486896/3271090702.py:71: ExperimentalWarning:\n",
      "\n",
      "upload_artifact is experimental (supported from v3.3.0). The interface can change in the future.\n",
      "\n",
      "[I 2024-07-01 01:01:12,926] Trial 56 finished with value: 0.3660371291741428 and parameters: {'lambda_l1': 2.1342649085924498e-05, 'lambda_l2': 2.0458807031474963e-07, 'num_leaves': 236, 'feature_fraction': 0.4297054537269472, 'bagging_fraction': 0.9963163841344125, 'bagging_freq': 7, 'min_child_samples': 48}. Best is trial 45 with value: 0.3749550372370364.\n",
      "/tmp/ipykernel_1486896/3271090702.py:67: ExperimentalWarning:\n",
      "\n",
      "upload_artifact is experimental (supported from v3.3.0). The interface can change in the future.\n",
      "\n",
      "/tmp/ipykernel_1486896/3271090702.py:71: ExperimentalWarning:\n",
      "\n",
      "upload_artifact is experimental (supported from v3.3.0). The interface can change in the future.\n",
      "\n",
      "[I 2024-07-01 01:01:18,846] Trial 57 finished with value: 0.36498423916247097 and parameters: {'lambda_l1': 7.084853842015702e-05, 'lambda_l2': 6.529951658359701e-07, 'num_leaves': 276, 'feature_fraction': 0.4985650233797028, 'bagging_fraction': 0.9076462945154017, 'bagging_freq': 8, 'min_child_samples': 55}. Best is trial 45 with value: 0.3749550372370364.\n",
      "/tmp/ipykernel_1486896/3271090702.py:67: ExperimentalWarning:\n",
      "\n",
      "upload_artifact is experimental (supported from v3.3.0). The interface can change in the future.\n",
      "\n",
      "/tmp/ipykernel_1486896/3271090702.py:71: ExperimentalWarning:\n",
      "\n",
      "upload_artifact is experimental (supported from v3.3.0). The interface can change in the future.\n",
      "\n",
      "[I 2024-07-01 01:01:26,271] Trial 58 finished with value: 0.36389063614587086 and parameters: {'lambda_l1': 0.00033591194113291226, 'lambda_l2': 2.8268490648401795e-06, 'num_leaves': 210, 'feature_fraction': 0.5254536884080153, 'bagging_fraction': 0.9449883312929984, 'bagging_freq': 7, 'min_child_samples': 38}. Best is trial 45 with value: 0.3749550372370364.\n",
      "/tmp/ipykernel_1486896/3271090702.py:67: ExperimentalWarning:\n",
      "\n",
      "upload_artifact is experimental (supported from v3.3.0). The interface can change in the future.\n",
      "\n",
      "/tmp/ipykernel_1486896/3271090702.py:71: ExperimentalWarning:\n",
      "\n",
      "upload_artifact is experimental (supported from v3.3.0). The interface can change in the future.\n",
      "\n",
      "[I 2024-07-01 01:01:35,685] Trial 59 finished with value: 0.3680645945915386 and parameters: {'lambda_l1': 1.810899693764582e-06, 'lambda_l2': 9.910187636401623e-06, 'num_leaves': 228, 'feature_fraction': 0.4660428670017008, 'bagging_fraction': 0.9721425108514284, 'bagging_freq': 5, 'min_child_samples': 34}. Best is trial 45 with value: 0.3749550372370364.\n",
      "/tmp/ipykernel_1486896/3271090702.py:67: ExperimentalWarning:\n",
      "\n",
      "upload_artifact is experimental (supported from v3.3.0). The interface can change in the future.\n",
      "\n",
      "/tmp/ipykernel_1486896/3271090702.py:71: ExperimentalWarning:\n",
      "\n",
      "upload_artifact is experimental (supported from v3.3.0). The interface can change in the future.\n",
      "\n",
      "[I 2024-07-01 01:01:43,508] Trial 60 finished with value: 0.362354548817183 and parameters: {'lambda_l1': 0.004489904030319407, 'lambda_l2': 0.002746024355387328, 'num_leaves': 180, 'feature_fraction': 0.5831123656875944, 'bagging_fraction': 0.8700210118751551, 'bagging_freq': 8, 'min_child_samples': 30}. Best is trial 45 with value: 0.3749550372370364.\n",
      "/tmp/ipykernel_1486896/3271090702.py:67: ExperimentalWarning:\n",
      "\n",
      "upload_artifact is experimental (supported from v3.3.0). The interface can change in the future.\n",
      "\n",
      "/tmp/ipykernel_1486896/3271090702.py:71: ExperimentalWarning:\n",
      "\n",
      "upload_artifact is experimental (supported from v3.3.0). The interface can change in the future.\n",
      "\n",
      "[I 2024-07-01 01:01:50,108] Trial 61 finished with value: 0.3661936450843034 and parameters: {'lambda_l1': 1.37365971991605e-07, 'lambda_l2': 1.444149016273133e-07, 'num_leaves': 262, 'feature_fraction': 0.6661455804505392, 'bagging_fraction': 0.8373409930539059, 'bagging_freq': 9, 'min_child_samples': 45}. Best is trial 45 with value: 0.3749550372370364.\n",
      "/tmp/ipykernel_1486896/3271090702.py:67: ExperimentalWarning:\n",
      "\n",
      "upload_artifact is experimental (supported from v3.3.0). The interface can change in the future.\n",
      "\n",
      "/tmp/ipykernel_1486896/3271090702.py:71: ExperimentalWarning:\n",
      "\n",
      "upload_artifact is experimental (supported from v3.3.0). The interface can change in the future.\n",
      "\n",
      "[I 2024-07-01 01:01:56,026] Trial 62 finished with value: 0.3676956933554944 and parameters: {'lambda_l1': 6.889970964589724e-08, 'lambda_l2': 1.9191701462477026e-08, 'num_leaves': 249, 'feature_fraction': 0.5663463198661729, 'bagging_fraction': 0.6621556590293454, 'bagging_freq': 9, 'min_child_samples': 43}. Best is trial 45 with value: 0.3749550372370364.\n",
      "/tmp/ipykernel_1486896/3271090702.py:67: ExperimentalWarning:\n",
      "\n",
      "upload_artifact is experimental (supported from v3.3.0). The interface can change in the future.\n",
      "\n",
      "/tmp/ipykernel_1486896/3271090702.py:71: ExperimentalWarning:\n",
      "\n",
      "upload_artifact is experimental (supported from v3.3.0). The interface can change in the future.\n",
      "\n",
      "[I 2024-07-01 01:02:03,253] Trial 63 finished with value: 0.3732344982551523 and parameters: {'lambda_l1': 2.6588486670393364e-08, 'lambda_l2': 4.9533764331283674e-08, 'num_leaves': 293, 'feature_fraction': 0.6141050294569155, 'bagging_fraction': 0.9251450894639213, 'bagging_freq': 10, 'min_child_samples': 41}. Best is trial 45 with value: 0.3749550372370364.\n",
      "/tmp/ipykernel_1486896/3271090702.py:67: ExperimentalWarning:\n",
      "\n",
      "upload_artifact is experimental (supported from v3.3.0). The interface can change in the future.\n",
      "\n",
      "/tmp/ipykernel_1486896/3271090702.py:71: ExperimentalWarning:\n",
      "\n",
      "upload_artifact is experimental (supported from v3.3.0). The interface can change in the future.\n",
      "\n",
      "[I 2024-07-01 01:02:13,277] Trial 64 finished with value: 0.3630702360475012 and parameters: {'lambda_l1': 1.8021325748699292e-08, 'lambda_l2': 5.404098934549081e-08, 'num_leaves': 293, 'feature_fraction': 0.5421157500787481, 'bagging_fraction': 0.9216749874634238, 'bagging_freq': 10, 'min_child_samples': 26}. Best is trial 45 with value: 0.3749550372370364.\n",
      "/tmp/ipykernel_1486896/3271090702.py:67: ExperimentalWarning:\n",
      "\n",
      "upload_artifact is experimental (supported from v3.3.0). The interface can change in the future.\n",
      "\n",
      "/tmp/ipykernel_1486896/3271090702.py:71: ExperimentalWarning:\n",
      "\n",
      "upload_artifact is experimental (supported from v3.3.0). The interface can change in the future.\n",
      "\n",
      "[I 2024-07-01 01:02:20,460] Trial 65 finished with value: 0.3725634147319341 and parameters: {'lambda_l1': 2.9577216402986437e-08, 'lambda_l2': 6.249314308766898e-07, 'num_leaves': 276, 'feature_fraction': 0.6065954012443043, 'bagging_fraction': 0.893006654937188, 'bagging_freq': 10, 'min_child_samples': 39}. Best is trial 45 with value: 0.3749550372370364.\n",
      "/tmp/ipykernel_1486896/3271090702.py:67: ExperimentalWarning:\n",
      "\n",
      "upload_artifact is experimental (supported from v3.3.0). The interface can change in the future.\n",
      "\n",
      "/tmp/ipykernel_1486896/3271090702.py:71: ExperimentalWarning:\n",
      "\n",
      "upload_artifact is experimental (supported from v3.3.0). The interface can change in the future.\n",
      "\n",
      "[I 2024-07-01 01:02:27,557] Trial 66 finished with value: 0.3625166168078139 and parameters: {'lambda_l1': 2.5606690246291214e-08, 'lambda_l2': 7.317678307593508e-07, 'num_leaves': 291, 'feature_fraction': 0.6069932920667068, 'bagging_fraction': 0.7969604358798139, 'bagging_freq': 10, 'min_child_samples': 50}. Best is trial 45 with value: 0.3749550372370364.\n",
      "/tmp/ipykernel_1486896/3271090702.py:67: ExperimentalWarning:\n",
      "\n",
      "upload_artifact is experimental (supported from v3.3.0). The interface can change in the future.\n",
      "\n",
      "/tmp/ipykernel_1486896/3271090702.py:71: ExperimentalWarning:\n",
      "\n",
      "upload_artifact is experimental (supported from v3.3.0). The interface can change in the future.\n",
      "\n",
      "[I 2024-07-01 01:02:35,665] Trial 67 finished with value: 0.37102302170077406 and parameters: {'lambda_l1': 5.414751355974508e-07, 'lambda_l2': 5.3701866441766345e-08, 'num_leaves': 256, 'feature_fraction': 0.6215998095003679, 'bagging_fraction': 0.8936032681369488, 'bagging_freq': 10, 'min_child_samples': 39}. Best is trial 45 with value: 0.3749550372370364.\n",
      "/tmp/ipykernel_1486896/3271090702.py:67: ExperimentalWarning:\n",
      "\n",
      "upload_artifact is experimental (supported from v3.3.0). The interface can change in the future.\n",
      "\n",
      "/tmp/ipykernel_1486896/3271090702.py:71: ExperimentalWarning:\n",
      "\n",
      "upload_artifact is experimental (supported from v3.3.0). The interface can change in the future.\n",
      "\n",
      "[I 2024-07-01 01:02:42,484] Trial 68 finished with value: 0.36746278105975494 and parameters: {'lambda_l1': 3.716517194459684e-08, 'lambda_l2': 1.962824819967098e-08, 'num_leaves': 219, 'feature_fraction': 0.665629771920099, 'bagging_fraction': 0.9537766039541776, 'bagging_freq': 10, 'min_child_samples': 59}. Best is trial 45 with value: 0.3749550372370364.\n",
      "/tmp/ipykernel_1486896/3271090702.py:67: ExperimentalWarning:\n",
      "\n",
      "upload_artifact is experimental (supported from v3.3.0). The interface can change in the future.\n",
      "\n",
      "/tmp/ipykernel_1486896/3271090702.py:71: ExperimentalWarning:\n",
      "\n",
      "upload_artifact is experimental (supported from v3.3.0). The interface can change in the future.\n",
      "\n",
      "[I 2024-07-01 01:02:51,792] Trial 69 finished with value: 0.35662776099365584 and parameters: {'lambda_l1': 2.64750248444466e-07, 'lambda_l2': 5.745023762160114e-07, 'num_leaves': 272, 'feature_fraction': 0.7232897299791331, 'bagging_fraction': 0.863074140803857, 'bagging_freq': 10, 'min_child_samples': 13}. Best is trial 45 with value: 0.3749550372370364.\n",
      "/tmp/ipykernel_1486896/3271090702.py:67: ExperimentalWarning:\n",
      "\n",
      "upload_artifact is experimental (supported from v3.3.0). The interface can change in the future.\n",
      "\n",
      "/tmp/ipykernel_1486896/3271090702.py:71: ExperimentalWarning:\n",
      "\n",
      "upload_artifact is experimental (supported from v3.3.0). The interface can change in the future.\n",
      "\n",
      "[I 2024-07-01 01:02:57,490] Trial 70 finished with value: 0.36901545641873157 and parameters: {'lambda_l1': 1.077039829988305e-08, 'lambda_l2': 2.616303563804146e-07, 'num_leaves': 232, 'feature_fraction': 0.3998907234870115, 'bagging_fraction': 0.9716961673174177, 'bagging_freq': 9, 'min_child_samples': 71}. Best is trial 45 with value: 0.3749550372370364.\n",
      "/tmp/ipykernel_1486896/3271090702.py:67: ExperimentalWarning:\n",
      "\n",
      "upload_artifact is experimental (supported from v3.3.0). The interface can change in the future.\n",
      "\n",
      "/tmp/ipykernel_1486896/3271090702.py:71: ExperimentalWarning:\n",
      "\n",
      "upload_artifact is experimental (supported from v3.3.0). The interface can change in the future.\n",
      "\n",
      "[I 2024-07-01 01:03:04,268] Trial 71 finished with value: 0.3610401006456867 and parameters: {'lambda_l1': 1.3344774500264832e-07, 'lambda_l2': 0.00046961167496403766, 'num_leaves': 244, 'feature_fraction': 0.5529168270520731, 'bagging_fraction': 0.9252751814700211, 'bagging_freq': 3, 'min_child_samples': 41}. Best is trial 45 with value: 0.3749550372370364.\n",
      "/tmp/ipykernel_1486896/3271090702.py:67: ExperimentalWarning:\n",
      "\n",
      "upload_artifact is experimental (supported from v3.3.0). The interface can change in the future.\n",
      "\n",
      "/tmp/ipykernel_1486896/3271090702.py:71: ExperimentalWarning:\n",
      "\n",
      "upload_artifact is experimental (supported from v3.3.0). The interface can change in the future.\n",
      "\n",
      "[I 2024-07-01 01:03:12,810] Trial 72 finished with value: 0.3753964632792758 and parameters: {'lambda_l1': 0.00020415912872749273, 'lambda_l2': 7.653899517909258e-05, 'num_leaves': 276, 'feature_fraction': 0.5937365914878315, 'bagging_fraction': 0.8965202148740444, 'bagging_freq': 10, 'min_child_samples': 36}. Best is trial 72 with value: 0.3753964632792758.\n",
      "/tmp/ipykernel_1486896/3271090702.py:67: ExperimentalWarning:\n",
      "\n",
      "upload_artifact is experimental (supported from v3.3.0). The interface can change in the future.\n",
      "\n",
      "/tmp/ipykernel_1486896/3271090702.py:71: ExperimentalWarning:\n",
      "\n",
      "upload_artifact is experimental (supported from v3.3.0). The interface can change in the future.\n",
      "\n",
      "[I 2024-07-01 01:03:19,953] Trial 73 finished with value: 0.36622637771638866 and parameters: {'lambda_l1': 1.1002079932290885e-06, 'lambda_l2': 5.134447058815677e-05, 'num_leaves': 278, 'feature_fraction': 0.6088198628888228, 'bagging_fraction': 0.8877969645082605, 'bagging_freq': 10, 'min_child_samples': 30}. Best is trial 72 with value: 0.3753964632792758.\n",
      "/tmp/ipykernel_1486896/3271090702.py:67: ExperimentalWarning:\n",
      "\n",
      "upload_artifact is experimental (supported from v3.3.0). The interface can change in the future.\n",
      "\n",
      "/tmp/ipykernel_1486896/3271090702.py:71: ExperimentalWarning:\n",
      "\n",
      "upload_artifact is experimental (supported from v3.3.0). The interface can change in the future.\n",
      "\n",
      "[I 2024-07-01 01:03:25,633] Trial 74 finished with value: 0.35971409014275735 and parameters: {'lambda_l1': 2.4826394597835553e-08, 'lambda_l2': 1.4408186746751126e-06, 'num_leaves': 292, 'feature_fraction': 0.6880131211394448, 'bagging_fraction': 0.597269424610338, 'bagging_freq': 10, 'min_child_samples': 36}. Best is trial 72 with value: 0.3753964632792758.\n",
      "/tmp/ipykernel_1486896/3271090702.py:67: ExperimentalWarning:\n",
      "\n",
      "upload_artifact is experimental (supported from v3.3.0). The interface can change in the future.\n",
      "\n",
      "/tmp/ipykernel_1486896/3271090702.py:71: ExperimentalWarning:\n",
      "\n",
      "upload_artifact is experimental (supported from v3.3.0). The interface can change in the future.\n",
      "\n",
      "[I 2024-07-01 01:03:31,954] Trial 75 finished with value: 0.3731117389904617 and parameters: {'lambda_l1': 0.00011714806805548953, 'lambda_l2': 0.0001234115662687417, 'num_leaves': 103, 'feature_fraction': 0.5889978042422869, 'bagging_fraction': 0.9010335611387139, 'bagging_freq': 10, 'min_child_samples': 54}. Best is trial 72 with value: 0.3753964632792758.\n",
      "/tmp/ipykernel_1486896/3271090702.py:67: ExperimentalWarning:\n",
      "\n",
      "upload_artifact is experimental (supported from v3.3.0). The interface can change in the future.\n",
      "\n",
      "/tmp/ipykernel_1486896/3271090702.py:71: ExperimentalWarning:\n",
      "\n",
      "upload_artifact is experimental (supported from v3.3.0). The interface can change in the future.\n",
      "\n",
      "[I 2024-07-01 01:03:38,069] Trial 76 finished with value: 0.3714168811694186 and parameters: {'lambda_l1': 0.0001865390046639202, 'lambda_l2': 9.004134479900498e-05, 'num_leaves': 79, 'feature_fraction': 0.5891831522403868, 'bagging_fraction': 0.9463617125185174, 'bagging_freq': 9, 'min_child_samples': 54}. Best is trial 72 with value: 0.3753964632792758.\n",
      "/tmp/ipykernel_1486896/3271090702.py:67: ExperimentalWarning:\n",
      "\n",
      "upload_artifact is experimental (supported from v3.3.0). The interface can change in the future.\n",
      "\n",
      "/tmp/ipykernel_1486896/3271090702.py:71: ExperimentalWarning:\n",
      "\n",
      "upload_artifact is experimental (supported from v3.3.0). The interface can change in the future.\n",
      "\n",
      "[I 2024-07-01 01:03:43,628] Trial 77 finished with value: 0.3735451879887542 and parameters: {'lambda_l1': 5.68209240396874e-05, 'lambda_l2': 0.00018905751299613967, 'num_leaves': 93, 'feature_fraction': 0.625314021770841, 'bagging_fraction': 0.770991760309819, 'bagging_freq': 10, 'min_child_samples': 46}. Best is trial 72 with value: 0.3753964632792758.\n",
      "/tmp/ipykernel_1486896/3271090702.py:67: ExperimentalWarning:\n",
      "\n",
      "upload_artifact is experimental (supported from v3.3.0). The interface can change in the future.\n",
      "\n",
      "/tmp/ipykernel_1486896/3271090702.py:71: ExperimentalWarning:\n",
      "\n",
      "upload_artifact is experimental (supported from v3.3.0). The interface can change in the future.\n",
      "\n",
      "[I 2024-07-01 01:03:49,552] Trial 78 finished with value: 0.36785847843068964 and parameters: {'lambda_l1': 4.5144854563605514e-05, 'lambda_l2': 2.555757868587497e-05, 'num_leaves': 104, 'feature_fraction': 0.9853979932924655, 'bagging_fraction': 0.7862280325114549, 'bagging_freq': 9, 'min_child_samples': 64}. Best is trial 72 with value: 0.3753964632792758.\n",
      "/tmp/ipykernel_1486896/3271090702.py:67: ExperimentalWarning:\n",
      "\n",
      "upload_artifact is experimental (supported from v3.3.0). The interface can change in the future.\n",
      "\n",
      "/tmp/ipykernel_1486896/3271090702.py:71: ExperimentalWarning:\n",
      "\n",
      "upload_artifact is experimental (supported from v3.3.0). The interface can change in the future.\n",
      "\n",
      "[I 2024-07-01 01:03:55,956] Trial 79 finished with value: 0.36775325583302904 and parameters: {'lambda_l1': 9.239265505968604e-05, 'lambda_l2': 0.00020686613968970451, 'num_leaves': 139, 'feature_fraction': 0.6493001347013175, 'bagging_fraction': 0.697490529968719, 'bagging_freq': 10, 'min_child_samples': 57}. Best is trial 72 with value: 0.3753964632792758.\n",
      "/tmp/ipykernel_1486896/3271090702.py:67: ExperimentalWarning:\n",
      "\n",
      "upload_artifact is experimental (supported from v3.3.0). The interface can change in the future.\n",
      "\n",
      "/tmp/ipykernel_1486896/3271090702.py:71: ExperimentalWarning:\n",
      "\n",
      "upload_artifact is experimental (supported from v3.3.0). The interface can change in the future.\n",
      "\n",
      "[I 2024-07-01 01:04:02,126] Trial 80 finished with value: 0.36635632661649536 and parameters: {'lambda_l1': 0.0007364194662749018, 'lambda_l2': 0.0010928280788811248, 'num_leaves': 129, 'feature_fraction': 0.3655817000321401, 'bagging_fraction': 0.7657700633830105, 'bagging_freq': 9, 'min_child_samples': 47}. Best is trial 72 with value: 0.3753964632792758.\n",
      "/tmp/ipykernel_1486896/3271090702.py:67: ExperimentalWarning:\n",
      "\n",
      "upload_artifact is experimental (supported from v3.3.0). The interface can change in the future.\n",
      "\n",
      "/tmp/ipykernel_1486896/3271090702.py:71: ExperimentalWarning:\n",
      "\n",
      "upload_artifact is experimental (supported from v3.3.0). The interface can change in the future.\n",
      "\n",
      "[I 2024-07-01 01:04:08,574] Trial 81 finished with value: 0.37053554718854076 and parameters: {'lambda_l1': 3.604097681947167e-05, 'lambda_l2': 8.712234446475778e-06, 'num_leaves': 96, 'feature_fraction': 0.6238728654955105, 'bagging_fraction': 0.9057140867634009, 'bagging_freq': 10, 'min_child_samples': 50}. Best is trial 72 with value: 0.3753964632792758.\n",
      "/tmp/ipykernel_1486896/3271090702.py:67: ExperimentalWarning:\n",
      "\n",
      "upload_artifact is experimental (supported from v3.3.0). The interface can change in the future.\n",
      "\n",
      "/tmp/ipykernel_1486896/3271090702.py:71: ExperimentalWarning:\n",
      "\n",
      "upload_artifact is experimental (supported from v3.3.0). The interface can change in the future.\n",
      "\n",
      "[I 2024-07-01 01:04:12,712] Trial 82 finished with value: 0.357703695084358 and parameters: {'lambda_l1': 1.1563644579470014e-05, 'lambda_l2': 7.347692685422973e-05, 'num_leaves': 72, 'feature_fraction': 0.6840713875992325, 'bagging_fraction': 0.8696376180429385, 'bagging_freq': 10, 'min_child_samples': 32}. Best is trial 72 with value: 0.3753964632792758.\n",
      "/tmp/ipykernel_1486896/3271090702.py:67: ExperimentalWarning:\n",
      "\n",
      "upload_artifact is experimental (supported from v3.3.0). The interface can change in the future.\n",
      "\n",
      "/tmp/ipykernel_1486896/3271090702.py:71: ExperimentalWarning:\n",
      "\n",
      "upload_artifact is experimental (supported from v3.3.0). The interface can change in the future.\n",
      "\n",
      "[I 2024-07-01 01:04:18,504] Trial 83 finished with value: 0.370001934290421 and parameters: {'lambda_l1': 7.323665337038636, 'lambda_l2': 0.00012121104878831736, 'num_leaves': 54, 'feature_fraction': 0.5888333590212097, 'bagging_fraction': 0.8374792962435303, 'bagging_freq': 10, 'min_child_samples': 44}. Best is trial 72 with value: 0.3753964632792758.\n",
      "/tmp/ipykernel_1486896/3271090702.py:67: ExperimentalWarning:\n",
      "\n",
      "upload_artifact is experimental (supported from v3.3.0). The interface can change in the future.\n",
      "\n",
      "/tmp/ipykernel_1486896/3271090702.py:71: ExperimentalWarning:\n",
      "\n",
      "upload_artifact is experimental (supported from v3.3.0). The interface can change in the future.\n",
      "\n",
      "[I 2024-07-01 01:04:24,257] Trial 84 finished with value: 0.3668407958877273 and parameters: {'lambda_l1': 5.283658378148087e-06, 'lambda_l2': 0.0002110681887531483, 'num_leaves': 300, 'feature_fraction': 0.736911224793501, 'bagging_fraction': 0.983258002228512, 'bagging_freq': 10, 'min_child_samples': 53}. Best is trial 72 with value: 0.3753964632792758.\n",
      "/tmp/ipykernel_1486896/3271090702.py:67: ExperimentalWarning:\n",
      "\n",
      "upload_artifact is experimental (supported from v3.3.0). The interface can change in the future.\n",
      "\n",
      "/tmp/ipykernel_1486896/3271090702.py:71: ExperimentalWarning:\n",
      "\n",
      "upload_artifact is experimental (supported from v3.3.0). The interface can change in the future.\n",
      "\n",
      "[I 2024-07-01 01:04:31,281] Trial 85 finished with value: 0.36295891567720595 and parameters: {'lambda_l1': 0.00045803043850392024, 'lambda_l2': 3.877277195307873e-05, 'num_leaves': 108, 'feature_fraction': 0.6266989193192716, 'bagging_fraction': 0.8993081798583247, 'bagging_freq': 9, 'min_child_samples': 41}. Best is trial 72 with value: 0.3753964632792758.\n",
      "/tmp/ipykernel_1486896/3271090702.py:67: ExperimentalWarning:\n",
      "\n",
      "upload_artifact is experimental (supported from v3.3.0). The interface can change in the future.\n",
      "\n",
      "/tmp/ipykernel_1486896/3271090702.py:71: ExperimentalWarning:\n",
      "\n",
      "upload_artifact is experimental (supported from v3.3.0). The interface can change in the future.\n",
      "\n",
      "[I 2024-07-01 01:04:34,839] Trial 86 finished with value: 0.3513892313756816 and parameters: {'lambda_l1': 0.0001500140776195852, 'lambda_l2': 1.5142835844729945e-05, 'num_leaves': 263, 'feature_fraction': 0.7725092991139662, 'bagging_fraction': 0.5066464491619551, 'bagging_freq': 10, 'min_child_samples': 61}. Best is trial 72 with value: 0.3753964632792758.\n",
      "/tmp/ipykernel_1486896/3271090702.py:67: ExperimentalWarning:\n",
      "\n",
      "upload_artifact is experimental (supported from v3.3.0). The interface can change in the future.\n",
      "\n",
      "/tmp/ipykernel_1486896/3271090702.py:71: ExperimentalWarning:\n",
      "\n",
      "upload_artifact is experimental (supported from v3.3.0). The interface can change in the future.\n",
      "\n",
      "[I 2024-07-01 01:04:41,105] Trial 87 finished with value: 0.3655207779433997 and parameters: {'lambda_l1': 8.791764885290742e-05, 'lambda_l2': 0.0005851117603535991, 'num_leaves': 85, 'feature_fraction': 0.44520324041838316, 'bagging_fraction': 0.7427412551960435, 'bagging_freq': 9, 'min_child_samples': 24}. Best is trial 72 with value: 0.3753964632792758.\n",
      "/tmp/ipykernel_1486896/3271090702.py:67: ExperimentalWarning:\n",
      "\n",
      "upload_artifact is experimental (supported from v3.3.0). The interface can change in the future.\n",
      "\n",
      "/tmp/ipykernel_1486896/3271090702.py:71: ExperimentalWarning:\n",
      "\n",
      "upload_artifact is experimental (supported from v3.3.0). The interface can change in the future.\n",
      "\n",
      "[I 2024-07-01 01:04:47,036] Trial 88 finished with value: 0.3723469184660811 and parameters: {'lambda_l1': 0.001330308277237038, 'lambda_l2': 1.0750596126312427e-08, 'num_leaves': 61, 'feature_fraction': 0.5260573953314797, 'bagging_fraction': 0.8078614267427586, 'bagging_freq': 10, 'min_child_samples': 46}. Best is trial 72 with value: 0.3753964632792758.\n",
      "/tmp/ipykernel_1486896/3271090702.py:67: ExperimentalWarning:\n",
      "\n",
      "upload_artifact is experimental (supported from v3.3.0). The interface can change in the future.\n",
      "\n",
      "/tmp/ipykernel_1486896/3271090702.py:71: ExperimentalWarning:\n",
      "\n",
      "upload_artifact is experimental (supported from v3.3.0). The interface can change in the future.\n",
      "\n",
      "[I 2024-07-01 01:04:52,639] Trial 89 finished with value: 0.36980809589242214 and parameters: {'lambda_l1': 4.388590936917898e-08, 'lambda_l2': 0.005730980171884867, 'num_leaves': 286, 'feature_fraction': 0.6584335206024592, 'bagging_fraction': 0.8555123182079176, 'bagging_freq': 6, 'min_child_samples': 49}. Best is trial 72 with value: 0.3753964632792758.\n",
      "/tmp/ipykernel_1486896/3271090702.py:67: ExperimentalWarning:\n",
      "\n",
      "upload_artifact is experimental (supported from v3.3.0). The interface can change in the future.\n",
      "\n",
      "/tmp/ipykernel_1486896/3271090702.py:71: ExperimentalWarning:\n",
      "\n",
      "upload_artifact is experimental (supported from v3.3.0). The interface can change in the future.\n",
      "\n",
      "[I 2024-07-01 01:04:57,800] Trial 90 finished with value: 0.36551452048740624 and parameters: {'lambda_l1': 2.067216322017452e-05, 'lambda_l2': 4.574520090501283e-08, 'num_leaves': 271, 'feature_fraction': 0.47999886990276774, 'bagging_fraction': 0.9499544919125831, 'bagging_freq': 10, 'min_child_samples': 67}. Best is trial 72 with value: 0.3753964632792758.\n",
      "/tmp/ipykernel_1486896/3271090702.py:67: ExperimentalWarning:\n",
      "\n",
      "upload_artifact is experimental (supported from v3.3.0). The interface can change in the future.\n",
      "\n",
      "/tmp/ipykernel_1486896/3271090702.py:71: ExperimentalWarning:\n",
      "\n",
      "upload_artifact is experimental (supported from v3.3.0). The interface can change in the future.\n",
      "\n",
      "[I 2024-07-01 01:05:02,119] Trial 91 finished with value: 0.36078299338799485 and parameters: {'lambda_l1': 0.008515073993411717, 'lambda_l2': 1.0140245156574707e-08, 'num_leaves': 43, 'feature_fraction': 0.5202527860599433, 'bagging_fraction': 0.8739490252995905, 'bagging_freq': 10, 'min_child_samples': 46}. Best is trial 72 with value: 0.3753964632792758.\n",
      "/tmp/ipykernel_1486896/3271090702.py:67: ExperimentalWarning:\n",
      "\n",
      "upload_artifact is experimental (supported from v3.3.0). The interface can change in the future.\n",
      "\n",
      "/tmp/ipykernel_1486896/3271090702.py:71: ExperimentalWarning:\n",
      "\n",
      "upload_artifact is experimental (supported from v3.3.0). The interface can change in the future.\n",
      "\n",
      "[I 2024-07-01 01:05:10,192] Trial 92 finished with value: 0.3754591427555971 and parameters: {'lambda_l1': 0.00111734933206998, 'lambda_l2': 8.095176065489594e-08, 'num_leaves': 62, 'feature_fraction': 0.4208573184509248, 'bagging_fraction': 0.9330793431060965, 'bagging_freq': 10, 'min_child_samples': 35}. Best is trial 92 with value: 0.3754591427555971.\n",
      "/tmp/ipykernel_1486896/3271090702.py:67: ExperimentalWarning:\n",
      "\n",
      "upload_artifact is experimental (supported from v3.3.0). The interface can change in the future.\n",
      "\n",
      "/tmp/ipykernel_1486896/3271090702.py:71: ExperimentalWarning:\n",
      "\n",
      "upload_artifact is experimental (supported from v3.3.0). The interface can change in the future.\n",
      "\n",
      "[I 2024-07-01 01:05:14,326] Trial 93 finished with value: 0.3638548757520796 and parameters: {'lambda_l1': 0.00022941276959114287, 'lambda_l2': 9.734255717745468e-08, 'num_leaves': 36, 'feature_fraction': 0.422476352764565, 'bagging_fraction': 0.9329461416617575, 'bagging_freq': 10, 'min_child_samples': 33}. Best is trial 92 with value: 0.3754591427555971.\n",
      "/tmp/ipykernel_1486896/3271090702.py:67: ExperimentalWarning:\n",
      "\n",
      "upload_artifact is experimental (supported from v3.3.0). The interface can change in the future.\n",
      "\n",
      "/tmp/ipykernel_1486896/3271090702.py:71: ExperimentalWarning:\n",
      "\n",
      "upload_artifact is experimental (supported from v3.3.0). The interface can change in the future.\n",
      "\n",
      "[I 2024-07-01 01:05:21,056] Trial 94 finished with value: 0.3709669016177969 and parameters: {'lambda_l1': 0.050668680229884085, 'lambda_l2': 3.155657013864428e-08, 'num_leaves': 88, 'feature_fraction': 0.3419059872223839, 'bagging_fraction': 0.9160622795072806, 'bagging_freq': 9, 'min_child_samples': 37}. Best is trial 92 with value: 0.3754591427555971.\n",
      "/tmp/ipykernel_1486896/3271090702.py:67: ExperimentalWarning:\n",
      "\n",
      "upload_artifact is experimental (supported from v3.3.0). The interface can change in the future.\n",
      "\n",
      "/tmp/ipykernel_1486896/3271090702.py:71: ExperimentalWarning:\n",
      "\n",
      "upload_artifact is experimental (supported from v3.3.0). The interface can change in the future.\n",
      "\n",
      "[I 2024-07-01 01:05:25,962] Trial 95 finished with value: 0.3657174772035505 and parameters: {'lambda_l1': 0.0005109855335530267, 'lambda_l2': 1.9570194358486565e-07, 'num_leaves': 61, 'feature_fraction': 0.3890561285526172, 'bagging_fraction': 0.9785443270108697, 'bagging_freq': 10, 'min_child_samples': 29}. Best is trial 92 with value: 0.3754591427555971.\n",
      "/tmp/ipykernel_1486896/3271090702.py:67: ExperimentalWarning:\n",
      "\n",
      "upload_artifact is experimental (supported from v3.3.0). The interface can change in the future.\n",
      "\n",
      "/tmp/ipykernel_1486896/3271090702.py:71: ExperimentalWarning:\n",
      "\n",
      "upload_artifact is experimental (supported from v3.3.0). The interface can change in the future.\n",
      "\n",
      "[I 2024-07-01 01:05:30,833] Trial 96 finished with value: 0.3557162987726716 and parameters: {'lambda_l1': 4.307377691959768e-06, 'lambda_l2': 1.327966890460669e-07, 'num_leaves': 14, 'feature_fraction': 0.3083097392491375, 'bagging_fraction': 0.897079325808935, 'bagging_freq': 9, 'min_child_samples': 22}. Best is trial 92 with value: 0.3754591427555971.\n",
      "/tmp/ipykernel_1486896/3271090702.py:67: ExperimentalWarning:\n",
      "\n",
      "upload_artifact is experimental (supported from v3.3.0). The interface can change in the future.\n",
      "\n",
      "/tmp/ipykernel_1486896/3271090702.py:71: ExperimentalWarning:\n",
      "\n",
      "upload_artifact is experimental (supported from v3.3.0). The interface can change in the future.\n",
      "\n",
      "[I 2024-07-01 01:05:35,940] Trial 97 finished with value: 0.3662006293854311 and parameters: {'lambda_l1': 3.078585216753127, 'lambda_l2': 7.161349604478813e-08, 'num_leaves': 255, 'feature_fraction': 0.4104583267804013, 'bagging_fraction': 0.9613811675453955, 'bagging_freq': 10, 'min_child_samples': 40}. Best is trial 92 with value: 0.3754591427555971.\n",
      "/tmp/ipykernel_1486896/3271090702.py:67: ExperimentalWarning:\n",
      "\n",
      "upload_artifact is experimental (supported from v3.3.0). The interface can change in the future.\n",
      "\n",
      "/tmp/ipykernel_1486896/3271090702.py:71: ExperimentalWarning:\n",
      "\n",
      "upload_artifact is experimental (supported from v3.3.0). The interface can change in the future.\n",
      "\n",
      "[I 2024-07-01 01:05:44,449] Trial 98 finished with value: 0.37392027510237913 and parameters: {'lambda_l1': 4.3286615440698673e-05, 'lambda_l2': 2.0044403162836665e-08, 'num_leaves': 280, 'feature_fraction': 0.43255843663003113, 'bagging_fraction': 0.9348278099010198, 'bagging_freq': 10, 'min_child_samples': 36}. Best is trial 92 with value: 0.3754591427555971.\n",
      "/tmp/ipykernel_1486896/3271090702.py:67: ExperimentalWarning:\n",
      "\n",
      "upload_artifact is experimental (supported from v3.3.0). The interface can change in the future.\n",
      "\n",
      "/tmp/ipykernel_1486896/3271090702.py:71: ExperimentalWarning:\n",
      "\n",
      "upload_artifact is experimental (supported from v3.3.0). The interface can change in the future.\n",
      "\n",
      "[I 2024-07-01 01:05:52,664] Trial 99 finished with value: 0.37549524738337087 and parameters: {'lambda_l1': 5.5878438969685345e-05, 'lambda_l2': 1.9694398592846495e-08, 'num_leaves': 148, 'feature_fraction': 0.4595613597311022, 'bagging_fraction': 0.9872341837796286, 'bagging_freq': 9, 'min_child_samples': 27}. Best is trial 99 with value: 0.37549524738337087.\n",
      "/tmp/ipykernel_1486896/3271090702.py:67: ExperimentalWarning:\n",
      "\n",
      "upload_artifact is experimental (supported from v3.3.0). The interface can change in the future.\n",
      "\n",
      "/tmp/ipykernel_1486896/3271090702.py:71: ExperimentalWarning:\n",
      "\n",
      "upload_artifact is experimental (supported from v3.3.0). The interface can change in the future.\n",
      "\n",
      "[I 2024-07-01 01:06:00,217] Trial 100 finished with value: 0.37422041988468485 and parameters: {'lambda_l1': 3.7424669332291895e-05, 'lambda_l2': 1.9381285927252802e-08, 'num_leaves': 152, 'feature_fraction': 0.3791805687782812, 'bagging_fraction': 0.9956693730224758, 'bagging_freq': 8, 'min_child_samples': 28}. Best is trial 99 with value: 0.37549524738337087.\n",
      "/tmp/ipykernel_1486896/3271090702.py:67: ExperimentalWarning:\n",
      "\n",
      "upload_artifact is experimental (supported from v3.3.0). The interface can change in the future.\n",
      "\n",
      "/tmp/ipykernel_1486896/3271090702.py:71: ExperimentalWarning:\n",
      "\n",
      "upload_artifact is experimental (supported from v3.3.0). The interface can change in the future.\n",
      "\n",
      "[I 2024-07-01 01:06:08,231] Trial 101 finished with value: 0.36867990487531843 and parameters: {'lambda_l1': 1.4087538657637575e-05, 'lambda_l2': 1.7058309140877437e-08, 'num_leaves': 155, 'feature_fraction': 0.38087664890086226, 'bagging_fraction': 0.9988630346538035, 'bagging_freq': 8, 'min_child_samples': 19}. Best is trial 99 with value: 0.37549524738337087.\n",
      "/tmp/ipykernel_1486896/3271090702.py:67: ExperimentalWarning:\n",
      "\n",
      "upload_artifact is experimental (supported from v3.3.0). The interface can change in the future.\n",
      "\n",
      "/tmp/ipykernel_1486896/3271090702.py:71: ExperimentalWarning:\n",
      "\n",
      "upload_artifact is experimental (supported from v3.3.0). The interface can change in the future.\n",
      "\n",
      "[I 2024-07-01 01:06:16,054] Trial 102 finished with value: 0.36622061240733494 and parameters: {'lambda_l1': 4.43882055514995e-05, 'lambda_l2': 2.0045662475882923e-08, 'num_leaves': 134, 'feature_fraction': 0.4353887158450441, 'bagging_fraction': 0.9783121455746616, 'bagging_freq': 8, 'min_child_samples': 27}. Best is trial 99 with value: 0.37549524738337087.\n",
      "/tmp/ipykernel_1486896/3271090702.py:67: ExperimentalWarning:\n",
      "\n",
      "upload_artifact is experimental (supported from v3.3.0). The interface can change in the future.\n",
      "\n",
      "/tmp/ipykernel_1486896/3271090702.py:71: ExperimentalWarning:\n",
      "\n",
      "upload_artifact is experimental (supported from v3.3.0). The interface can change in the future.\n",
      "\n",
      "[I 2024-07-01 01:06:21,843] Trial 103 finished with value: 0.3671065229778905 and parameters: {'lambda_l1': 5.811946228480355e-05, 'lambda_l2': 3.9333738239978664e-08, 'num_leaves': 144, 'feature_fraction': 0.4881528331302356, 'bagging_fraction': 0.956875648179035, 'bagging_freq': 8, 'min_child_samples': 35}. Best is trial 99 with value: 0.37549524738337087.\n",
      "/tmp/ipykernel_1486896/3271090702.py:67: ExperimentalWarning:\n",
      "\n",
      "upload_artifact is experimental (supported from v3.3.0). The interface can change in the future.\n",
      "\n",
      "/tmp/ipykernel_1486896/3271090702.py:71: ExperimentalWarning:\n",
      "\n",
      "upload_artifact is experimental (supported from v3.3.0). The interface can change in the future.\n",
      "\n",
      "[I 2024-07-01 01:06:28,631] Trial 104 finished with value: 0.3714310119208799 and parameters: {'lambda_l1': 2.520169779392817e-05, 'lambda_l2': 2.579722979140005e-08, 'num_leaves': 163, 'feature_fraction': 0.46162852129997345, 'bagging_fraction': 0.9395688225667604, 'bagging_freq': 7, 'min_child_samples': 32}. Best is trial 99 with value: 0.37549524738337087.\n",
      "/tmp/ipykernel_1486896/3271090702.py:67: ExperimentalWarning:\n",
      "\n",
      "upload_artifact is experimental (supported from v3.3.0). The interface can change in the future.\n",
      "\n",
      "/tmp/ipykernel_1486896/3271090702.py:71: ExperimentalWarning:\n",
      "\n",
      "upload_artifact is experimental (supported from v3.3.0). The interface can change in the future.\n",
      "\n",
      "[I 2024-07-01 01:06:37,053] Trial 105 finished with value: 0.3727888437231578 and parameters: {'lambda_l1': 8.580283416507539e-06, 'lambda_l2': 7.033350610221169e-08, 'num_leaves': 191, 'feature_fraction': 0.4098978298313196, 'bagging_fraction': 0.9839334519167588, 'bagging_freq': 9, 'min_child_samples': 28}. Best is trial 99 with value: 0.37549524738337087.\n",
      "/tmp/ipykernel_1486896/3271090702.py:67: ExperimentalWarning:\n",
      "\n",
      "upload_artifact is experimental (supported from v3.3.0). The interface can change in the future.\n",
      "\n",
      "/tmp/ipykernel_1486896/3271090702.py:71: ExperimentalWarning:\n",
      "\n",
      "upload_artifact is experimental (supported from v3.3.0). The interface can change in the future.\n",
      "\n",
      "[I 2024-07-01 01:06:45,291] Trial 106 finished with value: 0.3651118016144426 and parameters: {'lambda_l1': 0.00014781089485207407, 'lambda_l2': 1.369959089465879e-08, 'num_leaves': 175, 'feature_fraction': 0.35235364536075786, 'bagging_fraction': 0.921013705303673, 'bagging_freq': 9, 'min_child_samples': 26}. Best is trial 99 with value: 0.37549524738337087.\n",
      "/tmp/ipykernel_1486896/3271090702.py:67: ExperimentalWarning:\n",
      "\n",
      "upload_artifact is experimental (supported from v3.3.0). The interface can change in the future.\n",
      "\n",
      "/tmp/ipykernel_1486896/3271090702.py:71: ExperimentalWarning:\n",
      "\n",
      "upload_artifact is experimental (supported from v3.3.0). The interface can change in the future.\n",
      "\n",
      "[I 2024-07-01 01:06:51,331] Trial 107 finished with value: 0.37059454304092887 and parameters: {'lambda_l1': 3.332578101696178e-05, 'lambda_l2': 4.613151575822992e-08, 'num_leaves': 154, 'feature_fraction': 0.4440372205645081, 'bagging_fraction': 0.9974048653213969, 'bagging_freq': 9, 'min_child_samples': 35}. Best is trial 99 with value: 0.37549524738337087.\n",
      "/tmp/ipykernel_1486896/3271090702.py:67: ExperimentalWarning:\n",
      "\n",
      "upload_artifact is experimental (supported from v3.3.0). The interface can change in the future.\n",
      "\n",
      "/tmp/ipykernel_1486896/3271090702.py:71: ExperimentalWarning:\n",
      "\n",
      "upload_artifact is experimental (supported from v3.3.0). The interface can change in the future.\n",
      "\n",
      "[I 2024-07-01 01:07:00,513] Trial 108 finished with value: 0.3656981263671915 and parameters: {'lambda_l1': 0.00027653289693790965, 'lambda_l2': 2.611153828969758e-08, 'num_leaves': 295, 'feature_fraction': 0.3975613902869964, 'bagging_fraction': 0.9637967931320561, 'bagging_freq': 8, 'min_child_samples': 17}. Best is trial 99 with value: 0.37549524738337087.\n",
      "/tmp/ipykernel_1486896/3271090702.py:67: ExperimentalWarning:\n",
      "\n",
      "upload_artifact is experimental (supported from v3.3.0). The interface can change in the future.\n",
      "\n",
      "/tmp/ipykernel_1486896/3271090702.py:71: ExperimentalWarning:\n",
      "\n",
      "upload_artifact is experimental (supported from v3.3.0). The interface can change in the future.\n",
      "\n",
      "[I 2024-07-01 01:07:09,331] Trial 109 finished with value: 0.3617281166048927 and parameters: {'lambda_l1': 2.8546217351139026e-06, 'lambda_l2': 9.042732091225772e-08, 'num_leaves': 282, 'feature_fraction': 0.37534876023703184, 'bagging_fraction': 0.9357680315871877, 'bagging_freq': 9, 'min_child_samples': 23}. Best is trial 99 with value: 0.37549524738337087.\n",
      "/tmp/ipykernel_1486896/3271090702.py:67: ExperimentalWarning:\n",
      "\n",
      "upload_artifact is experimental (supported from v3.3.0). The interface can change in the future.\n",
      "\n",
      "/tmp/ipykernel_1486896/3271090702.py:71: ExperimentalWarning:\n",
      "\n",
      "upload_artifact is experimental (supported from v3.3.0). The interface can change in the future.\n",
      "\n",
      "[I 2024-07-01 01:07:19,050] Trial 110 finished with value: 0.36359009984392454 and parameters: {'lambda_l1': 0.0016904072568500802, 'lambda_l2': 1.403113986390339e-07, 'num_leaves': 269, 'feature_fraction': 0.42754229270650923, 'bagging_fraction': 0.9460354424224823, 'bagging_freq': 10, 'min_child_samples': 31}. Best is trial 99 with value: 0.37549524738337087.\n",
      "/tmp/ipykernel_1486896/3271090702.py:67: ExperimentalWarning:\n",
      "\n",
      "upload_artifact is experimental (supported from v3.3.0). The interface can change in the future.\n",
      "\n",
      "/tmp/ipykernel_1486896/3271090702.py:71: ExperimentalWarning:\n",
      "\n",
      "upload_artifact is experimental (supported from v3.3.0). The interface can change in the future.\n",
      "\n",
      "[I 2024-07-01 01:07:24,563] Trial 111 finished with value: 0.36924149623064006 and parameters: {'lambda_l1': 0.00010176683532272152, 'lambda_l2': 1.5975044742379512e-08, 'num_leaves': 118, 'feature_fraction': 0.4554270907736241, 'bagging_fraction': 0.9719305395983409, 'bagging_freq': 10, 'min_child_samples': 37}. Best is trial 99 with value: 0.37549524738337087.\n",
      "/tmp/ipykernel_1486896/3271090702.py:67: ExperimentalWarning:\n",
      "\n",
      "upload_artifact is experimental (supported from v3.3.0). The interface can change in the future.\n",
      "\n",
      "/tmp/ipykernel_1486896/3271090702.py:71: ExperimentalWarning:\n",
      "\n",
      "upload_artifact is experimental (supported from v3.3.0). The interface can change in the future.\n",
      "\n",
      "[I 2024-07-01 01:07:31,537] Trial 112 finished with value: 0.37258552232122966 and parameters: {'lambda_l1': 0.000812853453058707, 'lambda_l2': 3.818400388376341e-05, 'num_leaves': 125, 'feature_fraction': 0.5578234616697257, 'bagging_fraction': 0.8803263616714665, 'bagging_freq': 10, 'min_child_samples': 56}. Best is trial 99 with value: 0.37549524738337087.\n",
      "/tmp/ipykernel_1486896/3271090702.py:67: ExperimentalWarning:\n",
      "\n",
      "upload_artifact is experimental (supported from v3.3.0). The interface can change in the future.\n",
      "\n",
      "/tmp/ipykernel_1486896/3271090702.py:71: ExperimentalWarning:\n",
      "\n",
      "upload_artifact is experimental (supported from v3.3.0). The interface can change in the future.\n",
      "\n",
      "[I 2024-07-01 01:07:36,937] Trial 113 finished with value: 0.36441063105011534 and parameters: {'lambda_l1': 0.00012308218045366633, 'lambda_l2': 0.00025651863086558895, 'num_leaves': 98, 'feature_fraction': 0.4202447558742014, 'bagging_fraction': 0.9256743314136772, 'bagging_freq': 10, 'min_child_samples': 51}. Best is trial 99 with value: 0.37549524738337087.\n",
      "/tmp/ipykernel_1486896/3271090702.py:67: ExperimentalWarning:\n",
      "\n",
      "upload_artifact is experimental (supported from v3.3.0). The interface can change in the future.\n",
      "\n",
      "/tmp/ipykernel_1486896/3271090702.py:71: ExperimentalWarning:\n",
      "\n",
      "upload_artifact is experimental (supported from v3.3.0). The interface can change in the future.\n",
      "\n",
      "[I 2024-07-01 01:07:43,492] Trial 114 finished with value: 0.36655010719705644 and parameters: {'lambda_l1': 5.834800968049992e-05, 'lambda_l2': 0.0012749653542395722, 'num_leaves': 111, 'feature_fraction': 0.4641548416078904, 'bagging_fraction': 0.9106903243476041, 'bagging_freq': 10, 'min_child_samples': 34}. Best is trial 99 with value: 0.37549524738337087.\n",
      "/tmp/ipykernel_1486896/3271090702.py:67: ExperimentalWarning:\n",
      "\n",
      "upload_artifact is experimental (supported from v3.3.0). The interface can change in the future.\n",
      "\n",
      "/tmp/ipykernel_1486896/3271090702.py:71: ExperimentalWarning:\n",
      "\n",
      "upload_artifact is experimental (supported from v3.3.0). The interface can change in the future.\n",
      "\n",
      "[I 2024-07-01 01:07:51,976] Trial 115 finished with value: 0.37553152275923113 and parameters: {'lambda_l1': 1.588671519448656e-05, 'lambda_l2': 3.058970296470535e-08, 'num_leaves': 280, 'feature_fraction': 0.3302827234577904, 'bagging_fraction': 0.9536613914211938, 'bagging_freq': 10, 'min_child_samples': 59}. Best is trial 115 with value: 0.37553152275923113.\n",
      "/tmp/ipykernel_1486896/3271090702.py:67: ExperimentalWarning:\n",
      "\n",
      "upload_artifact is experimental (supported from v3.3.0). The interface can change in the future.\n",
      "\n",
      "/tmp/ipykernel_1486896/3271090702.py:71: ExperimentalWarning:\n",
      "\n",
      "upload_artifact is experimental (supported from v3.3.0). The interface can change in the future.\n",
      "\n",
      "[I 2024-07-01 01:07:58,367] Trial 116 finished with value: 0.3692514441870194 and parameters: {'lambda_l1': 7.964433804728459e-06, 'lambda_l2': 3.209415867550682e-08, 'num_leaves': 287, 'feature_fraction': 0.329351598956423, 'bagging_fraction': 0.987471716806836, 'bagging_freq': 9, 'min_child_samples': 43}. Best is trial 115 with value: 0.37553152275923113.\n",
      "/tmp/ipykernel_1486896/3271090702.py:67: ExperimentalWarning:\n",
      "\n",
      "upload_artifact is experimental (supported from v3.3.0). The interface can change in the future.\n",
      "\n",
      "/tmp/ipykernel_1486896/3271090702.py:71: ExperimentalWarning:\n",
      "\n",
      "upload_artifact is experimental (supported from v3.3.0). The interface can change in the future.\n",
      "\n",
      "[I 2024-07-01 01:08:04,476] Trial 117 finished with value: 0.3729492074149233 and parameters: {'lambda_l1': 1.740715893992113e-05, 'lambda_l2': 5.871407576410457e-08, 'num_leaves': 252, 'feature_fraction': 0.3392275081095214, 'bagging_fraction': 0.9594007078719179, 'bagging_freq': 7, 'min_child_samples': 61}. Best is trial 115 with value: 0.37553152275923113.\n",
      "/tmp/ipykernel_1486896/3271090702.py:67: ExperimentalWarning:\n",
      "\n",
      "upload_artifact is experimental (supported from v3.3.0). The interface can change in the future.\n",
      "\n",
      "/tmp/ipykernel_1486896/3271090702.py:71: ExperimentalWarning:\n",
      "\n",
      "upload_artifact is experimental (supported from v3.3.0). The interface can change in the future.\n",
      "\n",
      "[I 2024-07-01 01:08:12,016] Trial 118 finished with value: 0.36298084914872947 and parameters: {'lambda_l1': 0.0004111463799842853, 'lambda_l2': 2.5247170570594377e-08, 'num_leaves': 275, 'feature_fraction': 0.3688569335745311, 'bagging_fraction': 0.6731184503368666, 'bagging_freq': 10, 'min_child_samples': 59}. Best is trial 115 with value: 0.37553152275923113.\n",
      "/tmp/ipykernel_1486896/3271090702.py:67: ExperimentalWarning:\n",
      "\n",
      "upload_artifact is experimental (supported from v3.3.0). The interface can change in the future.\n",
      "\n",
      "/tmp/ipykernel_1486896/3271090702.py:71: ExperimentalWarning:\n",
      "\n",
      "upload_artifact is experimental (supported from v3.3.0). The interface can change in the future.\n",
      "\n",
      "[I 2024-07-01 01:08:16,529] Trial 119 finished with value: 0.3650566789778428 and parameters: {'lambda_l1': 8.545846187556826e-08, 'lambda_l2': 1.840299027761957e-07, 'num_leaves': 27, 'feature_fraction': 0.317156508077322, 'bagging_fraction': 0.9422495828272649, 'bagging_freq': 8, 'min_child_samples': 25}. Best is trial 115 with value: 0.37553152275923113.\n",
      "/tmp/ipykernel_1486896/3271090702.py:67: ExperimentalWarning:\n",
      "\n",
      "upload_artifact is experimental (supported from v3.3.0). The interface can change in the future.\n",
      "\n",
      "/tmp/ipykernel_1486896/3271090702.py:71: ExperimentalWarning:\n",
      "\n",
      "upload_artifact is experimental (supported from v3.3.0). The interface can change in the future.\n",
      "\n",
      "[I 2024-07-01 01:08:25,653] Trial 120 finished with value: 0.36682029450147297 and parameters: {'lambda_l1': 2.8442643283978165e-05, 'lambda_l2': 1.3742659592006792e-08, 'num_leaves': 265, 'feature_fraction': 0.38958567743795797, 'bagging_fraction': 0.9717610876382303, 'bagging_freq': 4, 'min_child_samples': 28}. Best is trial 115 with value: 0.37553152275923113.\n",
      "/tmp/ipykernel_1486896/3271090702.py:67: ExperimentalWarning:\n",
      "\n",
      "upload_artifact is experimental (supported from v3.3.0). The interface can change in the future.\n",
      "\n",
      "/tmp/ipykernel_1486896/3271090702.py:71: ExperimentalWarning:\n",
      "\n",
      "upload_artifact is experimental (supported from v3.3.0). The interface can change in the future.\n",
      "\n",
      "[I 2024-07-01 01:08:32,166] Trial 121 finished with value: 0.37063290608414556 and parameters: {'lambda_l1': 5.8473606646609575e-05, 'lambda_l2': 0.0001137556335795248, 'num_leaves': 172, 'feature_fraction': 0.6364602049255998, 'bagging_fraction': 0.9071548256290465, 'bagging_freq': 10, 'min_child_samples': 65}. Best is trial 115 with value: 0.37553152275923113.\n",
      "/tmp/ipykernel_1486896/3271090702.py:67: ExperimentalWarning:\n",
      "\n",
      "upload_artifact is experimental (supported from v3.3.0). The interface can change in the future.\n",
      "\n",
      "/tmp/ipykernel_1486896/3271090702.py:71: ExperimentalWarning:\n",
      "\n",
      "upload_artifact is experimental (supported from v3.3.0). The interface can change in the future.\n",
      "\n",
      "[I 2024-07-01 01:08:39,904] Trial 122 finished with value: 0.37124902363854084 and parameters: {'lambda_l1': 0.00021690025000054185, 'lambda_l2': 4.126165729051574e-08, 'num_leaves': 280, 'feature_fraction': 0.5749245843312059, 'bagging_fraction': 0.9310037018170169, 'bagging_freq': 10, 'min_child_samples': 48}. Best is trial 115 with value: 0.37553152275923113.\n",
      "/tmp/ipykernel_1486896/3271090702.py:67: ExperimentalWarning:\n",
      "\n",
      "upload_artifact is experimental (supported from v3.3.0). The interface can change in the future.\n",
      "\n",
      "/tmp/ipykernel_1486896/3271090702.py:71: ExperimentalWarning:\n",
      "\n",
      "upload_artifact is experimental (supported from v3.3.0). The interface can change in the future.\n",
      "\n",
      "[I 2024-07-01 01:08:46,710] Trial 123 finished with value: 0.37574465973241417 and parameters: {'lambda_l1': 1.218361751277216e-05, 'lambda_l2': 0.0003767662494214837, 'num_leaves': 75, 'feature_fraction': 0.4932664469255524, 'bagging_fraction': 0.9509588936271903, 'bagging_freq': 10, 'min_child_samples': 54}. Best is trial 123 with value: 0.37574465973241417.\n",
      "/tmp/ipykernel_1486896/3271090702.py:67: ExperimentalWarning:\n",
      "\n",
      "upload_artifact is experimental (supported from v3.3.0). The interface can change in the future.\n",
      "\n",
      "/tmp/ipykernel_1486896/3271090702.py:71: ExperimentalWarning:\n",
      "\n",
      "upload_artifact is experimental (supported from v3.3.0). The interface can change in the future.\n",
      "\n",
      "[I 2024-07-01 01:08:53,982] Trial 124 finished with value: 0.36971745313207616 and parameters: {'lambda_l1': 1.2142075187387186e-05, 'lambda_l2': 0.0003286801939284323, 'num_leaves': 71, 'feature_fraction': 0.48426754876868877, 'bagging_fraction': 0.9523776683768328, 'bagging_freq': 10, 'min_child_samples': 52}. Best is trial 123 with value: 0.37574465973241417.\n",
      "/tmp/ipykernel_1486896/3271090702.py:67: ExperimentalWarning:\n",
      "\n",
      "upload_artifact is experimental (supported from v3.3.0). The interface can change in the future.\n",
      "\n",
      "/tmp/ipykernel_1486896/3271090702.py:71: ExperimentalWarning:\n",
      "\n",
      "upload_artifact is experimental (supported from v3.3.0). The interface can change in the future.\n",
      "\n",
      "[I 2024-07-01 01:08:58,566] Trial 125 finished with value: 0.36969217301251034 and parameters: {'lambda_l1': 3.4645183715832075e-06, 'lambda_l2': 0.0006662923893582645, 'num_leaves': 61, 'feature_fraction': 0.5016562422898784, 'bagging_fraction': 0.981902531409897, 'bagging_freq': 10, 'min_child_samples': 57}. Best is trial 123 with value: 0.37574465973241417.\n",
      "/tmp/ipykernel_1486896/3271090702.py:67: ExperimentalWarning:\n",
      "\n",
      "upload_artifact is experimental (supported from v3.3.0). The interface can change in the future.\n",
      "\n",
      "/tmp/ipykernel_1486896/3271090702.py:71: ExperimentalWarning:\n",
      "\n",
      "upload_artifact is experimental (supported from v3.3.0). The interface can change in the future.\n",
      "\n",
      "[I 2024-07-01 01:09:05,272] Trial 126 finished with value: 0.3778409624983209 and parameters: {'lambda_l1': 1.1451627334587584e-06, 'lambda_l2': 2.1350147141906583e-08, 'num_leaves': 77, 'feature_fraction': 0.44032367687319246, 'bagging_fraction': 0.9570438121761935, 'bagging_freq': 9, 'min_child_samples': 41}. Best is trial 126 with value: 0.3778409624983209.\n",
      "/tmp/ipykernel_1486896/3271090702.py:67: ExperimentalWarning:\n",
      "\n",
      "upload_artifact is experimental (supported from v3.3.0). The interface can change in the future.\n",
      "\n",
      "/tmp/ipykernel_1486896/3271090702.py:71: ExperimentalWarning:\n",
      "\n",
      "upload_artifact is experimental (supported from v3.3.0). The interface can change in the future.\n",
      "\n",
      "[I 2024-07-01 01:09:09,438] Trial 127 finished with value: 0.3453379148815048 and parameters: {'lambda_l1': 1.5446993714493514e-06, 'lambda_l2': 1.790859246625036e-08, 'num_leaves': 66, 'feature_fraction': 0.43731261809856414, 'bagging_fraction': 0.35147877988305215, 'bagging_freq': 9, 'min_child_samples': 54}. Best is trial 126 with value: 0.3778409624983209.\n",
      "/tmp/ipykernel_1486896/3271090702.py:67: ExperimentalWarning:\n",
      "\n",
      "upload_artifact is experimental (supported from v3.3.0). The interface can change in the future.\n",
      "\n",
      "/tmp/ipykernel_1486896/3271090702.py:71: ExperimentalWarning:\n",
      "\n",
      "upload_artifact is experimental (supported from v3.3.0). The interface can change in the future.\n",
      "\n",
      "[I 2024-07-01 01:09:16,511] Trial 128 finished with value: 0.3640065291117812 and parameters: {'lambda_l1': 1.0112340569090358e-06, 'lambda_l2': 8.9181513979531e-08, 'num_leaves': 89, 'feature_fraction': 0.4685937463368317, 'bagging_fraction': 0.9974554173575029, 'bagging_freq': 8, 'min_child_samples': 38}. Best is trial 126 with value: 0.3778409624983209.\n",
      "/tmp/ipykernel_1486896/3271090702.py:67: ExperimentalWarning:\n",
      "\n",
      "upload_artifact is experimental (supported from v3.3.0). The interface can change in the future.\n",
      "\n",
      "/tmp/ipykernel_1486896/3271090702.py:71: ExperimentalWarning:\n",
      "\n",
      "upload_artifact is experimental (supported from v3.3.0). The interface can change in the future.\n",
      "\n",
      "[I 2024-07-01 01:09:21,770] Trial 129 finished with value: 0.3695482076133229 and parameters: {'lambda_l1': 6.048745650219522e-07, 'lambda_l2': 1.6177666191883895, 'num_leaves': 75, 'feature_fraction': 0.40931340644094316, 'bagging_fraction': 0.9586003003023614, 'bagging_freq': 9, 'min_child_samples': 44}. Best is trial 126 with value: 0.3778409624983209.\n",
      "/tmp/ipykernel_1486896/3271090702.py:67: ExperimentalWarning:\n",
      "\n",
      "upload_artifact is experimental (supported from v3.3.0). The interface can change in the future.\n",
      "\n",
      "/tmp/ipykernel_1486896/3271090702.py:71: ExperimentalWarning:\n",
      "\n",
      "upload_artifact is experimental (supported from v3.3.0). The interface can change in the future.\n",
      "\n",
      "[I 2024-07-01 01:09:26,851] Trial 130 finished with value: 0.36542752322351946 and parameters: {'lambda_l1': 3.341182180459083e-05, 'lambda_l2': 1.026205757539477e-08, 'num_leaves': 54, 'feature_fraction': 0.44747870337177725, 'bagging_fraction': 0.942921367242526, 'bagging_freq': 9, 'min_child_samples': 60}. Best is trial 126 with value: 0.3778409624983209.\n",
      "/tmp/ipykernel_1486896/3271090702.py:67: ExperimentalWarning:\n",
      "\n",
      "upload_artifact is experimental (supported from v3.3.0). The interface can change in the future.\n",
      "\n",
      "/tmp/ipykernel_1486896/3271090702.py:71: ExperimentalWarning:\n",
      "\n",
      "upload_artifact is experimental (supported from v3.3.0). The interface can change in the future.\n",
      "\n",
      "[I 2024-07-01 01:09:32,426] Trial 131 finished with value: 0.36612662528736806 and parameters: {'lambda_l1': 6.080474175769039e-06, 'lambda_l2': 5.0525982523651716e-08, 'num_leaves': 79, 'feature_fraction': 0.426934134646121, 'bagging_fraction': 0.9200629713492654, 'bagging_freq': 10, 'min_child_samples': 41}. Best is trial 126 with value: 0.3778409624983209.\n",
      "/tmp/ipykernel_1486896/3271090702.py:67: ExperimentalWarning:\n",
      "\n",
      "upload_artifact is experimental (supported from v3.3.0). The interface can change in the future.\n",
      "\n",
      "/tmp/ipykernel_1486896/3271090702.py:71: ExperimentalWarning:\n",
      "\n",
      "upload_artifact is experimental (supported from v3.3.0). The interface can change in the future.\n",
      "\n",
      "[I 2024-07-01 01:09:41,651] Trial 132 finished with value: 0.3678824904813023 and parameters: {'lambda_l1': 1.6458661079823798e-05, 'lambda_l2': 2.2051013765363815e-08, 'num_leaves': 289, 'feature_fraction': 0.3993734857657025, 'bagging_fraction': 0.9690252977866727, 'bagging_freq': 10, 'min_child_samples': 33}. Best is trial 126 with value: 0.3778409624983209.\n",
      "/tmp/ipykernel_1486896/3271090702.py:67: ExperimentalWarning:\n",
      "\n",
      "upload_artifact is experimental (supported from v3.3.0). The interface can change in the future.\n",
      "\n",
      "/tmp/ipykernel_1486896/3271090702.py:71: ExperimentalWarning:\n",
      "\n",
      "upload_artifact is experimental (supported from v3.3.0). The interface can change in the future.\n",
      "\n",
      "[I 2024-07-01 01:09:50,470] Trial 133 finished with value: 0.3653239737360506 and parameters: {'lambda_l1': 6.904635189754274e-05, 'lambda_l2': 0.0019637334547396123, 'num_leaves': 295, 'feature_fraction': 0.614660786546193, 'bagging_fraction': 0.8879113361842315, 'bagging_freq': 10, 'min_child_samples': 37}. Best is trial 126 with value: 0.3778409624983209.\n",
      "/tmp/ipykernel_1486896/3271090702.py:67: ExperimentalWarning:\n",
      "\n",
      "upload_artifact is experimental (supported from v3.3.0). The interface can change in the future.\n",
      "\n",
      "/tmp/ipykernel_1486896/3271090702.py:71: ExperimentalWarning:\n",
      "\n",
      "upload_artifact is experimental (supported from v3.3.0). The interface can change in the future.\n",
      "\n",
      "[I 2024-07-01 01:09:56,661] Trial 134 finished with value: 0.36075129743924317 and parameters: {'lambda_l1': 1.6934254695612902e-07, 'lambda_l2': 4.212619471501626e-08, 'num_leaves': 244, 'feature_fraction': 0.895309062954049, 'bagging_fraction': 0.9857300137829994, 'bagging_freq': 1, 'min_child_samples': 50}. Best is trial 126 with value: 0.3778409624983209.\n",
      "/tmp/ipykernel_1486896/3271090702.py:67: ExperimentalWarning:\n",
      "\n",
      "upload_artifact is experimental (supported from v3.3.0). The interface can change in the future.\n",
      "\n",
      "/tmp/ipykernel_1486896/3271090702.py:71: ExperimentalWarning:\n",
      "\n",
      "upload_artifact is experimental (supported from v3.3.0). The interface can change in the future.\n",
      "\n",
      "[I 2024-07-01 01:10:01,119] Trial 135 finished with value: 0.3633171386323242 and parameters: {'lambda_l1': 1.8432397414262625e-08, 'lambda_l2': 2.7302166608065026e-08, 'num_leaves': 47, 'feature_fraction': 0.35561750970160205, 'bagging_fraction': 0.9306134434658201, 'bagging_freq': 10, 'min_child_samples': 31}. Best is trial 126 with value: 0.3778409624983209.\n",
      "/tmp/ipykernel_1486896/3271090702.py:67: ExperimentalWarning:\n",
      "\n",
      "upload_artifact is experimental (supported from v3.3.0). The interface can change in the future.\n",
      "\n",
      "/tmp/ipykernel_1486896/3271090702.py:71: ExperimentalWarning:\n",
      "\n",
      "upload_artifact is experimental (supported from v3.3.0). The interface can change in the future.\n",
      "\n",
      "[I 2024-07-01 01:10:09,759] Trial 136 finished with value: 0.3732715498560826 and parameters: {'lambda_l1': 1.3788053092889462e-06, 'lambda_l2': 6.676599261965335e-08, 'num_leaves': 259, 'feature_fraction': 0.49700132227326277, 'bagging_fraction': 0.9534376071468488, 'bagging_freq': 2, 'min_child_samples': 47}. Best is trial 126 with value: 0.3778409624983209.\n",
      "/tmp/ipykernel_1486896/3271090702.py:67: ExperimentalWarning:\n",
      "\n",
      "upload_artifact is experimental (supported from v3.3.0). The interface can change in the future.\n",
      "\n",
      "/tmp/ipykernel_1486896/3271090702.py:71: ExperimentalWarning:\n",
      "\n",
      "upload_artifact is experimental (supported from v3.3.0). The interface can change in the future.\n",
      "\n",
      "[I 2024-07-01 01:10:16,647] Trial 137 finished with value: 0.3632482505852602 and parameters: {'lambda_l1': 3.482401390323286e-07, 'lambda_l2': 6.983699434426207e-08, 'num_leaves': 262, 'feature_fraction': 0.4953355862626698, 'bagging_fraction': 0.9492958246294146, 'bagging_freq': 2, 'min_child_samples': 48}. Best is trial 126 with value: 0.3778409624983209.\n",
      "/tmp/ipykernel_1486896/3271090702.py:67: ExperimentalWarning:\n",
      "\n",
      "upload_artifact is experimental (supported from v3.3.0). The interface can change in the future.\n",
      "\n",
      "/tmp/ipykernel_1486896/3271090702.py:71: ExperimentalWarning:\n",
      "\n",
      "upload_artifact is experimental (supported from v3.3.0). The interface can change in the future.\n",
      "\n",
      "[I 2024-07-01 01:10:24,016] Trial 138 finished with value: 0.372668775632112 and parameters: {'lambda_l1': 1.3819321414652488e-06, 'lambda_l2': 1.49315145410049e-08, 'num_leaves': 268, 'feature_fraction': 0.4715354314592292, 'bagging_fraction': 0.9706789040478048, 'bagging_freq': 2, 'min_child_samples': 45}. Best is trial 126 with value: 0.3778409624983209.\n",
      "/tmp/ipykernel_1486896/3271090702.py:67: ExperimentalWarning:\n",
      "\n",
      "upload_artifact is experimental (supported from v3.3.0). The interface can change in the future.\n",
      "\n",
      "/tmp/ipykernel_1486896/3271090702.py:71: ExperimentalWarning:\n",
      "\n",
      "upload_artifact is experimental (supported from v3.3.0). The interface can change in the future.\n",
      "\n",
      "[I 2024-07-01 01:10:30,618] Trial 139 finished with value: 0.37370500937430184 and parameters: {'lambda_l1': 2.5711451254028314e-06, 'lambda_l2': 1.0050064402505128e-07, 'num_leaves': 147, 'feature_fraction': 0.44822972031951674, 'bagging_fraction': 0.7249504492495473, 'bagging_freq': 5, 'min_child_samples': 55}. Best is trial 126 with value: 0.3778409624983209.\n",
      "/tmp/ipykernel_1486896/3271090702.py:67: ExperimentalWarning:\n",
      "\n",
      "upload_artifact is experimental (supported from v3.3.0). The interface can change in the future.\n",
      "\n",
      "/tmp/ipykernel_1486896/3271090702.py:71: ExperimentalWarning:\n",
      "\n",
      "upload_artifact is experimental (supported from v3.3.0). The interface can change in the future.\n",
      "\n",
      "[I 2024-07-01 01:10:36,267] Trial 140 finished with value: 0.3666667814721061 and parameters: {'lambda_l1': 9.17110199890806e-06, 'lambda_l2': 1.0895490750804855e-07, 'num_leaves': 154, 'feature_fraction': 0.45176088793200764, 'bagging_fraction': 0.7141275696628965, 'bagging_freq': 4, 'min_child_samples': 57}. Best is trial 126 with value: 0.3778409624983209.\n",
      "/tmp/ipykernel_1486896/3271090702.py:67: ExperimentalWarning:\n",
      "\n",
      "upload_artifact is experimental (supported from v3.3.0). The interface can change in the future.\n",
      "\n",
      "/tmp/ipykernel_1486896/3271090702.py:71: ExperimentalWarning:\n",
      "\n",
      "upload_artifact is experimental (supported from v3.3.0). The interface can change in the future.\n",
      "\n",
      "[I 2024-07-01 01:10:43,021] Trial 141 finished with value: 0.37088072152113527 and parameters: {'lambda_l1': 1.9039007356301035e-06, 'lambda_l2': 3.599587681233606e-08, 'num_leaves': 166, 'feature_fraction': 0.5136220183983968, 'bagging_fraction': 0.9999918471921262, 'bagging_freq': 8, 'min_child_samples': 53}. Best is trial 126 with value: 0.3778409624983209.\n",
      "/tmp/ipykernel_1486896/3271090702.py:67: ExperimentalWarning:\n",
      "\n",
      "upload_artifact is experimental (supported from v3.3.0). The interface can change in the future.\n",
      "\n",
      "/tmp/ipykernel_1486896/3271090702.py:71: ExperimentalWarning:\n",
      "\n",
      "upload_artifact is experimental (supported from v3.3.0). The interface can change in the future.\n",
      "\n",
      "[I 2024-07-01 01:10:49,215] Trial 142 finished with value: 0.36589518710768604 and parameters: {'lambda_l1': 9.143408574048362e-07, 'lambda_l2': 3.182295569775131e-07, 'num_leaves': 150, 'feature_fraction': 0.4338658847472699, 'bagging_fraction': 0.61506319671581, 'bagging_freq': 3, 'min_child_samples': 55}. Best is trial 126 with value: 0.3778409624983209.\n",
      "/tmp/ipykernel_1486896/3271090702.py:67: ExperimentalWarning:\n",
      "\n",
      "upload_artifact is experimental (supported from v3.3.0). The interface can change in the future.\n",
      "\n",
      "/tmp/ipykernel_1486896/3271090702.py:71: ExperimentalWarning:\n",
      "\n",
      "upload_artifact is experimental (supported from v3.3.0). The interface can change in the future.\n",
      "\n",
      "[I 2024-07-01 01:10:56,107] Trial 143 finished with value: 0.3730735339385018 and parameters: {'lambda_l1': 4.4325321043654516e-07, 'lambda_l2': 5.9975940645895364e-05, 'num_leaves': 136, 'feature_fraction': 0.5394453271572361, 'bagging_fraction': 0.7286894517180346, 'bagging_freq': 5, 'min_child_samples': 47}. Best is trial 126 with value: 0.3778409624983209.\n",
      "/tmp/ipykernel_1486896/3271090702.py:67: ExperimentalWarning:\n",
      "\n",
      "upload_artifact is experimental (supported from v3.3.0). The interface can change in the future.\n",
      "\n",
      "/tmp/ipykernel_1486896/3271090702.py:71: ExperimentalWarning:\n",
      "\n",
      "upload_artifact is experimental (supported from v3.3.0). The interface can change in the future.\n",
      "\n",
      "[I 2024-07-01 01:11:01,662] Trial 144 finished with value: 0.3679003157583336 and parameters: {'lambda_l1': 2.1842057298168838e-06, 'lambda_l2': 2.0763723677911683e-08, 'num_leaves': 277, 'feature_fraction': 0.4839848476701286, 'bagging_fraction': 0.9543422262753983, 'bagging_freq': 7, 'min_child_samples': 62}. Best is trial 126 with value: 0.3778409624983209.\n",
      "/tmp/ipykernel_1486896/3271090702.py:67: ExperimentalWarning:\n",
      "\n",
      "upload_artifact is experimental (supported from v3.3.0). The interface can change in the future.\n",
      "\n",
      "/tmp/ipykernel_1486896/3271090702.py:71: ExperimentalWarning:\n",
      "\n",
      "upload_artifact is experimental (supported from v3.3.0). The interface can change in the future.\n",
      "\n",
      "[I 2024-07-01 01:11:08,326] Trial 145 finished with value: 0.3717174958883718 and parameters: {'lambda_l1': 2.0905758684471808e-05, 'lambda_l2': 1.763071468946927e-07, 'num_leaves': 85, 'feature_fraction': 0.45436801369935464, 'bagging_fraction': 0.7589032025183637, 'bagging_freq': 6, 'min_child_samples': 58}. Best is trial 126 with value: 0.3778409624983209.\n",
      "/tmp/ipykernel_1486896/3271090702.py:67: ExperimentalWarning:\n",
      "\n",
      "upload_artifact is experimental (supported from v3.3.0). The interface can change in the future.\n",
      "\n",
      "/tmp/ipykernel_1486896/3271090702.py:71: ExperimentalWarning:\n",
      "\n",
      "upload_artifact is experimental (supported from v3.3.0). The interface can change in the future.\n",
      "\n",
      "[I 2024-07-01 01:11:14,867] Trial 146 finished with value: 0.363716063084775 and parameters: {'lambda_l1': 4.422283728209561e-06, 'lambda_l2': 7.04300730841938e-08, 'num_leaves': 259, 'feature_fraction': 0.41742929384706356, 'bagging_fraction': 0.6811384106209815, 'bagging_freq': 3, 'min_child_samples': 49}. Best is trial 126 with value: 0.3778409624983209.\n",
      "/tmp/ipykernel_1486896/3271090702.py:67: ExperimentalWarning:\n",
      "\n",
      "upload_artifact is experimental (supported from v3.3.0). The interface can change in the future.\n",
      "\n",
      "/tmp/ipykernel_1486896/3271090702.py:71: ExperimentalWarning:\n",
      "\n",
      "upload_artifact is experimental (supported from v3.3.0). The interface can change in the future.\n",
      "\n",
      "[I 2024-07-01 01:11:20,134] Trial 147 finished with value: 0.3664910206141335 and parameters: {'lambda_l1': 4.148467923280815e-05, 'lambda_l2': 0.0004209380287069555, 'num_leaves': 143, 'feature_fraction': 0.47278315949168476, 'bagging_fraction': 0.6497397290893628, 'bagging_freq': 8, 'min_child_samples': 51}. Best is trial 126 with value: 0.3778409624983209.\n",
      "/tmp/ipykernel_1486896/3271090702.py:67: ExperimentalWarning:\n",
      "\n",
      "upload_artifact is experimental (supported from v3.3.0). The interface can change in the future.\n",
      "\n",
      "/tmp/ipykernel_1486896/3271090702.py:71: ExperimentalWarning:\n",
      "\n",
      "upload_artifact is experimental (supported from v3.3.0). The interface can change in the future.\n",
      "\n",
      "[I 2024-07-01 01:11:25,886] Trial 148 finished with value: 0.36501514611621655 and parameters: {'lambda_l1': 3.397206944465795e-06, 'lambda_l2': 0.00015930107541304832, 'num_leaves': 283, 'feature_fraction': 0.3847364301126522, 'bagging_fraction': 0.9151089818401983, 'bagging_freq': 1, 'min_child_samples': 93}. Best is trial 126 with value: 0.3778409624983209.\n",
      "/tmp/ipykernel_1486896/3271090702.py:67: ExperimentalWarning:\n",
      "\n",
      "upload_artifact is experimental (supported from v3.3.0). The interface can change in the future.\n",
      "\n",
      "/tmp/ipykernel_1486896/3271090702.py:71: ExperimentalWarning:\n",
      "\n",
      "upload_artifact is experimental (supported from v3.3.0). The interface can change in the future.\n",
      "\n",
      "[I 2024-07-01 01:11:33,031] Trial 149 finished with value: 0.38090314781964796 and parameters: {'lambda_l1': 7.654183591987084e-07, 'lambda_l2': 3.0021515619494636e-08, 'num_leaves': 158, 'feature_fraction': 0.43763336906780104, 'bagging_fraction': 0.979559058403628, 'bagging_freq': 9, 'min_child_samples': 35}. Best is trial 149 with value: 0.38090314781964796.\n",
      "/tmp/ipykernel_1486896/3271090702.py:67: ExperimentalWarning:\n",
      "\n",
      "upload_artifact is experimental (supported from v3.3.0). The interface can change in the future.\n",
      "\n",
      "/tmp/ipykernel_1486896/3271090702.py:71: ExperimentalWarning:\n",
      "\n",
      "upload_artifact is experimental (supported from v3.3.0). The interface can change in the future.\n",
      "\n",
      "[I 2024-07-01 01:11:40,461] Trial 150 finished with value: 0.36539075007413424 and parameters: {'lambda_l1': 2.6689120600184257e-07, 'lambda_l2': 1.3317655193158415e-08, 'num_leaves': 182, 'feature_fraction': 0.4048385531356441, 'bagging_fraction': 0.9850617676330233, 'bagging_freq': 5, 'min_child_samples': 36}. Best is trial 149 with value: 0.38090314781964796.\n",
      "/tmp/ipykernel_1486896/3271090702.py:67: ExperimentalWarning:\n",
      "\n",
      "upload_artifact is experimental (supported from v3.3.0). The interface can change in the future.\n",
      "\n",
      "/tmp/ipykernel_1486896/3271090702.py:71: ExperimentalWarning:\n",
      "\n",
      "upload_artifact is experimental (supported from v3.3.0). The interface can change in the future.\n",
      "\n",
      "[I 2024-07-01 01:11:46,197] Trial 151 finished with value: 0.37241925919464847 and parameters: {'lambda_l1': 6.59346102024987e-07, 'lambda_l2': 3.143078205501457e-08, 'num_leaves': 69, 'feature_fraction': 0.4442881859294455, 'bagging_fraction': 0.9612758073691491, 'bagging_freq': 9, 'min_child_samples': 34}. Best is trial 149 with value: 0.38090314781964796.\n",
      "/tmp/ipykernel_1486896/3271090702.py:67: ExperimentalWarning:\n",
      "\n",
      "upload_artifact is experimental (supported from v3.3.0). The interface can change in the future.\n",
      "\n",
      "/tmp/ipykernel_1486896/3271090702.py:71: ExperimentalWarning:\n",
      "\n",
      "upload_artifact is experimental (supported from v3.3.0). The interface can change in the future.\n",
      "\n",
      "[I 2024-07-01 01:11:55,717] Trial 152 finished with value: 0.3748974713183495 and parameters: {'lambda_l1': 8.013975901618912e-07, 'lambda_l2': 5.416385474568312e-08, 'num_leaves': 200, 'feature_fraction': 0.42270954838363417, 'bagging_fraction': 0.9761166648876954, 'bagging_freq': 2, 'min_child_samples': 29}. Best is trial 149 with value: 0.38090314781964796.\n",
      "/tmp/ipykernel_1486896/3271090702.py:67: ExperimentalWarning:\n",
      "\n",
      "upload_artifact is experimental (supported from v3.3.0). The interface can change in the future.\n",
      "\n",
      "/tmp/ipykernel_1486896/3271090702.py:71: ExperimentalWarning:\n",
      "\n",
      "upload_artifact is experimental (supported from v3.3.0). The interface can change in the future.\n",
      "\n",
      "[I 2024-07-01 01:12:03,173] Trial 153 finished with value: 0.36719009758619336 and parameters: {'lambda_l1': 8.234325944463956e-07, 'lambda_l2': 2.1189797084516363e-08, 'num_leaves': 160, 'feature_fraction': 0.41658270664877917, 'bagging_fraction': 0.9748140502956998, 'bagging_freq': 9, 'min_child_samples': 29}. Best is trial 149 with value: 0.38090314781964796.\n",
      "/tmp/ipykernel_1486896/3271090702.py:67: ExperimentalWarning:\n",
      "\n",
      "upload_artifact is experimental (supported from v3.3.0). The interface can change in the future.\n",
      "\n",
      "/tmp/ipykernel_1486896/3271090702.py:71: ExperimentalWarning:\n",
      "\n",
      "upload_artifact is experimental (supported from v3.3.0). The interface can change in the future.\n",
      "\n",
      "[I 2024-07-01 01:12:12,538] Trial 154 finished with value: 0.37527986237413535 and parameters: {'lambda_l1': 1.1543791847921778e-05, 'lambda_l2': 1.213045670806459e-07, 'num_leaves': 200, 'feature_fraction': 0.43327750693162126, 'bagging_fraction': 0.9346150393742334, 'bagging_freq': 9, 'min_child_samples': 31}. Best is trial 149 with value: 0.38090314781964796.\n",
      "/tmp/ipykernel_1486896/3271090702.py:67: ExperimentalWarning:\n",
      "\n",
      "upload_artifact is experimental (supported from v3.3.0). The interface can change in the future.\n",
      "\n",
      "/tmp/ipykernel_1486896/3271090702.py:71: ExperimentalWarning:\n",
      "\n",
      "upload_artifact is experimental (supported from v3.3.0). The interface can change in the future.\n",
      "\n",
      "[I 2024-07-01 01:12:22,819] Trial 155 finished with value: 0.37290158442695454 and parameters: {'lambda_l1': 1.5237837524408199e-05, 'lambda_l2': 1.2087653919440372e-07, 'num_leaves': 204, 'feature_fraction': 0.43290594697014356, 'bagging_fraction': 0.9380455413679222, 'bagging_freq': 9, 'min_child_samples': 29}. Best is trial 149 with value: 0.38090314781964796.\n",
      "/tmp/ipykernel_1486896/3271090702.py:67: ExperimentalWarning:\n",
      "\n",
      "upload_artifact is experimental (supported from v3.3.0). The interface can change in the future.\n",
      "\n",
      "/tmp/ipykernel_1486896/3271090702.py:71: ExperimentalWarning:\n",
      "\n",
      "upload_artifact is experimental (supported from v3.3.0). The interface can change in the future.\n",
      "\n",
      "[I 2024-07-01 01:12:31,629] Trial 156 finished with value: 0.3713669017509279 and parameters: {'lambda_l1': 6.013013158860487e-06, 'lambda_l2': 4.3959804127635386e-08, 'num_leaves': 212, 'feature_fraction': 0.45847038512616695, 'bagging_fraction': 0.9759793174190377, 'bagging_freq': 9, 'min_child_samples': 31}. Best is trial 149 with value: 0.38090314781964796.\n",
      "/tmp/ipykernel_1486896/3271090702.py:67: ExperimentalWarning:\n",
      "\n",
      "upload_artifact is experimental (supported from v3.3.0). The interface can change in the future.\n",
      "\n",
      "/tmp/ipykernel_1486896/3271090702.py:71: ExperimentalWarning:\n",
      "\n",
      "upload_artifact is experimental (supported from v3.3.0). The interface can change in the future.\n",
      "\n",
      "[I 2024-07-01 01:12:41,787] Trial 157 finished with value: 0.36528060790480515 and parameters: {'lambda_l1': 5.04395572050897e-07, 'lambda_l2': 3.1913563669986756e-08, 'num_leaves': 222, 'feature_fraction': 0.301596285319372, 'bagging_fraction': 0.9886948548050369, 'bagging_freq': 8, 'min_child_samples': 26}. Best is trial 149 with value: 0.38090314781964796.\n",
      "/tmp/ipykernel_1486896/3271090702.py:67: ExperimentalWarning:\n",
      "\n",
      "upload_artifact is experimental (supported from v3.3.0). The interface can change in the future.\n",
      "\n",
      "/tmp/ipykernel_1486896/3271090702.py:71: ExperimentalWarning:\n",
      "\n",
      "upload_artifact is experimental (supported from v3.3.0). The interface can change in the future.\n",
      "\n",
      "[I 2024-07-01 01:12:50,205] Trial 158 finished with value: 0.3659249859944698 and parameters: {'lambda_l1': 2.2399091865607142e-06, 'lambda_l2': 9.479016858945209e-08, 'num_leaves': 198, 'feature_fraction': 0.42777700334311053, 'bagging_fraction': 0.9384946622206024, 'bagging_freq': 9, 'min_child_samples': 32}. Best is trial 149 with value: 0.38090314781964796.\n",
      "/tmp/ipykernel_1486896/3271090702.py:67: ExperimentalWarning:\n",
      "\n",
      "upload_artifact is experimental (supported from v3.3.0). The interface can change in the future.\n",
      "\n",
      "/tmp/ipykernel_1486896/3271090702.py:71: ExperimentalWarning:\n",
      "\n",
      "upload_artifact is experimental (supported from v3.3.0). The interface can change in the future.\n",
      "\n",
      "[I 2024-07-01 01:12:58,604] Trial 159 finished with value: 0.3660882549275488 and parameters: {'lambda_l1': 1.1260778592267841e-05, 'lambda_l2': 5.593229186688533e-08, 'num_leaves': 186, 'feature_fraction': 0.37085371883815027, 'bagging_fraction': 0.9066981622839138, 'bagging_freq': 8, 'min_child_samples': 35}. Best is trial 149 with value: 0.38090314781964796.\n",
      "/tmp/ipykernel_1486896/3271090702.py:67: ExperimentalWarning:\n",
      "\n",
      "upload_artifact is experimental (supported from v3.3.0). The interface can change in the future.\n",
      "\n",
      "/tmp/ipykernel_1486896/3271090702.py:71: ExperimentalWarning:\n",
      "\n",
      "upload_artifact is experimental (supported from v3.3.0). The interface can change in the future.\n",
      "\n",
      "[I 2024-07-01 01:13:05,012] Trial 160 finished with value: 0.3540667765837968 and parameters: {'lambda_l1': 3.199595866039622e-05, 'lambda_l2': 1.6523006190661985e-08, 'num_leaves': 230, 'feature_fraction': 0.39380400965037304, 'bagging_fraction': 0.4924274352778226, 'bagging_freq': 7, 'min_child_samples': 27}. Best is trial 149 with value: 0.38090314781964796.\n",
      "/tmp/ipykernel_1486896/3271090702.py:67: ExperimentalWarning:\n",
      "\n",
      "upload_artifact is experimental (supported from v3.3.0). The interface can change in the future.\n",
      "\n",
      "/tmp/ipykernel_1486896/3271090702.py:71: ExperimentalWarning:\n",
      "\n",
      "upload_artifact is experimental (supported from v3.3.0). The interface can change in the future.\n",
      "\n",
      "[I 2024-07-01 01:13:13,060] Trial 161 finished with value: 0.37393057275157765 and parameters: {'lambda_l1': 9.157682230994684e-05, 'lambda_l2': 1.058684700019527e-08, 'num_leaves': 168, 'feature_fraction': 0.4379078830309532, 'bagging_fraction': 0.9693950989626151, 'bagging_freq': 10, 'min_child_samples': 39}. Best is trial 149 with value: 0.38090314781964796.\n",
      "/tmp/ipykernel_1486896/3271090702.py:67: ExperimentalWarning:\n",
      "\n",
      "upload_artifact is experimental (supported from v3.3.0). The interface can change in the future.\n",
      "\n",
      "/tmp/ipykernel_1486896/3271090702.py:71: ExperimentalWarning:\n",
      "\n",
      "upload_artifact is experimental (supported from v3.3.0). The interface can change in the future.\n",
      "\n",
      "[I 2024-07-01 01:13:24,622] Trial 162 finished with value: 0.37335106896497394 and parameters: {'lambda_l1': 9.308241214017568e-05, 'lambda_l2': 1.1671310640333148e-08, 'num_leaves': 205, 'feature_fraction': 0.4397296847478392, 'bagging_fraction': 0.9660427390638492, 'bagging_freq': 10, 'min_child_samples': 38}. Best is trial 149 with value: 0.38090314781964796.\n",
      "/tmp/ipykernel_1486896/3271090702.py:67: ExperimentalWarning:\n",
      "\n",
      "upload_artifact is experimental (supported from v3.3.0). The interface can change in the future.\n",
      "\n",
      "/tmp/ipykernel_1486896/3271090702.py:71: ExperimentalWarning:\n",
      "\n",
      "upload_artifact is experimental (supported from v3.3.0). The interface can change in the future.\n",
      "\n",
      "[I 2024-07-01 01:13:32,999] Trial 163 finished with value: 0.3684803925542325 and parameters: {'lambda_l1': 0.00015781539501160262, 'lambda_l2': 2.591142879655125e-08, 'num_leaves': 146, 'feature_fraction': 0.4205903423098936, 'bagging_fraction': 0.9853984502708986, 'bagging_freq': 10, 'min_child_samples': 33}. Best is trial 149 with value: 0.38090314781964796.\n",
      "/tmp/ipykernel_1486896/3271090702.py:67: ExperimentalWarning:\n",
      "\n",
      "upload_artifact is experimental (supported from v3.3.0). The interface can change in the future.\n",
      "\n",
      "/tmp/ipykernel_1486896/3271090702.py:71: ExperimentalWarning:\n",
      "\n",
      "upload_artifact is experimental (supported from v3.3.0). The interface can change in the future.\n",
      "\n",
      "[I 2024-07-01 01:13:41,278] Trial 164 finished with value: 0.3709174074339839 and parameters: {'lambda_l1': 2.5309425251168014e-05, 'lambda_l2': 1.0394255183561083e-08, 'num_leaves': 167, 'feature_fraction': 0.46118133065839395, 'bagging_fraction': 0.9236104554073319, 'bagging_freq': 10, 'min_child_samples': 24}. Best is trial 149 with value: 0.38090314781964796.\n",
      "/tmp/ipykernel_1486896/3271090702.py:67: ExperimentalWarning:\n",
      "\n",
      "upload_artifact is experimental (supported from v3.3.0). The interface can change in the future.\n",
      "\n",
      "/tmp/ipykernel_1486896/3271090702.py:71: ExperimentalWarning:\n",
      "\n",
      "upload_artifact is experimental (supported from v3.3.0). The interface can change in the future.\n",
      "\n",
      "[I 2024-07-01 01:13:48,380] Trial 165 finished with value: 0.3567331460168973 and parameters: {'lambda_l1': 7.931072024735008e-06, 'lambda_l2': 1.9967464425256678e-08, 'num_leaves': 215, 'feature_fraction': 0.4065675419642399, 'bagging_fraction': 0.5458100527632376, 'bagging_freq': 10, 'min_child_samples': 30}. Best is trial 149 with value: 0.38090314781964796.\n",
      "/tmp/ipykernel_1486896/3271090702.py:67: ExperimentalWarning:\n",
      "\n",
      "upload_artifact is experimental (supported from v3.3.0). The interface can change in the future.\n",
      "\n",
      "/tmp/ipykernel_1486896/3271090702.py:71: ExperimentalWarning:\n",
      "\n",
      "upload_artifact is experimental (supported from v3.3.0). The interface can change in the future.\n",
      "\n",
      "[I 2024-07-01 01:13:55,361] Trial 166 finished with value: 0.3679564628121328 and parameters: {'lambda_l1': 0.004983525971947564, 'lambda_l2': 3.629701974696147e-08, 'num_leaves': 159, 'feature_fraction': 0.4445275830708377, 'bagging_fraction': 0.9458279864795381, 'bagging_freq': 9, 'min_child_samples': 36}. Best is trial 149 with value: 0.38090314781964796.\n",
      "/tmp/ipykernel_1486896/3271090702.py:67: ExperimentalWarning:\n",
      "\n",
      "upload_artifact is experimental (supported from v3.3.0). The interface can change in the future.\n",
      "\n",
      "/tmp/ipykernel_1486896/3271090702.py:71: ExperimentalWarning:\n",
      "\n",
      "upload_artifact is experimental (supported from v3.3.0). The interface can change in the future.\n",
      "\n",
      "[I 2024-07-01 01:14:02,205] Trial 167 finished with value: 0.3693519937357349 and parameters: {'lambda_l1': 5.6782565857895296e-05, 'lambda_l2': 2.6200983990744535e-07, 'num_leaves': 171, 'feature_fraction': 0.4741938218666728, 'bagging_fraction': 0.9635007451915608, 'bagging_freq': 10, 'min_child_samples': 39}. Best is trial 149 with value: 0.38090314781964796.\n",
      "/tmp/ipykernel_1486896/3271090702.py:67: ExperimentalWarning:\n",
      "\n",
      "upload_artifact is experimental (supported from v3.3.0). The interface can change in the future.\n",
      "\n",
      "/tmp/ipykernel_1486896/3271090702.py:71: ExperimentalWarning:\n",
      "\n",
      "upload_artifact is experimental (supported from v3.3.0). The interface can change in the future.\n",
      "\n",
      "[I 2024-07-01 01:14:10,025] Trial 168 finished with value: 0.36943294845432817 and parameters: {'lambda_l1': 0.5269216734775235, 'lambda_l2': 6.351056032347778e-08, 'num_leaves': 149, 'feature_fraction': 0.4242600279415386, 'bagging_fraction': 0.9764336270637505, 'bagging_freq': 9, 'min_child_samples': 40}. Best is trial 149 with value: 0.38090314781964796.\n",
      "/tmp/ipykernel_1486896/3271090702.py:67: ExperimentalWarning:\n",
      "\n",
      "upload_artifact is experimental (supported from v3.3.0). The interface can change in the future.\n",
      "\n",
      "/tmp/ipykernel_1486896/3271090702.py:71: ExperimentalWarning:\n",
      "\n",
      "upload_artifact is experimental (supported from v3.3.0). The interface can change in the future.\n",
      "\n",
      "[I 2024-07-01 01:14:17,163] Trial 169 finished with value: 0.3677020808106429 and parameters: {'lambda_l1': 9.94498520317469e-07, 'lambda_l2': 1.4292044103764775e-07, 'num_leaves': 127, 'feature_fraction': 0.452977686771838, 'bagging_fraction': 0.9992314018463179, 'bagging_freq': 10, 'min_child_samples': 33}. Best is trial 149 with value: 0.38090314781964796.\n",
      "/tmp/ipykernel_1486896/3271090702.py:67: ExperimentalWarning:\n",
      "\n",
      "upload_artifact is experimental (supported from v3.3.0). The interface can change in the future.\n",
      "\n",
      "/tmp/ipykernel_1486896/3271090702.py:71: ExperimentalWarning:\n",
      "\n",
      "upload_artifact is experimental (supported from v3.3.0). The interface can change in the future.\n",
      "\n",
      "[I 2024-07-01 01:14:22,941] Trial 170 finished with value: 0.35758740017143303 and parameters: {'lambda_l1': 3.1564923605156846e-07, 'lambda_l2': 2.3975949250930393e-08, 'num_leaves': 178, 'feature_fraction': 0.3975518883313894, 'bagging_fraction': 0.5670119945792967, 'bagging_freq': 8, 'min_child_samples': 35}. Best is trial 149 with value: 0.38090314781964796.\n",
      "/tmp/ipykernel_1486896/3271090702.py:67: ExperimentalWarning:\n",
      "\n",
      "upload_artifact is experimental (supported from v3.3.0). The interface can change in the future.\n",
      "\n",
      "/tmp/ipykernel_1486896/3271090702.py:71: ExperimentalWarning:\n",
      "\n",
      "upload_artifact is experimental (supported from v3.3.0). The interface can change in the future.\n",
      "\n",
      "[I 2024-07-01 01:14:31,064] Trial 171 finished with value: 0.37199837273983616 and parameters: {'lambda_l1': 8.014750296392838e-05, 'lambda_l2': 5.0404742041014464e-08, 'num_leaves': 194, 'feature_fraction': 0.4331884248140586, 'bagging_fraction': 0.9557157081914588, 'bagging_freq': 10, 'min_child_samples': 28}. Best is trial 149 with value: 0.38090314781964796.\n",
      "/tmp/ipykernel_1486896/3271090702.py:67: ExperimentalWarning:\n",
      "\n",
      "upload_artifact is experimental (supported from v3.3.0). The interface can change in the future.\n",
      "\n",
      "/tmp/ipykernel_1486896/3271090702.py:71: ExperimentalWarning:\n",
      "\n",
      "upload_artifact is experimental (supported from v3.3.0). The interface can change in the future.\n",
      "\n",
      "[I 2024-07-01 01:14:36,632] Trial 172 finished with value: 0.36670427551670864 and parameters: {'lambda_l1': 2.2975280368964433e-05, 'lambda_l2': 1.6159008348656058e-08, 'num_leaves': 75, 'feature_fraction': 0.40981188878595237, 'bagging_fraction': 0.8977266596293907, 'bagging_freq': 10, 'min_child_samples': 55}. Best is trial 149 with value: 0.38090314781964796.\n",
      "/tmp/ipykernel_1486896/3271090702.py:67: ExperimentalWarning:\n",
      "\n",
      "upload_artifact is experimental (supported from v3.3.0). The interface can change in the future.\n",
      "\n",
      "/tmp/ipykernel_1486896/3271090702.py:71: ExperimentalWarning:\n",
      "\n",
      "upload_artifact is experimental (supported from v3.3.0). The interface can change in the future.\n",
      "\n",
      "[I 2024-07-01 01:14:43,089] Trial 173 finished with value: 0.3696496248107667 and parameters: {'lambda_l1': 4.614862606683958e-05, 'lambda_l2': 0.00025760084545800566, 'num_leaves': 140, 'feature_fraction': 0.44328121968298995, 'bagging_fraction': 0.9349947891816208, 'bagging_freq': 10, 'min_child_samples': 42}. Best is trial 149 with value: 0.38090314781964796.\n",
      "/tmp/ipykernel_1486896/3271090702.py:67: ExperimentalWarning:\n",
      "\n",
      "upload_artifact is experimental (supported from v3.3.0). The interface can change in the future.\n",
      "\n",
      "/tmp/ipykernel_1486896/3271090702.py:71: ExperimentalWarning:\n",
      "\n",
      "upload_artifact is experimental (supported from v3.3.0). The interface can change in the future.\n",
      "\n",
      "[I 2024-07-01 01:14:52,127] Trial 174 finished with value: 0.3697420973938601 and parameters: {'lambda_l1': 0.0001209887888882373, 'lambda_l2': 3.2980105143217554e-08, 'num_leaves': 275, 'feature_fraction': 0.38211372183161996, 'bagging_fraction': 0.9688669711354931, 'bagging_freq': 10, 'min_child_samples': 38}. Best is trial 149 with value: 0.38090314781964796.\n",
      "/tmp/ipykernel_1486896/3271090702.py:67: ExperimentalWarning:\n",
      "\n",
      "upload_artifact is experimental (supported from v3.3.0). The interface can change in the future.\n",
      "\n",
      "/tmp/ipykernel_1486896/3271090702.py:71: ExperimentalWarning:\n",
      "\n",
      "upload_artifact is experimental (supported from v3.3.0). The interface can change in the future.\n",
      "\n",
      "[I 2024-07-01 01:14:58,802] Trial 175 finished with value: 0.375132557599382 and parameters: {'lambda_l1': 0.00033732209373700143, 'lambda_l2': 0.5565672992565417, 'num_leaves': 58, 'feature_fraction': 0.345876729882059, 'bagging_fraction': 0.8592874930806753, 'bagging_freq': 9, 'min_child_samples': 64}. Best is trial 149 with value: 0.38090314781964796.\n",
      "/tmp/ipykernel_1486896/3271090702.py:67: ExperimentalWarning:\n",
      "\n",
      "upload_artifact is experimental (supported from v3.3.0). The interface can change in the future.\n",
      "\n",
      "/tmp/ipykernel_1486896/3271090702.py:71: ExperimentalWarning:\n",
      "\n",
      "upload_artifact is experimental (supported from v3.3.0). The interface can change in the future.\n",
      "\n",
      "[I 2024-07-01 01:15:04,478] Trial 176 finished with value: 0.36878283748012275 and parameters: {'lambda_l1': 0.00018007132010351766, 'lambda_l2': 0.46793075266468415, 'num_leaves': 58, 'feature_fraction': 0.3392000464397352, 'bagging_fraction': 0.8596667882882985, 'bagging_freq': 9, 'min_child_samples': 64}. Best is trial 149 with value: 0.38090314781964796.\n",
      "/tmp/ipykernel_1486896/3271090702.py:67: ExperimentalWarning:\n",
      "\n",
      "upload_artifact is experimental (supported from v3.3.0). The interface can change in the future.\n",
      "\n",
      "/tmp/ipykernel_1486896/3271090702.py:71: ExperimentalWarning:\n",
      "\n",
      "upload_artifact is experimental (supported from v3.3.0). The interface can change in the future.\n",
      "\n",
      "[I 2024-07-01 01:15:10,090] Trial 177 finished with value: 0.37467915124237355 and parameters: {'lambda_l1': 0.0003508586101414037, 'lambda_l2': 0.028895175536005496, 'num_leaves': 41, 'feature_fraction': 0.37568394497295726, 'bagging_fraction': 0.8897377939552629, 'bagging_freq': 9, 'min_child_samples': 69}. Best is trial 149 with value: 0.38090314781964796.\n",
      "/tmp/ipykernel_1486896/3271090702.py:67: ExperimentalWarning:\n",
      "\n",
      "upload_artifact is experimental (supported from v3.3.0). The interface can change in the future.\n",
      "\n",
      "/tmp/ipykernel_1486896/3271090702.py:71: ExperimentalWarning:\n",
      "\n",
      "upload_artifact is experimental (supported from v3.3.0). The interface can change in the future.\n",
      "\n",
      "[I 2024-07-01 01:15:14,625] Trial 178 finished with value: 0.36982565243182386 and parameters: {'lambda_l1': 0.0005586714782577737, 'lambda_l2': 0.20873475813531087, 'num_leaves': 47, 'feature_fraction': 0.36546093594469353, 'bagging_fraction': 0.8926483296532992, 'bagging_freq': 9, 'min_child_samples': 66}. Best is trial 149 with value: 0.38090314781964796.\n",
      "/tmp/ipykernel_1486896/3271090702.py:67: ExperimentalWarning:\n",
      "\n",
      "upload_artifact is experimental (supported from v3.3.0). The interface can change in the future.\n",
      "\n",
      "/tmp/ipykernel_1486896/3271090702.py:71: ExperimentalWarning:\n",
      "\n",
      "upload_artifact is experimental (supported from v3.3.0). The interface can change in the future.\n",
      "\n",
      "[I 2024-07-01 01:15:21,299] Trial 179 finished with value: 0.36846371538834455 and parameters: {'lambda_l1': 0.0003002229646639541, 'lambda_l2': 0.0300920890765363, 'num_leaves': 66, 'feature_fraction': 0.38306222221606023, 'bagging_fraction': 0.915801904196862, 'bagging_freq': 9, 'min_child_samples': 72}. Best is trial 149 with value: 0.38090314781964796.\n",
      "/tmp/ipykernel_1486896/3271090702.py:67: ExperimentalWarning:\n",
      "\n",
      "upload_artifact is experimental (supported from v3.3.0). The interface can change in the future.\n",
      "\n",
      "/tmp/ipykernel_1486896/3271090702.py:71: ExperimentalWarning:\n",
      "\n",
      "upload_artifact is experimental (supported from v3.3.0). The interface can change in the future.\n",
      "\n",
      "[I 2024-07-01 01:15:25,971] Trial 180 finished with value: 0.3646650763694399 and parameters: {'lambda_l1': 0.0017690236561166755, 'lambda_l2': 0.08713705814202234, 'num_leaves': 37, 'feature_fraction': 0.3567213839403789, 'bagging_fraction': 0.8761165968702722, 'bagging_freq': 9, 'min_child_samples': 67}. Best is trial 149 with value: 0.38090314781964796.\n",
      "/tmp/ipykernel_1486896/3271090702.py:67: ExperimentalWarning:\n",
      "\n",
      "upload_artifact is experimental (supported from v3.3.0). The interface can change in the future.\n",
      "\n",
      "/tmp/ipykernel_1486896/3271090702.py:71: ExperimentalWarning:\n",
      "\n",
      "upload_artifact is experimental (supported from v3.3.0). The interface can change in the future.\n",
      "\n",
      "[I 2024-07-01 01:15:33,472] Trial 181 finished with value: 0.3672660051609327 and parameters: {'lambda_l1': 0.0002824808611565324, 'lambda_l2': 0.005076689544147953, 'num_leaves': 157, 'feature_fraction': 0.3277652622911462, 'bagging_fraction': 0.9255571506950906, 'bagging_freq': 9, 'min_child_samples': 61}. Best is trial 149 with value: 0.38090314781964796.\n",
      "/tmp/ipykernel_1486896/3271090702.py:67: ExperimentalWarning:\n",
      "\n",
      "upload_artifact is experimental (supported from v3.3.0). The interface can change in the future.\n",
      "\n",
      "/tmp/ipykernel_1486896/3271090702.py:71: ExperimentalWarning:\n",
      "\n",
      "upload_artifact is experimental (supported from v3.3.0). The interface can change in the future.\n",
      "\n",
      "[I 2024-07-01 01:15:38,491] Trial 182 finished with value: 0.3628351507758826 and parameters: {'lambda_l1': 0.001033009030039902, 'lambda_l2': 2.4733372939356157, 'num_leaves': 26, 'feature_fraction': 0.3425186744266022, 'bagging_fraction': 0.9486236355218538, 'bagging_freq': 9, 'min_child_samples': 63}. Best is trial 149 with value: 0.38090314781964796.\n",
      "/tmp/ipykernel_1486896/3271090702.py:67: ExperimentalWarning:\n",
      "\n",
      "upload_artifact is experimental (supported from v3.3.0). The interface can change in the future.\n",
      "\n",
      "/tmp/ipykernel_1486896/3271090702.py:71: ExperimentalWarning:\n",
      "\n",
      "upload_artifact is experimental (supported from v3.3.0). The interface can change in the future.\n",
      "\n",
      "[I 2024-07-01 01:15:43,482] Trial 183 finished with value: 0.36288348727818914 and parameters: {'lambda_l1': 0.0005528330944580712, 'lambda_l2': 0.024478071037407564, 'num_leaves': 41, 'feature_fraction': 0.41763159909281994, 'bagging_fraction': 0.8764262755161293, 'bagging_freq': 8, 'min_child_samples': 81}. Best is trial 149 with value: 0.38090314781964796.\n",
      "/tmp/ipykernel_1486896/3271090702.py:67: ExperimentalWarning:\n",
      "\n",
      "upload_artifact is experimental (supported from v3.3.0). The interface can change in the future.\n",
      "\n",
      "/tmp/ipykernel_1486896/3271090702.py:71: ExperimentalWarning:\n",
      "\n",
      "upload_artifact is experimental (supported from v3.3.0). The interface can change in the future.\n",
      "\n",
      "[I 2024-07-01 01:15:48,763] Trial 184 finished with value: 0.369939845449914 and parameters: {'lambda_l1': 5.911472491458064e-07, 'lambda_l2': 0.04593404506182332, 'num_leaves': 53, 'feature_fraction': 0.46104182333250604, 'bagging_fraction': 0.9816802268701228, 'bagging_freq': 9, 'min_child_samples': 59}. Best is trial 149 with value: 0.38090314781964796.\n",
      "/tmp/ipykernel_1486896/3271090702.py:67: ExperimentalWarning:\n",
      "\n",
      "upload_artifact is experimental (supported from v3.3.0). The interface can change in the future.\n",
      "\n",
      "/tmp/ipykernel_1486896/3271090702.py:71: ExperimentalWarning:\n",
      "\n",
      "upload_artifact is experimental (supported from v3.3.0). The interface can change in the future.\n",
      "\n",
      "[I 2024-07-01 01:15:54,228] Trial 185 finished with value: 0.3609780924716908 and parameters: {'lambda_l1': 0.00035752621902980703, 'lambda_l2': 0.6845678802181164, 'num_leaves': 150, 'feature_fraction': 0.37511248339804815, 'bagging_fraction': 0.9085710897380151, 'bagging_freq': 9, 'min_child_samples': 76}. Best is trial 149 with value: 0.38090314781964796.\n",
      "/tmp/ipykernel_1486896/3271090702.py:67: ExperimentalWarning:\n",
      "\n",
      "upload_artifact is experimental (supported from v3.3.0). The interface can change in the future.\n",
      "\n",
      "/tmp/ipykernel_1486896/3271090702.py:71: ExperimentalWarning:\n",
      "\n",
      "upload_artifact is experimental (supported from v3.3.0). The interface can change in the future.\n",
      "\n",
      "[I 2024-07-01 01:16:03,211] Trial 186 finished with value: 0.36929746646257977 and parameters: {'lambda_l1': 1.2946385493563997e-06, 'lambda_l2': 0.012283848795693653, 'num_leaves': 281, 'feature_fraction': 0.39793875229056985, 'bagging_fraction': 0.8473102112418955, 'bagging_freq': 6, 'min_child_samples': 31}. Best is trial 149 with value: 0.38090314781964796.\n",
      "/tmp/ipykernel_1486896/3271090702.py:67: ExperimentalWarning:\n",
      "\n",
      "upload_artifact is experimental (supported from v3.3.0). The interface can change in the future.\n",
      "\n",
      "/tmp/ipykernel_1486896/3271090702.py:71: ExperimentalWarning:\n",
      "\n",
      "upload_artifact is experimental (supported from v3.3.0). The interface can change in the future.\n",
      "\n",
      "[I 2024-07-01 01:16:08,449] Trial 187 finished with value: 0.3638097992244299 and parameters: {'lambda_l1': 2.0277692268520585e-07, 'lambda_l2': 6.310990100579015, 'num_leaves': 272, 'feature_fraction': 0.317956714884717, 'bagging_fraction': 0.8891649009891851, 'bagging_freq': 4, 'min_child_samples': 56}. Best is trial 149 with value: 0.38090314781964796.\n",
      "/tmp/ipykernel_1486896/3271090702.py:67: ExperimentalWarning:\n",
      "\n",
      "upload_artifact is experimental (supported from v3.3.0). The interface can change in the future.\n",
      "\n",
      "/tmp/ipykernel_1486896/3271090702.py:71: ExperimentalWarning:\n",
      "\n",
      "upload_artifact is experimental (supported from v3.3.0). The interface can change in the future.\n",
      "\n",
      "[I 2024-07-01 01:16:15,198] Trial 188 finished with value: 0.3664881570264874 and parameters: {'lambda_l1': 1.476093315501484e-05, 'lambda_l2': 1.5356734078401876e-05, 'num_leaves': 132, 'feature_fraction': 0.4321005796422608, 'bagging_fraction': 0.8280197891498143, 'bagging_freq': 10, 'min_child_samples': 70}. Best is trial 149 with value: 0.38090314781964796.\n",
      "/tmp/ipykernel_1486896/3271090702.py:67: ExperimentalWarning:\n",
      "\n",
      "upload_artifact is experimental (supported from v3.3.0). The interface can change in the future.\n",
      "\n",
      "/tmp/ipykernel_1486896/3271090702.py:71: ExperimentalWarning:\n",
      "\n",
      "upload_artifact is experimental (supported from v3.3.0). The interface can change in the future.\n",
      "\n",
      "[I 2024-07-01 01:16:23,151] Trial 189 finished with value: 0.3739439763605053 and parameters: {'lambda_l1': 1.2430162600897624e-07, 'lambda_l2': 4.166525314587555e-06, 'num_leaves': 288, 'feature_fraction': 0.48585224843233366, 'bagging_fraction': 0.9331106218913441, 'bagging_freq': 8, 'min_child_samples': 69}. Best is trial 149 with value: 0.38090314781964796.\n",
      "/tmp/ipykernel_1486896/3271090702.py:67: ExperimentalWarning:\n",
      "\n",
      "upload_artifact is experimental (supported from v3.3.0). The interface can change in the future.\n",
      "\n",
      "/tmp/ipykernel_1486896/3271090702.py:71: ExperimentalWarning:\n",
      "\n",
      "upload_artifact is experimental (supported from v3.3.0). The interface can change in the future.\n",
      "\n",
      "[I 2024-07-01 01:16:29,016] Trial 190 finished with value: 0.36957082812765935 and parameters: {'lambda_l1': 6.05043199021225e-08, 'lambda_l2': 6.730068595825139e-06, 'num_leaves': 284, 'feature_fraction': 0.4914829296092185, 'bagging_fraction': 0.9342800908940273, 'bagging_freq': 8, 'min_child_samples': 64}. Best is trial 149 with value: 0.38090314781964796.\n",
      "/tmp/ipykernel_1486896/3271090702.py:67: ExperimentalWarning:\n",
      "\n",
      "upload_artifact is experimental (supported from v3.3.0). The interface can change in the future.\n",
      "\n",
      "/tmp/ipykernel_1486896/3271090702.py:71: ExperimentalWarning:\n",
      "\n",
      "upload_artifact is experimental (supported from v3.3.0). The interface can change in the future.\n",
      "\n",
      "[I 2024-07-01 01:16:37,249] Trial 191 finished with value: 0.37097887799976637 and parameters: {'lambda_l1': 1.625386897712514e-07, 'lambda_l2': 2.516040927753367e-08, 'num_leaves': 280, 'feature_fraction': 0.44775505492771006, 'bagging_fraction': 0.956773445056599, 'bagging_freq': 8, 'min_child_samples': 34}. Best is trial 149 with value: 0.38090314781964796.\n",
      "/tmp/ipykernel_1486896/3271090702.py:67: ExperimentalWarning:\n",
      "\n",
      "upload_artifact is experimental (supported from v3.3.0). The interface can change in the future.\n",
      "\n",
      "/tmp/ipykernel_1486896/3271090702.py:71: ExperimentalWarning:\n",
      "\n",
      "upload_artifact is experimental (supported from v3.3.0). The interface can change in the future.\n",
      "\n",
      "[I 2024-07-01 01:16:42,351] Trial 192 finished with value: 0.3660367138828318 and parameters: {'lambda_l1': 1.0135294141252076e-07, 'lambda_l2': 2.610779655965861e-06, 'num_leaves': 290, 'feature_fraction': 0.45638722155464134, 'bagging_fraction': 0.9193149822264503, 'bagging_freq': 8, 'min_child_samples': 68}. Best is trial 149 with value: 0.38090314781964796.\n",
      "/tmp/ipykernel_1486896/3271090702.py:67: ExperimentalWarning:\n",
      "\n",
      "upload_artifact is experimental (supported from v3.3.0). The interface can change in the future.\n",
      "\n",
      "/tmp/ipykernel_1486896/3271090702.py:71: ExperimentalWarning:\n",
      "\n",
      "upload_artifact is experimental (supported from v3.3.0). The interface can change in the future.\n",
      "\n",
      "[I 2024-07-01 01:16:49,091] Trial 193 finished with value: 0.3700275077933187 and parameters: {'lambda_l1': 3.7137753722682483e-07, 'lambda_l2': 4.163685538187102e-08, 'num_leaves': 298, 'feature_fraction': 0.47888032654771556, 'bagging_fraction': 0.9400190445187534, 'bagging_freq': 8, 'min_child_samples': 70}. Best is trial 149 with value: 0.38090314781964796.\n",
      "/tmp/ipykernel_1486896/3271090702.py:67: ExperimentalWarning:\n",
      "\n",
      "upload_artifact is experimental (supported from v3.3.0). The interface can change in the future.\n",
      "\n",
      "/tmp/ipykernel_1486896/3271090702.py:71: ExperimentalWarning:\n",
      "\n",
      "upload_artifact is experimental (supported from v3.3.0). The interface can change in the future.\n",
      "\n",
      "[I 2024-07-01 01:16:57,010] Trial 194 finished with value: 0.37504759803861976 and parameters: {'lambda_l1': 3.779360653370042e-05, 'lambda_l2': 1.4991313996823893e-06, 'num_leaves': 243, 'feature_fraction': 0.4686914809816402, 'bagging_fraction': 0.967228750356124, 'bagging_freq': 9, 'min_child_samples': 75}. Best is trial 149 with value: 0.38090314781964796.\n",
      "/tmp/ipykernel_1486896/3271090702.py:67: ExperimentalWarning:\n",
      "\n",
      "upload_artifact is experimental (supported from v3.3.0). The interface can change in the future.\n",
      "\n",
      "/tmp/ipykernel_1486896/3271090702.py:71: ExperimentalWarning:\n",
      "\n",
      "upload_artifact is experimental (supported from v3.3.0). The interface can change in the future.\n",
      "\n",
      "[I 2024-07-01 01:17:02,819] Trial 195 finished with value: 0.368818986227491 and parameters: {'lambda_l1': 3.699794139681341e-05, 'lambda_l2': 1.2964990175418175e-06, 'num_leaves': 252, 'feature_fraction': 0.3521528491148011, 'bagging_fraction': 0.9882475101658966, 'bagging_freq': 9, 'min_child_samples': 74}. Best is trial 149 with value: 0.38090314781964796.\n",
      "/tmp/ipykernel_1486896/3271090702.py:67: ExperimentalWarning:\n",
      "\n",
      "upload_artifact is experimental (supported from v3.3.0). The interface can change in the future.\n",
      "\n",
      "/tmp/ipykernel_1486896/3271090702.py:71: ExperimentalWarning:\n",
      "\n",
      "upload_artifact is experimental (supported from v3.3.0). The interface can change in the future.\n",
      "\n",
      "[I 2024-07-01 01:17:11,241] Trial 196 finished with value: 0.3662687782697427 and parameters: {'lambda_l1': 0.00010031531009894532, 'lambda_l2': 4.35612738288757e-06, 'num_leaves': 236, 'feature_fraction': 0.47050448264542494, 'bagging_fraction': 0.9669617376231425, 'bagging_freq': 9, 'min_child_samples': 37}. Best is trial 149 with value: 0.38090314781964796.\n",
      "/tmp/ipykernel_1486896/3271090702.py:67: ExperimentalWarning:\n",
      "\n",
      "upload_artifact is experimental (supported from v3.3.0). The interface can change in the future.\n",
      "\n",
      "/tmp/ipykernel_1486896/3271090702.py:71: ExperimentalWarning:\n",
      "\n",
      "upload_artifact is experimental (supported from v3.3.0). The interface can change in the future.\n",
      "\n",
      "[I 2024-07-01 01:17:18,952] Trial 197 finished with value: 0.3680906762933034 and parameters: {'lambda_l1': 0.00018033980264563638, 'lambda_l2': 3.065582706266347e-05, 'num_leaves': 242, 'feature_fraction': 0.5065255949617947, 'bagging_fraction': 0.9508600035522679, 'bagging_freq': 9, 'min_child_samples': 30}. Best is trial 149 with value: 0.38090314781964796.\n",
      "/tmp/ipykernel_1486896/3271090702.py:67: ExperimentalWarning:\n",
      "\n",
      "upload_artifact is experimental (supported from v3.3.0). The interface can change in the future.\n",
      "\n",
      "/tmp/ipykernel_1486896/3271090702.py:71: ExperimentalWarning:\n",
      "\n",
      "upload_artifact is experimental (supported from v3.3.0). The interface can change in the future.\n",
      "\n",
      "[I 2024-07-01 01:17:24,972] Trial 198 finished with value: 0.36897443450999784 and parameters: {'lambda_l1': 2.918054111399643e-05, 'lambda_l2': 1.3909480910565282e-05, 'num_leaves': 231, 'feature_fraction': 0.4845562877365289, 'bagging_fraction': 0.9774290318685501, 'bagging_freq': 10, 'min_child_samples': 81}. Best is trial 149 with value: 0.38090314781964796.\n",
      "/tmp/ipykernel_1486896/3271090702.py:67: ExperimentalWarning:\n",
      "\n",
      "upload_artifact is experimental (supported from v3.3.0). The interface can change in the future.\n",
      "\n",
      "/tmp/ipykernel_1486896/3271090702.py:71: ExperimentalWarning:\n",
      "\n",
      "upload_artifact is experimental (supported from v3.3.0). The interface can change in the future.\n",
      "\n",
      "[I 2024-07-01 01:17:32,126] Trial 199 finished with value: 0.3715520501268138 and parameters: {'lambda_l1': 7.039376808956796e-05, 'lambda_l2': 5.7307266829574e-06, 'num_leaves': 289, 'feature_fraction': 0.5324161334397683, 'bagging_fraction': 0.9968559954575189, 'bagging_freq': 9, 'min_child_samples': 76}. Best is trial 149 with value: 0.38090314781964796.\n",
      "/tmp/ipykernel_1486896/3271090702.py:67: ExperimentalWarning:\n",
      "\n",
      "upload_artifact is experimental (supported from v3.3.0). The interface can change in the future.\n",
      "\n",
      "/tmp/ipykernel_1486896/3271090702.py:71: ExperimentalWarning:\n",
      "\n",
      "upload_artifact is experimental (supported from v3.3.0). The interface can change in the future.\n",
      "\n",
      "[I 2024-07-01 01:17:38,062] Trial 200 finished with value: 0.36512439609240577 and parameters: {'lambda_l1': 0.0007889999995260219, 'lambda_l2': 9.10918642491357e-07, 'num_leaves': 225, 'feature_fraction': 0.418622423879886, 'bagging_fraction': 0.9015663457467002, 'bagging_freq': 8, 'min_child_samples': 74}. Best is trial 149 with value: 0.38090314781964796.\n",
      "/tmp/ipykernel_1486896/3271090702.py:67: ExperimentalWarning:\n",
      "\n",
      "upload_artifact is experimental (supported from v3.3.0). The interface can change in the future.\n",
      "\n",
      "/tmp/ipykernel_1486896/3271090702.py:71: ExperimentalWarning:\n",
      "\n",
      "upload_artifact is experimental (supported from v3.3.0). The interface can change in the future.\n",
      "\n",
      "[I 2024-07-01 01:17:43,668] Trial 201 finished with value: 0.3618136494471898 and parameters: {'lambda_l1': 1.794658172680759e-05, 'lambda_l2': 1.674367239362503e-08, 'num_leaves': 267, 'feature_fraction': 0.8213926061001461, 'bagging_fraction': 0.9626993803132002, 'bagging_freq': 10, 'min_child_samples': 78}. Best is trial 149 with value: 0.38090314781964796.\n",
      "/tmp/ipykernel_1486896/3271090702.py:67: ExperimentalWarning:\n",
      "\n",
      "upload_artifact is experimental (supported from v3.3.0). The interface can change in the future.\n",
      "\n",
      "/tmp/ipykernel_1486896/3271090702.py:71: ExperimentalWarning:\n",
      "\n",
      "upload_artifact is experimental (supported from v3.3.0). The interface can change in the future.\n",
      "\n",
      "[I 2024-07-01 01:17:51,838] Trial 202 finished with value: 0.36967294365225334 and parameters: {'lambda_l1': 6.26846740291217e-07, 'lambda_l2': 2.1491485131706212e-06, 'num_leaves': 166, 'feature_fraction': 0.4633001356001314, 'bagging_fraction': 0.926182998550991, 'bagging_freq': 7, 'min_child_samples': 60}. Best is trial 149 with value: 0.38090314781964796.\n",
      "/tmp/ipykernel_1486896/3271090702.py:67: ExperimentalWarning:\n",
      "\n",
      "upload_artifact is experimental (supported from v3.3.0). The interface can change in the future.\n",
      "\n",
      "/tmp/ipykernel_1486896/3271090702.py:71: ExperimentalWarning:\n",
      "\n",
      "upload_artifact is experimental (supported from v3.3.0). The interface can change in the future.\n",
      "\n",
      "[I 2024-07-01 01:17:58,854] Trial 203 finished with value: 0.37767851815890885 and parameters: {'lambda_l1': 4.2771304006386045e-05, 'lambda_l2': 4.489258723695039e-07, 'num_leaves': 271, 'feature_fraction': 0.4365980594449139, 'bagging_fraction': 0.9490376404024032, 'bagging_freq': 10, 'min_child_samples': 58}. Best is trial 149 with value: 0.38090314781964796.\n",
      "/tmp/ipykernel_1486896/3271090702.py:67: ExperimentalWarning:\n",
      "\n",
      "upload_artifact is experimental (supported from v3.3.0). The interface can change in the future.\n",
      "\n",
      "/tmp/ipykernel_1486896/3271090702.py:71: ExperimentalWarning:\n",
      "\n",
      "upload_artifact is experimental (supported from v3.3.0). The interface can change in the future.\n",
      "\n",
      "[I 2024-07-01 01:18:06,003] Trial 204 finished with value: 0.367838349531884 and parameters: {'lambda_l1': 4.612030076987515e-05, 'lambda_l2': 3.729058224044346e-07, 'num_leaves': 273, 'feature_fraction': 0.43738234648701374, 'bagging_fraction': 0.9434029370913068, 'bagging_freq': 10, 'min_child_samples': 69}. Best is trial 149 with value: 0.38090314781964796.\n",
      "/tmp/ipykernel_1486896/3271090702.py:67: ExperimentalWarning:\n",
      "\n",
      "upload_artifact is experimental (supported from v3.3.0). The interface can change in the future.\n",
      "\n",
      "/tmp/ipykernel_1486896/3271090702.py:71: ExperimentalWarning:\n",
      "\n",
      "upload_artifact is experimental (supported from v3.3.0). The interface can change in the future.\n",
      "\n",
      "[I 2024-07-01 01:18:11,403] Trial 205 finished with value: 0.36391495162333265 and parameters: {'lambda_l1': 3.992754642447583e-05, 'lambda_l2': 9.608805766172894, 'num_leaves': 278, 'feature_fraction': 0.4076207822160505, 'bagging_fraction': 0.9719716000563282, 'bagging_freq': 10, 'min_child_samples': 58}. Best is trial 149 with value: 0.38090314781964796.\n",
      "/tmp/ipykernel_1486896/3271090702.py:67: ExperimentalWarning:\n",
      "\n",
      "upload_artifact is experimental (supported from v3.3.0). The interface can change in the future.\n",
      "\n",
      "/tmp/ipykernel_1486896/3271090702.py:71: ExperimentalWarning:\n",
      "\n",
      "upload_artifact is experimental (supported from v3.3.0). The interface can change in the future.\n",
      "\n",
      "[I 2024-07-01 01:18:17,835] Trial 206 finished with value: 0.36834805637974466 and parameters: {'lambda_l1': 6.889620043982762e-05, 'lambda_l2': 5.827628953404912e-07, 'num_leaves': 265, 'feature_fraction': 0.4293884165510043, 'bagging_fraction': 0.9531582231023435, 'bagging_freq': 10, 'min_child_samples': 62}. Best is trial 149 with value: 0.38090314781964796.\n",
      "/tmp/ipykernel_1486896/3271090702.py:67: ExperimentalWarning:\n",
      "\n",
      "upload_artifact is experimental (supported from v3.3.0). The interface can change in the future.\n",
      "\n",
      "/tmp/ipykernel_1486896/3271090702.py:71: ExperimentalWarning:\n",
      "\n",
      "upload_artifact is experimental (supported from v3.3.0). The interface can change in the future.\n",
      "\n",
      "[I 2024-07-01 01:18:27,145] Trial 207 finished with value: 0.37411342064285885 and parameters: {'lambda_l1': 0.00011144895349980141, 'lambda_l2': 1.493818561497446e-08, 'num_leaves': 284, 'feature_fraction': 0.4430705526526221, 'bagging_fraction': 0.9804356594344952, 'bagging_freq': 10, 'min_child_samples': 32}. Best is trial 149 with value: 0.38090314781964796.\n",
      "/tmp/ipykernel_1486896/3271090702.py:67: ExperimentalWarning:\n",
      "\n",
      "upload_artifact is experimental (supported from v3.3.0). The interface can change in the future.\n",
      "\n",
      "/tmp/ipykernel_1486896/3271090702.py:71: ExperimentalWarning:\n",
      "\n",
      "upload_artifact is experimental (supported from v3.3.0). The interface can change in the future.\n",
      "\n",
      "[I 2024-07-01 01:18:35,620] Trial 208 finished with value: 0.3735440035512158 and parameters: {'lambda_l1': 0.0001430417804176205, 'lambda_l2': 1.4929679538016064e-06, 'num_leaves': 286, 'feature_fraction': 0.4413606212111659, 'bagging_fraction': 0.9869873566254065, 'bagging_freq': 10, 'min_child_samples': 32}. Best is trial 149 with value: 0.38090314781964796.\n",
      "/tmp/ipykernel_1486896/3271090702.py:67: ExperimentalWarning:\n",
      "\n",
      "upload_artifact is experimental (supported from v3.3.0). The interface can change in the future.\n",
      "\n",
      "/tmp/ipykernel_1486896/3271090702.py:71: ExperimentalWarning:\n",
      "\n",
      "upload_artifact is experimental (supported from v3.3.0). The interface can change in the future.\n",
      "\n",
      "[I 2024-07-01 01:18:41,227] Trial 209 finished with value: 0.36756586460601265 and parameters: {'lambda_l1': 0.00024013569927345697, 'lambda_l2': 1.1070920571959024e-08, 'num_leaves': 65, 'feature_fraction': 0.4232324696458175, 'bagging_fraction': 0.9698890460322147, 'bagging_freq': 10, 'min_child_samples': 27}. Best is trial 149 with value: 0.38090314781964796.\n",
      "/tmp/ipykernel_1486896/3271090702.py:67: ExperimentalWarning:\n",
      "\n",
      "upload_artifact is experimental (supported from v3.3.0). The interface can change in the future.\n",
      "\n",
      "/tmp/ipykernel_1486896/3271090702.py:71: ExperimentalWarning:\n",
      "\n",
      "upload_artifact is experimental (supported from v3.3.0). The interface can change in the future.\n",
      "\n",
      "[I 2024-07-01 01:18:48,749] Trial 210 finished with value: 0.3717450644850064 and parameters: {'lambda_l1': 9.53343567214273e-05, 'lambda_l2': 3.8716988427606482, 'num_leaves': 271, 'feature_fraction': 0.46924548251725573, 'bagging_fraction': 0.984974177353814, 'bagging_freq': 10, 'min_child_samples': 25}. Best is trial 149 with value: 0.38090314781964796.\n",
      "/tmp/ipykernel_1486896/3271090702.py:67: ExperimentalWarning:\n",
      "\n",
      "upload_artifact is experimental (supported from v3.3.0). The interface can change in the future.\n",
      "\n",
      "/tmp/ipykernel_1486896/3271090702.py:71: ExperimentalWarning:\n",
      "\n",
      "upload_artifact is experimental (supported from v3.3.0). The interface can change in the future.\n",
      "\n",
      "[I 2024-07-01 01:18:57,290] Trial 211 finished with value: 0.3694099891079814 and parameters: {'lambda_l1': 2.9953358029612823e-05, 'lambda_l2': 1.7887210265272168e-08, 'num_leaves': 283, 'feature_fraction': 0.45384595132287825, 'bagging_fraction': 0.9372874460766828, 'bagging_freq': 10, 'min_child_samples': 35}. Best is trial 149 with value: 0.38090314781964796.\n",
      "/tmp/ipykernel_1486896/3271090702.py:67: ExperimentalWarning:\n",
      "\n",
      "upload_artifact is experimental (supported from v3.3.0). The interface can change in the future.\n",
      "\n",
      "/tmp/ipykernel_1486896/3271090702.py:71: ExperimentalWarning:\n",
      "\n",
      "upload_artifact is experimental (supported from v3.3.0). The interface can change in the future.\n",
      "\n",
      "[I 2024-07-01 01:19:06,956] Trial 212 finished with value: 0.36674363840078233 and parameters: {'lambda_l1': 1.2233910552164474e-07, 'lambda_l2': 2.836266834637749e-08, 'num_leaves': 289, 'feature_fraction': 0.4372961594257479, 'bagging_fraction': 0.9603011646233255, 'bagging_freq': 9, 'min_child_samples': 33}. Best is trial 149 with value: 0.38090314781964796.\n",
      "/tmp/ipykernel_1486896/3271090702.py:67: ExperimentalWarning:\n",
      "\n",
      "upload_artifact is experimental (supported from v3.3.0). The interface can change in the future.\n",
      "\n",
      "/tmp/ipykernel_1486896/3271090702.py:71: ExperimentalWarning:\n",
      "\n",
      "upload_artifact is experimental (supported from v3.3.0). The interface can change in the future.\n",
      "\n",
      "[I 2024-07-01 01:19:12,735] Trial 213 finished with value: 0.36910756329898586 and parameters: {'lambda_l1': 6.104700499069908e-05, 'lambda_l2': 3.4159084165156346e-08, 'num_leaves': 278, 'feature_fraction': 0.4106628813543638, 'bagging_fraction': 0.9458226188124764, 'bagging_freq': 10, 'min_child_samples': 84}. Best is trial 149 with value: 0.38090314781964796.\n",
      "/tmp/ipykernel_1486896/3271090702.py:67: ExperimentalWarning:\n",
      "\n",
      "upload_artifact is experimental (supported from v3.3.0). The interface can change in the future.\n",
      "\n",
      "/tmp/ipykernel_1486896/3271090702.py:71: ExperimentalWarning:\n",
      "\n",
      "upload_artifact is experimental (supported from v3.3.0). The interface can change in the future.\n",
      "\n",
      "[I 2024-07-01 01:19:21,621] Trial 214 finished with value: 0.37318267549320217 and parameters: {'lambda_l1': 2.0394140538438385e-05, 'lambda_l2': 3.24730287267407e-06, 'num_leaves': 218, 'feature_fraction': 0.38939305160711657, 'bagging_fraction': 0.9986510221740684, 'bagging_freq': 10, 'min_child_samples': 29}. Best is trial 149 with value: 0.38090314781964796.\n",
      "/tmp/ipykernel_1486896/3271090702.py:67: ExperimentalWarning:\n",
      "\n",
      "upload_artifact is experimental (supported from v3.3.0). The interface can change in the future.\n",
      "\n",
      "/tmp/ipykernel_1486896/3271090702.py:71: ExperimentalWarning:\n",
      "\n",
      "upload_artifact is experimental (supported from v3.3.0). The interface can change in the future.\n",
      "\n",
      "[I 2024-07-01 01:19:27,355] Trial 215 finished with value: 0.3674691188375091 and parameters: {'lambda_l1': 1.1742836250907416e-05, 'lambda_l2': 1.5604850130653004e-08, 'num_leaves': 292, 'feature_fraction': 0.48032970657238167, 'bagging_fraction': 0.9188423626365648, 'bagging_freq': 9, 'min_child_samples': 72}. Best is trial 149 with value: 0.38090314781964796.\n",
      "/tmp/ipykernel_1486896/3271090702.py:67: ExperimentalWarning:\n",
      "\n",
      "upload_artifact is experimental (supported from v3.3.0). The interface can change in the future.\n",
      "\n",
      "/tmp/ipykernel_1486896/3271090702.py:71: ExperimentalWarning:\n",
      "\n",
      "upload_artifact is experimental (supported from v3.3.0). The interface can change in the future.\n",
      "\n",
      "[I 2024-07-01 01:19:35,853] Trial 216 finished with value: 0.3703782274015851 and parameters: {'lambda_l1': 0.00012664915382772825, 'lambda_l2': 5.136410563801584e-08, 'num_leaves': 252, 'feature_fraction': 0.45179926061355996, 'bagging_fraction': 0.977518756042412, 'bagging_freq': 10, 'min_child_samples': 36}. Best is trial 149 with value: 0.38090314781964796.\n",
      "/tmp/ipykernel_1486896/3271090702.py:67: ExperimentalWarning:\n",
      "\n",
      "upload_artifact is experimental (supported from v3.3.0). The interface can change in the future.\n",
      "\n",
      "/tmp/ipykernel_1486896/3271090702.py:71: ExperimentalWarning:\n",
      "\n",
      "upload_artifact is experimental (supported from v3.3.0). The interface can change in the future.\n",
      "\n",
      "[I 2024-07-01 01:19:45,245] Trial 217 finished with value: 0.36682088260300455 and parameters: {'lambda_l1': 0.002519511750131924, 'lambda_l2': 7.675000202651323e-08, 'num_leaves': 248, 'feature_fraction': 0.42952751392617783, 'bagging_fraction': 0.9633276053650491, 'bagging_freq': 9, 'min_child_samples': 31}. Best is trial 149 with value: 0.38090314781964796.\n",
      "/tmp/ipykernel_1486896/3271090702.py:67: ExperimentalWarning:\n",
      "\n",
      "upload_artifact is experimental (supported from v3.3.0). The interface can change in the future.\n",
      "\n",
      "/tmp/ipykernel_1486896/3271090702.py:71: ExperimentalWarning:\n",
      "\n",
      "upload_artifact is experimental (supported from v3.3.0). The interface can change in the future.\n",
      "\n",
      "[I 2024-07-01 01:19:51,682] Trial 218 finished with value: 0.3770420538376119 and parameters: {'lambda_l1': 4.862646106123584e-05, 'lambda_l2': 1.0320398954696744e-08, 'num_leaves': 274, 'feature_fraction': 0.4669587279591448, 'bagging_fraction': 0.9342846892555683, 'bagging_freq': 8, 'min_child_samples': 65}. Best is trial 149 with value: 0.38090314781964796.\n",
      "/tmp/ipykernel_1486896/3271090702.py:67: ExperimentalWarning:\n",
      "\n",
      "upload_artifact is experimental (supported from v3.3.0). The interface can change in the future.\n",
      "\n",
      "/tmp/ipykernel_1486896/3271090702.py:71: ExperimentalWarning:\n",
      "\n",
      "upload_artifact is experimental (supported from v3.3.0). The interface can change in the future.\n",
      "\n",
      "[I 2024-07-01 01:20:00,973] Trial 219 finished with value: 0.3785509405961562 and parameters: {'lambda_l1': 4.6815437497417476e-05, 'lambda_l2': 1.0725639766002598e-08, 'num_leaves': 272, 'feature_fraction': 0.3633863936191118, 'bagging_fraction': 0.9317200495480834, 'bagging_freq': 10, 'min_child_samples': 64}. Best is trial 149 with value: 0.38090314781964796.\n",
      "/tmp/ipykernel_1486896/3271090702.py:67: ExperimentalWarning:\n",
      "\n",
      "upload_artifact is experimental (supported from v3.3.0). The interface can change in the future.\n",
      "\n",
      "/tmp/ipykernel_1486896/3271090702.py:71: ExperimentalWarning:\n",
      "\n",
      "upload_artifact is experimental (supported from v3.3.0). The interface can change in the future.\n",
      "\n",
      "[I 2024-07-01 01:20:08,575] Trial 220 finished with value: 0.3645939607568275 and parameters: {'lambda_l1': 0.00036191033924161013, 'lambda_l2': 1.3919107905229714e-08, 'num_leaves': 271, 'feature_fraction': 0.3617052546119901, 'bagging_fraction': 0.9478331723903537, 'bagging_freq': 10, 'min_child_samples': 65}. Best is trial 149 with value: 0.38090314781964796.\n",
      "/tmp/ipykernel_1486896/3271090702.py:67: ExperimentalWarning:\n",
      "\n",
      "upload_artifact is experimental (supported from v3.3.0). The interface can change in the future.\n",
      "\n",
      "/tmp/ipykernel_1486896/3271090702.py:71: ExperimentalWarning:\n",
      "\n",
      "upload_artifact is experimental (supported from v3.3.0). The interface can change in the future.\n",
      "\n",
      "[I 2024-07-01 01:20:14,052] Trial 221 finished with value: 0.37070348552483734 and parameters: {'lambda_l1': 4.774521116156341e-05, 'lambda_l2': 1.8721765221767918e-08, 'num_leaves': 265, 'feature_fraction': 0.33418794743542923, 'bagging_fraction': 0.9265312982117014, 'bagging_freq': 10, 'min_child_samples': 67}. Best is trial 149 with value: 0.38090314781964796.\n",
      "/tmp/ipykernel_1486896/3271090702.py:67: ExperimentalWarning:\n",
      "\n",
      "upload_artifact is experimental (supported from v3.3.0). The interface can change in the future.\n",
      "\n",
      "/tmp/ipykernel_1486896/3271090702.py:71: ExperimentalWarning:\n",
      "\n",
      "upload_artifact is experimental (supported from v3.3.0). The interface can change in the future.\n",
      "\n",
      "[I 2024-07-01 01:20:22,397] Trial 222 finished with value: 0.3675725540054563 and parameters: {'lambda_l1': 8.097553369671194e-05, 'lambda_l2': 1.3971758184778044e-08, 'num_leaves': 276, 'feature_fraction': 0.3434395154264674, 'bagging_fraction': 0.9347107060489885, 'bagging_freq': 10, 'min_child_samples': 66}. Best is trial 149 with value: 0.38090314781964796.\n",
      "/tmp/ipykernel_1486896/3271090702.py:67: ExperimentalWarning:\n",
      "\n",
      "upload_artifact is experimental (supported from v3.3.0). The interface can change in the future.\n",
      "\n",
      "/tmp/ipykernel_1486896/3271090702.py:71: ExperimentalWarning:\n",
      "\n",
      "upload_artifact is experimental (supported from v3.3.0). The interface can change in the future.\n",
      "\n",
      "[I 2024-07-01 01:20:30,594] Trial 223 finished with value: 0.3710518476670517 and parameters: {'lambda_l1': 4.626010320983526e-05, 'lambda_l2': 2.1620649312717748e-08, 'num_leaves': 283, 'feature_fraction': 0.3759173887907021, 'bagging_fraction': 0.9567832202186609, 'bagging_freq': 10, 'min_child_samples': 62}. Best is trial 149 with value: 0.38090314781964796.\n",
      "/tmp/ipykernel_1486896/3271090702.py:67: ExperimentalWarning:\n",
      "\n",
      "upload_artifact is experimental (supported from v3.3.0). The interface can change in the future.\n",
      "\n",
      "/tmp/ipykernel_1486896/3271090702.py:71: ExperimentalWarning:\n",
      "\n",
      "upload_artifact is experimental (supported from v3.3.0). The interface can change in the future.\n",
      "\n",
      "[I 2024-07-01 01:20:36,397] Trial 224 finished with value: 0.36558767725846014 and parameters: {'lambda_l1': 0.0001805601008423274, 'lambda_l2': 1.036558044611316e-08, 'num_leaves': 275, 'feature_fraction': 0.46465733778559193, 'bagging_fraction': 0.9747924443784824, 'bagging_freq': 10, 'min_child_samples': 69}. Best is trial 149 with value: 0.38090314781964796.\n",
      "/tmp/ipykernel_1486896/3271090702.py:67: ExperimentalWarning:\n",
      "\n",
      "upload_artifact is experimental (supported from v3.3.0). The interface can change in the future.\n",
      "\n",
      "/tmp/ipykernel_1486896/3271090702.py:71: ExperimentalWarning:\n",
      "\n",
      "upload_artifact is experimental (supported from v3.3.0). The interface can change in the future.\n",
      "\n",
      "[I 2024-07-01 01:20:42,678] Trial 225 finished with value: 0.3710461084884923 and parameters: {'lambda_l1': 2.8168673064777027e-05, 'lambda_l2': 2.7800393542729466e-08, 'num_leaves': 80, 'feature_fraction': 0.3972997127899538, 'bagging_fraction': 0.9043694046569124, 'bagging_freq': 10, 'min_child_samples': 60}. Best is trial 149 with value: 0.38090314781964796.\n",
      "/tmp/ipykernel_1486896/3271090702.py:67: ExperimentalWarning:\n",
      "\n",
      "upload_artifact is experimental (supported from v3.3.0). The interface can change in the future.\n",
      "\n",
      "/tmp/ipykernel_1486896/3271090702.py:71: ExperimentalWarning:\n",
      "\n",
      "upload_artifact is experimental (supported from v3.3.0). The interface can change in the future.\n",
      "\n",
      "[I 2024-07-01 01:20:50,128] Trial 226 finished with value: 0.37541893861676645 and parameters: {'lambda_l1': 0.00010013392620595344, 'lambda_l2': 3.9945846111023e-08, 'num_leaves': 262, 'feature_fraction': 0.4457630347509959, 'bagging_fraction': 0.9297703657459597, 'bagging_freq': 9, 'min_child_samples': 64}. Best is trial 149 with value: 0.38090314781964796.\n",
      "/tmp/ipykernel_1486896/3271090702.py:67: ExperimentalWarning:\n",
      "\n",
      "upload_artifact is experimental (supported from v3.3.0). The interface can change in the future.\n",
      "\n",
      "/tmp/ipykernel_1486896/3271090702.py:71: ExperimentalWarning:\n",
      "\n",
      "upload_artifact is experimental (supported from v3.3.0). The interface can change in the future.\n",
      "\n",
      "[I 2024-07-01 01:20:55,585] Trial 227 finished with value: 0.37565833145581373 and parameters: {'lambda_l1': 0.00010585810960893867, 'lambda_l2': 3.907455989634984e-08, 'num_leaves': 263, 'feature_fraction': 0.4476871961767588, 'bagging_fraction': 0.915130801034866, 'bagging_freq': 9, 'min_child_samples': 64}. Best is trial 149 with value: 0.38090314781964796.\n",
      "/tmp/ipykernel_1486896/3271090702.py:67: ExperimentalWarning:\n",
      "\n",
      "upload_artifact is experimental (supported from v3.3.0). The interface can change in the future.\n",
      "\n",
      "/tmp/ipykernel_1486896/3271090702.py:71: ExperimentalWarning:\n",
      "\n",
      "upload_artifact is experimental (supported from v3.3.0). The interface can change in the future.\n",
      "\n",
      "[I 2024-07-01 01:21:01,703] Trial 228 finished with value: 0.37315227431802106 and parameters: {'lambda_l1': 0.00022430602527777376, 'lambda_l2': 5.417797326594908e-08, 'num_leaves': 265, 'feature_fraction': 0.4516667437050922, 'bagging_fraction': 0.9136118249896924, 'bagging_freq': 9, 'min_child_samples': 63}. Best is trial 149 with value: 0.38090314781964796.\n",
      "/tmp/ipykernel_1486896/3271090702.py:67: ExperimentalWarning:\n",
      "\n",
      "upload_artifact is experimental (supported from v3.3.0). The interface can change in the future.\n",
      "\n",
      "/tmp/ipykernel_1486896/3271090702.py:71: ExperimentalWarning:\n",
      "\n",
      "upload_artifact is experimental (supported from v3.3.0). The interface can change in the future.\n",
      "\n",
      "[I 2024-07-01 01:21:06,531] Trial 229 finished with value: 0.3627851250400165 and parameters: {'lambda_l1': 0.00011586238440988738, 'lambda_l2': 3.740696999273882e-08, 'num_leaves': 256, 'feature_fraction': 0.4909232450902367, 'bagging_fraction': 0.9255448590884457, 'bagging_freq': 9, 'min_child_samples': 65}. Best is trial 149 with value: 0.38090314781964796.\n",
      "/tmp/ipykernel_1486896/3271090702.py:67: ExperimentalWarning:\n",
      "\n",
      "upload_artifact is experimental (supported from v3.3.0). The interface can change in the future.\n",
      "\n",
      "/tmp/ipykernel_1486896/3271090702.py:71: ExperimentalWarning:\n",
      "\n",
      "upload_artifact is experimental (supported from v3.3.0). The interface can change in the future.\n",
      "\n",
      "[I 2024-07-01 01:21:12,370] Trial 230 finished with value: 0.3611604112019602 and parameters: {'lambda_l1': 2.4667975269030754e-07, 'lambda_l2': 8.177273294751597e-08, 'num_leaves': 259, 'feature_fraction': 0.47195775222859565, 'bagging_fraction': 0.9131667001095012, 'bagging_freq': 9, 'min_child_samples': 64}. Best is trial 149 with value: 0.38090314781964796.\n",
      "/tmp/ipykernel_1486896/3271090702.py:67: ExperimentalWarning:\n",
      "\n",
      "upload_artifact is experimental (supported from v3.3.0). The interface can change in the future.\n",
      "\n",
      "/tmp/ipykernel_1486896/3271090702.py:71: ExperimentalWarning:\n",
      "\n",
      "upload_artifact is experimental (supported from v3.3.0). The interface can change in the future.\n",
      "\n",
      "[I 2024-07-01 01:21:18,208] Trial 231 finished with value: 0.36949409305805436 and parameters: {'lambda_l1': 8.012582695474483e-05, 'lambda_l2': 1.0758748999204433e-08, 'num_leaves': 270, 'feature_fraction': 0.44311079205495124, 'bagging_fraction': 0.9417229780103058, 'bagging_freq': 9, 'min_child_samples': 62}. Best is trial 149 with value: 0.38090314781964796.\n",
      "/tmp/ipykernel_1486896/3271090702.py:67: ExperimentalWarning:\n",
      "\n",
      "upload_artifact is experimental (supported from v3.3.0). The interface can change in the future.\n",
      "\n",
      "/tmp/ipykernel_1486896/3271090702.py:71: ExperimentalWarning:\n",
      "\n",
      "upload_artifact is experimental (supported from v3.3.0). The interface can change in the future.\n",
      "\n",
      "[I 2024-07-01 01:21:24,301] Trial 232 finished with value: 0.36678510115974383 and parameters: {'lambda_l1': 0.00011921719607360937, 'lambda_l2': 2.6667625938766232e-08, 'num_leaves': 53, 'feature_fraction': 0.4601709244534969, 'bagging_fraction': 0.9598706002137467, 'bagging_freq': 9, 'min_child_samples': 68}. Best is trial 149 with value: 0.38090314781964796.\n",
      "/tmp/ipykernel_1486896/3271090702.py:67: ExperimentalWarning:\n",
      "\n",
      "upload_artifact is experimental (supported from v3.3.0). The interface can change in the future.\n",
      "\n",
      "/tmp/ipykernel_1486896/3271090702.py:71: ExperimentalWarning:\n",
      "\n",
      "upload_artifact is experimental (supported from v3.3.0). The interface can change in the future.\n",
      "\n",
      "[I 2024-07-01 01:21:32,001] Trial 233 finished with value: 0.3688225536736323 and parameters: {'lambda_l1': 5.8281059994413625e-05, 'lambda_l2': 0.3380545769599293, 'num_leaves': 272, 'feature_fraction': 0.4217149360831374, 'bagging_fraction': 0.9839121038707863, 'bagging_freq': 9, 'min_child_samples': 66}. Best is trial 149 with value: 0.38090314781964796.\n",
      "/tmp/ipykernel_1486896/3271090702.py:67: ExperimentalWarning:\n",
      "\n",
      "upload_artifact is experimental (supported from v3.3.0). The interface can change in the future.\n",
      "\n",
      "/tmp/ipykernel_1486896/3271090702.py:71: ExperimentalWarning:\n",
      "\n",
      "upload_artifact is experimental (supported from v3.3.0). The interface can change in the future.\n",
      "\n",
      "[I 2024-07-01 01:21:35,936] Trial 234 finished with value: 0.3647426025168109 and parameters: {'lambda_l1': 3.969958277410128e-08, 'lambda_l2': 2.0970044374766063e-05, 'num_leaves': 34, 'feature_fraction': 0.3560397917369716, 'bagging_fraction': 0.9292663686399226, 'bagging_freq': 8, 'min_child_samples': 59}. Best is trial 149 with value: 0.38090314781964796.\n",
      "/tmp/ipykernel_1486896/3271090702.py:67: ExperimentalWarning:\n",
      "\n",
      "upload_artifact is experimental (supported from v3.3.0). The interface can change in the future.\n",
      "\n",
      "/tmp/ipykernel_1486896/3271090702.py:71: ExperimentalWarning:\n",
      "\n",
      "upload_artifact is experimental (supported from v3.3.0). The interface can change in the future.\n",
      "\n",
      "[I 2024-07-01 01:21:43,824] Trial 235 finished with value: 0.3663338511237126 and parameters: {'lambda_l1': 7.961741030045696e-05, 'lambda_l2': 4.886998872901004e-08, 'num_leaves': 260, 'feature_fraction': 0.44739339033772224, 'bagging_fraction': 0.9677012874724007, 'bagging_freq': 9, 'min_child_samples': 64}. Best is trial 149 with value: 0.38090314781964796.\n",
      "/tmp/ipykernel_1486896/3271090702.py:67: ExperimentalWarning:\n",
      "\n",
      "upload_artifact is experimental (supported from v3.3.0). The interface can change in the future.\n",
      "\n",
      "/tmp/ipykernel_1486896/3271090702.py:71: ExperimentalWarning:\n",
      "\n",
      "upload_artifact is experimental (supported from v3.3.0). The interface can change in the future.\n",
      "\n",
      "[I 2024-07-01 01:21:47,880] Trial 236 finished with value: 0.3584776109909974 and parameters: {'lambda_l1': 0.0001722810329819284, 'lambda_l2': 1.0060133116369097e-05, 'num_leaves': 17, 'feature_fraction': 0.43264143820997414, 'bagging_fraction': 0.8844033558806007, 'bagging_freq': 8, 'min_child_samples': 58}. Best is trial 149 with value: 0.38090314781964796.\n",
      "/tmp/ipykernel_1486896/3271090702.py:67: ExperimentalWarning:\n",
      "\n",
      "upload_artifact is experimental (supported from v3.3.0). The interface can change in the future.\n",
      "\n",
      "/tmp/ipykernel_1486896/3271090702.py:71: ExperimentalWarning:\n",
      "\n",
      "upload_artifact is experimental (supported from v3.3.0). The interface can change in the future.\n",
      "\n",
      "[I 2024-07-01 01:21:56,713] Trial 237 finished with value: 0.37402652974426803 and parameters: {'lambda_l1': 0.00040487228355648344, 'lambda_l2': 0.009641773876094089, 'num_leaves': 208, 'feature_fraction': 0.32175987363454306, 'bagging_fraction': 0.9481094394458338, 'bagging_freq': 9, 'min_child_samples': 61}. Best is trial 149 with value: 0.38090314781964796.\n",
      "/tmp/ipykernel_1486896/3271090702.py:67: ExperimentalWarning:\n",
      "\n",
      "upload_artifact is experimental (supported from v3.3.0). The interface can change in the future.\n",
      "\n",
      "/tmp/ipykernel_1486896/3271090702.py:71: ExperimentalWarning:\n",
      "\n",
      "upload_artifact is experimental (supported from v3.3.0). The interface can change in the future.\n",
      "\n",
      "[I 2024-07-01 01:22:05,087] Trial 238 finished with value: 0.37538449247428174 and parameters: {'lambda_l1': 0.0007285308741744032, 'lambda_l2': 0.09778589180626575, 'num_leaves': 209, 'feature_fraction': 0.33281662466848355, 'bagging_fraction': 0.9467277428874872, 'bagging_freq': 9, 'min_child_samples': 62}. Best is trial 149 with value: 0.38090314781964796.\n",
      "/tmp/ipykernel_1486896/3271090702.py:67: ExperimentalWarning:\n",
      "\n",
      "upload_artifact is experimental (supported from v3.3.0). The interface can change in the future.\n",
      "\n",
      "/tmp/ipykernel_1486896/3271090702.py:71: ExperimentalWarning:\n",
      "\n",
      "upload_artifact is experimental (supported from v3.3.0). The interface can change in the future.\n",
      "\n",
      "[I 2024-07-01 01:22:13,270] Trial 239 finished with value: 0.37671992397754384 and parameters: {'lambda_l1': 0.0005717386313385642, 'lambda_l2': 0.18798520035989374, 'num_leaves': 205, 'feature_fraction': 0.3245922402693315, 'bagging_fraction': 0.9504546352021384, 'bagging_freq': 9, 'min_child_samples': 60}. Best is trial 149 with value: 0.38090314781964796.\n",
      "/tmp/ipykernel_1486896/3271090702.py:67: ExperimentalWarning:\n",
      "\n",
      "upload_artifact is experimental (supported from v3.3.0). The interface can change in the future.\n",
      "\n",
      "/tmp/ipykernel_1486896/3271090702.py:71: ExperimentalWarning:\n",
      "\n",
      "upload_artifact is experimental (supported from v3.3.0). The interface can change in the future.\n",
      "\n",
      "[I 2024-07-01 01:22:20,014] Trial 240 finished with value: 0.36968124793291224 and parameters: {'lambda_l1': 0.000669706429528921, 'lambda_l2': 0.33272821735687447, 'num_leaves': 199, 'feature_fraction': 0.3013870436430304, 'bagging_fraction': 0.9541135745625782, 'bagging_freq': 9, 'min_child_samples': 60}. Best is trial 149 with value: 0.38090314781964796.\n",
      "/tmp/ipykernel_1486896/3271090702.py:67: ExperimentalWarning:\n",
      "\n",
      "upload_artifact is experimental (supported from v3.3.0). The interface can change in the future.\n",
      "\n",
      "/tmp/ipykernel_1486896/3271090702.py:71: ExperimentalWarning:\n",
      "\n",
      "upload_artifact is experimental (supported from v3.3.0). The interface can change in the future.\n",
      "\n",
      "[I 2024-07-01 01:22:27,558] Trial 241 finished with value: 0.3676731616316671 and parameters: {'lambda_l1': 0.0011131371311995807, 'lambda_l2': 0.1121771111823548, 'num_leaves': 207, 'feature_fraction': 0.3248270985376342, 'bagging_fraction': 0.9452330752929227, 'bagging_freq': 9, 'min_child_samples': 61}. Best is trial 149 with value: 0.38090314781964796.\n",
      "/tmp/ipykernel_1486896/3271090702.py:67: ExperimentalWarning:\n",
      "\n",
      "upload_artifact is experimental (supported from v3.3.0). The interface can change in the future.\n",
      "\n",
      "/tmp/ipykernel_1486896/3271090702.py:71: ExperimentalWarning:\n",
      "\n",
      "upload_artifact is experimental (supported from v3.3.0). The interface can change in the future.\n",
      "\n",
      "[I 2024-07-01 01:22:32,712] Trial 242 finished with value: 0.369137722205402 and parameters: {'lambda_l1': 0.0005027706872319118, 'lambda_l2': 0.03794588239205613, 'num_leaves': 207, 'feature_fraction': 0.313858224439301, 'bagging_fraction': 0.9495821939845258, 'bagging_freq': 9, 'min_child_samples': 63}. Best is trial 149 with value: 0.38090314781964796.\n",
      "/tmp/ipykernel_1486896/3271090702.py:67: ExperimentalWarning:\n",
      "\n",
      "upload_artifact is experimental (supported from v3.3.0). The interface can change in the future.\n",
      "\n",
      "/tmp/ipykernel_1486896/3271090702.py:71: ExperimentalWarning:\n",
      "\n",
      "upload_artifact is experimental (supported from v3.3.0). The interface can change in the future.\n",
      "\n",
      "[I 2024-07-01 01:22:38,628] Trial 243 finished with value: 0.36673859877186055 and parameters: {'lambda_l1': 0.0003608138838627019, 'lambda_l2': 0.1719338853217466, 'num_leaves': 190, 'feature_fraction': 0.32680003030891214, 'bagging_fraction': 0.9061048597956809, 'bagging_freq': 9, 'min_child_samples': 61}. Best is trial 149 with value: 0.38090314781964796.\n",
      "/tmp/ipykernel_1486896/3271090702.py:67: ExperimentalWarning:\n",
      "\n",
      "upload_artifact is experimental (supported from v3.3.0). The interface can change in the future.\n",
      "\n",
      "/tmp/ipykernel_1486896/3271090702.py:71: ExperimentalWarning:\n",
      "\n",
      "upload_artifact is experimental (supported from v3.3.0). The interface can change in the future.\n",
      "\n",
      "[I 2024-07-01 01:22:43,191] Trial 244 finished with value: 0.34929162059312807 and parameters: {'lambda_l1': 0.0006050591419967181, 'lambda_l2': 0.01390615523105836, 'num_leaves': 200, 'feature_fraction': 0.34713681431358884, 'bagging_fraction': 0.4186208303680323, 'bagging_freq': 9, 'min_child_samples': 57}. Best is trial 149 with value: 0.38090314781964796.\n",
      "/tmp/ipykernel_1486896/3271090702.py:67: ExperimentalWarning:\n",
      "\n",
      "upload_artifact is experimental (supported from v3.3.0). The interface can change in the future.\n",
      "\n",
      "/tmp/ipykernel_1486896/3271090702.py:71: ExperimentalWarning:\n",
      "\n",
      "upload_artifact is experimental (supported from v3.3.0). The interface can change in the future.\n",
      "\n",
      "[I 2024-07-01 01:22:51,026] Trial 245 finished with value: 0.37146599750207 and parameters: {'lambda_l1': 0.0009453131291151193, 'lambda_l2': 0.007374934929751636, 'num_leaves': 213, 'feature_fraction': 0.3247762806773656, 'bagging_fraction': 0.9381650391443016, 'bagging_freq': 9, 'min_child_samples': 63}. Best is trial 149 with value: 0.38090314781964796.\n",
      "/tmp/ipykernel_1486896/3271090702.py:67: ExperimentalWarning:\n",
      "\n",
      "upload_artifact is experimental (supported from v3.3.0). The interface can change in the future.\n",
      "\n",
      "/tmp/ipykernel_1486896/3271090702.py:71: ExperimentalWarning:\n",
      "\n",
      "upload_artifact is experimental (supported from v3.3.0). The interface can change in the future.\n",
      "\n",
      "[I 2024-07-01 01:22:58,913] Trial 246 finished with value: 0.3729840003235892 and parameters: {'lambda_l1': 0.0003951054291810117, 'lambda_l2': 0.1355712616919457, 'num_leaves': 203, 'feature_fraction': 0.337681870816401, 'bagging_fraction': 0.9990298923197962, 'bagging_freq': 9, 'min_child_samples': 59}. Best is trial 149 with value: 0.38090314781964796.\n",
      "/tmp/ipykernel_1486896/3271090702.py:67: ExperimentalWarning:\n",
      "\n",
      "upload_artifact is experimental (supported from v3.3.0). The interface can change in the future.\n",
      "\n",
      "/tmp/ipykernel_1486896/3271090702.py:71: ExperimentalWarning:\n",
      "\n",
      "upload_artifact is experimental (supported from v3.3.0). The interface can change in the future.\n",
      "\n",
      "[I 2024-07-01 01:23:05,659] Trial 247 finished with value: 0.3738980450187755 and parameters: {'lambda_l1': 0.0007735725521856053, 'lambda_l2': 0.646860980002224, 'num_leaves': 209, 'feature_fraction': 0.36430803998692035, 'bagging_fraction': 0.9193976088934144, 'bagging_freq': 9, 'min_child_samples': 61}. Best is trial 149 with value: 0.38090314781964796.\n",
      "/tmp/ipykernel_1486896/3271090702.py:67: ExperimentalWarning:\n",
      "\n",
      "upload_artifact is experimental (supported from v3.3.0). The interface can change in the future.\n",
      "\n",
      "/tmp/ipykernel_1486896/3271090702.py:71: ExperimentalWarning:\n",
      "\n",
      "upload_artifact is experimental (supported from v3.3.0). The interface can change in the future.\n",
      "\n",
      "[I 2024-07-01 01:23:13,131] Trial 248 finished with value: 0.37437301346285334 and parameters: {'lambda_l1': 0.00025921661558601336, 'lambda_l2': 0.23964974983627896, 'num_leaves': 185, 'feature_fraction': 0.3182296454353949, 'bagging_fraction': 0.9605673020837897, 'bagging_freq': 9, 'min_child_samples': 65}. Best is trial 149 with value: 0.38090314781964796.\n",
      "/tmp/ipykernel_1486896/3271090702.py:67: ExperimentalWarning:\n",
      "\n",
      "upload_artifact is experimental (supported from v3.3.0). The interface can change in the future.\n",
      "\n",
      "/tmp/ipykernel_1486896/3271090702.py:71: ExperimentalWarning:\n",
      "\n",
      "upload_artifact is experimental (supported from v3.3.0). The interface can change in the future.\n",
      "\n",
      "[I 2024-07-01 01:23:20,324] Trial 249 finished with value: 0.3727635297772518 and parameters: {'lambda_l1': 0.0018176542840676584, 'lambda_l2': 0.08298839532408873, 'num_leaves': 190, 'feature_fraction': 0.31326609402063205, 'bagging_fraction': 0.9817103320441818, 'bagging_freq': 9, 'min_child_samples': 65}. Best is trial 149 with value: 0.38090314781964796.\n",
      "/tmp/ipykernel_1486896/3271090702.py:67: ExperimentalWarning:\n",
      "\n",
      "upload_artifact is experimental (supported from v3.3.0). The interface can change in the future.\n",
      "\n",
      "/tmp/ipykernel_1486896/3271090702.py:71: ExperimentalWarning:\n",
      "\n",
      "upload_artifact is experimental (supported from v3.3.0). The interface can change in the future.\n",
      "\n",
      "[I 2024-07-01 01:23:29,458] Trial 250 finished with value: 0.36346279522950053 and parameters: {'lambda_l1': 0.00027213560276785826, 'lambda_l2': 0.30162633223771895, 'num_leaves': 194, 'feature_fraction': 0.3625449373700715, 'bagging_fraction': 0.962249032629162, 'bagging_freq': 9, 'min_child_samples': 66}. Best is trial 149 with value: 0.38090314781964796.\n",
      "/tmp/ipykernel_1486896/3271090702.py:67: ExperimentalWarning:\n",
      "\n",
      "upload_artifact is experimental (supported from v3.3.0). The interface can change in the future.\n",
      "\n",
      "/tmp/ipykernel_1486896/3271090702.py:71: ExperimentalWarning:\n",
      "\n",
      "upload_artifact is experimental (supported from v3.3.0). The interface can change in the future.\n",
      "\n",
      "[I 2024-07-01 01:23:36,131] Trial 251 finished with value: 0.3712976447891776 and parameters: {'lambda_l1': 0.00021718966566611347, 'lambda_l2': 0.06085800014543301, 'num_leaves': 198, 'feature_fraction': 0.34794210862469066, 'bagging_fraction': 0.9754033943480588, 'bagging_freq': 9, 'min_child_samples': 63}. Best is trial 149 with value: 0.38090314781964796.\n",
      "/tmp/ipykernel_1486896/3271090702.py:67: ExperimentalWarning:\n",
      "\n",
      "upload_artifact is experimental (supported from v3.3.0). The interface can change in the future.\n",
      "\n",
      "/tmp/ipykernel_1486896/3271090702.py:71: ExperimentalWarning:\n",
      "\n",
      "upload_artifact is experimental (supported from v3.3.0). The interface can change in the future.\n",
      "\n",
      "[I 2024-07-01 01:23:45,147] Trial 252 finished with value: 0.37177812424318357 and parameters: {'lambda_l1': 0.0013520032007161246, 'lambda_l2': 0.29320206180789843, 'num_leaves': 179, 'feature_fraction': 0.3830277926863452, 'bagging_fraction': 0.9303799560258479, 'bagging_freq': 9, 'min_child_samples': 29}. Best is trial 149 with value: 0.38090314781964796.\n",
      "/tmp/ipykernel_1486896/3271090702.py:67: ExperimentalWarning:\n",
      "\n",
      "upload_artifact is experimental (supported from v3.3.0). The interface can change in the future.\n",
      "\n",
      "/tmp/ipykernel_1486896/3271090702.py:71: ExperimentalWarning:\n",
      "\n",
      "upload_artifact is experimental (supported from v3.3.0). The interface can change in the future.\n",
      "\n",
      "[I 2024-07-01 01:23:52,462] Trial 253 finished with value: 0.36796983376586523 and parameters: {'lambda_l1': 0.0001360179729747901, 'lambda_l2': 0.44768824781560307, 'num_leaves': 270, 'feature_fraction': 0.33201394636466564, 'bagging_fraction': 0.8946446063571537, 'bagging_freq': 9, 'min_child_samples': 57}. Best is trial 149 with value: 0.38090314781964796.\n",
      "/tmp/ipykernel_1486896/3271090702.py:67: ExperimentalWarning:\n",
      "\n",
      "upload_artifact is experimental (supported from v3.3.0). The interface can change in the future.\n",
      "\n",
      "/tmp/ipykernel_1486896/3271090702.py:71: ExperimentalWarning:\n",
      "\n",
      "upload_artifact is experimental (supported from v3.3.0). The interface can change in the future.\n",
      "\n",
      "[I 2024-07-01 01:23:58,610] Trial 254 finished with value: 0.36948180082572 and parameters: {'lambda_l1': 1.0474461981004e-06, 'lambda_l2': 1.75680592094389, 'num_leaves': 265, 'feature_fraction': 0.3492017165415037, 'bagging_fraction': 0.960640272388728, 'bagging_freq': 9, 'min_child_samples': 65}. Best is trial 149 with value: 0.38090314781964796.\n",
      "/tmp/ipykernel_1486896/3271090702.py:67: ExperimentalWarning:\n",
      "\n",
      "upload_artifact is experimental (supported from v3.3.0). The interface can change in the future.\n",
      "\n",
      "/tmp/ipykernel_1486896/3271090702.py:71: ExperimentalWarning:\n",
      "\n",
      "upload_artifact is experimental (supported from v3.3.0). The interface can change in the future.\n",
      "\n",
      "[I 2024-07-01 01:24:07,999] Trial 255 finished with value: 0.3680590624157786 and parameters: {'lambda_l1': 0.0002506978787943309, 'lambda_l2': 0.181327158751153, 'num_leaves': 187, 'feature_fraction': 0.30026276271679264, 'bagging_fraction': 0.987792995341073, 'bagging_freq': 9, 'min_child_samples': 27}. Best is trial 149 with value: 0.38090314781964796.\n",
      "/tmp/ipykernel_1486896/3271090702.py:67: ExperimentalWarning:\n",
      "\n",
      "upload_artifact is experimental (supported from v3.3.0). The interface can change in the future.\n",
      "\n",
      "/tmp/ipykernel_1486896/3271090702.py:71: ExperimentalWarning:\n",
      "\n",
      "upload_artifact is experimental (supported from v3.3.0). The interface can change in the future.\n",
      "\n",
      "[I 2024-07-01 01:24:16,574] Trial 256 finished with value: 0.3643055833880276 and parameters: {'lambda_l1': 2.169528422309585e-05, 'lambda_l2': 0.23649840408927408, 'num_leaves': 221, 'feature_fraction': 0.37252082701619427, 'bagging_fraction': 0.9463142323193048, 'bagging_freq': 9, 'min_child_samples': 32}. Best is trial 149 with value: 0.38090314781964796.\n",
      "/tmp/ipykernel_1486896/3271090702.py:67: ExperimentalWarning:\n",
      "\n",
      "upload_artifact is experimental (supported from v3.3.0). The interface can change in the future.\n",
      "\n",
      "/tmp/ipykernel_1486896/3271090702.py:71: ExperimentalWarning:\n",
      "\n",
      "upload_artifact is experimental (supported from v3.3.0). The interface can change in the future.\n",
      "\n",
      "[I 2024-07-01 01:24:23,952] Trial 257 finished with value: 0.3706788265692138 and parameters: {'lambda_l1': 3.894356718964177e-05, 'lambda_l2': 0.6950781858914395, 'num_leaves': 59, 'feature_fraction': 0.41208449727450314, 'bagging_fraction': 0.9705191952666417, 'bagging_freq': 10, 'min_child_samples': 67}. Best is trial 149 with value: 0.38090314781964796.\n",
      "/tmp/ipykernel_1486896/3271090702.py:67: ExperimentalWarning:\n",
      "\n",
      "upload_artifact is experimental (supported from v3.3.0). The interface can change in the future.\n",
      "\n",
      "/tmp/ipykernel_1486896/3271090702.py:71: ExperimentalWarning:\n",
      "\n",
      "upload_artifact is experimental (supported from v3.3.0). The interface can change in the future.\n",
      "\n",
      "[I 2024-07-01 01:24:30,491] Trial 258 finished with value: 0.3697808313391481 and parameters: {'lambda_l1': 0.0006234720244524372, 'lambda_l2': 1.0842251032507582, 'num_leaves': 278, 'feature_fraction': 0.4578342208168633, 'bagging_fraction': 0.9172578093721371, 'bagging_freq': 9, 'min_child_samples': 63}. Best is trial 149 with value: 0.38090314781964796.\n",
      "/tmp/ipykernel_1486896/3271090702.py:67: ExperimentalWarning:\n",
      "\n",
      "upload_artifact is experimental (supported from v3.3.0). The interface can change in the future.\n",
      "\n",
      "/tmp/ipykernel_1486896/3271090702.py:71: ExperimentalWarning:\n",
      "\n",
      "upload_artifact is experimental (supported from v3.3.0). The interface can change in the future.\n",
      "\n",
      "[I 2024-07-01 01:24:36,512] Trial 259 finished with value: 0.37143647189061685 and parameters: {'lambda_l1': 9.727128769696575e-06, 'lambda_l2': 3.5118827443782425e-08, 'num_leaves': 71, 'feature_fraction': 0.4426466114933562, 'bagging_fraction': 0.9335708042558096, 'bagging_freq': 10, 'min_child_samples': 59}. Best is trial 149 with value: 0.38090314781964796.\n",
      "/tmp/ipykernel_1486896/3271090702.py:67: ExperimentalWarning:\n",
      "\n",
      "upload_artifact is experimental (supported from v3.3.0). The interface can change in the future.\n",
      "\n",
      "/tmp/ipykernel_1486896/3271090702.py:71: ExperimentalWarning:\n",
      "\n",
      "upload_artifact is experimental (supported from v3.3.0). The interface can change in the future.\n",
      "\n",
      "[I 2024-07-01 01:24:45,909] Trial 260 finished with value: 0.3693478295016298 and parameters: {'lambda_l1': 7.99347795929168e-07, 'lambda_l2': 1.2709135646147348e-07, 'num_leaves': 215, 'feature_fraction': 0.42193692259881854, 'bagging_fraction': 0.9855274691965699, 'bagging_freq': 3, 'min_child_samples': 21}. Best is trial 149 with value: 0.38090314781964796.\n",
      "/tmp/ipykernel_1486896/3271090702.py:67: ExperimentalWarning:\n",
      "\n",
      "upload_artifact is experimental (supported from v3.3.0). The interface can change in the future.\n",
      "\n",
      "/tmp/ipykernel_1486896/3271090702.py:71: ExperimentalWarning:\n",
      "\n",
      "upload_artifact is experimental (supported from v3.3.0). The interface can change in the future.\n",
      "\n",
      "[I 2024-07-01 01:24:54,836] Trial 261 finished with value: 0.37665047964400533 and parameters: {'lambda_l1': 6.652836758887462e-05, 'lambda_l2': 2.0961265328194678e-08, 'num_leaves': 261, 'feature_fraction': 0.33665463209756635, 'bagging_fraction': 0.9549741266897471, 'bagging_freq': 9, 'min_child_samples': 34}. Best is trial 149 with value: 0.38090314781964796.\n",
      "/tmp/ipykernel_1486896/3271090702.py:67: ExperimentalWarning:\n",
      "\n",
      "upload_artifact is experimental (supported from v3.3.0). The interface can change in the future.\n",
      "\n",
      "/tmp/ipykernel_1486896/3271090702.py:71: ExperimentalWarning:\n",
      "\n",
      "upload_artifact is experimental (supported from v3.3.0). The interface can change in the future.\n",
      "\n",
      "[I 2024-07-01 01:25:02,356] Trial 262 finished with value: 0.3693003249992032 and parameters: {'lambda_l1': 6.218805013363247e-05, 'lambda_l2': 6.17555395673511e-08, 'num_leaves': 261, 'feature_fraction': 0.33650519227078896, 'bagging_fraction': 0.954434321237196, 'bagging_freq': 9, 'min_child_samples': 53}. Best is trial 149 with value: 0.38090314781964796.\n",
      "/tmp/ipykernel_1486896/3271090702.py:67: ExperimentalWarning:\n",
      "\n",
      "upload_artifact is experimental (supported from v3.3.0). The interface can change in the future.\n",
      "\n",
      "/tmp/ipykernel_1486896/3271090702.py:71: ExperimentalWarning:\n",
      "\n",
      "upload_artifact is experimental (supported from v3.3.0). The interface can change in the future.\n",
      "\n",
      "[I 2024-07-01 01:25:09,655] Trial 263 finished with value: 0.37314469435313824 and parameters: {'lambda_l1': 3.2949123812041395e-05, 'lambda_l2': 2.488426271928211e-08, 'num_leaves': 256, 'feature_fraction': 0.32406933921092806, 'bagging_fraction': 0.9018860540584048, 'bagging_freq': 9, 'min_child_samples': 64}. Best is trial 149 with value: 0.38090314781964796.\n",
      "/tmp/ipykernel_1486896/3271090702.py:67: ExperimentalWarning:\n",
      "\n",
      "upload_artifact is experimental (supported from v3.3.0). The interface can change in the future.\n",
      "\n",
      "/tmp/ipykernel_1486896/3271090702.py:71: ExperimentalWarning:\n",
      "\n",
      "upload_artifact is experimental (supported from v3.3.0). The interface can change in the future.\n",
      "\n",
      "[I 2024-07-01 01:25:18,283] Trial 264 finished with value: 0.3668756107346567 and parameters: {'lambda_l1': 2.1817392034907926e-05, 'lambda_l2': 2.0297250210999138e-07, 'num_leaves': 267, 'feature_fraction': 0.3614269687065074, 'bagging_fraction': 0.8688098461617693, 'bagging_freq': 9, 'min_child_samples': 34}. Best is trial 149 with value: 0.38090314781964796.\n",
      "/tmp/ipykernel_1486896/3271090702.py:67: ExperimentalWarning:\n",
      "\n",
      "upload_artifact is experimental (supported from v3.3.0). The interface can change in the future.\n",
      "\n",
      "/tmp/ipykernel_1486896/3271090702.py:71: ExperimentalWarning:\n",
      "\n",
      "upload_artifact is experimental (supported from v3.3.0). The interface can change in the future.\n",
      "\n",
      "[I 2024-07-01 01:25:22,411] Trial 265 finished with value: 0.3652936412498902 and parameters: {'lambda_l1': 4.763242031137929e-05, 'lambda_l2': 3.8714339802428415e-08, 'num_leaves': 50, 'feature_fraction': 0.3525134598559089, 'bagging_fraction': 0.9391408175692674, 'bagging_freq': 9, 'min_child_samples': 30}. Best is trial 149 with value: 0.38090314781964796.\n",
      "/tmp/ipykernel_1486896/3271090702.py:67: ExperimentalWarning:\n",
      "\n",
      "upload_artifact is experimental (supported from v3.3.0). The interface can change in the future.\n",
      "\n",
      "/tmp/ipykernel_1486896/3271090702.py:71: ExperimentalWarning:\n",
      "\n",
      "upload_artifact is experimental (supported from v3.3.0). The interface can change in the future.\n",
      "\n",
      "[I 2024-07-01 01:25:29,728] Trial 266 finished with value: 0.37189783626654116 and parameters: {'lambda_l1': 0.00047049326924775267, 'lambda_l2': 9.164051369439642e-08, 'num_leaves': 244, 'feature_fraction': 0.33623831061400156, 'bagging_fraction': 0.9220635514182767, 'bagging_freq': 9, 'min_child_samples': 68}. Best is trial 149 with value: 0.38090314781964796.\n",
      "/tmp/ipykernel_1486896/3271090702.py:67: ExperimentalWarning:\n",
      "\n",
      "upload_artifact is experimental (supported from v3.3.0). The interface can change in the future.\n",
      "\n",
      "/tmp/ipykernel_1486896/3271090702.py:71: ExperimentalWarning:\n",
      "\n",
      "upload_artifact is experimental (supported from v3.3.0). The interface can change in the future.\n",
      "\n",
      "[I 2024-07-01 01:25:36,464] Trial 267 finished with value: 0.3694373583226857 and parameters: {'lambda_l1': 1.612456849043798e-05, 'lambda_l2': 2.0967274061415245e-08, 'num_leaves': 183, 'feature_fraction': 0.31331699067478946, 'bagging_fraction': 0.9587254985170995, 'bagging_freq': 9, 'min_child_samples': 56}. Best is trial 149 with value: 0.38090314781964796.\n",
      "/tmp/ipykernel_1486896/3271090702.py:67: ExperimentalWarning:\n",
      "\n",
      "upload_artifact is experimental (supported from v3.3.0). The interface can change in the future.\n",
      "\n",
      "/tmp/ipykernel_1486896/3271090702.py:71: ExperimentalWarning:\n",
      "\n",
      "upload_artifact is experimental (supported from v3.3.0). The interface can change in the future.\n",
      "\n",
      "[I 2024-07-01 01:25:44,165] Trial 268 finished with value: 0.3698298345141427 and parameters: {'lambda_l1': 3.9364091504704686e-07, 'lambda_l2': 0.1251414930657291, 'num_leaves': 263, 'feature_fraction': 0.3994881670758994, 'bagging_fraction': 0.9425859477526681, 'bagging_freq': 9, 'min_child_samples': 60}. Best is trial 149 with value: 0.38090314781964796.\n",
      "/tmp/ipykernel_1486896/3271090702.py:67: ExperimentalWarning:\n",
      "\n",
      "upload_artifact is experimental (supported from v3.3.0). The interface can change in the future.\n",
      "\n",
      "/tmp/ipykernel_1486896/3271090702.py:71: ExperimentalWarning:\n",
      "\n",
      "upload_artifact is experimental (supported from v3.3.0). The interface can change in the future.\n",
      "\n",
      "[I 2024-07-01 01:25:49,971] Trial 269 finished with value: 0.3727683065690739 and parameters: {'lambda_l1': 4.679436327601404e-06, 'lambda_l2': 4.5854207609320156e-08, 'num_leaves': 45, 'feature_fraction': 0.3736580570975056, 'bagging_fraction': 0.9673671353194863, 'bagging_freq': 9, 'min_child_samples': 62}. Best is trial 149 with value: 0.38090314781964796.\n",
      "/tmp/ipykernel_1486896/3271090702.py:67: ExperimentalWarning:\n",
      "\n",
      "upload_artifact is experimental (supported from v3.3.0). The interface can change in the future.\n",
      "\n",
      "/tmp/ipykernel_1486896/3271090702.py:71: ExperimentalWarning:\n",
      "\n",
      "upload_artifact is experimental (supported from v3.3.0). The interface can change in the future.\n",
      "\n",
      "[I 2024-07-01 01:25:55,745] Trial 270 finished with value: 0.36603564169747566 and parameters: {'lambda_l1': 0.0003073063023759138, 'lambda_l2': 0.9508639513887164, 'num_leaves': 64, 'feature_fraction': 0.39095598075625104, 'bagging_fraction': 0.9102681357018599, 'bagging_freq': 2, 'min_child_samples': 25}. Best is trial 149 with value: 0.38090314781964796.\n",
      "/tmp/ipykernel_1486896/3271090702.py:67: ExperimentalWarning:\n",
      "\n",
      "upload_artifact is experimental (supported from v3.3.0). The interface can change in the future.\n",
      "\n",
      "/tmp/ipykernel_1486896/3271090702.py:71: ExperimentalWarning:\n",
      "\n",
      "upload_artifact is experimental (supported from v3.3.0). The interface can change in the future.\n",
      "\n",
      "[I 2024-07-01 01:26:02,591] Trial 271 finished with value: 0.36268842153010716 and parameters: {'lambda_l1': 0.00015244340636460182, 'lambda_l2': 9.270877913822859e-05, 'num_leaves': 236, 'feature_fraction': 0.46842323627323146, 'bagging_fraction': 0.9296235817129704, 'bagging_freq': 7, 'min_child_samples': 66}. Best is trial 149 with value: 0.38090314781964796.\n",
      "/tmp/ipykernel_1486896/3271090702.py:67: ExperimentalWarning:\n",
      "\n",
      "upload_artifact is experimental (supported from v3.3.0). The interface can change in the future.\n",
      "\n",
      "/tmp/ipykernel_1486896/3271090702.py:71: ExperimentalWarning:\n",
      "\n",
      "upload_artifact is experimental (supported from v3.3.0). The interface can change in the future.\n",
      "\n",
      "[I 2024-07-01 01:26:10,482] Trial 272 finished with value: 0.36064523920899655 and parameters: {'lambda_l1': 1.5268331781965485e-06, 'lambda_l2': 2.6551795979423654e-08, 'num_leaves': 272, 'feature_fraction': 0.9357110994280184, 'bagging_fraction': 0.885111420539249, 'bagging_freq': 8, 'min_child_samples': 34}. Best is trial 149 with value: 0.38090314781964796.\n",
      "/tmp/ipykernel_1486896/3271090702.py:67: ExperimentalWarning:\n",
      "\n",
      "upload_artifact is experimental (supported from v3.3.0). The interface can change in the future.\n",
      "\n",
      "/tmp/ipykernel_1486896/3271090702.py:71: ExperimentalWarning:\n",
      "\n",
      "upload_artifact is experimental (supported from v3.3.0). The interface can change in the future.\n",
      "\n",
      "[I 2024-07-01 01:26:15,369] Trial 273 finished with value: 0.3599764198567499 and parameters: {'lambda_l1': 6.805340420237957e-05, 'lambda_l2': 5.046586207834542e-08, 'num_leaves': 197, 'feature_fraction': 0.34299280914133123, 'bagging_fraction': 0.9544260644500402, 'bagging_freq': 9, 'min_child_samples': 71}. Best is trial 149 with value: 0.38090314781964796.\n",
      "/tmp/ipykernel_1486896/3271090702.py:67: ExperimentalWarning:\n",
      "\n",
      "upload_artifact is experimental (supported from v3.3.0). The interface can change in the future.\n",
      "\n",
      "/tmp/ipykernel_1486896/3271090702.py:71: ExperimentalWarning:\n",
      "\n",
      "upload_artifact is experimental (supported from v3.3.0). The interface can change in the future.\n",
      "\n",
      "[I 2024-07-01 01:26:25,856] Trial 274 finished with value: 0.36850752655370894 and parameters: {'lambda_l1': 3.1173929429939046e-05, 'lambda_l2': 0.06195525271526049, 'num_leaves': 253, 'feature_fraction': 0.40961244966514365, 'bagging_fraction': 0.9716801933871391, 'bagging_freq': 9, 'min_child_samples': 28}. Best is trial 149 with value: 0.38090314781964796.\n",
      "/tmp/ipykernel_1486896/3271090702.py:67: ExperimentalWarning:\n",
      "\n",
      "upload_artifact is experimental (supported from v3.3.0). The interface can change in the future.\n",
      "\n",
      "/tmp/ipykernel_1486896/3271090702.py:71: ExperimentalWarning:\n",
      "\n",
      "upload_artifact is experimental (supported from v3.3.0). The interface can change in the future.\n",
      "\n",
      "[I 2024-07-01 01:26:31,930] Trial 275 finished with value: 0.36531872231572926 and parameters: {'lambda_l1': 5.534061869597102e-07, 'lambda_l2': 0.003864539545614667, 'num_leaves': 276, 'feature_fraction': 0.3186485901213376, 'bagging_fraction': 0.9468457096627183, 'bagging_freq': 10, 'min_child_samples': 62}. Best is trial 149 with value: 0.38090314781964796.\n",
      "/tmp/ipykernel_1486896/3271090702.py:67: ExperimentalWarning:\n",
      "\n",
      "upload_artifact is experimental (supported from v3.3.0). The interface can change in the future.\n",
      "\n",
      "/tmp/ipykernel_1486896/3271090702.py:71: ExperimentalWarning:\n",
      "\n",
      "upload_artifact is experimental (supported from v3.3.0). The interface can change in the future.\n",
      "\n",
      "[I 2024-07-01 01:26:37,335] Trial 276 finished with value: 0.36670163255645394 and parameters: {'lambda_l1': 0.0009332992345844124, 'lambda_l2': 7.635015409890789e-08, 'num_leaves': 84, 'feature_fraction': 0.43295010090471425, 'bagging_fraction': 0.9278111515039753, 'bagging_freq': 9, 'min_child_samples': 58}. Best is trial 149 with value: 0.38090314781964796.\n",
      "/tmp/ipykernel_1486896/3271090702.py:67: ExperimentalWarning:\n",
      "\n",
      "upload_artifact is experimental (supported from v3.3.0). The interface can change in the future.\n",
      "\n",
      "/tmp/ipykernel_1486896/3271090702.py:71: ExperimentalWarning:\n",
      "\n",
      "upload_artifact is experimental (supported from v3.3.0). The interface can change in the future.\n",
      "\n",
      "[I 2024-07-01 01:26:43,491] Trial 277 finished with value: 0.361405103359322 and parameters: {'lambda_l1': 1.3447038947614035e-05, 'lambda_l2': 1.7213815030652926e-08, 'num_leaves': 261, 'feature_fraction': 0.4551459739731365, 'bagging_fraction': 0.9977289508419301, 'bagging_freq': 10, 'min_child_samples': 65}. Best is trial 149 with value: 0.38090314781964796.\n",
      "/tmp/ipykernel_1486896/3271090702.py:67: ExperimentalWarning:\n",
      "\n",
      "upload_artifact is experimental (supported from v3.3.0). The interface can change in the future.\n",
      "\n",
      "/tmp/ipykernel_1486896/3271090702.py:71: ExperimentalWarning:\n",
      "\n",
      "upload_artifact is experimental (supported from v3.3.0). The interface can change in the future.\n",
      "\n",
      "[I 2024-07-01 01:26:50,861] Trial 278 finished with value: 0.37190826156199136 and parameters: {'lambda_l1': 7.79502827516989e-06, 'lambda_l2': 4.6407003399034146e-07, 'num_leaves': 267, 'feature_fraction': 0.35734114080292506, 'bagging_fraction': 0.9586640327215372, 'bagging_freq': 8, 'min_child_samples': 31}. Best is trial 149 with value: 0.38090314781964796.\n",
      "/tmp/ipykernel_1486896/3271090702.py:67: ExperimentalWarning:\n",
      "\n",
      "upload_artifact is experimental (supported from v3.3.0). The interface can change in the future.\n",
      "\n",
      "/tmp/ipykernel_1486896/3271090702.py:71: ExperimentalWarning:\n",
      "\n",
      "upload_artifact is experimental (supported from v3.3.0). The interface can change in the future.\n",
      "\n",
      "[I 2024-07-01 01:26:57,433] Trial 279 finished with value: 0.37117634597292726 and parameters: {'lambda_l1': 0.00019798044072606193, 'lambda_l2': 3.48642211939383e-08, 'num_leaves': 76, 'feature_fraction': 0.4251648139244516, 'bagging_fraction': 0.9136122883756359, 'bagging_freq': 9, 'min_child_samples': 23}. Best is trial 149 with value: 0.38090314781964796.\n",
      "/tmp/ipykernel_1486896/3271090702.py:67: ExperimentalWarning:\n",
      "\n",
      "upload_artifact is experimental (supported from v3.3.0). The interface can change in the future.\n",
      "\n",
      "/tmp/ipykernel_1486896/3271090702.py:71: ExperimentalWarning:\n",
      "\n",
      "upload_artifact is experimental (supported from v3.3.0). The interface can change in the future.\n",
      "\n",
      "[I 2024-07-01 01:27:01,666] Trial 280 finished with value: 0.36605814498648026 and parameters: {'lambda_l1': 5.6118769095378584e-05, 'lambda_l2': 4.666885947682038e-05, 'num_leaves': 40, 'feature_fraction': 0.47415838570363666, 'bagging_fraction': 0.9392006257182672, 'bagging_freq': 10, 'min_child_samples': 79}. Best is trial 149 with value: 0.38090314781964796.\n",
      "/tmp/ipykernel_1486896/3271090702.py:67: ExperimentalWarning:\n",
      "\n",
      "upload_artifact is experimental (supported from v3.3.0). The interface can change in the future.\n",
      "\n",
      "/tmp/ipykernel_1486896/3271090702.py:71: ExperimentalWarning:\n",
      "\n",
      "upload_artifact is experimental (supported from v3.3.0). The interface can change in the future.\n",
      "\n",
      "[I 2024-07-01 01:27:09,446] Trial 281 finished with value: 0.3805180686347589 and parameters: {'lambda_l1': 8.647882504789647e-05, 'lambda_l2': 2.1093906551812954e-08, 'num_leaves': 203, 'feature_fraction': 0.381696510540707, 'bagging_fraction': 0.9732394647290757, 'bagging_freq': 9, 'min_child_samples': 60}. Best is trial 149 with value: 0.38090314781964796.\n",
      "/tmp/ipykernel_1486896/3271090702.py:67: ExperimentalWarning:\n",
      "\n",
      "upload_artifact is experimental (supported from v3.3.0). The interface can change in the future.\n",
      "\n",
      "/tmp/ipykernel_1486896/3271090702.py:71: ExperimentalWarning:\n",
      "\n",
      "upload_artifact is experimental (supported from v3.3.0). The interface can change in the future.\n",
      "\n",
      "[I 2024-07-01 01:27:17,445] Trial 282 finished with value: 0.3736806394889307 and parameters: {'lambda_l1': 8.454645488928209e-05, 'lambda_l2': 3.1223823143139696e-08, 'num_leaves': 204, 'feature_fraction': 0.3402342301085819, 'bagging_fraction': 0.8947233203188854, 'bagging_freq': 9, 'min_child_samples': 60}. Best is trial 149 with value: 0.38090314781964796.\n",
      "/tmp/ipykernel_1486896/3271090702.py:67: ExperimentalWarning:\n",
      "\n",
      "upload_artifact is experimental (supported from v3.3.0). The interface can change in the future.\n",
      "\n",
      "/tmp/ipykernel_1486896/3271090702.py:71: ExperimentalWarning:\n",
      "\n",
      "upload_artifact is experimental (supported from v3.3.0). The interface can change in the future.\n",
      "\n",
      "[I 2024-07-01 01:27:21,998] Trial 283 finished with value: 0.37090576203584663 and parameters: {'lambda_l1': 0.00011636083041977632, 'lambda_l2': 0.18967510589342781, 'num_leaves': 29, 'feature_fraction': 0.4469978211835916, 'bagging_fraction': 0.9670013194864854, 'bagging_freq': 9, 'min_child_samples': 54}. Best is trial 149 with value: 0.38090314781964796.\n",
      "/tmp/ipykernel_1486896/3271090702.py:67: ExperimentalWarning:\n",
      "\n",
      "upload_artifact is experimental (supported from v3.3.0). The interface can change in the future.\n",
      "\n",
      "/tmp/ipykernel_1486896/3271090702.py:71: ExperimentalWarning:\n",
      "\n",
      "upload_artifact is experimental (supported from v3.3.0). The interface can change in the future.\n",
      "\n",
      "[I 2024-07-01 01:27:30,747] Trial 284 finished with value: 0.3691993878539691 and parameters: {'lambda_l1': 0.000495333757946473, 'lambda_l2': 1.3986483328257937e-07, 'num_leaves': 193, 'feature_fraction': 0.38408820114850495, 'bagging_fraction': 0.9492638454300739, 'bagging_freq': 9, 'min_child_samples': 58}. Best is trial 149 with value: 0.38090314781964796.\n",
      "/tmp/ipykernel_1486896/3271090702.py:67: ExperimentalWarning:\n",
      "\n",
      "upload_artifact is experimental (supported from v3.3.0). The interface can change in the future.\n",
      "\n",
      "/tmp/ipykernel_1486896/3271090702.py:71: ExperimentalWarning:\n",
      "\n",
      "upload_artifact is experimental (supported from v3.3.0). The interface can change in the future.\n",
      "\n",
      "[I 2024-07-01 01:27:38,118] Trial 285 finished with value: 0.3741067710999074 and parameters: {'lambda_l1': 0.0013933063253708119, 'lambda_l2': 2.0119921712662842e-08, 'num_leaves': 212, 'feature_fraction': 0.4122502541577898, 'bagging_fraction': 0.9233966640238002, 'bagging_freq': 9, 'min_child_samples': 63}. Best is trial 149 with value: 0.38090314781964796.\n",
      "/tmp/ipykernel_1486896/3271090702.py:67: ExperimentalWarning:\n",
      "\n",
      "upload_artifact is experimental (supported from v3.3.0). The interface can change in the future.\n",
      "\n",
      "/tmp/ipykernel_1486896/3271090702.py:71: ExperimentalWarning:\n",
      "\n",
      "upload_artifact is experimental (supported from v3.3.0). The interface can change in the future.\n",
      "\n",
      "[I 2024-07-01 01:27:43,282] Trial 286 finished with value: 0.3685362281428768 and parameters: {'lambda_l1': 0.00027047838838325925, 'lambda_l2': 6.558783512698506e-08, 'num_leaves': 203, 'feature_fraction': 0.31142440845850383, 'bagging_fraction': 0.9744985262872305, 'bagging_freq': 9, 'min_child_samples': 61}. Best is trial 149 with value: 0.38090314781964796.\n",
      "/tmp/ipykernel_1486896/3271090702.py:67: ExperimentalWarning:\n",
      "\n",
      "upload_artifact is experimental (supported from v3.3.0). The interface can change in the future.\n",
      "\n",
      "/tmp/ipykernel_1486896/3271090702.py:71: ExperimentalWarning:\n",
      "\n",
      "upload_artifact is experimental (supported from v3.3.0). The interface can change in the future.\n",
      "\n",
      "[I 2024-07-01 01:27:50,400] Trial 287 finished with value: 0.37664104293662526 and parameters: {'lambda_l1': 9.97927711248271e-05, 'lambda_l2': 4.4384050244324204e-08, 'num_leaves': 227, 'feature_fraction': 0.3684212566457099, 'bagging_fraction': 0.9386114728721591, 'bagging_freq': 10, 'min_child_samples': 64}. Best is trial 149 with value: 0.38090314781964796.\n",
      "/tmp/ipykernel_1486896/3271090702.py:67: ExperimentalWarning:\n",
      "\n",
      "upload_artifact is experimental (supported from v3.3.0). The interface can change in the future.\n",
      "\n",
      "/tmp/ipykernel_1486896/3271090702.py:71: ExperimentalWarning:\n",
      "\n",
      "upload_artifact is experimental (supported from v3.3.0). The interface can change in the future.\n",
      "\n",
      "[I 2024-07-01 01:27:57,734] Trial 288 finished with value: 0.3705432739659334 and parameters: {'lambda_l1': 9.19818876887944e-05, 'lambda_l2': 1.0064262564672958e-08, 'num_leaves': 220, 'feature_fraction': 0.3757689429871913, 'bagging_fraction': 0.9389451720825458, 'bagging_freq': 10, 'min_child_samples': 64}. Best is trial 149 with value: 0.38090314781964796.\n",
      "/tmp/ipykernel_1486896/3271090702.py:67: ExperimentalWarning:\n",
      "\n",
      "upload_artifact is experimental (supported from v3.3.0). The interface can change in the future.\n",
      "\n",
      "/tmp/ipykernel_1486896/3271090702.py:71: ExperimentalWarning:\n",
      "\n",
      "upload_artifact is experimental (supported from v3.3.0). The interface can change in the future.\n",
      "\n",
      "[I 2024-07-01 01:28:03,517] Trial 289 finished with value: 0.3696279160326722 and parameters: {'lambda_l1': 0.00015141422024599857, 'lambda_l2': 4.173856479311693e-08, 'num_leaves': 224, 'feature_fraction': 0.3533191451165906, 'bagging_fraction': 0.9068129127688684, 'bagging_freq': 10, 'min_child_samples': 66}. Best is trial 149 with value: 0.38090314781964796.\n",
      "/tmp/ipykernel_1486896/3271090702.py:67: ExperimentalWarning:\n",
      "\n",
      "upload_artifact is experimental (supported from v3.3.0). The interface can change in the future.\n",
      "\n",
      "/tmp/ipykernel_1486896/3271090702.py:71: ExperimentalWarning:\n",
      "\n",
      "upload_artifact is experimental (supported from v3.3.0). The interface can change in the future.\n",
      "\n",
      "[I 2024-07-01 01:28:12,149] Trial 290 finished with value: 0.376503250338295 and parameters: {'lambda_l1': 0.0001919960409556987, 'lambda_l2': 2.5889326647958237e-08, 'num_leaves': 246, 'feature_fraction': 0.32872784998104, 'bagging_fraction': 0.9547702789366297, 'bagging_freq': 10, 'min_child_samples': 56}. Best is trial 149 with value: 0.38090314781964796.\n",
      "/tmp/ipykernel_1486896/3271090702.py:67: ExperimentalWarning:\n",
      "\n",
      "upload_artifact is experimental (supported from v3.3.0). The interface can change in the future.\n",
      "\n",
      "/tmp/ipykernel_1486896/3271090702.py:71: ExperimentalWarning:\n",
      "\n",
      "upload_artifact is experimental (supported from v3.3.0). The interface can change in the future.\n",
      "\n",
      "[I 2024-07-01 01:28:16,661] Trial 291 finished with value: 0.3424777634054558 and parameters: {'lambda_l1': 6.537167302115055e-05, 'lambda_l2': 1.6510703591514632e-08, 'num_leaves': 239, 'feature_fraction': 0.33353156344716856, 'bagging_fraction': 0.3149957709058428, 'bagging_freq': 10, 'min_child_samples': 56}. Best is trial 149 with value: 0.38090314781964796.\n",
      "/tmp/ipykernel_1486896/3271090702.py:67: ExperimentalWarning:\n",
      "\n",
      "upload_artifact is experimental (supported from v3.3.0). The interface can change in the future.\n",
      "\n",
      "/tmp/ipykernel_1486896/3271090702.py:71: ExperimentalWarning:\n",
      "\n",
      "upload_artifact is experimental (supported from v3.3.0). The interface can change in the future.\n",
      "\n",
      "[I 2024-07-01 01:28:23,830] Trial 292 finished with value: 0.3709523224295882 and parameters: {'lambda_l1': 0.00010656148546745512, 'lambda_l2': 2.6197106370514406e-08, 'num_leaves': 248, 'feature_fraction': 0.366898513547433, 'bagging_fraction': 0.9298732390795532, 'bagging_freq': 10, 'min_child_samples': 55}. Best is trial 149 with value: 0.38090314781964796.\n",
      "/tmp/ipykernel_1486896/3271090702.py:67: ExperimentalWarning:\n",
      "\n",
      "upload_artifact is experimental (supported from v3.3.0). The interface can change in the future.\n",
      "\n",
      "/tmp/ipykernel_1486896/3271090702.py:71: ExperimentalWarning:\n",
      "\n",
      "upload_artifact is experimental (supported from v3.3.0). The interface can change in the future.\n",
      "\n",
      "[I 2024-07-01 01:28:32,408] Trial 293 finished with value: 0.37500225678796395 and parameters: {'lambda_l1': 0.0036365170262185717, 'lambda_l2': 0.0018170213457506367, 'num_leaves': 241, 'feature_fraction': 0.39343776593338486, 'bagging_fraction': 0.9492125373048834, 'bagging_freq': 10, 'min_child_samples': 58}. Best is trial 149 with value: 0.38090314781964796.\n",
      "/tmp/ipykernel_1486896/3271090702.py:67: ExperimentalWarning:\n",
      "\n",
      "upload_artifact is experimental (supported from v3.3.0). The interface can change in the future.\n",
      "\n",
      "/tmp/ipykernel_1486896/3271090702.py:71: ExperimentalWarning:\n",
      "\n",
      "upload_artifact is experimental (supported from v3.3.0). The interface can change in the future.\n",
      "\n",
      "[I 2024-07-01 01:28:37,254] Trial 294 finished with value: 0.3600507967210935 and parameters: {'lambda_l1': 0.019450460900598182, 'lambda_l2': 0.001957975856751037, 'num_leaves': 238, 'feature_fraction': 0.39340925503533647, 'bagging_fraction': 0.9402889026836947, 'bagging_freq': 10, 'min_child_samples': 57}. Best is trial 149 with value: 0.38090314781964796.\n",
      "/tmp/ipykernel_1486896/3271090702.py:67: ExperimentalWarning:\n",
      "\n",
      "upload_artifact is experimental (supported from v3.3.0). The interface can change in the future.\n",
      "\n",
      "/tmp/ipykernel_1486896/3271090702.py:71: ExperimentalWarning:\n",
      "\n",
      "upload_artifact is experimental (supported from v3.3.0). The interface can change in the future.\n",
      "\n",
      "[I 2024-07-01 01:28:44,632] Trial 295 finished with value: 0.36627862657888355 and parameters: {'lambda_l1': 0.005656172641654656, 'lambda_l2': 5.888269541596866e-08, 'num_leaves': 243, 'feature_fraction': 0.4033720247376864, 'bagging_fraction': 0.950455931825506, 'bagging_freq': 10, 'min_child_samples': 53}. Best is trial 149 with value: 0.38090314781964796.\n",
      "/tmp/ipykernel_1486896/3271090702.py:67: ExperimentalWarning:\n",
      "\n",
      "upload_artifact is experimental (supported from v3.3.0). The interface can change in the future.\n",
      "\n",
      "/tmp/ipykernel_1486896/3271090702.py:71: ExperimentalWarning:\n",
      "\n",
      "upload_artifact is experimental (supported from v3.3.0). The interface can change in the future.\n",
      "\n",
      "[I 2024-07-01 01:28:52,350] Trial 296 finished with value: 0.3659257752617352 and parameters: {'lambda_l1': 3.730137281519579e-05, 'lambda_l2': 6.56157082090395e-05, 'num_leaves': 234, 'feature_fraction': 0.4202129222225435, 'bagging_fraction': 0.9605788203677826, 'bagging_freq': 10, 'min_child_samples': 58}. Best is trial 149 with value: 0.38090314781964796.\n",
      "/tmp/ipykernel_1486896/3271090702.py:67: ExperimentalWarning:\n",
      "\n",
      "upload_artifact is experimental (supported from v3.3.0). The interface can change in the future.\n",
      "\n",
      "/tmp/ipykernel_1486896/3271090702.py:71: ExperimentalWarning:\n",
      "\n",
      "upload_artifact is experimental (supported from v3.3.0). The interface can change in the future.\n",
      "\n",
      "[I 2024-07-01 01:29:01,095] Trial 297 finished with value: 0.3747724133004045 and parameters: {'lambda_l1': 5.25773628578176e-05, 'lambda_l2': 0.0005694377339875144, 'num_leaves': 227, 'feature_fraction': 0.3923271425902731, 'bagging_fraction': 0.9801369544580585, 'bagging_freq': 10, 'min_child_samples': 59}. Best is trial 149 with value: 0.38090314781964796.\n",
      "/tmp/ipykernel_1486896/3271090702.py:67: ExperimentalWarning:\n",
      "\n",
      "upload_artifact is experimental (supported from v3.3.0). The interface can change in the future.\n",
      "\n",
      "/tmp/ipykernel_1486896/3271090702.py:71: ExperimentalWarning:\n",
      "\n",
      "upload_artifact is experimental (supported from v3.3.0). The interface can change in the future.\n",
      "\n",
      "[I 2024-07-01 01:29:06,510] Trial 298 finished with value: 0.36575838411872136 and parameters: {'lambda_l1': 0.0024365423246089763, 'lambda_l2': 0.00042950651401858943, 'num_leaves': 245, 'feature_fraction': 0.38287856397524406, 'bagging_fraction': 0.9481967967117483, 'bagging_freq': 10, 'min_child_samples': 93}. Best is trial 149 with value: 0.38090314781964796.\n",
      "/tmp/ipykernel_1486896/3271090702.py:67: ExperimentalWarning:\n",
      "\n",
      "upload_artifact is experimental (supported from v3.3.0). The interface can change in the future.\n",
      "\n",
      "/tmp/ipykernel_1486896/3271090702.py:71: ExperimentalWarning:\n",
      "\n",
      "upload_artifact is experimental (supported from v3.3.0). The interface can change in the future.\n",
      "\n",
      "[I 2024-07-01 01:29:12,990] Trial 299 finished with value: 0.36597116667226054 and parameters: {'lambda_l1': 4.471436230094725e-05, 'lambda_l2': 0.0008048916873300397, 'num_leaves': 225, 'feature_fraction': 0.40028317169778804, 'bagging_fraction': 0.9743988556946382, 'bagging_freq': 10, 'min_child_samples': 55}. Best is trial 149 with value: 0.38090314781964796.\n"
     ]
    }
   ],
   "source": [
    "# Optimización de Hiperparámetros con Optuna\n",
    "def lgb_objective(trial):\n",
    "    lgb_params = {\n",
    "        'objective': 'multiclass',\n",
    "        'verbosity': -1,\n",
    "        'num_class': len(y_train.unique()),\n",
    "        'lambda_l1': trial.suggest_float('lambda_l1', 1e-8, 10.0, log=True),\n",
    "        'lambda_l2': trial.suggest_float('lambda_l2', 1e-8, 10.0, log=True),\n",
    "        'num_leaves': trial.suggest_int('num_leaves', 10, 300),  # Ampliado\n",
    "        'feature_fraction': trial.suggest_float('feature_fraction', 0.3, 1.0),  # Ampliado\n",
    "        'bagging_fraction': trial.suggest_float('bagging_fraction', 0.3, 1.0),  # Ampliado\n",
    "        'bagging_freq': trial.suggest_int('bagging_freq', 1, 10),  # Ampliado\n",
    "        'min_child_samples': trial.suggest_int('min_child_samples', 5, 100),  # Ampliado\n",
    "    }\n",
    "    \n",
    "    lgb_train_dataset = lgb.Dataset(data=X_train, label=y_train)\n",
    "    lgb_model = lgb.train(lgb_params, lgb_train_dataset)\n",
    "    \n",
    "    return cohen_kappa_score(y_test, lgb_model.predict(X_test).argmax(axis=1), weights='quadratic')\n",
    "\n",
    "# Función para Cross-Validation y Early Stopping\n",
    "def lgb_custom_metric_kappa(dy_pred, dy_true):\n",
    "    metric_name = 'kappa'\n",
    "    value = cohen_kappa_score(dy_true.get_label(), dy_pred.argmax(axis=1), weights='quadratic')\n",
    "    is_higher_better = True\n",
    "    return metric_name, value, is_higher_better\n",
    "\n",
    "def cv_es_lgb_objective(trial):\n",
    "    lgb_params = {\n",
    "        'objective': 'multiclass',\n",
    "        'verbosity': -1,\n",
    "        'num_class': len(y_train.unique()),\n",
    "        'lambda_l1': trial.suggest_float('lambda_l1', 1e-8, 10.0, log=True),\n",
    "        'lambda_l2': trial.suggest_float('lambda_l2', 1e-8, 10.0, log=True),\n",
    "        'num_leaves': trial.suggest_int('num_leaves', 10, 300),  # Ampliado\n",
    "        'feature_fraction': trial.suggest_float('feature_fraction', 0.3, 1.0),  # Ampliado\n",
    "        'bagging_fraction': trial.suggest_float('bagging_fraction', 0.3, 1.0),  # Ampliado\n",
    "        'bagging_freq': trial.suggest_int('bagging_freq', 1, 10),  # Ampliado\n",
    "        'min_child_samples': trial.suggest_int('min_child_samples', 5, 100),  # Ampliado\n",
    "    }\n",
    "\n",
    "    scores_ensemble = np.zeros((len(y_test), len(y_train.unique())))\n",
    "    score_folds = 0\n",
    "    n_splits = 5\n",
    "\n",
    "    skf = StratifiedKFold(n_splits=n_splits)\n",
    "\n",
    "    for i, (if_index, oof_index) in enumerate(skf.split(X_train, y_train)):\n",
    "        lgb_if_dataset = lgb.Dataset(data=X_train.iloc[if_index], label=y_train.iloc[if_index], free_raw_data=False)\n",
    "        lgb_oof_dataset = lgb.Dataset(data=X_train.iloc[oof_index], label=y_train.iloc[oof_index], free_raw_data=False)\n",
    "\n",
    "        lgb_model = lgb.train(\n",
    "            lgb_params,\n",
    "            lgb_if_dataset,\n",
    "            valid_sets=lgb_oof_dataset,\n",
    "            callbacks=[lgb.early_stopping(10, verbose=False)],\n",
    "            feval=lgb_custom_metric_kappa\n",
    "        )\n",
    "\n",
    "        scores_ensemble += lgb_model.predict(X_test)\n",
    "        score_folds += cohen_kappa_score(y_train.iloc[oof_index], lgb_model.predict(X_train.iloc[oof_index]).argmax(axis=1), weights='quadratic') / n_splits\n",
    "\n",
    "    predicted_filename = os.path.join(PATH_TO_TEMP_FILES, f'test_{trial.study.study_name}_{trial.number}.joblib')\n",
    "    predicted_df = test.copy()\n",
    "    predicted_df['pred'] = [scores_ensemble[p, :] for p in range(scores_ensemble.shape[0])]\n",
    "    dump(predicted_df, predicted_filename)\n",
    "    upload_artifact(trial, predicted_filename, artifact_store)\n",
    "\n",
    "    cm_filename = os.path.join(PATH_TO_TEMP_FILES, f'cm_{trial.study.study_name}_{trial.number}.jpg')\n",
    "    plot_confusion_matrix(y_test, scores_ensemble.argmax(axis=1)).write_image(cm_filename)\n",
    "    upload_artifact(trial, cm_filename, artifact_store)\n",
    "\n",
    "    test_score = cohen_kappa_score(y_test, scores_ensemble.argmax(axis=1), weights='quadratic')\n",
    "    trial.set_user_attr(\"test_score\", test_score)\n",
    "\n",
    "    return score_folds\n",
    "\n",
    "# Crear estudio de Optuna\n",
    "study_name = \"05 - LGB Multiclass CV 03\"  # Nuevo nombre de estudio\n",
    "artifact_store = FileSystemArtifactStore(base_path=PATH_TO_OPTUNA_ARTIFACTS)\n",
    "\n",
    "study = optuna.create_study(direction='maximize', storage=\"sqlite:///db.sqlite3\", study_name=study_name, load_if_exists=True)\n",
    "study.optimize(cv_es_lgb_objective, n_trials=300)  # Aumentar el número de trials\n",
    "\n"
   ]
  },
  {
   "cell_type": "code",
   "execution_count": 18,
   "metadata": {},
   "outputs": [
    {
     "name": "stdout",
     "output_type": "stream",
     "text": [
      "Mejores hiperparámetros: {'lambda_l1': 7.654183591987084e-07, 'lambda_l2': 3.0021515619494636e-08, 'num_leaves': 158, 'feature_fraction': 0.43763336906780104, 'bagging_fraction': 0.979559058403628, 'bagging_freq': 9, 'min_child_samples': 35}\n",
      "[LightGBM] [Info] Auto-choosing row-wise multi-threading, the overhead of testing was 0.001183 seconds.\n",
      "You can set `force_row_wise=true` to remove the overhead.\n",
      "And if memory is not enough, you can set `force_col_wise=true`.\n",
      "[LightGBM] [Info] Total Bins 794\n",
      "[LightGBM] [Info] Number of data points in the train set: 11994, number of used features: 54\n",
      "[LightGBM] [Info] Start training from score -3.599148\n",
      "[LightGBM] [Info] Start training from score -1.579379\n",
      "[LightGBM] [Info] Start training from score -1.311924\n",
      "[LightGBM] [Info] Start training from score -1.526206\n",
      "[LightGBM] [Info] Start training from score -1.273359\n"
     ]
    }
   ],
   "source": [
    "# Obtener los mejores hiperparámetros\n",
    "best_params = study.best_params\n",
    "print(\"Mejores hiperparámetros:\", best_params)\n",
    "\n",
    "# Entrenar el modelo final con los mejores hiperparámetros\n",
    "lgb_params.update(best_params)\n",
    "lgb_train_dataset = lgb.Dataset(data=X_train, label=y_train)\n",
    "lgb_model = lgb.train(lgb_params, lgb_train_dataset)\n",
    "\n"
   ]
  },
  {
   "cell_type": "code",
   "execution_count": 19,
   "metadata": {},
   "outputs": [
    {
     "name": "stdout",
     "output_type": "stream",
     "text": [
      "Kappa: 0.34710358332995594\n",
      "Accuracy: 0.40880293431143716\n",
      "Balanced Accuracy: 0.3457452235143224\n"
     ]
    },
    {
     "data": {
      "application/vnd.plotly.v1+json": {
       "config": {
        "plotlyServerURL": "https://plot.ly"
       },
       "data": [
        {
         "type": "heatmap",
         "x": [
          0,
          1,
          2,
          3,
          4
         ],
         "y": [
          0,
          1,
          2,
          3,
          4
         ],
         "z": [
          [
           10.975609756097562,
           34.146341463414636,
           21.951219512195124,
           12.195121951219512,
           20.73170731707317
          ],
          [
           0.8090614886731391,
           34.627831715210355,
           33.65695792880259,
           14.077669902912621,
           16.828478964401295
          ],
          [
           0.12391573729863693,
           22.676579925650557,
           38.53779429987608,
           16.356877323420075,
           22.304832713754646
          ],
          [
           0,
           17.94478527607362,
           28.987730061349694,
           28.37423312883436,
           24.69325153374233
          ],
          [
           0,
           10.952380952380953,
           18.452380952380953,
           10.238095238095237,
           60.357142857142854
          ]
         ]
        }
       ],
       "layout": {
        "annotations": [
         {
          "font": {
           "color": "white"
          },
          "showarrow": false,
          "text": "11.0 - 9",
          "x": 0,
          "xref": "x",
          "y": 0,
          "yref": "y"
         },
         {
          "font": {
           "color": "white"
          },
          "showarrow": false,
          "text": "34.1 - 28",
          "x": 1,
          "xref": "x",
          "y": 0,
          "yref": "y"
         },
         {
          "font": {
           "color": "white"
          },
          "showarrow": false,
          "text": "22.0 - 18",
          "x": 2,
          "xref": "x",
          "y": 0,
          "yref": "y"
         },
         {
          "font": {
           "color": "white"
          },
          "showarrow": false,
          "text": "12.2 - 10",
          "x": 3,
          "xref": "x",
          "y": 0,
          "yref": "y"
         },
         {
          "font": {
           "color": "white"
          },
          "showarrow": false,
          "text": "20.7 - 17",
          "x": 4,
          "xref": "x",
          "y": 0,
          "yref": "y"
         },
         {
          "font": {
           "color": "white"
          },
          "showarrow": false,
          "text": "0.8 - 5",
          "x": 0,
          "xref": "x",
          "y": 1,
          "yref": "y"
         },
         {
          "font": {
           "color": "white"
          },
          "showarrow": false,
          "text": "34.6 - 214",
          "x": 1,
          "xref": "x",
          "y": 1,
          "yref": "y"
         },
         {
          "font": {
           "color": "white"
          },
          "showarrow": false,
          "text": "33.7 - 208",
          "x": 2,
          "xref": "x",
          "y": 1,
          "yref": "y"
         },
         {
          "font": {
           "color": "white"
          },
          "showarrow": false,
          "text": "14.1 - 87",
          "x": 3,
          "xref": "x",
          "y": 1,
          "yref": "y"
         },
         {
          "font": {
           "color": "white"
          },
          "showarrow": false,
          "text": "16.8 - 104",
          "x": 4,
          "xref": "x",
          "y": 1,
          "yref": "y"
         },
         {
          "font": {
           "color": "white"
          },
          "showarrow": false,
          "text": "0.1 - 1",
          "x": 0,
          "xref": "x",
          "y": 2,
          "yref": "y"
         },
         {
          "font": {
           "color": "white"
          },
          "showarrow": false,
          "text": "22.7 - 183",
          "x": 1,
          "xref": "x",
          "y": 2,
          "yref": "y"
         },
         {
          "font": {
           "color": "white"
          },
          "showarrow": false,
          "text": "38.5 - 311",
          "x": 2,
          "xref": "x",
          "y": 2,
          "yref": "y"
         },
         {
          "font": {
           "color": "white"
          },
          "showarrow": false,
          "text": "16.4 - 132",
          "x": 3,
          "xref": "x",
          "y": 2,
          "yref": "y"
         },
         {
          "font": {
           "color": "white"
          },
          "showarrow": false,
          "text": "22.3 - 180",
          "x": 4,
          "xref": "x",
          "y": 2,
          "yref": "y"
         },
         {
          "font": {
           "color": "white"
          },
          "showarrow": false,
          "text": "0.0 - 0",
          "x": 0,
          "xref": "x",
          "y": 3,
          "yref": "y"
         },
         {
          "font": {
           "color": "white"
          },
          "showarrow": false,
          "text": "17.9 - 117",
          "x": 1,
          "xref": "x",
          "y": 3,
          "yref": "y"
         },
         {
          "font": {
           "color": "white"
          },
          "showarrow": false,
          "text": "29.0 - 189",
          "x": 2,
          "xref": "x",
          "y": 3,
          "yref": "y"
         },
         {
          "font": {
           "color": "white"
          },
          "showarrow": false,
          "text": "28.4 - 185",
          "x": 3,
          "xref": "x",
          "y": 3,
          "yref": "y"
         },
         {
          "font": {
           "color": "white"
          },
          "showarrow": false,
          "text": "24.7 - 161",
          "x": 4,
          "xref": "x",
          "y": 3,
          "yref": "y"
         },
         {
          "font": {
           "color": "white"
          },
          "showarrow": false,
          "text": "0.0 - 0",
          "x": 0,
          "xref": "x",
          "y": 4,
          "yref": "y"
         },
         {
          "font": {
           "color": "white"
          },
          "showarrow": false,
          "text": "11.0 - 92",
          "x": 1,
          "xref": "x",
          "y": 4,
          "yref": "y"
         },
         {
          "font": {
           "color": "white"
          },
          "showarrow": false,
          "text": "18.5 - 155",
          "x": 2,
          "xref": "x",
          "y": 4,
          "yref": "y"
         },
         {
          "font": {
           "color": "white"
          },
          "showarrow": false,
          "text": "10.2 - 86",
          "x": 3,
          "xref": "x",
          "y": 4,
          "yref": "y"
         },
         {
          "font": {
           "color": "white"
          },
          "showarrow": false,
          "text": "60.4 - 507",
          "x": 4,
          "xref": "x",
          "y": 4,
          "yref": "y"
         }
        ],
        "height": 800,
        "template": {
         "data": {
          "bar": [
           {
            "error_x": {
             "color": "#2a3f5f"
            },
            "error_y": {
             "color": "#2a3f5f"
            },
            "marker": {
             "line": {
              "color": "#E5ECF6",
              "width": 0.5
             },
             "pattern": {
              "fillmode": "overlay",
              "size": 10,
              "solidity": 0.2
             }
            },
            "type": "bar"
           }
          ],
          "barpolar": [
           {
            "marker": {
             "line": {
              "color": "#E5ECF6",
              "width": 0.5
             },
             "pattern": {
              "fillmode": "overlay",
              "size": 10,
              "solidity": 0.2
             }
            },
            "type": "barpolar"
           }
          ],
          "carpet": [
           {
            "aaxis": {
             "endlinecolor": "#2a3f5f",
             "gridcolor": "white",
             "linecolor": "white",
             "minorgridcolor": "white",
             "startlinecolor": "#2a3f5f"
            },
            "baxis": {
             "endlinecolor": "#2a3f5f",
             "gridcolor": "white",
             "linecolor": "white",
             "minorgridcolor": "white",
             "startlinecolor": "#2a3f5f"
            },
            "type": "carpet"
           }
          ],
          "choropleth": [
           {
            "colorbar": {
             "outlinewidth": 0,
             "ticks": ""
            },
            "type": "choropleth"
           }
          ],
          "contour": [
           {
            "colorbar": {
             "outlinewidth": 0,
             "ticks": ""
            },
            "colorscale": [
             [
              0,
              "#0d0887"
             ],
             [
              0.1111111111111111,
              "#46039f"
             ],
             [
              0.2222222222222222,
              "#7201a8"
             ],
             [
              0.3333333333333333,
              "#9c179e"
             ],
             [
              0.4444444444444444,
              "#bd3786"
             ],
             [
              0.5555555555555556,
              "#d8576b"
             ],
             [
              0.6666666666666666,
              "#ed7953"
             ],
             [
              0.7777777777777778,
              "#fb9f3a"
             ],
             [
              0.8888888888888888,
              "#fdca26"
             ],
             [
              1,
              "#f0f921"
             ]
            ],
            "type": "contour"
           }
          ],
          "contourcarpet": [
           {
            "colorbar": {
             "outlinewidth": 0,
             "ticks": ""
            },
            "type": "contourcarpet"
           }
          ],
          "heatmap": [
           {
            "colorbar": {
             "outlinewidth": 0,
             "ticks": ""
            },
            "colorscale": [
             [
              0,
              "#0d0887"
             ],
             [
              0.1111111111111111,
              "#46039f"
             ],
             [
              0.2222222222222222,
              "#7201a8"
             ],
             [
              0.3333333333333333,
              "#9c179e"
             ],
             [
              0.4444444444444444,
              "#bd3786"
             ],
             [
              0.5555555555555556,
              "#d8576b"
             ],
             [
              0.6666666666666666,
              "#ed7953"
             ],
             [
              0.7777777777777778,
              "#fb9f3a"
             ],
             [
              0.8888888888888888,
              "#fdca26"
             ],
             [
              1,
              "#f0f921"
             ]
            ],
            "type": "heatmap"
           }
          ],
          "heatmapgl": [
           {
            "colorbar": {
             "outlinewidth": 0,
             "ticks": ""
            },
            "colorscale": [
             [
              0,
              "#0d0887"
             ],
             [
              0.1111111111111111,
              "#46039f"
             ],
             [
              0.2222222222222222,
              "#7201a8"
             ],
             [
              0.3333333333333333,
              "#9c179e"
             ],
             [
              0.4444444444444444,
              "#bd3786"
             ],
             [
              0.5555555555555556,
              "#d8576b"
             ],
             [
              0.6666666666666666,
              "#ed7953"
             ],
             [
              0.7777777777777778,
              "#fb9f3a"
             ],
             [
              0.8888888888888888,
              "#fdca26"
             ],
             [
              1,
              "#f0f921"
             ]
            ],
            "type": "heatmapgl"
           }
          ],
          "histogram": [
           {
            "marker": {
             "pattern": {
              "fillmode": "overlay",
              "size": 10,
              "solidity": 0.2
             }
            },
            "type": "histogram"
           }
          ],
          "histogram2d": [
           {
            "colorbar": {
             "outlinewidth": 0,
             "ticks": ""
            },
            "colorscale": [
             [
              0,
              "#0d0887"
             ],
             [
              0.1111111111111111,
              "#46039f"
             ],
             [
              0.2222222222222222,
              "#7201a8"
             ],
             [
              0.3333333333333333,
              "#9c179e"
             ],
             [
              0.4444444444444444,
              "#bd3786"
             ],
             [
              0.5555555555555556,
              "#d8576b"
             ],
             [
              0.6666666666666666,
              "#ed7953"
             ],
             [
              0.7777777777777778,
              "#fb9f3a"
             ],
             [
              0.8888888888888888,
              "#fdca26"
             ],
             [
              1,
              "#f0f921"
             ]
            ],
            "type": "histogram2d"
           }
          ],
          "histogram2dcontour": [
           {
            "colorbar": {
             "outlinewidth": 0,
             "ticks": ""
            },
            "colorscale": [
             [
              0,
              "#0d0887"
             ],
             [
              0.1111111111111111,
              "#46039f"
             ],
             [
              0.2222222222222222,
              "#7201a8"
             ],
             [
              0.3333333333333333,
              "#9c179e"
             ],
             [
              0.4444444444444444,
              "#bd3786"
             ],
             [
              0.5555555555555556,
              "#d8576b"
             ],
             [
              0.6666666666666666,
              "#ed7953"
             ],
             [
              0.7777777777777778,
              "#fb9f3a"
             ],
             [
              0.8888888888888888,
              "#fdca26"
             ],
             [
              1,
              "#f0f921"
             ]
            ],
            "type": "histogram2dcontour"
           }
          ],
          "mesh3d": [
           {
            "colorbar": {
             "outlinewidth": 0,
             "ticks": ""
            },
            "type": "mesh3d"
           }
          ],
          "parcoords": [
           {
            "line": {
             "colorbar": {
              "outlinewidth": 0,
              "ticks": ""
             }
            },
            "type": "parcoords"
           }
          ],
          "pie": [
           {
            "automargin": true,
            "type": "pie"
           }
          ],
          "scatter": [
           {
            "fillpattern": {
             "fillmode": "overlay",
             "size": 10,
             "solidity": 0.2
            },
            "type": "scatter"
           }
          ],
          "scatter3d": [
           {
            "line": {
             "colorbar": {
              "outlinewidth": 0,
              "ticks": ""
             }
            },
            "marker": {
             "colorbar": {
              "outlinewidth": 0,
              "ticks": ""
             }
            },
            "type": "scatter3d"
           }
          ],
          "scattercarpet": [
           {
            "marker": {
             "colorbar": {
              "outlinewidth": 0,
              "ticks": ""
             }
            },
            "type": "scattercarpet"
           }
          ],
          "scattergeo": [
           {
            "marker": {
             "colorbar": {
              "outlinewidth": 0,
              "ticks": ""
             }
            },
            "type": "scattergeo"
           }
          ],
          "scattergl": [
           {
            "marker": {
             "colorbar": {
              "outlinewidth": 0,
              "ticks": ""
             }
            },
            "type": "scattergl"
           }
          ],
          "scattermapbox": [
           {
            "marker": {
             "colorbar": {
              "outlinewidth": 0,
              "ticks": ""
             }
            },
            "type": "scattermapbox"
           }
          ],
          "scatterpolar": [
           {
            "marker": {
             "colorbar": {
              "outlinewidth": 0,
              "ticks": ""
             }
            },
            "type": "scatterpolar"
           }
          ],
          "scatterpolargl": [
           {
            "marker": {
             "colorbar": {
              "outlinewidth": 0,
              "ticks": ""
             }
            },
            "type": "scatterpolargl"
           }
          ],
          "scatterternary": [
           {
            "marker": {
             "colorbar": {
              "outlinewidth": 0,
              "ticks": ""
             }
            },
            "type": "scatterternary"
           }
          ],
          "surface": [
           {
            "colorbar": {
             "outlinewidth": 0,
             "ticks": ""
            },
            "colorscale": [
             [
              0,
              "#0d0887"
             ],
             [
              0.1111111111111111,
              "#46039f"
             ],
             [
              0.2222222222222222,
              "#7201a8"
             ],
             [
              0.3333333333333333,
              "#9c179e"
             ],
             [
              0.4444444444444444,
              "#bd3786"
             ],
             [
              0.5555555555555556,
              "#d8576b"
             ],
             [
              0.6666666666666666,
              "#ed7953"
             ],
             [
              0.7777777777777778,
              "#fb9f3a"
             ],
             [
              0.8888888888888888,
              "#fdca26"
             ],
             [
              1,
              "#f0f921"
             ]
            ],
            "type": "surface"
           }
          ],
          "table": [
           {
            "cells": {
             "fill": {
              "color": "#EBF0F8"
             },
             "line": {
              "color": "white"
             }
            },
            "header": {
             "fill": {
              "color": "#C8D4E3"
             },
             "line": {
              "color": "white"
             }
            },
            "type": "table"
           }
          ]
         },
         "layout": {
          "annotationdefaults": {
           "arrowcolor": "#2a3f5f",
           "arrowhead": 0,
           "arrowwidth": 1
          },
          "autotypenumbers": "strict",
          "coloraxis": {
           "colorbar": {
            "outlinewidth": 0,
            "ticks": ""
           }
          },
          "colorscale": {
           "diverging": [
            [
             0,
             "#8e0152"
            ],
            [
             0.1,
             "#c51b7d"
            ],
            [
             0.2,
             "#de77ae"
            ],
            [
             0.3,
             "#f1b6da"
            ],
            [
             0.4,
             "#fde0ef"
            ],
            [
             0.5,
             "#f7f7f7"
            ],
            [
             0.6,
             "#e6f5d0"
            ],
            [
             0.7,
             "#b8e186"
            ],
            [
             0.8,
             "#7fbc41"
            ],
            [
             0.9,
             "#4d9221"
            ],
            [
             1,
             "#276419"
            ]
           ],
           "sequential": [
            [
             0,
             "#0d0887"
            ],
            [
             0.1111111111111111,
             "#46039f"
            ],
            [
             0.2222222222222222,
             "#7201a8"
            ],
            [
             0.3333333333333333,
             "#9c179e"
            ],
            [
             0.4444444444444444,
             "#bd3786"
            ],
            [
             0.5555555555555556,
             "#d8576b"
            ],
            [
             0.6666666666666666,
             "#ed7953"
            ],
            [
             0.7777777777777778,
             "#fb9f3a"
            ],
            [
             0.8888888888888888,
             "#fdca26"
            ],
            [
             1,
             "#f0f921"
            ]
           ],
           "sequentialminus": [
            [
             0,
             "#0d0887"
            ],
            [
             0.1111111111111111,
             "#46039f"
            ],
            [
             0.2222222222222222,
             "#7201a8"
            ],
            [
             0.3333333333333333,
             "#9c179e"
            ],
            [
             0.4444444444444444,
             "#bd3786"
            ],
            [
             0.5555555555555556,
             "#d8576b"
            ],
            [
             0.6666666666666666,
             "#ed7953"
            ],
            [
             0.7777777777777778,
             "#fb9f3a"
            ],
            [
             0.8888888888888888,
             "#fdca26"
            ],
            [
             1,
             "#f0f921"
            ]
           ]
          },
          "colorway": [
           "#636efa",
           "#EF553B",
           "#00cc96",
           "#ab63fa",
           "#FFA15A",
           "#19d3f3",
           "#FF6692",
           "#B6E880",
           "#FF97FF",
           "#FECB52"
          ],
          "font": {
           "color": "#2a3f5f"
          },
          "geo": {
           "bgcolor": "white",
           "lakecolor": "white",
           "landcolor": "#E5ECF6",
           "showlakes": true,
           "showland": true,
           "subunitcolor": "white"
          },
          "hoverlabel": {
           "align": "left"
          },
          "hovermode": "closest",
          "mapbox": {
           "style": "light"
          },
          "paper_bgcolor": "white",
          "plot_bgcolor": "#E5ECF6",
          "polar": {
           "angularaxis": {
            "gridcolor": "white",
            "linecolor": "white",
            "ticks": ""
           },
           "bgcolor": "#E5ECF6",
           "radialaxis": {
            "gridcolor": "white",
            "linecolor": "white",
            "ticks": ""
           }
          },
          "scene": {
           "xaxis": {
            "backgroundcolor": "#E5ECF6",
            "gridcolor": "white",
            "gridwidth": 2,
            "linecolor": "white",
            "showbackground": true,
            "ticks": "",
            "zerolinecolor": "white"
           },
           "yaxis": {
            "backgroundcolor": "#E5ECF6",
            "gridcolor": "white",
            "gridwidth": 2,
            "linecolor": "white",
            "showbackground": true,
            "ticks": "",
            "zerolinecolor": "white"
           },
           "zaxis": {
            "backgroundcolor": "#E5ECF6",
            "gridcolor": "white",
            "gridwidth": 2,
            "linecolor": "white",
            "showbackground": true,
            "ticks": "",
            "zerolinecolor": "white"
           }
          },
          "shapedefaults": {
           "line": {
            "color": "#2a3f5f"
           }
          },
          "ternary": {
           "aaxis": {
            "gridcolor": "white",
            "linecolor": "white",
            "ticks": ""
           },
           "baxis": {
            "gridcolor": "white",
            "linecolor": "white",
            "ticks": ""
           },
           "bgcolor": "#E5ECF6",
           "caxis": {
            "gridcolor": "white",
            "linecolor": "white",
            "ticks": ""
           }
          },
          "title": {
           "x": 0.05
          },
          "xaxis": {
           "automargin": true,
           "gridcolor": "white",
           "linecolor": "white",
           "ticks": "",
           "title": {
            "standoff": 15
           },
           "zerolinecolor": "white",
           "zerolinewidth": 2
          },
          "yaxis": {
           "automargin": true,
           "gridcolor": "white",
           "linecolor": "white",
           "ticks": "",
           "title": {
            "standoff": 15
           },
           "zerolinecolor": "white",
           "zerolinewidth": 2
          }
         }
        },
        "title": {
         "text": "Conf Matrix"
        },
        "width": 800,
        "xaxis": {
         "title": {
          "text": "Predicted value"
         }
        },
        "yaxis": {
         "title": {
          "text": "Real value"
         }
        }
       }
      },
      "text/html": [
       "<div>                            <div id=\"717d8843-3601-4d39-a14d-43cf6d9806b9\" class=\"plotly-graph-div\" style=\"height:800px; width:800px;\"></div>            <script type=\"text/javascript\">                require([\"plotly\"], function(Plotly) {                    window.PLOTLYENV=window.PLOTLYENV || {};                                    if (document.getElementById(\"717d8843-3601-4d39-a14d-43cf6d9806b9\")) {                    Plotly.newPlot(                        \"717d8843-3601-4d39-a14d-43cf6d9806b9\",                        [{\"x\":[0,1,2,3,4],\"y\":[0,1,2,3,4],\"z\":[[10.975609756097562,34.146341463414636,21.951219512195124,12.195121951219512,20.73170731707317],[0.8090614886731391,34.627831715210355,33.65695792880259,14.077669902912621,16.828478964401295],[0.12391573729863693,22.676579925650557,38.53779429987608,16.356877323420075,22.304832713754646],[0.0,17.94478527607362,28.987730061349694,28.37423312883436,24.69325153374233],[0.0,10.952380952380953,18.452380952380953,10.238095238095237,60.357142857142854]],\"type\":\"heatmap\"}],                        {\"annotations\":[{\"font\":{\"color\":\"white\"},\"showarrow\":false,\"text\":\"11.0 - 9\",\"x\":0,\"xref\":\"x\",\"y\":0,\"yref\":\"y\"},{\"font\":{\"color\":\"white\"},\"showarrow\":false,\"text\":\"34.1 - 28\",\"x\":1,\"xref\":\"x\",\"y\":0,\"yref\":\"y\"},{\"font\":{\"color\":\"white\"},\"showarrow\":false,\"text\":\"22.0 - 18\",\"x\":2,\"xref\":\"x\",\"y\":0,\"yref\":\"y\"},{\"font\":{\"color\":\"white\"},\"showarrow\":false,\"text\":\"12.2 - 10\",\"x\":3,\"xref\":\"x\",\"y\":0,\"yref\":\"y\"},{\"font\":{\"color\":\"white\"},\"showarrow\":false,\"text\":\"20.7 - 17\",\"x\":4,\"xref\":\"x\",\"y\":0,\"yref\":\"y\"},{\"font\":{\"color\":\"white\"},\"showarrow\":false,\"text\":\"0.8 - 5\",\"x\":0,\"xref\":\"x\",\"y\":1,\"yref\":\"y\"},{\"font\":{\"color\":\"white\"},\"showarrow\":false,\"text\":\"34.6 - 214\",\"x\":1,\"xref\":\"x\",\"y\":1,\"yref\":\"y\"},{\"font\":{\"color\":\"white\"},\"showarrow\":false,\"text\":\"33.7 - 208\",\"x\":2,\"xref\":\"x\",\"y\":1,\"yref\":\"y\"},{\"font\":{\"color\":\"white\"},\"showarrow\":false,\"text\":\"14.1 - 87\",\"x\":3,\"xref\":\"x\",\"y\":1,\"yref\":\"y\"},{\"font\":{\"color\":\"white\"},\"showarrow\":false,\"text\":\"16.8 - 104\",\"x\":4,\"xref\":\"x\",\"y\":1,\"yref\":\"y\"},{\"font\":{\"color\":\"white\"},\"showarrow\":false,\"text\":\"0.1 - 1\",\"x\":0,\"xref\":\"x\",\"y\":2,\"yref\":\"y\"},{\"font\":{\"color\":\"white\"},\"showarrow\":false,\"text\":\"22.7 - 183\",\"x\":1,\"xref\":\"x\",\"y\":2,\"yref\":\"y\"},{\"font\":{\"color\":\"white\"},\"showarrow\":false,\"text\":\"38.5 - 311\",\"x\":2,\"xref\":\"x\",\"y\":2,\"yref\":\"y\"},{\"font\":{\"color\":\"white\"},\"showarrow\":false,\"text\":\"16.4 - 132\",\"x\":3,\"xref\":\"x\",\"y\":2,\"yref\":\"y\"},{\"font\":{\"color\":\"white\"},\"showarrow\":false,\"text\":\"22.3 - 180\",\"x\":4,\"xref\":\"x\",\"y\":2,\"yref\":\"y\"},{\"font\":{\"color\":\"white\"},\"showarrow\":false,\"text\":\"0.0 - 0\",\"x\":0,\"xref\":\"x\",\"y\":3,\"yref\":\"y\"},{\"font\":{\"color\":\"white\"},\"showarrow\":false,\"text\":\"17.9 - 117\",\"x\":1,\"xref\":\"x\",\"y\":3,\"yref\":\"y\"},{\"font\":{\"color\":\"white\"},\"showarrow\":false,\"text\":\"29.0 - 189\",\"x\":2,\"xref\":\"x\",\"y\":3,\"yref\":\"y\"},{\"font\":{\"color\":\"white\"},\"showarrow\":false,\"text\":\"28.4 - 185\",\"x\":3,\"xref\":\"x\",\"y\":3,\"yref\":\"y\"},{\"font\":{\"color\":\"white\"},\"showarrow\":false,\"text\":\"24.7 - 161\",\"x\":4,\"xref\":\"x\",\"y\":3,\"yref\":\"y\"},{\"font\":{\"color\":\"white\"},\"showarrow\":false,\"text\":\"0.0 - 0\",\"x\":0,\"xref\":\"x\",\"y\":4,\"yref\":\"y\"},{\"font\":{\"color\":\"white\"},\"showarrow\":false,\"text\":\"11.0 - 92\",\"x\":1,\"xref\":\"x\",\"y\":4,\"yref\":\"y\"},{\"font\":{\"color\":\"white\"},\"showarrow\":false,\"text\":\"18.5 - 155\",\"x\":2,\"xref\":\"x\",\"y\":4,\"yref\":\"y\"},{\"font\":{\"color\":\"white\"},\"showarrow\":false,\"text\":\"10.2 - 86\",\"x\":3,\"xref\":\"x\",\"y\":4,\"yref\":\"y\"},{\"font\":{\"color\":\"white\"},\"showarrow\":false,\"text\":\"60.4 - 507\",\"x\":4,\"xref\":\"x\",\"y\":4,\"yref\":\"y\"}],\"height\":800,\"title\":{\"text\":\"Conf Matrix\"},\"width\":800,\"xaxis\":{\"title\":{\"text\":\"Predicted value\"}},\"yaxis\":{\"title\":{\"text\":\"Real value\"}},\"template\":{\"data\":{\"histogram2dcontour\":[{\"type\":\"histogram2dcontour\",\"colorbar\":{\"outlinewidth\":0,\"ticks\":\"\"},\"colorscale\":[[0.0,\"#0d0887\"],[0.1111111111111111,\"#46039f\"],[0.2222222222222222,\"#7201a8\"],[0.3333333333333333,\"#9c179e\"],[0.4444444444444444,\"#bd3786\"],[0.5555555555555556,\"#d8576b\"],[0.6666666666666666,\"#ed7953\"],[0.7777777777777778,\"#fb9f3a\"],[0.8888888888888888,\"#fdca26\"],[1.0,\"#f0f921\"]]}],\"choropleth\":[{\"type\":\"choropleth\",\"colorbar\":{\"outlinewidth\":0,\"ticks\":\"\"}}],\"histogram2d\":[{\"type\":\"histogram2d\",\"colorbar\":{\"outlinewidth\":0,\"ticks\":\"\"},\"colorscale\":[[0.0,\"#0d0887\"],[0.1111111111111111,\"#46039f\"],[0.2222222222222222,\"#7201a8\"],[0.3333333333333333,\"#9c179e\"],[0.4444444444444444,\"#bd3786\"],[0.5555555555555556,\"#d8576b\"],[0.6666666666666666,\"#ed7953\"],[0.7777777777777778,\"#fb9f3a\"],[0.8888888888888888,\"#fdca26\"],[1.0,\"#f0f921\"]]}],\"heatmap\":[{\"type\":\"heatmap\",\"colorbar\":{\"outlinewidth\":0,\"ticks\":\"\"},\"colorscale\":[[0.0,\"#0d0887\"],[0.1111111111111111,\"#46039f\"],[0.2222222222222222,\"#7201a8\"],[0.3333333333333333,\"#9c179e\"],[0.4444444444444444,\"#bd3786\"],[0.5555555555555556,\"#d8576b\"],[0.6666666666666666,\"#ed7953\"],[0.7777777777777778,\"#fb9f3a\"],[0.8888888888888888,\"#fdca26\"],[1.0,\"#f0f921\"]]}],\"heatmapgl\":[{\"type\":\"heatmapgl\",\"colorbar\":{\"outlinewidth\":0,\"ticks\":\"\"},\"colorscale\":[[0.0,\"#0d0887\"],[0.1111111111111111,\"#46039f\"],[0.2222222222222222,\"#7201a8\"],[0.3333333333333333,\"#9c179e\"],[0.4444444444444444,\"#bd3786\"],[0.5555555555555556,\"#d8576b\"],[0.6666666666666666,\"#ed7953\"],[0.7777777777777778,\"#fb9f3a\"],[0.8888888888888888,\"#fdca26\"],[1.0,\"#f0f921\"]]}],\"contourcarpet\":[{\"type\":\"contourcarpet\",\"colorbar\":{\"outlinewidth\":0,\"ticks\":\"\"}}],\"contour\":[{\"type\":\"contour\",\"colorbar\":{\"outlinewidth\":0,\"ticks\":\"\"},\"colorscale\":[[0.0,\"#0d0887\"],[0.1111111111111111,\"#46039f\"],[0.2222222222222222,\"#7201a8\"],[0.3333333333333333,\"#9c179e\"],[0.4444444444444444,\"#bd3786\"],[0.5555555555555556,\"#d8576b\"],[0.6666666666666666,\"#ed7953\"],[0.7777777777777778,\"#fb9f3a\"],[0.8888888888888888,\"#fdca26\"],[1.0,\"#f0f921\"]]}],\"surface\":[{\"type\":\"surface\",\"colorbar\":{\"outlinewidth\":0,\"ticks\":\"\"},\"colorscale\":[[0.0,\"#0d0887\"],[0.1111111111111111,\"#46039f\"],[0.2222222222222222,\"#7201a8\"],[0.3333333333333333,\"#9c179e\"],[0.4444444444444444,\"#bd3786\"],[0.5555555555555556,\"#d8576b\"],[0.6666666666666666,\"#ed7953\"],[0.7777777777777778,\"#fb9f3a\"],[0.8888888888888888,\"#fdca26\"],[1.0,\"#f0f921\"]]}],\"mesh3d\":[{\"type\":\"mesh3d\",\"colorbar\":{\"outlinewidth\":0,\"ticks\":\"\"}}],\"scatter\":[{\"fillpattern\":{\"fillmode\":\"overlay\",\"size\":10,\"solidity\":0.2},\"type\":\"scatter\"}],\"parcoords\":[{\"type\":\"parcoords\",\"line\":{\"colorbar\":{\"outlinewidth\":0,\"ticks\":\"\"}}}],\"scatterpolargl\":[{\"type\":\"scatterpolargl\",\"marker\":{\"colorbar\":{\"outlinewidth\":0,\"ticks\":\"\"}}}],\"bar\":[{\"error_x\":{\"color\":\"#2a3f5f\"},\"error_y\":{\"color\":\"#2a3f5f\"},\"marker\":{\"line\":{\"color\":\"#E5ECF6\",\"width\":0.5},\"pattern\":{\"fillmode\":\"overlay\",\"size\":10,\"solidity\":0.2}},\"type\":\"bar\"}],\"scattergeo\":[{\"type\":\"scattergeo\",\"marker\":{\"colorbar\":{\"outlinewidth\":0,\"ticks\":\"\"}}}],\"scatterpolar\":[{\"type\":\"scatterpolar\",\"marker\":{\"colorbar\":{\"outlinewidth\":0,\"ticks\":\"\"}}}],\"histogram\":[{\"marker\":{\"pattern\":{\"fillmode\":\"overlay\",\"size\":10,\"solidity\":0.2}},\"type\":\"histogram\"}],\"scattergl\":[{\"type\":\"scattergl\",\"marker\":{\"colorbar\":{\"outlinewidth\":0,\"ticks\":\"\"}}}],\"scatter3d\":[{\"type\":\"scatter3d\",\"line\":{\"colorbar\":{\"outlinewidth\":0,\"ticks\":\"\"}},\"marker\":{\"colorbar\":{\"outlinewidth\":0,\"ticks\":\"\"}}}],\"scattermapbox\":[{\"type\":\"scattermapbox\",\"marker\":{\"colorbar\":{\"outlinewidth\":0,\"ticks\":\"\"}}}],\"scatterternary\":[{\"type\":\"scatterternary\",\"marker\":{\"colorbar\":{\"outlinewidth\":0,\"ticks\":\"\"}}}],\"scattercarpet\":[{\"type\":\"scattercarpet\",\"marker\":{\"colorbar\":{\"outlinewidth\":0,\"ticks\":\"\"}}}],\"carpet\":[{\"aaxis\":{\"endlinecolor\":\"#2a3f5f\",\"gridcolor\":\"white\",\"linecolor\":\"white\",\"minorgridcolor\":\"white\",\"startlinecolor\":\"#2a3f5f\"},\"baxis\":{\"endlinecolor\":\"#2a3f5f\",\"gridcolor\":\"white\",\"linecolor\":\"white\",\"minorgridcolor\":\"white\",\"startlinecolor\":\"#2a3f5f\"},\"type\":\"carpet\"}],\"table\":[{\"cells\":{\"fill\":{\"color\":\"#EBF0F8\"},\"line\":{\"color\":\"white\"}},\"header\":{\"fill\":{\"color\":\"#C8D4E3\"},\"line\":{\"color\":\"white\"}},\"type\":\"table\"}],\"barpolar\":[{\"marker\":{\"line\":{\"color\":\"#E5ECF6\",\"width\":0.5},\"pattern\":{\"fillmode\":\"overlay\",\"size\":10,\"solidity\":0.2}},\"type\":\"barpolar\"}],\"pie\":[{\"automargin\":true,\"type\":\"pie\"}]},\"layout\":{\"autotypenumbers\":\"strict\",\"colorway\":[\"#636efa\",\"#EF553B\",\"#00cc96\",\"#ab63fa\",\"#FFA15A\",\"#19d3f3\",\"#FF6692\",\"#B6E880\",\"#FF97FF\",\"#FECB52\"],\"font\":{\"color\":\"#2a3f5f\"},\"hovermode\":\"closest\",\"hoverlabel\":{\"align\":\"left\"},\"paper_bgcolor\":\"white\",\"plot_bgcolor\":\"#E5ECF6\",\"polar\":{\"bgcolor\":\"#E5ECF6\",\"angularaxis\":{\"gridcolor\":\"white\",\"linecolor\":\"white\",\"ticks\":\"\"},\"radialaxis\":{\"gridcolor\":\"white\",\"linecolor\":\"white\",\"ticks\":\"\"}},\"ternary\":{\"bgcolor\":\"#E5ECF6\",\"aaxis\":{\"gridcolor\":\"white\",\"linecolor\":\"white\",\"ticks\":\"\"},\"baxis\":{\"gridcolor\":\"white\",\"linecolor\":\"white\",\"ticks\":\"\"},\"caxis\":{\"gridcolor\":\"white\",\"linecolor\":\"white\",\"ticks\":\"\"}},\"coloraxis\":{\"colorbar\":{\"outlinewidth\":0,\"ticks\":\"\"}},\"colorscale\":{\"sequential\":[[0.0,\"#0d0887\"],[0.1111111111111111,\"#46039f\"],[0.2222222222222222,\"#7201a8\"],[0.3333333333333333,\"#9c179e\"],[0.4444444444444444,\"#bd3786\"],[0.5555555555555556,\"#d8576b\"],[0.6666666666666666,\"#ed7953\"],[0.7777777777777778,\"#fb9f3a\"],[0.8888888888888888,\"#fdca26\"],[1.0,\"#f0f921\"]],\"sequentialminus\":[[0.0,\"#0d0887\"],[0.1111111111111111,\"#46039f\"],[0.2222222222222222,\"#7201a8\"],[0.3333333333333333,\"#9c179e\"],[0.4444444444444444,\"#bd3786\"],[0.5555555555555556,\"#d8576b\"],[0.6666666666666666,\"#ed7953\"],[0.7777777777777778,\"#fb9f3a\"],[0.8888888888888888,\"#fdca26\"],[1.0,\"#f0f921\"]],\"diverging\":[[0,\"#8e0152\"],[0.1,\"#c51b7d\"],[0.2,\"#de77ae\"],[0.3,\"#f1b6da\"],[0.4,\"#fde0ef\"],[0.5,\"#f7f7f7\"],[0.6,\"#e6f5d0\"],[0.7,\"#b8e186\"],[0.8,\"#7fbc41\"],[0.9,\"#4d9221\"],[1,\"#276419\"]]},\"xaxis\":{\"gridcolor\":\"white\",\"linecolor\":\"white\",\"ticks\":\"\",\"title\":{\"standoff\":15},\"zerolinecolor\":\"white\",\"automargin\":true,\"zerolinewidth\":2},\"yaxis\":{\"gridcolor\":\"white\",\"linecolor\":\"white\",\"ticks\":\"\",\"title\":{\"standoff\":15},\"zerolinecolor\":\"white\",\"automargin\":true,\"zerolinewidth\":2},\"scene\":{\"xaxis\":{\"backgroundcolor\":\"#E5ECF6\",\"gridcolor\":\"white\",\"linecolor\":\"white\",\"showbackground\":true,\"ticks\":\"\",\"zerolinecolor\":\"white\",\"gridwidth\":2},\"yaxis\":{\"backgroundcolor\":\"#E5ECF6\",\"gridcolor\":\"white\",\"linecolor\":\"white\",\"showbackground\":true,\"ticks\":\"\",\"zerolinecolor\":\"white\",\"gridwidth\":2},\"zaxis\":{\"backgroundcolor\":\"#E5ECF6\",\"gridcolor\":\"white\",\"linecolor\":\"white\",\"showbackground\":true,\"ticks\":\"\",\"zerolinecolor\":\"white\",\"gridwidth\":2}},\"shapedefaults\":{\"line\":{\"color\":\"#2a3f5f\"}},\"annotationdefaults\":{\"arrowcolor\":\"#2a3f5f\",\"arrowhead\":0,\"arrowwidth\":1},\"geo\":{\"bgcolor\":\"white\",\"landcolor\":\"#E5ECF6\",\"subunitcolor\":\"white\",\"showland\":true,\"showlakes\":true,\"lakecolor\":\"white\"},\"title\":{\"x\":0.05},\"mapbox\":{\"style\":\"light\"}}}},                        {\"responsive\": true}                    ).then(function(){\n",
       "                            \n",
       "var gd = document.getElementById('717d8843-3601-4d39-a14d-43cf6d9806b9');\n",
       "var x = new MutationObserver(function (mutations, observer) {{\n",
       "        var display = window.getComputedStyle(gd).display;\n",
       "        if (!display || display === 'none') {{\n",
       "            console.log([gd, 'removed!']);\n",
       "            Plotly.purge(gd);\n",
       "            observer.disconnect();\n",
       "        }}\n",
       "}});\n",
       "\n",
       "// Listen for the removal of the full notebook cells\n",
       "var notebookContainer = gd.closest('#notebook-container');\n",
       "if (notebookContainer) {{\n",
       "    x.observe(notebookContainer, {childList: true});\n",
       "}}\n",
       "\n",
       "// Listen for the clearing of the current output cell\n",
       "var outputEl = gd.closest('.output');\n",
       "if (outputEl) {{\n",
       "    x.observe(outputEl, {childList: true});\n",
       "}}\n",
       "\n",
       "                        })                };                });            </script>        </div>"
      ]
     },
     "metadata": {},
     "output_type": "display_data"
    },
    {
     "name": "stdout",
     "output_type": "stream",
     "text": [
      "Reporte de clasificación:\n",
      "               precision    recall  f1-score   support\n",
      "\n",
      "           0       0.60      0.11      0.19        82\n",
      "           1       0.34      0.35      0.34       618\n",
      "           2       0.35      0.39      0.37       807\n",
      "           3       0.37      0.28      0.32       652\n",
      "           4       0.52      0.60      0.56       840\n",
      "\n",
      "    accuracy                           0.41      2999\n",
      "   macro avg       0.44      0.35      0.36      2999\n",
      "weighted avg       0.41      0.41      0.40      2999\n",
      "\n"
     ]
    },
    {
     "data": {
      "image/png": "[encoded data removed]",
      "text/plain": [
       "<Figure size 640x480 with 1 Axes>"
      ]
     },
     "metadata": {},
     "output_type": "display_data"
    },
    {
     "name": "stdout",
     "output_type": "stream",
     "text": [
      "Total de datos en el dataset de entrenamiento: 11994\n",
      "Datos utilizados en el entrenamiento actual: 11994\n",
      "Porcentaje de datos utilizados: 100.00%\n"
     ]
    }
   ],
   "source": [
    "# Evaluar el modelo en el conjunto de prueba\n",
    "y_pred = lgb_model.predict(X_test).argmax(axis=1)\n",
    "kappa_score = cohen_kappa_score(y_test, y_pred, weights='quadratic')\n",
    "accuracy = accuracy_score(y_test, y_pred)\n",
    "balanced_accuracy = balanced_accuracy_score(y_test, y_pred)\n",
    "\n",
    "print(f'Kappa: {kappa_score}')\n",
    "print(f'Accuracy: {accuracy}')\n",
    "print(f'Balanced Accuracy: {balanced_accuracy}')\n",
    "\n",
    "# Mostrar la matriz de confusión\n",
    "display(plot_confusion_matrix(y_test, y_pred))\n",
    "\n",
    "# Información adicional del modelo\n",
    "print(\"Reporte de clasificación:\\n\", classification_report(y_test, y_pred))\n",
    "lgb.plot_importance(lgb_model)\n",
    "plt.show()\n",
    "\n",
    "# Tamaño total del dataset de entrenamiento\n",
    "total_data = X_train.shape[0]\n",
    "train_data = X_train.shape[0]\n",
    "percentage_used = (train_data / total_data) * 100\n",
    "\n",
    "print(f\"Total de datos en el dataset de entrenamiento: {total_data}\")\n",
    "print(f\"Datos utilizados en el entrenamiento actual: {train_data}\")\n",
    "print(f\"Porcentaje de datos utilizados: {percentage_used:.2f}%\")\n"
   ]
  }
 ],
 "metadata": {
  "kernelspec": {
   "display_name": "Python 3",
   "language": "python",
   "name": "python3"
  },
  "language_info": {
   "codemirror_mode": {
    "name": "ipython",
    "version": 3
   },
   "file_extension": ".py",
   "mimetype": "text/x-python",
   "name": "python",
   "nbconvert_exporter": "python",
   "pygments_lexer": "ipython3",
   "version": "3.12.4"
  }
 },
 "nbformat": 4,
 "nbformat_minor": 2
}
